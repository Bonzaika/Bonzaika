{
 "cells": [
  {
   "cell_type": "markdown",
   "metadata": {},
   "source": [
    "<div style=\"border:solid lightblue 3px; padding: 20px\">\n",
    "<b>Елена, привет!</b>\n",
    "\n",
    "Меня зовут Виталий Мехоношин, и я буду проверять твой проект. Предлагаю общаться на «ты» 😉\n",
    "\n",
    "Моя основная цель — не указать на совершенные тобою ошибки, а поделиться своим опытом и помочь тебе стать аналитиком данных. Тобой проделана большая работа над проектом, давай сделаем его еще лучше. Ниже ты найдешь мои комментарии. Есть несколько правил:<br>\n",
    "- <b>Пожалуйста, не перемещай, не изменяй и не удаляй комментарии.</b>\n",
    "- У комментариев могут быть приписки <b>V2, V3</b> и т.д., которые соответствуют версии проверки. \n",
    "- Еще обрати внимание на цветовую разметку:\n",
    "\n",
    "<div class=\"alert alert-danger\">\n",
    "<b>❌ Комментарий ревьюера:</b> \n",
    "Комментарии такого цвета необходимо исправить, без их отработки проект не будет принят. \n",
    "</div>\n",
    "\n",
    "<div class=\"alert alert-warning\">\n",
    "<b>⚠️ Комментарий ревьюера:</b> \n",
    "На комментарии такого цвета нужно обязательно обратить внимание. Их не должно быть много.\n",
    "</div>\n",
    "\n",
    "<div class=\"alert alert-success\">\n",
    "<b>✅ Комментарий ревьюера:</b> \n",
    "Комментарии такого цвета будут содержать лайфхаки, которые смогут улучшить твой верный код, их необязательно исправлять.\n",
    "</div>\n",
    "\n",
    "Предлагаю работать над проектом в диалоге: если ты хочешь ответить на мои комментарии — пиши об этом. Мне будет легче отследить изменения, если ты выделишь свои комментарии вот так:\n",
    "<div class=\"alert alert-info\"> <b>Комментарий студента:</b> Например, вот так.</div>\n",
    "\n",
    "Всё это поможет выполнить повторную проверку твоего проекта оперативнее."
   ]
  },
  {
   "cell_type": "markdown",
   "metadata": {},
   "source": [
    "<div style=\"border:solid lightblue 3px; padding: 20px\">\n",
    "<b>Общий комментарий ревьюера:</b>\n",
    "\n",
    "У тебя замечательная и очень сильная работа. Спасибо тебе большое, что ты уделила оформлению проекта особое внимание - ты не представляешь, как приятно не рыться в коде и не скролить туды сюды блокнот, чтобы найти какую-нибудь информацию. Каждый заголовок выделен, каждое рассуждение выделено, каждый пункт выделен. Так же мне очень понравилось, что ты нашла все основные инсайты в данных, чательно их обосновала и с точки зрения кода поработала над ними достаточно оптимально.\n",
    "    \n",
    "Есть небольшие нюансы с визуализацией и заполнением пропусков, но они существенно не влияют. Готов принять твой проект с первого раза. Возвращаю тебе проект, чтобы узнать, есть ли у тебя какие-нибудь вопросы😊"
   ]
  },
  {
   "cell_type": "markdown",
   "metadata": {},
   "source": [
    "<div class=\"alert alert-info\">\n",
    "<b>Комментарий студента: </b>\n",
    "<br>-Привет, Виталий! :) Ко мне на «ты»\n",
    "    Большое спасибо за хорошую рецензию. Мне приятно 😊 \n",
    "</div>"
   ]
  },
  {
   "cell_type": "markdown",
   "metadata": {},
   "source": [
    "<div style=\"border:solid lightblue 3px; padding: 20px\">\n",
    "<b>Общий комментарий ревьюера V2:</b>\n",
    "\n",
    "Работа над комментариями успешно произведена, проект принят, удачи на следующих спринтах😊 С наступающим!🎄                                                                       \n",
    "</div>"
   ]
  },
  {
   "cell_type": "markdown",
   "metadata": {},
   "source": [
    "# Исследование надёжности заёмщиков\n",
    "\n",
    "Заказчик — кредитный отдел банка. Нужно разобраться, влияет ли семейное положение и количество детей клиента на факт погашения кредита в срок. Входные данные от банка — статистика о платёжеспособности клиентов.\n",
    "\n",
    "Результаты исследования будут учтены при построении модели **кредитного скоринга** — специальной системы, которая оценивает способность потенциального заёмщика вернуть кредит банку."
   ]
  },
  {
   "cell_type": "markdown",
   "metadata": {},
   "source": [
    "## Шаг 1. Откройте файл с данными и изучите общую информацию"
   ]
  },
  {
   "cell_type": "code",
   "execution_count": 1,
   "metadata": {
    "scrolled": false
   },
   "outputs": [],
   "source": [
    "# Импортируем библиотеку pandas и прочитаем файл с исходными данными\n",
    "import pandas as pd\n",
    "data = pd.read_csv('/datasets/data.csv')"
   ]
  },
  {
   "cell_type": "code",
   "execution_count": 2,
   "metadata": {},
   "outputs": [
    {
     "name": "stdout",
     "output_type": "stream",
     "text": [
      "<class 'pandas.core.frame.DataFrame'>\n",
      "RangeIndex: 21525 entries, 0 to 21524\n",
      "Data columns (total 12 columns):\n",
      " #   Column            Non-Null Count  Dtype  \n",
      "---  ------            --------------  -----  \n",
      " 0   children          21525 non-null  int64  \n",
      " 1   days_employed     19351 non-null  float64\n",
      " 2   dob_years         21525 non-null  int64  \n",
      " 3   education         21525 non-null  object \n",
      " 4   education_id      21525 non-null  int64  \n",
      " 5   family_status     21525 non-null  object \n",
      " 6   family_status_id  21525 non-null  int64  \n",
      " 7   gender            21525 non-null  object \n",
      " 8   income_type       21525 non-null  object \n",
      " 9   debt              21525 non-null  int64  \n",
      " 10  total_income      19351 non-null  float64\n",
      " 11  purpose           21525 non-null  object \n",
      "dtypes: float64(2), int64(5), object(5)\n",
      "memory usage: 2.0+ MB\n"
     ]
    },
    {
     "data": {
      "text/html": [
       "<div>\n",
       "<style scoped>\n",
       "    .dataframe tbody tr th:only-of-type {\n",
       "        vertical-align: middle;\n",
       "    }\n",
       "\n",
       "    .dataframe tbody tr th {\n",
       "        vertical-align: top;\n",
       "    }\n",
       "\n",
       "    .dataframe thead th {\n",
       "        text-align: right;\n",
       "    }\n",
       "</style>\n",
       "<table border=\"1\" class=\"dataframe\">\n",
       "  <thead>\n",
       "    <tr style=\"text-align: right;\">\n",
       "      <th></th>\n",
       "      <th>children</th>\n",
       "      <th>days_employed</th>\n",
       "      <th>dob_years</th>\n",
       "      <th>education</th>\n",
       "      <th>education_id</th>\n",
       "      <th>family_status</th>\n",
       "      <th>family_status_id</th>\n",
       "      <th>gender</th>\n",
       "      <th>income_type</th>\n",
       "      <th>debt</th>\n",
       "      <th>total_income</th>\n",
       "      <th>purpose</th>\n",
       "    </tr>\n",
       "  </thead>\n",
       "  <tbody>\n",
       "    <tr>\n",
       "      <th>0</th>\n",
       "      <td>1</td>\n",
       "      <td>-8437.673028</td>\n",
       "      <td>42</td>\n",
       "      <td>высшее</td>\n",
       "      <td>0</td>\n",
       "      <td>женат / замужем</td>\n",
       "      <td>0</td>\n",
       "      <td>F</td>\n",
       "      <td>сотрудник</td>\n",
       "      <td>0</td>\n",
       "      <td>253875.639453</td>\n",
       "      <td>покупка жилья</td>\n",
       "    </tr>\n",
       "    <tr>\n",
       "      <th>1</th>\n",
       "      <td>1</td>\n",
       "      <td>-4024.803754</td>\n",
       "      <td>36</td>\n",
       "      <td>среднее</td>\n",
       "      <td>1</td>\n",
       "      <td>женат / замужем</td>\n",
       "      <td>0</td>\n",
       "      <td>F</td>\n",
       "      <td>сотрудник</td>\n",
       "      <td>0</td>\n",
       "      <td>112080.014102</td>\n",
       "      <td>приобретение автомобиля</td>\n",
       "    </tr>\n",
       "    <tr>\n",
       "      <th>2</th>\n",
       "      <td>0</td>\n",
       "      <td>-5623.422610</td>\n",
       "      <td>33</td>\n",
       "      <td>Среднее</td>\n",
       "      <td>1</td>\n",
       "      <td>женат / замужем</td>\n",
       "      <td>0</td>\n",
       "      <td>M</td>\n",
       "      <td>сотрудник</td>\n",
       "      <td>0</td>\n",
       "      <td>145885.952297</td>\n",
       "      <td>покупка жилья</td>\n",
       "    </tr>\n",
       "    <tr>\n",
       "      <th>3</th>\n",
       "      <td>3</td>\n",
       "      <td>-4124.747207</td>\n",
       "      <td>32</td>\n",
       "      <td>среднее</td>\n",
       "      <td>1</td>\n",
       "      <td>женат / замужем</td>\n",
       "      <td>0</td>\n",
       "      <td>M</td>\n",
       "      <td>сотрудник</td>\n",
       "      <td>0</td>\n",
       "      <td>267628.550329</td>\n",
       "      <td>дополнительное образование</td>\n",
       "    </tr>\n",
       "    <tr>\n",
       "      <th>4</th>\n",
       "      <td>0</td>\n",
       "      <td>340266.072047</td>\n",
       "      <td>53</td>\n",
       "      <td>среднее</td>\n",
       "      <td>1</td>\n",
       "      <td>гражданский брак</td>\n",
       "      <td>1</td>\n",
       "      <td>F</td>\n",
       "      <td>пенсионер</td>\n",
       "      <td>0</td>\n",
       "      <td>158616.077870</td>\n",
       "      <td>сыграть свадьбу</td>\n",
       "    </tr>\n",
       "    <tr>\n",
       "      <th>5</th>\n",
       "      <td>0</td>\n",
       "      <td>-926.185831</td>\n",
       "      <td>27</td>\n",
       "      <td>высшее</td>\n",
       "      <td>0</td>\n",
       "      <td>гражданский брак</td>\n",
       "      <td>1</td>\n",
       "      <td>M</td>\n",
       "      <td>компаньон</td>\n",
       "      <td>0</td>\n",
       "      <td>255763.565419</td>\n",
       "      <td>покупка жилья</td>\n",
       "    </tr>\n",
       "    <tr>\n",
       "      <th>6</th>\n",
       "      <td>0</td>\n",
       "      <td>-2879.202052</td>\n",
       "      <td>43</td>\n",
       "      <td>высшее</td>\n",
       "      <td>0</td>\n",
       "      <td>женат / замужем</td>\n",
       "      <td>0</td>\n",
       "      <td>F</td>\n",
       "      <td>компаньон</td>\n",
       "      <td>0</td>\n",
       "      <td>240525.971920</td>\n",
       "      <td>операции с жильем</td>\n",
       "    </tr>\n",
       "    <tr>\n",
       "      <th>7</th>\n",
       "      <td>0</td>\n",
       "      <td>-152.779569</td>\n",
       "      <td>50</td>\n",
       "      <td>СРЕДНЕЕ</td>\n",
       "      <td>1</td>\n",
       "      <td>женат / замужем</td>\n",
       "      <td>0</td>\n",
       "      <td>M</td>\n",
       "      <td>сотрудник</td>\n",
       "      <td>0</td>\n",
       "      <td>135823.934197</td>\n",
       "      <td>образование</td>\n",
       "    </tr>\n",
       "    <tr>\n",
       "      <th>8</th>\n",
       "      <td>2</td>\n",
       "      <td>-6929.865299</td>\n",
       "      <td>35</td>\n",
       "      <td>ВЫСШЕЕ</td>\n",
       "      <td>0</td>\n",
       "      <td>гражданский брак</td>\n",
       "      <td>1</td>\n",
       "      <td>F</td>\n",
       "      <td>сотрудник</td>\n",
       "      <td>0</td>\n",
       "      <td>95856.832424</td>\n",
       "      <td>на проведение свадьбы</td>\n",
       "    </tr>\n",
       "    <tr>\n",
       "      <th>9</th>\n",
       "      <td>0</td>\n",
       "      <td>-2188.756445</td>\n",
       "      <td>41</td>\n",
       "      <td>среднее</td>\n",
       "      <td>1</td>\n",
       "      <td>женат / замужем</td>\n",
       "      <td>0</td>\n",
       "      <td>M</td>\n",
       "      <td>сотрудник</td>\n",
       "      <td>0</td>\n",
       "      <td>144425.938277</td>\n",
       "      <td>покупка жилья для семьи</td>\n",
       "    </tr>\n",
       "    <tr>\n",
       "      <th>10</th>\n",
       "      <td>2</td>\n",
       "      <td>-4171.483647</td>\n",
       "      <td>36</td>\n",
       "      <td>высшее</td>\n",
       "      <td>0</td>\n",
       "      <td>женат / замужем</td>\n",
       "      <td>0</td>\n",
       "      <td>M</td>\n",
       "      <td>компаньон</td>\n",
       "      <td>0</td>\n",
       "      <td>113943.491460</td>\n",
       "      <td>покупка недвижимости</td>\n",
       "    </tr>\n",
       "    <tr>\n",
       "      <th>11</th>\n",
       "      <td>0</td>\n",
       "      <td>-792.701887</td>\n",
       "      <td>40</td>\n",
       "      <td>среднее</td>\n",
       "      <td>1</td>\n",
       "      <td>женат / замужем</td>\n",
       "      <td>0</td>\n",
       "      <td>F</td>\n",
       "      <td>сотрудник</td>\n",
       "      <td>0</td>\n",
       "      <td>77069.234271</td>\n",
       "      <td>покупка коммерческой недвижимости</td>\n",
       "    </tr>\n",
       "    <tr>\n",
       "      <th>12</th>\n",
       "      <td>0</td>\n",
       "      <td>NaN</td>\n",
       "      <td>65</td>\n",
       "      <td>среднее</td>\n",
       "      <td>1</td>\n",
       "      <td>гражданский брак</td>\n",
       "      <td>1</td>\n",
       "      <td>M</td>\n",
       "      <td>пенсионер</td>\n",
       "      <td>0</td>\n",
       "      <td>NaN</td>\n",
       "      <td>сыграть свадьбу</td>\n",
       "    </tr>\n",
       "    <tr>\n",
       "      <th>13</th>\n",
       "      <td>0</td>\n",
       "      <td>-1846.641941</td>\n",
       "      <td>54</td>\n",
       "      <td>неоконченное высшее</td>\n",
       "      <td>2</td>\n",
       "      <td>женат / замужем</td>\n",
       "      <td>0</td>\n",
       "      <td>F</td>\n",
       "      <td>сотрудник</td>\n",
       "      <td>0</td>\n",
       "      <td>130458.228857</td>\n",
       "      <td>приобретение автомобиля</td>\n",
       "    </tr>\n",
       "    <tr>\n",
       "      <th>14</th>\n",
       "      <td>0</td>\n",
       "      <td>-1844.956182</td>\n",
       "      <td>56</td>\n",
       "      <td>высшее</td>\n",
       "      <td>0</td>\n",
       "      <td>гражданский брак</td>\n",
       "      <td>1</td>\n",
       "      <td>F</td>\n",
       "      <td>компаньон</td>\n",
       "      <td>1</td>\n",
       "      <td>165127.911772</td>\n",
       "      <td>покупка жилой недвижимости</td>\n",
       "    </tr>\n",
       "    <tr>\n",
       "      <th>15</th>\n",
       "      <td>1</td>\n",
       "      <td>-972.364419</td>\n",
       "      <td>26</td>\n",
       "      <td>среднее</td>\n",
       "      <td>1</td>\n",
       "      <td>женат / замужем</td>\n",
       "      <td>0</td>\n",
       "      <td>F</td>\n",
       "      <td>сотрудник</td>\n",
       "      <td>0</td>\n",
       "      <td>116820.904450</td>\n",
       "      <td>строительство собственной недвижимости</td>\n",
       "    </tr>\n",
       "    <tr>\n",
       "      <th>16</th>\n",
       "      <td>0</td>\n",
       "      <td>-1719.934226</td>\n",
       "      <td>35</td>\n",
       "      <td>среднее</td>\n",
       "      <td>1</td>\n",
       "      <td>женат / замужем</td>\n",
       "      <td>0</td>\n",
       "      <td>F</td>\n",
       "      <td>сотрудник</td>\n",
       "      <td>0</td>\n",
       "      <td>289202.704229</td>\n",
       "      <td>недвижимость</td>\n",
       "    </tr>\n",
       "    <tr>\n",
       "      <th>17</th>\n",
       "      <td>0</td>\n",
       "      <td>-2369.999720</td>\n",
       "      <td>33</td>\n",
       "      <td>высшее</td>\n",
       "      <td>0</td>\n",
       "      <td>гражданский брак</td>\n",
       "      <td>1</td>\n",
       "      <td>M</td>\n",
       "      <td>сотрудник</td>\n",
       "      <td>0</td>\n",
       "      <td>90410.586745</td>\n",
       "      <td>строительство недвижимости</td>\n",
       "    </tr>\n",
       "    <tr>\n",
       "      <th>18</th>\n",
       "      <td>0</td>\n",
       "      <td>400281.136913</td>\n",
       "      <td>53</td>\n",
       "      <td>среднее</td>\n",
       "      <td>1</td>\n",
       "      <td>вдовец / вдова</td>\n",
       "      <td>2</td>\n",
       "      <td>F</td>\n",
       "      <td>пенсионер</td>\n",
       "      <td>0</td>\n",
       "      <td>56823.777243</td>\n",
       "      <td>на покупку подержанного автомобиля</td>\n",
       "    </tr>\n",
       "    <tr>\n",
       "      <th>19</th>\n",
       "      <td>0</td>\n",
       "      <td>-10038.818549</td>\n",
       "      <td>48</td>\n",
       "      <td>СРЕДНЕЕ</td>\n",
       "      <td>1</td>\n",
       "      <td>в разводе</td>\n",
       "      <td>3</td>\n",
       "      <td>F</td>\n",
       "      <td>сотрудник</td>\n",
       "      <td>0</td>\n",
       "      <td>242831.107982</td>\n",
       "      <td>на покупку своего автомобиля</td>\n",
       "    </tr>\n",
       "  </tbody>\n",
       "</table>\n",
       "</div>"
      ],
      "text/plain": [
       "    children  days_employed  dob_years            education  education_id  \\\n",
       "0          1   -8437.673028         42               высшее             0   \n",
       "1          1   -4024.803754         36              среднее             1   \n",
       "2          0   -5623.422610         33              Среднее             1   \n",
       "3          3   -4124.747207         32              среднее             1   \n",
       "4          0  340266.072047         53              среднее             1   \n",
       "5          0    -926.185831         27               высшее             0   \n",
       "6          0   -2879.202052         43               высшее             0   \n",
       "7          0    -152.779569         50              СРЕДНЕЕ             1   \n",
       "8          2   -6929.865299         35               ВЫСШЕЕ             0   \n",
       "9          0   -2188.756445         41              среднее             1   \n",
       "10         2   -4171.483647         36               высшее             0   \n",
       "11         0    -792.701887         40              среднее             1   \n",
       "12         0            NaN         65              среднее             1   \n",
       "13         0   -1846.641941         54  неоконченное высшее             2   \n",
       "14         0   -1844.956182         56               высшее             0   \n",
       "15         1    -972.364419         26              среднее             1   \n",
       "16         0   -1719.934226         35              среднее             1   \n",
       "17         0   -2369.999720         33               высшее             0   \n",
       "18         0  400281.136913         53              среднее             1   \n",
       "19         0  -10038.818549         48              СРЕДНЕЕ             1   \n",
       "\n",
       "       family_status  family_status_id gender income_type  debt  \\\n",
       "0    женат / замужем                 0      F   сотрудник     0   \n",
       "1    женат / замужем                 0      F   сотрудник     0   \n",
       "2    женат / замужем                 0      M   сотрудник     0   \n",
       "3    женат / замужем                 0      M   сотрудник     0   \n",
       "4   гражданский брак                 1      F   пенсионер     0   \n",
       "5   гражданский брак                 1      M   компаньон     0   \n",
       "6    женат / замужем                 0      F   компаньон     0   \n",
       "7    женат / замужем                 0      M   сотрудник     0   \n",
       "8   гражданский брак                 1      F   сотрудник     0   \n",
       "9    женат / замужем                 0      M   сотрудник     0   \n",
       "10   женат / замужем                 0      M   компаньон     0   \n",
       "11   женат / замужем                 0      F   сотрудник     0   \n",
       "12  гражданский брак                 1      M   пенсионер     0   \n",
       "13   женат / замужем                 0      F   сотрудник     0   \n",
       "14  гражданский брак                 1      F   компаньон     1   \n",
       "15   женат / замужем                 0      F   сотрудник     0   \n",
       "16   женат / замужем                 0      F   сотрудник     0   \n",
       "17  гражданский брак                 1      M   сотрудник     0   \n",
       "18    вдовец / вдова                 2      F   пенсионер     0   \n",
       "19         в разводе                 3      F   сотрудник     0   \n",
       "\n",
       "     total_income                                 purpose  \n",
       "0   253875.639453                           покупка жилья  \n",
       "1   112080.014102                 приобретение автомобиля  \n",
       "2   145885.952297                           покупка жилья  \n",
       "3   267628.550329              дополнительное образование  \n",
       "4   158616.077870                         сыграть свадьбу  \n",
       "5   255763.565419                           покупка жилья  \n",
       "6   240525.971920                       операции с жильем  \n",
       "7   135823.934197                             образование  \n",
       "8    95856.832424                   на проведение свадьбы  \n",
       "9   144425.938277                 покупка жилья для семьи  \n",
       "10  113943.491460                    покупка недвижимости  \n",
       "11   77069.234271       покупка коммерческой недвижимости  \n",
       "12            NaN                         сыграть свадьбу  \n",
       "13  130458.228857                 приобретение автомобиля  \n",
       "14  165127.911772              покупка жилой недвижимости  \n",
       "15  116820.904450  строительство собственной недвижимости  \n",
       "16  289202.704229                            недвижимость  \n",
       "17   90410.586745              строительство недвижимости  \n",
       "18   56823.777243      на покупку подержанного автомобиля  \n",
       "19  242831.107982            на покупку своего автомобиля  "
      ]
     },
     "execution_count": 2,
     "metadata": {},
     "output_type": "execute_result"
    }
   ],
   "source": [
    "#     Изучим общую информацию о данных, используя  метод info(), выведем первые 20 строк таблицы\n",
    "data.info()\n",
    "data.head(20)\n"
   ]
  },
  {
   "cell_type": "code",
   "execution_count": 3,
   "metadata": {},
   "outputs": [
    {
     "data": {
      "text/html": [
       "<div>\n",
       "<style scoped>\n",
       "    .dataframe tbody tr th:only-of-type {\n",
       "        vertical-align: middle;\n",
       "    }\n",
       "\n",
       "    .dataframe tbody tr th {\n",
       "        vertical-align: top;\n",
       "    }\n",
       "\n",
       "    .dataframe thead th {\n",
       "        text-align: right;\n",
       "    }\n",
       "</style>\n",
       "<table border=\"1\" class=\"dataframe\">\n",
       "  <thead>\n",
       "    <tr style=\"text-align: right;\">\n",
       "      <th></th>\n",
       "      <th>children</th>\n",
       "      <th>days_employed</th>\n",
       "      <th>dob_years</th>\n",
       "      <th>education_id</th>\n",
       "      <th>family_status_id</th>\n",
       "      <th>debt</th>\n",
       "      <th>total_income</th>\n",
       "    </tr>\n",
       "  </thead>\n",
       "  <tbody>\n",
       "    <tr>\n",
       "      <th>count</th>\n",
       "      <td>21,525.00</td>\n",
       "      <td>19,351.00</td>\n",
       "      <td>21,525.00</td>\n",
       "      <td>21,525.00</td>\n",
       "      <td>21,525.00</td>\n",
       "      <td>21,525.00</td>\n",
       "      <td>19,351.00</td>\n",
       "    </tr>\n",
       "    <tr>\n",
       "      <th>mean</th>\n",
       "      <td>0.54</td>\n",
       "      <td>63,046.50</td>\n",
       "      <td>43.29</td>\n",
       "      <td>0.82</td>\n",
       "      <td>0.97</td>\n",
       "      <td>0.08</td>\n",
       "      <td>167,422.30</td>\n",
       "    </tr>\n",
       "    <tr>\n",
       "      <th>std</th>\n",
       "      <td>1.38</td>\n",
       "      <td>140,827.31</td>\n",
       "      <td>12.57</td>\n",
       "      <td>0.55</td>\n",
       "      <td>1.42</td>\n",
       "      <td>0.27</td>\n",
       "      <td>102,971.57</td>\n",
       "    </tr>\n",
       "    <tr>\n",
       "      <th>min</th>\n",
       "      <td>-1.00</td>\n",
       "      <td>-18,388.95</td>\n",
       "      <td>0.00</td>\n",
       "      <td>0.00</td>\n",
       "      <td>0.00</td>\n",
       "      <td>0.00</td>\n",
       "      <td>20,667.26</td>\n",
       "    </tr>\n",
       "    <tr>\n",
       "      <th>25%</th>\n",
       "      <td>0.00</td>\n",
       "      <td>-2,747.42</td>\n",
       "      <td>33.00</td>\n",
       "      <td>1.00</td>\n",
       "      <td>0.00</td>\n",
       "      <td>0.00</td>\n",
       "      <td>103,053.15</td>\n",
       "    </tr>\n",
       "    <tr>\n",
       "      <th>50%</th>\n",
       "      <td>0.00</td>\n",
       "      <td>-1,203.37</td>\n",
       "      <td>42.00</td>\n",
       "      <td>1.00</td>\n",
       "      <td>0.00</td>\n",
       "      <td>0.00</td>\n",
       "      <td>145,017.94</td>\n",
       "    </tr>\n",
       "    <tr>\n",
       "      <th>75%</th>\n",
       "      <td>1.00</td>\n",
       "      <td>-291.10</td>\n",
       "      <td>53.00</td>\n",
       "      <td>1.00</td>\n",
       "      <td>1.00</td>\n",
       "      <td>0.00</td>\n",
       "      <td>203,435.07</td>\n",
       "    </tr>\n",
       "    <tr>\n",
       "      <th>max</th>\n",
       "      <td>20.00</td>\n",
       "      <td>401,755.40</td>\n",
       "      <td>75.00</td>\n",
       "      <td>4.00</td>\n",
       "      <td>4.00</td>\n",
       "      <td>1.00</td>\n",
       "      <td>2,265,604.03</td>\n",
       "    </tr>\n",
       "  </tbody>\n",
       "</table>\n",
       "</div>"
      ],
      "text/plain": [
       "       children  days_employed  dob_years  education_id  family_status_id  \\\n",
       "count 21,525.00      19,351.00  21,525.00     21,525.00         21,525.00   \n",
       "mean       0.54      63,046.50      43.29          0.82              0.97   \n",
       "std        1.38     140,827.31      12.57          0.55              1.42   \n",
       "min       -1.00     -18,388.95       0.00          0.00              0.00   \n",
       "25%        0.00      -2,747.42      33.00          1.00              0.00   \n",
       "50%        0.00      -1,203.37      42.00          1.00              0.00   \n",
       "75%        1.00        -291.10      53.00          1.00              1.00   \n",
       "max       20.00     401,755.40      75.00          4.00              4.00   \n",
       "\n",
       "           debt  total_income  \n",
       "count 21,525.00     19,351.00  \n",
       "mean       0.08    167,422.30  \n",
       "std        0.27    102,971.57  \n",
       "min        0.00     20,667.26  \n",
       "25%        0.00    103,053.15  \n",
       "50%        0.00    145,017.94  \n",
       "75%        0.00    203,435.07  \n",
       "max        1.00  2,265,604.03  "
      ]
     },
     "execution_count": 3,
     "metadata": {},
     "output_type": "execute_result"
    }
   ],
   "source": [
    "# Оцениваем среднее, минимальное и максимальное для числовых значений методом describe() \n",
    "pd.set_option('display.float_format', '{:,.2f}'.format)\n",
    "data.describe()"
   ]
  },
  {
   "cell_type": "markdown",
   "metadata": {},
   "source": [
    "<div class=\"alert alert-success\">\n",
    "<b>✅ Комментарий ревьюера :</b> \n",
    "\n",
    "Чтобы избавиться от лишних запятых при работе метода `describe` и убрать экспонентациальные формы - пропиши вначале настройку `pandas`, где импортируешь библиотеки.\n",
    "    \n",
    "```python\n",
    "pd.set_option('display.float_format', '{:,.2f}'.format)\n",
    "```\n",
    "</div>"
   ]
  },
  {
   "cell_type": "markdown",
   "metadata": {},
   "source": [
    "**Вывод**"
   ]
  },
  {
   "cell_type": "markdown",
   "metadata": {},
   "source": [
    "Общее количество значений в данных 21525. \n",
    "Столбцы days_employed (стаж в днях) и total_income (доход) содержат одинаковое количество пропущенных значений: 2174\n",
    "Распределение пропусков в доходах и стажах соответствуют друг другу. Из этого можно сделать вывод, что ошибка может иметь технологический характер, возможно объединяли несколько баз данных в одну. Подробные комментарии по каждому столбцу указаны в таблице:\n",
    "\n",
    "|**Столбец\\_eng**|**Кол-во значений**|**Пропуски**|**Тип**|**Комментарий**|\n",
    "| :-: | :-: | :-: | :-: | :-: |\n",
    "|children|21525|0|int64|Значения \"-1\" и \"20\" похожи на ошибку и требуют замены. Заменим \"20\" на \"2\" и \"-1\" на \"0\"|\n",
    "|days\\_employed|19351|2174|float64|2174 пропуска- заменим медианой.  Есть отрицательные значения - применим модуль.  Максимальное значение стажа 401755 = 1100 лет- вероятно вместо дней указаны часы. Вещественный тип данных - изменить на количественный тип.|\n",
    "|dob\\_years|21525|0|int64|101 значение \"0\" - это меньше 1%. Можем заменить значением медианы|\n",
    "|education|21525|0|object|Пропусков нет, используются разные регистры. Для удаления дубликотов применим метод str.lower()|\n",
    "|total\\_income|19351|2174|float64|2174 пропуска и вещественный тип данных. Пропуски заменим медианой. Изменим тип данных|\n",
    "|purpose|21525|0|object|Удалить дубликаты методом лемматизации|"
   ]
  },
  {
   "cell_type": "markdown",
   "metadata": {},
   "source": [
    "<div class=\"alert alert-success\">\n",
    "<b>✅ Комментарий ревьюера :</b> \n",
    "\n",
    "Хорошо, первый взгляд на данные отличный.\n",
    "</div>"
   ]
  },
  {
   "cell_type": "markdown",
   "metadata": {},
   "source": [
    "## Шаг 2. Предобработка данных"
   ]
  },
  {
   "cell_type": "markdown",
   "metadata": {},
   "source": [
    "### Обработка пропусков"
   ]
  },
  {
   "cell_type": "code",
   "execution_count": 4,
   "metadata": {},
   "outputs": [
    {
     "data": {
      "text/html": [
       "<div>\n",
       "<style scoped>\n",
       "    .dataframe tbody tr th:only-of-type {\n",
       "        vertical-align: middle;\n",
       "    }\n",
       "\n",
       "    .dataframe tbody tr th {\n",
       "        vertical-align: top;\n",
       "    }\n",
       "\n",
       "    .dataframe thead th {\n",
       "        text-align: right;\n",
       "    }\n",
       "</style>\n",
       "<table border=\"1\" class=\"dataframe\">\n",
       "  <thead>\n",
       "    <tr style=\"text-align: right;\">\n",
       "      <th></th>\n",
       "      <th>missing_days_employed</th>\n",
       "      <th>missing_total_income</th>\n",
       "    </tr>\n",
       "    <tr>\n",
       "      <th>family_status</th>\n",
       "      <th></th>\n",
       "      <th></th>\n",
       "    </tr>\n",
       "  </thead>\n",
       "  <tbody>\n",
       "    <tr>\n",
       "      <th>гражданский брак</th>\n",
       "      <td>0.11</td>\n",
       "      <td>0.11</td>\n",
       "    </tr>\n",
       "    <tr>\n",
       "      <th>Не женат / не замужем</th>\n",
       "      <td>0.10</td>\n",
       "      <td>0.10</td>\n",
       "    </tr>\n",
       "    <tr>\n",
       "      <th>женат / замужем</th>\n",
       "      <td>0.10</td>\n",
       "      <td>0.10</td>\n",
       "    </tr>\n",
       "    <tr>\n",
       "      <th>вдовец / вдова</th>\n",
       "      <td>0.10</td>\n",
       "      <td>0.10</td>\n",
       "    </tr>\n",
       "    <tr>\n",
       "      <th>в разводе</th>\n",
       "      <td>0.09</td>\n",
       "      <td>0.09</td>\n",
       "    </tr>\n",
       "  </tbody>\n",
       "</table>\n",
       "</div>"
      ],
      "text/plain": [
       "                       missing_days_employed  missing_total_income\n",
       "family_status                                                     \n",
       "гражданский брак                        0.11                  0.11\n",
       "Не женат / не замужем                   0.10                  0.10\n",
       "женат / замужем                         0.10                  0.10\n",
       "вдовец / вдова                          0.10                  0.10\n",
       "в разводе                               0.09                  0.09"
      ]
     },
     "metadata": {},
     "output_type": "display_data"
    },
    {
     "data": {
      "text/html": [
       "<div>\n",
       "<style scoped>\n",
       "    .dataframe tbody tr th:only-of-type {\n",
       "        vertical-align: middle;\n",
       "    }\n",
       "\n",
       "    .dataframe tbody tr th {\n",
       "        vertical-align: top;\n",
       "    }\n",
       "\n",
       "    .dataframe thead th {\n",
       "        text-align: right;\n",
       "    }\n",
       "</style>\n",
       "<table border=\"1\" class=\"dataframe\">\n",
       "  <thead>\n",
       "    <tr style=\"text-align: right;\">\n",
       "      <th></th>\n",
       "      <th>missing_days_employed</th>\n",
       "      <th>missing_total_income</th>\n",
       "    </tr>\n",
       "    <tr>\n",
       "      <th>income_type</th>\n",
       "      <th></th>\n",
       "      <th></th>\n",
       "    </tr>\n",
       "  </thead>\n",
       "  <tbody>\n",
       "    <tr>\n",
       "      <th>предприниматель</th>\n",
       "      <td>0.50</td>\n",
       "      <td>0.50</td>\n",
       "    </tr>\n",
       "    <tr>\n",
       "      <th>пенсионер</th>\n",
       "      <td>0.11</td>\n",
       "      <td>0.11</td>\n",
       "    </tr>\n",
       "    <tr>\n",
       "      <th>госслужащий</th>\n",
       "      <td>0.10</td>\n",
       "      <td>0.10</td>\n",
       "    </tr>\n",
       "    <tr>\n",
       "      <th>компаньон</th>\n",
       "      <td>0.10</td>\n",
       "      <td>0.10</td>\n",
       "    </tr>\n",
       "    <tr>\n",
       "      <th>сотрудник</th>\n",
       "      <td>0.10</td>\n",
       "      <td>0.10</td>\n",
       "    </tr>\n",
       "    <tr>\n",
       "      <th>безработный</th>\n",
       "      <td>0.00</td>\n",
       "      <td>0.00</td>\n",
       "    </tr>\n",
       "    <tr>\n",
       "      <th>в декрете</th>\n",
       "      <td>0.00</td>\n",
       "      <td>0.00</td>\n",
       "    </tr>\n",
       "    <tr>\n",
       "      <th>студент</th>\n",
       "      <td>0.00</td>\n",
       "      <td>0.00</td>\n",
       "    </tr>\n",
       "  </tbody>\n",
       "</table>\n",
       "</div>"
      ],
      "text/plain": [
       "                 missing_days_employed  missing_total_income\n",
       "income_type                                                 \n",
       "предприниматель                   0.50                  0.50\n",
       "пенсионер                         0.11                  0.11\n",
       "госслужащий                       0.10                  0.10\n",
       "компаньон                         0.10                  0.10\n",
       "сотрудник                         0.10                  0.10\n",
       "безработный                       0.00                  0.00\n",
       "в декрете                         0.00                  0.00\n",
       "студент                           0.00                  0.00"
      ]
     },
     "metadata": {},
     "output_type": "display_data"
    }
   ],
   "source": [
    "#Определяем, есть ли связь между пропуском данных в столбце доход и столбцах семейное положение и статус занятости:\n",
    "data['missing_days_employed'] = data['days_employed'].isna()\n",
    "data['missing_total_income'] = data['total_income'].isna()\n",
    "# процент пропусков по семейному положению:\n",
    "display(data.groupby('family_status').agg({'missing_days_employed': 'mean', 'missing_total_income': 'mean'}).sort_values(by = 'missing_days_employed', ascending = False))\n",
    "# процент пропусков по типу занятости:\n",
    "display(data.groupby('income_type').agg({'missing_days_employed': 'mean', 'missing_total_income': 'mean'}).sort_values(by = 'missing_days_employed', ascending = False))\n"
   ]
  },
  {
   "cell_type": "markdown",
   "metadata": {},
   "source": [
    "Из таблиц видим, что пропуски данных не зависят от семейного положения и зависят от типа дохода. Поэтому тип дохода будем заполнять медианой с разбивкой по категориям.\n"
   ]
  },
  {
   "cell_type": "code",
   "execution_count": 5,
   "metadata": {},
   "outputs": [
    {
     "data": {
      "text/plain": [
       "<AxesSubplot:title={'center':'Пороговое значение, после которого стаж указан в минутах'}, xlabel='пороговое значение стажа', ylabel='стаж, дн.'>"
      ]
     },
     "execution_count": 5,
     "metadata": {},
     "output_type": "execute_result"
    },
    {
     "data": {
      "image/png": "[encoded data removed]",
      "text/plain": [
       "<Figure size 432x288 with 1 Axes>"
      ]
     },
     "metadata": {
      "needs_background": "light"
     },
     "output_type": "display_data"
    }
   ],
   "source": [
    "# Найдем пороговое значение, после которого стаж указан в минутах:\n",
    "import pandas as pd\n",
    "import numpy as np\n",
    "import matplotlib.pyplot as plt\n",
    "# добавляем подписи к осям и заголовок диаграммы\n",
    "plt.xlabel('пороговое значение стажа', fontsize=16)\n",
    "plt.ylabel('стаж, дн.', fontsize=16)\n",
    "plt.title('Пороговое значение, после которого стаж указан в минутах', fontsize=16)\n",
    "data['days_employed'].hist()\n",
    "\n",
    "\n"
   ]
  },
  {
   "cell_type": "markdown",
   "metadata": {},
   "source": [
    "<div class=\"alert alert-warning\">\n",
    "<b>⚠️ Комментарий ревьюера:</b> \n",
    "\n",
    "Добавь на все свои графики:\n",
    "- подписи осей\n",
    "- заголовки\n",
    "- легенду, где требуется\n",
    "- единицы измерения\n",
    "</div>"
   ]
  },
  {
   "cell_type": "markdown",
   "metadata": {},
   "source": [
    "<div class=\"alert alert-info\">\n",
    "<b>Комментарий студента: </b>\n",
    "<br>-Исправила. На мой взгляд, легенда здесь не нужна.\n",
    "</div>"
   ]
  },
  {
   "cell_type": "markdown",
   "metadata": {},
   "source": [
    "<div class=\"alert alert-success\">\n",
    "<b>✅ Комментарий ревьюера V2:</b> \n",
    "\n",
    "Да, ты права, поэтому и есть приписка (где требуется)\n",
    "</div>"
   ]
  },
  {
   "cell_type": "markdown",
   "metadata": {},
   "source": [
    "Пороговое значение в столбце стаж выше 300 000"
   ]
  },
  {
   "cell_type": "code",
   "execution_count": 6,
   "metadata": {},
   "outputs": [
    {
     "name": "stdout",
     "output_type": "stream",
     "text": [
      "Пропуски стажа до: 2174\n",
      "сотрудник 1574\n",
      "пенсионер 15217\n",
      "компаньон 1547\n",
      "госслужащий 2689\n",
      "безработный 15267\n",
      "предприниматель 521\n",
      "студент 579\n",
      "в декрете 3297\n",
      "Пропуски стажа после: 0\n"
     ]
    }
   ],
   "source": [
    "# Работаем с пропусками в столбце \"стаж\":\n",
    "# заменяем отрицательные знач. трудового стажа на значения по модулю\n",
    "data['days_employed'] = data['days_employed'].apply(abs)\n",
    "\n",
    "# определяем количество пропусков в столбце стаж\n",
    "print('Пропуски стажа до:', data['days_employed'].isna().sum())\n",
    "\n",
    "#заменяем значения часы на дни в столбце стаж\n",
    "data.loc[data['days_employed'] > 300000, 'days_employed'] = data.loc[data['days_employed'] > 300000, 'days_employed'] / 24\n",
    "\n",
    "#заполняю пропуски стажа в зависимости от типа занятости\n",
    "for income_type in data['income_type'].unique():\n",
    "    median = data.loc[data['income_type'] == income_type, 'days_employed'].median()\n",
    "    print(income_type, \"{:.0f}\".format(median))\n",
    "    data.loc[(data['days_employed'].isna()) & (data['income_type'] == income_type), 'days_employed'] = median\n",
    "print('Пропуски стажа после:', data['days_employed'].isna().sum())\n",
    "\n",
    "\n",
    "\n",
    "\n",
    "\n",
    "\n"
   ]
  },
  {
   "cell_type": "code",
   "execution_count": 7,
   "metadata": {},
   "outputs": [
    {
     "name": "stdout",
     "output_type": "stream",
     "text": [
      "Пропуски стажа до: 0\n",
      "сотрудник 1574.2028\n",
      "пенсионер 15217.2211\n",
      "компаньон 1547.3822\n",
      "госслужащий 2689.3684\n",
      "безработный 15267.2355\n",
      "предприниматель 520.8481\n",
      "студент 578.7516\n",
      "в декрете 3296.7600\n",
      "Пропуски стажа после: 0\n"
     ]
    }
   ],
   "source": [
    "# Работаем с пропусками в столбце \"стаж\":\n",
    "# заменяем отрицательные знач. трудового стажа на значения по модулю\n",
    "data['days_employed'] = data['days_employed'].apply(abs)\n",
    "\n",
    "# определяем количество пропусков в столбце стаж\n",
    "print('Пропуски стажа до:', data['days_employed'].isna().sum())\n",
    "\n",
    "#заменяем значения часы на дни в столбце стаж\n",
    "data.loc[data['days_employed'] > 300000, 'days_employed'] = data.loc[data['days_employed'] > 300000, 'days_employed'] / 24\n",
    "\n",
    "#заполняю пропуски стажа в зависимости от типа занятости\n",
    "for income_type in data['income_type'].unique():\n",
    "    median = data.loc[data['income_type'] == income_type, 'days_employed'].median()\n",
    "    print(income_type, \"{:.4f}\".format(median))\n",
    "    data.loc[(data['days_employed'].isna()) & (data['income_type'] == income_type), 'days_employed'] = median\n",
    "print('Пропуски стажа после:', data['days_employed'].isna().sum())"
   ]
  },
  {
   "cell_type": "markdown",
   "metadata": {},
   "source": [
    "<div class=\"alert alert-success\">\n",
    "<b>✅ Комментарий ревьюера :</b> \n",
    "\n",
    "С обработкой аномальных значений согласен\n",
    "</div>"
   ]
  },
  {
   "cell_type": "markdown",
   "metadata": {},
   "source": [
    "<div class=\"alert alert-warning\">\n",
    "<b>⚠️ Комментарий ревьюера:</b> \n",
    "\n",
    "Рекомендую придержаться подхода как и с заполнением дохода, т.к. стаж так же принципиально отличается у студента и например пенсионера\n",
    "</div>"
   ]
  },
  {
   "cell_type": "markdown",
   "metadata": {},
   "source": [
    "<div class=\"alert alert-info\">\n",
    "<b>Комментарий студента: </b>\n",
    "<br>-Исправила заполнение стажа в зависимости от типа занятости\n",
    "</div>"
   ]
  },
  {
   "cell_type": "markdown",
   "metadata": {},
   "source": [
    "<div class=\"alert alert-success\">\n",
    "<b>✅ Комментарий ревьюера V2:</b> \n",
    "\n",
    "Отлично\n",
    "</div>"
   ]
  },
  {
   "cell_type": "code",
   "execution_count": 8,
   "metadata": {},
   "outputs": [
    {
     "name": "stdout",
     "output_type": "stream",
     "text": [
      "Пропуски дохода до: 2174\n",
      "сотрудник 142594.40\n",
      "пенсионер 118514.49\n",
      "компаньон 172357.95\n",
      "госслужащий 150447.94\n",
      "безработный 131339.75\n",
      "предприниматель 499163.14\n",
      "студент 98201.63\n",
      "в декрете 53829.13\n",
      "Пропуски дохода после: 0\n"
     ]
    }
   ],
   "source": [
    "# Работаем с пропусками в столбце \"доход\"\n",
    "# определяем количество пропусков в столбце доход:\n",
    "print('Пропуски дохода до:', data['total_income'].isna().sum())\n",
    "\n",
    "#заменяем пропущенные значения в столбце доход на медиану в зависимости от типа занятости:\n",
    "\n",
    "for income_type in data['income_type'].unique():\n",
    "    median = data.loc[data['income_type'] == income_type, 'total_income'].median()\n",
    "    print(income_type, \"{:.2f}\".format(median))\n",
    "    data.loc[(data['total_income'].isna()) & (data['income_type'] == income_type), 'total_income'] = median\n",
    "print('Пропуски дохода после:', data['total_income'].isna().sum())\n",
    "\n",
    "\n"
   ]
  },
  {
   "cell_type": "markdown",
   "metadata": {},
   "source": [
    "<div class=\"alert alert-success\">\n",
    "<b>✅ Комментарий ревьюера :</b> \n",
    "\n",
    "Супер, но лучше пользоваться группировкой и как вариант циклам, чтобы оптимизировать работу\n",
    "</div>"
   ]
  },
  {
   "cell_type": "code",
   "execution_count": 9,
   "metadata": {
    "scrolled": true
   },
   "outputs": [
    {
     "data": {
      "text/plain": [
       "<AxesSubplot:title={'center':'Распределение дохода после заполнения пропусков'}, xlabel='Доход, руб.', ylabel='Кол-во заемщиков'>"
      ]
     },
     "execution_count": 9,
     "metadata": {},
     "output_type": "execute_result"
    },
    {
     "data": {
      "image/png": "[encoded data removed]",
      "text/plain": [
       "<Figure size 432x288 with 1 Axes>"
      ]
     },
     "metadata": {
      "needs_background": "light"
     },
     "output_type": "display_data"
    }
   ],
   "source": [
    "#Графическая проверка данных:\n",
    "import pandas as pd\n",
    "import numpy as np\n",
    "import matplotlib.pyplot as plt\n",
    "# добавляем подписи к осям и заголовок диаграммы\n",
    "plt.xlabel('Доход, руб.', fontsize=12)\n",
    "plt.ylabel('Кол-во заемщиков', fontsize=12)\n",
    "plt.title('Распределение дохода после заполнения пропусков', fontsize=16)\n",
    "data['total_income'].hist()\n"
   ]
  },
  {
   "cell_type": "markdown",
   "metadata": {},
   "source": [
    "**Вывод**"
   ]
  },
  {
   "cell_type": "markdown",
   "metadata": {},
   "source": [
    "При обработке пропусков я использовала метод .loc . Логическая индексация позволят выделить все строки в необходимом\n",
    "столбце, которые содержат None, и заменить их на новое значение \n",
    "Для замены пропусков в количественных столбцах использовался метод нахождения медианы median(), я определила медиану дохода для разных видов занятости. "
   ]
  },
  {
   "cell_type": "markdown",
   "metadata": {},
   "source": [
    "### Замена типа данных"
   ]
  },
  {
   "cell_type": "code",
   "execution_count": 10,
   "metadata": {},
   "outputs": [
    {
     "data": {
      "text/plain": [
       "children                  int64\n",
       "days_employed             int64\n",
       "dob_years                 int64\n",
       "education                object\n",
       "education_id              int64\n",
       "family_status            object\n",
       "family_status_id          int64\n",
       "gender                   object\n",
       "income_type              object\n",
       "debt                      int64\n",
       "total_income              int64\n",
       "purpose                  object\n",
       "missing_days_employed      bool\n",
       "missing_total_income       bool\n",
       "dtype: object"
      ]
     },
     "execution_count": 10,
     "metadata": {},
     "output_type": "execute_result"
    }
   ],
   "source": [
    "data.dtypes\n",
    "data['days_employed'] = data['days_employed'].astype(int)\n",
    "data['total_income'] = data['total_income'].astype(int)\n",
    "data.dtypes"
   ]
  },
  {
   "cell_type": "markdown",
   "metadata": {},
   "source": [
    "**Вывод**"
   ]
  },
  {
   "cell_type": "markdown",
   "metadata": {},
   "source": [
    "В нашем датафрейме 2 столбца с типом (float64) 'days_employed' и 'total_income'. Из 2 способов для изменения вещественного типа данных  на числовой (int), я выбрала метод astype(), так как в нем можно управлять типом самостоятельно: нужный тип (int) указываем в аргументе. Метод to_numeric() сможет преобразовать строку в тип float или int, но выбор типа зависит от содержания строки. "
   ]
  },
  {
   "cell_type": "markdown",
   "metadata": {},
   "source": [
    "<div class=\"alert alert-success\">\n",
    "<b>✅ Комментарий ревьюера :</b> \n",
    "\n",
    "С обработкой типов согласен\n",
    "</div>"
   ]
  },
  {
   "cell_type": "markdown",
   "metadata": {},
   "source": [
    "### Обработка дубликатов"
   ]
  },
  {
   "cell_type": "code",
   "execution_count": 11,
   "metadata": {},
   "outputs": [
    {
     "data": {
      "text/plain": [
       "(21525, 14)"
      ]
     },
     "execution_count": 11,
     "metadata": {},
     "output_type": "execute_result"
    }
   ],
   "source": [
    "# Смотрим размер таблицы\n",
    "data.shape\n"
   ]
  },
  {
   "cell_type": "code",
   "execution_count": 12,
   "metadata": {},
   "outputs": [
    {
     "data": {
      "text/plain": [
       "(21454, 14)"
      ]
     },
     "execution_count": 12,
     "metadata": {},
     "output_type": "execute_result"
    }
   ],
   "source": [
    "#Методом .str.lower() приводим строки к нижнему регистру:\n",
    "data['education'] = data['education'].str.lower()\n",
    "data['family_status'] = data['family_status'].str.lower()\n",
    "data['income_type'] = data['income_type'].str.lower()\n",
    "data['purpose'] = data['purpose'].str.lower()\n",
    "\n",
    "#Удаляем дубликаты методом drop_duplicates()\n",
    "data = data.drop_duplicates().reset_index(drop = True)\n",
    "\n",
    "#Оцениваем как изменился размер таблицы после удаления дубликатов:\n",
    "data.shape\n",
    "\n",
    "\n",
    "\n",
    "\n",
    "\n"
   ]
  },
  {
   "cell_type": "code",
   "execution_count": 13,
   "metadata": {},
   "outputs": [
    {
     "data": {
      "text/plain": [
       "свадьба                                   791\n",
       "на проведение свадьбы                     768\n",
       "сыграть свадьбу                           765\n",
       "операции с недвижимостью                  675\n",
       "покупка коммерческой недвижимости         661\n",
       "операции с жильем                         652\n",
       "покупка жилья для сдачи                   651\n",
       "операции с коммерческой недвижимостью     650\n",
       "покупка жилья                             646\n",
       "жилье                                     646\n",
       "покупка жилья для семьи                   638\n",
       "строительство собственной недвижимости    635\n",
       "недвижимость                              633\n",
       "операции со своей недвижимостью           627\n",
       "строительство жилой недвижимости          624\n",
       "покупка недвижимости                      621\n",
       "покупка своего жилья                      620\n",
       "строительство недвижимости                619\n",
       "ремонт жилью                              607\n",
       "покупка жилой недвижимости                606\n",
       "на покупку своего автомобиля              505\n",
       "заняться высшим образованием              496\n",
       "автомобиль                                494\n",
       "сделка с подержанным автомобилем          486\n",
       "свой автомобиль                           478\n",
       "автомобили                                478\n",
       "на покупку подержанного автомобиля        478\n",
       "на покупку автомобиля                     471\n",
       "приобретение автомобиля                   461\n",
       "дополнительное образование                460\n",
       "сделка с автомобилем                      455\n",
       "высшее образование                        452\n",
       "образование                               447\n",
       "получение дополнительного образования     446\n",
       "получение образования                     442\n",
       "профильное образование                    436\n",
       "получение высшего образования             426\n",
       "заняться образованием                     408\n",
       "Name: purpose, dtype: int64"
      ]
     },
     "execution_count": 13,
     "metadata": {},
     "output_type": "execute_result"
    }
   ],
   "source": [
    "#Вызовем к столбцу purpose метод value_counts(), который возвращает уникальные значения и количество их упоминаний\n",
    "data['purpose'].value_counts()\n",
    "\n",
    "\n",
    "\n",
    "\n"
   ]
  },
  {
   "cell_type": "markdown",
   "metadata": {},
   "source": [
    "**Вывод**\n"
   ]
  },
  {
   "cell_type": "markdown",
   "metadata": {},
   "source": [
    "С помощью атриубута shape определяем размер таблицы: (21525, 12)\n",
    "Привели строки к нижнему регистру с помощью .str.lower()\n",
    "Для удаления дубликатов использовали метод drop_duplicates(), reset_index() создаёт новую индексацию, а drop=True — удаляет старую.\n",
    "После удаления дубликатов смотрим размер таблицы (21454 Х 12)\n",
    "Методом value_counts() возвращаем список дублей в виде пар «значение-частота» в столбце 'purpose' - цель кредита."
   ]
  },
  {
   "cell_type": "markdown",
   "metadata": {},
   "source": [
    "<div class=\"alert alert-success\">\n",
    "<b>✅ Комментарий ревьюера :</b> \n",
    "\n",
    "ОТлично, молодец, что поработала с регистрами\n",
    "</div>"
   ]
  },
  {
   "cell_type": "markdown",
   "metadata": {},
   "source": [
    "### Лемматизация"
   ]
  },
  {
   "cell_type": "code",
   "execution_count": 14,
   "metadata": {},
   "outputs": [
    {
     "data": {
      "text/plain": [
       "'покупка жилья , приобретение автомобиля , дополнительное образование , сыграть свадьбу , операции с жильем , образование , на проведение свадьбы , покупка жилья для семьи , покупка недвижимости , покупка коммерческой недвижимости , покупка жилой недвижимости , строительство собственной недвижимости , недвижимость , строительство недвижимости , на покупку подержанного автомобиля , на покупку своего автомобиля , операции с коммерческой недвижимостью , строительство жилой недвижимости , жилье , операции со своей недвижимостью , автомобили , заняться образованием , сделка с подержанным автомобилем , получение образования , автомобиль , свадьба , получение дополнительного образования , покупка своего жилья , операции с недвижимостью , получение высшего образования , свой автомобиль , сделка с автомобилем , профильное образование , высшее образование , покупка жилья для сдачи , на покупку автомобиля , ремонт жилью , заняться высшим образованием'"
      ]
     },
     "execution_count": 14,
     "metadata": {},
     "output_type": "execute_result"
    }
   ],
   "source": [
    "#Создадим переменную с уникальными ключевыми словами цели кредита, склеим слова в строку методом .join:\n",
    "purpose_unique = \" , \".join(data['purpose'].unique())\n",
    "purpose_unique\n",
    "\n"
   ]
  },
  {
   "cell_type": "code",
   "execution_count": 15,
   "metadata": {},
   "outputs": [
    {
     "name": "stdout",
     "output_type": "stream",
     "text": [
      "Counter({' ': 59, ' , ': 37, 'покупка': 10, 'недвижимость': 10, 'автомобиль': 9, 'образование': 9, 'жилье': 7, 'с': 5, 'операция': 4, 'на': 4, 'свой': 4, 'свадьба': 3, 'строительство': 3, 'получение': 3, 'высокий': 3, 'дополнительный': 2, 'для': 2, 'коммерческий': 2, 'жилой': 2, 'подержать': 2, 'заниматься': 2, 'сделка': 2, 'приобретение': 1, 'сыграть': 1, 'проведение': 1, 'семья': 1, 'собственный': 1, 'со': 1, 'профильный': 1, 'сдача': 1, 'ремонт': 1, '\\n': 1})\n"
     ]
    }
   ],
   "source": [
    "# Импортируем библиотеку с функцией лемматизации на русском языке — pymystem3\n",
    "from pymystem3 import Mystem\n",
    "m = Mystem()\n",
    "lemmas = m.lemmatize(purpose_unique)\n",
    "# Вызываем контейнер Counter из модуля collections для подсчета числа лемматизированных слов:\n",
    "from collections import Counter\n",
    "print(Counter(lemmas))\n",
    "\n",
    "\n",
    "\n",
    "\n"
   ]
  },
  {
   "cell_type": "markdown",
   "metadata": {},
   "source": [
    "**Вывод**"
   ]
  },
  {
   "cell_type": "markdown",
   "metadata": {},
   "source": [
    "Я получила все уникальные значения purpose, склеила их в одну строку с помощью join и лемматизировала. \n",
    "С помощью Counter посчитала частоту появления слов. Чаще всего встречаются существительные (это будут основные категории целей кредита). \n",
    "\n",
    "\n",
    "|**Лемма**|**Частота цитирования**|\n",
    "| :- | :- |\n",
    "|недвижимость|10|\n",
    "|строительство|3|\n",
    "|жилье|7|\n",
    "|жилой|2|\n",
    "|автомобиль|9|\n",
    "|образование|9|\n",
    "|свадьба|3|\n",
    "\n",
    "\n",
    "Недвижимость, строительство, жилье и жилой можно объединить в одну группу. Итого получим 5 групп кредитных целей."
   ]
  },
  {
   "cell_type": "markdown",
   "metadata": {},
   "source": [
    "### Категоризация данных"
   ]
  },
  {
   "cell_type": "code",
   "execution_count": 16,
   "metadata": {},
   "outputs": [
    {
     "data": {
      "text/html": [
       "<div>\n",
       "<style scoped>\n",
       "    .dataframe tbody tr th:only-of-type {\n",
       "        vertical-align: middle;\n",
       "    }\n",
       "\n",
       "    .dataframe tbody tr th {\n",
       "        vertical-align: top;\n",
       "    }\n",
       "\n",
       "    .dataframe thead th {\n",
       "        text-align: right;\n",
       "    }\n",
       "</style>\n",
       "<table border=\"1\" class=\"dataframe\">\n",
       "  <thead>\n",
       "    <tr style=\"text-align: right;\">\n",
       "      <th></th>\n",
       "      <th>children</th>\n",
       "      <th>days_employed</th>\n",
       "      <th>dob_years</th>\n",
       "      <th>education</th>\n",
       "      <th>education_id</th>\n",
       "      <th>family_status</th>\n",
       "      <th>family_status_id</th>\n",
       "      <th>gender</th>\n",
       "      <th>income_type</th>\n",
       "      <th>debt</th>\n",
       "      <th>total_income</th>\n",
       "      <th>purpose</th>\n",
       "      <th>missing_days_employed</th>\n",
       "      <th>missing_total_income</th>\n",
       "      <th>category</th>\n",
       "    </tr>\n",
       "  </thead>\n",
       "  <tbody>\n",
       "    <tr>\n",
       "      <th>0</th>\n",
       "      <td>1</td>\n",
       "      <td>8437</td>\n",
       "      <td>42</td>\n",
       "      <td>высшее</td>\n",
       "      <td>0</td>\n",
       "      <td>женат / замужем</td>\n",
       "      <td>0</td>\n",
       "      <td>F</td>\n",
       "      <td>сотрудник</td>\n",
       "      <td>0</td>\n",
       "      <td>253875</td>\n",
       "      <td>покупка жилья</td>\n",
       "      <td>False</td>\n",
       "      <td>False</td>\n",
       "      <td>недвижимость</td>\n",
       "    </tr>\n",
       "    <tr>\n",
       "      <th>1</th>\n",
       "      <td>1</td>\n",
       "      <td>4024</td>\n",
       "      <td>36</td>\n",
       "      <td>среднее</td>\n",
       "      <td>1</td>\n",
       "      <td>женат / замужем</td>\n",
       "      <td>0</td>\n",
       "      <td>F</td>\n",
       "      <td>сотрудник</td>\n",
       "      <td>0</td>\n",
       "      <td>112080</td>\n",
       "      <td>приобретение автомобиля</td>\n",
       "      <td>False</td>\n",
       "      <td>False</td>\n",
       "      <td>автомобиль</td>\n",
       "    </tr>\n",
       "    <tr>\n",
       "      <th>2</th>\n",
       "      <td>0</td>\n",
       "      <td>5623</td>\n",
       "      <td>33</td>\n",
       "      <td>среднее</td>\n",
       "      <td>1</td>\n",
       "      <td>женат / замужем</td>\n",
       "      <td>0</td>\n",
       "      <td>M</td>\n",
       "      <td>сотрудник</td>\n",
       "      <td>0</td>\n",
       "      <td>145885</td>\n",
       "      <td>покупка жилья</td>\n",
       "      <td>False</td>\n",
       "      <td>False</td>\n",
       "      <td>недвижимость</td>\n",
       "    </tr>\n",
       "    <tr>\n",
       "      <th>3</th>\n",
       "      <td>3</td>\n",
       "      <td>4124</td>\n",
       "      <td>32</td>\n",
       "      <td>среднее</td>\n",
       "      <td>1</td>\n",
       "      <td>женат / замужем</td>\n",
       "      <td>0</td>\n",
       "      <td>M</td>\n",
       "      <td>сотрудник</td>\n",
       "      <td>0</td>\n",
       "      <td>267628</td>\n",
       "      <td>дополнительное образование</td>\n",
       "      <td>False</td>\n",
       "      <td>False</td>\n",
       "      <td>образование</td>\n",
       "    </tr>\n",
       "    <tr>\n",
       "      <th>4</th>\n",
       "      <td>0</td>\n",
       "      <td>14177</td>\n",
       "      <td>53</td>\n",
       "      <td>среднее</td>\n",
       "      <td>1</td>\n",
       "      <td>гражданский брак</td>\n",
       "      <td>1</td>\n",
       "      <td>F</td>\n",
       "      <td>пенсионер</td>\n",
       "      <td>0</td>\n",
       "      <td>158616</td>\n",
       "      <td>сыграть свадьбу</td>\n",
       "      <td>False</td>\n",
       "      <td>False</td>\n",
       "      <td>свадьба</td>\n",
       "    </tr>\n",
       "    <tr>\n",
       "      <th>5</th>\n",
       "      <td>0</td>\n",
       "      <td>926</td>\n",
       "      <td>27</td>\n",
       "      <td>высшее</td>\n",
       "      <td>0</td>\n",
       "      <td>гражданский брак</td>\n",
       "      <td>1</td>\n",
       "      <td>M</td>\n",
       "      <td>компаньон</td>\n",
       "      <td>0</td>\n",
       "      <td>255763</td>\n",
       "      <td>покупка жилья</td>\n",
       "      <td>False</td>\n",
       "      <td>False</td>\n",
       "      <td>недвижимость</td>\n",
       "    </tr>\n",
       "    <tr>\n",
       "      <th>6</th>\n",
       "      <td>0</td>\n",
       "      <td>2879</td>\n",
       "      <td>43</td>\n",
       "      <td>высшее</td>\n",
       "      <td>0</td>\n",
       "      <td>женат / замужем</td>\n",
       "      <td>0</td>\n",
       "      <td>F</td>\n",
       "      <td>компаньон</td>\n",
       "      <td>0</td>\n",
       "      <td>240525</td>\n",
       "      <td>операции с жильем</td>\n",
       "      <td>False</td>\n",
       "      <td>False</td>\n",
       "      <td>недвижимость</td>\n",
       "    </tr>\n",
       "    <tr>\n",
       "      <th>7</th>\n",
       "      <td>0</td>\n",
       "      <td>152</td>\n",
       "      <td>50</td>\n",
       "      <td>среднее</td>\n",
       "      <td>1</td>\n",
       "      <td>женат / замужем</td>\n",
       "      <td>0</td>\n",
       "      <td>M</td>\n",
       "      <td>сотрудник</td>\n",
       "      <td>0</td>\n",
       "      <td>135823</td>\n",
       "      <td>образование</td>\n",
       "      <td>False</td>\n",
       "      <td>False</td>\n",
       "      <td>образование</td>\n",
       "    </tr>\n",
       "    <tr>\n",
       "      <th>8</th>\n",
       "      <td>2</td>\n",
       "      <td>6929</td>\n",
       "      <td>35</td>\n",
       "      <td>высшее</td>\n",
       "      <td>0</td>\n",
       "      <td>гражданский брак</td>\n",
       "      <td>1</td>\n",
       "      <td>F</td>\n",
       "      <td>сотрудник</td>\n",
       "      <td>0</td>\n",
       "      <td>95856</td>\n",
       "      <td>на проведение свадьбы</td>\n",
       "      <td>False</td>\n",
       "      <td>False</td>\n",
       "      <td>свадьба</td>\n",
       "    </tr>\n",
       "    <tr>\n",
       "      <th>9</th>\n",
       "      <td>0</td>\n",
       "      <td>2188</td>\n",
       "      <td>41</td>\n",
       "      <td>среднее</td>\n",
       "      <td>1</td>\n",
       "      <td>женат / замужем</td>\n",
       "      <td>0</td>\n",
       "      <td>M</td>\n",
       "      <td>сотрудник</td>\n",
       "      <td>0</td>\n",
       "      <td>144425</td>\n",
       "      <td>покупка жилья для семьи</td>\n",
       "      <td>False</td>\n",
       "      <td>False</td>\n",
       "      <td>недвижимость</td>\n",
       "    </tr>\n",
       "  </tbody>\n",
       "</table>\n",
       "</div>"
      ],
      "text/plain": [
       "   children  days_employed  dob_years education  education_id  \\\n",
       "0         1           8437         42    высшее             0   \n",
       "1         1           4024         36   среднее             1   \n",
       "2         0           5623         33   среднее             1   \n",
       "3         3           4124         32   среднее             1   \n",
       "4         0          14177         53   среднее             1   \n",
       "5         0            926         27    высшее             0   \n",
       "6         0           2879         43    высшее             0   \n",
       "7         0            152         50   среднее             1   \n",
       "8         2           6929         35    высшее             0   \n",
       "9         0           2188         41   среднее             1   \n",
       "\n",
       "      family_status  family_status_id gender income_type  debt  total_income  \\\n",
       "0   женат / замужем                 0      F   сотрудник     0        253875   \n",
       "1   женат / замужем                 0      F   сотрудник     0        112080   \n",
       "2   женат / замужем                 0      M   сотрудник     0        145885   \n",
       "3   женат / замужем                 0      M   сотрудник     0        267628   \n",
       "4  гражданский брак                 1      F   пенсионер     0        158616   \n",
       "5  гражданский брак                 1      M   компаньон     0        255763   \n",
       "6   женат / замужем                 0      F   компаньон     0        240525   \n",
       "7   женат / замужем                 0      M   сотрудник     0        135823   \n",
       "8  гражданский брак                 1      F   сотрудник     0         95856   \n",
       "9   женат / замужем                 0      M   сотрудник     0        144425   \n",
       "\n",
       "                      purpose  missing_days_employed  missing_total_income  \\\n",
       "0               покупка жилья                  False                 False   \n",
       "1     приобретение автомобиля                  False                 False   \n",
       "2               покупка жилья                  False                 False   \n",
       "3  дополнительное образование                  False                 False   \n",
       "4             сыграть свадьбу                  False                 False   \n",
       "5               покупка жилья                  False                 False   \n",
       "6           операции с жильем                  False                 False   \n",
       "7                 образование                  False                 False   \n",
       "8       на проведение свадьбы                  False                 False   \n",
       "9     покупка жилья для семьи                  False                 False   \n",
       "\n",
       "       category  \n",
       "0  недвижимость  \n",
       "1    автомобиль  \n",
       "2  недвижимость  \n",
       "3   образование  \n",
       "4       свадьба  \n",
       "5  недвижимость  \n",
       "6  недвижимость  \n",
       "7   образование  \n",
       "8       свадьба  \n",
       "9  недвижимость  "
      ]
     },
     "execution_count": 16,
     "metadata": {},
     "output_type": "execute_result"
    }
   ],
   "source": [
    "# Создадим новый столбец (category) с категориями на основании результатов лемматизации\n",
    "row = pd.Series(data['purpose'])\n",
    "def objective (purpose):\n",
    "    purpose_lemmas = m.lemmatize(purpose)\n",
    "    if 'недвижимость' in purpose_lemmas or 'жилье' in purpose_lemmas or 'строительство' in purpose_lemmas or 'жилой' in purpose_lemmas:\n",
    "        return 'недвижимость'\n",
    "    if 'автомобиль' in purpose_lemmas:\n",
    "        return 'автомобиль'\n",
    "    if 'образование' in purpose_lemmas:\n",
    "        return 'образование'\n",
    "    if 'свадьба' in purpose_lemmas:\n",
    "        return 'свадьба'\n",
    "    return 'прочее'\n",
    "\n",
    "data['category'] = data['purpose'].apply(objective)\n",
    "data.head(10)\n"
   ]
  },
  {
   "cell_type": "markdown",
   "metadata": {},
   "source": [
    "**Вывод**"
   ]
  },
  {
   "cell_type": "markdown",
   "metadata": {},
   "source": [
    "После группировки цели кредита разделены на 5 групп (недвижимость, автомобиль, образование, свадьба и прочее). "
   ]
  },
  {
   "cell_type": "markdown",
   "metadata": {},
   "source": [
    "<div class=\"alert alert-success\">\n",
    "<b>✅ Комментарий ревьюера :</b> \n",
    "\n",
    "Лемматизация произдедена верно, молодец, что сделала расчет частотнсости. Только саму категоризацию наверно надо было перенести в раздел ниже\n",
    "</div>"
   ]
  },
  {
   "cell_type": "markdown",
   "metadata": {},
   "source": [
    "## Шаг 3. Ответьте на вопросы"
   ]
  },
  {
   "cell_type": "markdown",
   "metadata": {},
   "source": [
    "- Есть ли зависимость между наличием детей и возвратом кредита в срок?"
   ]
  },
  {
   "cell_type": "code",
   "execution_count": 17,
   "metadata": {},
   "outputs": [
    {
     "data": {
      "text/html": [
       "<div>\n",
       "<style scoped>\n",
       "    .dataframe tbody tr th:only-of-type {\n",
       "        vertical-align: middle;\n",
       "    }\n",
       "\n",
       "    .dataframe tbody tr th {\n",
       "        vertical-align: top;\n",
       "    }\n",
       "\n",
       "    .dataframe thead th {\n",
       "        text-align: right;\n",
       "    }\n",
       "</style>\n",
       "<table border=\"1\" class=\"dataframe\">\n",
       "  <thead>\n",
       "    <tr style=\"text-align: right;\">\n",
       "      <th></th>\n",
       "      <th>no_debt</th>\n",
       "      <th>debt</th>\n",
       "      <th>%</th>\n",
       "    </tr>\n",
       "    <tr>\n",
       "      <th>kids_group</th>\n",
       "      <th></th>\n",
       "      <th></th>\n",
       "      <th></th>\n",
       "    </tr>\n",
       "  </thead>\n",
       "  <tbody>\n",
       "    <tr>\n",
       "      <th>есть дети</th>\n",
       "      <td>6639</td>\n",
       "      <td>677</td>\n",
       "      <td>0.09</td>\n",
       "    </tr>\n",
       "    <tr>\n",
       "      <th>нет детей</th>\n",
       "      <td>13074</td>\n",
       "      <td>1064</td>\n",
       "      <td>0.08</td>\n",
       "    </tr>\n",
       "  </tbody>\n",
       "</table>\n",
       "</div>"
      ],
      "text/plain": [
       "              no_debt  debt    %\n",
       " kids_group                     \n",
       "есть дети        6639   677 0.09\n",
       "нет детей       13074  1064 0.08"
      ]
     },
     "execution_count": 17,
     "metadata": {},
     "output_type": "execute_result"
    }
   ],
   "source": [
    "def kids_group(children):\n",
    "    if children <= 0:\n",
    "        return 'нет детей'\n",
    "    return 'есть дети' \n",
    "data[' kids_group '] = data['children'].apply(kids_group)\n",
    "#data.head(10)\n",
    "data_pivot_children = data.pivot_table(index = [' kids_group '], columns = 'debt', values = 'total_income', aggfunc = 'count')\n",
    "data_pivot_children.columns = ['no_debt', 'debt']\n",
    "data_pivot_children ['%'] = data_pivot_children ['debt'] / (data_pivot_children ['debt']  +  data_pivot_children['no_debt'])\n",
    "data_pivot_children\n",
    "\n"
   ]
  },
  {
   "cell_type": "markdown",
   "metadata": {},
   "source": [
    "**Вывод**"
   ]
  },
  {
   "cell_type": "markdown",
   "metadata": {},
   "source": [
    "Заемщики с детьми и заемщики без детей имеют примерно одинаковый % задолженности по кредитам: у заемщиков без детей общий% задолженности 7.5%, а с детьми 9.2%, что выше на 2%. "
   ]
  },
  {
   "cell_type": "markdown",
   "metadata": {},
   "source": [
    "<div class=\"alert alert-success\">\n",
    "<b>✅ Комментарий ревьюера :</b> \n",
    "\n",
    "Группировка наглядная и понятная, выввод корректный. Именно доля хорошо показывает разницу\n",
    "</div>"
   ]
  },
  {
   "cell_type": "markdown",
   "metadata": {},
   "source": [
    "- Есть ли зависимость между семейным положением и возвратом кредита в срок?"
   ]
  },
  {
   "cell_type": "code",
   "execution_count": 18,
   "metadata": {},
   "outputs": [
    {
     "data": {
      "text/html": [
       "<div>\n",
       "<style scoped>\n",
       "    .dataframe tbody tr th:only-of-type {\n",
       "        vertical-align: middle;\n",
       "    }\n",
       "\n",
       "    .dataframe tbody tr th {\n",
       "        vertical-align: top;\n",
       "    }\n",
       "\n",
       "    .dataframe thead th {\n",
       "        text-align: right;\n",
       "    }\n",
       "</style>\n",
       "<table border=\"1\" class=\"dataframe\">\n",
       "  <thead>\n",
       "    <tr style=\"text-align: right;\">\n",
       "      <th></th>\n",
       "      <th>no_debt</th>\n",
       "      <th>debt</th>\n",
       "      <th>%</th>\n",
       "    </tr>\n",
       "    <tr>\n",
       "      <th>family_status</th>\n",
       "      <th></th>\n",
       "      <th></th>\n",
       "      <th></th>\n",
       "    </tr>\n",
       "  </thead>\n",
       "  <tbody>\n",
       "    <tr>\n",
       "      <th>вдовец / вдова</th>\n",
       "      <td>896</td>\n",
       "      <td>63</td>\n",
       "      <td>0.07</td>\n",
       "    </tr>\n",
       "    <tr>\n",
       "      <th>в разводе</th>\n",
       "      <td>1110</td>\n",
       "      <td>85</td>\n",
       "      <td>0.07</td>\n",
       "    </tr>\n",
       "    <tr>\n",
       "      <th>женат / замужем</th>\n",
       "      <td>11408</td>\n",
       "      <td>931</td>\n",
       "      <td>0.08</td>\n",
       "    </tr>\n",
       "    <tr>\n",
       "      <th>гражданский брак</th>\n",
       "      <td>3763</td>\n",
       "      <td>388</td>\n",
       "      <td>0.09</td>\n",
       "    </tr>\n",
       "    <tr>\n",
       "      <th>не женат / не замужем</th>\n",
       "      <td>2536</td>\n",
       "      <td>274</td>\n",
       "      <td>0.10</td>\n",
       "    </tr>\n",
       "  </tbody>\n",
       "</table>\n",
       "</div>"
      ],
      "text/plain": [
       "                       no_debt  debt    %\n",
       "family_status                            \n",
       "вдовец / вдова             896    63 0.07\n",
       "в разводе                 1110    85 0.07\n",
       "женат / замужем          11408   931 0.08\n",
       "гражданский брак          3763   388 0.09\n",
       "не женат / не замужем     2536   274 0.10"
      ]
     },
     "execution_count": 18,
     "metadata": {},
     "output_type": "execute_result"
    }
   ],
   "source": [
    "data_pivot_f_status = data.pivot_table(index = ['family_status'], columns = 'debt', values = 'total_income', aggfunc = 'count')\n",
    "data_pivot_f_status.columns = ['no_debt', 'debt']\n",
    "data_pivot_f_status ['%'] = data_pivot_f_status ['debt'] / (data_pivot_f_status ['debt']  +  data_pivot_f_status['no_debt'])\n",
    "data_pivot_f_status.sort_values(by='%',ascending=True)\n"
   ]
  },
  {
   "cell_type": "markdown",
   "metadata": {},
   "source": [
    "**Вывод**\n"
   ]
  },
  {
   "cell_type": "markdown",
   "metadata": {},
   "source": [
    "Разведенные и одинокие заемщики в стаусе «вдовец/вдова» имеют меньший % задолженности, чем семейные пары. Но они и кредитами пользуются реже семейных пар. Самый высокий процент задолженности у холостых заемщиков и у семейных пар в гражданском браке. Этот вывод подверждает распространнное мнение, о том, что семейное положение тоже имеет свое значение для кредиторов. Они считают, что люди, состоящие в законном браке, больше заинтересованы в возврате долга."
   ]
  },
  {
   "cell_type": "markdown",
   "metadata": {},
   "source": [
    "<div class=\"alert alert-success\">\n",
    "<b>✅ Комментарий ревьюера :</b> \n",
    "\n",
    "С выводом сгласен\n",
    "</div>"
   ]
  },
  {
   "cell_type": "markdown",
   "metadata": {},
   "source": [
    "- Есть ли зависимость между уровнем дохода и возвратом кредита в срок?"
   ]
  },
  {
   "cell_type": "code",
   "execution_count": 19,
   "metadata": {},
   "outputs": [
    {
     "name": "stdout",
     "output_type": "stream",
     "text": [
      "20667\n",
      "2265604\n",
      "142594.0\n"
     ]
    }
   ],
   "source": [
    "# находим min, max и медиану в столбце дохода\n",
    "print(data['total_income'].min())\n",
    "print(data['total_income'].max())\n",
    "print(data['total_income'].median())"
   ]
  },
  {
   "cell_type": "code",
   "execution_count": 20,
   "metadata": {},
   "outputs": [
    {
     "data": {
      "text/html": [
       "<div>\n",
       "<style scoped>\n",
       "    .dataframe tbody tr th:only-of-type {\n",
       "        vertical-align: middle;\n",
       "    }\n",
       "\n",
       "    .dataframe tbody tr th {\n",
       "        vertical-align: top;\n",
       "    }\n",
       "\n",
       "    .dataframe thead th {\n",
       "        text-align: right;\n",
       "    }\n",
       "</style>\n",
       "<table border=\"1\" class=\"dataframe\">\n",
       "  <thead>\n",
       "    <tr style=\"text-align: right;\">\n",
       "      <th></th>\n",
       "      <th>total</th>\n",
       "      <th>debt</th>\n",
       "      <th>%</th>\n",
       "    </tr>\n",
       "    <tr>\n",
       "      <th>income_group</th>\n",
       "      <th></th>\n",
       "      <th></th>\n",
       "      <th></th>\n",
       "    </tr>\n",
       "  </thead>\n",
       "  <tbody>\n",
       "    <tr>\n",
       "      <th>от 500 000 до 1 000 000 руб.</th>\n",
       "      <td>197</td>\n",
       "      <td>12</td>\n",
       "      <td>0.06</td>\n",
       "    </tr>\n",
       "    <tr>\n",
       "      <th>до 100 000 руб.</th>\n",
       "      <td>4463</td>\n",
       "      <td>354</td>\n",
       "      <td>0.08</td>\n",
       "    </tr>\n",
       "    <tr>\n",
       "      <th>больше 1 000 000</th>\n",
       "      <td>25</td>\n",
       "      <td>2</td>\n",
       "      <td>0.08</td>\n",
       "    </tr>\n",
       "    <tr>\n",
       "      <th>от 100 000 до 500 000 руб</th>\n",
       "      <td>16769</td>\n",
       "      <td>1373</td>\n",
       "      <td>0.08</td>\n",
       "    </tr>\n",
       "  </tbody>\n",
       "</table>\n",
       "</div>"
      ],
      "text/plain": [
       "                              total  debt    %\n",
       "income_group                                  \n",
       "от 500 000 до 1 000 000 руб.    197    12 0.06\n",
       "до 100 000 руб.                4463   354 0.08\n",
       "больше 1 000 000                 25     2 0.08\n",
       "от 100 000 до 500 000 руб     16769  1373 0.08"
      ]
     },
     "execution_count": 20,
     "metadata": {},
     "output_type": "execute_result"
    }
   ],
   "source": [
    "# группируем по уровню дохода: \n",
    "def income_group(total_income):\n",
    "    if total_income <= 100000:\n",
    "        return 'до 100 000 руб.'\n",
    "    if total_income <= 500000:\n",
    "        return 'от 100 000 до 500 000 руб'\n",
    "    if total_income <=1000000:\n",
    "        return 'от 500 000 до 1 000 000 руб.'\n",
    "    return 'больше 1 000 000' \n",
    "data['income_group'] = data['total_income'].apply(income_group)\n",
    "#data.head(20).sort_values(by='income_group',ascending=True)\n",
    "data_pivot_i_status = data.groupby('income_group').agg({'debt': ['count','sum','mean']})\n",
    "data_pivot_i_status.columns = ['total', 'debt', '%']\n",
    "data_pivot_i_status.sort_values(by='%',ascending=True)\n"
   ]
  },
  {
   "cell_type": "markdown",
   "metadata": {},
   "source": [
    "**Вывод** "
   ]
  },
  {
   "cell_type": "markdown",
   "metadata": {},
   "source": [
    "Из моей группировки следует, что хуже всего с возвратом займов у довольно обеспеченной группы с доходом от 100 до 500 тыс.руб При этом, большой разницы между задолженностью заемщиков с разным уровнем доходов нет. Максимальное отличие = 2%. "
   ]
  },
  {
   "cell_type": "markdown",
   "metadata": {},
   "source": [
    "<div class=\"alert alert-success\">\n",
    "<b>✅ Комментарий ревьюера :</b> \n",
    "\n",
    "С выводом согласен\n",
    "</div>"
   ]
  },
  {
   "cell_type": "markdown",
   "metadata": {},
   "source": [
    "- Как разные цели кредита влияют на его возврат в срок?"
   ]
  },
  {
   "cell_type": "code",
   "execution_count": 21,
   "metadata": {},
   "outputs": [
    {
     "data": {
      "text/html": [
       "<div>\n",
       "<style scoped>\n",
       "    .dataframe tbody tr th:only-of-type {\n",
       "        vertical-align: middle;\n",
       "    }\n",
       "\n",
       "    .dataframe tbody tr th {\n",
       "        vertical-align: top;\n",
       "    }\n",
       "\n",
       "    .dataframe thead th {\n",
       "        text-align: right;\n",
       "    }\n",
       "</style>\n",
       "<table border=\"1\" class=\"dataframe\">\n",
       "  <thead>\n",
       "    <tr style=\"text-align: right;\">\n",
       "      <th></th>\n",
       "      <th>total</th>\n",
       "      <th>debt</th>\n",
       "      <th>%</th>\n",
       "    </tr>\n",
       "    <tr>\n",
       "      <th>category</th>\n",
       "      <th></th>\n",
       "      <th></th>\n",
       "      <th></th>\n",
       "    </tr>\n",
       "  </thead>\n",
       "  <tbody>\n",
       "    <tr>\n",
       "      <th>недвижимость</th>\n",
       "      <td>10811</td>\n",
       "      <td>782</td>\n",
       "      <td>0.07</td>\n",
       "    </tr>\n",
       "    <tr>\n",
       "      <th>свадьба</th>\n",
       "      <td>2324</td>\n",
       "      <td>186</td>\n",
       "      <td>0.08</td>\n",
       "    </tr>\n",
       "    <tr>\n",
       "      <th>образование</th>\n",
       "      <td>4013</td>\n",
       "      <td>370</td>\n",
       "      <td>0.09</td>\n",
       "    </tr>\n",
       "    <tr>\n",
       "      <th>автомобиль</th>\n",
       "      <td>4306</td>\n",
       "      <td>403</td>\n",
       "      <td>0.09</td>\n",
       "    </tr>\n",
       "  </tbody>\n",
       "</table>\n",
       "</div>"
      ],
      "text/plain": [
       "              total  debt    %\n",
       "category                      \n",
       "недвижимость  10811   782 0.07\n",
       "свадьба        2324   186 0.08\n",
       "образование    4013   370 0.09\n",
       "автомобиль     4306   403 0.09"
      ]
     },
     "execution_count": 21,
     "metadata": {},
     "output_type": "execute_result"
    }
   ],
   "source": [
    "data_purpose = data.groupby('category').agg({'debt': ['count','sum','mean']})\n",
    "data_purpose.columns = ['total', 'debt', '%']\n",
    "data_purpose.sort_values(by='%',ascending=True)"
   ]
  },
  {
   "cell_type": "markdown",
   "metadata": {},
   "source": [
    "**Вывод**"
   ]
  },
  {
   "cell_type": "markdown",
   "metadata": {},
   "source": [
    "И снова все те же 2% разницы: кредиты, связанные с недвижимостю, возвращают лучше чем займы на образование и авто."
   ]
  },
  {
   "cell_type": "markdown",
   "metadata": {},
   "source": [
    "<div class=\"alert alert-success\">\n",
    "<b>✅ Комментарий ревьюера :</b> \n",
    "\n",
    "С выводом согласен\n",
    "</div>"
   ]
  },
  {
   "cell_type": "markdown",
   "metadata": {},
   "source": [
    "## Шаг 4. Общий вывод"
   ]
  },
  {
   "cell_type": "markdown",
   "metadata": {},
   "source": [
    "При работе в Исследовании надёжности заёмщиков, я нашла зависимости в пропущенных значениях, заполнила пропущенные значения, удалила дубликаты и выделила категории для целей кредита. \n",
    "Применив сводные таблицы, я оценила, какие критерии влияют на возврат кредита. \n",
    "Я проверила четыре предположения и установила:\n",
    "1.\tЗависимость между наличием детей и возвратом кредита в срок есть, но она небольшая. Заемщики без детей на 2% лучше возвращают кредиты. Это опровергает мнение о том, что заемщик с детьми вряд ли станет рисковать, выбирая трудный для себя кредит.\n",
    "2.\tЗависимость между семейным положением и возвратом кредита в срок имеет тот же градиент в 2%: Хуже всего отдают кредиты холостые заемщики и семейные пары в гражданском браке. Этот вывод подтверждает распространённое мнение о том, что семейное положение заемщика— несомненный плюс для большинства банков. \n",
    "3.\t3ависимость между уровнем дохода и возвратом кредита в срок: хуже всего с погашением кредита оказалось у категории от 100 000 до 500 000 руб. Неожиданный вывод. Парадоксально, но обеспеченный человек не является идеальным заёмщиком. Вероятно, имея хороший уровень дохода, он не зависит от дальнейших отношений с банком. В то время как человек с небольшим доходом боится просрочек и неисполнения обязательств по договору в срок, потому что понимает, что за этим последуют штрафные санкции.\n",
    "4.\tКак разные цели кредита влияют на его возврат в срок: в этой выборке победила недвижимость. Займы на недвижимость погашаются в срок лучше других категорий.\n",
    "\n"
   ]
  },
  {
   "cell_type": "markdown",
   "metadata": {},
   "source": [
    "<div class=\"alert alert-success\">\n",
    "<b>✅ Комментарий ревьюера :</b> \n",
    "\n",
    "Общий вывод принят\n",
    "</div>"
   ]
  },
  {
   "cell_type": "markdown",
   "metadata": {},
   "source": [
    "## Чек-лист готовности проекта\n",
    "\n",
    "Поставьте 'x' в выполненных пунктах. Далее нажмите Shift+Enter."
   ]
  },
  {
   "cell_type": "markdown",
   "metadata": {},
   "source": [
    "- [x]  открыт файл;\n",
    "- [x]  файл изучен;\n",
    "- [x]  определены пропущенные значения;\n",
    "- [x]  заполнены пропущенные значения;\n",
    "- [x]  есть пояснение, какие пропущенные значения обнаружены;\n",
    "- [x]  описаны возможные причины появления пропусков в данных;\n",
    "- [x]  объяснено, по какому принципу заполнены пропуски;\n",
    "- [x]  заменен вещественный тип данных на целочисленный;\n",
    "- [x]  есть пояснение, какой метод используется для изменения типа данных и почему;\n",
    "- [x]  удалены дубликаты;\n",
    "- [x]  есть пояснение, какой метод используется для поиска и удаления дубликатов;\n",
    "- [x]  описаны возможные причины появления дубликатов в данных;\n",
    "- [x]  выделены леммы в значениях столбца с целями получения кредита;\n",
    "- [x]  описан процесс лемматизации;\n",
    "- [x]  данные категоризированы;\n",
    "- [x]  есть объяснение принципа категоризации данных;\n",
    "- [x]  есть ответ на вопрос: \"Есть ли зависимость между наличием детей и возвратом кредита в срок?\";\n",
    "- [x] есть ответ на вопрос: \"Есть ли зависимость между семейным положением и возвратом кредита в срок?\";\n",
    "- [x]  есть ответ на вопрос: \"Есть ли зависимость между уровнем дохода и возвратом кредита в срок?\";\n",
    "- [x]  есть ответ на вопрос: \"Как разные цели кредита влияют на его возврат в срок?\";\n",
    "- [x]  в каждом этапе есть выводы;\n",
    "- [x] есть общий вывод."
   ]
  },
  {
   "cell_type": "code",
   "execution_count": null,
   "metadata": {},
   "outputs": [],
   "source": []
  }
 ],
 "metadata": {
  "ExecuteTimeLog": [
   {
    "duration": 699,
    "start_time": "2021-12-18T11:34:30.084Z"
   },
   {
    "duration": 47,
    "start_time": "2021-12-18T11:34:41.880Z"
   },
   {
    "duration": 67,
    "start_time": "2021-12-18T11:36:16.273Z"
   },
   {
    "duration": 58,
    "start_time": "2021-12-18T12:06:11.647Z"
   },
   {
    "duration": 64,
    "start_time": "2021-12-18T12:06:34.317Z"
   },
   {
    "duration": 98,
    "start_time": "2021-12-18T12:16:19.209Z"
   },
   {
    "duration": 874,
    "start_time": "2021-12-18T14:16:19.910Z"
   },
   {
    "duration": 7851,
    "start_time": "2021-12-18T14:16:20.786Z"
   },
   {
    "duration": 14,
    "start_time": "2021-12-18T14:18:16.689Z"
   },
   {
    "duration": 16,
    "start_time": "2021-12-18T14:19:54.000Z"
   },
   {
    "duration": 152,
    "start_time": "2021-12-18T14:22:31.645Z"
   },
   {
    "duration": 21,
    "start_time": "2021-12-18T14:23:25.726Z"
   },
   {
    "duration": 752,
    "start_time": "2021-12-18T14:23:41.912Z"
   },
   {
    "duration": 25,
    "start_time": "2021-12-18T14:23:42.666Z"
   },
   {
    "duration": 688,
    "start_time": "2021-12-18T14:24:21.735Z"
   },
   {
    "duration": 109,
    "start_time": "2021-12-18T14:24:22.425Z"
   },
   {
    "duration": 677,
    "start_time": "2021-12-18T14:24:42.039Z"
   },
   {
    "duration": 95,
    "start_time": "2021-12-18T14:24:42.718Z"
   },
   {
    "duration": 669,
    "start_time": "2021-12-18T14:25:31.559Z"
   },
   {
    "duration": 118,
    "start_time": "2021-12-18T14:25:32.230Z"
   },
   {
    "duration": 117,
    "start_time": "2021-12-18T14:26:59.602Z"
   },
   {
    "duration": 104,
    "start_time": "2021-12-18T14:27:08.261Z"
   },
   {
    "duration": 96,
    "start_time": "2021-12-18T14:29:34.635Z"
   },
   {
    "duration": 21,
    "start_time": "2021-12-18T14:29:43.474Z"
   },
   {
    "duration": 19,
    "start_time": "2021-12-18T14:30:22.402Z"
   },
   {
    "duration": 718,
    "start_time": "2021-12-18T14:30:35.717Z"
   },
   {
    "duration": 16,
    "start_time": "2021-12-18T14:30:36.437Z"
   },
   {
    "duration": 146,
    "start_time": "2021-12-18T14:32:12.196Z"
   },
   {
    "duration": 107,
    "start_time": "2021-12-18T14:32:26.820Z"
   },
   {
    "duration": 125,
    "start_time": "2021-12-18T14:32:36.288Z"
   },
   {
    "duration": 99,
    "start_time": "2021-12-18T14:32:45.612Z"
   },
   {
    "duration": 100,
    "start_time": "2021-12-18T14:32:54.217Z"
   },
   {
    "duration": 110,
    "start_time": "2021-12-18T14:42:25.717Z"
   },
   {
    "duration": 5,
    "start_time": "2021-12-18T14:43:00.701Z"
   },
   {
    "duration": 782,
    "start_time": "2021-12-18T14:43:19.198Z"
   },
   {
    "duration": 17,
    "start_time": "2021-12-18T14:43:19.983Z"
   },
   {
    "duration": 5,
    "start_time": "2021-12-18T14:43:20.002Z"
   },
   {
    "duration": 356,
    "start_time": "2021-12-18T14:47:49.755Z"
   },
   {
    "duration": 368,
    "start_time": "2021-12-18T14:49:01.305Z"
   },
   {
    "duration": 291,
    "start_time": "2021-12-18T14:49:09.189Z"
   },
   {
    "duration": 4,
    "start_time": "2021-12-18T14:49:37.139Z"
   },
   {
    "duration": 333,
    "start_time": "2021-12-18T14:49:47.482Z"
   },
   {
    "duration": 101,
    "start_time": "2021-12-18T14:54:32.852Z"
   },
   {
    "duration": 96,
    "start_time": "2021-12-18T14:59:07.744Z"
   },
   {
    "duration": 343,
    "start_time": "2021-12-18T14:59:20.786Z"
   },
   {
    "duration": 4,
    "start_time": "2021-12-18T14:59:55.396Z"
   },
   {
    "duration": 9,
    "start_time": "2021-12-18T15:01:10.805Z"
   },
   {
    "duration": 14,
    "start_time": "2021-12-18T15:01:41.365Z"
   },
   {
    "duration": 18,
    "start_time": "2021-12-18T15:02:02.678Z"
   },
   {
    "duration": 28,
    "start_time": "2021-12-18T15:02:19.065Z"
   },
   {
    "duration": 312,
    "start_time": "2021-12-18T15:05:38.409Z"
   },
   {
    "duration": 17,
    "start_time": "2021-12-18T15:05:45.780Z"
   },
   {
    "duration": 670,
    "start_time": "2021-12-18T15:19:18.345Z"
   },
   {
    "duration": 23,
    "start_time": "2021-12-18T15:19:19.017Z"
   },
   {
    "duration": 355,
    "start_time": "2021-12-18T15:31:35.049Z"
   },
   {
    "duration": 4,
    "start_time": "2021-12-18T15:31:48.037Z"
   },
   {
    "duration": 13,
    "start_time": "2021-12-18T15:31:57.628Z"
   },
   {
    "duration": 6,
    "start_time": "2021-12-18T15:32:28.833Z"
   },
   {
    "duration": 310,
    "start_time": "2021-12-18T15:40:17.696Z"
   },
   {
    "duration": 8,
    "start_time": "2021-12-18T15:40:46.363Z"
   },
   {
    "duration": 35,
    "start_time": "2021-12-18T16:09:24.274Z"
   },
   {
    "duration": 693,
    "start_time": "2021-12-18T16:11:41.535Z"
   },
   {
    "duration": 21,
    "start_time": "2021-12-18T16:11:42.230Z"
   },
   {
    "duration": 7,
    "start_time": "2021-12-18T16:11:42.254Z"
   },
   {
    "duration": 14,
    "start_time": "2021-12-18T16:12:10.538Z"
   },
   {
    "duration": 5,
    "start_time": "2021-12-18T16:13:27.357Z"
   },
   {
    "duration": 2344,
    "start_time": "2021-12-18T16:15:35.011Z"
   },
   {
    "duration": 1876,
    "start_time": "2021-12-18T16:15:48.535Z"
   },
   {
    "duration": 31,
    "start_time": "2021-12-18T16:16:19.299Z"
   },
   {
    "duration": 18,
    "start_time": "2021-12-18T16:22:00.198Z"
   },
   {
    "duration": 395,
    "start_time": "2021-12-18T16:23:29.966Z"
   },
   {
    "duration": 296,
    "start_time": "2021-12-18T16:24:36.496Z"
   },
   {
    "duration": 60,
    "start_time": "2021-12-18T16:28:07.394Z"
   },
   {
    "duration": 59,
    "start_time": "2021-12-18T16:28:42.990Z"
   },
   {
    "duration": 73,
    "start_time": "2021-12-18T16:30:26.191Z"
   },
   {
    "duration": 75,
    "start_time": "2021-12-18T16:30:45.750Z"
   },
   {
    "duration": 133,
    "start_time": "2021-12-18T16:31:09.914Z"
   },
   {
    "duration": 78,
    "start_time": "2021-12-18T16:33:44.627Z"
   },
   {
    "duration": 693,
    "start_time": "2021-12-18T16:34:52.103Z"
   },
   {
    "duration": 23,
    "start_time": "2021-12-18T16:34:52.798Z"
   },
   {
    "duration": 8,
    "start_time": "2021-12-18T16:34:52.823Z"
   },
   {
    "duration": 4,
    "start_time": "2021-12-18T16:34:52.833Z"
   },
   {
    "duration": 85,
    "start_time": "2021-12-18T16:37:24.214Z"
   },
   {
    "duration": 35,
    "start_time": "2021-12-18T17:02:03.438Z"
   },
   {
    "duration": 14,
    "start_time": "2021-12-18T17:05:59.960Z"
   },
   {
    "duration": 695,
    "start_time": "2021-12-18T17:07:38.571Z"
   },
   {
    "duration": 21,
    "start_time": "2021-12-18T17:07:39.268Z"
   },
   {
    "duration": 18,
    "start_time": "2021-12-18T17:07:39.291Z"
   },
   {
    "duration": 5,
    "start_time": "2021-12-18T17:07:39.311Z"
   },
   {
    "duration": 70,
    "start_time": "2021-12-18T17:07:39.317Z"
   },
   {
    "duration": 25,
    "start_time": "2021-12-18T17:07:39.389Z"
   },
   {
    "duration": 363,
    "start_time": "2021-12-18T17:25:48.281Z"
   },
   {
    "duration": 7,
    "start_time": "2021-12-18T17:30:49.256Z"
   },
   {
    "duration": 6,
    "start_time": "2021-12-18T17:31:43.553Z"
   },
   {
    "duration": 325,
    "start_time": "2021-12-18T17:33:02.147Z"
   },
   {
    "duration": 4,
    "start_time": "2021-12-18T17:33:54.933Z"
   },
   {
    "duration": 679,
    "start_time": "2021-12-18T17:39:19.635Z"
   },
   {
    "duration": 21,
    "start_time": "2021-12-18T17:39:20.317Z"
   },
   {
    "duration": 6,
    "start_time": "2021-12-18T17:39:20.340Z"
   },
   {
    "duration": 4,
    "start_time": "2021-12-18T17:39:20.348Z"
   },
   {
    "duration": 98,
    "start_time": "2021-12-18T17:39:20.354Z"
   },
   {
    "duration": 8,
    "start_time": "2021-12-18T17:39:20.454Z"
   },
   {
    "duration": 9,
    "start_time": "2021-12-18T17:39:20.464Z"
   },
   {
    "duration": 3,
    "start_time": "2021-12-18T17:39:20.475Z"
   },
   {
    "duration": 100,
    "start_time": "2021-12-18T17:40:21.731Z"
   },
   {
    "duration": 7,
    "start_time": "2021-12-18T17:43:01.327Z"
   },
   {
    "duration": 7,
    "start_time": "2021-12-18T17:43:30.140Z"
   },
   {
    "duration": 7,
    "start_time": "2021-12-18T17:43:40.965Z"
   },
   {
    "duration": 4,
    "start_time": "2021-12-18T17:44:06.135Z"
   },
   {
    "duration": 3,
    "start_time": "2021-12-18T17:44:55.756Z"
   },
   {
    "duration": 6,
    "start_time": "2021-12-18T17:46:47.779Z"
   },
   {
    "duration": 4,
    "start_time": "2021-12-18T17:46:54.393Z"
   },
   {
    "duration": 364,
    "start_time": "2021-12-18T17:48:22.171Z"
   },
   {
    "duration": 342,
    "start_time": "2021-12-18T17:50:16.510Z"
   },
   {
    "duration": 6,
    "start_time": "2021-12-18T17:50:38.841Z"
   },
   {
    "duration": 458,
    "start_time": "2021-12-18T17:51:45.026Z"
   },
   {
    "duration": 7,
    "start_time": "2021-12-18T17:53:39.311Z"
   },
   {
    "duration": 333,
    "start_time": "2021-12-18T17:53:42.093Z"
   },
   {
    "duration": 321,
    "start_time": "2021-12-18T17:56:03.333Z"
   },
   {
    "duration": 804,
    "start_time": "2021-12-18T17:56:11.112Z"
   },
   {
    "duration": 24,
    "start_time": "2021-12-18T17:56:11.918Z"
   },
   {
    "duration": 7,
    "start_time": "2021-12-18T17:56:11.944Z"
   },
   {
    "duration": 5,
    "start_time": "2021-12-18T17:56:11.954Z"
   },
   {
    "duration": 157,
    "start_time": "2021-12-18T17:56:11.961Z"
   },
   {
    "duration": 11,
    "start_time": "2021-12-18T17:56:12.120Z"
   },
   {
    "duration": 403,
    "start_time": "2021-12-18T17:56:12.134Z"
   },
   {
    "duration": 4,
    "start_time": "2021-12-18T17:56:35.250Z"
   },
   {
    "duration": 5,
    "start_time": "2021-12-18T17:56:48.808Z"
   },
   {
    "duration": 97,
    "start_time": "2021-12-18T17:57:36.576Z"
   },
   {
    "duration": 881,
    "start_time": "2021-12-18T17:58:40.288Z"
   },
   {
    "duration": 22,
    "start_time": "2021-12-18T17:58:41.171Z"
   },
   {
    "duration": 8,
    "start_time": "2021-12-18T17:58:41.207Z"
   },
   {
    "duration": 11,
    "start_time": "2021-12-18T17:58:41.217Z"
   },
   {
    "duration": 89,
    "start_time": "2021-12-18T17:58:41.229Z"
   },
   {
    "duration": 9,
    "start_time": "2021-12-18T17:58:41.320Z"
   },
   {
    "duration": 127,
    "start_time": "2021-12-18T17:58:41.331Z"
   },
   {
    "duration": 112,
    "start_time": "2021-12-18T17:59:35.636Z"
   },
   {
    "duration": 6,
    "start_time": "2021-12-18T18:00:16.667Z"
   },
   {
    "duration": 5,
    "start_time": "2021-12-18T18:01:39.348Z"
   },
   {
    "duration": 704,
    "start_time": "2021-12-18T18:01:55.782Z"
   },
   {
    "duration": 22,
    "start_time": "2021-12-18T18:01:56.489Z"
   },
   {
    "duration": 7,
    "start_time": "2021-12-18T18:01:56.512Z"
   },
   {
    "duration": 4,
    "start_time": "2021-12-18T18:01:56.521Z"
   },
   {
    "duration": 87,
    "start_time": "2021-12-18T18:01:56.526Z"
   },
   {
    "duration": 9,
    "start_time": "2021-12-18T18:01:56.614Z"
   },
   {
    "duration": 8,
    "start_time": "2021-12-18T18:01:56.625Z"
   },
   {
    "duration": 7,
    "start_time": "2021-12-18T18:02:11.932Z"
   },
   {
    "duration": 6,
    "start_time": "2021-12-18T18:02:26.148Z"
   },
   {
    "duration": 757,
    "start_time": "2021-12-18T18:03:13.311Z"
   },
   {
    "duration": 8,
    "start_time": "2021-12-18T18:03:36.615Z"
   },
   {
    "duration": 686,
    "start_time": "2021-12-18T18:03:39.559Z"
   },
   {
    "duration": 654,
    "start_time": "2021-12-18T18:06:52.297Z"
   },
   {
    "duration": 3555,
    "start_time": "2021-12-18T18:20:22.762Z"
   },
   {
    "duration": 106,
    "start_time": "2021-12-18T18:53:02.233Z"
   },
   {
    "duration": 104,
    "start_time": "2021-12-18T18:54:31.265Z"
   },
   {
    "duration": 97,
    "start_time": "2021-12-18T18:55:00.799Z"
   },
   {
    "duration": 92,
    "start_time": "2021-12-18T18:55:31.482Z"
   },
   {
    "duration": 95,
    "start_time": "2021-12-18T18:55:45.512Z"
   },
   {
    "duration": 110,
    "start_time": "2021-12-18T19:00:05.774Z"
   },
   {
    "duration": 104,
    "start_time": "2021-12-18T19:00:26.874Z"
   },
   {
    "duration": 358,
    "start_time": "2021-12-18T19:04:27.575Z"
   },
   {
    "duration": 21,
    "start_time": "2021-12-18T19:04:43.176Z"
   },
   {
    "duration": 22,
    "start_time": "2021-12-18T19:11:57.880Z"
   },
   {
    "duration": 35,
    "start_time": "2021-12-18T19:14:41.227Z"
   },
   {
    "duration": 806,
    "start_time": "2021-12-19T11:32:56.648Z"
   },
   {
    "duration": 32,
    "start_time": "2021-12-19T11:32:57.458Z"
   },
   {
    "duration": 32,
    "start_time": "2021-12-19T11:32:57.494Z"
   },
   {
    "duration": 5,
    "start_time": "2021-12-19T11:32:57.529Z"
   },
   {
    "duration": 121,
    "start_time": "2021-12-19T11:32:57.536Z"
   },
   {
    "duration": 11,
    "start_time": "2021-12-19T11:32:57.660Z"
   },
   {
    "duration": 10,
    "start_time": "2021-12-19T11:32:57.673Z"
   },
   {
    "duration": 930,
    "start_time": "2021-12-19T11:32:57.686Z"
   },
   {
    "duration": 3606,
    "start_time": "2021-12-19T11:32:58.618Z"
   },
   {
    "duration": 38,
    "start_time": "2021-12-19T11:33:02.227Z"
   },
   {
    "duration": 51,
    "start_time": "2021-12-19T11:33:02.267Z"
   },
   {
    "duration": 51,
    "start_time": "2021-12-19T11:33:02.321Z"
   },
   {
    "duration": 1790,
    "start_time": "2021-12-19T11:35:51.605Z"
   },
   {
    "duration": 37,
    "start_time": "2021-12-19T11:35:53.398Z"
   },
   {
    "duration": 11,
    "start_time": "2021-12-19T11:35:53.438Z"
   },
   {
    "duration": 6,
    "start_time": "2021-12-19T11:35:53.453Z"
   },
   {
    "duration": 139,
    "start_time": "2021-12-19T11:35:53.462Z"
   },
   {
    "duration": 21,
    "start_time": "2021-12-19T11:35:53.604Z"
   },
   {
    "duration": 11,
    "start_time": "2021-12-19T11:35:53.628Z"
   },
   {
    "duration": 946,
    "start_time": "2021-12-19T11:35:53.643Z"
   },
   {
    "duration": 3598,
    "start_time": "2021-12-19T11:35:54.592Z"
   },
   {
    "duration": 48,
    "start_time": "2021-12-19T11:35:58.193Z"
   },
   {
    "duration": 31,
    "start_time": "2021-12-19T11:38:16.936Z"
   },
   {
    "duration": 27,
    "start_time": "2021-12-19T11:38:43.206Z"
   },
   {
    "duration": 39,
    "start_time": "2021-12-19T11:42:00.182Z"
   },
   {
    "duration": 37,
    "start_time": "2021-12-19T12:04:03.136Z"
   },
   {
    "duration": 36,
    "start_time": "2021-12-19T12:09:36.307Z"
   },
   {
    "duration": 36,
    "start_time": "2021-12-19T12:09:47.402Z"
   },
   {
    "duration": 31,
    "start_time": "2021-12-19T12:22:25.645Z"
   },
   {
    "duration": 606,
    "start_time": "2021-12-19T12:29:49.676Z"
   },
   {
    "duration": 322,
    "start_time": "2021-12-19T12:30:50.988Z"
   },
   {
    "duration": 104,
    "start_time": "2021-12-19T12:32:13.897Z"
   },
   {
    "duration": 104,
    "start_time": "2021-12-19T12:32:22.393Z"
   },
   {
    "duration": 43,
    "start_time": "2021-12-19T12:32:53.921Z"
   },
   {
    "duration": 34,
    "start_time": "2021-12-19T12:33:43.037Z"
   },
   {
    "duration": 33,
    "start_time": "2021-12-19T12:33:58.258Z"
   },
   {
    "duration": 8,
    "start_time": "2021-12-19T12:49:56.463Z"
   },
   {
    "duration": 9,
    "start_time": "2021-12-19T12:50:25.295Z"
   },
   {
    "duration": 8,
    "start_time": "2021-12-19T12:50:43.300Z"
   },
   {
    "duration": 37,
    "start_time": "2021-12-19T13:36:24.519Z"
   },
   {
    "duration": 34,
    "start_time": "2021-12-19T13:42:39.675Z"
   },
   {
    "duration": 30,
    "start_time": "2021-12-19T13:43:03.584Z"
   },
   {
    "duration": 1238,
    "start_time": "2021-12-19T13:45:07.073Z"
   },
   {
    "duration": 31,
    "start_time": "2021-12-19T13:46:29.130Z"
   },
   {
    "duration": 36,
    "start_time": "2021-12-19T13:52:05.450Z"
   },
   {
    "duration": 42,
    "start_time": "2021-12-19T13:52:15.054Z"
   },
   {
    "duration": 28,
    "start_time": "2021-12-19T13:52:35.543Z"
   },
   {
    "duration": 28,
    "start_time": "2021-12-19T13:52:43.673Z"
   },
   {
    "duration": 820,
    "start_time": "2021-12-19T14:14:49.866Z"
   },
   {
    "duration": 42,
    "start_time": "2021-12-19T14:14:50.689Z"
   },
   {
    "duration": 10,
    "start_time": "2021-12-19T14:14:50.734Z"
   },
   {
    "duration": 7,
    "start_time": "2021-12-19T14:14:50.747Z"
   },
   {
    "duration": 129,
    "start_time": "2021-12-19T14:14:50.757Z"
   },
   {
    "duration": 13,
    "start_time": "2021-12-19T14:14:50.889Z"
   },
   {
    "duration": 19,
    "start_time": "2021-12-19T14:14:50.904Z"
   },
   {
    "duration": 945,
    "start_time": "2021-12-19T14:14:50.926Z"
   },
   {
    "duration": 3770,
    "start_time": "2021-12-19T14:14:51.874Z"
   },
   {
    "duration": 46,
    "start_time": "2021-12-19T14:14:55.647Z"
   },
   {
    "duration": 46,
    "start_time": "2021-12-19T14:14:55.696Z"
   },
   {
    "duration": 8,
    "start_time": "2021-12-19T14:14:55.744Z"
   },
   {
    "duration": 67,
    "start_time": "2021-12-19T14:14:55.754Z"
   },
   {
    "duration": 105,
    "start_time": "2021-12-19T14:19:50.293Z"
   },
   {
    "duration": 20,
    "start_time": "2021-12-19T14:20:54.945Z"
   },
   {
    "duration": 877,
    "start_time": "2021-12-19T15:17:22.289Z"
   },
   {
    "duration": 417,
    "start_time": "2021-12-19T15:17:23.169Z"
   },
   {
    "duration": -58,
    "start_time": "2021-12-19T15:17:23.648Z"
   },
   {
    "duration": -79,
    "start_time": "2021-12-19T15:17:23.670Z"
   },
   {
    "duration": -95,
    "start_time": "2021-12-19T15:17:23.687Z"
   },
   {
    "duration": -110,
    "start_time": "2021-12-19T15:17:23.704Z"
   },
   {
    "duration": -126,
    "start_time": "2021-12-19T15:17:23.722Z"
   },
   {
    "duration": -145,
    "start_time": "2021-12-19T15:17:23.742Z"
   },
   {
    "duration": -166,
    "start_time": "2021-12-19T15:17:23.765Z"
   },
   {
    "duration": -187,
    "start_time": "2021-12-19T15:17:23.787Z"
   },
   {
    "duration": -205,
    "start_time": "2021-12-19T15:17:23.807Z"
   },
   {
    "duration": -229,
    "start_time": "2021-12-19T15:17:23.832Z"
   },
   {
    "duration": -252,
    "start_time": "2021-12-19T15:17:23.856Z"
   },
   {
    "duration": -269,
    "start_time": "2021-12-19T15:17:23.875Z"
   },
   {
    "duration": -299,
    "start_time": "2021-12-19T15:17:23.906Z"
   },
   {
    "duration": 833,
    "start_time": "2021-12-19T15:17:48.124Z"
   },
   {
    "duration": 33,
    "start_time": "2021-12-19T15:17:48.960Z"
   },
   {
    "duration": 49,
    "start_time": "2021-12-19T15:17:48.996Z"
   },
   {
    "duration": 10,
    "start_time": "2021-12-19T15:17:49.048Z"
   },
   {
    "duration": 6,
    "start_time": "2021-12-19T15:17:49.060Z"
   },
   {
    "duration": 133,
    "start_time": "2021-12-19T15:17:49.068Z"
   },
   {
    "duration": 25,
    "start_time": "2021-12-19T15:17:49.203Z"
   },
   {
    "duration": 13,
    "start_time": "2021-12-19T15:17:49.231Z"
   },
   {
    "duration": 961,
    "start_time": "2021-12-19T15:17:49.247Z"
   },
   {
    "duration": 3617,
    "start_time": "2021-12-19T15:17:50.218Z"
   },
   {
    "duration": 46,
    "start_time": "2021-12-19T15:17:53.838Z"
   },
   {
    "duration": 51,
    "start_time": "2021-12-19T15:17:53.886Z"
   },
   {
    "duration": 6,
    "start_time": "2021-12-19T15:17:53.940Z"
   },
   {
    "duration": 37,
    "start_time": "2021-12-19T15:17:53.949Z"
   },
   {
    "duration": 45,
    "start_time": "2021-12-19T15:17:53.988Z"
   },
   {
    "duration": 406,
    "start_time": "2021-12-19T16:07:25.440Z"
   },
   {
    "duration": 335,
    "start_time": "2021-12-19T16:07:49.421Z"
   },
   {
    "duration": 58,
    "start_time": "2021-12-19T16:08:03.915Z"
   },
   {
    "duration": 754,
    "start_time": "2021-12-19T16:13:43.857Z"
   },
   {
    "duration": 67,
    "start_time": "2021-12-19T16:13:44.614Z"
   },
   {
    "duration": 47,
    "start_time": "2021-12-19T16:13:44.688Z"
   },
   {
    "duration": 11,
    "start_time": "2021-12-19T16:13:44.738Z"
   },
   {
    "duration": 5,
    "start_time": "2021-12-19T16:13:44.751Z"
   },
   {
    "duration": 137,
    "start_time": "2021-12-19T16:13:44.758Z"
   },
   {
    "duration": 21,
    "start_time": "2021-12-19T16:13:44.899Z"
   },
   {
    "duration": 8,
    "start_time": "2021-12-19T16:13:44.923Z"
   },
   {
    "duration": 947,
    "start_time": "2021-12-19T16:13:44.934Z"
   },
   {
    "duration": 4641,
    "start_time": "2021-12-19T16:13:45.883Z"
   },
   {
    "duration": 67,
    "start_time": "2021-12-19T16:13:50.527Z"
   },
   {
    "duration": 49,
    "start_time": "2021-12-19T16:13:50.597Z"
   },
   {
    "duration": 7,
    "start_time": "2021-12-19T16:13:50.649Z"
   },
   {
    "duration": 75,
    "start_time": "2021-12-19T16:13:50.659Z"
   },
   {
    "duration": 21,
    "start_time": "2021-12-19T16:13:50.737Z"
   },
   {
    "duration": 86,
    "start_time": "2021-12-19T16:17:18.178Z"
   },
   {
    "duration": 61,
    "start_time": "2021-12-19T16:17:50.624Z"
   },
   {
    "duration": 28,
    "start_time": "2021-12-19T16:18:36.276Z"
   },
   {
    "duration": 895,
    "start_time": "2021-12-19T16:22:08.583Z"
   },
   {
    "duration": 48,
    "start_time": "2021-12-19T16:22:09.481Z"
   },
   {
    "duration": 49,
    "start_time": "2021-12-19T16:22:09.533Z"
   },
   {
    "duration": 51,
    "start_time": "2021-12-19T16:22:09.585Z"
   },
   {
    "duration": 14,
    "start_time": "2021-12-19T16:22:09.638Z"
   },
   {
    "duration": 6,
    "start_time": "2021-12-19T16:22:09.654Z"
   },
   {
    "duration": 139,
    "start_time": "2021-12-19T16:22:09.663Z"
   },
   {
    "duration": 17,
    "start_time": "2021-12-19T16:22:09.805Z"
   },
   {
    "duration": 9,
    "start_time": "2021-12-19T16:22:09.825Z"
   },
   {
    "duration": 1096,
    "start_time": "2021-12-19T16:22:09.837Z"
   },
   {
    "duration": 3963,
    "start_time": "2021-12-19T16:22:10.936Z"
   },
   {
    "duration": 59,
    "start_time": "2021-12-19T16:22:14.901Z"
   },
   {
    "duration": 33,
    "start_time": "2021-12-19T16:22:14.962Z"
   },
   {
    "duration": 9,
    "start_time": "2021-12-19T16:22:15.018Z"
   },
   {
    "duration": 46,
    "start_time": "2021-12-19T16:22:15.030Z"
   },
   {
    "duration": 54,
    "start_time": "2021-12-19T16:22:15.079Z"
   },
   {
    "duration": 16,
    "start_time": "2021-12-19T17:19:12.784Z"
   },
   {
    "duration": 912,
    "start_time": "2021-12-19T17:19:31.146Z"
   },
   {
    "duration": 80,
    "start_time": "2021-12-19T17:19:32.061Z"
   },
   {
    "duration": 51,
    "start_time": "2021-12-19T17:19:32.145Z"
   },
   {
    "duration": 11,
    "start_time": "2021-12-19T17:19:32.219Z"
   },
   {
    "duration": 440,
    "start_time": "2021-12-19T17:19:32.233Z"
   },
   {
    "duration": 24,
    "start_time": "2021-12-19T17:19:32.654Z"
   },
   {
    "duration": 1,
    "start_time": "2021-12-19T17:19:32.679Z"
   },
   {
    "duration": -24,
    "start_time": "2021-12-19T17:19:32.706Z"
   },
   {
    "duration": -50,
    "start_time": "2021-12-19T17:19:32.733Z"
   },
   {
    "duration": -81,
    "start_time": "2021-12-19T17:19:32.766Z"
   },
   {
    "duration": -101,
    "start_time": "2021-12-19T17:19:32.789Z"
   },
   {
    "duration": -127,
    "start_time": "2021-12-19T17:19:32.817Z"
   },
   {
    "duration": -154,
    "start_time": "2021-12-19T17:19:32.847Z"
   },
   {
    "duration": -179,
    "start_time": "2021-12-19T17:19:32.874Z"
   },
   {
    "duration": -204,
    "start_time": "2021-12-19T17:19:32.901Z"
   },
   {
    "duration": -232,
    "start_time": "2021-12-19T17:19:32.932Z"
   },
   {
    "duration": 82,
    "start_time": "2021-12-19T17:23:36.066Z"
   },
   {
    "duration": 865,
    "start_time": "2021-12-19T17:23:59.879Z"
   },
   {
    "duration": 73,
    "start_time": "2021-12-19T17:24:00.748Z"
   },
   {
    "duration": 49,
    "start_time": "2021-12-19T17:24:00.825Z"
   },
   {
    "duration": 119,
    "start_time": "2021-12-19T17:24:00.877Z"
   },
   {
    "duration": 378,
    "start_time": "2021-12-19T17:24:00.999Z"
   },
   {
    "duration": 17,
    "start_time": "2021-12-19T17:24:01.363Z"
   },
   {
    "duration": 0,
    "start_time": "2021-12-19T17:24:01.382Z"
   },
   {
    "duration": -18,
    "start_time": "2021-12-19T17:24:01.401Z"
   },
   {
    "duration": -36,
    "start_time": "2021-12-19T17:24:01.420Z"
   },
   {
    "duration": -54,
    "start_time": "2021-12-19T17:24:01.439Z"
   },
   {
    "duration": -72,
    "start_time": "2021-12-19T17:24:01.459Z"
   },
   {
    "duration": -93,
    "start_time": "2021-12-19T17:24:01.481Z"
   },
   {
    "duration": -109,
    "start_time": "2021-12-19T17:24:01.498Z"
   },
   {
    "duration": -126,
    "start_time": "2021-12-19T17:24:01.517Z"
   },
   {
    "duration": -143,
    "start_time": "2021-12-19T17:24:01.535Z"
   },
   {
    "duration": -162,
    "start_time": "2021-12-19T17:24:01.555Z"
   },
   {
    "duration": 318,
    "start_time": "2021-12-19T17:25:01.560Z"
   },
   {
    "duration": 523,
    "start_time": "2021-12-19T17:27:00.926Z"
   },
   {
    "duration": 67,
    "start_time": "2021-12-19T17:28:55.395Z"
   },
   {
    "duration": 37,
    "start_time": "2021-12-19T17:30:31.741Z"
   },
   {
    "duration": 937,
    "start_time": "2021-12-19T17:32:24.799Z"
   },
   {
    "duration": 50,
    "start_time": "2021-12-19T17:32:25.740Z"
   },
   {
    "duration": 78,
    "start_time": "2021-12-19T17:32:25.794Z"
   },
   {
    "duration": 146,
    "start_time": "2021-12-19T17:32:25.876Z"
   },
   {
    "duration": 796,
    "start_time": "2021-12-19T17:32:26.025Z"
   },
   {
    "duration": 47,
    "start_time": "2021-12-19T17:32:26.824Z"
   },
   {
    "duration": 421,
    "start_time": "2021-12-19T17:32:26.874Z"
   },
   {
    "duration": 10,
    "start_time": "2021-12-19T17:32:27.289Z"
   },
   {
    "duration": 2,
    "start_time": "2021-12-19T17:32:27.298Z"
   },
   {
    "duration": -22,
    "start_time": "2021-12-19T17:32:27.324Z"
   },
   {
    "duration": -43,
    "start_time": "2021-12-19T17:32:27.347Z"
   },
   {
    "duration": -78,
    "start_time": "2021-12-19T17:32:27.384Z"
   },
   {
    "duration": -111,
    "start_time": "2021-12-19T17:32:27.420Z"
   },
   {
    "duration": -142,
    "start_time": "2021-12-19T17:32:27.452Z"
   },
   {
    "duration": -154,
    "start_time": "2021-12-19T17:32:27.466Z"
   },
   {
    "duration": -177,
    "start_time": "2021-12-19T17:32:27.491Z"
   },
   {
    "duration": -192,
    "start_time": "2021-12-19T17:32:27.508Z"
   },
   {
    "duration": -220,
    "start_time": "2021-12-19T17:32:27.537Z"
   },
   {
    "duration": 349,
    "start_time": "2021-12-19T17:34:36.098Z"
   },
   {
    "duration": 16,
    "start_time": "2021-12-19T17:34:46.241Z"
   },
   {
    "duration": 36,
    "start_time": "2021-12-19T17:41:12.621Z"
   },
   {
    "duration": 106,
    "start_time": "2021-12-19T17:51:45.281Z"
   },
   {
    "duration": 34,
    "start_time": "2021-12-19T17:51:59.584Z"
   },
   {
    "duration": 35,
    "start_time": "2021-12-19T17:53:13.704Z"
   },
   {
    "duration": 35,
    "start_time": "2021-12-19T17:54:04.293Z"
   },
   {
    "duration": 85,
    "start_time": "2021-12-19T17:59:52.874Z"
   },
   {
    "duration": 576,
    "start_time": "2021-12-19T18:01:58.200Z"
   },
   {
    "duration": 6,
    "start_time": "2021-12-19T18:04:12.615Z"
   },
   {
    "duration": 800,
    "start_time": "2021-12-19T18:04:28.169Z"
   },
   {
    "duration": 49,
    "start_time": "2021-12-19T18:04:28.972Z"
   },
   {
    "duration": 49,
    "start_time": "2021-12-19T18:04:29.026Z"
   },
   {
    "duration": 58,
    "start_time": "2021-12-19T18:04:29.078Z"
   },
   {
    "duration": 98,
    "start_time": "2021-12-19T18:04:29.138Z"
   },
   {
    "duration": 6,
    "start_time": "2021-12-19T18:04:29.239Z"
   },
   {
    "duration": 532,
    "start_time": "2021-12-19T18:04:29.248Z"
   },
   {
    "duration": 49,
    "start_time": "2021-12-19T18:04:29.785Z"
   },
   {
    "duration": 12,
    "start_time": "2021-12-19T18:04:29.839Z"
   },
   {
    "duration": 5,
    "start_time": "2021-12-19T18:04:29.854Z"
   },
   {
    "duration": 139,
    "start_time": "2021-12-19T18:04:29.862Z"
   },
   {
    "duration": 23,
    "start_time": "2021-12-19T18:04:30.005Z"
   },
   {
    "duration": 12,
    "start_time": "2021-12-19T18:04:30.031Z"
   },
   {
    "duration": 990,
    "start_time": "2021-12-19T18:04:30.046Z"
   },
   {
    "duration": 4117,
    "start_time": "2021-12-19T18:04:31.039Z"
   },
   {
    "duration": 60,
    "start_time": "2021-12-19T18:04:35.159Z"
   },
   {
    "duration": 34,
    "start_time": "2021-12-19T18:04:35.221Z"
   },
   {
    "duration": 8,
    "start_time": "2021-12-19T18:04:35.258Z"
   },
   {
    "duration": 69,
    "start_time": "2021-12-19T18:04:35.270Z"
   },
   {
    "duration": 21,
    "start_time": "2021-12-19T18:04:35.342Z"
   },
   {
    "duration": 1031,
    "start_time": "2021-12-19T18:05:44.033Z"
   },
   {
    "duration": 72,
    "start_time": "2021-12-19T18:05:45.068Z"
   },
   {
    "duration": 83,
    "start_time": "2021-12-19T18:05:45.144Z"
   },
   {
    "duration": 24,
    "start_time": "2021-12-19T18:05:45.230Z"
   },
   {
    "duration": 96,
    "start_time": "2021-12-19T18:05:45.257Z"
   },
   {
    "duration": 6,
    "start_time": "2021-12-19T18:05:45.356Z"
   },
   {
    "duration": 873,
    "start_time": "2021-12-19T18:05:45.366Z"
   },
   {
    "duration": 15,
    "start_time": "2021-12-19T18:05:46.245Z"
   },
   {
    "duration": 8,
    "start_time": "2021-12-19T18:05:46.264Z"
   },
   {
    "duration": 143,
    "start_time": "2021-12-19T18:05:46.281Z"
   },
   {
    "duration": 19,
    "start_time": "2021-12-19T18:05:46.427Z"
   },
   {
    "duration": 12,
    "start_time": "2021-12-19T18:05:46.449Z"
   },
   {
    "duration": 1425,
    "start_time": "2021-12-19T18:05:46.464Z"
   },
   {
    "duration": 4521,
    "start_time": "2021-12-19T18:05:47.892Z"
   },
   {
    "duration": 47,
    "start_time": "2021-12-19T18:05:52.418Z"
   },
   {
    "duration": 61,
    "start_time": "2021-12-19T18:05:52.468Z"
   },
   {
    "duration": 7,
    "start_time": "2021-12-19T18:05:52.531Z"
   },
   {
    "duration": 42,
    "start_time": "2021-12-19T18:05:52.541Z"
   },
   {
    "duration": 52,
    "start_time": "2021-12-19T18:05:52.585Z"
   },
   {
    "duration": 868,
    "start_time": "2021-12-19T18:28:39.625Z"
   },
   {
    "duration": 47,
    "start_time": "2021-12-19T18:28:40.496Z"
   },
   {
    "duration": 82,
    "start_time": "2021-12-19T18:28:40.546Z"
   },
   {
    "duration": 2853,
    "start_time": "2021-12-19T18:28:40.631Z"
   },
   {
    "duration": 24,
    "start_time": "2021-12-19T18:28:43.463Z"
   },
   {
    "duration": -2,
    "start_time": "2021-12-19T18:28:43.490Z"
   },
   {
    "duration": -26,
    "start_time": "2021-12-19T18:28:43.515Z"
   },
   {
    "duration": -67,
    "start_time": "2021-12-19T18:28:43.558Z"
   },
   {
    "duration": -100,
    "start_time": "2021-12-19T18:28:43.592Z"
   },
   {
    "duration": -167,
    "start_time": "2021-12-19T18:28:43.661Z"
   },
   {
    "duration": -208,
    "start_time": "2021-12-19T18:28:43.703Z"
   },
   {
    "duration": -237,
    "start_time": "2021-12-19T18:28:43.734Z"
   },
   {
    "duration": -245,
    "start_time": "2021-12-19T18:28:43.743Z"
   },
   {
    "duration": -272,
    "start_time": "2021-12-19T18:28:43.772Z"
   },
   {
    "duration": -308,
    "start_time": "2021-12-19T18:28:43.809Z"
   },
   {
    "duration": -341,
    "start_time": "2021-12-19T18:28:43.844Z"
   },
   {
    "duration": -355,
    "start_time": "2021-12-19T18:28:43.860Z"
   },
   {
    "duration": -375,
    "start_time": "2021-12-19T18:28:43.881Z"
   },
   {
    "duration": -391,
    "start_time": "2021-12-19T18:28:43.899Z"
   },
   {
    "duration": -420,
    "start_time": "2021-12-19T18:28:43.929Z"
   },
   {
    "duration": 2708,
    "start_time": "2021-12-19T18:29:58.074Z"
   },
   {
    "duration": 415,
    "start_time": "2021-12-19T18:30:46.551Z"
   },
   {
    "duration": 867,
    "start_time": "2021-12-19T18:32:36.614Z"
   },
   {
    "duration": 48,
    "start_time": "2021-12-19T18:32:37.483Z"
   },
   {
    "duration": 48,
    "start_time": "2021-12-19T18:32:37.534Z"
   },
   {
    "duration": 434,
    "start_time": "2021-12-19T18:32:37.587Z"
   },
   {
    "duration": 35,
    "start_time": "2021-12-19T18:32:38.024Z"
   },
   {
    "duration": 96,
    "start_time": "2021-12-19T18:32:38.063Z"
   },
   {
    "duration": 5,
    "start_time": "2021-12-19T18:32:38.163Z"
   },
   {
    "duration": 432,
    "start_time": "2021-12-19T18:32:38.172Z"
   },
   {
    "duration": 17,
    "start_time": "2021-12-19T18:32:38.608Z"
   },
   {
    "duration": 7,
    "start_time": "2021-12-19T18:32:38.627Z"
   },
   {
    "duration": 134,
    "start_time": "2021-12-19T18:32:38.637Z"
   },
   {
    "duration": 15,
    "start_time": "2021-12-19T18:32:38.774Z"
   },
   {
    "duration": 29,
    "start_time": "2021-12-19T18:32:38.793Z"
   },
   {
    "duration": 1051,
    "start_time": "2021-12-19T18:32:38.825Z"
   },
   {
    "duration": 4387,
    "start_time": "2021-12-19T18:32:39.879Z"
   },
   {
    "duration": 64,
    "start_time": "2021-12-19T18:32:44.268Z"
   },
   {
    "duration": 35,
    "start_time": "2021-12-19T18:32:44.335Z"
   },
   {
    "duration": 10,
    "start_time": "2021-12-19T18:32:44.372Z"
   },
   {
    "duration": 85,
    "start_time": "2021-12-19T18:32:44.385Z"
   },
   {
    "duration": 46,
    "start_time": "2021-12-19T18:32:44.473Z"
   },
   {
    "duration": 4854,
    "start_time": "2021-12-19T18:52:34.452Z"
   },
   {
    "duration": 1016,
    "start_time": "2021-12-19T18:52:59.555Z"
   },
   {
    "duration": 59,
    "start_time": "2021-12-19T18:53:00.574Z"
   },
   {
    "duration": 81,
    "start_time": "2021-12-19T18:53:00.639Z"
   },
   {
    "duration": 607,
    "start_time": "2021-12-19T18:53:00.723Z"
   },
   {
    "duration": 30,
    "start_time": "2021-12-19T18:53:01.333Z"
   },
   {
    "duration": 95,
    "start_time": "2021-12-19T18:53:01.366Z"
   },
   {
    "duration": 7,
    "start_time": "2021-12-19T18:53:01.465Z"
   },
   {
    "duration": 688,
    "start_time": "2021-12-19T18:53:01.478Z"
   },
   {
    "duration": 14,
    "start_time": "2021-12-19T18:53:02.170Z"
   },
   {
    "duration": 36,
    "start_time": "2021-12-19T18:53:02.186Z"
   },
   {
    "duration": 169,
    "start_time": "2021-12-19T18:53:02.228Z"
   },
   {
    "duration": 44,
    "start_time": "2021-12-19T18:53:02.400Z"
   },
   {
    "duration": 13,
    "start_time": "2021-12-19T18:53:02.447Z"
   },
   {
    "duration": 1155,
    "start_time": "2021-12-19T18:53:02.463Z"
   },
   {
    "duration": 4538,
    "start_time": "2021-12-19T18:53:03.621Z"
   },
   {
    "duration": 70,
    "start_time": "2021-12-19T18:53:08.163Z"
   },
   {
    "duration": 51,
    "start_time": "2021-12-19T18:53:08.237Z"
   },
   {
    "duration": 30,
    "start_time": "2021-12-19T18:53:08.291Z"
   },
   {
    "duration": 57,
    "start_time": "2021-12-19T18:53:08.324Z"
   },
   {
    "duration": 55,
    "start_time": "2021-12-19T18:53:08.384Z"
   },
   {
    "duration": 1092,
    "start_time": "2021-12-19T20:02:09.302Z"
   },
   {
    "duration": 67,
    "start_time": "2021-12-19T20:02:10.401Z"
   },
   {
    "duration": 93,
    "start_time": "2021-12-19T20:02:10.472Z"
   },
   {
    "duration": 665,
    "start_time": "2021-12-19T20:02:10.569Z"
   },
   {
    "duration": 36,
    "start_time": "2021-12-19T20:02:11.237Z"
   },
   {
    "duration": 88,
    "start_time": "2021-12-19T20:02:11.277Z"
   },
   {
    "duration": 6,
    "start_time": "2021-12-19T20:02:11.368Z"
   },
   {
    "duration": 442,
    "start_time": "2021-12-19T20:02:11.379Z"
   },
   {
    "duration": 13,
    "start_time": "2021-12-19T20:02:11.825Z"
   },
   {
    "duration": 5,
    "start_time": "2021-12-19T20:02:11.841Z"
   },
   {
    "duration": 196,
    "start_time": "2021-12-19T20:02:11.849Z"
   },
   {
    "duration": 18,
    "start_time": "2021-12-19T20:02:12.048Z"
   },
   {
    "duration": 16,
    "start_time": "2021-12-19T20:02:12.069Z"
   },
   {
    "duration": 1740,
    "start_time": "2021-12-19T20:02:12.088Z"
   },
   {
    "duration": 5336,
    "start_time": "2021-12-19T20:02:13.831Z"
   },
   {
    "duration": 80,
    "start_time": "2021-12-19T20:02:19.170Z"
   },
   {
    "duration": 44,
    "start_time": "2021-12-19T20:02:19.254Z"
   },
   {
    "duration": 9,
    "start_time": "2021-12-19T20:02:19.318Z"
   },
   {
    "duration": 86,
    "start_time": "2021-12-19T20:02:19.330Z"
   },
   {
    "duration": 30,
    "start_time": "2021-12-19T20:02:19.420Z"
   },
   {
    "duration": 873,
    "start_time": "2021-12-20T10:15:39.514Z"
   },
   {
    "duration": 52,
    "start_time": "2021-12-20T10:15:40.390Z"
   },
   {
    "duration": 48,
    "start_time": "2021-12-20T10:15:40.445Z"
   },
   {
    "duration": 432,
    "start_time": "2021-12-20T10:15:40.495Z"
   },
   {
    "duration": 24,
    "start_time": "2021-12-20T10:15:40.931Z"
   },
   {
    "duration": 84,
    "start_time": "2021-12-20T10:15:40.957Z"
   },
   {
    "duration": 6,
    "start_time": "2021-12-20T10:15:41.044Z"
   },
   {
    "duration": 485,
    "start_time": "2021-12-20T10:15:41.054Z"
   },
   {
    "duration": 10,
    "start_time": "2021-12-20T10:15:41.542Z"
   },
   {
    "duration": 22,
    "start_time": "2021-12-20T10:15:41.554Z"
   },
   {
    "duration": 136,
    "start_time": "2021-12-20T10:15:41.578Z"
   },
   {
    "duration": 19,
    "start_time": "2021-12-20T10:15:41.716Z"
   },
   {
    "duration": 23,
    "start_time": "2021-12-20T10:15:41.738Z"
   },
   {
    "duration": 1015,
    "start_time": "2021-12-20T10:15:41.763Z"
   },
   {
    "duration": 4168,
    "start_time": "2021-12-20T10:15:42.781Z"
   },
   {
    "duration": 44,
    "start_time": "2021-12-20T10:15:46.952Z"
   },
   {
    "duration": 52,
    "start_time": "2021-12-20T10:15:46.999Z"
   },
   {
    "duration": 7,
    "start_time": "2021-12-20T10:15:47.054Z"
   },
   {
    "duration": 62,
    "start_time": "2021-12-20T10:15:47.063Z"
   },
   {
    "duration": 26,
    "start_time": "2021-12-20T10:15:47.128Z"
   },
   {
    "duration": 810,
    "start_time": "2021-12-20T10:17:44.766Z"
   },
   {
    "duration": 54,
    "start_time": "2021-12-20T10:17:45.578Z"
   },
   {
    "duration": 49,
    "start_time": "2021-12-20T10:17:45.635Z"
   },
   {
    "duration": 8447,
    "start_time": "2021-12-20T10:17:45.687Z"
   },
   {
    "duration": -1003,
    "start_time": "2021-12-20T10:17:55.142Z"
   },
   {
    "duration": -1029,
    "start_time": "2021-12-20T10:17:55.170Z"
   },
   {
    "duration": -1048,
    "start_time": "2021-12-20T10:17:55.191Z"
   },
   {
    "duration": -1063,
    "start_time": "2021-12-20T10:17:55.209Z"
   },
   {
    "duration": -1084,
    "start_time": "2021-12-20T10:17:55.232Z"
   },
   {
    "duration": -1109,
    "start_time": "2021-12-20T10:17:55.258Z"
   },
   {
    "duration": -1128,
    "start_time": "2021-12-20T10:17:55.279Z"
   },
   {
    "duration": -1143,
    "start_time": "2021-12-20T10:17:55.295Z"
   },
   {
    "duration": -1164,
    "start_time": "2021-12-20T10:17:55.317Z"
   },
   {
    "duration": -1175,
    "start_time": "2021-12-20T10:17:55.330Z"
   },
   {
    "duration": -1192,
    "start_time": "2021-12-20T10:17:55.348Z"
   },
   {
    "duration": -1210,
    "start_time": "2021-12-20T10:17:55.368Z"
   },
   {
    "duration": -1231,
    "start_time": "2021-12-20T10:17:55.390Z"
   },
   {
    "duration": -1246,
    "start_time": "2021-12-20T10:17:55.407Z"
   },
   {
    "duration": -1262,
    "start_time": "2021-12-20T10:17:55.424Z"
   },
   {
    "duration": -1276,
    "start_time": "2021-12-20T10:17:55.440Z"
   },
   {
    "duration": 431,
    "start_time": "2021-12-20T10:18:49.295Z"
   },
   {
    "duration": 440,
    "start_time": "2021-12-20T10:19:09.912Z"
   },
   {
    "duration": 36,
    "start_time": "2021-12-20T10:21:01.092Z"
   },
   {
    "duration": 427,
    "start_time": "2021-12-20T10:32:24.380Z"
   },
   {
    "duration": 26,
    "start_time": "2021-12-20T10:34:26.477Z"
   },
   {
    "duration": 23,
    "start_time": "2021-12-20T10:34:57.704Z"
   },
   {
    "duration": 875,
    "start_time": "2021-12-20T10:35:05.538Z"
   },
   {
    "duration": 49,
    "start_time": "2021-12-20T10:35:06.416Z"
   },
   {
    "duration": 62,
    "start_time": "2021-12-20T10:35:06.467Z"
   },
   {
    "duration": 37,
    "start_time": "2021-12-20T10:35:06.533Z"
   },
   {
    "duration": 420,
    "start_time": "2021-12-20T10:35:06.573Z"
   },
   {
    "duration": 38,
    "start_time": "2021-12-20T10:35:06.996Z"
   },
   {
    "duration": 57,
    "start_time": "2021-12-20T10:35:07.037Z"
   },
   {
    "duration": 27,
    "start_time": "2021-12-20T10:35:07.097Z"
   },
   {
    "duration": 444,
    "start_time": "2021-12-20T10:35:07.128Z"
   },
   {
    "duration": 11,
    "start_time": "2021-12-20T10:35:07.574Z"
   },
   {
    "duration": 18,
    "start_time": "2021-12-20T10:35:07.587Z"
   },
   {
    "duration": 128,
    "start_time": "2021-12-20T10:35:07.607Z"
   },
   {
    "duration": 13,
    "start_time": "2021-12-20T10:35:07.738Z"
   },
   {
    "duration": 29,
    "start_time": "2021-12-20T10:35:07.753Z"
   },
   {
    "duration": 973,
    "start_time": "2021-12-20T10:35:07.784Z"
   },
   {
    "duration": 4240,
    "start_time": "2021-12-20T10:35:08.760Z"
   },
   {
    "duration": 62,
    "start_time": "2021-12-20T10:35:13.003Z"
   },
   {
    "duration": 30,
    "start_time": "2021-12-20T10:35:13.069Z"
   },
   {
    "duration": 8,
    "start_time": "2021-12-20T10:35:13.123Z"
   },
   {
    "duration": 54,
    "start_time": "2021-12-20T10:35:13.134Z"
   },
   {
    "duration": 45,
    "start_time": "2021-12-20T10:35:13.191Z"
   },
   {
    "duration": 943,
    "start_time": "2021-12-20T10:37:07.956Z"
   },
   {
    "duration": 46,
    "start_time": "2021-12-20T10:37:08.902Z"
   },
   {
    "duration": 87,
    "start_time": "2021-12-20T10:37:08.951Z"
   },
   {
    "duration": 51,
    "start_time": "2021-12-20T10:37:09.042Z"
   },
   {
    "duration": 480,
    "start_time": "2021-12-20T10:37:09.096Z"
   },
   {
    "duration": 23,
    "start_time": "2021-12-20T10:37:09.579Z"
   },
   {
    "duration": 85,
    "start_time": "2021-12-20T10:37:09.604Z"
   },
   {
    "duration": 6,
    "start_time": "2021-12-20T10:37:09.695Z"
   },
   {
    "duration": 484,
    "start_time": "2021-12-20T10:37:09.724Z"
   },
   {
    "duration": 21,
    "start_time": "2021-12-20T10:37:10.211Z"
   },
   {
    "duration": 32,
    "start_time": "2021-12-20T10:37:10.235Z"
   },
   {
    "duration": 114,
    "start_time": "2021-12-20T10:37:10.270Z"
   },
   {
    "duration": 12,
    "start_time": "2021-12-20T10:37:10.386Z"
   },
   {
    "duration": 28,
    "start_time": "2021-12-20T10:37:10.401Z"
   },
   {
    "duration": 1052,
    "start_time": "2021-12-20T10:37:10.432Z"
   },
   {
    "duration": 4978,
    "start_time": "2021-12-20T10:37:11.488Z"
   },
   {
    "duration": 61,
    "start_time": "2021-12-20T10:37:16.469Z"
   },
   {
    "duration": 34,
    "start_time": "2021-12-20T10:37:16.532Z"
   },
   {
    "duration": 9,
    "start_time": "2021-12-20T10:37:16.569Z"
   },
   {
    "duration": 81,
    "start_time": "2021-12-20T10:37:16.581Z"
   },
   {
    "duration": 19,
    "start_time": "2021-12-20T10:37:16.664Z"
   },
   {
    "duration": 316,
    "start_time": "2021-12-20T10:39:56.420Z"
   },
   {
    "duration": 1619,
    "start_time": "2021-12-20T10:57:06.440Z"
   },
   {
    "duration": 83,
    "start_time": "2021-12-20T10:57:08.063Z"
   },
   {
    "duration": 90,
    "start_time": "2021-12-20T10:57:08.150Z"
   },
   {
    "duration": 41,
    "start_time": "2021-12-20T10:57:08.244Z"
   },
   {
    "duration": 469,
    "start_time": "2021-12-20T10:57:08.288Z"
   },
   {
    "duration": 26,
    "start_time": "2021-12-20T10:57:08.760Z"
   },
   {
    "duration": 89,
    "start_time": "2021-12-20T10:57:08.789Z"
   },
   {
    "duration": 5,
    "start_time": "2021-12-20T10:57:08.882Z"
   },
   {
    "duration": 359,
    "start_time": "2021-12-20T10:57:08.891Z"
   },
   {
    "duration": 12,
    "start_time": "2021-12-20T10:57:09.253Z"
   },
   {
    "duration": 6,
    "start_time": "2021-12-20T10:57:09.268Z"
   },
   {
    "duration": 150,
    "start_time": "2021-12-20T10:57:09.277Z"
   },
   {
    "duration": 15,
    "start_time": "2021-12-20T10:57:09.430Z"
   },
   {
    "duration": 16,
    "start_time": "2021-12-20T10:57:09.448Z"
   },
   {
    "duration": 1025,
    "start_time": "2021-12-20T10:57:09.467Z"
   },
   {
    "duration": 5259,
    "start_time": "2021-12-20T10:57:10.495Z"
   },
   {
    "duration": 68,
    "start_time": "2021-12-20T10:57:15.757Z"
   },
   {
    "duration": 39,
    "start_time": "2021-12-20T10:57:15.829Z"
   },
   {
    "duration": 8,
    "start_time": "2021-12-20T10:57:15.872Z"
   },
   {
    "duration": 78,
    "start_time": "2021-12-20T10:57:15.883Z"
   },
   {
    "duration": 26,
    "start_time": "2021-12-20T10:57:15.964Z"
   },
   {
    "duration": 873,
    "start_time": "2021-12-20T11:02:35.955Z"
   },
   {
    "duration": 54,
    "start_time": "2021-12-20T11:02:36.835Z"
   },
   {
    "duration": 80,
    "start_time": "2021-12-20T11:02:36.893Z"
   },
   {
    "duration": 63,
    "start_time": "2021-12-20T11:02:36.977Z"
   },
   {
    "duration": 454,
    "start_time": "2021-12-20T11:02:37.044Z"
   },
   {
    "duration": 36,
    "start_time": "2021-12-20T11:02:37.500Z"
   },
   {
    "duration": 63,
    "start_time": "2021-12-20T11:02:37.539Z"
   },
   {
    "duration": 6,
    "start_time": "2021-12-20T11:02:37.630Z"
   },
   {
    "duration": 431,
    "start_time": "2021-12-20T11:02:37.639Z"
   },
   {
    "duration": 13,
    "start_time": "2021-12-20T11:02:38.074Z"
   },
   {
    "duration": 6,
    "start_time": "2021-12-20T11:02:38.091Z"
   },
   {
    "duration": 171,
    "start_time": "2021-12-20T11:02:38.123Z"
   },
   {
    "duration": 28,
    "start_time": "2021-12-20T11:02:38.297Z"
   },
   {
    "duration": 31,
    "start_time": "2021-12-20T11:02:38.330Z"
   },
   {
    "duration": 1053,
    "start_time": "2021-12-20T11:02:38.364Z"
   },
   {
    "duration": 4841,
    "start_time": "2021-12-20T11:02:39.420Z"
   },
   {
    "duration": 48,
    "start_time": "2021-12-20T11:02:44.264Z"
   },
   {
    "duration": 41,
    "start_time": "2021-12-20T11:02:44.323Z"
   },
   {
    "duration": 7,
    "start_time": "2021-12-20T11:02:44.366Z"
   },
   {
    "duration": 77,
    "start_time": "2021-12-20T11:02:44.375Z"
   },
   {
    "duration": 28,
    "start_time": "2021-12-20T11:02:44.455Z"
   },
   {
    "duration": 915,
    "start_time": "2021-12-21T06:36:17.526Z"
   },
   {
    "duration": 45,
    "start_time": "2021-12-21T06:36:18.444Z"
   },
   {
    "duration": 47,
    "start_time": "2021-12-21T06:36:18.492Z"
   },
   {
    "duration": 50,
    "start_time": "2021-12-21T06:36:18.542Z"
   },
   {
    "duration": 435,
    "start_time": "2021-12-21T06:36:18.595Z"
   },
   {
    "duration": 39,
    "start_time": "2021-12-21T06:36:19.032Z"
   },
   {
    "duration": 58,
    "start_time": "2021-12-21T06:36:19.074Z"
   },
   {
    "duration": 26,
    "start_time": "2021-12-21T06:36:19.136Z"
   },
   {
    "duration": 349,
    "start_time": "2021-12-21T06:36:19.166Z"
   },
   {
    "duration": 14,
    "start_time": "2021-12-21T06:36:19.517Z"
   },
   {
    "duration": 6,
    "start_time": "2021-12-21T06:36:19.534Z"
   },
   {
    "duration": 116,
    "start_time": "2021-12-21T06:36:19.564Z"
   },
   {
    "duration": 13,
    "start_time": "2021-12-21T06:36:19.683Z"
   },
   {
    "duration": 9,
    "start_time": "2021-12-21T06:36:19.698Z"
   },
   {
    "duration": 1006,
    "start_time": "2021-12-21T06:36:19.710Z"
   },
   {
    "duration": 4323,
    "start_time": "2021-12-21T06:36:20.719Z"
   },
   {
    "duration": 55,
    "start_time": "2021-12-21T06:36:25.045Z"
   },
   {
    "duration": 33,
    "start_time": "2021-12-21T06:36:25.103Z"
   },
   {
    "duration": 30,
    "start_time": "2021-12-21T06:36:25.138Z"
   },
   {
    "duration": 50,
    "start_time": "2021-12-21T06:36:25.171Z"
   },
   {
    "duration": 40,
    "start_time": "2021-12-21T06:36:25.224Z"
   },
   {
    "duration": 2242,
    "start_time": "2021-12-26T10:06:01.330Z"
   },
   {
    "duration": 49,
    "start_time": "2021-12-26T10:06:03.575Z"
   },
   {
    "duration": 48,
    "start_time": "2021-12-26T10:06:03.628Z"
   },
   {
    "duration": 62,
    "start_time": "2021-12-26T10:06:03.679Z"
   },
   {
    "duration": 448,
    "start_time": "2021-12-26T10:06:03.743Z"
   },
   {
    "duration": 47,
    "start_time": "2021-12-26T10:06:04.193Z"
   },
   {
    "duration": 55,
    "start_time": "2021-12-26T10:06:04.242Z"
   },
   {
    "duration": 5,
    "start_time": "2021-12-26T10:06:04.301Z"
   },
   {
    "duration": 330,
    "start_time": "2021-12-26T10:06:04.308Z"
   },
   {
    "duration": 10,
    "start_time": "2021-12-26T10:06:04.640Z"
   },
   {
    "duration": 4,
    "start_time": "2021-12-26T10:06:04.653Z"
   },
   {
    "duration": 116,
    "start_time": "2021-12-26T10:06:04.659Z"
   },
   {
    "duration": 12,
    "start_time": "2021-12-26T10:06:04.777Z"
   },
   {
    "duration": 9,
    "start_time": "2021-12-26T10:06:04.792Z"
   },
   {
    "duration": 1163,
    "start_time": "2021-12-26T10:06:04.803Z"
   },
   {
    "duration": 3874,
    "start_time": "2021-12-26T10:06:05.969Z"
   },
   {
    "duration": 44,
    "start_time": "2021-12-26T10:06:09.845Z"
   },
   {
    "duration": 54,
    "start_time": "2021-12-26T10:06:09.891Z"
   },
   {
    "duration": 8,
    "start_time": "2021-12-26T10:06:09.948Z"
   },
   {
    "duration": 76,
    "start_time": "2021-12-26T10:06:09.958Z"
   },
   {
    "duration": 20,
    "start_time": "2021-12-26T10:06:10.037Z"
   },
   {
    "duration": 48,
    "start_time": "2021-12-26T10:06:26.521Z"
   },
   {
    "duration": 2541,
    "start_time": "2021-12-26T10:09:31.044Z"
   },
   {
    "duration": 2949,
    "start_time": "2021-12-26T10:09:56.081Z"
   },
   {
    "duration": 652,
    "start_time": "2021-12-26T10:17:41.018Z"
   },
   {
    "duration": 709,
    "start_time": "2021-12-26T10:18:23.236Z"
   },
   {
    "duration": 707,
    "start_time": "2021-12-26T10:23:03.894Z"
   },
   {
    "duration": 2320,
    "start_time": "2021-12-26T10:24:48.278Z"
   },
   {
    "duration": 379,
    "start_time": "2021-12-26T10:25:32.376Z"
   },
   {
    "duration": 383,
    "start_time": "2021-12-26T10:28:43.410Z"
   },
   {
    "duration": 1385,
    "start_time": "2021-12-26T10:30:46.560Z"
   },
   {
    "duration": 417,
    "start_time": "2021-12-26T10:31:56.809Z"
   },
   {
    "duration": 560,
    "start_time": "2021-12-26T10:33:21.469Z"
   },
   {
    "duration": 664,
    "start_time": "2021-12-26T10:35:10.469Z"
   },
   {
    "duration": 8539,
    "start_time": "2021-12-26T10:36:26.604Z"
   },
   {
    "duration": 395,
    "start_time": "2021-12-26T10:38:00.699Z"
   },
   {
    "duration": 828,
    "start_time": "2021-12-26T10:41:19.409Z"
   },
   {
    "duration": 47,
    "start_time": "2021-12-26T10:41:20.240Z"
   },
   {
    "duration": 64,
    "start_time": "2021-12-26T10:41:20.290Z"
   },
   {
    "duration": 32,
    "start_time": "2021-12-26T10:41:20.357Z"
   },
   {
    "duration": 956,
    "start_time": "2021-12-26T10:44:31.715Z"
   },
   {
    "duration": 46,
    "start_time": "2021-12-26T10:44:32.673Z"
   },
   {
    "duration": 48,
    "start_time": "2021-12-26T10:44:32.722Z"
   },
   {
    "duration": 64,
    "start_time": "2021-12-26T10:44:32.772Z"
   },
   {
    "duration": 535,
    "start_time": "2021-12-26T10:44:32.839Z"
   },
   {
    "duration": -4093,
    "start_time": "2021-12-26T10:44:37.470Z"
   },
   {
    "duration": -4120,
    "start_time": "2021-12-26T10:44:37.498Z"
   },
   {
    "duration": -4135,
    "start_time": "2021-12-26T10:44:37.515Z"
   },
   {
    "duration": -4156,
    "start_time": "2021-12-26T10:44:37.537Z"
   },
   {
    "duration": -4190,
    "start_time": "2021-12-26T10:44:37.572Z"
   },
   {
    "duration": -4216,
    "start_time": "2021-12-26T10:44:37.599Z"
   },
   {
    "duration": -4237,
    "start_time": "2021-12-26T10:44:37.621Z"
   },
   {
    "duration": -4248,
    "start_time": "2021-12-26T10:44:37.634Z"
   },
   {
    "duration": -4282,
    "start_time": "2021-12-26T10:44:37.669Z"
   },
   {
    "duration": -4312,
    "start_time": "2021-12-26T10:44:37.700Z"
   },
   {
    "duration": -4329,
    "start_time": "2021-12-26T10:44:37.718Z"
   },
   {
    "duration": -4374,
    "start_time": "2021-12-26T10:44:37.765Z"
   },
   {
    "duration": -4390,
    "start_time": "2021-12-26T10:44:37.782Z"
   },
   {
    "duration": -4407,
    "start_time": "2021-12-26T10:44:37.800Z"
   },
   {
    "duration": -4427,
    "start_time": "2021-12-26T10:44:37.821Z"
   },
   {
    "duration": -4442,
    "start_time": "2021-12-26T10:44:37.838Z"
   },
   {
    "duration": 389,
    "start_time": "2021-12-26T10:45:07.943Z"
   },
   {
    "duration": 542,
    "start_time": "2021-12-26T10:47:41.533Z"
   },
   {
    "duration": 374,
    "start_time": "2021-12-26T10:49:01.804Z"
   },
   {
    "duration": 320,
    "start_time": "2021-12-26T10:50:10.593Z"
   },
   {
    "duration": 320,
    "start_time": "2021-12-26T10:50:41.036Z"
   },
   {
    "duration": 317,
    "start_time": "2021-12-26T10:51:56.370Z"
   },
   {
    "duration": 366,
    "start_time": "2021-12-26T10:52:18.928Z"
   },
   {
    "duration": 263,
    "start_time": "2021-12-26T10:53:01.643Z"
   },
   {
    "duration": 434,
    "start_time": "2021-12-26T10:53:15.388Z"
   },
   {
    "duration": 343,
    "start_time": "2021-12-26T10:56:10.911Z"
   },
   {
    "duration": 339,
    "start_time": "2021-12-26T10:56:36.270Z"
   },
   {
    "duration": 81,
    "start_time": "2021-12-26T11:02:58.194Z"
   },
   {
    "duration": 98,
    "start_time": "2021-12-26T11:05:49.548Z"
   },
   {
    "duration": 108,
    "start_time": "2021-12-26T11:06:16.333Z"
   },
   {
    "duration": 98,
    "start_time": "2021-12-26T11:06:59.404Z"
   },
   {
    "duration": 965,
    "start_time": "2021-12-26T11:07:21.403Z"
   },
   {
    "duration": 45,
    "start_time": "2021-12-26T11:07:22.371Z"
   },
   {
    "duration": 49,
    "start_time": "2021-12-26T11:07:22.421Z"
   },
   {
    "duration": 65,
    "start_time": "2021-12-26T11:07:22.473Z"
   },
   {
    "duration": 471,
    "start_time": "2021-12-26T11:07:22.541Z"
   },
   {
    "duration": 79,
    "start_time": "2021-12-26T11:07:23.017Z"
   },
   {
    "duration": 82,
    "start_time": "2021-12-26T11:07:23.098Z"
   },
   {
    "duration": 6,
    "start_time": "2021-12-26T11:07:23.183Z"
   },
   {
    "duration": 354,
    "start_time": "2021-12-26T11:07:23.192Z"
   },
   {
    "duration": 10,
    "start_time": "2021-12-26T11:07:23.548Z"
   },
   {
    "duration": 17,
    "start_time": "2021-12-26T11:07:23.561Z"
   },
   {
    "duration": 141,
    "start_time": "2021-12-26T11:07:23.581Z"
   },
   {
    "duration": 19,
    "start_time": "2021-12-26T11:07:23.725Z"
   },
   {
    "duration": 15,
    "start_time": "2021-12-26T11:07:23.747Z"
   },
   {
    "duration": 1029,
    "start_time": "2021-12-26T11:07:23.766Z"
   },
   {
    "duration": 3785,
    "start_time": "2021-12-26T11:07:24.798Z"
   },
   {
    "duration": 65,
    "start_time": "2021-12-26T11:07:28.586Z"
   },
   {
    "duration": 31,
    "start_time": "2021-12-26T11:07:28.654Z"
   },
   {
    "duration": 35,
    "start_time": "2021-12-26T11:07:28.687Z"
   },
   {
    "duration": 45,
    "start_time": "2021-12-26T11:07:28.725Z"
   },
   {
    "duration": 46,
    "start_time": "2021-12-26T11:07:28.772Z"
   },
   {
    "duration": 102,
    "start_time": "2021-12-26T11:12:11.885Z"
   },
   {
    "duration": 128,
    "start_time": "2021-12-26T11:13:10.699Z"
   },
   {
    "duration": 98,
    "start_time": "2021-12-26T11:16:24.543Z"
   },
   {
    "duration": 182,
    "start_time": "2021-12-26T11:17:03.507Z"
   },
   {
    "duration": 345,
    "start_time": "2021-12-26T11:17:29.072Z"
   },
   {
    "duration": 98,
    "start_time": "2021-12-26T11:18:12.750Z"
   },
   {
    "duration": 150,
    "start_time": "2021-12-26T11:18:58.673Z"
   },
   {
    "duration": 845,
    "start_time": "2021-12-26T11:19:22.068Z"
   },
   {
    "duration": 51,
    "start_time": "2021-12-26T11:19:22.915Z"
   },
   {
    "duration": 67,
    "start_time": "2021-12-26T11:19:22.968Z"
   },
   {
    "duration": 31,
    "start_time": "2021-12-26T11:19:23.038Z"
   },
   {
    "duration": 1140,
    "start_time": "2021-12-26T11:19:23.071Z"
   },
   {
    "duration": -4093,
    "start_time": "2021-12-26T11:19:28.307Z"
   },
   {
    "duration": -4112,
    "start_time": "2021-12-26T11:19:28.327Z"
   },
   {
    "duration": -4128,
    "start_time": "2021-12-26T11:19:28.346Z"
   },
   {
    "duration": -4159,
    "start_time": "2021-12-26T11:19:28.379Z"
   },
   {
    "duration": -4202,
    "start_time": "2021-12-26T11:19:28.424Z"
   },
   {
    "duration": -4297,
    "start_time": "2021-12-26T11:19:28.520Z"
   },
   {
    "duration": -4308,
    "start_time": "2021-12-26T11:19:28.533Z"
   },
   {
    "duration": -4344,
    "start_time": "2021-12-26T11:19:28.571Z"
   },
   {
    "duration": -4359,
    "start_time": "2021-12-26T11:19:28.587Z"
   },
   {
    "duration": -4392,
    "start_time": "2021-12-26T11:19:28.621Z"
   },
   {
    "duration": -4406,
    "start_time": "2021-12-26T11:19:28.637Z"
   },
   {
    "duration": -4420,
    "start_time": "2021-12-26T11:19:28.653Z"
   },
   {
    "duration": -4452,
    "start_time": "2021-12-26T11:19:28.687Z"
   },
   {
    "duration": -4479,
    "start_time": "2021-12-26T11:19:28.716Z"
   },
   {
    "duration": -4516,
    "start_time": "2021-12-26T11:19:28.755Z"
   },
   {
    "duration": -4534,
    "start_time": "2021-12-26T11:19:28.774Z"
   },
   {
    "duration": 468,
    "start_time": "2021-12-26T11:20:38.210Z"
   },
   {
    "duration": 397,
    "start_time": "2021-12-26T11:21:56.903Z"
   },
   {
    "duration": 336,
    "start_time": "2021-12-26T11:23:08.489Z"
   },
   {
    "duration": 108,
    "start_time": "2021-12-26T11:47:43.458Z"
   },
   {
    "duration": 569,
    "start_time": "2021-12-26T11:48:08.012Z"
   },
   {
    "duration": 327,
    "start_time": "2021-12-26T11:51:26.390Z"
   },
   {
    "duration": 94352,
    "start_time": "2021-12-26T11:55:49.389Z"
   },
   {
    "duration": 848,
    "start_time": "2021-12-26T11:58:43.188Z"
   },
   {
    "duration": 46,
    "start_time": "2021-12-26T11:58:44.038Z"
   },
   {
    "duration": 65,
    "start_time": "2021-12-26T11:58:44.087Z"
   },
   {
    "duration": 30,
    "start_time": "2021-12-26T11:58:44.155Z"
   },
   {
    "duration": 474,
    "start_time": "2021-12-26T11:58:44.187Z"
   },
   {
    "duration": 419,
    "start_time": "2021-12-26T11:58:44.664Z"
   },
   {
    "duration": -4075,
    "start_time": "2021-12-26T11:58:49.161Z"
   },
   {
    "duration": -4092,
    "start_time": "2021-12-26T11:58:49.180Z"
   },
   {
    "duration": -4109,
    "start_time": "2021-12-26T11:58:49.198Z"
   },
   {
    "duration": -4131,
    "start_time": "2021-12-26T11:58:49.222Z"
   },
   {
    "duration": -4155,
    "start_time": "2021-12-26T11:58:49.247Z"
   },
   {
    "duration": -4168,
    "start_time": "2021-12-26T11:58:49.262Z"
   },
   {
    "duration": -4191,
    "start_time": "2021-12-26T11:58:49.286Z"
   },
   {
    "duration": -4214,
    "start_time": "2021-12-26T11:58:49.310Z"
   },
   {
    "duration": -4224,
    "start_time": "2021-12-26T11:58:49.322Z"
   },
   {
    "duration": -4240,
    "start_time": "2021-12-26T11:58:49.339Z"
   },
   {
    "duration": -4261,
    "start_time": "2021-12-26T11:58:49.361Z"
   },
   {
    "duration": -4276,
    "start_time": "2021-12-26T11:58:49.378Z"
   },
   {
    "duration": -4292,
    "start_time": "2021-12-26T11:58:49.395Z"
   },
   {
    "duration": -4309,
    "start_time": "2021-12-26T11:58:49.414Z"
   },
   {
    "duration": -4329,
    "start_time": "2021-12-26T11:58:49.435Z"
   },
   {
    "duration": 81,
    "start_time": "2021-12-26T12:02:32.319Z"
   },
   {
    "duration": 65,
    "start_time": "2021-12-26T12:04:28.211Z"
   },
   {
    "duration": 403,
    "start_time": "2021-12-26T12:20:15.447Z"
   },
   {
    "duration": 398,
    "start_time": "2021-12-26T12:21:06.278Z"
   },
   {
    "duration": 69,
    "start_time": "2021-12-26T12:22:02.498Z"
   },
   {
    "duration": 101,
    "start_time": "2021-12-26T12:22:43.624Z"
   },
   {
    "duration": 68,
    "start_time": "2021-12-26T12:23:02.746Z"
   },
   {
    "duration": 836,
    "start_time": "2021-12-26T12:23:15.713Z"
   },
   {
    "duration": 43,
    "start_time": "2021-12-26T12:23:16.551Z"
   },
   {
    "duration": 57,
    "start_time": "2021-12-26T12:23:16.597Z"
   },
   {
    "duration": 60,
    "start_time": "2021-12-26T12:23:16.656Z"
   },
   {
    "duration": 715,
    "start_time": "2021-12-26T12:23:16.719Z"
   },
   {
    "duration": 143,
    "start_time": "2021-12-26T12:23:17.437Z"
   },
   {
    "duration": 127,
    "start_time": "2021-12-26T12:23:17.583Z"
   },
   {
    "duration": 7,
    "start_time": "2021-12-26T12:23:17.720Z"
   },
   {
    "duration": 525,
    "start_time": "2021-12-26T12:23:17.730Z"
   },
   {
    "duration": 15,
    "start_time": "2021-12-26T12:23:18.258Z"
   },
   {
    "duration": 6,
    "start_time": "2021-12-26T12:23:18.276Z"
   },
   {
    "duration": 200,
    "start_time": "2021-12-26T12:23:18.285Z"
   },
   {
    "duration": 29,
    "start_time": "2021-12-26T12:23:18.488Z"
   },
   {
    "duration": 12,
    "start_time": "2021-12-26T12:23:18.520Z"
   },
   {
    "duration": 960,
    "start_time": "2021-12-26T12:23:18.535Z"
   },
   {
    "duration": 4287,
    "start_time": "2021-12-26T12:23:19.499Z"
   },
   {
    "duration": 63,
    "start_time": "2021-12-26T12:23:23.789Z"
   },
   {
    "duration": 31,
    "start_time": "2021-12-26T12:23:23.855Z"
   },
   {
    "duration": 32,
    "start_time": "2021-12-26T12:23:23.889Z"
   },
   {
    "duration": 41,
    "start_time": "2021-12-26T12:23:23.923Z"
   },
   {
    "duration": 50,
    "start_time": "2021-12-26T12:23:23.967Z"
   },
   {
    "duration": 146,
    "start_time": "2021-12-26T12:24:36.403Z"
   },
   {
    "duration": 920,
    "start_time": "2021-12-26T12:24:47.122Z"
   },
   {
    "duration": 72,
    "start_time": "2021-12-26T12:24:48.046Z"
   },
   {
    "duration": 68,
    "start_time": "2021-12-26T12:24:48.123Z"
   },
   {
    "duration": 63,
    "start_time": "2021-12-26T12:24:48.195Z"
   },
   {
    "duration": 719,
    "start_time": "2021-12-26T12:24:48.262Z"
   },
   {
    "duration": 147,
    "start_time": "2021-12-26T12:24:48.984Z"
   },
   {
    "duration": 107,
    "start_time": "2021-12-26T12:24:49.135Z"
   },
   {
    "duration": 7,
    "start_time": "2021-12-26T12:24:49.247Z"
   },
   {
    "duration": 346,
    "start_time": "2021-12-26T12:24:49.257Z"
   },
   {
    "duration": 21,
    "start_time": "2021-12-26T12:24:49.605Z"
   },
   {
    "duration": 6,
    "start_time": "2021-12-26T12:24:49.629Z"
   },
   {
    "duration": 133,
    "start_time": "2021-12-26T12:24:49.637Z"
   },
   {
    "duration": 16,
    "start_time": "2021-12-26T12:24:49.773Z"
   },
   {
    "duration": 31,
    "start_time": "2021-12-26T12:24:49.791Z"
   },
   {
    "duration": 1419,
    "start_time": "2021-12-26T12:24:49.824Z"
   },
   {
    "duration": 4258,
    "start_time": "2021-12-26T12:24:51.247Z"
   },
   {
    "duration": 69,
    "start_time": "2021-12-26T12:24:55.508Z"
   },
   {
    "duration": 58,
    "start_time": "2021-12-26T12:24:55.580Z"
   },
   {
    "duration": 8,
    "start_time": "2021-12-26T12:24:55.641Z"
   },
   {
    "duration": 68,
    "start_time": "2021-12-26T12:24:55.651Z"
   },
   {
    "duration": 20,
    "start_time": "2021-12-26T12:24:55.722Z"
   },
   {
    "duration": 809,
    "start_time": "2021-12-26T12:29:21.244Z"
   },
   {
    "duration": 45,
    "start_time": "2021-12-26T12:29:22.056Z"
   },
   {
    "duration": 44,
    "start_time": "2021-12-26T12:29:22.116Z"
   },
   {
    "duration": 56,
    "start_time": "2021-12-26T12:29:22.163Z"
   },
   {
    "duration": 439,
    "start_time": "2021-12-26T12:29:22.221Z"
   },
   {
    "duration": 95,
    "start_time": "2021-12-26T12:29:22.662Z"
   },
   {
    "duration": 80,
    "start_time": "2021-12-26T12:29:22.760Z"
   },
   {
    "duration": 325,
    "start_time": "2021-12-26T12:29:22.844Z"
   },
   {
    "duration": 14,
    "start_time": "2021-12-26T12:29:23.173Z"
   },
   {
    "duration": 26,
    "start_time": "2021-12-26T12:29:23.191Z"
   },
   {
    "duration": 186,
    "start_time": "2021-12-26T12:29:23.220Z"
   },
   {
    "duration": 24,
    "start_time": "2021-12-26T12:29:23.410Z"
   },
   {
    "duration": 20,
    "start_time": "2021-12-26T12:29:23.438Z"
   },
   {
    "duration": 989,
    "start_time": "2021-12-26T12:29:23.461Z"
   },
   {
    "duration": 4132,
    "start_time": "2021-12-26T12:29:24.453Z"
   },
   {
    "duration": 60,
    "start_time": "2021-12-26T12:29:28.588Z"
   },
   {
    "duration": 32,
    "start_time": "2021-12-26T12:29:28.651Z"
   },
   {
    "duration": 37,
    "start_time": "2021-12-26T12:29:28.686Z"
   },
   {
    "duration": 45,
    "start_time": "2021-12-26T12:29:28.727Z"
   },
   {
    "duration": 48,
    "start_time": "2021-12-26T12:29:28.775Z"
   },
   {
    "duration": 430,
    "start_time": "2022-05-05T10:29:27.875Z"
   },
   {
    "duration": 33,
    "start_time": "2022-05-05T10:29:28.307Z"
   },
   {
    "duration": 28,
    "start_time": "2022-05-05T10:29:28.342Z"
   },
   {
    "duration": 25,
    "start_time": "2022-05-05T10:29:28.372Z"
   },
   {
    "duration": 574,
    "start_time": "2022-05-05T10:29:28.398Z"
   },
   {
    "duration": 54,
    "start_time": "2022-05-05T10:29:28.974Z"
   },
   {
    "duration": 42,
    "start_time": "2022-05-05T10:29:29.030Z"
   },
   {
    "duration": 57,
    "start_time": "2022-05-05T10:29:29.073Z"
   },
   {
    "duration": 153,
    "start_time": "2022-05-05T10:29:29.132Z"
   },
   {
    "duration": 7,
    "start_time": "2022-05-05T10:29:29.288Z"
   },
   {
    "duration": 4,
    "start_time": "2022-05-05T10:29:29.296Z"
   },
   {
    "duration": 80,
    "start_time": "2022-05-05T10:29:29.302Z"
   },
   {
    "duration": 9,
    "start_time": "2022-05-05T10:29:29.383Z"
   },
   {
    "duration": 8,
    "start_time": "2022-05-05T10:29:29.394Z"
   },
   {
    "duration": 1157,
    "start_time": "2022-05-05T10:29:29.403Z"
   },
   {
    "duration": 2853,
    "start_time": "2022-05-05T10:29:30.562Z"
   },
   {
    "duration": 28,
    "start_time": "2022-05-05T10:29:33.424Z"
   },
   {
    "duration": 19,
    "start_time": "2022-05-05T10:29:33.453Z"
   },
   {
    "duration": 7,
    "start_time": "2022-05-05T10:29:33.474Z"
   },
   {
    "duration": 46,
    "start_time": "2022-05-05T10:29:33.483Z"
   },
   {
    "duration": 13,
    "start_time": "2022-05-05T10:29:33.530Z"
   }
  ],
  "kernelspec": {
   "display_name": "Python 3 (ipykernel)",
   "language": "python",
   "name": "python3"
  },
  "language_info": {
   "codemirror_mode": {
    "name": "ipython",
    "version": 3
   },
   "file_extension": ".py",
   "mimetype": "text/x-python",
   "name": "python",
   "nbconvert_exporter": "python",
   "pygments_lexer": "ipython3",
   "version": "3.9.7"
  },
  "toc": {
   "base_numbering": 1,
   "nav_menu": {},
   "number_sections": true,
   "sideBar": true,
   "skip_h1_title": true,
   "title_cell": "Table of Contents",
   "title_sidebar": "Contents",
   "toc_cell": false,
   "toc_position": {},
   "toc_section_display": true,
   "toc_window_display": false
  }
 },
 "nbformat": 4,
 "nbformat_minor": 2
}
