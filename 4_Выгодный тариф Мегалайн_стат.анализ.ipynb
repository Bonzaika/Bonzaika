{
 "cells": [
  {
   "cell_type": "markdown",
   "metadata": {},
   "source": [
    "<div style=\"border:solid lightseagreen 3px; padding: 20px\">\n",
    "<div>    \n",
    "<p><font color=\"black\" >\n",
    "Привет! Меня зовут Мария Четырева, и я буду делать ревью твоего проекта. Давай будем общаться на «ты». \n",
    "По ходу твоего решения я буду оставлять комментарии, обрати внимание на их цвет.</font></p>\n",
    "</div>\n",
    "\n",
    "<div class=\"alert alert-success\">\n",
    "\n",
    "<b>✔️</b> Зеленым цветом отмечены удачные и элегантные решения, на которые можно опираться в будущем.\n",
    "\n",
    "</div>\n",
    "\n",
    "<div class=\"alert alert-warning\">\n",
    "\n",
    "<b>⚠️</b> Жёлтым цветом выделено то, что в следующий раз можно сделать по-другому. Это не критичные ошибки, исправление которых остается на твое усмотрение. Однако постарайся, чтобы после твоих доработок их было не больше 3.\n",
    "\n",
    "</div>\n",
    "\n",
    "<div class=\"alert alert-danger\">\n",
    "\n",
    "<b>❌</b> Красным цветом отмечены критичные ошибки, без исправления которых проект не будет принят.\n",
    "\n",
    "</div>\n",
    "\n",
    "<p>Давай работать над проектом в диалоге: если ты что-то меняешь в проекте по моим рекомендациям — пиши об этом. Выбери для своих комментариев какой-то заметный цвет, так мне будет легче отследить изменения, например вот так:\n",
    "\n",
    "<div class=\"alert alert-info\">\n",
    "<b>Комментарий студента:</b> Ок\n",
    "<br>\n",
    "</div>\n",
    "    \n",
    "Пожалуйста, не перемещай, не изменяй и не удаляй мои комментарии. Всё это поможет выполнить повторную проверку твоего проекта оперативнее. </p>\n",
    "\n",
    "</div>"
   ]
  },
  {
   "cell_type": "markdown",
   "metadata": {},
   "source": [
    "<div style=\"border:solid lightseagreen 3px; padding: 20px\">\n",
    "<div>\n",
    "<b>Общий комментарий ревьюера: </b>\n",
    "    \n",
    "   Прошу прощения за долгое ожидание проверки, у нас завал( Обещаю, что следующая итерация пройдет в срок.\n",
    "    \n",
    "   Мне очень понравилась твоя работа! Ты уверенно используешь pandas для анализа данных, верно формулируешь выводы. Критических замечаний нет. Отправляю работу, чтобы убедиться, что все мои комментарии понятны. Если же вопросов ко мне нет, присылай работу еще раз и я ее приму.\n",
    "\n",
    "\n",
    "</div>\n",
    "    "
   ]
  },
  {
   "cell_type": "markdown",
   "metadata": {},
   "source": [
    "\n",
    "<img src=\"https://i.ibb.co/vZtG5zL/image.jpg\" width=450 height=450 />"
   ]
  },
  {
   "cell_type": "markdown",
   "metadata": {},
   "source": [
    "**Задача**  \n",
    "Проанализировать поведение клиентов компании Мегалайн и сделать вывод — какой тариф выгоднее продвигать: Смарт или Ультра.\n",
    "1. Провести первичный анализ данных\n",
    "2. Провести предобработку данных (привести к нужным типам и исправить ошибки)\n",
    "3. Добавить необходимые данные в таблицы (количество сделанных звонков и израсходованных минут разговора по месяцам; количество отправленных сообщений по месяцам; объем израсходованного интернет-трафика по месяцам; помесячную выручку с каждого пользователя)\n",
    "4. Описать поведение клиентов (среднее кол-во сообщений, минут разговора, объем трафика)\n",
    "5. Проверить гипотезы: средняя выручка пользователей тарифов «Ультра» и «Смарт» различается; средняя выручка пользователей из Москвы отличается от выручки пользователей из других регионов"
   ]
  },
  {
   "cell_type": "markdown",
   "metadata": {},
   "source": [
    "# Этап 1. Опишем наборы данных, получим их, импортируем библиотеки"
   ]
  },
  {
   "cell_type": "code",
   "execution_count": 1,
   "metadata": {},
   "outputs": [],
   "source": [
    "# Импортируем библиотеки\n",
    "import pandas as pd\n",
    "import numpy as np\n",
    "import matplotlib.pyplot as plt\n",
    "import matplotlib\n",
    "matplotlib.style.use('ggplot')\n",
    "from datetime import datetime\n",
    "from scipy import stats as st\n",
    "import seaborn as sns\n",
    "import warnings\n",
    "warnings.filterwarnings('ignore')\n",
    "pd.set_option('display.float_format', '{:,.1f}'.format)"
   ]
  },
  {
   "cell_type": "code",
   "execution_count": 2,
   "metadata": {},
   "outputs": [],
   "source": [
    "# Подгрузим датасеты\n",
    "users = pd.read_csv('/datasets/users.csv')\n",
    "calls = pd.read_csv('/datasets/calls.csv')\n",
    "messages = pd.read_csv('/datasets/messages.csv')\n",
    "internet = pd.read_csv('/datasets/internet.csv')\n",
    "tariffs = pd.read_csv('/datasets/tariffs.csv')"
   ]
  },
  {
   "cell_type": "code",
   "execution_count": 3,
   "metadata": {},
   "outputs": [
    {
     "name": "stdout",
     "output_type": "stream",
     "text": [
      "<class 'pandas.core.frame.DataFrame'>\n",
      "RangeIndex: 202607 entries, 0 to 202606\n",
      "Data columns (total 4 columns):\n",
      "id           202607 non-null object\n",
      "call_date    202607 non-null object\n",
      "duration     202607 non-null float64\n",
      "user_id      202607 non-null int64\n",
      "dtypes: float64(1), int64(1), object(2)\n",
      "memory usage: 6.2+ MB\n",
      "None\n",
      "\n",
      "       duration   user_id\n",
      "count 202,607.0 202,607.0\n",
      "mean        6.8   1,253.9\n",
      "std         5.8     144.7\n",
      "min         0.0   1,000.0\n",
      "25%         1.3   1,126.0\n",
      "50%         6.0   1,260.0\n",
      "75%        10.7   1,379.0\n",
      "max        38.0   1,499.0\n"
     ]
    },
    {
     "data": {
      "text/html": [
       "<div>\n",
       "<style scoped>\n",
       "    .dataframe tbody tr th:only-of-type {\n",
       "        vertical-align: middle;\n",
       "    }\n",
       "\n",
       "    .dataframe tbody tr th {\n",
       "        vertical-align: top;\n",
       "    }\n",
       "\n",
       "    .dataframe thead th {\n",
       "        text-align: right;\n",
       "    }\n",
       "</style>\n",
       "<table border=\"1\" class=\"dataframe\">\n",
       "  <thead>\n",
       "    <tr style=\"text-align: right;\">\n",
       "      <th></th>\n",
       "      <th>id</th>\n",
       "      <th>call_date</th>\n",
       "      <th>duration</th>\n",
       "      <th>user_id</th>\n",
       "    </tr>\n",
       "  </thead>\n",
       "  <tbody>\n",
       "    <tr>\n",
       "      <td>0</td>\n",
       "      <td>1000_0</td>\n",
       "      <td>2018-07-25</td>\n",
       "      <td>0.0</td>\n",
       "      <td>1000</td>\n",
       "    </tr>\n",
       "    <tr>\n",
       "      <td>1</td>\n",
       "      <td>1000_1</td>\n",
       "      <td>2018-08-17</td>\n",
       "      <td>0.0</td>\n",
       "      <td>1000</td>\n",
       "    </tr>\n",
       "    <tr>\n",
       "      <td>2</td>\n",
       "      <td>1000_2</td>\n",
       "      <td>2018-06-11</td>\n",
       "      <td>2.9</td>\n",
       "      <td>1000</td>\n",
       "    </tr>\n",
       "    <tr>\n",
       "      <td>3</td>\n",
       "      <td>1000_3</td>\n",
       "      <td>2018-09-21</td>\n",
       "      <td>13.8</td>\n",
       "      <td>1000</td>\n",
       "    </tr>\n",
       "    <tr>\n",
       "      <td>4</td>\n",
       "      <td>1000_4</td>\n",
       "      <td>2018-12-15</td>\n",
       "      <td>5.2</td>\n",
       "      <td>1000</td>\n",
       "    </tr>\n",
       "  </tbody>\n",
       "</table>\n",
       "</div>"
      ],
      "text/plain": [
       "       id   call_date  duration  user_id\n",
       "0  1000_0  2018-07-25       0.0     1000\n",
       "1  1000_1  2018-08-17       0.0     1000\n",
       "2  1000_2  2018-06-11       2.9     1000\n",
       "3  1000_3  2018-09-21      13.8     1000\n",
       "4  1000_4  2018-12-15       5.2     1000"
      ]
     },
     "execution_count": 3,
     "metadata": {},
     "output_type": "execute_result"
    }
   ],
   "source": [
    "### Изучим общую информацию по датафреймам и всем признакам, посмотрим на размер данных, \n",
    "### Оценим среднее, минимальное и максимальное для числовых значений методом describe()\n",
    "\n",
    "print(calls.info())\n",
    "print()\n",
    "print(calls.describe())\n",
    "calls.head()"
   ]
  },
  {
   "cell_type": "markdown",
   "metadata": {},
   "source": [
    "Столбец duration содержит нулевые значения. Согласно заданию, это неотвеченные звонки. Оставляем без изменений."
   ]
  },
  {
   "cell_type": "code",
   "execution_count": 4,
   "metadata": {},
   "outputs": [
    {
     "name": "stdout",
     "output_type": "stream",
     "text": [
      "<class 'pandas.core.frame.DataFrame'>\n",
      "RangeIndex: 149396 entries, 0 to 149395\n",
      "Data columns (total 5 columns):\n",
      "Unnamed: 0      149396 non-null int64\n",
      "id              149396 non-null object\n",
      "mb_used         149396 non-null float64\n",
      "session_date    149396 non-null object\n",
      "user_id         149396 non-null int64\n",
      "dtypes: float64(1), int64(2), object(2)\n",
      "memory usage: 5.7+ MB\n",
      "None\n",
      "\n",
      "       Unnamed: 0   mb_used   user_id\n",
      "count   149,396.0 149,396.0 149,396.0\n",
      "mean     74,697.5     370.2   1,252.1\n",
      "std      43,127.1     278.3     144.1\n",
      "min           0.0       0.0   1,000.0\n",
      "25%      37,348.8     138.2   1,130.0\n",
      "50%      74,697.5     348.0   1,251.0\n",
      "75%     112,046.2     559.6   1,380.0\n",
      "max     149,395.0   1,724.8   1,499.0\n"
     ]
    },
    {
     "data": {
      "text/html": [
       "<div>\n",
       "<style scoped>\n",
       "    .dataframe tbody tr th:only-of-type {\n",
       "        vertical-align: middle;\n",
       "    }\n",
       "\n",
       "    .dataframe tbody tr th {\n",
       "        vertical-align: top;\n",
       "    }\n",
       "\n",
       "    .dataframe thead th {\n",
       "        text-align: right;\n",
       "    }\n",
       "</style>\n",
       "<table border=\"1\" class=\"dataframe\">\n",
       "  <thead>\n",
       "    <tr style=\"text-align: right;\">\n",
       "      <th></th>\n",
       "      <th>Unnamed: 0</th>\n",
       "      <th>id</th>\n",
       "      <th>mb_used</th>\n",
       "      <th>session_date</th>\n",
       "      <th>user_id</th>\n",
       "    </tr>\n",
       "  </thead>\n",
       "  <tbody>\n",
       "    <tr>\n",
       "      <td>0</td>\n",
       "      <td>0</td>\n",
       "      <td>1000_0</td>\n",
       "      <td>113.0</td>\n",
       "      <td>2018-11-25</td>\n",
       "      <td>1000</td>\n",
       "    </tr>\n",
       "    <tr>\n",
       "      <td>1</td>\n",
       "      <td>1</td>\n",
       "      <td>1000_1</td>\n",
       "      <td>1,052.8</td>\n",
       "      <td>2018-09-07</td>\n",
       "      <td>1000</td>\n",
       "    </tr>\n",
       "    <tr>\n",
       "      <td>2</td>\n",
       "      <td>2</td>\n",
       "      <td>1000_2</td>\n",
       "      <td>1,197.3</td>\n",
       "      <td>2018-06-25</td>\n",
       "      <td>1000</td>\n",
       "    </tr>\n",
       "    <tr>\n",
       "      <td>3</td>\n",
       "      <td>3</td>\n",
       "      <td>1000_3</td>\n",
       "      <td>550.3</td>\n",
       "      <td>2018-08-22</td>\n",
       "      <td>1000</td>\n",
       "    </tr>\n",
       "    <tr>\n",
       "      <td>4</td>\n",
       "      <td>4</td>\n",
       "      <td>1000_4</td>\n",
       "      <td>302.6</td>\n",
       "      <td>2018-09-24</td>\n",
       "      <td>1000</td>\n",
       "    </tr>\n",
       "  </tbody>\n",
       "</table>\n",
       "</div>"
      ],
      "text/plain": [
       "   Unnamed: 0      id  mb_used session_date  user_id\n",
       "0           0  1000_0    113.0   2018-11-25     1000\n",
       "1           1  1000_1  1,052.8   2018-09-07     1000\n",
       "2           2  1000_2  1,197.3   2018-06-25     1000\n",
       "3           3  1000_3    550.3   2018-08-22     1000\n",
       "4           4  1000_4    302.6   2018-09-24     1000"
      ]
     },
     "execution_count": 4,
     "metadata": {},
     "output_type": "execute_result"
    }
   ],
   "source": [
    "print(internet.info())\n",
    "print()\n",
    "print(internet.describe())\n",
    "internet.head()"
   ]
  },
  {
   "cell_type": "code",
   "execution_count": 5,
   "metadata": {},
   "outputs": [
    {
     "name": "stdout",
     "output_type": "stream",
     "text": [
      "<class 'pandas.core.frame.DataFrame'>\n",
      "RangeIndex: 123036 entries, 0 to 123035\n",
      "Data columns (total 3 columns):\n",
      "id              123036 non-null object\n",
      "message_date    123036 non-null object\n",
      "user_id         123036 non-null int64\n",
      "dtypes: int64(1), object(2)\n",
      "memory usage: 2.8+ MB\n",
      "None\n",
      "\n",
      "        user_id\n",
      "count 123,036.0\n",
      "mean    1,257.0\n",
      "std       143.5\n",
      "min     1,000.0\n",
      "25%     1,134.0\n",
      "50%     1,271.0\n",
      "75%     1,381.0\n",
      "max     1,499.0\n"
     ]
    },
    {
     "data": {
      "text/html": [
       "<div>\n",
       "<style scoped>\n",
       "    .dataframe tbody tr th:only-of-type {\n",
       "        vertical-align: middle;\n",
       "    }\n",
       "\n",
       "    .dataframe tbody tr th {\n",
       "        vertical-align: top;\n",
       "    }\n",
       "\n",
       "    .dataframe thead th {\n",
       "        text-align: right;\n",
       "    }\n",
       "</style>\n",
       "<table border=\"1\" class=\"dataframe\">\n",
       "  <thead>\n",
       "    <tr style=\"text-align: right;\">\n",
       "      <th></th>\n",
       "      <th>id</th>\n",
       "      <th>message_date</th>\n",
       "      <th>user_id</th>\n",
       "    </tr>\n",
       "  </thead>\n",
       "  <tbody>\n",
       "    <tr>\n",
       "      <td>0</td>\n",
       "      <td>1000_0</td>\n",
       "      <td>2018-06-27</td>\n",
       "      <td>1000</td>\n",
       "    </tr>\n",
       "    <tr>\n",
       "      <td>1</td>\n",
       "      <td>1000_1</td>\n",
       "      <td>2018-10-08</td>\n",
       "      <td>1000</td>\n",
       "    </tr>\n",
       "    <tr>\n",
       "      <td>2</td>\n",
       "      <td>1000_2</td>\n",
       "      <td>2018-08-04</td>\n",
       "      <td>1000</td>\n",
       "    </tr>\n",
       "    <tr>\n",
       "      <td>3</td>\n",
       "      <td>1000_3</td>\n",
       "      <td>2018-06-16</td>\n",
       "      <td>1000</td>\n",
       "    </tr>\n",
       "    <tr>\n",
       "      <td>4</td>\n",
       "      <td>1000_4</td>\n",
       "      <td>2018-12-05</td>\n",
       "      <td>1000</td>\n",
       "    </tr>\n",
       "  </tbody>\n",
       "</table>\n",
       "</div>"
      ],
      "text/plain": [
       "       id message_date  user_id\n",
       "0  1000_0   2018-06-27     1000\n",
       "1  1000_1   2018-10-08     1000\n",
       "2  1000_2   2018-08-04     1000\n",
       "3  1000_3   2018-06-16     1000\n",
       "4  1000_4   2018-12-05     1000"
      ]
     },
     "execution_count": 5,
     "metadata": {},
     "output_type": "execute_result"
    }
   ],
   "source": [
    "print(messages.info())\n",
    "print()\n",
    "print(messages.describe())\n",
    "messages.head()"
   ]
  },
  {
   "cell_type": "code",
   "execution_count": 6,
   "metadata": {},
   "outputs": [
    {
     "name": "stdout",
     "output_type": "stream",
     "text": [
      "<class 'pandas.core.frame.DataFrame'>\n",
      "RangeIndex: 500 entries, 0 to 499\n",
      "Data columns (total 8 columns):\n",
      "user_id       500 non-null int64\n",
      "age           500 non-null int64\n",
      "churn_date    38 non-null object\n",
      "city          500 non-null object\n",
      "first_name    500 non-null object\n",
      "last_name     500 non-null object\n",
      "reg_date      500 non-null object\n",
      "tariff        500 non-null object\n",
      "dtypes: int64(2), object(6)\n",
      "memory usage: 31.4+ KB\n",
      "None\n",
      "\n",
      "       user_id   age\n",
      "count    500.0 500.0\n",
      "mean   1,249.5  46.6\n",
      "std      144.5  16.7\n",
      "min    1,000.0  18.0\n",
      "25%    1,124.8  32.0\n",
      "50%    1,249.5  46.0\n",
      "75%    1,374.2  62.0\n",
      "max    1,499.0  75.0\n"
     ]
    },
    {
     "data": {
      "text/html": [
       "<div>\n",
       "<style scoped>\n",
       "    .dataframe tbody tr th:only-of-type {\n",
       "        vertical-align: middle;\n",
       "    }\n",
       "\n",
       "    .dataframe tbody tr th {\n",
       "        vertical-align: top;\n",
       "    }\n",
       "\n",
       "    .dataframe thead th {\n",
       "        text-align: right;\n",
       "    }\n",
       "</style>\n",
       "<table border=\"1\" class=\"dataframe\">\n",
       "  <thead>\n",
       "    <tr style=\"text-align: right;\">\n",
       "      <th></th>\n",
       "      <th>user_id</th>\n",
       "      <th>age</th>\n",
       "      <th>churn_date</th>\n",
       "      <th>city</th>\n",
       "      <th>first_name</th>\n",
       "      <th>last_name</th>\n",
       "      <th>reg_date</th>\n",
       "      <th>tariff</th>\n",
       "    </tr>\n",
       "  </thead>\n",
       "  <tbody>\n",
       "    <tr>\n",
       "      <td>0</td>\n",
       "      <td>1000</td>\n",
       "      <td>52</td>\n",
       "      <td>NaN</td>\n",
       "      <td>Краснодар</td>\n",
       "      <td>Рафаил</td>\n",
       "      <td>Верещагин</td>\n",
       "      <td>2018-05-25</td>\n",
       "      <td>ultra</td>\n",
       "    </tr>\n",
       "    <tr>\n",
       "      <td>1</td>\n",
       "      <td>1001</td>\n",
       "      <td>41</td>\n",
       "      <td>NaN</td>\n",
       "      <td>Москва</td>\n",
       "      <td>Иван</td>\n",
       "      <td>Ежов</td>\n",
       "      <td>2018-11-01</td>\n",
       "      <td>smart</td>\n",
       "    </tr>\n",
       "    <tr>\n",
       "      <td>2</td>\n",
       "      <td>1002</td>\n",
       "      <td>59</td>\n",
       "      <td>NaN</td>\n",
       "      <td>Стерлитамак</td>\n",
       "      <td>Евгений</td>\n",
       "      <td>Абрамович</td>\n",
       "      <td>2018-06-17</td>\n",
       "      <td>smart</td>\n",
       "    </tr>\n",
       "    <tr>\n",
       "      <td>3</td>\n",
       "      <td>1003</td>\n",
       "      <td>23</td>\n",
       "      <td>NaN</td>\n",
       "      <td>Москва</td>\n",
       "      <td>Белла</td>\n",
       "      <td>Белякова</td>\n",
       "      <td>2018-08-17</td>\n",
       "      <td>ultra</td>\n",
       "    </tr>\n",
       "    <tr>\n",
       "      <td>4</td>\n",
       "      <td>1004</td>\n",
       "      <td>68</td>\n",
       "      <td>NaN</td>\n",
       "      <td>Новокузнецк</td>\n",
       "      <td>Татьяна</td>\n",
       "      <td>Авдеенко</td>\n",
       "      <td>2018-05-14</td>\n",
       "      <td>ultra</td>\n",
       "    </tr>\n",
       "  </tbody>\n",
       "</table>\n",
       "</div>"
      ],
      "text/plain": [
       "   user_id  age churn_date         city first_name  last_name    reg_date  \\\n",
       "0     1000   52        NaN    Краснодар     Рафаил  Верещагин  2018-05-25   \n",
       "1     1001   41        NaN       Москва       Иван       Ежов  2018-11-01   \n",
       "2     1002   59        NaN  Стерлитамак    Евгений  Абрамович  2018-06-17   \n",
       "3     1003   23        NaN       Москва      Белла   Белякова  2018-08-17   \n",
       "4     1004   68        NaN  Новокузнецк    Татьяна   Авдеенко  2018-05-14   \n",
       "\n",
       "  tariff  \n",
       "0  ultra  \n",
       "1  smart  \n",
       "2  smart  \n",
       "3  ultra  \n",
       "4  ultra  "
      ]
     },
     "execution_count": 6,
     "metadata": {},
     "output_type": "execute_result"
    }
   ],
   "source": [
    "print(users.info())\n",
    "print()\n",
    "print(users.describe())\n",
    "users.head() "
   ]
  },
  {
   "cell_type": "code",
   "execution_count": 7,
   "metadata": {},
   "outputs": [
    {
     "name": "stdout",
     "output_type": "stream",
     "text": [
      "<class 'pandas.core.frame.DataFrame'>\n",
      "RangeIndex: 2 entries, 0 to 1\n",
      "Data columns (total 8 columns):\n",
      "messages_included        2 non-null int64\n",
      "mb_per_month_included    2 non-null int64\n",
      "minutes_included         2 non-null int64\n",
      "rub_monthly_fee          2 non-null int64\n",
      "rub_per_gb               2 non-null int64\n",
      "rub_per_message          2 non-null int64\n",
      "rub_per_minute           2 non-null int64\n",
      "tariff_name              2 non-null object\n",
      "dtypes: int64(7), object(1)\n",
      "memory usage: 256.0+ bytes\n",
      "None\n",
      "\n",
      "       messages_included  mb_per_month_included  minutes_included  \\\n",
      "count                2.0                    2.0               2.0   \n",
      "mean               525.0               23,040.0           1,750.0   \n",
      "std                671.8               10,861.2           1,767.8   \n",
      "min                 50.0               15,360.0             500.0   \n",
      "25%                287.5               19,200.0           1,125.0   \n",
      "50%                525.0               23,040.0           1,750.0   \n",
      "75%                762.5               26,880.0           2,375.0   \n",
      "max              1,000.0               30,720.0           3,000.0   \n",
      "\n",
      "       rub_monthly_fee  rub_per_gb  rub_per_message  rub_per_minute  \n",
      "count              2.0         2.0              2.0             2.0  \n",
      "mean           1,250.0       175.0              2.0             2.0  \n",
      "std              989.9        35.4              1.4             1.4  \n",
      "min              550.0       150.0              1.0             1.0  \n",
      "25%              900.0       162.5              1.5             1.5  \n",
      "50%            1,250.0       175.0              2.0             2.0  \n",
      "75%            1,600.0       187.5              2.5             2.5  \n",
      "max            1,950.0       200.0              3.0             3.0  \n"
     ]
    }
   ],
   "source": [
    "print(tariffs.info())\n",
    "print()\n",
    "print(tariffs.describe())"
   ]
  },
  {
   "cell_type": "code",
   "execution_count": 8,
   "metadata": {},
   "outputs": [],
   "source": [
    "# Изменим название столбца на tariff (нам это пригодится, когда будем мерджить таблицы)\n",
    "tariffs = tariffs.rename(columns={'tariff_name':'tariff'})\n",
    "# users.groupby('tariff').agg(['count'])"
   ]
  },
  {
   "cell_type": "markdown",
   "metadata": {},
   "source": [
    "**Вывод**  \n",
    "- Обнаружен неверный формат даты во всех таблицах с датами (4шт)\n",
    "- Необходимо округлить время звонков и мегабайты трафика в большую сторону в соответствии с условиями тарифов"
   ]
  },
  {
   "cell_type": "markdown",
   "metadata": {},
   "source": [
    "<div class=\"alert alert-success\">\n",
    "\n",
    "<b>✔️ Комментарий ревьюера:</b> Отлично, с данными ознакомились\n",
    "\n",
    "</div>"
   ]
  },
  {
   "cell_type": "markdown",
   "metadata": {},
   "source": [
    "# Этап 2. Подготовка данных"
   ]
  },
  {
   "cell_type": "markdown",
   "metadata": {},
   "source": [
    "### Приведём данные к нужным типам"
   ]
  },
  {
   "cell_type": "markdown",
   "metadata": {},
   "source": [
    "Мы изучем данные для каждого тарифа в разрезе месяца, поэтому добавим столблец \"month\" в каждый датафрейм. Для этого вначале приведем даты к формату datetime."
   ]
  },
  {
   "cell_type": "code",
   "execution_count": 9,
   "metadata": {},
   "outputs": [],
   "source": [
    "# Изменим тип данных в колонке с датой в таблицах Звонки, Интернет, Сообщения и Клиенты:\n",
    "calls['call_date'] = pd.to_datetime(calls['call_date'], format='%Y-%m-%d')\n",
    "internet['session_date'] = pd.to_datetime(internet['session_date'], format='%Y-%m-%d')\n",
    "messages['message_date'] = pd.to_datetime(messages['message_date'], format='%Y-%m-%d')\n",
    "users['reg_date'] = pd.to_datetime(users['reg_date'], format='%Y-%m-%d')"
   ]
  },
  {
   "cell_type": "markdown",
   "metadata": {},
   "source": [
    "<div class=\"alert alert-success\">\n",
    "\n",
    "<b>✔️ Комментарий ревьюера:</b> Здорово, что приводишь типы данных\n",
    "\n",
    "</div>"
   ]
  },
  {
   "cell_type": "code",
   "execution_count": 10,
   "metadata": {},
   "outputs": [],
   "source": [
    "#добавляем столбец month в таблицах Звонки, Интернет и Сообщения:\n",
    "calls['month'] = pd.to_datetime(calls['call_date']).dt.month\n",
    "internet['month'] = pd.to_datetime(internet['session_date']).dt.month\n",
    "messages['month'] = pd.to_datetime(messages['message_date']).dt.month\n",
    "\n",
    "# messages['month'] = messages['message_date'].dt.month.astype('datetime64[M]')\n",
    "# messages                                                                             "
   ]
  },
  {
   "cell_type": "markdown",
   "metadata": {},
   "source": [
    "<div class=\"alert alert-warning\">\n",
    "<b>⚠️ Комментарий ревьюера:</b> Обычно в датафрейме содержатся данные нескольких лет - и тогда метод month может привести к ошибке: например, июнь 2019 и июнь 2020 могут стать одним месяцем. Стоит использовать метод astype('datetime64[M]').\n",
    "</div>"
   ]
  },
  {
   "cell_type": "markdown",
   "metadata": {},
   "source": [
    "<div class=\"alert alert-info\">\n",
    "<b>Комментарий студента: </b>\n",
    "<br>-Мария, привет!  \n",
    "Я не смогла разобраться как работает метод astype('datetime64[M]'):  \n",
    "    \n",
    "Если записать сл. образом:   \n",
    "messages['month'] = pd.to_datetime(messages['message_date']).dt.month.astype('datetime64[M]')   \n",
    "    или  \n",
    "messages['month'] = messages['message_date'].dt.month.astype('datetime64[M]')  \n",
    "У меня получается формат даты или 1970-07-01 или  2018-07-01\n",
    "А мне для задания нужно числовое значение месяца.\n",
    "</div>"
   ]
  },
  {
   "cell_type": "markdown",
   "metadata": {},
   "source": [
    "<div class=\"alert alert-success\">\n",
    "\n",
    "<b>✔️ Комментарий ревьюера v2:</b> Не вижу здесь ничего страшного. Просто все записи за декабрь 2018, к примеру, будут выглядеть как 2018-12-01, то есть объединение пройдет нормально. Если же тебе все же хочется обрезать лишнее число месяца, то есть еще один метод:\n",
    "    \n",
    "messages['month'] = pd.to_datetime(messages['message_date']).dt.to_period('M')\n",
    "    \n",
    "https://pandas.pydata.org/pandas-docs/stable/reference/api/pandas.DataFrame.to_period.html\n",
    "</div>"
   ]
  },
  {
   "cell_type": "markdown",
   "metadata": {},
   "source": [
    "«Мегалайн» всегда округляет вверх значения минут и мегабайтов. Каждый звонок округлим отдельно.  \n",
    "Для веб-трафика округляются не отдельные сессии, а общая сумма за месяц."
   ]
  },
  {
   "cell_type": "code",
   "execution_count": 11,
   "metadata": {},
   "outputs": [
    {
     "data": {
      "text/html": [
       "<div>\n",
       "<style scoped>\n",
       "    .dataframe tbody tr th:only-of-type {\n",
       "        vertical-align: middle;\n",
       "    }\n",
       "\n",
       "    .dataframe tbody tr th {\n",
       "        vertical-align: top;\n",
       "    }\n",
       "\n",
       "    .dataframe thead th {\n",
       "        text-align: right;\n",
       "    }\n",
       "</style>\n",
       "<table border=\"1\" class=\"dataframe\">\n",
       "  <thead>\n",
       "    <tr style=\"text-align: right;\">\n",
       "      <th></th>\n",
       "      <th>id</th>\n",
       "      <th>call_date</th>\n",
       "      <th>duration</th>\n",
       "      <th>user_id</th>\n",
       "      <th>month</th>\n",
       "    </tr>\n",
       "  </thead>\n",
       "  <tbody>\n",
       "    <tr>\n",
       "      <td>0</td>\n",
       "      <td>1000_0</td>\n",
       "      <td>2018-07-25</td>\n",
       "      <td>0</td>\n",
       "      <td>1000</td>\n",
       "      <td>7</td>\n",
       "    </tr>\n",
       "    <tr>\n",
       "      <td>1</td>\n",
       "      <td>1000_1</td>\n",
       "      <td>2018-08-17</td>\n",
       "      <td>0</td>\n",
       "      <td>1000</td>\n",
       "      <td>8</td>\n",
       "    </tr>\n",
       "    <tr>\n",
       "      <td>2</td>\n",
       "      <td>1000_2</td>\n",
       "      <td>2018-06-11</td>\n",
       "      <td>3</td>\n",
       "      <td>1000</td>\n",
       "      <td>6</td>\n",
       "    </tr>\n",
       "    <tr>\n",
       "      <td>3</td>\n",
       "      <td>1000_3</td>\n",
       "      <td>2018-09-21</td>\n",
       "      <td>14</td>\n",
       "      <td>1000</td>\n",
       "      <td>9</td>\n",
       "    </tr>\n",
       "    <tr>\n",
       "      <td>4</td>\n",
       "      <td>1000_4</td>\n",
       "      <td>2018-12-15</td>\n",
       "      <td>6</td>\n",
       "      <td>1000</td>\n",
       "      <td>12</td>\n",
       "    </tr>\n",
       "    <tr>\n",
       "      <td>...</td>\n",
       "      <td>...</td>\n",
       "      <td>...</td>\n",
       "      <td>...</td>\n",
       "      <td>...</td>\n",
       "      <td>...</td>\n",
       "    </tr>\n",
       "    <tr>\n",
       "      <td>202602</td>\n",
       "      <td>1499_215</td>\n",
       "      <td>2018-12-26</td>\n",
       "      <td>1</td>\n",
       "      <td>1499</td>\n",
       "      <td>12</td>\n",
       "    </tr>\n",
       "    <tr>\n",
       "      <td>202603</td>\n",
       "      <td>1499_216</td>\n",
       "      <td>2018-10-18</td>\n",
       "      <td>19</td>\n",
       "      <td>1499</td>\n",
       "      <td>10</td>\n",
       "    </tr>\n",
       "    <tr>\n",
       "      <td>202604</td>\n",
       "      <td>1499_217</td>\n",
       "      <td>2018-11-10</td>\n",
       "      <td>11</td>\n",
       "      <td>1499</td>\n",
       "      <td>11</td>\n",
       "    </tr>\n",
       "    <tr>\n",
       "      <td>202605</td>\n",
       "      <td>1499_218</td>\n",
       "      <td>2018-10-06</td>\n",
       "      <td>5</td>\n",
       "      <td>1499</td>\n",
       "      <td>10</td>\n",
       "    </tr>\n",
       "    <tr>\n",
       "      <td>202606</td>\n",
       "      <td>1499_219</td>\n",
       "      <td>2018-12-14</td>\n",
       "      <td>20</td>\n",
       "      <td>1499</td>\n",
       "      <td>12</td>\n",
       "    </tr>\n",
       "  </tbody>\n",
       "</table>\n",
       "<p>202607 rows × 5 columns</p>\n",
       "</div>"
      ],
      "text/plain": [
       "              id  call_date  duration  user_id  month\n",
       "0         1000_0 2018-07-25         0     1000      7\n",
       "1         1000_1 2018-08-17         0     1000      8\n",
       "2         1000_2 2018-06-11         3     1000      6\n",
       "3         1000_3 2018-09-21        14     1000      9\n",
       "4         1000_4 2018-12-15         6     1000     12\n",
       "...          ...        ...       ...      ...    ...\n",
       "202602  1499_215 2018-12-26         1     1499     12\n",
       "202603  1499_216 2018-10-18        19     1499     10\n",
       "202604  1499_217 2018-11-10        11     1499     11\n",
       "202605  1499_218 2018-10-06         5     1499     10\n",
       "202606  1499_219 2018-12-14        20     1499     12\n",
       "\n",
       "[202607 rows x 5 columns]"
      ]
     },
     "execution_count": 11,
     "metadata": {},
     "output_type": "execute_result"
    }
   ],
   "source": [
    "# округлим в большую сторону звонки\n",
    "calls['duration'] = np.ceil(calls['duration']).astype('int')\n",
    "calls"
   ]
  },
  {
   "cell_type": "markdown",
   "metadata": {},
   "source": [
    "<div class=\"alert alert-warning\">\n",
    "<b>⚠️ Комментарий ревьюера:</b> Молодец, что используешь ceil! Однако, np.ceil не нуждается в apply, т.к. может работать сразу со всем столбцом.\n",
    "</div>"
   ]
  },
  {
   "cell_type": "markdown",
   "metadata": {},
   "source": [
    "<div class=\"alert alert-info\">\n",
    "<b>Комментарий студента: </b>\n",
    "<br>-Исправила. Спасибо.\n",
    "</div>"
   ]
  },
  {
   "cell_type": "markdown",
   "metadata": {},
   "source": [
    "<div class=\"alert alert-success\">\n",
    "\n",
    "<b>✔️ Комментарий ревьюера v2:</b> 👍\n",
    "\n",
    "</div>"
   ]
  },
  {
   "cell_type": "code",
   "execution_count": 12,
   "metadata": {},
   "outputs": [
    {
     "data": {
      "text/html": [
       "<div>\n",
       "<style scoped>\n",
       "    .dataframe tbody tr th:only-of-type {\n",
       "        vertical-align: middle;\n",
       "    }\n",
       "\n",
       "    .dataframe tbody tr th {\n",
       "        vertical-align: top;\n",
       "    }\n",
       "\n",
       "    .dataframe thead th {\n",
       "        text-align: right;\n",
       "    }\n",
       "</style>\n",
       "<table border=\"1\" class=\"dataframe\">\n",
       "  <thead>\n",
       "    <tr style=\"text-align: right;\">\n",
       "      <th></th>\n",
       "      <th>Unnamed: 0</th>\n",
       "      <th>id</th>\n",
       "      <th>mb_used</th>\n",
       "      <th>session_date</th>\n",
       "      <th>user_id</th>\n",
       "      <th>month</th>\n",
       "      <th>gb_used</th>\n",
       "    </tr>\n",
       "  </thead>\n",
       "  <tbody>\n",
       "    <tr>\n",
       "      <td>0</td>\n",
       "      <td>0</td>\n",
       "      <td>1000_0</td>\n",
       "      <td>113.0</td>\n",
       "      <td>2018-11-25</td>\n",
       "      <td>1000</td>\n",
       "      <td>11</td>\n",
       "      <td>0.1</td>\n",
       "    </tr>\n",
       "    <tr>\n",
       "      <td>1</td>\n",
       "      <td>1</td>\n",
       "      <td>1000_1</td>\n",
       "      <td>1,052.8</td>\n",
       "      <td>2018-09-07</td>\n",
       "      <td>1000</td>\n",
       "      <td>9</td>\n",
       "      <td>1.0</td>\n",
       "    </tr>\n",
       "    <tr>\n",
       "      <td>2</td>\n",
       "      <td>2</td>\n",
       "      <td>1000_2</td>\n",
       "      <td>1,197.3</td>\n",
       "      <td>2018-06-25</td>\n",
       "      <td>1000</td>\n",
       "      <td>6</td>\n",
       "      <td>1.2</td>\n",
       "    </tr>\n",
       "    <tr>\n",
       "      <td>3</td>\n",
       "      <td>3</td>\n",
       "      <td>1000_3</td>\n",
       "      <td>550.3</td>\n",
       "      <td>2018-08-22</td>\n",
       "      <td>1000</td>\n",
       "      <td>8</td>\n",
       "      <td>0.5</td>\n",
       "    </tr>\n",
       "    <tr>\n",
       "      <td>4</td>\n",
       "      <td>4</td>\n",
       "      <td>1000_4</td>\n",
       "      <td>302.6</td>\n",
       "      <td>2018-09-24</td>\n",
       "      <td>1000</td>\n",
       "      <td>9</td>\n",
       "      <td>0.3</td>\n",
       "    </tr>\n",
       "    <tr>\n",
       "      <td>...</td>\n",
       "      <td>...</td>\n",
       "      <td>...</td>\n",
       "      <td>...</td>\n",
       "      <td>...</td>\n",
       "      <td>...</td>\n",
       "      <td>...</td>\n",
       "      <td>...</td>\n",
       "    </tr>\n",
       "    <tr>\n",
       "      <td>149391</td>\n",
       "      <td>149391</td>\n",
       "      <td>1499_152</td>\n",
       "      <td>318.9</td>\n",
       "      <td>2018-10-03</td>\n",
       "      <td>1499</td>\n",
       "      <td>10</td>\n",
       "      <td>0.3</td>\n",
       "    </tr>\n",
       "    <tr>\n",
       "      <td>149392</td>\n",
       "      <td>149392</td>\n",
       "      <td>1499_153</td>\n",
       "      <td>490.1</td>\n",
       "      <td>2018-12-14</td>\n",
       "      <td>1499</td>\n",
       "      <td>12</td>\n",
       "      <td>0.5</td>\n",
       "    </tr>\n",
       "    <tr>\n",
       "      <td>149393</td>\n",
       "      <td>149393</td>\n",
       "      <td>1499_154</td>\n",
       "      <td>0.0</td>\n",
       "      <td>2018-10-27</td>\n",
       "      <td>1499</td>\n",
       "      <td>10</td>\n",
       "      <td>0.0</td>\n",
       "    </tr>\n",
       "    <tr>\n",
       "      <td>149394</td>\n",
       "      <td>149394</td>\n",
       "      <td>1499_155</td>\n",
       "      <td>1,246.3</td>\n",
       "      <td>2018-11-26</td>\n",
       "      <td>1499</td>\n",
       "      <td>11</td>\n",
       "      <td>1.2</td>\n",
       "    </tr>\n",
       "    <tr>\n",
       "      <td>149395</td>\n",
       "      <td>149395</td>\n",
       "      <td>1499_156</td>\n",
       "      <td>544.4</td>\n",
       "      <td>2018-10-26</td>\n",
       "      <td>1499</td>\n",
       "      <td>10</td>\n",
       "      <td>0.5</td>\n",
       "    </tr>\n",
       "  </tbody>\n",
       "</table>\n",
       "<p>149396 rows × 7 columns</p>\n",
       "</div>"
      ],
      "text/plain": [
       "        Unnamed: 0        id  mb_used session_date  user_id  month  gb_used\n",
       "0                0    1000_0    113.0   2018-11-25     1000     11      0.1\n",
       "1                1    1000_1  1,052.8   2018-09-07     1000      9      1.0\n",
       "2                2    1000_2  1,197.3   2018-06-25     1000      6      1.2\n",
       "3                3    1000_3    550.3   2018-08-22     1000      8      0.5\n",
       "4                4    1000_4    302.6   2018-09-24     1000      9      0.3\n",
       "...            ...       ...      ...          ...      ...    ...      ...\n",
       "149391      149391  1499_152    318.9   2018-10-03     1499     10      0.3\n",
       "149392      149392  1499_153    490.1   2018-12-14     1499     12      0.5\n",
       "149393      149393  1499_154      0.0   2018-10-27     1499     10      0.0\n",
       "149394      149394  1499_155  1,246.3   2018-11-26     1499     11      1.2\n",
       "149395      149395  1499_156    544.4   2018-10-26     1499     10      0.5\n",
       "\n",
       "[149396 rows x 7 columns]"
      ]
     },
     "execution_count": 12,
     "metadata": {},
     "output_type": "execute_result"
    }
   ],
   "source": [
    "#в таблице с интернет-трафиком для дальнейшего анализа переведем мб в гб\n",
    "internet['gb_used'] = (internet['mb_used'] / 1024)\n",
    "internet"
   ]
  },
  {
   "cell_type": "markdown",
   "metadata": {},
   "source": [
    "### Посчитаем помесячную выручку для каждого пользователя:"
   ]
  },
  {
   "cell_type": "markdown",
   "metadata": {},
   "source": [
    "Для этого рассчитаем и добавим в датафрейм:\n",
    "* количество сделанных звонков и израсходованных минут разговора по месяцам;  \n",
    "* количество отправленных сообщений по месяцам;  \n",
    "* объем израсходованного интернет-трафика по месяцам;    "
   ]
  },
  {
   "cell_type": "code",
   "execution_count": 13,
   "metadata": {},
   "outputs": [
    {
     "data": {
      "text/html": [
       "<div>\n",
       "<style scoped>\n",
       "    .dataframe tbody tr th:only-of-type {\n",
       "        vertical-align: middle;\n",
       "    }\n",
       "\n",
       "    .dataframe tbody tr th {\n",
       "        vertical-align: top;\n",
       "    }\n",
       "\n",
       "    .dataframe thead th {\n",
       "        text-align: right;\n",
       "    }\n",
       "</style>\n",
       "<table border=\"1\" class=\"dataframe\">\n",
       "  <thead>\n",
       "    <tr style=\"text-align: right;\">\n",
       "      <th></th>\n",
       "      <th>user_id</th>\n",
       "      <th>month</th>\n",
       "      <th>calls</th>\n",
       "      <th>minutes</th>\n",
       "    </tr>\n",
       "  </thead>\n",
       "  <tbody>\n",
       "    <tr>\n",
       "      <td>0</td>\n",
       "      <td>1000</td>\n",
       "      <td>5</td>\n",
       "      <td>22</td>\n",
       "      <td>159</td>\n",
       "    </tr>\n",
       "    <tr>\n",
       "      <td>1</td>\n",
       "      <td>1000</td>\n",
       "      <td>6</td>\n",
       "      <td>43</td>\n",
       "      <td>172</td>\n",
       "    </tr>\n",
       "    <tr>\n",
       "      <td>2</td>\n",
       "      <td>1000</td>\n",
       "      <td>7</td>\n",
       "      <td>47</td>\n",
       "      <td>340</td>\n",
       "    </tr>\n",
       "    <tr>\n",
       "      <td>3</td>\n",
       "      <td>1000</td>\n",
       "      <td>8</td>\n",
       "      <td>52</td>\n",
       "      <td>408</td>\n",
       "    </tr>\n",
       "    <tr>\n",
       "      <td>4</td>\n",
       "      <td>1000</td>\n",
       "      <td>9</td>\n",
       "      <td>58</td>\n",
       "      <td>466</td>\n",
       "    </tr>\n",
       "  </tbody>\n",
       "</table>\n",
       "</div>"
      ],
      "text/plain": [
       "   user_id  month  calls  minutes\n",
       "0     1000      5     22      159\n",
       "1     1000      6     43      172\n",
       "2     1000      7     47      340\n",
       "3     1000      8     52      408\n",
       "4     1000      9     58      466"
      ]
     },
     "metadata": {},
     "output_type": "display_data"
    },
    {
     "data": {
      "text/html": [
       "<div>\n",
       "<style scoped>\n",
       "    .dataframe tbody tr th:only-of-type {\n",
       "        vertical-align: middle;\n",
       "    }\n",
       "\n",
       "    .dataframe tbody tr th {\n",
       "        vertical-align: top;\n",
       "    }\n",
       "\n",
       "    .dataframe thead th {\n",
       "        text-align: right;\n",
       "    }\n",
       "</style>\n",
       "<table border=\"1\" class=\"dataframe\">\n",
       "  <thead>\n",
       "    <tr style=\"text-align: right;\">\n",
       "      <th></th>\n",
       "      <th>user_id</th>\n",
       "      <th>month</th>\n",
       "      <th>internet</th>\n",
       "    </tr>\n",
       "  </thead>\n",
       "  <tbody>\n",
       "    <tr>\n",
       "      <td>0</td>\n",
       "      <td>1000</td>\n",
       "      <td>5</td>\n",
       "      <td>2,253.5</td>\n",
       "    </tr>\n",
       "    <tr>\n",
       "      <td>1</td>\n",
       "      <td>1000</td>\n",
       "      <td>6</td>\n",
       "      <td>23,233.8</td>\n",
       "    </tr>\n",
       "    <tr>\n",
       "      <td>2</td>\n",
       "      <td>1000</td>\n",
       "      <td>7</td>\n",
       "      <td>14,003.6</td>\n",
       "    </tr>\n",
       "    <tr>\n",
       "      <td>3</td>\n",
       "      <td>1000</td>\n",
       "      <td>8</td>\n",
       "      <td>14,055.9</td>\n",
       "    </tr>\n",
       "    <tr>\n",
       "      <td>4</td>\n",
       "      <td>1000</td>\n",
       "      <td>9</td>\n",
       "      <td>14,568.9</td>\n",
       "    </tr>\n",
       "  </tbody>\n",
       "</table>\n",
       "</div>"
      ],
      "text/plain": [
       "   user_id  month  internet\n",
       "0     1000      5   2,253.5\n",
       "1     1000      6  23,233.8\n",
       "2     1000      7  14,003.6\n",
       "3     1000      8  14,055.9\n",
       "4     1000      9  14,568.9"
      ]
     },
     "metadata": {},
     "output_type": "display_data"
    },
    {
     "data": {
      "text/html": [
       "<div>\n",
       "<style scoped>\n",
       "    .dataframe tbody tr th:only-of-type {\n",
       "        vertical-align: middle;\n",
       "    }\n",
       "\n",
       "    .dataframe tbody tr th {\n",
       "        vertical-align: top;\n",
       "    }\n",
       "\n",
       "    .dataframe thead th {\n",
       "        text-align: right;\n",
       "    }\n",
       "</style>\n",
       "<table border=\"1\" class=\"dataframe\">\n",
       "  <thead>\n",
       "    <tr style=\"text-align: right;\">\n",
       "      <th></th>\n",
       "      <th>user_id</th>\n",
       "      <th>month</th>\n",
       "      <th>messages</th>\n",
       "    </tr>\n",
       "  </thead>\n",
       "  <tbody>\n",
       "    <tr>\n",
       "      <td>0</td>\n",
       "      <td>1000</td>\n",
       "      <td>5</td>\n",
       "      <td>22</td>\n",
       "    </tr>\n",
       "    <tr>\n",
       "      <td>1</td>\n",
       "      <td>1000</td>\n",
       "      <td>6</td>\n",
       "      <td>60</td>\n",
       "    </tr>\n",
       "    <tr>\n",
       "      <td>2</td>\n",
       "      <td>1000</td>\n",
       "      <td>7</td>\n",
       "      <td>75</td>\n",
       "    </tr>\n",
       "    <tr>\n",
       "      <td>3</td>\n",
       "      <td>1000</td>\n",
       "      <td>8</td>\n",
       "      <td>81</td>\n",
       "    </tr>\n",
       "    <tr>\n",
       "      <td>4</td>\n",
       "      <td>1000</td>\n",
       "      <td>9</td>\n",
       "      <td>57</td>\n",
       "    </tr>\n",
       "  </tbody>\n",
       "</table>\n",
       "</div>"
      ],
      "text/plain": [
       "   user_id  month  messages\n",
       "0     1000      5        22\n",
       "1     1000      6        60\n",
       "2     1000      7        75\n",
       "3     1000      8        81\n",
       "4     1000      9        57"
      ]
     },
     "metadata": {},
     "output_type": "display_data"
    }
   ],
   "source": [
    "# Количество сделанных звонков и израсходованных минут разговора по месяцам:\n",
    "calls = calls.groupby(['user_id', 'month']).agg({'duration': ['count', 'sum']}).reset_index()\n",
    "calls.columns =  ['user_id', 'month', 'calls','minutes']\n",
    "\n",
    "# Объем израсходованного интернет-трафика по месяцам:\n",
    "internet = internet.groupby(['user_id', 'month']).agg({'mb_used': 'sum'}).reset_index()\n",
    "internet.columns =  ['user_id', 'month', 'internet']\n",
    "\n",
    "# Количество отправленных сообщений по месяцам\n",
    "messages = messages.groupby(['user_id', 'month']).agg({'id': 'count'}).reset_index()\n",
    "messages.columns =  ['user_id', 'month', 'messages']\n",
    "display(calls.head(), internet.head(),messages.head())"
   ]
  },
  {
   "cell_type": "code",
   "execution_count": 14,
   "metadata": {},
   "outputs": [
    {
     "data": {
      "text/html": [
       "<div>\n",
       "<style scoped>\n",
       "    .dataframe tbody tr th:only-of-type {\n",
       "        vertical-align: middle;\n",
       "    }\n",
       "\n",
       "    .dataframe tbody tr th {\n",
       "        vertical-align: top;\n",
       "    }\n",
       "\n",
       "    .dataframe thead th {\n",
       "        text-align: right;\n",
       "    }\n",
       "</style>\n",
       "<table border=\"1\" class=\"dataframe\">\n",
       "  <thead>\n",
       "    <tr style=\"text-align: right;\">\n",
       "      <th></th>\n",
       "      <th>user_id</th>\n",
       "      <th>month</th>\n",
       "      <th>calls</th>\n",
       "      <th>minutes</th>\n",
       "      <th>messages</th>\n",
       "      <th>internet</th>\n",
       "      <th>age</th>\n",
       "      <th>churn_date</th>\n",
       "      <th>city</th>\n",
       "      <th>first_name</th>\n",
       "      <th>last_name</th>\n",
       "      <th>reg_date</th>\n",
       "      <th>tariff</th>\n",
       "      <th>messages_included</th>\n",
       "      <th>mb_per_month_included</th>\n",
       "      <th>minutes_included</th>\n",
       "      <th>rub_monthly_fee</th>\n",
       "      <th>rub_per_gb</th>\n",
       "      <th>rub_per_message</th>\n",
       "      <th>rub_per_minute</th>\n",
       "    </tr>\n",
       "  </thead>\n",
       "  <tbody>\n",
       "    <tr>\n",
       "      <td>0</td>\n",
       "      <td>1000</td>\n",
       "      <td>5</td>\n",
       "      <td>22.0</td>\n",
       "      <td>159.0</td>\n",
       "      <td>22.0</td>\n",
       "      <td>2,253.5</td>\n",
       "      <td>52</td>\n",
       "      <td>NaN</td>\n",
       "      <td>Краснодар</td>\n",
       "      <td>Рафаил</td>\n",
       "      <td>Верещагин</td>\n",
       "      <td>2018-05-25</td>\n",
       "      <td>ultra</td>\n",
       "      <td>1000</td>\n",
       "      <td>30720</td>\n",
       "      <td>3000</td>\n",
       "      <td>1950</td>\n",
       "      <td>150</td>\n",
       "      <td>1</td>\n",
       "      <td>1</td>\n",
       "    </tr>\n",
       "    <tr>\n",
       "      <td>1</td>\n",
       "      <td>1000</td>\n",
       "      <td>6</td>\n",
       "      <td>43.0</td>\n",
       "      <td>172.0</td>\n",
       "      <td>60.0</td>\n",
       "      <td>23,233.8</td>\n",
       "      <td>52</td>\n",
       "      <td>NaN</td>\n",
       "      <td>Краснодар</td>\n",
       "      <td>Рафаил</td>\n",
       "      <td>Верещагин</td>\n",
       "      <td>2018-05-25</td>\n",
       "      <td>ultra</td>\n",
       "      <td>1000</td>\n",
       "      <td>30720</td>\n",
       "      <td>3000</td>\n",
       "      <td>1950</td>\n",
       "      <td>150</td>\n",
       "      <td>1</td>\n",
       "      <td>1</td>\n",
       "    </tr>\n",
       "    <tr>\n",
       "      <td>2</td>\n",
       "      <td>1000</td>\n",
       "      <td>7</td>\n",
       "      <td>47.0</td>\n",
       "      <td>340.0</td>\n",
       "      <td>75.0</td>\n",
       "      <td>14,003.6</td>\n",
       "      <td>52</td>\n",
       "      <td>NaN</td>\n",
       "      <td>Краснодар</td>\n",
       "      <td>Рафаил</td>\n",
       "      <td>Верещагин</td>\n",
       "      <td>2018-05-25</td>\n",
       "      <td>ultra</td>\n",
       "      <td>1000</td>\n",
       "      <td>30720</td>\n",
       "      <td>3000</td>\n",
       "      <td>1950</td>\n",
       "      <td>150</td>\n",
       "      <td>1</td>\n",
       "      <td>1</td>\n",
       "    </tr>\n",
       "    <tr>\n",
       "      <td>3</td>\n",
       "      <td>1000</td>\n",
       "      <td>8</td>\n",
       "      <td>52.0</td>\n",
       "      <td>408.0</td>\n",
       "      <td>81.0</td>\n",
       "      <td>14,055.9</td>\n",
       "      <td>52</td>\n",
       "      <td>NaN</td>\n",
       "      <td>Краснодар</td>\n",
       "      <td>Рафаил</td>\n",
       "      <td>Верещагин</td>\n",
       "      <td>2018-05-25</td>\n",
       "      <td>ultra</td>\n",
       "      <td>1000</td>\n",
       "      <td>30720</td>\n",
       "      <td>3000</td>\n",
       "      <td>1950</td>\n",
       "      <td>150</td>\n",
       "      <td>1</td>\n",
       "      <td>1</td>\n",
       "    </tr>\n",
       "    <tr>\n",
       "      <td>4</td>\n",
       "      <td>1000</td>\n",
       "      <td>9</td>\n",
       "      <td>58.0</td>\n",
       "      <td>466.0</td>\n",
       "      <td>57.0</td>\n",
       "      <td>14,568.9</td>\n",
       "      <td>52</td>\n",
       "      <td>NaN</td>\n",
       "      <td>Краснодар</td>\n",
       "      <td>Рафаил</td>\n",
       "      <td>Верещагин</td>\n",
       "      <td>2018-05-25</td>\n",
       "      <td>ultra</td>\n",
       "      <td>1000</td>\n",
       "      <td>30720</td>\n",
       "      <td>3000</td>\n",
       "      <td>1950</td>\n",
       "      <td>150</td>\n",
       "      <td>1</td>\n",
       "      <td>1</td>\n",
       "    </tr>\n",
       "  </tbody>\n",
       "</table>\n",
       "</div>"
      ],
      "text/plain": [
       "   user_id  month  calls  minutes  messages  internet  age churn_date  \\\n",
       "0     1000      5   22.0    159.0      22.0   2,253.5   52        NaN   \n",
       "1     1000      6   43.0    172.0      60.0  23,233.8   52        NaN   \n",
       "2     1000      7   47.0    340.0      75.0  14,003.6   52        NaN   \n",
       "3     1000      8   52.0    408.0      81.0  14,055.9   52        NaN   \n",
       "4     1000      9   58.0    466.0      57.0  14,568.9   52        NaN   \n",
       "\n",
       "        city first_name  last_name   reg_date tariff  messages_included  \\\n",
       "0  Краснодар     Рафаил  Верещагин 2018-05-25  ultra               1000   \n",
       "1  Краснодар     Рафаил  Верещагин 2018-05-25  ultra               1000   \n",
       "2  Краснодар     Рафаил  Верещагин 2018-05-25  ultra               1000   \n",
       "3  Краснодар     Рафаил  Верещагин 2018-05-25  ultra               1000   \n",
       "4  Краснодар     Рафаил  Верещагин 2018-05-25  ultra               1000   \n",
       "\n",
       "   mb_per_month_included  minutes_included  rub_monthly_fee  rub_per_gb  \\\n",
       "0                  30720              3000             1950         150   \n",
       "1                  30720              3000             1950         150   \n",
       "2                  30720              3000             1950         150   \n",
       "3                  30720              3000             1950         150   \n",
       "4                  30720              3000             1950         150   \n",
       "\n",
       "   rub_per_message  rub_per_minute  \n",
       "0                1               1  \n",
       "1                1               1  \n",
       "2                1               1  \n",
       "3                1               1  \n",
       "4                1               1  "
      ]
     },
     "execution_count": 14,
     "metadata": {},
     "output_type": "execute_result"
    }
   ],
   "source": [
    "# Посчитаем месячную выручку с каждого абонента. Для этого смерджим таблицы:\n",
    "\n",
    "df = calls.merge(messages, on=['user_id','month'], how='outer')\\\n",
    "    .merge(internet, on=['user_id','month'], how='outer').fillna(0)\n",
    "\n",
    "df = df.merge(users, on = 'user_id', how = 'left')\\\n",
    "    .merge(tariffs, left_on = 'tariff', right_on = 'tariff', how = 'left')\n",
    "df.head()"
   ]
  },
  {
   "cell_type": "markdown",
   "metadata": {},
   "source": [
    "<div class=\"alert alert-success\">\n",
    "\n",
    "<b>✔️ Комментарий ревьюера:</b> Молодец, ты правильно объединяешь таблицы! Но неплохо бы провести некоторые проверки правильности объединения: не потеряли ли мы пользователей, нет ли нескольких одинаковых комбинаций месяц-пользователь\n",
    "</div>"
   ]
  },
  {
   "cell_type": "markdown",
   "metadata": {},
   "source": [
    "<div class=\"alert alert-info\">\n",
    "<b>Комментарий студента: </b>\n",
    "<br>-Добавила проверки\n",
    "</div>"
   ]
  },
  {
   "cell_type": "code",
   "execution_count": 15,
   "metadata": {},
   "outputs": [
    {
     "data": {
      "text/plain": [
       "'Количество дубликатов в объединенной таблице:'"
      ]
     },
     "metadata": {},
     "output_type": "display_data"
    },
    {
     "data": {
      "text/plain": [
       "0"
      ]
     },
     "metadata": {},
     "output_type": "display_data"
    },
    {
     "data": {
      "text/plain": [
       "user_id                     0\n",
       "month                       0\n",
       "calls                       0\n",
       "minutes                     0\n",
       "messages                    0\n",
       "internet                    0\n",
       "age                         0\n",
       "churn_date               3027\n",
       "city                        0\n",
       "first_name                  0\n",
       "last_name                   0\n",
       "reg_date                    0\n",
       "tariff                      0\n",
       "messages_included           0\n",
       "mb_per_month_included       0\n",
       "minutes_included            0\n",
       "rub_monthly_fee             0\n",
       "rub_per_gb                  0\n",
       "rub_per_message             0\n",
       "rub_per_minute              0\n",
       "dtype: int64"
      ]
     },
     "execution_count": 15,
     "metadata": {},
     "output_type": "execute_result"
    }
   ],
   "source": [
    "# Количество дубликатов в объединенной таблице\n",
    "display('Количество дубликатов в объединенной таблице:', df.duplicated().sum())\n",
    "# Проверим, не потеряли ли мы при объединении пользователей:\n",
    "df.isna().sum()"
   ]
  },
  {
   "cell_type": "markdown",
   "metadata": {},
   "source": [
    "**Тариф «Смарт»**\n",
    "1.\tЕжемесячная плата: 550 рублей\n",
    "2.\tВключено 500 минут разговора, 50 сообщений и 15 Гб интернет-трафика\n",
    "3.\tСтоимость услуг сверх тарифного пакета:\n",
    "* минута разговора: 3 рубля \n",
    "* сообщение: 3 рубля; \n",
    "* 1 Гб интернет-трафика: 200 рублей.  \n",
    "\n",
    "**Тариф «Ультра»**\n",
    "1.\tЕжемесячная плата: 1950 рублей\n",
    "2.\tВключено 3000 минут разговора, 1000 сообщений и 30 Гб интернет-трафика\n",
    "3.\tСтоимость услуг сверх тарифного пакета:\n",
    "* минута разговора: 1 рубль; \n",
    "* сообщение: 1 рубль; \n",
    "* 1 Гб интернет-трафика: 150 рублей."
   ]
  },
  {
   "cell_type": "code",
   "execution_count": 16,
   "metadata": {},
   "outputs": [
    {
     "data": {
      "text/html": [
       "<div>\n",
       "<style scoped>\n",
       "    .dataframe tbody tr th:only-of-type {\n",
       "        vertical-align: middle;\n",
       "    }\n",
       "\n",
       "    .dataframe tbody tr th {\n",
       "        vertical-align: top;\n",
       "    }\n",
       "\n",
       "    .dataframe thead th {\n",
       "        text-align: right;\n",
       "    }\n",
       "</style>\n",
       "<table border=\"1\" class=\"dataframe\">\n",
       "  <thead>\n",
       "    <tr style=\"text-align: right;\">\n",
       "      <th></th>\n",
       "      <th>minutes_plus</th>\n",
       "      <th>messages_plus</th>\n",
       "      <th>internet_plus</th>\n",
       "      <th>total_pay</th>\n",
       "    </tr>\n",
       "  </thead>\n",
       "  <tbody>\n",
       "    <tr>\n",
       "      <td>3106</td>\n",
       "      <td>1,521.0</td>\n",
       "      <td>99.0</td>\n",
       "      <td>4,529.8</td>\n",
       "      <td>6,699.8</td>\n",
       "    </tr>\n",
       "    <tr>\n",
       "      <td>1622</td>\n",
       "      <td>1,722.0</td>\n",
       "      <td>0.0</td>\n",
       "      <td>3,377.1</td>\n",
       "      <td>5,649.1</td>\n",
       "    </tr>\n",
       "    <tr>\n",
       "      <td>260</td>\n",
       "      <td>684.0</td>\n",
       "      <td>75.0</td>\n",
       "      <td>4,258.9</td>\n",
       "      <td>5,567.9</td>\n",
       "    </tr>\n",
       "    <tr>\n",
       "      <td>3105</td>\n",
       "      <td>792.0</td>\n",
       "      <td>138.0</td>\n",
       "      <td>4,083.2</td>\n",
       "      <td>5,563.2</td>\n",
       "    </tr>\n",
       "    <tr>\n",
       "      <td>1793</td>\n",
       "      <td>717.0</td>\n",
       "      <td>54.0</td>\n",
       "      <td>3,857.0</td>\n",
       "      <td>5,178.0</td>\n",
       "    </tr>\n",
       "    <tr>\n",
       "      <td>...</td>\n",
       "      <td>...</td>\n",
       "      <td>...</td>\n",
       "      <td>...</td>\n",
       "      <td>...</td>\n",
       "    </tr>\n",
       "    <tr>\n",
       "      <td>1642</td>\n",
       "      <td>0.0</td>\n",
       "      <td>0.0</td>\n",
       "      <td>0.0</td>\n",
       "      <td>550.0</td>\n",
       "    </tr>\n",
       "    <tr>\n",
       "      <td>1644</td>\n",
       "      <td>0.0</td>\n",
       "      <td>0.0</td>\n",
       "      <td>0.0</td>\n",
       "      <td>550.0</td>\n",
       "    </tr>\n",
       "    <tr>\n",
       "      <td>2167</td>\n",
       "      <td>0.0</td>\n",
       "      <td>0.0</td>\n",
       "      <td>0.0</td>\n",
       "      <td>550.0</td>\n",
       "    </tr>\n",
       "    <tr>\n",
       "      <td>829</td>\n",
       "      <td>0.0</td>\n",
       "      <td>0.0</td>\n",
       "      <td>0.0</td>\n",
       "      <td>550.0</td>\n",
       "    </tr>\n",
       "    <tr>\n",
       "      <td>1098</td>\n",
       "      <td>0.0</td>\n",
       "      <td>0.0</td>\n",
       "      <td>0.0</td>\n",
       "      <td>550.0</td>\n",
       "    </tr>\n",
       "  </tbody>\n",
       "</table>\n",
       "<p>3214 rows × 4 columns</p>\n",
       "</div>"
      ],
      "text/plain": [
       "      minutes_plus  messages_plus  internet_plus  total_pay\n",
       "3106       1,521.0           99.0        4,529.8    6,699.8\n",
       "1622       1,722.0            0.0        3,377.1    5,649.1\n",
       "260          684.0           75.0        4,258.9    5,567.9\n",
       "3105         792.0          138.0        4,083.2    5,563.2\n",
       "1793         717.0           54.0        3,857.0    5,178.0\n",
       "...            ...            ...            ...        ...\n",
       "1642           0.0            0.0            0.0      550.0\n",
       "1644           0.0            0.0            0.0      550.0\n",
       "2167           0.0            0.0            0.0      550.0\n",
       "829            0.0            0.0            0.0      550.0\n",
       "1098           0.0            0.0            0.0      550.0\n",
       "\n",
       "[3214 rows x 4 columns]"
      ]
     },
     "execution_count": 16,
     "metadata": {},
     "output_type": "execute_result"
    }
   ],
   "source": [
    "# # Функция для подсчета значений сверх тарифа:\n",
    "# def minutes_over_limit(raw):\n",
    "#     if raw['tariff'] == 'smart':\n",
    "#         if raw['minutes'] - 500 > 0:\n",
    "#             return (raw['minutes'] - 500) * 3\n",
    "#         return 0\n",
    "#     else:\n",
    "#         if raw['minutes'] - 3000 > 0:\n",
    "#             return raw['minutes'] - 3000 * 1\n",
    "#         return 0\n",
    "\n",
    "# def messages_over_limit(raw):\n",
    "#     if raw['tariff'] == 'smart':\n",
    "#         if raw['messages'] - 50 > 0:\n",
    "#             return (raw['messages'] - 50)*3\n",
    "#         return 0\n",
    "#     else:\n",
    "#         if raw['messages'] - 1000 > 0:\n",
    "#             return raw['messages'] - 1000\n",
    "#         return 0   \n",
    "# def mbs_over_limit(raw):\n",
    "#     if raw['tariff'] == 'smart':\n",
    "#         if raw['internet']/1000 - 15 > 0:\n",
    "#             return (raw['internet']/1024 - 15)*200\n",
    "#         return 0\n",
    "#     else:\n",
    "#         if raw['internet']/1000 - 30 > 0:\n",
    "#             return (raw['internet']/1024 - 30)*150\n",
    "#         return 0    \n",
    "\n",
    "\n",
    "# Функция для подсчета значений сверх тарифа:\n",
    "def minutes_over_limit(raw):\n",
    "    if raw['minutes'] - raw['minutes_included']  > 0:\n",
    "        return (raw['minutes'] - raw['minutes_included']) * raw['rub_per_minute']\n",
    "    return 0\n",
    "    \n",
    "def messages_over_limit(raw):\n",
    "    if raw['messages'] - raw['messages_included'] > 0:\n",
    "        return (raw['messages'] - raw['messages_included'])* raw['rub_per_message']\n",
    "    return 0\n",
    "    \n",
    "def mbs_over_limit(raw):\n",
    "    if (raw['internet'] - raw['mb_per_month_included']) > 0:\n",
    "        return (raw['internet']/1024 - raw['mb_per_month_included']/1024)* raw['rub_per_gb']\n",
    "    return 0    \n",
    "    \n",
    "df['minutes_plus'] = df.apply(minutes_over_limit, axis = 1)  \n",
    "df['messages_plus'] = df.apply(messages_over_limit, axis = 1)  \n",
    "df['internet_plus'] = df.apply(mbs_over_limit, axis = 1)\n",
    "\n",
    "# Общая выручка с каждого клиента, включая сверх-тариф и аб.плату:\n",
    "\n",
    "df['total_pay'] = (df['minutes_plus'] + df['messages_plus'] + df['internet_plus'] + df['rub_monthly_fee'])\n",
    "df[['minutes_plus','messages_plus','internet_plus','total_pay']].sort_values(by = 'total_pay', ascending = False)"
   ]
  },
  {
   "cell_type": "markdown",
   "metadata": {},
   "source": [
    "<div class=\"alert alert-warning\">\n",
    "<b>⚠️ Комментарий ревьюера:</b> Лучше брать лимиты по тарифам и абонентскую плату прямо из таблицы, ссылаясь на ее ячейки. Тогда при изменении тарифных условий нам не придется переписывать наши функции\n",
    "</div>"
   ]
  },
  {
   "cell_type": "markdown",
   "metadata": {},
   "source": [
    "<div class=\"alert alert-info\">\n",
    "<b>Комментарий студента: </b>\n",
    "<br>-Исправила. Спасибо.\n",
    "</div>"
   ]
  },
  {
   "cell_type": "markdown",
   "metadata": {},
   "source": [
    "<div class=\"alert alert-success\">\n",
    "\n",
    "<b>✔️ Комментарий ревьюера v2:</b> 👍\n",
    "\n",
    "</div>"
   ]
  },
  {
   "cell_type": "markdown",
   "metadata": {},
   "source": [
    "**Вывод:**\n",
    "Мы привели данные в единый датафрейм, с которым будем работать дальше. "
   ]
  },
  {
   "cell_type": "markdown",
   "metadata": {},
   "source": [
    "# Этап 3. Анализ данных"
   ]
  },
  {
   "cell_type": "markdown",
   "metadata": {},
   "source": [
    "**Задача:**  \n",
    "Описать поведение клиентов оператора, исходя из выборки. \n",
    "Сколько минут разговора, сколько сообщений и какой объём интернет-трафика требуется пользователям каждого тарифа в месяц? Посчитайте среднее количество, дисперсию и стандартное отклонение. Постройте гистограммы. Опишите распределения."
   ]
  },
  {
   "cell_type": "markdown",
   "metadata": {},
   "source": [
    "### Построим диаграммы размаха для каждого тарифа:"
   ]
  },
  {
   "cell_type": "code",
   "execution_count": 17,
   "metadata": {},
   "outputs": [
    {
     "data": {
      "text/plain": [
       "<matplotlib.axes._subplots.AxesSubplot at 0x7f1e44c0e150>"
      ]
     },
     "execution_count": 17,
     "metadata": {},
     "output_type": "execute_result"
    },
    {
     "data": {
      "image/png": "[encoded data removed]",
      "text/plain": [
       "<Figure size 1080x360 with 4 Axes>"
      ]
     },
     "metadata": {},
     "output_type": "display_data"
    }
   ],
   "source": [
    "plt.subplots(figsize=(15, 5))\n",
    "df.boxplot('minutes', by = 'tariff', ax=plt.subplot(1, 4, 1))\n",
    "df.boxplot('internet', by = 'tariff', ax=plt.subplot(1, 4, 2))\n",
    "df.boxplot('total_pay', by = 'tariff', ax=plt.subplot(1, 4, 3))\n",
    "df.boxplot('messages', by = 'tariff', ax=plt.subplot(1, 4, 4))"
   ]
  },
  {
   "cell_type": "markdown",
   "metadata": {},
   "source": [
    "<div class=\"alert alert-success\">\n",
    "\n",
    "<b>✔️ Комментарий ревьюера:</b> Еще интересно посмотреть на распределение минут и интернета, приобретенного сверх тарифа. Операторы заинтересованы в том, чтобы пользователь платил больше)\n",
    "</div>"
   ]
  },
  {
   "cell_type": "markdown",
   "metadata": {},
   "source": [
    "<div class=\"alert alert-info\">\n",
    "<b>Комментарий студента: </b>\n",
    "<br>-Дополнила боксплотом и таблицей.\n",
    "</div>"
   ]
  },
  {
   "cell_type": "code",
   "execution_count": 18,
   "metadata": {},
   "outputs": [
    {
     "data": {
      "image/png": "[encoded data removed]",
      "text/plain": [
       "<Figure size 1080x360 with 2 Axes>"
      ]
     },
     "metadata": {},
     "output_type": "display_data"
    }
   ],
   "source": [
    "# Посмотрим на распределение минут и интернета, приобретенного сверх тарифа:\n",
    "plt.subplots(figsize=(15, 5))\n",
    "df.boxplot('minutes_plus', by = 'tariff', ax=plt.subplot(1, 2, 1))\n",
    "df.boxplot('internet_plus', by = 'tariff', ax=plt.subplot(1, 2, 2));"
   ]
  },
  {
   "cell_type": "code",
   "execution_count": 19,
   "metadata": {},
   "outputs": [
    {
     "data": {
      "text/html": [
       "<div>\n",
       "<style scoped>\n",
       "    .dataframe tbody tr th:only-of-type {\n",
       "        vertical-align: middle;\n",
       "    }\n",
       "\n",
       "    .dataframe tbody tr th {\n",
       "        vertical-align: top;\n",
       "    }\n",
       "\n",
       "    .dataframe thead tr th {\n",
       "        text-align: left;\n",
       "    }\n",
       "\n",
       "    .dataframe thead tr:last-of-type th {\n",
       "        text-align: right;\n",
       "    }\n",
       "</style>\n",
       "<table border=\"1\" class=\"dataframe\">\n",
       "  <thead>\n",
       "    <tr>\n",
       "      <th></th>\n",
       "      <th colspan=\"2\" halign=\"left\">minutes_plus</th>\n",
       "      <th colspan=\"2\" halign=\"left\">internet_plus</th>\n",
       "    </tr>\n",
       "    <tr>\n",
       "      <th></th>\n",
       "      <th>mean</th>\n",
       "      <th>median</th>\n",
       "      <th>mean</th>\n",
       "      <th>median</th>\n",
       "    </tr>\n",
       "    <tr>\n",
       "      <th>tariff</th>\n",
       "      <th></th>\n",
       "      <th></th>\n",
       "      <th></th>\n",
       "      <th></th>\n",
       "    </tr>\n",
       "  </thead>\n",
       "  <tbody>\n",
       "    <tr>\n",
       "      <td>smart</td>\n",
       "      <td>124.8</td>\n",
       "      <td>0.0</td>\n",
       "      <td>538.2</td>\n",
       "      <td>224.0</td>\n",
       "    </tr>\n",
       "    <tr>\n",
       "      <td>ultra</td>\n",
       "      <td>0.0</td>\n",
       "      <td>0.0</td>\n",
       "      <td>109.9</td>\n",
       "      <td>0.0</td>\n",
       "    </tr>\n",
       "  </tbody>\n",
       "</table>\n",
       "</div>"
      ],
      "text/plain": [
       "       minutes_plus        internet_plus       \n",
       "               mean median          mean median\n",
       "tariff                                         \n",
       "smart         124.8    0.0         538.2  224.0\n",
       "ultra           0.0    0.0         109.9    0.0"
      ]
     },
     "execution_count": 19,
     "metadata": {},
     "output_type": "execute_result"
    }
   ],
   "source": [
    "# Посчитаем среднее и медианц для минут и интернета, приобретенного сверх тарифа:\n",
    "df.groupby('tariff')['minutes_plus','internet_plus'].agg(['mean', 'median'])"
   ]
  },
  {
   "cell_type": "markdown",
   "metadata": {},
   "source": [
    "**Вывод:**   \n",
    "Абоненты Смарт сверх тарифа приобретают в среднем 125 минут и 538 мбайт  \n",
    "Абоненты Ультра сверх тарифа не приобретают минуты и в среднем 110 мбайт  "
   ]
  },
  {
   "cell_type": "markdown",
   "metadata": {},
   "source": [
    "### Сравним средний чек в регионах для тарифов Смарт и Ультра:"
   ]
  },
  {
   "cell_type": "code",
   "execution_count": 20,
   "metadata": {},
   "outputs": [
    {
     "data": {
      "text/plain": [
       "<matplotlib.axes._subplots.AxesSubplot at 0x7f1e45ad2950>"
      ]
     },
     "execution_count": 20,
     "metadata": {},
     "output_type": "execute_result"
    },
    {
     "data": {
      "image/png": "[encoded data removed]",
      "text/plain": [
       "<Figure size 1440x504 with 1 Axes>"
      ]
     },
     "metadata": {},
     "output_type": "display_data"
    }
   ],
   "source": [
    "# Сравним средний  чек на тарифы Смарт и Ультра по регионам:\n",
    "(df.pivot_table(index = 'city', columns = 'tariff', values = 'total_pay', aggfunc = 'mean')\n",
    "    .plot(kind='bar', figsize=(20,7), title='Сравнение среднего чека в разных регионах')\n",
    ")"
   ]
  },
  {
   "cell_type": "markdown",
   "metadata": {},
   "source": [
    "Максимальный средний чек в тарифе Ультра делят Махачкала и Владимир. Интересный дуэт.  \n",
    "Минимальный средний чек в тарифе Ультра практически равен среднему,  или абонентской плате. Распределение равномерное.  \n",
    "Лидерами по максимальному среднему чеку в тарифе Смарт стали Воронеж, Оренбург, Череповец.  \n",
    "Самые экономные в тарифе Смарт города Смоленск, Тамбов, Химки. "
   ]
  },
  {
   "cell_type": "code",
   "execution_count": 21,
   "metadata": {},
   "outputs": [
    {
     "data": {
      "text/html": [
       "<div>\n",
       "<style scoped>\n",
       "    .dataframe tbody tr th:only-of-type {\n",
       "        vertical-align: middle;\n",
       "    }\n",
       "\n",
       "    .dataframe tbody tr th {\n",
       "        vertical-align: top;\n",
       "    }\n",
       "\n",
       "    .dataframe thead th {\n",
       "        text-align: right;\n",
       "    }\n",
       "</style>\n",
       "<table border=\"1\" class=\"dataframe\">\n",
       "  <thead>\n",
       "    <tr style=\"text-align: right;\">\n",
       "      <th>tariff</th>\n",
       "      <th>smart</th>\n",
       "      <th>ultra</th>\n",
       "    </tr>\n",
       "    <tr>\n",
       "      <th>month</th>\n",
       "      <th></th>\n",
       "      <th></th>\n",
       "    </tr>\n",
       "  </thead>\n",
       "  <tbody>\n",
       "    <tr>\n",
       "      <td>1</td>\n",
       "      <td>34</td>\n",
       "      <td>9</td>\n",
       "    </tr>\n",
       "    <tr>\n",
       "      <td>2</td>\n",
       "      <td>58</td>\n",
       "      <td>24</td>\n",
       "    </tr>\n",
       "    <tr>\n",
       "      <td>3</td>\n",
       "      <td>77</td>\n",
       "      <td>37</td>\n",
       "    </tr>\n",
       "    <tr>\n",
       "      <td>4</td>\n",
       "      <td>112</td>\n",
       "      <td>55</td>\n",
       "    </tr>\n",
       "    <tr>\n",
       "      <td>5</td>\n",
       "      <td>141</td>\n",
       "      <td>67</td>\n",
       "    </tr>\n",
       "    <tr>\n",
       "      <td>6</td>\n",
       "      <td>164</td>\n",
       "      <td>84</td>\n",
       "    </tr>\n",
       "    <tr>\n",
       "      <td>7</td>\n",
       "      <td>201</td>\n",
       "      <td>91</td>\n",
       "    </tr>\n",
       "    <tr>\n",
       "      <td>8</td>\n",
       "      <td>235</td>\n",
       "      <td>107</td>\n",
       "    </tr>\n",
       "    <tr>\n",
       "      <td>9</td>\n",
       "      <td>260</td>\n",
       "      <td>115</td>\n",
       "    </tr>\n",
       "    <tr>\n",
       "      <td>10</td>\n",
       "      <td>294</td>\n",
       "      <td>123</td>\n",
       "    </tr>\n",
       "    <tr>\n",
       "      <td>11</td>\n",
       "      <td>316</td>\n",
       "      <td>134</td>\n",
       "    </tr>\n",
       "    <tr>\n",
       "      <td>12</td>\n",
       "      <td>337</td>\n",
       "      <td>139</td>\n",
       "    </tr>\n",
       "  </tbody>\n",
       "</table>\n",
       "</div>"
      ],
      "text/plain": [
       "tariff  smart  ultra\n",
       "month               \n",
       "1          34      9\n",
       "2          58     24\n",
       "3          77     37\n",
       "4         112     55\n",
       "5         141     67\n",
       "6         164     84\n",
       "7         201     91\n",
       "8         235    107\n",
       "9         260    115\n",
       "10        294    123\n",
       "11        316    134\n",
       "12        337    139"
      ]
     },
     "metadata": {},
     "output_type": "display_data"
    },
    {
     "data": {
      "text/plain": [
       "<matplotlib.axes._subplots.AxesSubplot at 0x7f1e3b097750>"
      ]
     },
     "execution_count": 21,
     "metadata": {},
     "output_type": "execute_result"
    },
    {
     "data": {
      "image/png": "[encoded data removed]",
      "text/plain": [
       "<Figure size 432x288 with 1 Axes>"
      ]
     },
     "metadata": {},
     "output_type": "display_data"
    }
   ],
   "source": [
    "# Посмотрим, был ли рост количества абонентов в числовом и графическом выражении:\n",
    "display(df.pivot_table(index = 'month', columns = 'tariff', values = 'user_id', aggfunc = 'count'));\n",
    "(df.pivot_table(index = 'month', columns = 'tariff', values = 'user_id', aggfunc = 'count')\n",
    ".plot(title='Годовой прирост абонентов Смарт и Ультра')\n",
    ")"
   ]
  },
  {
   "cell_type": "markdown",
   "metadata": {},
   "source": [
    "По графику видим, что количество абонентов в тарифе Смарт выросло за год почти в 10 раз, а в тарифе Ультра в 16 раз. \n",
    "Хорошие темпы роста."
   ]
  },
  {
   "cell_type": "markdown",
   "metadata": {},
   "source": [
    "### Посчитаем среднее, дисперсию и ст.отклонение для объема трафика, длительности звонков и кол-ва сообщений для каждого тарифа методом группировки"
   ]
  },
  {
   "cell_type": "code",
   "execution_count": 22,
   "metadata": {},
   "outputs": [
    {
     "data": {
      "text/html": [
       "<div>\n",
       "<style scoped>\n",
       "    .dataframe tbody tr th:only-of-type {\n",
       "        vertical-align: middle;\n",
       "    }\n",
       "\n",
       "    .dataframe tbody tr th {\n",
       "        vertical-align: top;\n",
       "    }\n",
       "\n",
       "    .dataframe thead th {\n",
       "        text-align: right;\n",
       "    }\n",
       "</style>\n",
       "<table border=\"1\" class=\"dataframe\">\n",
       "  <thead>\n",
       "    <tr style=\"text-align: right;\">\n",
       "      <th></th>\n",
       "      <th>count</th>\n",
       "      <th>mean</th>\n",
       "      <th>std</th>\n",
       "      <th>min</th>\n",
       "      <th>median</th>\n",
       "      <th>max</th>\n",
       "      <th>sum</th>\n",
       "      <th>var</th>\n",
       "    </tr>\n",
       "    <tr>\n",
       "      <th>tariff</th>\n",
       "      <th></th>\n",
       "      <th></th>\n",
       "      <th></th>\n",
       "      <th></th>\n",
       "      <th></th>\n",
       "      <th></th>\n",
       "      <th></th>\n",
       "      <th></th>\n",
       "    </tr>\n",
       "  </thead>\n",
       "  <tbody>\n",
       "    <tr>\n",
       "      <td>smart</td>\n",
       "      <td>2229</td>\n",
       "      <td>1,230.0</td>\n",
       "      <td>786.0</td>\n",
       "      <td>550.0</td>\n",
       "      <td>958.0</td>\n",
       "      <td>6,700.0</td>\n",
       "      <td>2,742,656.0</td>\n",
       "      <td>617,357.0</td>\n",
       "    </tr>\n",
       "    <tr>\n",
       "      <td>ultra</td>\n",
       "      <td>985</td>\n",
       "      <td>2,060.0</td>\n",
       "      <td>355.0</td>\n",
       "      <td>1,950.0</td>\n",
       "      <td>1,950.0</td>\n",
       "      <td>4,737.0</td>\n",
       "      <td>2,028,971.0</td>\n",
       "      <td>125,940.0</td>\n",
       "    </tr>\n",
       "  </tbody>\n",
       "</table>\n",
       "</div>"
      ],
      "text/plain": [
       "        count    mean   std     min  median     max         sum       var\n",
       "tariff                                                                   \n",
       "smart    2229 1,230.0 786.0   550.0   958.0 6,700.0 2,742,656.0 617,357.0\n",
       "ultra     985 2,060.0 355.0 1,950.0 1,950.0 4,737.0 2,028,971.0 125,940.0"
      ]
     },
     "execution_count": 22,
     "metadata": {},
     "output_type": "execute_result"
    }
   ],
   "source": [
    "# Расчет для среднего чека:\n",
    "df.groupby('tariff')['total_pay'].agg(['count', 'mean', 'std', 'min','median', 'max', 'sum','var']).round()"
   ]
  },
  {
   "cell_type": "code",
   "execution_count": 23,
   "metadata": {},
   "outputs": [
    {
     "data": {
      "text/plain": [
       "<matplotlib.axes._subplots.AxesSubplot at 0x7f1e45de5850>"
      ]
     },
     "execution_count": 23,
     "metadata": {},
     "output_type": "execute_result"
    },
    {
     "data": {
      "image/png": "[encoded data removed]",
      "text/plain": [
       "<Figure size 432x288 with 1 Axes>"
      ]
     },
     "metadata": {},
     "output_type": "display_data"
    }
   ],
   "source": [
    "# График для среднего чека:\n",
    "df.pivot_table(index = 'month', columns = 'tariff', values = 'total_pay', aggfunc = 'mean').plot(title='Средний чек Смарт и Ультра')"
   ]
  },
  {
   "cell_type": "code",
   "execution_count": 24,
   "metadata": {},
   "outputs": [
    {
     "data": {
      "text/html": [
       "<div>\n",
       "<style scoped>\n",
       "    .dataframe tbody tr th:only-of-type {\n",
       "        vertical-align: middle;\n",
       "    }\n",
       "\n",
       "    .dataframe tbody tr th {\n",
       "        vertical-align: top;\n",
       "    }\n",
       "\n",
       "    .dataframe thead th {\n",
       "        text-align: right;\n",
       "    }\n",
       "</style>\n",
       "<table border=\"1\" class=\"dataframe\">\n",
       "  <thead>\n",
       "    <tr style=\"text-align: right;\">\n",
       "      <th></th>\n",
       "      <th>count</th>\n",
       "      <th>mean</th>\n",
       "      <th>std</th>\n",
       "      <th>min</th>\n",
       "      <th>median</th>\n",
       "      <th>max</th>\n",
       "      <th>sum</th>\n",
       "      <th>var</th>\n",
       "    </tr>\n",
       "    <tr>\n",
       "      <th>tariff</th>\n",
       "      <th></th>\n",
       "      <th></th>\n",
       "      <th></th>\n",
       "      <th></th>\n",
       "      <th></th>\n",
       "      <th></th>\n",
       "      <th></th>\n",
       "      <th></th>\n",
       "    </tr>\n",
       "  </thead>\n",
       "  <tbody>\n",
       "    <tr>\n",
       "      <td>smart</td>\n",
       "      <td>2229</td>\n",
       "      <td>418.0</td>\n",
       "      <td>190.0</td>\n",
       "      <td>0.0</td>\n",
       "      <td>422.0</td>\n",
       "      <td>1,435.0</td>\n",
       "      <td>931,577.0</td>\n",
       "      <td>36,219.0</td>\n",
       "    </tr>\n",
       "    <tr>\n",
       "      <td>ultra</td>\n",
       "      <td>985</td>\n",
       "      <td>527.0</td>\n",
       "      <td>318.0</td>\n",
       "      <td>0.0</td>\n",
       "      <td>518.0</td>\n",
       "      <td>1,673.0</td>\n",
       "      <td>518,724.0</td>\n",
       "      <td>100,874.0</td>\n",
       "    </tr>\n",
       "  </tbody>\n",
       "</table>\n",
       "</div>"
      ],
      "text/plain": [
       "        count  mean   std  min  median     max       sum       var\n",
       "tariff                                                            \n",
       "smart    2229 418.0 190.0  0.0   422.0 1,435.0 931,577.0  36,219.0\n",
       "ultra     985 527.0 318.0  0.0   518.0 1,673.0 518,724.0 100,874.0"
      ]
     },
     "execution_count": 24,
     "metadata": {},
     "output_type": "execute_result"
    }
   ],
   "source": [
    "# Расчет для звонков:\n",
    "df.groupby('tariff')['minutes'].agg(['count', 'mean', 'std', 'min','median', 'max', 'sum','var']).round()"
   ]
  },
  {
   "cell_type": "code",
   "execution_count": 25,
   "metadata": {},
   "outputs": [
    {
     "data": {
      "text/plain": [
       "<matplotlib.axes._subplots.AxesSubplot at 0x7f1e39763c50>"
      ]
     },
     "execution_count": 25,
     "metadata": {},
     "output_type": "execute_result"
    },
    {
     "data": {
      "image/png": "[encoded data removed]",
      "text/plain": [
       "<Figure size 432x288 with 1 Axes>"
      ]
     },
     "metadata": {},
     "output_type": "display_data"
    }
   ],
   "source": [
    "# Посмотрим на графике среднюю продолжительность вызвов в месяц для абонентов тарифов Смарт и Ультра:\n",
    "df.pivot_table(index = 'month', columns = 'tariff', values = 'minutes', aggfunc = 'mean').plot(title='Среднее минут разговора Смарт и Ультра')"
   ]
  },
  {
   "cell_type": "code",
   "execution_count": 26,
   "metadata": {},
   "outputs": [
    {
     "data": {
      "text/html": [
       "<div>\n",
       "<style scoped>\n",
       "    .dataframe tbody tr th:only-of-type {\n",
       "        vertical-align: middle;\n",
       "    }\n",
       "\n",
       "    .dataframe tbody tr th {\n",
       "        vertical-align: top;\n",
       "    }\n",
       "\n",
       "    .dataframe thead th {\n",
       "        text-align: right;\n",
       "    }\n",
       "</style>\n",
       "<table border=\"1\" class=\"dataframe\">\n",
       "  <thead>\n",
       "    <tr style=\"text-align: right;\">\n",
       "      <th></th>\n",
       "      <th>count</th>\n",
       "      <th>mean</th>\n",
       "      <th>std</th>\n",
       "      <th>min</th>\n",
       "      <th>median</th>\n",
       "      <th>max</th>\n",
       "      <th>sum</th>\n",
       "      <th>var</th>\n",
       "    </tr>\n",
       "    <tr>\n",
       "      <th>tariff</th>\n",
       "      <th></th>\n",
       "      <th></th>\n",
       "      <th></th>\n",
       "      <th></th>\n",
       "      <th></th>\n",
       "      <th></th>\n",
       "      <th></th>\n",
       "      <th></th>\n",
       "    </tr>\n",
       "  </thead>\n",
       "  <tbody>\n",
       "    <tr>\n",
       "      <td>smart</td>\n",
       "      <td>2229</td>\n",
       "      <td>16,208.0</td>\n",
       "      <td>5,870.0</td>\n",
       "      <td>0.0</td>\n",
       "      <td>16,507.0</td>\n",
       "      <td>38,552.0</td>\n",
       "      <td>36,128,495.0</td>\n",
       "      <td>34,462,496.0</td>\n",
       "    </tr>\n",
       "    <tr>\n",
       "      <td>ultra</td>\n",
       "      <td>985</td>\n",
       "      <td>19,469.0</td>\n",
       "      <td>10,087.0</td>\n",
       "      <td>0.0</td>\n",
       "      <td>19,308.0</td>\n",
       "      <td>49,746.0</td>\n",
       "      <td>19,176,773.0</td>\n",
       "      <td>101,751,014.0</td>\n",
       "    </tr>\n",
       "  </tbody>\n",
       "</table>\n",
       "</div>"
      ],
      "text/plain": [
       "        count     mean      std  min   median      max          sum  \\\n",
       "tariff                                                                \n",
       "smart    2229 16,208.0  5,870.0  0.0 16,507.0 38,552.0 36,128,495.0   \n",
       "ultra     985 19,469.0 10,087.0  0.0 19,308.0 49,746.0 19,176,773.0   \n",
       "\n",
       "                 var  \n",
       "tariff                \n",
       "smart   34,462,496.0  \n",
       "ultra  101,751,014.0  "
      ]
     },
     "execution_count": 26,
     "metadata": {},
     "output_type": "execute_result"
    }
   ],
   "source": [
    "# Расчет для интернета:\n",
    "df.groupby('tariff')['internet'].agg(['count', 'mean', 'std', 'min','median', 'max', 'sum','var']).round()"
   ]
  },
  {
   "cell_type": "code",
   "execution_count": 27,
   "metadata": {},
   "outputs": [
    {
     "data": {
      "text/plain": [
       "<matplotlib.axes._subplots.AxesSubplot at 0x7f1e396db310>"
      ]
     },
     "execution_count": 27,
     "metadata": {},
     "output_type": "execute_result"
    },
    {
     "data": {
      "image/png": "[encoded data removed]",
      "text/plain": [
       "<Figure size 432x288 with 1 Axes>"
      ]
     },
     "metadata": {},
     "output_type": "display_data"
    }
   ],
   "source": [
    "# Сравним, сколько в среднем использовали в месяц интернета абоненты Смарт и Ультра:\n",
    "df.pivot_table(index = 'month', columns = 'tariff', values = 'internet', aggfunc = 'mean').plot(title='Среднее использования интернет Смарт и Ультра')"
   ]
  },
  {
   "cell_type": "code",
   "execution_count": 28,
   "metadata": {},
   "outputs": [
    {
     "data": {
      "text/html": [
       "<div>\n",
       "<style scoped>\n",
       "    .dataframe tbody tr th:only-of-type {\n",
       "        vertical-align: middle;\n",
       "    }\n",
       "\n",
       "    .dataframe tbody tr th {\n",
       "        vertical-align: top;\n",
       "    }\n",
       "\n",
       "    .dataframe thead th {\n",
       "        text-align: right;\n",
       "    }\n",
       "</style>\n",
       "<table border=\"1\" class=\"dataframe\">\n",
       "  <thead>\n",
       "    <tr style=\"text-align: right;\">\n",
       "      <th></th>\n",
       "      <th>count</th>\n",
       "      <th>mean</th>\n",
       "      <th>std</th>\n",
       "      <th>min</th>\n",
       "      <th>median</th>\n",
       "      <th>max</th>\n",
       "      <th>sum</th>\n",
       "      <th>var</th>\n",
       "    </tr>\n",
       "    <tr>\n",
       "      <th>tariff</th>\n",
       "      <th></th>\n",
       "      <th></th>\n",
       "      <th></th>\n",
       "      <th></th>\n",
       "      <th></th>\n",
       "      <th></th>\n",
       "      <th></th>\n",
       "      <th></th>\n",
       "    </tr>\n",
       "  </thead>\n",
       "  <tbody>\n",
       "    <tr>\n",
       "      <td>smart</td>\n",
       "      <td>2229</td>\n",
       "      <td>33.0</td>\n",
       "      <td>28.0</td>\n",
       "      <td>0.0</td>\n",
       "      <td>28.0</td>\n",
       "      <td>143.0</td>\n",
       "      <td>74,413.0</td>\n",
       "      <td>797.0</td>\n",
       "    </tr>\n",
       "    <tr>\n",
       "      <td>ultra</td>\n",
       "      <td>985</td>\n",
       "      <td>49.0</td>\n",
       "      <td>48.0</td>\n",
       "      <td>0.0</td>\n",
       "      <td>38.0</td>\n",
       "      <td>224.0</td>\n",
       "      <td>48,623.0</td>\n",
       "      <td>2,285.0</td>\n",
       "    </tr>\n",
       "  </tbody>\n",
       "</table>\n",
       "</div>"
      ],
      "text/plain": [
       "        count  mean  std  min  median   max      sum     var\n",
       "tariff                                                      \n",
       "smart    2229  33.0 28.0  0.0    28.0 143.0 74,413.0   797.0\n",
       "ultra     985  49.0 48.0  0.0    38.0 224.0 48,623.0 2,285.0"
      ]
     },
     "execution_count": 28,
     "metadata": {},
     "output_type": "execute_result"
    }
   ],
   "source": [
    "# Расчет для сообщений:\n",
    "df.groupby('tariff')['messages'].agg(['count', 'mean', 'std', 'min','median', 'max', 'sum','var']).round()"
   ]
  },
  {
   "cell_type": "code",
   "execution_count": 29,
   "metadata": {},
   "outputs": [
    {
     "data": {
      "text/plain": [
       "<matplotlib.axes._subplots.AxesSubplot at 0x7f1e396e4810>"
      ]
     },
     "execution_count": 29,
     "metadata": {},
     "output_type": "execute_result"
    },
    {
     "data": {
      "image/png": "[encoded data removed]",
      "text/plain": [
       "<Figure size 432x288 with 1 Axes>"
      ]
     },
     "metadata": {},
     "output_type": "display_data"
    }
   ],
   "source": [
    "# Сравним, сколько в среднем требуется сообщений абонентам Смарт и Ультра:\n",
    "df.pivot_table(index = 'month', columns = 'tariff', values = 'messages', aggfunc = 'mean').plot(title='Среднее кол-во сообщений Смарт и Ультра')"
   ]
  },
  {
   "cell_type": "markdown",
   "metadata": {},
   "source": [
    "**Вывод**  \n",
    "\n",
    "В тарифе \"Смарт\" среднее  месячного платежа равно 1,230.0 руб, стандартное отклонение = 786.1 руб.  \n",
    "В тарифе «Ультра» среднее месячного платежа равно 2,059.3 руб, стандартное отклонение = 355.1 руб.  \n",
    "\n",
    "Если сравнивать стандартное отклонение месячного платежа тарифов Смарт и Ультра, видим что абоненты тарифа Смарт переплачивают чаще и в 2 раза больше чем абоненты Ультра (786 руб. против 355 руб).   \n",
    "\n",
    "Для абонентов тарифа Смарт переплата складывается за счет превышения лимитов:  \n",
    "* Лимит за минуты разговора: отклонение сверх лимита 500 минут составляет ~ 108 минут ( среднеe = 418 мин. плюс стандартное отклонение = 190 мин.) \n",
    "* Лимит интернет - трафика: при среднем = 16208 mb и стандартном отклонении = 5870 mb., отклонение сверх лимита 15 Гб составляет ~ 6.5 Гб\n",
    "* Лимит сообщений: при среднем = 33 и стандартном отклонении = 28, отклонение сверх лимита 50 сообщений составляет ~ 11 сообщений.  \n",
    "\n",
    "Абонентам тарифа Ультра хватает установленных лимитов и переплачивают они намного реже пользователей Смарт. \n",
    "\n",
    "Интренет -трафик плавно растет в обоих тарифах в течении года и к концу года пользователи обоих тарифов удваивают потребление. \n",
    "\n",
    "Видим готовность абонента платить больше за стабильный и высокоскоростной интернет \n",
    "\n",
    "На всех графиках (минуты, интернет, сообщения) видим резкое падение в тарифе Ультра в феврале. Графики Смарт и Ультра пересекаются именно в этой точке."
   ]
  },
  {
   "cell_type": "markdown",
   "metadata": {},
   "source": [
    "<div class=\"alert alert-success\">\n",
    "\n",
    "<b>✔️ Комментарий ревьюера:</b> Хороший вывод!\n",
    "</div>"
   ]
  },
  {
   "cell_type": "markdown",
   "metadata": {},
   "source": [
    "# Этап 4. Проверка гипотез"
   ]
  },
  {
   "cell_type": "markdown",
   "metadata": {},
   "source": [
    "Задача:  \n",
    "Проверить гипотезы:  \n",
    "* средняя выручка пользователей тарифов «Ультра» и «Смарт» различаются;\n",
    "* средняя выручка пользователей из Москвы отличается от выручки пользователей из других регионов.  \n",
    "\n",
    "Пороговое значение alpha задайте самостоятельно.\n",
    "Поясните:\n",
    "* как вы формулировали нулевую и альтернативную гипотезы;\n",
    "* какой критерий использовали для проверки гипотез и почему."
   ]
  },
  {
   "cell_type": "markdown",
   "metadata": {},
   "source": [
    "### Гипотеза 1: \"Средняя выручка пользователей тарифов «Ультра» и «Смарт» различаются\""
   ]
  },
  {
   "cell_type": "markdown",
   "metadata": {},
   "source": [
    "* H0 нулевая гипотеза: средняя выручка пользователей тарифов «Ультра» и «Смарт» одинакова  \n",
    "* H1 альтернативная гипотеза: средняя выручка пользователей тарифов «Ультра» и «Смарт» различаются  \n",
    "Для доказательства нулевой теории используем t-test.  \n",
    "Если p-value меньше порогового значения alpha, то гипотезу отвергаем. Иначе - не отвергаем.  \n",
    "Так как дисперсии выборок отличаются (var.smart = 618.02, а : var.ultra= 126.11), используем метод scipy.stats.ttest_ind с параметром False.  \n",
    "Критический уровень значимости установим 0.05. "
   ]
  },
  {
   "cell_type": "markdown",
   "metadata": {},
   "source": [
    "<div class=\"alert alert-success\">\n",
    "\n",
    "<b>✔️ Комментарий ревьюера:</b> Гипотезы сформулированы верно, молодец!\n",
    "</div>"
   ]
  },
  {
   "cell_type": "markdown",
   "metadata": {},
   "source": [
    "Так как t-test чувствителен к выбросам, я попробовала удалить выбросы в total_pay. У меня получилось удалить всего 1% данных. Но далее в результате проверки 1-й гипотезы я получила p-значение: nan, поэтому закомментировала функцию для удаления выбросов."
   ]
  },
  {
   "cell_type": "code",
   "execution_count": 30,
   "metadata": {},
   "outputs": [],
   "source": [
    "# # \n",
    "# def quartile_range(df, column):\n",
    "#     q1 = df[column].quantile(0.25)\n",
    "#     q3 = df[column].quantile(0.75)\n",
    "#     iqr = q3 - q1\n",
    "#     dfq = df.loc[(df[column] < q3 + 1.5*iqr) & (df[column] > q1 - 1.5*iqr), column]\n",
    "#     return dfq\n",
    "\n",
    "# # В новом датафрейме удалим выбросы:\n",
    "# df_new = df.copy()\n",
    "# list_columns = ['total_pay']\n",
    "# for i in list_columns:\n",
    "#     df_new[i] = quartile_range(df, i)\n",
    "#     share_emissions = 1-(df_new[i].count()/df[i].count())\n",
    "#     print('Доля удаленных значений в',i, '{:.0%}:'.format(share_emissions))\n",
    "# # Проверяем (было 3214 строк)\n",
    "# df[['user_id','tariff','total_pay','minutes','internet']]\n",
    "# # Доля удаленных значений в total_pay 1%:"
   ]
  },
  {
   "cell_type": "code",
   "execution_count": 31,
   "metadata": {},
   "outputs": [],
   "source": [
    "# Cоздадим две таблицы по тарифам:\n",
    "smart = df[df['tariff'] == 'smart']\n",
    "ultra = df[df['tariff'] == 'ultra']"
   ]
  },
  {
   "cell_type": "code",
   "execution_count": 32,
   "metadata": {},
   "outputs": [
    {
     "name": "stdout",
     "output_type": "stream",
     "text": [
      "p-значение: 1.6264184497198272e-298\n",
      "Отвергаем нулевую гипотезу. Средняя выручка тарифов различается.\n"
     ]
    }
   ],
   "source": [
    "alpha = 0.05 # кртический уровень статистической значимости\n",
    "# если p-value окажется меньше alpha - отвергаем гипотезу\n",
    " \n",
    "results_tariff = st.ttest_ind(smart['total_pay'], ultra['total_pay'], equal_var = False)\n",
    "print('p-значение:', results_tariff.pvalue)\n",
    "if results_tariff.pvalue < alpha:\n",
    "    print('Отвергаем нулевую гипотезу. Средняя выручка тарифов различается.')\n",
    "else:\n",
    "    print('Не можем отвергнуть нулевую гипотезу. Средняя выручка пользователей тарифов одинакова')"
   ]
  },
  {
   "cell_type": "markdown",
   "metadata": {},
   "source": [
    "**Вывод 1:**\n",
    "Разница между средним тарифов Смарт и Ультра не случайна, есть значимые различия между выборками"
   ]
  },
  {
   "cell_type": "markdown",
   "metadata": {},
   "source": [
    "<div class=\"alert alert-success\">\n",
    "\n",
    "<b>✔️ Комментарий ревьюера:</b> Верно\n",
    "</div>"
   ]
  },
  {
   "cell_type": "markdown",
   "metadata": {},
   "source": [
    "### Гипотеза 2: \"Средняя выручка пользователей из Москвы отличается от выручки пользователей из других регионов\""
   ]
  },
  {
   "cell_type": "markdown",
   "metadata": {},
   "source": [
    "*H0 нулевая гипотеза: средняя выручка пользователей из Москвы равна выручке пользователей из других регионов  \n",
    "*H1 альтернативная гипотеза: средняя выручка пользователей из Москвы отличается от выручки пользователей из других регионов   \n",
    "Если p-value меньше порогового значения alpha, то гипотезу отвергаем. Иначе - не отвергаем."
   ]
  },
  {
   "cell_type": "code",
   "execution_count": 33,
   "metadata": {},
   "outputs": [
    {
     "name": "stdout",
     "output_type": "stream",
     "text": [
      "p-значение: 0.4698464699962491\n",
      "Не можем отвергнуть нулевую гипотезу.\n"
     ]
    }
   ],
   "source": [
    "#Создадим 2 новых датафрейма: для москвичей и не-москвичей. \n",
    "\n",
    "moscow = df.query('city == \"Москва\"')\n",
    "region = df.query('city != \"Москва\"')\n",
    "\n",
    "results_region = st.ttest_ind(moscow['total_pay'], region['total_pay'])\n",
    "print('p-значение:', results_region.pvalue)\n",
    "if results_region.pvalue < alpha:\n",
    "    print('Отвергаем нулевую гипотезу.')\n",
    "else:\n",
    "    print('Не можем отвергнуть нулевую гипотезу.')"
   ]
  },
  {
   "cell_type": "markdown",
   "metadata": {},
   "source": [
    "**Вывод 2:**\n",
    "Полученное нами p-value равно 0.47, а значит есть 47% вероятность того, что отличие средних значений наших выборок случайно и мы не можем отвергнуть нулевую гипотезу, в которой утверждается, что средняя выручка по Москве равна выручке по регионам."
   ]
  },
  {
   "cell_type": "markdown",
   "metadata": {},
   "source": [
    "# Этап 5. Выводы\n",
    "\n",
    "   \n",
    "В данном исследовании мы выяснили, что:  \n",
    "\n",
    "* Объем телеком.рынка по тарифам Смарт и Ультра по итогам 2018 года составил 4 770 034 руб. На тариф Смарт пришлось 57% от этой суммы. \n",
    "* Суммарная выручка по тарифу Смарт выше чем Ультра ( 2 741 306 руб. против 2 028 431 руб.)\n",
    "* Прирост абонентов за год составил 10% в тарифе Смарт и 16% в тарифе Ультра.\n",
    "* Общая абонентская база в тарифе Смарт на конец года в 2,36 раза больше, чем в тарифе Ультра.  (2 229 чел. против 985 чел.)  \n",
    "* Средний чек тарифа Ультра почти в 2 раза выше Смарт (при этом абонентская плата Ультра выше в 6 раз: 500р. и 3000  р.). \n",
    "* Средний счет абонента в тарифе Смарт составляет порядка 958 рублей при абонентской плате в 550 руб.\n",
    "* Средний счет абонента тарифа Ультра редко выходит за лимит абонентской платы (медианное значение = 1950 руб.)\n",
    "* В течение года средний чек Ультра практически не меняется, в то время как средний чек Смарт к концу года вырос более чем в 1,5 раза.\n",
    "* Объем потребляемых телеком - услуг между пользователями 2 тарифов отличается незначительно.\n",
    "* Абонентам тарифа Смарт не хватает объема услуг, заложенных в абонентскую плату, и они много переплачивают сверх тарифа, в отличие от пользователей тарифа Ультра.\n",
    "* Услуги мобильной связи и доступа в сеть пользуются большим спросом и популярностью, на второй план отошел СМС сервис (возможно СМС не вызывают особенного интереса у пользователей, так как текстовые сообщения вытеснены мессенджерами).\n",
    "\n",
    "**Рекомендация бизнесу:**   \n",
    "\n",
    "В ракурсе сегодняшнего дня более перспективным выглядит тариф Смарт: количество пользователей больше и они готовы больше платить за тариф,  суммарная выручка выше.\n",
    "Однако, темпы прироста абонентов выше в тарифе Ультра. И если такие темпы роста сохранятся в 2019 году, то к концу 2019 года суммарная выручка тарифа Ультра превысит суммарную выручку тарифа Смарт, плюс средняя выручка на одного пользователя выше у тарифа Ультра. \n",
    "Выгоднее продвигать тариф Ультра."
   ]
  },
  {
   "cell_type": "markdown",
   "metadata": {},
   "source": [
    "<div class=\"alert alert-success\">\n",
    "\n",
    "<b>✔️ Комментарий ревьюера:</b> Отличная работа!\n",
    "</div>"
   ]
  },
  {
   "cell_type": "markdown",
   "metadata": {},
   "source": [
    "<div class=\"alert alert-info\">\n",
    "<b>Комментарий студента: </b>\n",
    "<br>-Мария, огромное спасибо за ревью! Для меня очень важно получать полноценную обратную связь.  \n",
    " В целом, мне все понятно, за исключением логики работы метода astype('datetime64[M]')  \n",
    "</div>"
   ]
  }
 ],
 "metadata": {
  "ExecuteTimeLog": [
   {
    "duration": 1044,
    "start_time": "2022-01-26T17:40:21.927Z"
   },
   {
    "duration": 1647,
    "start_time": "2022-01-26T17:40:24.713Z"
   },
   {
    "duration": 372,
    "start_time": "2022-01-26T17:49:32.111Z"
   },
   {
    "duration": 381,
    "start_time": "2022-01-26T17:52:33.412Z"
   },
   {
    "duration": 335,
    "start_time": "2022-01-26T17:52:47.681Z"
   },
   {
    "duration": 107,
    "start_time": "2022-01-26T17:53:01.664Z"
   },
   {
    "duration": 122,
    "start_time": "2022-01-26T17:54:02.071Z"
   },
   {
    "duration": 93,
    "start_time": "2022-01-26T17:54:44.446Z"
   },
   {
    "duration": 40,
    "start_time": "2022-01-26T17:55:23.534Z"
   },
   {
    "duration": 37,
    "start_time": "2022-01-26T17:55:42.626Z"
   },
   {
    "duration": 9,
    "start_time": "2022-01-26T17:56:13.294Z"
   },
   {
    "duration": 9,
    "start_time": "2022-01-26T17:56:28.646Z"
   },
   {
    "duration": 24,
    "start_time": "2022-01-26T17:56:59.268Z"
   },
   {
    "duration": 24,
    "start_time": "2022-01-26T17:57:10.141Z"
   },
   {
    "duration": 39,
    "start_time": "2022-01-26T17:57:19.579Z"
   },
   {
    "duration": 41,
    "start_time": "2022-01-26T17:57:34.821Z"
   },
   {
    "duration": 38,
    "start_time": "2022-01-26T17:57:57.534Z"
   },
   {
    "duration": 40,
    "start_time": "2022-01-26T17:58:43.291Z"
   },
   {
    "duration": 42,
    "start_time": "2022-01-26T17:58:55.459Z"
   },
   {
    "duration": 144,
    "start_time": "2022-01-26T18:04:23.275Z"
   },
   {
    "duration": 102,
    "start_time": "2022-01-26T18:04:35.142Z"
   },
   {
    "duration": 84,
    "start_time": "2022-01-26T18:05:25.352Z"
   },
   {
    "duration": 82,
    "start_time": "2022-01-26T18:05:52.035Z"
   },
   {
    "duration": 89,
    "start_time": "2022-01-26T18:06:12.169Z"
   },
   {
    "duration": 294,
    "start_time": "2022-01-26T18:06:15.564Z"
   },
   {
    "duration": 8,
    "start_time": "2022-01-26T18:08:22.517Z"
   },
   {
    "duration": 23,
    "start_time": "2022-01-26T18:08:42.888Z"
   },
   {
    "duration": 24,
    "start_time": "2022-01-26T18:08:57.219Z"
   },
   {
    "duration": 19,
    "start_time": "2022-01-26T18:09:14.887Z"
   },
   {
    "duration": 37,
    "start_time": "2022-01-26T18:10:24.058Z"
   },
   {
    "duration": 41,
    "start_time": "2022-01-26T18:10:44.891Z"
   },
   {
    "duration": 54,
    "start_time": "2022-01-26T18:11:35.572Z"
   },
   {
    "duration": 26,
    "start_time": "2022-01-26T18:13:05.037Z"
   },
   {
    "duration": 8,
    "start_time": "2022-01-26T18:13:20.117Z"
   },
   {
    "duration": 21,
    "start_time": "2022-01-26T18:13:22.761Z"
   },
   {
    "duration": 29,
    "start_time": "2022-01-26T18:13:52.655Z"
   },
   {
    "duration": 248,
    "start_time": "2022-01-29T05:44:08.451Z"
   },
   {
    "duration": 1053,
    "start_time": "2022-01-29T05:44:56.027Z"
   },
   {
    "duration": 423,
    "start_time": "2022-01-29T05:44:57.082Z"
   },
   {
    "duration": 52,
    "start_time": "2022-01-29T05:44:57.507Z"
   },
   {
    "duration": 56,
    "start_time": "2022-01-29T05:44:57.560Z"
   },
   {
    "duration": 25,
    "start_time": "2022-01-29T05:44:57.618Z"
   },
   {
    "duration": 22,
    "start_time": "2022-01-29T05:44:57.645Z"
   },
   {
    "duration": 56,
    "start_time": "2022-01-29T05:44:57.668Z"
   },
   {
    "duration": 90,
    "start_time": "2022-01-29T05:44:57.726Z"
   },
   {
    "duration": 26,
    "start_time": "2022-01-29T05:45:40.414Z"
   },
   {
    "duration": 325,
    "start_time": "2022-01-29T05:54:51.020Z"
   },
   {
    "duration": 70,
    "start_time": "2022-01-29T05:55:09.610Z"
   },
   {
    "duration": 16,
    "start_time": "2022-01-29T06:09:41.384Z"
   },
   {
    "duration": 237,
    "start_time": "2022-01-29T06:11:59.056Z"
   },
   {
    "duration": 20,
    "start_time": "2022-01-29T06:12:05.629Z"
   },
   {
    "duration": 48,
    "start_time": "2022-01-29T07:11:42.156Z"
   },
   {
    "duration": 412,
    "start_time": "2022-01-29T07:24:32.188Z"
   },
   {
    "duration": 3,
    "start_time": "2022-01-29T07:32:56.392Z"
   },
   {
    "duration": 419,
    "start_time": "2022-01-29T07:38:13.961Z"
   },
   {
    "duration": 19,
    "start_time": "2022-01-29T07:38:21.620Z"
   },
   {
    "duration": 1121,
    "start_time": "2022-01-29T07:38:39.773Z"
   },
   {
    "duration": 457,
    "start_time": "2022-01-29T07:38:40.896Z"
   },
   {
    "duration": 58,
    "start_time": "2022-01-29T07:38:41.355Z"
   },
   {
    "duration": 71,
    "start_time": "2022-01-29T07:38:41.415Z"
   },
   {
    "duration": -15879,
    "start_time": "2022-01-29T07:38:57.368Z"
   },
   {
    "duration": -15896,
    "start_time": "2022-01-29T07:38:57.386Z"
   },
   {
    "duration": -15914,
    "start_time": "2022-01-29T07:38:57.406Z"
   },
   {
    "duration": -15931,
    "start_time": "2022-01-29T07:38:57.424Z"
   },
   {
    "duration": -15948,
    "start_time": "2022-01-29T07:38:57.443Z"
   },
   {
    "duration": -15964,
    "start_time": "2022-01-29T07:38:57.461Z"
   },
   {
    "duration": -15979,
    "start_time": "2022-01-29T07:38:57.477Z"
   },
   {
    "duration": -15999,
    "start_time": "2022-01-29T07:38:57.499Z"
   },
   {
    "duration": -16015,
    "start_time": "2022-01-29T07:38:57.516Z"
   },
   {
    "duration": -16030,
    "start_time": "2022-01-29T07:38:57.533Z"
   },
   {
    "duration": 1110,
    "start_time": "2022-01-29T07:39:07.878Z"
   },
   {
    "duration": 464,
    "start_time": "2022-01-29T07:39:08.990Z"
   },
   {
    "duration": 60,
    "start_time": "2022-01-29T07:39:09.456Z"
   },
   {
    "duration": 50,
    "start_time": "2022-01-29T07:39:09.518Z"
   },
   {
    "duration": 47,
    "start_time": "2022-01-29T07:39:09.570Z"
   },
   {
    "duration": 24,
    "start_time": "2022-01-29T07:39:09.619Z"
   },
   {
    "duration": 76,
    "start_time": "2022-01-29T07:39:09.645Z"
   },
   {
    "duration": 84,
    "start_time": "2022-01-29T07:39:09.724Z"
   },
   {
    "duration": 66,
    "start_time": "2022-01-29T07:39:09.810Z"
   },
   {
    "duration": 6,
    "start_time": "2022-01-29T07:39:09.878Z"
   },
   {
    "duration": 20,
    "start_time": "2022-01-29T07:39:09.898Z"
   },
   {
    "duration": 468,
    "start_time": "2022-01-29T07:39:09.920Z"
   },
   {
    "duration": 25,
    "start_time": "2022-01-29T07:39:10.390Z"
   },
   {
    "duration": 87,
    "start_time": "2022-01-29T07:41:48.763Z"
   },
   {
    "duration": 402,
    "start_time": "2022-01-29T07:41:55.428Z"
   },
   {
    "duration": 391,
    "start_time": "2022-01-29T07:42:35.058Z"
   },
   {
    "duration": 673,
    "start_time": "2022-01-29T07:46:58.823Z"
   },
   {
    "duration": 424,
    "start_time": "2022-01-29T07:47:24.150Z"
   },
   {
    "duration": 70,
    "start_time": "2022-01-29T07:56:19.462Z"
   },
   {
    "duration": 80,
    "start_time": "2022-01-29T07:56:34.856Z"
   },
   {
    "duration": 399,
    "start_time": "2022-01-29T07:56:43.705Z"
   },
   {
    "duration": 417,
    "start_time": "2022-01-29T07:56:53.724Z"
   },
   {
    "duration": 24,
    "start_time": "2022-01-29T08:03:08.589Z"
   },
   {
    "duration": 84,
    "start_time": "2022-01-29T08:05:16.402Z"
   },
   {
    "duration": 430,
    "start_time": "2022-01-29T08:06:44.753Z"
   },
   {
    "duration": 82,
    "start_time": "2022-01-29T08:08:02.439Z"
   },
   {
    "duration": 423,
    "start_time": "2022-01-29T08:08:10.588Z"
   },
   {
    "duration": 408,
    "start_time": "2022-01-29T08:08:33.133Z"
   },
   {
    "duration": 433,
    "start_time": "2022-01-29T08:13:01.835Z"
   },
   {
    "duration": 407,
    "start_time": "2022-01-29T08:17:48.821Z"
   },
   {
    "duration": 435,
    "start_time": "2022-01-29T08:19:50.521Z"
   },
   {
    "duration": 402,
    "start_time": "2022-01-29T08:20:11.915Z"
   },
   {
    "duration": 1072,
    "start_time": "2022-01-29T08:20:53.012Z"
   },
   {
    "duration": 432,
    "start_time": "2022-01-29T08:20:54.086Z"
   },
   {
    "duration": 57,
    "start_time": "2022-01-29T08:20:54.520Z"
   },
   {
    "duration": 50,
    "start_time": "2022-01-29T08:20:54.580Z"
   },
   {
    "duration": 29,
    "start_time": "2022-01-29T08:20:54.632Z"
   },
   {
    "duration": 54,
    "start_time": "2022-01-29T08:20:54.662Z"
   },
   {
    "duration": 51,
    "start_time": "2022-01-29T08:20:54.718Z"
   },
   {
    "duration": 93,
    "start_time": "2022-01-29T08:20:54.771Z"
   },
   {
    "duration": 78,
    "start_time": "2022-01-29T08:20:54.866Z"
   },
   {
    "duration": 7,
    "start_time": "2022-01-29T08:20:54.945Z"
   },
   {
    "duration": 22,
    "start_time": "2022-01-29T08:20:54.953Z"
   },
   {
    "duration": 434,
    "start_time": "2022-01-29T08:20:54.976Z"
   },
   {
    "duration": 19,
    "start_time": "2022-01-29T08:20:55.412Z"
   },
   {
    "duration": 393,
    "start_time": "2022-01-29T08:20:55.433Z"
   },
   {
    "duration": 23,
    "start_time": "2022-01-29T08:20:55.828Z"
   },
   {
    "duration": 416,
    "start_time": "2022-01-29T08:21:39.553Z"
   },
   {
    "duration": 420,
    "start_time": "2022-01-29T08:22:58.159Z"
   },
   {
    "duration": 1032,
    "start_time": "2022-01-29T08:23:38.757Z"
   },
   {
    "duration": 436,
    "start_time": "2022-01-29T08:23:39.791Z"
   },
   {
    "duration": 57,
    "start_time": "2022-01-29T08:23:40.229Z"
   },
   {
    "duration": 49,
    "start_time": "2022-01-29T08:23:40.288Z"
   },
   {
    "duration": 27,
    "start_time": "2022-01-29T08:23:40.339Z"
   },
   {
    "duration": 46,
    "start_time": "2022-01-29T08:23:40.368Z"
   },
   {
    "duration": 50,
    "start_time": "2022-01-29T08:23:40.415Z"
   },
   {
    "duration": 97,
    "start_time": "2022-01-29T08:23:40.467Z"
   },
   {
    "duration": 72,
    "start_time": "2022-01-29T08:23:40.566Z"
   },
   {
    "duration": 7,
    "start_time": "2022-01-29T08:23:40.639Z"
   },
   {
    "duration": 21,
    "start_time": "2022-01-29T08:23:40.648Z"
   },
   {
    "duration": 440,
    "start_time": "2022-01-29T08:23:40.670Z"
   },
   {
    "duration": 18,
    "start_time": "2022-01-29T08:23:41.111Z"
   },
   {
    "duration": 398,
    "start_time": "2022-01-29T08:23:41.131Z"
   },
   {
    "duration": 22,
    "start_time": "2022-01-29T08:23:41.531Z"
   },
   {
    "duration": 1043,
    "start_time": "2022-01-29T08:24:43.310Z"
   },
   {
    "duration": 18,
    "start_time": "2022-01-29T08:25:22.242Z"
   },
   {
    "duration": 370,
    "start_time": "2022-01-29T08:25:35.168Z"
   },
   {
    "duration": 239,
    "start_time": "2022-01-29T08:27:41.712Z"
   },
   {
    "duration": 242,
    "start_time": "2022-01-29T08:28:06.468Z"
   },
   {
    "duration": 32,
    "start_time": "2022-01-29T08:28:16.139Z"
   },
   {
    "duration": 32,
    "start_time": "2022-01-29T08:29:04.065Z"
   },
   {
    "duration": 421,
    "start_time": "2022-01-29T08:31:10.614Z"
   },
   {
    "duration": 33,
    "start_time": "2022-01-29T08:31:15.075Z"
   },
   {
    "duration": 473,
    "start_time": "2022-01-29T08:31:18.049Z"
   },
   {
    "duration": 31,
    "start_time": "2022-01-29T08:31:36.283Z"
   },
   {
    "duration": 24,
    "start_time": "2022-01-29T08:34:10.936Z"
   },
   {
    "duration": 11,
    "start_time": "2022-01-29T08:34:31.608Z"
   },
   {
    "duration": 31,
    "start_time": "2022-01-29T08:34:39.493Z"
   },
   {
    "duration": 22,
    "start_time": "2022-01-29T08:52:43.813Z"
   },
   {
    "duration": 221,
    "start_time": "2022-01-29T08:53:22.878Z"
   },
   {
    "duration": 258,
    "start_time": "2022-01-29T08:54:01.703Z"
   },
   {
    "duration": 26,
    "start_time": "2022-01-29T08:58:02.716Z"
   },
   {
    "duration": 1090,
    "start_time": "2022-01-29T08:58:20.814Z"
   },
   {
    "duration": 437,
    "start_time": "2022-01-29T08:58:21.906Z"
   },
   {
    "duration": 55,
    "start_time": "2022-01-29T08:58:22.345Z"
   },
   {
    "duration": 48,
    "start_time": "2022-01-29T08:58:22.402Z"
   },
   {
    "duration": 47,
    "start_time": "2022-01-29T08:58:22.452Z"
   },
   {
    "duration": 25,
    "start_time": "2022-01-29T08:58:22.501Z"
   },
   {
    "duration": 29,
    "start_time": "2022-01-29T08:58:22.528Z"
   },
   {
    "duration": 51,
    "start_time": "2022-01-29T08:58:22.561Z"
   },
   {
    "duration": 98,
    "start_time": "2022-01-29T08:58:22.614Z"
   },
   {
    "duration": 66,
    "start_time": "2022-01-29T08:58:22.714Z"
   },
   {
    "duration": 20,
    "start_time": "2022-01-29T08:58:22.782Z"
   },
   {
    "duration": 20,
    "start_time": "2022-01-29T08:58:22.803Z"
   },
   {
    "duration": 450,
    "start_time": "2022-01-29T08:58:22.825Z"
   },
   {
    "duration": 41,
    "start_time": "2022-01-29T08:58:23.277Z"
   },
   {
    "duration": 409,
    "start_time": "2022-01-29T08:58:23.320Z"
   },
   {
    "duration": 29,
    "start_time": "2022-01-29T08:58:23.730Z"
   },
   {
    "duration": 39,
    "start_time": "2022-01-29T08:58:23.760Z"
   },
   {
    "duration": 71,
    "start_time": "2022-01-29T08:58:23.801Z"
   },
   {
    "duration": -15863,
    "start_time": "2022-01-29T08:58:39.737Z"
   },
   {
    "duration": 21,
    "start_time": "2022-01-29T08:58:40.786Z"
   },
   {
    "duration": 3242,
    "start_time": "2022-01-29T09:40:29.945Z"
   },
   {
    "duration": 229,
    "start_time": "2022-01-29T09:43:32.480Z"
   },
   {
    "duration": 212,
    "start_time": "2022-01-29T09:44:11.132Z"
   },
   {
    "duration": 526,
    "start_time": "2022-01-29T09:44:28.508Z"
   },
   {
    "duration": 309,
    "start_time": "2022-01-29T09:44:59.447Z"
   },
   {
    "duration": 1598,
    "start_time": "2022-01-29T09:50:06.371Z"
   },
   {
    "duration": 734,
    "start_time": "2022-01-29T09:50:11.551Z"
   },
   {
    "duration": 326,
    "start_time": "2022-01-29T09:50:20.052Z"
   },
   {
    "duration": 341,
    "start_time": "2022-01-29T09:52:27.795Z"
   },
   {
    "duration": 381,
    "start_time": "2022-01-29T09:53:24.785Z"
   },
   {
    "duration": 301,
    "start_time": "2022-01-29T09:58:54.389Z"
   },
   {
    "duration": 319,
    "start_time": "2022-01-29T09:59:23.067Z"
   },
   {
    "duration": 305,
    "start_time": "2022-01-29T09:59:41.126Z"
   },
   {
    "duration": 246,
    "start_time": "2022-01-29T10:07:53.309Z"
   },
   {
    "duration": 300,
    "start_time": "2022-01-29T10:10:53.299Z"
   },
   {
    "duration": 273,
    "start_time": "2022-01-29T10:16:22.218Z"
   },
   {
    "duration": 243,
    "start_time": "2022-01-29T10:23:31.604Z"
   },
   {
    "duration": 485,
    "start_time": "2022-01-29T10:23:56.069Z"
   },
   {
    "duration": 271,
    "start_time": "2022-01-29T10:24:02.133Z"
   },
   {
    "duration": 295,
    "start_time": "2022-01-29T10:25:03.933Z"
   },
   {
    "duration": 1117,
    "start_time": "2022-01-29T10:25:32.294Z"
   },
   {
    "duration": 466,
    "start_time": "2022-01-29T10:25:33.413Z"
   },
   {
    "duration": 59,
    "start_time": "2022-01-29T10:25:33.881Z"
   },
   {
    "duration": 66,
    "start_time": "2022-01-29T10:25:33.942Z"
   },
   {
    "duration": 30,
    "start_time": "2022-01-29T10:25:34.009Z"
   },
   {
    "duration": 24,
    "start_time": "2022-01-29T10:25:34.041Z"
   },
   {
    "duration": 58,
    "start_time": "2022-01-29T10:25:34.066Z"
   },
   {
    "duration": 25,
    "start_time": "2022-01-29T10:25:34.127Z"
   },
   {
    "duration": 96,
    "start_time": "2022-01-29T10:25:34.154Z"
   },
   {
    "duration": 77,
    "start_time": "2022-01-29T10:25:34.251Z"
   },
   {
    "duration": 6,
    "start_time": "2022-01-29T10:25:34.330Z"
   },
   {
    "duration": 22,
    "start_time": "2022-01-29T10:25:34.337Z"
   },
   {
    "duration": 453,
    "start_time": "2022-01-29T10:25:34.361Z"
   },
   {
    "duration": 37,
    "start_time": "2022-01-29T10:25:34.815Z"
   },
   {
    "duration": 438,
    "start_time": "2022-01-29T10:25:34.854Z"
   },
   {
    "duration": 35,
    "start_time": "2022-01-29T10:25:35.294Z"
   },
   {
    "duration": 22,
    "start_time": "2022-01-29T10:25:35.331Z"
   },
   {
    "duration": 52,
    "start_time": "2022-01-29T10:25:35.355Z"
   },
   {
    "duration": 566,
    "start_time": "2022-01-29T10:25:35.409Z"
   },
   {
    "duration": 247,
    "start_time": "2022-01-29T10:26:08.984Z"
   },
   {
    "duration": 447,
    "start_time": "2022-01-29T10:26:36.242Z"
   },
   {
    "duration": 246,
    "start_time": "2022-01-29T10:26:42.624Z"
   },
   {
    "duration": 251,
    "start_time": "2022-01-29T10:27:17.041Z"
   },
   {
    "duration": 1068,
    "start_time": "2022-01-29T10:27:42.333Z"
   },
   {
    "duration": 455,
    "start_time": "2022-01-29T10:27:43.403Z"
   },
   {
    "duration": 57,
    "start_time": "2022-01-29T10:27:43.861Z"
   },
   {
    "duration": 50,
    "start_time": "2022-01-29T10:27:43.920Z"
   },
   {
    "duration": 42,
    "start_time": "2022-01-29T10:27:43.972Z"
   },
   {
    "duration": 23,
    "start_time": "2022-01-29T10:27:44.015Z"
   },
   {
    "duration": 28,
    "start_time": "2022-01-29T10:27:44.039Z"
   },
   {
    "duration": 33,
    "start_time": "2022-01-29T10:27:44.101Z"
   },
   {
    "duration": 84,
    "start_time": "2022-01-29T10:27:44.137Z"
   },
   {
    "duration": 76,
    "start_time": "2022-01-29T10:27:44.223Z"
   },
   {
    "duration": 7,
    "start_time": "2022-01-29T10:27:44.301Z"
   },
   {
    "duration": 25,
    "start_time": "2022-01-29T10:27:44.311Z"
   },
   {
    "duration": 459,
    "start_time": "2022-01-29T10:27:44.338Z"
   },
   {
    "duration": 33,
    "start_time": "2022-01-29T10:27:44.798Z"
   },
   {
    "duration": 418,
    "start_time": "2022-01-29T10:27:44.833Z"
   },
   {
    "duration": 32,
    "start_time": "2022-01-29T10:27:45.252Z"
   },
   {
    "duration": 31,
    "start_time": "2022-01-29T10:27:45.286Z"
   },
   {
    "duration": 33,
    "start_time": "2022-01-29T10:27:45.319Z"
   },
   {
    "duration": 276,
    "start_time": "2022-01-29T10:27:45.354Z"
   },
   {
    "duration": 5,
    "start_time": "2022-01-29T10:28:35.638Z"
   },
   {
    "duration": 264,
    "start_time": "2022-01-29T10:40:46.587Z"
   },
   {
    "duration": 1002,
    "start_time": "2022-01-29T10:45:06.986Z"
   },
   {
    "duration": -15802,
    "start_time": "2022-01-29T10:45:23.792Z"
   },
   {
    "duration": -15822,
    "start_time": "2022-01-29T10:45:23.813Z"
   },
   {
    "duration": -15838,
    "start_time": "2022-01-29T10:45:23.830Z"
   },
   {
    "duration": -15855,
    "start_time": "2022-01-29T10:45:23.848Z"
   },
   {
    "duration": -15875,
    "start_time": "2022-01-29T10:45:23.869Z"
   },
   {
    "duration": -15895,
    "start_time": "2022-01-29T10:45:23.890Z"
   },
   {
    "duration": -15917,
    "start_time": "2022-01-29T10:45:23.913Z"
   },
   {
    "duration": -15938,
    "start_time": "2022-01-29T10:45:23.935Z"
   },
   {
    "duration": -15957,
    "start_time": "2022-01-29T10:45:23.955Z"
   },
   {
    "duration": -15983,
    "start_time": "2022-01-29T10:45:23.983Z"
   },
   {
    "duration": -16001,
    "start_time": "2022-01-29T10:45:24.002Z"
   },
   {
    "duration": -16018,
    "start_time": "2022-01-29T10:45:24.020Z"
   },
   {
    "duration": -16040,
    "start_time": "2022-01-29T10:45:24.043Z"
   },
   {
    "duration": -16061,
    "start_time": "2022-01-29T10:45:24.065Z"
   },
   {
    "duration": -16075,
    "start_time": "2022-01-29T10:45:24.080Z"
   },
   {
    "duration": -16097,
    "start_time": "2022-01-29T10:45:24.104Z"
   },
   {
    "duration": -16118,
    "start_time": "2022-01-29T10:45:24.125Z"
   },
   {
    "duration": -16131,
    "start_time": "2022-01-29T10:45:24.139Z"
   },
   {
    "duration": -16149,
    "start_time": "2022-01-29T10:45:24.158Z"
   },
   {
    "duration": 1149,
    "start_time": "2022-01-29T10:45:39.623Z"
   },
   {
    "duration": 465,
    "start_time": "2022-01-29T10:45:40.774Z"
   },
   {
    "duration": 59,
    "start_time": "2022-01-29T10:45:41.242Z"
   },
   {
    "duration": 53,
    "start_time": "2022-01-29T10:45:41.304Z"
   },
   {
    "duration": 51,
    "start_time": "2022-01-29T10:45:41.359Z"
   },
   {
    "duration": 23,
    "start_time": "2022-01-29T10:45:41.413Z"
   },
   {
    "duration": 29,
    "start_time": "2022-01-29T10:45:41.438Z"
   },
   {
    "duration": 25,
    "start_time": "2022-01-29T10:45:41.499Z"
   },
   {
    "duration": 93,
    "start_time": "2022-01-29T10:45:41.526Z"
   },
   {
    "duration": 67,
    "start_time": "2022-01-29T10:45:41.621Z"
   },
   {
    "duration": 11,
    "start_time": "2022-01-29T10:45:41.690Z"
   },
   {
    "duration": 20,
    "start_time": "2022-01-29T10:45:41.703Z"
   },
   {
    "duration": 464,
    "start_time": "2022-01-29T10:45:41.724Z"
   },
   {
    "duration": 41,
    "start_time": "2022-01-29T10:45:42.190Z"
   },
   {
    "duration": 452,
    "start_time": "2022-01-29T10:45:42.232Z"
   },
   {
    "duration": 43,
    "start_time": "2022-01-29T10:45:42.686Z"
   },
   {
    "duration": 19,
    "start_time": "2022-01-29T10:45:42.731Z"
   },
   {
    "duration": 59,
    "start_time": "2022-01-29T10:45:42.752Z"
   },
   {
    "duration": 264,
    "start_time": "2022-01-29T10:45:42.813Z"
   },
   {
    "duration": 4,
    "start_time": "2022-01-29T10:45:43.079Z"
   },
   {
    "duration": 1154,
    "start_time": "2022-01-29T10:47:58.484Z"
   },
   {
    "duration": 500,
    "start_time": "2022-01-29T10:47:59.640Z"
   },
   {
    "duration": 61,
    "start_time": "2022-01-29T10:48:00.143Z"
   },
   {
    "duration": 53,
    "start_time": "2022-01-29T10:48:00.206Z"
   },
   {
    "duration": 48,
    "start_time": "2022-01-29T10:48:00.261Z"
   },
   {
    "duration": 25,
    "start_time": "2022-01-29T10:48:00.311Z"
   },
   {
    "duration": 30,
    "start_time": "2022-01-29T10:48:00.338Z"
   },
   {
    "duration": 51,
    "start_time": "2022-01-29T10:48:00.371Z"
   },
   {
    "duration": 132,
    "start_time": "2022-01-29T10:48:00.425Z"
   },
   {
    "duration": 79,
    "start_time": "2022-01-29T10:48:00.559Z"
   },
   {
    "duration": 7,
    "start_time": "2022-01-29T10:48:00.640Z"
   },
   {
    "duration": 19,
    "start_time": "2022-01-29T10:48:00.649Z"
   },
   {
    "duration": 471,
    "start_time": "2022-01-29T10:48:00.670Z"
   },
   {
    "duration": 36,
    "start_time": "2022-01-29T10:48:01.143Z"
   },
   {
    "duration": 462,
    "start_time": "2022-01-29T10:48:01.180Z"
   },
   {
    "duration": 30,
    "start_time": "2022-01-29T10:48:01.644Z"
   },
   {
    "duration": 33,
    "start_time": "2022-01-29T10:48:01.676Z"
   },
   {
    "duration": 29,
    "start_time": "2022-01-29T10:48:01.711Z"
   },
   {
    "duration": 287,
    "start_time": "2022-01-29T10:48:01.742Z"
   },
   {
    "duration": 4,
    "start_time": "2022-01-29T10:48:02.031Z"
   },
   {
    "duration": 240,
    "start_time": "2022-01-29T10:49:48.114Z"
   },
   {
    "duration": 13,
    "start_time": "2022-01-29T10:51:07.621Z"
   },
   {
    "duration": 11,
    "start_time": "2022-01-29T10:51:19.443Z"
   },
   {
    "duration": 14,
    "start_time": "2022-01-29T10:51:28.552Z"
   },
   {
    "duration": 1204,
    "start_time": "2022-01-29T10:51:55.975Z"
   },
   {
    "duration": 471,
    "start_time": "2022-01-29T10:51:57.181Z"
   },
   {
    "duration": 57,
    "start_time": "2022-01-29T10:51:57.654Z"
   },
   {
    "duration": 49,
    "start_time": "2022-01-29T10:51:57.713Z"
   },
   {
    "duration": 47,
    "start_time": "2022-01-29T10:51:57.764Z"
   },
   {
    "duration": 24,
    "start_time": "2022-01-29T10:51:57.813Z"
   },
   {
    "duration": 27,
    "start_time": "2022-01-29T10:51:57.839Z"
   },
   {
    "duration": 53,
    "start_time": "2022-01-29T10:51:57.869Z"
   },
   {
    "duration": 90,
    "start_time": "2022-01-29T10:51:57.924Z"
   },
   {
    "duration": 67,
    "start_time": "2022-01-29T10:51:58.016Z"
   },
   {
    "duration": 17,
    "start_time": "2022-01-29T10:51:58.085Z"
   },
   {
    "duration": 20,
    "start_time": "2022-01-29T10:51:58.104Z"
   },
   {
    "duration": 474,
    "start_time": "2022-01-29T10:51:58.126Z"
   },
   {
    "duration": 34,
    "start_time": "2022-01-29T10:51:58.602Z"
   },
   {
    "duration": 423,
    "start_time": "2022-01-29T10:51:58.638Z"
   },
   {
    "duration": 38,
    "start_time": "2022-01-29T10:51:59.063Z"
   },
   {
    "duration": 18,
    "start_time": "2022-01-29T10:51:59.103Z"
   },
   {
    "duration": 28,
    "start_time": "2022-01-29T10:51:59.122Z"
   },
   {
    "duration": 266,
    "start_time": "2022-01-29T10:51:59.151Z"
   },
   {
    "duration": 15,
    "start_time": "2022-01-29T10:51:59.419Z"
   },
   {
    "duration": 29,
    "start_time": "2022-01-29T11:11:03.471Z"
   },
   {
    "duration": 5848,
    "start_time": "2022-01-29T11:11:42.149Z"
   },
   {
    "duration": 1188,
    "start_time": "2022-01-29T11:12:24.811Z"
   },
   {
    "duration": 514,
    "start_time": "2022-01-29T11:12:26.004Z"
   },
   {
    "duration": 64,
    "start_time": "2022-01-29T11:12:26.520Z"
   },
   {
    "duration": 85,
    "start_time": "2022-01-29T11:12:26.586Z"
   },
   {
    "duration": 78,
    "start_time": "2022-01-29T11:12:26.674Z"
   },
   {
    "duration": 58,
    "start_time": "2022-01-29T11:12:26.755Z"
   },
   {
    "duration": 53,
    "start_time": "2022-01-29T11:12:26.816Z"
   },
   {
    "duration": 69,
    "start_time": "2022-01-29T11:12:26.874Z"
   },
   {
    "duration": 108,
    "start_time": "2022-01-29T11:12:26.946Z"
   },
   {
    "duration": 99,
    "start_time": "2022-01-29T11:12:27.056Z"
   },
   {
    "duration": 8,
    "start_time": "2022-01-29T11:12:27.158Z"
   },
   {
    "duration": 43,
    "start_time": "2022-01-29T11:12:27.168Z"
   },
   {
    "duration": 518,
    "start_time": "2022-01-29T11:12:27.214Z"
   },
   {
    "duration": 41,
    "start_time": "2022-01-29T11:12:27.734Z"
   },
   {
    "duration": 432,
    "start_time": "2022-01-29T11:12:27.777Z"
   },
   {
    "duration": 29,
    "start_time": "2022-01-29T11:12:28.210Z"
   },
   {
    "duration": 20,
    "start_time": "2022-01-29T11:12:28.241Z"
   },
   {
    "duration": 53,
    "start_time": "2022-01-29T11:12:28.262Z"
   },
   {
    "duration": 263,
    "start_time": "2022-01-29T11:12:28.317Z"
   },
   {
    "duration": 21,
    "start_time": "2022-01-29T11:12:28.582Z"
   },
   {
    "duration": 14,
    "start_time": "2022-01-29T11:12:41.395Z"
   },
   {
    "duration": 73,
    "start_time": "2022-01-29T11:13:39.862Z"
   },
   {
    "duration": 73,
    "start_time": "2022-01-29T11:22:15.045Z"
   },
   {
    "duration": 681,
    "start_time": "2022-01-29T11:22:21.417Z"
   },
   {
    "duration": 16,
    "start_time": "2022-01-29T11:23:43.300Z"
   },
   {
    "duration": 718,
    "start_time": "2022-01-29T11:26:39.982Z"
   },
   {
    "duration": 22,
    "start_time": "2022-01-29T11:26:43.150Z"
   },
   {
    "duration": 1513,
    "start_time": "2022-01-29T11:27:25.152Z"
   },
   {
    "duration": 1427,
    "start_time": "2022-01-29T11:30:14.938Z"
   },
   {
    "duration": 1488,
    "start_time": "2022-01-29T11:31:34.197Z"
   },
   {
    "duration": 1424,
    "start_time": "2022-01-29T11:31:51.661Z"
   },
   {
    "duration": 1490,
    "start_time": "2022-01-29T11:33:04.239Z"
   },
   {
    "duration": 1524,
    "start_time": "2022-01-29T11:33:31.157Z"
   },
   {
    "duration": 69,
    "start_time": "2022-01-29T11:47:08.765Z"
   },
   {
    "duration": 77,
    "start_time": "2022-01-29T11:47:16.434Z"
   },
   {
    "duration": 255,
    "start_time": "2022-01-29T14:00:40.837Z"
   },
   {
    "duration": 237,
    "start_time": "2022-01-29T14:00:48.612Z"
   },
   {
    "duration": 1053,
    "start_time": "2022-01-29T14:01:05.328Z"
   },
   {
    "duration": 367,
    "start_time": "2022-01-29T14:01:06.383Z"
   },
   {
    "duration": 50,
    "start_time": "2022-01-29T14:01:06.752Z"
   },
   {
    "duration": 50,
    "start_time": "2022-01-29T14:01:06.803Z"
   },
   {
    "duration": 27,
    "start_time": "2022-01-29T14:01:06.854Z"
   },
   {
    "duration": 42,
    "start_time": "2022-01-29T14:01:06.883Z"
   },
   {
    "duration": 25,
    "start_time": "2022-01-29T14:01:06.927Z"
   },
   {
    "duration": 21,
    "start_time": "2022-01-29T14:01:06.955Z"
   },
   {
    "duration": 91,
    "start_time": "2022-01-29T14:01:06.978Z"
   },
   {
    "duration": 63,
    "start_time": "2022-01-29T14:01:07.071Z"
   },
   {
    "duration": 5,
    "start_time": "2022-01-29T14:01:07.136Z"
   },
   {
    "duration": 17,
    "start_time": "2022-01-29T14:01:07.142Z"
   },
   {
    "duration": 399,
    "start_time": "2022-01-29T14:01:07.160Z"
   },
   {
    "duration": 28,
    "start_time": "2022-01-29T14:01:07.561Z"
   },
   {
    "duration": 387,
    "start_time": "2022-01-29T14:01:07.590Z"
   },
   {
    "duration": 35,
    "start_time": "2022-01-29T14:01:07.978Z"
   },
   {
    "duration": 17,
    "start_time": "2022-01-29T14:01:08.014Z"
   },
   {
    "duration": 17,
    "start_time": "2022-01-29T14:01:08.032Z"
   },
   {
    "duration": 243,
    "start_time": "2022-01-29T14:01:08.050Z"
   },
   {
    "duration": 17,
    "start_time": "2022-01-29T14:01:08.295Z"
   },
   {
    "duration": 564,
    "start_time": "2022-01-29T14:01:08.313Z"
   },
   {
    "duration": 13,
    "start_time": "2022-01-29T14:01:08.879Z"
   },
   {
    "duration": 83,
    "start_time": "2022-01-29T14:01:08.894Z"
   },
   {
    "duration": -16682,
    "start_time": "2022-01-29T14:01:25.661Z"
   },
   {
    "duration": -16700,
    "start_time": "2022-01-29T14:01:25.680Z"
   },
   {
    "duration": -16718,
    "start_time": "2022-01-29T14:01:25.698Z"
   },
   {
    "duration": 20,
    "start_time": "2022-01-29T14:07:58.643Z"
   },
   {
    "duration": 335,
    "start_time": "2022-01-29T14:09:04.202Z"
   },
   {
    "duration": 20,
    "start_time": "2022-01-29T14:09:18.698Z"
   },
   {
    "duration": 20,
    "start_time": "2022-01-29T14:09:29.822Z"
   },
   {
    "duration": 19,
    "start_time": "2022-01-29T14:09:42.781Z"
   },
   {
    "duration": 221,
    "start_time": "2022-01-29T14:16:30.716Z"
   },
   {
    "duration": 241,
    "start_time": "2022-01-29T14:16:41.179Z"
   },
   {
    "duration": 256,
    "start_time": "2022-01-29T14:17:10.065Z"
   },
   {
    "duration": 273,
    "start_time": "2022-01-29T14:17:31.832Z"
   },
   {
    "duration": 1057,
    "start_time": "2022-01-29T14:18:03.129Z"
   },
   {
    "duration": 401,
    "start_time": "2022-01-29T14:18:04.188Z"
   },
   {
    "duration": 54,
    "start_time": "2022-01-29T14:18:04.591Z"
   },
   {
    "duration": 63,
    "start_time": "2022-01-29T14:18:04.648Z"
   },
   {
    "duration": 30,
    "start_time": "2022-01-29T14:18:04.713Z"
   },
   {
    "duration": 23,
    "start_time": "2022-01-29T14:18:04.744Z"
   },
   {
    "duration": 54,
    "start_time": "2022-01-29T14:18:04.769Z"
   },
   {
    "duration": 22,
    "start_time": "2022-01-29T14:18:04.825Z"
   },
   {
    "duration": 82,
    "start_time": "2022-01-29T14:18:04.849Z"
   },
   {
    "duration": 57,
    "start_time": "2022-01-29T14:18:04.933Z"
   },
   {
    "duration": 5,
    "start_time": "2022-01-29T14:18:04.992Z"
   },
   {
    "duration": 29,
    "start_time": "2022-01-29T14:18:04.999Z"
   },
   {
    "duration": 407,
    "start_time": "2022-01-29T14:18:05.030Z"
   },
   {
    "duration": 30,
    "start_time": "2022-01-29T14:18:05.439Z"
   },
   {
    "duration": 361,
    "start_time": "2022-01-29T14:18:05.470Z"
   },
   {
    "duration": 24,
    "start_time": "2022-01-29T14:18:05.833Z"
   },
   {
    "duration": 17,
    "start_time": "2022-01-29T14:18:05.859Z"
   },
   {
    "duration": 37,
    "start_time": "2022-01-29T14:18:05.877Z"
   },
   {
    "duration": 216,
    "start_time": "2022-01-29T14:18:05.915Z"
   },
   {
    "duration": 575,
    "start_time": "2022-01-29T14:18:06.133Z"
   },
   {
    "duration": 2,
    "start_time": "2022-01-29T14:18:06.712Z"
   },
   {
    "duration": 318,
    "start_time": "2022-01-29T14:18:06.715Z"
   },
   {
    "duration": -16620,
    "start_time": "2022-01-29T14:18:23.655Z"
   },
   {
    "duration": -16653,
    "start_time": "2022-01-29T14:18:23.689Z"
   },
   {
    "duration": -16677,
    "start_time": "2022-01-29T14:18:23.714Z"
   },
   {
    "duration": 14,
    "start_time": "2022-01-29T14:19:14.287Z"
   },
   {
    "duration": 14,
    "start_time": "2022-01-29T14:19:27.234Z"
   },
   {
    "duration": 18,
    "start_time": "2022-01-29T14:20:24.326Z"
   },
   {
    "duration": 15,
    "start_time": "2022-01-29T14:21:32.880Z"
   },
   {
    "duration": 443,
    "start_time": "2022-01-29T14:22:48.637Z"
   },
   {
    "duration": 34,
    "start_time": "2022-01-29T14:23:36.864Z"
   },
   {
    "duration": 231,
    "start_time": "2022-01-29T14:24:35.970Z"
   },
   {
    "duration": 10,
    "start_time": "2022-01-29T14:24:45.355Z"
   },
   {
    "duration": 14,
    "start_time": "2022-01-29T14:24:53.679Z"
   },
   {
    "duration": 378,
    "start_time": "2022-01-29T14:24:56.730Z"
   },
   {
    "duration": 75,
    "start_time": "2022-01-29T14:30:52.031Z"
   },
   {
    "duration": 8,
    "start_time": "2022-01-29T14:31:09.264Z"
   },
   {
    "duration": 28,
    "start_time": "2022-01-29T14:31:16.695Z"
   },
   {
    "duration": 11,
    "start_time": "2022-01-29T14:31:35.884Z"
   },
   {
    "duration": 7,
    "start_time": "2022-01-29T14:31:49.565Z"
   },
   {
    "duration": 61,
    "start_time": "2022-01-29T14:31:53.621Z"
   },
   {
    "duration": 266,
    "start_time": "2022-01-29T14:34:19.902Z"
   },
   {
    "duration": 15,
    "start_time": "2022-01-29T14:34:43.244Z"
   },
   {
    "duration": 26,
    "start_time": "2022-01-29T14:36:51.285Z"
   },
   {
    "duration": 15,
    "start_time": "2022-01-29T14:40:45.260Z"
   },
   {
    "duration": 15,
    "start_time": "2022-01-29T14:40:48.164Z"
   },
   {
    "duration": 14,
    "start_time": "2022-01-29T14:40:50.287Z"
   },
   {
    "duration": 59,
    "start_time": "2022-01-29T14:44:42.927Z"
   },
   {
    "duration": 4,
    "start_time": "2022-01-29T14:46:14.628Z"
   },
   {
    "duration": 59,
    "start_time": "2022-01-29T14:46:27.242Z"
   },
   {
    "duration": 61,
    "start_time": "2022-01-29T14:55:03.674Z"
   },
   {
    "duration": 34,
    "start_time": "2022-01-29T14:55:11.897Z"
   },
   {
    "duration": 233,
    "start_time": "2022-01-29T14:56:03.148Z"
   },
   {
    "duration": 77,
    "start_time": "2022-01-29T14:58:12.688Z"
   },
   {
    "duration": 68,
    "start_time": "2022-01-29T14:58:18.511Z"
   },
   {
    "duration": 218,
    "start_time": "2022-01-29T14:58:23.756Z"
   },
   {
    "duration": 247,
    "start_time": "2022-01-29T14:58:40.070Z"
   },
   {
    "duration": 246,
    "start_time": "2022-01-29T14:58:48.180Z"
   },
   {
    "duration": 240,
    "start_time": "2022-01-29T14:59:51.436Z"
   },
   {
    "duration": 2049,
    "start_time": "2022-01-29T15:01:44.548Z"
   },
   {
    "duration": 77,
    "start_time": "2022-01-29T15:09:09.443Z"
   },
   {
    "duration": 356,
    "start_time": "2022-01-29T15:09:21.491Z"
   },
   {
    "duration": 113,
    "start_time": "2022-01-29T15:09:52.824Z"
   },
   {
    "duration": 75,
    "start_time": "2022-01-29T15:10:14.103Z"
   },
   {
    "duration": 264,
    "start_time": "2022-01-29T15:10:28.024Z"
   },
   {
    "duration": 25,
    "start_time": "2022-01-29T15:10:51.928Z"
   },
   {
    "duration": 9,
    "start_time": "2022-01-29T15:11:08.568Z"
   },
   {
    "duration": 9,
    "start_time": "2022-01-29T15:11:20.809Z"
   },
   {
    "duration": 7,
    "start_time": "2022-01-29T15:11:33.218Z"
   },
   {
    "duration": 62,
    "start_time": "2022-01-29T15:12:18.214Z"
   },
   {
    "duration": 127,
    "start_time": "2022-01-29T15:12:53.073Z"
   },
   {
    "duration": 63,
    "start_time": "2022-01-29T15:13:46.788Z"
   },
   {
    "duration": 70,
    "start_time": "2022-01-29T15:15:52.658Z"
   },
   {
    "duration": 65,
    "start_time": "2022-01-29T15:17:28.423Z"
   },
   {
    "duration": 61,
    "start_time": "2022-01-29T15:17:52.318Z"
   },
   {
    "duration": 62,
    "start_time": "2022-01-29T15:19:10.038Z"
   },
   {
    "duration": 391,
    "start_time": "2022-01-29T15:20:52.503Z"
   },
   {
    "duration": 61,
    "start_time": "2022-01-29T15:21:33.948Z"
   },
   {
    "duration": 65,
    "start_time": "2022-01-29T15:22:10.394Z"
   },
   {
    "duration": 65,
    "start_time": "2022-01-29T15:22:56.586Z"
   },
   {
    "duration": 60,
    "start_time": "2022-01-29T15:24:01.392Z"
   },
   {
    "duration": 983,
    "start_time": "2022-01-29T15:48:49.999Z"
   },
   {
    "duration": 360,
    "start_time": "2022-01-29T15:48:50.984Z"
   },
   {
    "duration": 47,
    "start_time": "2022-01-29T15:48:51.345Z"
   },
   {
    "duration": 43,
    "start_time": "2022-01-29T15:48:51.394Z"
   },
   {
    "duration": 27,
    "start_time": "2022-01-29T15:48:51.439Z"
   },
   {
    "duration": 20,
    "start_time": "2022-01-29T15:48:51.468Z"
   },
   {
    "duration": 43,
    "start_time": "2022-01-29T15:48:51.490Z"
   },
   {
    "duration": 22,
    "start_time": "2022-01-29T15:48:51.536Z"
   },
   {
    "duration": 86,
    "start_time": "2022-01-29T15:48:51.560Z"
   },
   {
    "duration": 69,
    "start_time": "2022-01-29T15:48:51.648Z"
   },
   {
    "duration": 7,
    "start_time": "2022-01-29T15:48:51.718Z"
   },
   {
    "duration": 17,
    "start_time": "2022-01-29T15:48:51.727Z"
   },
   {
    "duration": 402,
    "start_time": "2022-01-29T15:48:51.746Z"
   },
   {
    "duration": 28,
    "start_time": "2022-01-29T15:48:52.150Z"
   },
   {
    "duration": 363,
    "start_time": "2022-01-29T15:48:52.180Z"
   },
   {
    "duration": 24,
    "start_time": "2022-01-29T15:48:52.545Z"
   },
   {
    "duration": 16,
    "start_time": "2022-01-29T15:48:52.571Z"
   },
   {
    "duration": 40,
    "start_time": "2022-01-29T15:48:52.589Z"
   },
   {
    "duration": 212,
    "start_time": "2022-01-29T15:48:52.631Z"
   },
   {
    "duration": 489,
    "start_time": "2022-01-29T15:48:52.845Z"
   },
   {
    "duration": -16555,
    "start_time": "2022-01-29T15:49:09.891Z"
   },
   {
    "duration": -16575,
    "start_time": "2022-01-29T15:49:09.912Z"
   },
   {
    "duration": -16591,
    "start_time": "2022-01-29T15:49:09.930Z"
   },
   {
    "duration": -16612,
    "start_time": "2022-01-29T15:49:09.952Z"
   },
   {
    "duration": -16628,
    "start_time": "2022-01-29T15:49:09.969Z"
   },
   {
    "duration": -16645,
    "start_time": "2022-01-29T15:49:09.987Z"
   },
   {
    "duration": -16662,
    "start_time": "2022-01-29T15:49:10.005Z"
   },
   {
    "duration": 454,
    "start_time": "2022-01-29T15:50:13.401Z"
   },
   {
    "duration": 566,
    "start_time": "2022-01-29T15:50:28.787Z"
   },
   {
    "duration": 941,
    "start_time": "2022-01-29T15:51:13.556Z"
   },
   {
    "duration": 371,
    "start_time": "2022-01-29T15:51:14.498Z"
   },
   {
    "duration": 50,
    "start_time": "2022-01-29T15:51:14.871Z"
   },
   {
    "duration": 45,
    "start_time": "2022-01-29T15:51:14.923Z"
   },
   {
    "duration": 47,
    "start_time": "2022-01-29T15:51:14.970Z"
   },
   {
    "duration": 21,
    "start_time": "2022-01-29T15:51:15.019Z"
   },
   {
    "duration": 33,
    "start_time": "2022-01-29T15:51:15.042Z"
   },
   {
    "duration": 36,
    "start_time": "2022-01-29T15:51:15.077Z"
   },
   {
    "duration": 71,
    "start_time": "2022-01-29T15:51:15.115Z"
   },
   {
    "duration": 70,
    "start_time": "2022-01-29T15:51:15.188Z"
   },
   {
    "duration": 7,
    "start_time": "2022-01-29T15:51:15.260Z"
   },
   {
    "duration": 17,
    "start_time": "2022-01-29T15:51:15.268Z"
   },
   {
    "duration": 405,
    "start_time": "2022-01-29T15:51:15.287Z"
   },
   {
    "duration": 43,
    "start_time": "2022-01-29T15:51:15.694Z"
   },
   {
    "duration": 361,
    "start_time": "2022-01-29T15:51:15.739Z"
   },
   {
    "duration": 33,
    "start_time": "2022-01-29T15:51:16.102Z"
   },
   {
    "duration": 17,
    "start_time": "2022-01-29T15:51:16.137Z"
   },
   {
    "duration": 18,
    "start_time": "2022-01-29T15:51:16.156Z"
   },
   {
    "duration": 253,
    "start_time": "2022-01-29T15:51:16.176Z"
   },
   {
    "duration": 582,
    "start_time": "2022-01-29T15:51:16.430Z"
   },
   {
    "duration": 16,
    "start_time": "2022-01-29T15:51:17.014Z"
   },
   {
    "duration": 317,
    "start_time": "2022-01-29T15:51:17.032Z"
   },
   {
    "duration": -16522,
    "start_time": "2022-01-29T15:51:33.872Z"
   },
   {
    "duration": -16554,
    "start_time": "2022-01-29T15:51:33.906Z"
   },
   {
    "duration": -16586,
    "start_time": "2022-01-29T15:51:33.939Z"
   },
   {
    "duration": -16619,
    "start_time": "2022-01-29T15:51:33.972Z"
   },
   {
    "duration": -16653,
    "start_time": "2022-01-29T15:51:34.007Z"
   },
   {
    "duration": 16,
    "start_time": "2022-01-29T15:51:32.888Z"
   },
   {
    "duration": 15,
    "start_time": "2022-01-29T15:51:36.238Z"
   },
   {
    "duration": 15,
    "start_time": "2022-01-29T15:51:39.504Z"
   },
   {
    "duration": 7,
    "start_time": "2022-01-29T15:52:03.279Z"
   },
   {
    "duration": 460,
    "start_time": "2022-01-29T15:52:06.941Z"
   },
   {
    "duration": 63,
    "start_time": "2022-01-29T15:52:25.629Z"
   },
   {
    "duration": 927,
    "start_time": "2022-01-29T16:17:44.259Z"
   },
   {
    "duration": 374,
    "start_time": "2022-01-29T16:17:45.187Z"
   },
   {
    "duration": 49,
    "start_time": "2022-01-29T16:17:45.563Z"
   },
   {
    "duration": 43,
    "start_time": "2022-01-29T16:17:45.614Z"
   },
   {
    "duration": 25,
    "start_time": "2022-01-29T16:17:45.659Z"
   },
   {
    "duration": 45,
    "start_time": "2022-01-29T16:17:45.686Z"
   },
   {
    "duration": 23,
    "start_time": "2022-01-29T16:17:45.732Z"
   },
   {
    "duration": 22,
    "start_time": "2022-01-29T16:17:45.757Z"
   },
   {
    "duration": 91,
    "start_time": "2022-01-29T16:17:45.781Z"
   },
   {
    "duration": 69,
    "start_time": "2022-01-29T16:17:45.873Z"
   },
   {
    "duration": 6,
    "start_time": "2022-01-29T16:17:45.944Z"
   },
   {
    "duration": 16,
    "start_time": "2022-01-29T16:17:45.951Z"
   },
   {
    "duration": 400,
    "start_time": "2022-01-29T16:17:45.969Z"
   },
   {
    "duration": 27,
    "start_time": "2022-01-29T16:17:46.371Z"
   },
   {
    "duration": 347,
    "start_time": "2022-01-29T16:17:46.399Z"
   },
   {
    "duration": 23,
    "start_time": "2022-01-29T16:17:46.748Z"
   },
   {
    "duration": 14,
    "start_time": "2022-01-29T16:17:46.772Z"
   },
   {
    "duration": 38,
    "start_time": "2022-01-29T16:17:46.787Z"
   },
   {
    "duration": 210,
    "start_time": "2022-01-29T16:17:46.826Z"
   },
   {
    "duration": 574,
    "start_time": "2022-01-29T16:17:47.038Z"
   },
   {
    "duration": 17,
    "start_time": "2022-01-29T16:17:47.614Z"
   },
   {
    "duration": 15,
    "start_time": "2022-01-29T16:17:47.632Z"
   },
   {
    "duration": 14,
    "start_time": "2022-01-29T16:17:47.651Z"
   },
   {
    "duration": 47,
    "start_time": "2022-01-29T16:17:47.666Z"
   },
   {
    "duration": 7,
    "start_time": "2022-01-29T16:17:47.715Z"
   },
   {
    "duration": 61,
    "start_time": "2022-01-29T16:17:47.724Z"
   },
   {
    "duration": 1260,
    "start_time": "2022-01-29T16:17:47.786Z"
   },
   {
    "duration": 8,
    "start_time": "2022-01-29T16:18:20.559Z"
   },
   {
    "duration": 362,
    "start_time": "2022-01-29T16:20:10.309Z"
   },
   {
    "duration": 214,
    "start_time": "2022-01-29T16:20:20.890Z"
   },
   {
    "duration": 238,
    "start_time": "2022-01-29T16:24:10.261Z"
   },
   {
    "duration": 15,
    "start_time": "2022-01-29T16:24:34.953Z"
   },
   {
    "duration": 24,
    "start_time": "2022-01-29T16:24:50.051Z"
   },
   {
    "duration": 19,
    "start_time": "2022-01-29T16:25:22.960Z"
   },
   {
    "duration": 19,
    "start_time": "2022-01-29T16:26:17.289Z"
   },
   {
    "duration": 20,
    "start_time": "2022-01-29T16:26:37.928Z"
   },
   {
    "duration": 33,
    "start_time": "2022-01-29T16:26:51.382Z"
   },
   {
    "duration": 225,
    "start_time": "2022-01-29T16:28:07.410Z"
   },
   {
    "duration": 233,
    "start_time": "2022-01-29T16:29:46.137Z"
   },
   {
    "duration": 234,
    "start_time": "2022-01-29T16:30:12.511Z"
   },
   {
    "duration": 222,
    "start_time": "2022-01-29T16:30:53.620Z"
   },
   {
    "duration": 1067,
    "start_time": "2022-01-29T16:31:20.614Z"
   },
   {
    "duration": 403,
    "start_time": "2022-01-29T16:31:21.683Z"
   },
   {
    "duration": 54,
    "start_time": "2022-01-29T16:31:22.088Z"
   },
   {
    "duration": 46,
    "start_time": "2022-01-29T16:31:22.143Z"
   },
   {
    "duration": 38,
    "start_time": "2022-01-29T16:31:22.190Z"
   },
   {
    "duration": 21,
    "start_time": "2022-01-29T16:31:22.230Z"
   },
   {
    "duration": 25,
    "start_time": "2022-01-29T16:31:22.252Z"
   },
   {
    "duration": 24,
    "start_time": "2022-01-29T16:31:22.311Z"
   },
   {
    "duration": 79,
    "start_time": "2022-01-29T16:31:22.337Z"
   },
   {
    "duration": 60,
    "start_time": "2022-01-29T16:31:22.417Z"
   },
   {
    "duration": 6,
    "start_time": "2022-01-29T16:31:22.478Z"
   },
   {
    "duration": 33,
    "start_time": "2022-01-29T16:31:22.486Z"
   },
   {
    "duration": 394,
    "start_time": "2022-01-29T16:31:22.521Z"
   },
   {
    "duration": 31,
    "start_time": "2022-01-29T16:31:22.916Z"
   },
   {
    "duration": 382,
    "start_time": "2022-01-29T16:31:22.949Z"
   },
   {
    "duration": 26,
    "start_time": "2022-01-29T16:31:23.333Z"
   },
   {
    "duration": 23,
    "start_time": "2022-01-29T16:31:23.361Z"
   },
   {
    "duration": 39,
    "start_time": "2022-01-29T16:31:23.385Z"
   },
   {
    "duration": 220,
    "start_time": "2022-01-29T16:31:23.426Z"
   },
   {
    "duration": 23,
    "start_time": "2022-01-29T16:31:23.648Z"
   },
   {
    "duration": 595,
    "start_time": "2022-01-29T16:31:23.673Z"
   },
   {
    "duration": 15,
    "start_time": "2022-01-29T16:31:24.269Z"
   },
   {
    "duration": 32,
    "start_time": "2022-01-29T16:31:24.287Z"
   },
   {
    "duration": 16,
    "start_time": "2022-01-29T16:31:24.321Z"
   },
   {
    "duration": 14,
    "start_time": "2022-01-29T16:31:24.338Z"
   },
   {
    "duration": 5,
    "start_time": "2022-01-29T16:31:24.354Z"
   },
   {
    "duration": 93,
    "start_time": "2022-01-29T16:31:24.361Z"
   },
   {
    "duration": 1257,
    "start_time": "2022-01-29T16:31:24.456Z"
   },
   {
    "duration": 25,
    "start_time": "2022-01-29T16:32:25.424Z"
   },
   {
    "duration": 19,
    "start_time": "2022-01-29T16:33:01.267Z"
   },
   {
    "duration": 17,
    "start_time": "2022-01-29T16:33:39.548Z"
   },
   {
    "duration": 5590,
    "start_time": "2022-01-29T16:34:20.089Z"
   },
   {
    "duration": 5529,
    "start_time": "2022-01-29T16:34:52.167Z"
   },
   {
    "duration": 19,
    "start_time": "2022-01-29T16:35:21.098Z"
   },
   {
    "duration": 16,
    "start_time": "2022-01-29T16:35:42.249Z"
   },
   {
    "duration": 18,
    "start_time": "2022-01-29T16:36:12.062Z"
   },
   {
    "duration": 19,
    "start_time": "2022-01-29T16:36:54.857Z"
   },
   {
    "duration": 17,
    "start_time": "2022-01-29T16:37:06.827Z"
   },
   {
    "duration": 19,
    "start_time": "2022-01-29T16:37:23.032Z"
   },
   {
    "duration": 257,
    "start_time": "2022-01-29T16:52:26.563Z"
   },
   {
    "duration": 278,
    "start_time": "2022-01-29T16:53:00.298Z"
   },
   {
    "duration": 65,
    "start_time": "2022-01-29T16:53:59.725Z"
   },
   {
    "duration": 66,
    "start_time": "2022-01-29T16:54:40.703Z"
   },
   {
    "duration": 372,
    "start_time": "2022-01-29T16:55:12.971Z"
   },
   {
    "duration": 103,
    "start_time": "2022-01-29T16:55:42.611Z"
   },
   {
    "duration": 163,
    "start_time": "2022-01-29T16:56:15.180Z"
   },
   {
    "duration": 86,
    "start_time": "2022-01-29T16:56:23.821Z"
   },
   {
    "duration": 68,
    "start_time": "2022-01-29T16:58:15.073Z"
   },
   {
    "duration": 63,
    "start_time": "2022-01-29T17:02:00.808Z"
   },
   {
    "duration": 427,
    "start_time": "2022-01-29T17:15:19.528Z"
   },
   {
    "duration": 2831,
    "start_time": "2022-01-29T17:17:51.236Z"
   },
   {
    "duration": 3046,
    "start_time": "2022-01-29T17:21:07.957Z"
   },
   {
    "duration": 396,
    "start_time": "2022-01-29T17:35:36.114Z"
   },
   {
    "duration": 632,
    "start_time": "2022-01-29T17:36:22.652Z"
   },
   {
    "duration": 126285,
    "start_time": "2022-01-29T17:36:43.635Z"
   },
   {
    "duration": 580,
    "start_time": "2022-01-29T17:39:41.343Z"
   },
   {
    "duration": 2957,
    "start_time": "2022-01-29T17:40:01.000Z"
   },
   {
    "duration": 604,
    "start_time": "2022-01-29T17:45:11.825Z"
   },
   {
    "duration": 603,
    "start_time": "2022-01-29T17:45:43.494Z"
   },
   {
    "duration": 576,
    "start_time": "2022-01-29T17:45:58.822Z"
   },
   {
    "duration": 571,
    "start_time": "2022-01-29T17:47:59.173Z"
   },
   {
    "duration": 391,
    "start_time": "2022-01-29T17:49:53.866Z"
   },
   {
    "duration": 945,
    "start_time": "2022-01-29T17:53:33.106Z"
   },
   {
    "duration": 3198,
    "start_time": "2022-01-29T17:53:55.363Z"
   },
   {
    "duration": 3226,
    "start_time": "2022-01-29T17:54:11.202Z"
   },
   {
    "duration": 2784,
    "start_time": "2022-01-29T17:55:45.216Z"
   },
   {
    "duration": 253,
    "start_time": "2022-01-29T17:57:28.873Z"
   },
   {
    "duration": 2721,
    "start_time": "2022-01-29T17:57:40.934Z"
   },
   {
    "duration": 309,
    "start_time": "2022-01-29T17:58:43.618Z"
   },
   {
    "duration": 1198,
    "start_time": "2022-01-29T17:59:27.359Z"
   },
   {
    "duration": 72,
    "start_time": "2022-01-29T18:13:03.677Z"
   },
   {
    "duration": 3,
    "start_time": "2022-01-29T18:22:43.984Z"
   },
   {
    "duration": 260,
    "start_time": "2022-01-29T18:24:04.328Z"
   },
   {
    "duration": 5,
    "start_time": "2022-01-29T18:24:42.616Z"
   },
   {
    "duration": 5,
    "start_time": "2022-01-29T18:30:56.500Z"
   },
   {
    "duration": 243,
    "start_time": "2022-01-29T18:31:34.528Z"
   },
   {
    "duration": 6354,
    "start_time": "2022-01-29T18:32:12.869Z"
   },
   {
    "duration": 11,
    "start_time": "2022-01-29T18:32:35.345Z"
   },
   {
    "duration": 4,
    "start_time": "2022-01-29T18:42:01.063Z"
   },
   {
    "duration": 1014,
    "start_time": "2022-01-29T18:52:30.472Z"
   },
   {
    "duration": 410,
    "start_time": "2022-01-29T18:52:31.488Z"
   },
   {
    "duration": 53,
    "start_time": "2022-01-29T18:52:31.900Z"
   },
   {
    "duration": 58,
    "start_time": "2022-01-29T18:52:31.955Z"
   },
   {
    "duration": 26,
    "start_time": "2022-01-29T18:52:32.015Z"
   },
   {
    "duration": 20,
    "start_time": "2022-01-29T18:52:32.042Z"
   },
   {
    "duration": 49,
    "start_time": "2022-01-29T18:52:32.063Z"
   },
   {
    "duration": 22,
    "start_time": "2022-01-29T18:52:32.115Z"
   },
   {
    "duration": 80,
    "start_time": "2022-01-29T18:52:32.139Z"
   },
   {
    "duration": 59,
    "start_time": "2022-01-29T18:52:32.221Z"
   },
   {
    "duration": 6,
    "start_time": "2022-01-29T18:52:32.282Z"
   },
   {
    "duration": 33,
    "start_time": "2022-01-29T18:52:32.289Z"
   },
   {
    "duration": 389,
    "start_time": "2022-01-29T18:52:32.323Z"
   },
   {
    "duration": 28,
    "start_time": "2022-01-29T18:52:32.713Z"
   },
   {
    "duration": 350,
    "start_time": "2022-01-29T18:52:32.742Z"
   },
   {
    "duration": 31,
    "start_time": "2022-01-29T18:52:33.093Z"
   },
   {
    "duration": 20,
    "start_time": "2022-01-29T18:52:33.126Z"
   },
   {
    "duration": 17,
    "start_time": "2022-01-29T18:52:33.148Z"
   },
   {
    "duration": 234,
    "start_time": "2022-01-29T18:52:33.166Z"
   },
   {
    "duration": 21,
    "start_time": "2022-01-29T18:52:33.402Z"
   },
   {
    "duration": 586,
    "start_time": "2022-01-29T18:52:33.425Z"
   },
   {
    "duration": 14,
    "start_time": "2022-01-29T18:52:34.013Z"
   },
   {
    "duration": 16,
    "start_time": "2022-01-29T18:52:34.029Z"
   },
   {
    "duration": 17,
    "start_time": "2022-01-29T18:52:34.046Z"
   },
   {
    "duration": 14,
    "start_time": "2022-01-29T18:52:34.064Z"
   },
   {
    "duration": 6,
    "start_time": "2022-01-29T18:52:34.079Z"
   },
   {
    "duration": 2749,
    "start_time": "2022-01-29T18:52:34.086Z"
   },
   {
    "duration": 5,
    "start_time": "2022-01-29T18:52:36.837Z"
   },
   {
    "duration": 93,
    "start_time": "2022-01-29T18:52:36.843Z"
   },
   {
    "duration": 380,
    "start_time": "2022-01-30T11:38:00.670Z"
   },
   {
    "duration": 305,
    "start_time": "2022-01-30T11:41:32.709Z"
   },
   {
    "duration": 1510,
    "start_time": "2022-01-30T11:41:58.090Z"
   },
   {
    "duration": 603,
    "start_time": "2022-01-30T11:41:59.602Z"
   },
   {
    "duration": 76,
    "start_time": "2022-01-30T11:42:00.208Z"
   },
   {
    "duration": 84,
    "start_time": "2022-01-30T11:42:00.287Z"
   },
   {
    "duration": 37,
    "start_time": "2022-01-30T11:42:00.374Z"
   },
   {
    "duration": 77,
    "start_time": "2022-01-30T11:42:00.414Z"
   },
   {
    "duration": 83,
    "start_time": "2022-01-30T11:42:00.494Z"
   },
   {
    "duration": 54,
    "start_time": "2022-01-30T11:42:00.582Z"
   },
   {
    "duration": 125,
    "start_time": "2022-01-30T11:42:00.640Z"
   },
   {
    "duration": 101,
    "start_time": "2022-01-30T11:42:00.768Z"
   },
   {
    "duration": 9,
    "start_time": "2022-01-30T11:42:00.872Z"
   },
   {
    "duration": 36,
    "start_time": "2022-01-30T11:42:00.883Z"
   },
   {
    "duration": 827,
    "start_time": "2022-01-30T11:42:00.921Z"
   },
   {
    "duration": 59,
    "start_time": "2022-01-30T11:42:01.750Z"
   },
   {
    "duration": 742,
    "start_time": "2022-01-30T11:42:01.811Z"
   },
   {
    "duration": 68,
    "start_time": "2022-01-30T11:42:02.555Z"
   },
   {
    "duration": 57,
    "start_time": "2022-01-30T11:42:02.625Z"
   },
   {
    "duration": 46,
    "start_time": "2022-01-30T11:42:02.685Z"
   },
   {
    "duration": 428,
    "start_time": "2022-01-30T11:42:02.734Z"
   },
   {
    "duration": 1086,
    "start_time": "2022-01-30T11:42:03.164Z"
   },
   {
    "duration": 36,
    "start_time": "2022-01-30T11:42:04.253Z"
   },
   {
    "duration": 25,
    "start_time": "2022-01-30T11:42:04.291Z"
   },
   {
    "duration": 53,
    "start_time": "2022-01-30T11:42:04.320Z"
   },
   {
    "duration": 28,
    "start_time": "2022-01-30T11:42:04.377Z"
   },
   {
    "duration": 119,
    "start_time": "2022-01-30T11:42:04.407Z"
   },
   {
    "duration": -17145,
    "start_time": "2022-01-30T11:42:21.674Z"
   },
   {
    "duration": -17165,
    "start_time": "2022-01-30T11:42:21.695Z"
   },
   {
    "duration": -17184,
    "start_time": "2022-01-30T11:42:21.716Z"
   },
   {
    "duration": -17205,
    "start_time": "2022-01-30T11:42:21.738Z"
   },
   {
    "duration": -17221,
    "start_time": "2022-01-30T11:42:21.756Z"
   },
   {
    "duration": 819,
    "start_time": "2022-01-30T11:42:38.162Z"
   },
   {
    "duration": 1024,
    "start_time": "2022-01-30T11:44:07.990Z"
   },
   {
    "duration": 340,
    "start_time": "2022-01-30T11:44:45.757Z"
   },
   {
    "duration": 303,
    "start_time": "2022-01-30T11:44:53.417Z"
   },
   {
    "duration": 785,
    "start_time": "2022-01-30T11:45:59.284Z"
   },
   {
    "duration": 718,
    "start_time": "2022-01-30T11:46:16.616Z"
   },
   {
    "duration": 2043,
    "start_time": "2022-01-30T11:46:29.738Z"
   },
   {
    "duration": 554,
    "start_time": "2022-01-30T11:46:31.785Z"
   },
   {
    "duration": 82,
    "start_time": "2022-01-30T11:46:32.342Z"
   },
   {
    "duration": 85,
    "start_time": "2022-01-30T11:46:32.427Z"
   },
   {
    "duration": 38,
    "start_time": "2022-01-30T11:46:32.515Z"
   },
   {
    "duration": 43,
    "start_time": "2022-01-30T11:46:32.571Z"
   },
   {
    "duration": 75,
    "start_time": "2022-01-30T11:46:32.616Z"
   },
   {
    "duration": 41,
    "start_time": "2022-01-30T11:46:32.696Z"
   },
   {
    "duration": 137,
    "start_time": "2022-01-30T11:46:32.740Z"
   },
   {
    "duration": 102,
    "start_time": "2022-01-30T11:46:32.882Z"
   },
   {
    "duration": 8,
    "start_time": "2022-01-30T11:46:32.987Z"
   },
   {
    "duration": 31,
    "start_time": "2022-01-30T11:46:32.998Z"
   },
   {
    "duration": 866,
    "start_time": "2022-01-30T11:46:33.031Z"
   },
   {
    "duration": 47,
    "start_time": "2022-01-30T11:46:33.900Z"
   },
   {
    "duration": 744,
    "start_time": "2022-01-30T11:46:33.950Z"
   },
   {
    "duration": 42,
    "start_time": "2022-01-30T11:46:34.697Z"
   },
   {
    "duration": 60,
    "start_time": "2022-01-30T11:46:34.741Z"
   },
   {
    "duration": 45,
    "start_time": "2022-01-30T11:46:34.804Z"
   },
   {
    "duration": 661,
    "start_time": "2022-01-30T11:46:34.871Z"
   },
   {
    "duration": 1198,
    "start_time": "2022-01-30T11:46:35.535Z"
   },
   {
    "duration": 57,
    "start_time": "2022-01-30T11:46:36.736Z"
   },
   {
    "duration": 36,
    "start_time": "2022-01-30T11:46:36.797Z"
   },
   {
    "duration": 55,
    "start_time": "2022-01-30T11:46:36.838Z"
   },
   {
    "duration": 25,
    "start_time": "2022-01-30T11:46:36.897Z"
   },
   {
    "duration": 1001,
    "start_time": "2022-01-30T11:46:36.925Z"
   },
   {
    "duration": -17139,
    "start_time": "2022-01-30T11:46:55.067Z"
   },
   {
    "duration": -17155,
    "start_time": "2022-01-30T11:46:55.085Z"
   },
   {
    "duration": -17169,
    "start_time": "2022-01-30T11:46:55.101Z"
   },
   {
    "duration": -17189,
    "start_time": "2022-01-30T11:46:55.123Z"
   },
   {
    "duration": 436,
    "start_time": "2022-01-30T11:46:53.153Z"
   },
   {
    "duration": 504,
    "start_time": "2022-01-30T11:47:30.851Z"
   },
   {
    "duration": 1539,
    "start_time": "2022-01-30T11:47:54.710Z"
   },
   {
    "duration": 569,
    "start_time": "2022-01-30T11:47:56.251Z"
   },
   {
    "duration": 78,
    "start_time": "2022-01-30T11:47:56.823Z"
   },
   {
    "duration": 280,
    "start_time": "2022-01-30T11:47:56.904Z"
   },
   {
    "duration": 78,
    "start_time": "2022-01-30T11:47:57.186Z"
   },
   {
    "duration": 49,
    "start_time": "2022-01-30T11:47:57.266Z"
   },
   {
    "duration": 40,
    "start_time": "2022-01-30T11:47:57.317Z"
   },
   {
    "duration": 44,
    "start_time": "2022-01-30T11:47:57.375Z"
   },
   {
    "duration": 121,
    "start_time": "2022-01-30T11:47:57.422Z"
   },
   {
    "duration": 97,
    "start_time": "2022-01-30T11:47:57.546Z"
   },
   {
    "duration": 8,
    "start_time": "2022-01-30T11:47:57.645Z"
   },
   {
    "duration": 43,
    "start_time": "2022-01-30T11:47:57.655Z"
   },
   {
    "duration": 807,
    "start_time": "2022-01-30T11:47:57.701Z"
   },
   {
    "duration": 64,
    "start_time": "2022-01-30T11:47:58.512Z"
   },
   {
    "duration": 740,
    "start_time": "2022-01-30T11:47:58.578Z"
   },
   {
    "duration": 53,
    "start_time": "2022-01-30T11:47:59.321Z"
   },
   {
    "duration": 37,
    "start_time": "2022-01-30T11:47:59.376Z"
   },
   {
    "duration": 55,
    "start_time": "2022-01-30T11:47:59.416Z"
   },
   {
    "duration": 427,
    "start_time": "2022-01-30T11:47:59.473Z"
   },
   {
    "duration": 1068,
    "start_time": "2022-01-30T11:47:59.902Z"
   },
   {
    "duration": 31,
    "start_time": "2022-01-30T11:48:00.974Z"
   },
   {
    "duration": 67,
    "start_time": "2022-01-30T11:48:01.009Z"
   },
   {
    "duration": 36,
    "start_time": "2022-01-30T11:48:01.083Z"
   },
   {
    "duration": 64,
    "start_time": "2022-01-30T11:48:01.122Z"
   },
   {
    "duration": 901,
    "start_time": "2022-01-30T11:48:01.189Z"
   },
   {
    "duration": 7,
    "start_time": "2022-01-30T11:48:02.092Z"
   },
   {
    "duration": 4209,
    "start_time": "2022-01-30T11:48:02.101Z"
   },
   {
    "duration": 6,
    "start_time": "2022-01-30T11:48:06.313Z"
   },
   {
    "duration": 22,
    "start_time": "2022-01-30T11:48:06.321Z"
   },
   {
    "duration": 491,
    "start_time": "2022-01-30T11:49:20.766Z"
   },
   {
    "duration": 1484,
    "start_time": "2022-01-30T11:49:41.077Z"
   },
   {
    "duration": 587,
    "start_time": "2022-01-30T11:49:42.564Z"
   },
   {
    "duration": 81,
    "start_time": "2022-01-30T11:49:43.155Z"
   },
   {
    "duration": 78,
    "start_time": "2022-01-30T11:49:43.239Z"
   },
   {
    "duration": 57,
    "start_time": "2022-01-30T11:49:43.320Z"
   },
   {
    "duration": 35,
    "start_time": "2022-01-30T11:49:43.382Z"
   },
   {
    "duration": 79,
    "start_time": "2022-01-30T11:49:43.420Z"
   },
   {
    "duration": 37,
    "start_time": "2022-01-30T11:49:43.503Z"
   },
   {
    "duration": 133,
    "start_time": "2022-01-30T11:49:43.544Z"
   },
   {
    "duration": 98,
    "start_time": "2022-01-30T11:49:43.680Z"
   },
   {
    "duration": 7,
    "start_time": "2022-01-30T11:49:43.782Z"
   },
   {
    "duration": 27,
    "start_time": "2022-01-30T11:49:43.792Z"
   },
   {
    "duration": 870,
    "start_time": "2022-01-30T11:49:43.822Z"
   },
   {
    "duration": 49,
    "start_time": "2022-01-30T11:49:44.694Z"
   },
   {
    "duration": 857,
    "start_time": "2022-01-30T11:49:44.746Z"
   },
   {
    "duration": 43,
    "start_time": "2022-01-30T11:49:45.605Z"
   },
   {
    "duration": 194,
    "start_time": "2022-01-30T11:49:45.650Z"
   },
   {
    "duration": 96,
    "start_time": "2022-01-30T11:49:45.846Z"
   },
   {
    "duration": 391,
    "start_time": "2022-01-30T11:49:45.944Z"
   },
   {
    "duration": 992,
    "start_time": "2022-01-30T11:49:46.338Z"
   },
   {
    "duration": 48,
    "start_time": "2022-01-30T11:49:47.333Z"
   },
   {
    "duration": 26,
    "start_time": "2022-01-30T11:49:47.385Z"
   },
   {
    "duration": 26,
    "start_time": "2022-01-30T11:49:47.413Z"
   },
   {
    "duration": 59,
    "start_time": "2022-01-30T11:49:47.441Z"
   },
   {
    "duration": 1031,
    "start_time": "2022-01-30T11:49:47.503Z"
   },
   {
    "duration": 8,
    "start_time": "2022-01-30T11:49:48.541Z"
   },
   {
    "duration": 4122,
    "start_time": "2022-01-30T11:49:48.552Z"
   },
   {
    "duration": 9,
    "start_time": "2022-01-30T11:49:52.678Z"
   },
   {
    "duration": 20,
    "start_time": "2022-01-30T11:49:52.690Z"
   },
   {
    "duration": 401,
    "start_time": "2022-01-30T11:52:03.451Z"
   },
   {
    "duration": 412,
    "start_time": "2022-01-30T11:52:08.681Z"
   },
   {
    "duration": 401,
    "start_time": "2022-01-30T11:55:17.743Z"
   },
   {
    "duration": 1845,
    "start_time": "2022-01-30T11:55:31.459Z"
   },
   {
    "duration": 611,
    "start_time": "2022-01-30T11:55:33.307Z"
   },
   {
    "duration": 85,
    "start_time": "2022-01-30T11:55:33.921Z"
   },
   {
    "duration": 89,
    "start_time": "2022-01-30T11:55:34.008Z"
   },
   {
    "duration": 39,
    "start_time": "2022-01-30T11:55:34.100Z"
   },
   {
    "duration": 61,
    "start_time": "2022-01-30T11:55:34.142Z"
   },
   {
    "duration": 65,
    "start_time": "2022-01-30T11:55:34.205Z"
   },
   {
    "duration": 39,
    "start_time": "2022-01-30T11:55:34.278Z"
   },
   {
    "duration": 125,
    "start_time": "2022-01-30T11:55:34.320Z"
   },
   {
    "duration": 102,
    "start_time": "2022-01-30T11:55:34.447Z"
   },
   {
    "duration": 17,
    "start_time": "2022-01-30T11:55:34.552Z"
   },
   {
    "duration": 33,
    "start_time": "2022-01-30T11:55:34.577Z"
   },
   {
    "duration": 923,
    "start_time": "2022-01-30T11:55:34.613Z"
   },
   {
    "duration": 57,
    "start_time": "2022-01-30T11:55:35.538Z"
   },
   {
    "duration": 785,
    "start_time": "2022-01-30T11:55:35.598Z"
   },
   {
    "duration": 40,
    "start_time": "2022-01-30T11:55:36.386Z"
   },
   {
    "duration": 242,
    "start_time": "2022-01-30T11:55:36.429Z"
   },
   {
    "duration": 93,
    "start_time": "2022-01-30T11:55:36.674Z"
   },
   {
    "duration": 447,
    "start_time": "2022-01-30T11:55:36.770Z"
   },
   {
    "duration": 1369,
    "start_time": "2022-01-30T11:55:37.220Z"
   },
   {
    "duration": 29,
    "start_time": "2022-01-30T11:55:38.591Z"
   },
   {
    "duration": 56,
    "start_time": "2022-01-30T11:55:38.622Z"
   },
   {
    "duration": 26,
    "start_time": "2022-01-30T11:55:38.687Z"
   },
   {
    "duration": 23,
    "start_time": "2022-01-30T11:55:38.716Z"
   },
   {
    "duration": 880,
    "start_time": "2022-01-30T11:55:38.783Z"
   },
   {
    "duration": 16,
    "start_time": "2022-01-30T11:55:39.669Z"
   },
   {
    "duration": 4091,
    "start_time": "2022-01-30T11:55:39.688Z"
   },
   {
    "duration": 9,
    "start_time": "2022-01-30T11:55:43.783Z"
   },
   {
    "duration": 25,
    "start_time": "2022-01-30T11:55:43.794Z"
   },
   {
    "duration": 8472,
    "start_time": "2022-01-30T11:56:18.949Z"
   },
   {
    "duration": 7572,
    "start_time": "2022-01-30T11:56:43.366Z"
   },
   {
    "duration": 8174,
    "start_time": "2022-01-30T11:57:54.552Z"
   },
   {
    "duration": 7844,
    "start_time": "2022-01-30T12:08:37.519Z"
   },
   {
    "duration": 321,
    "start_time": "2022-01-30T12:09:06.211Z"
   },
   {
    "duration": 8222,
    "start_time": "2022-01-30T12:09:44.534Z"
   },
   {
    "duration": 1426,
    "start_time": "2022-01-30T12:52:58.095Z"
   },
   {
    "duration": 632,
    "start_time": "2022-01-30T12:52:59.524Z"
   },
   {
    "duration": 78,
    "start_time": "2022-01-30T12:53:00.159Z"
   },
   {
    "duration": 84,
    "start_time": "2022-01-30T12:53:00.239Z"
   },
   {
    "duration": 65,
    "start_time": "2022-01-30T12:53:00.325Z"
   },
   {
    "duration": 38,
    "start_time": "2022-01-30T12:53:00.393Z"
   },
   {
    "duration": 75,
    "start_time": "2022-01-30T12:53:00.434Z"
   },
   {
    "duration": 65,
    "start_time": "2022-01-30T12:53:00.512Z"
   },
   {
    "duration": 130,
    "start_time": "2022-01-30T12:53:00.583Z"
   },
   {
    "duration": 104,
    "start_time": "2022-01-30T12:53:00.715Z"
   },
   {
    "duration": 8,
    "start_time": "2022-01-30T12:53:00.821Z"
   },
   {
    "duration": 60,
    "start_time": "2022-01-30T12:53:00.831Z"
   },
   {
    "duration": 883,
    "start_time": "2022-01-30T12:53:00.893Z"
   },
   {
    "duration": 54,
    "start_time": "2022-01-30T12:53:01.779Z"
   },
   {
    "duration": 1374,
    "start_time": "2022-01-30T12:53:01.836Z"
   },
   {
    "duration": 40,
    "start_time": "2022-01-30T12:53:03.212Z"
   },
   {
    "duration": 56,
    "start_time": "2022-01-30T12:53:03.254Z"
   },
   {
    "duration": 61,
    "start_time": "2022-01-30T12:53:03.313Z"
   },
   {
    "duration": 733,
    "start_time": "2022-01-30T12:53:03.376Z"
   },
   {
    "duration": 1657,
    "start_time": "2022-01-30T12:53:04.112Z"
   },
   {
    "duration": 30,
    "start_time": "2022-01-30T12:53:05.772Z"
   },
   {
    "duration": 23,
    "start_time": "2022-01-30T12:53:05.805Z"
   },
   {
    "duration": 61,
    "start_time": "2022-01-30T12:53:05.832Z"
   },
   {
    "duration": 28,
    "start_time": "2022-01-30T12:53:05.895Z"
   },
   {
    "duration": 8,
    "start_time": "2022-01-30T12:53:05.925Z"
   },
   {
    "duration": 38,
    "start_time": "2022-01-30T12:53:05.936Z"
   },
   {
    "duration": 33,
    "start_time": "2022-01-30T12:53:05.979Z"
   },
   {
    "duration": 428,
    "start_time": "2022-01-30T13:02:05.128Z"
   },
   {
    "duration": 18,
    "start_time": "2022-01-30T13:02:45.077Z"
   },
   {
    "duration": 39,
    "start_time": "2022-01-30T13:04:15.445Z"
   },
   {
    "duration": 1002,
    "start_time": "2022-01-30T13:04:56.015Z"
   },
   {
    "duration": 1411,
    "start_time": "2022-01-30T13:08:05.434Z"
   },
   {
    "duration": 572,
    "start_time": "2022-01-30T13:08:06.848Z"
   },
   {
    "duration": 76,
    "start_time": "2022-01-30T13:08:07.423Z"
   },
   {
    "duration": 85,
    "start_time": "2022-01-30T13:08:07.501Z"
   },
   {
    "duration": 38,
    "start_time": "2022-01-30T13:08:07.589Z"
   },
   {
    "duration": 67,
    "start_time": "2022-01-30T13:08:07.629Z"
   },
   {
    "duration": 42,
    "start_time": "2022-01-30T13:08:07.699Z"
   },
   {
    "duration": 41,
    "start_time": "2022-01-30T13:08:07.774Z"
   },
   {
    "duration": 135,
    "start_time": "2022-01-30T13:08:07.818Z"
   },
   {
    "duration": 101,
    "start_time": "2022-01-30T13:08:07.955Z"
   },
   {
    "duration": 18,
    "start_time": "2022-01-30T13:08:08.059Z"
   },
   {
    "duration": 30,
    "start_time": "2022-01-30T13:08:08.081Z"
   },
   {
    "duration": 891,
    "start_time": "2022-01-30T13:08:08.114Z"
   },
   {
    "duration": 46,
    "start_time": "2022-01-30T13:08:09.008Z"
   },
   {
    "duration": 834,
    "start_time": "2022-01-30T13:08:09.057Z"
   },
   {
    "duration": 41,
    "start_time": "2022-01-30T13:08:09.894Z"
   },
   {
    "duration": 64,
    "start_time": "2022-01-30T13:08:09.938Z"
   },
   {
    "duration": 29,
    "start_time": "2022-01-30T13:08:10.005Z"
   },
   {
    "duration": 410,
    "start_time": "2022-01-30T13:08:10.036Z"
   },
   {
    "duration": 1232,
    "start_time": "2022-01-30T13:08:10.448Z"
   },
   {
    "duration": 27,
    "start_time": "2022-01-30T13:08:11.682Z"
   },
   {
    "duration": 23,
    "start_time": "2022-01-30T13:08:11.711Z"
   },
   {
    "duration": 83,
    "start_time": "2022-01-30T13:08:11.738Z"
   },
   {
    "duration": 128,
    "start_time": "2022-01-30T13:08:11.827Z"
   },
   {
    "duration": 42,
    "start_time": "2022-01-30T13:08:11.958Z"
   },
   {
    "duration": 1067,
    "start_time": "2022-01-30T13:08:12.002Z"
   },
   {
    "duration": 12,
    "start_time": "2022-01-30T13:08:13.072Z"
   },
   {
    "duration": 21,
    "start_time": "2022-01-30T13:08:13.088Z"
   },
   {
    "duration": 22,
    "start_time": "2022-01-30T13:08:13.111Z"
   },
   {
    "duration": 8,
    "start_time": "2022-01-30T13:29:15.341Z"
   },
   {
    "duration": 1374,
    "start_time": "2022-01-30T13:29:27.988Z"
   },
   {
    "duration": 575,
    "start_time": "2022-01-30T13:29:29.368Z"
   },
   {
    "duration": 74,
    "start_time": "2022-01-30T13:29:29.945Z"
   },
   {
    "duration": 82,
    "start_time": "2022-01-30T13:29:30.023Z"
   },
   {
    "duration": 72,
    "start_time": "2022-01-30T13:29:30.107Z"
   },
   {
    "duration": 41,
    "start_time": "2022-01-30T13:29:30.182Z"
   },
   {
    "duration": 77,
    "start_time": "2022-01-30T13:29:30.226Z"
   },
   {
    "duration": 37,
    "start_time": "2022-01-30T13:29:30.307Z"
   },
   {
    "duration": 108,
    "start_time": "2022-01-30T13:29:30.371Z"
   },
   {
    "duration": 96,
    "start_time": "2022-01-30T13:29:30.482Z"
   },
   {
    "duration": 8,
    "start_time": "2022-01-30T13:29:30.580Z"
   },
   {
    "duration": 37,
    "start_time": "2022-01-30T13:29:30.590Z"
   },
   {
    "duration": 921,
    "start_time": "2022-01-30T13:29:30.630Z"
   },
   {
    "duration": 71,
    "start_time": "2022-01-30T13:29:31.554Z"
   },
   {
    "duration": 1207,
    "start_time": "2022-01-30T13:29:31.628Z"
   },
   {
    "duration": 76,
    "start_time": "2022-01-30T13:29:32.838Z"
   },
   {
    "duration": 63,
    "start_time": "2022-01-30T13:29:32.917Z"
   },
   {
    "duration": 42,
    "start_time": "2022-01-30T13:29:32.983Z"
   },
   {
    "duration": 388,
    "start_time": "2022-01-30T13:29:33.028Z"
   },
   {
    "duration": 940,
    "start_time": "2022-01-30T13:29:33.419Z"
   },
   {
    "duration": 37,
    "start_time": "2022-01-30T13:29:34.362Z"
   },
   {
    "duration": 67,
    "start_time": "2022-01-30T13:29:34.402Z"
   },
   {
    "duration": 33,
    "start_time": "2022-01-30T13:29:34.476Z"
   },
   {
    "duration": 61,
    "start_time": "2022-01-30T13:29:34.512Z"
   },
   {
    "duration": 48,
    "start_time": "2022-01-30T13:29:34.577Z"
   },
   {
    "duration": 1411,
    "start_time": "2022-01-30T13:29:34.628Z"
   },
   {
    "duration": 8,
    "start_time": "2022-01-30T13:29:36.042Z"
   },
   {
    "duration": 22,
    "start_time": "2022-01-30T13:29:36.052Z"
   },
   {
    "duration": 25,
    "start_time": "2022-01-30T13:29:36.077Z"
   },
   {
    "duration": 1568,
    "start_time": "2022-01-30T13:34:20.251Z"
   },
   {
    "duration": 577,
    "start_time": "2022-01-30T13:34:21.822Z"
   },
   {
    "duration": 105,
    "start_time": "2022-01-30T13:34:22.402Z"
   },
   {
    "duration": 91,
    "start_time": "2022-01-30T13:34:22.511Z"
   },
   {
    "duration": 39,
    "start_time": "2022-01-30T13:34:22.605Z"
   },
   {
    "duration": 36,
    "start_time": "2022-01-30T13:34:22.669Z"
   },
   {
    "duration": 74,
    "start_time": "2022-01-30T13:34:22.707Z"
   },
   {
    "duration": 38,
    "start_time": "2022-01-30T13:34:22.785Z"
   },
   {
    "duration": 171,
    "start_time": "2022-01-30T13:34:22.827Z"
   },
   {
    "duration": 124,
    "start_time": "2022-01-30T13:34:23.000Z"
   },
   {
    "duration": 10,
    "start_time": "2022-01-30T13:34:23.127Z"
   },
   {
    "duration": 46,
    "start_time": "2022-01-30T13:34:23.140Z"
   },
   {
    "duration": 792,
    "start_time": "2022-01-30T13:34:23.189Z"
   },
   {
    "duration": 45,
    "start_time": "2022-01-30T13:34:23.983Z"
   },
   {
    "duration": 746,
    "start_time": "2022-01-30T13:34:24.030Z"
   },
   {
    "duration": 40,
    "start_time": "2022-01-30T13:34:24.778Z"
   },
   {
    "duration": 62,
    "start_time": "2022-01-30T13:34:24.821Z"
   },
   {
    "duration": 29,
    "start_time": "2022-01-30T13:34:24.886Z"
   },
   {
    "duration": 389,
    "start_time": "2022-01-30T13:34:24.917Z"
   },
   {
    "duration": 926,
    "start_time": "2022-01-30T13:34:25.309Z"
   },
   {
    "duration": 36,
    "start_time": "2022-01-30T13:34:26.238Z"
   },
   {
    "duration": 23,
    "start_time": "2022-01-30T13:34:26.276Z"
   },
   {
    "duration": 23,
    "start_time": "2022-01-30T13:34:26.303Z"
   },
   {
    "duration": 60,
    "start_time": "2022-01-30T13:34:26.329Z"
   },
   {
    "duration": 16,
    "start_time": "2022-01-30T13:34:26.392Z"
   },
   {
    "duration": 1085,
    "start_time": "2022-01-30T13:34:26.411Z"
   },
   {
    "duration": 9,
    "start_time": "2022-01-30T13:34:27.499Z"
   },
   {
    "duration": 11,
    "start_time": "2022-01-30T13:34:27.511Z"
   },
   {
    "duration": 49,
    "start_time": "2022-01-30T13:34:27.525Z"
   },
   {
    "duration": 20,
    "start_time": "2022-01-30T13:36:01.654Z"
   },
   {
    "duration": 15,
    "start_time": "2022-01-30T13:36:20.842Z"
   },
   {
    "duration": 554,
    "start_time": "2022-01-30T13:36:35.860Z"
   },
   {
    "duration": 303,
    "start_time": "2022-01-30T13:36:42.618Z"
   },
   {
    "duration": 19,
    "start_time": "2022-01-30T13:36:52.077Z"
   },
   {
    "duration": 18,
    "start_time": "2022-01-30T13:39:54.084Z"
   },
   {
    "duration": 25,
    "start_time": "2022-01-30T13:40:02.602Z"
   },
   {
    "duration": 20,
    "start_time": "2022-01-30T13:40:13.370Z"
   },
   {
    "duration": 1954,
    "start_time": "2022-01-30T13:40:25.410Z"
   },
   {
    "duration": 650,
    "start_time": "2022-01-30T13:40:27.371Z"
   },
   {
    "duration": 72,
    "start_time": "2022-01-30T13:40:28.025Z"
   },
   {
    "duration": 95,
    "start_time": "2022-01-30T13:40:28.101Z"
   },
   {
    "duration": 38,
    "start_time": "2022-01-30T13:40:28.198Z"
   },
   {
    "duration": 62,
    "start_time": "2022-01-30T13:40:28.239Z"
   },
   {
    "duration": 37,
    "start_time": "2022-01-30T13:40:28.303Z"
   },
   {
    "duration": 36,
    "start_time": "2022-01-30T13:40:28.371Z"
   },
   {
    "duration": 124,
    "start_time": "2022-01-30T13:40:28.410Z"
   },
   {
    "duration": 94,
    "start_time": "2022-01-30T13:40:28.537Z"
   },
   {
    "duration": 7,
    "start_time": "2022-01-30T13:40:28.634Z"
   },
   {
    "duration": 47,
    "start_time": "2022-01-30T13:40:28.643Z"
   },
   {
    "duration": 1184,
    "start_time": "2022-01-30T13:40:28.693Z"
   },
   {
    "duration": 71,
    "start_time": "2022-01-30T13:40:29.880Z"
   },
   {
    "duration": 1381,
    "start_time": "2022-01-30T13:40:29.970Z"
   },
   {
    "duration": 72,
    "start_time": "2022-01-30T13:40:31.354Z"
   },
   {
    "duration": 74,
    "start_time": "2022-01-30T13:40:31.429Z"
   },
   {
    "duration": 30,
    "start_time": "2022-01-30T13:40:31.506Z"
   },
   {
    "duration": 494,
    "start_time": "2022-01-30T13:40:31.539Z"
   },
   {
    "duration": 18,
    "start_time": "2022-01-30T13:40:32.036Z"
   },
   {
    "duration": 942,
    "start_time": "2022-01-30T13:40:32.068Z"
   },
   {
    "duration": 23,
    "start_time": "2022-01-30T13:40:33.012Z"
   },
   {
    "duration": 45,
    "start_time": "2022-01-30T13:40:33.043Z"
   },
   {
    "duration": 25,
    "start_time": "2022-01-30T13:40:33.090Z"
   },
   {
    "duration": 56,
    "start_time": "2022-01-30T13:40:33.117Z"
   },
   {
    "duration": 16,
    "start_time": "2022-01-30T13:40:33.175Z"
   },
   {
    "duration": 17,
    "start_time": "2022-01-30T13:40:33.194Z"
   },
   {
    "duration": 1190,
    "start_time": "2022-01-30T13:40:33.213Z"
   },
   {
    "duration": 11,
    "start_time": "2022-01-30T13:40:34.405Z"
   },
   {
    "duration": 9,
    "start_time": "2022-01-30T13:40:34.418Z"
   },
   {
    "duration": 48,
    "start_time": "2022-01-30T13:40:34.430Z"
   },
   {
    "duration": 1776,
    "start_time": "2022-01-30T13:43:28.737Z"
   },
   {
    "duration": 593,
    "start_time": "2022-01-30T13:43:30.517Z"
   },
   {
    "duration": 83,
    "start_time": "2022-01-30T13:43:31.113Z"
   },
   {
    "duration": 86,
    "start_time": "2022-01-30T13:43:31.200Z"
   },
   {
    "duration": 42,
    "start_time": "2022-01-30T13:43:31.288Z"
   },
   {
    "duration": 71,
    "start_time": "2022-01-30T13:43:31.334Z"
   },
   {
    "duration": 74,
    "start_time": "2022-01-30T13:43:31.409Z"
   },
   {
    "duration": 41,
    "start_time": "2022-01-30T13:43:31.488Z"
   },
   {
    "duration": 131,
    "start_time": "2022-01-30T13:43:31.532Z"
   },
   {
    "duration": 101,
    "start_time": "2022-01-30T13:43:31.665Z"
   },
   {
    "duration": 7,
    "start_time": "2022-01-30T13:43:31.768Z"
   },
   {
    "duration": 37,
    "start_time": "2022-01-30T13:43:31.778Z"
   },
   {
    "duration": 866,
    "start_time": "2022-01-30T13:43:31.818Z"
   },
   {
    "duration": 47,
    "start_time": "2022-01-30T13:43:32.687Z"
   },
   {
    "duration": 852,
    "start_time": "2022-01-30T13:43:32.736Z"
   },
   {
    "duration": 44,
    "start_time": "2022-01-30T13:43:33.591Z"
   },
   {
    "duration": 78,
    "start_time": "2022-01-30T13:43:33.638Z"
   },
   {
    "duration": 53,
    "start_time": "2022-01-30T13:43:33.719Z"
   },
   {
    "duration": 395,
    "start_time": "2022-01-30T13:43:33.774Z"
   },
   {
    "duration": 998,
    "start_time": "2022-01-30T13:43:34.171Z"
   },
   {
    "duration": 26,
    "start_time": "2022-01-30T13:43:35.172Z"
   },
   {
    "duration": 34,
    "start_time": "2022-01-30T13:43:35.201Z"
   },
   {
    "duration": 56,
    "start_time": "2022-01-30T13:43:35.239Z"
   },
   {
    "duration": 24,
    "start_time": "2022-01-30T13:43:35.298Z"
   },
   {
    "duration": 3,
    "start_time": "2022-01-30T13:43:35.325Z"
   },
   {
    "duration": 4,
    "start_time": "2022-01-30T13:43:35.371Z"
   },
   {
    "duration": 9,
    "start_time": "2022-01-30T13:43:35.377Z"
   },
   {
    "duration": 967,
    "start_time": "2022-01-30T13:43:35.388Z"
   },
   {
    "duration": 18,
    "start_time": "2022-01-30T13:43:36.357Z"
   },
   {
    "duration": 8,
    "start_time": "2022-01-30T13:43:36.377Z"
   },
   {
    "duration": 16,
    "start_time": "2022-01-30T13:43:36.388Z"
   },
   {
    "duration": 1390,
    "start_time": "2022-01-30T13:47:25.442Z"
   },
   {
    "duration": 736,
    "start_time": "2022-01-30T13:47:26.835Z"
   },
   {
    "duration": 72,
    "start_time": "2022-01-30T13:47:27.574Z"
   },
   {
    "duration": 82,
    "start_time": "2022-01-30T13:47:27.649Z"
   },
   {
    "duration": 68,
    "start_time": "2022-01-30T13:47:27.734Z"
   },
   {
    "duration": 64,
    "start_time": "2022-01-30T13:47:27.805Z"
   },
   {
    "duration": 52,
    "start_time": "2022-01-30T13:47:27.872Z"
   },
   {
    "duration": 74,
    "start_time": "2022-01-30T13:47:27.929Z"
   },
   {
    "duration": 120,
    "start_time": "2022-01-30T13:47:28.007Z"
   },
   {
    "duration": 103,
    "start_time": "2022-01-30T13:47:28.130Z"
   },
   {
    "duration": 8,
    "start_time": "2022-01-30T13:47:28.235Z"
   },
   {
    "duration": 54,
    "start_time": "2022-01-30T13:47:28.246Z"
   },
   {
    "duration": 1174,
    "start_time": "2022-01-30T13:47:28.303Z"
   },
   {
    "duration": 66,
    "start_time": "2022-01-30T13:47:29.480Z"
   },
   {
    "duration": 742,
    "start_time": "2022-01-30T13:47:29.549Z"
   },
   {
    "duration": 55,
    "start_time": "2022-01-30T13:47:30.294Z"
   },
   {
    "duration": 65,
    "start_time": "2022-01-30T13:47:30.352Z"
   },
   {
    "duration": 63,
    "start_time": "2022-01-30T13:47:30.420Z"
   },
   {
    "duration": 567,
    "start_time": "2022-01-30T13:47:30.486Z"
   },
   {
    "duration": 1122,
    "start_time": "2022-01-30T13:47:31.056Z"
   },
   {
    "duration": 26,
    "start_time": "2022-01-30T13:47:32.181Z"
   },
   {
    "duration": 26,
    "start_time": "2022-01-30T13:47:32.210Z"
   },
   {
    "duration": 25,
    "start_time": "2022-01-30T13:47:32.272Z"
   },
   {
    "duration": 23,
    "start_time": "2022-01-30T13:47:32.300Z"
   },
   {
    "duration": 595,
    "start_time": "2022-01-30T13:47:32.325Z"
   },
   {
    "duration": -17049,
    "start_time": "2022-01-30T13:47:49.973Z"
   },
   {
    "duration": -17068,
    "start_time": "2022-01-30T13:47:49.994Z"
   },
   {
    "duration": 310,
    "start_time": "2022-01-30T13:50:16.516Z"
   },
   {
    "duration": 8,
    "start_time": "2022-01-30T13:50:27.535Z"
   },
   {
    "duration": 8,
    "start_time": "2022-01-30T13:50:37.146Z"
   },
   {
    "duration": 20,
    "start_time": "2022-01-30T13:51:18.579Z"
   },
   {
    "duration": 1513,
    "start_time": "2022-01-30T14:20:27.133Z"
   },
   {
    "duration": 629,
    "start_time": "2022-01-30T14:20:28.649Z"
   },
   {
    "duration": 141,
    "start_time": "2022-01-30T14:20:29.284Z"
   },
   {
    "duration": 117,
    "start_time": "2022-01-30T14:20:29.428Z"
   },
   {
    "duration": 57,
    "start_time": "2022-01-30T14:20:29.548Z"
   },
   {
    "duration": 81,
    "start_time": "2022-01-30T14:20:29.608Z"
   },
   {
    "duration": 47,
    "start_time": "2022-01-30T14:20:29.692Z"
   },
   {
    "duration": 66,
    "start_time": "2022-01-30T14:20:29.743Z"
   },
   {
    "duration": 170,
    "start_time": "2022-01-30T14:20:29.814Z"
   },
   {
    "duration": 100,
    "start_time": "2022-01-30T14:20:29.987Z"
   },
   {
    "duration": 8,
    "start_time": "2022-01-30T14:20:30.089Z"
   },
   {
    "duration": 46,
    "start_time": "2022-01-30T14:20:30.100Z"
   },
   {
    "duration": 848,
    "start_time": "2022-01-30T14:20:30.149Z"
   },
   {
    "duration": 45,
    "start_time": "2022-01-30T14:20:31.000Z"
   },
   {
    "duration": 781,
    "start_time": "2022-01-30T14:20:31.048Z"
   },
   {
    "duration": 61,
    "start_time": "2022-01-30T14:20:31.832Z"
   },
   {
    "duration": 47,
    "start_time": "2022-01-30T14:20:31.897Z"
   },
   {
    "duration": 60,
    "start_time": "2022-01-30T14:20:31.947Z"
   },
   {
    "duration": 432,
    "start_time": "2022-01-30T14:20:32.010Z"
   },
   {
    "duration": 1045,
    "start_time": "2022-01-30T14:20:32.445Z"
   },
   {
    "duration": 29,
    "start_time": "2022-01-30T14:20:33.493Z"
   },
   {
    "duration": 65,
    "start_time": "2022-01-30T14:20:33.525Z"
   },
   {
    "duration": 28,
    "start_time": "2022-01-30T14:20:33.595Z"
   },
   {
    "duration": 60,
    "start_time": "2022-01-30T14:20:33.626Z"
   },
   {
    "duration": 24,
    "start_time": "2022-01-30T14:20:33.689Z"
   },
   {
    "duration": 439,
    "start_time": "2022-01-30T14:20:33.717Z"
   },
   {
    "duration": -17016,
    "start_time": "2022-01-30T14:20:51.175Z"
   },
   {
    "duration": -17024,
    "start_time": "2022-01-30T14:20:51.185Z"
   },
   {
    "duration": 9,
    "start_time": "2022-01-30T14:20:51.996Z"
   },
   {
    "duration": 13,
    "start_time": "2022-01-30T14:20:53.873Z"
   },
   {
    "duration": 8,
    "start_time": "2022-01-30T14:21:37.950Z"
   },
   {
    "duration": 8,
    "start_time": "2022-01-30T14:21:40.158Z"
   },
   {
    "duration": 20,
    "start_time": "2022-01-30T14:21:46.761Z"
   },
   {
    "duration": 344,
    "start_time": "2022-01-30T16:25:36.800Z"
   },
   {
    "duration": 1572,
    "start_time": "2022-01-30T16:25:53.214Z"
   },
   {
    "duration": 5223,
    "start_time": "2022-01-30T16:28:56.258Z"
   },
   {
    "duration": 861,
    "start_time": "2022-01-30T16:30:41.073Z"
   },
   {
    "duration": 1444,
    "start_time": "2022-01-30T16:33:57.683Z"
   },
   {
    "duration": 571,
    "start_time": "2022-01-30T16:33:59.131Z"
   },
   {
    "duration": 92,
    "start_time": "2022-01-30T16:33:59.705Z"
   },
   {
    "duration": 80,
    "start_time": "2022-01-30T16:33:59.799Z"
   },
   {
    "duration": 39,
    "start_time": "2022-01-30T16:33:59.881Z"
   },
   {
    "duration": 66,
    "start_time": "2022-01-30T16:33:59.923Z"
   },
   {
    "duration": 41,
    "start_time": "2022-01-30T16:33:59.991Z"
   },
   {
    "duration": 55,
    "start_time": "2022-01-30T16:34:00.069Z"
   },
   {
    "duration": 126,
    "start_time": "2022-01-30T16:34:00.128Z"
   },
   {
    "duration": 95,
    "start_time": "2022-01-30T16:34:00.256Z"
   },
   {
    "duration": 15,
    "start_time": "2022-01-30T16:34:00.354Z"
   },
   {
    "duration": 33,
    "start_time": "2022-01-30T16:34:00.372Z"
   },
   {
    "duration": 968,
    "start_time": "2022-01-30T16:34:00.408Z"
   },
   {
    "duration": 49,
    "start_time": "2022-01-30T16:34:01.378Z"
   },
   {
    "duration": 801,
    "start_time": "2022-01-30T16:34:01.430Z"
   },
   {
    "duration": 56,
    "start_time": "2022-01-30T16:34:02.233Z"
   },
   {
    "duration": 39,
    "start_time": "2022-01-30T16:34:02.291Z"
   },
   {
    "duration": 58,
    "start_time": "2022-01-30T16:34:02.332Z"
   },
   {
    "duration": 376,
    "start_time": "2022-01-30T16:34:02.393Z"
   },
   {
    "duration": 964,
    "start_time": "2022-01-30T16:34:02.771Z"
   },
   {
    "duration": 45,
    "start_time": "2022-01-30T16:34:03.737Z"
   },
   {
    "duration": 447,
    "start_time": "2022-01-30T16:34:03.785Z"
   },
   {
    "duration": -16974,
    "start_time": "2022-01-30T16:34:21.209Z"
   },
   {
    "duration": -16984,
    "start_time": "2022-01-30T16:34:21.221Z"
   },
   {
    "duration": -17007,
    "start_time": "2022-01-30T16:34:21.246Z"
   },
   {
    "duration": -17024,
    "start_time": "2022-01-30T16:34:21.265Z"
   },
   {
    "duration": -17040,
    "start_time": "2022-01-30T16:34:21.283Z"
   },
   {
    "duration": -17054,
    "start_time": "2022-01-30T16:34:21.300Z"
   },
   {
    "duration": -17069,
    "start_time": "2022-01-30T16:34:21.317Z"
   },
   {
    "duration": 1426,
    "start_time": "2022-01-30T16:37:14.201Z"
   },
   {
    "duration": 574,
    "start_time": "2022-01-30T16:37:15.631Z"
   },
   {
    "duration": 75,
    "start_time": "2022-01-30T16:37:16.209Z"
   },
   {
    "duration": 84,
    "start_time": "2022-01-30T16:37:16.287Z"
   },
   {
    "duration": 40,
    "start_time": "2022-01-30T16:37:16.374Z"
   },
   {
    "duration": 65,
    "start_time": "2022-01-30T16:37:16.416Z"
   },
   {
    "duration": 42,
    "start_time": "2022-01-30T16:37:16.484Z"
   },
   {
    "duration": 71,
    "start_time": "2022-01-30T16:37:16.533Z"
   },
   {
    "duration": 119,
    "start_time": "2022-01-30T16:37:16.607Z"
   },
   {
    "duration": 101,
    "start_time": "2022-01-30T16:37:16.729Z"
   },
   {
    "duration": 8,
    "start_time": "2022-01-30T16:37:16.832Z"
   },
   {
    "duration": 48,
    "start_time": "2022-01-30T16:37:16.843Z"
   },
   {
    "duration": 1080,
    "start_time": "2022-01-30T16:37:16.893Z"
   },
   {
    "duration": 47,
    "start_time": "2022-01-30T16:37:17.976Z"
   },
   {
    "duration": 795,
    "start_time": "2022-01-30T16:37:18.025Z"
   },
   {
    "duration": 60,
    "start_time": "2022-01-30T16:37:18.822Z"
   },
   {
    "duration": 42,
    "start_time": "2022-01-30T16:37:18.884Z"
   },
   {
    "duration": 67,
    "start_time": "2022-01-30T16:37:18.929Z"
   },
   {
    "duration": 511,
    "start_time": "2022-01-30T16:37:18.999Z"
   },
   {
    "duration": 1030,
    "start_time": "2022-01-30T16:37:19.512Z"
   },
   {
    "duration": 47,
    "start_time": "2022-01-30T16:37:20.545Z"
   },
   {
    "duration": 427329,
    "start_time": "2022-01-30T16:37:20.595Z"
   },
   {
    "duration": 4,
    "start_time": "2022-01-30T16:44:27.930Z"
   },
   {
    "duration": 54,
    "start_time": "2022-01-30T16:44:27.937Z"
   },
   {
    "duration": 38,
    "start_time": "2022-01-30T16:44:27.994Z"
   },
   {
    "duration": 50,
    "start_time": "2022-01-30T16:44:28.036Z"
   },
   {
    "duration": 13,
    "start_time": "2022-01-30T16:44:28.088Z"
   },
   {
    "duration": 14,
    "start_time": "2022-01-30T16:44:28.104Z"
   },
   {
    "duration": 57,
    "start_time": "2022-01-30T16:44:28.121Z"
   },
   {
    "duration": 618,
    "start_time": "2022-01-30T16:47:58.431Z"
   },
   {
    "duration": 513,
    "start_time": "2022-01-30T16:48:55.286Z"
   },
   {
    "duration": 8029,
    "start_time": "2022-01-30T16:49:09.850Z"
   },
   {
    "duration": 587,
    "start_time": "2022-01-30T16:50:03.577Z"
   },
   {
    "duration": 310,
    "start_time": "2022-01-30T16:50:20.358Z"
   },
   {
    "duration": 7576,
    "start_time": "2022-01-30T16:50:46.833Z"
   },
   {
    "duration": 8015,
    "start_time": "2022-01-30T16:51:53.238Z"
   },
   {
    "duration": 1693,
    "start_time": "2022-01-30T16:55:14.330Z"
   },
   {
    "duration": 350,
    "start_time": "2022-01-30T16:56:46.198Z"
   },
   {
    "duration": 324,
    "start_time": "2022-01-30T16:57:27.536Z"
   },
   {
    "duration": 7,
    "start_time": "2022-01-30T17:04:38.394Z"
   },
   {
    "duration": 838,
    "start_time": "2022-01-30T17:05:07.985Z"
   },
   {
    "duration": 325,
    "start_time": "2022-01-30T17:05:22.784Z"
   },
   {
    "duration": 364,
    "start_time": "2022-01-30T17:05:32.623Z"
   },
   {
    "duration": 1467,
    "start_time": "2022-01-30T17:06:13.371Z"
   },
   {
    "duration": 2255,
    "start_time": "2022-01-30T17:06:14.841Z"
   },
   {
    "duration": 73,
    "start_time": "2022-01-30T17:06:17.099Z"
   },
   {
    "duration": 66,
    "start_time": "2022-01-30T17:06:17.174Z"
   },
   {
    "duration": 62,
    "start_time": "2022-01-30T17:06:17.243Z"
   },
   {
    "duration": 34,
    "start_time": "2022-01-30T17:06:17.308Z"
   },
   {
    "duration": 66,
    "start_time": "2022-01-30T17:06:17.344Z"
   },
   {
    "duration": 66,
    "start_time": "2022-01-30T17:06:17.416Z"
   },
   {
    "duration": 119,
    "start_time": "2022-01-30T17:06:17.486Z"
   },
   {
    "duration": 102,
    "start_time": "2022-01-30T17:06:17.608Z"
   },
   {
    "duration": 10,
    "start_time": "2022-01-30T17:06:17.712Z"
   },
   {
    "duration": 46,
    "start_time": "2022-01-30T17:06:17.725Z"
   },
   {
    "duration": 782,
    "start_time": "2022-01-30T17:06:17.773Z"
   },
   {
    "duration": 49,
    "start_time": "2022-01-30T17:06:18.558Z"
   },
   {
    "duration": 761,
    "start_time": "2022-01-30T17:06:18.609Z"
   },
   {
    "duration": 40,
    "start_time": "2022-01-30T17:06:19.373Z"
   },
   {
    "duration": 62,
    "start_time": "2022-01-30T17:06:19.415Z"
   },
   {
    "duration": 31,
    "start_time": "2022-01-30T17:06:19.479Z"
   },
   {
    "duration": 394,
    "start_time": "2022-01-30T17:06:19.512Z"
   },
   {
    "duration": 931,
    "start_time": "2022-01-30T17:06:19.908Z"
   },
   {
    "duration": 43,
    "start_time": "2022-01-30T17:06:20.842Z"
   },
   {
    "duration": 26,
    "start_time": "2022-01-30T17:06:20.888Z"
   },
   {
    "duration": 53,
    "start_time": "2022-01-30T17:06:20.918Z"
   },
   {
    "duration": 26,
    "start_time": "2022-01-30T17:06:20.973Z"
   },
   {
    "duration": 8,
    "start_time": "2022-01-30T17:06:21.001Z"
   },
   {
    "duration": 10,
    "start_time": "2022-01-30T17:06:21.011Z"
   },
   {
    "duration": 51,
    "start_time": "2022-01-30T17:06:21.024Z"
   },
   {
    "duration": 434,
    "start_time": "2022-01-30T17:29:34.888Z"
   },
   {
    "duration": 61,
    "start_time": "2022-01-30T17:33:32.720Z"
   },
   {
    "duration": 30,
    "start_time": "2022-01-30T17:34:19.150Z"
   },
   {
    "duration": 38,
    "start_time": "2022-01-30T17:35:06.509Z"
   },
   {
    "duration": 1388,
    "start_time": "2022-01-30T17:37:51.643Z"
   },
   {
    "duration": 554,
    "start_time": "2022-01-30T17:37:53.034Z"
   },
   {
    "duration": 79,
    "start_time": "2022-01-30T17:37:53.591Z"
   },
   {
    "duration": 63,
    "start_time": "2022-01-30T17:37:53.673Z"
   },
   {
    "duration": 55,
    "start_time": "2022-01-30T17:37:53.738Z"
   },
   {
    "duration": 34,
    "start_time": "2022-01-30T17:37:53.795Z"
   },
   {
    "duration": 76,
    "start_time": "2022-01-30T17:37:53.831Z"
   },
   {
    "duration": 60,
    "start_time": "2022-01-30T17:37:53.911Z"
   },
   {
    "duration": 157,
    "start_time": "2022-01-30T17:37:53.975Z"
   },
   {
    "duration": 102,
    "start_time": "2022-01-30T17:37:54.134Z"
   },
   {
    "duration": 8,
    "start_time": "2022-01-30T17:37:54.239Z"
   },
   {
    "duration": 42,
    "start_time": "2022-01-30T17:37:54.249Z"
   },
   {
    "duration": 946,
    "start_time": "2022-01-30T17:37:54.293Z"
   },
   {
    "duration": 61,
    "start_time": "2022-01-30T17:37:55.241Z"
   },
   {
    "duration": 749,
    "start_time": "2022-01-30T17:37:55.305Z"
   },
   {
    "duration": 50,
    "start_time": "2022-01-30T17:37:56.057Z"
   },
   {
    "duration": 20,
    "start_time": "2022-01-30T17:37:56.109Z"
   },
   {
    "duration": 57,
    "start_time": "2022-01-30T17:37:56.132Z"
   },
   {
    "duration": 361,
    "start_time": "2022-01-30T17:37:56.192Z"
   },
   {
    "duration": 946,
    "start_time": "2022-01-30T17:37:56.556Z"
   },
   {
    "duration": 33,
    "start_time": "2022-01-30T17:37:57.505Z"
   },
   {
    "duration": 59,
    "start_time": "2022-01-30T17:37:57.541Z"
   },
   {
    "duration": 23,
    "start_time": "2022-01-30T17:37:57.604Z"
   },
   {
    "duration": 51,
    "start_time": "2022-01-30T17:37:57.630Z"
   },
   {
    "duration": 439,
    "start_time": "2022-01-30T17:37:57.683Z"
   },
   {
    "duration": -16888,
    "start_time": "2022-01-30T17:38:15.013Z"
   },
   {
    "duration": -16892,
    "start_time": "2022-01-30T17:38:15.018Z"
   },
   {
    "duration": -16915,
    "start_time": "2022-01-30T17:38:15.042Z"
   },
   {
    "duration": 29,
    "start_time": "2022-01-30T17:38:57.375Z"
   },
   {
    "duration": 1383,
    "start_time": "2022-01-30T17:39:11.855Z"
   },
   {
    "duration": 532,
    "start_time": "2022-01-30T17:39:13.241Z"
   },
   {
    "duration": 71,
    "start_time": "2022-01-30T17:39:13.776Z"
   },
   {
    "duration": 79,
    "start_time": "2022-01-30T17:39:13.849Z"
   },
   {
    "duration": 54,
    "start_time": "2022-01-30T17:39:13.931Z"
   },
   {
    "duration": 35,
    "start_time": "2022-01-30T17:39:13.987Z"
   },
   {
    "duration": 71,
    "start_time": "2022-01-30T17:39:14.025Z"
   },
   {
    "duration": 37,
    "start_time": "2022-01-30T17:39:14.100Z"
   },
   {
    "duration": 129,
    "start_time": "2022-01-30T17:39:14.140Z"
   },
   {
    "duration": 97,
    "start_time": "2022-01-30T17:39:14.272Z"
   },
   {
    "duration": 7,
    "start_time": "2022-01-30T17:39:14.372Z"
   },
   {
    "duration": 30,
    "start_time": "2022-01-30T17:39:14.382Z"
   },
   {
    "duration": 855,
    "start_time": "2022-01-30T17:39:14.415Z"
   },
   {
    "duration": 45,
    "start_time": "2022-01-30T17:39:15.272Z"
   },
   {
    "duration": 749,
    "start_time": "2022-01-30T17:39:15.319Z"
   },
   {
    "duration": 40,
    "start_time": "2022-01-30T17:39:16.070Z"
   },
   {
    "duration": 21,
    "start_time": "2022-01-30T17:39:16.113Z"
   },
   {
    "duration": 58,
    "start_time": "2022-01-30T17:39:16.137Z"
   },
   {
    "duration": 373,
    "start_time": "2022-01-30T17:39:16.198Z"
   },
   {
    "duration": 932,
    "start_time": "2022-01-30T17:39:16.574Z"
   },
   {
    "duration": 23,
    "start_time": "2022-01-30T17:39:17.508Z"
   },
   {
    "duration": 48,
    "start_time": "2022-01-30T17:39:17.534Z"
   },
   {
    "duration": 32,
    "start_time": "2022-01-30T17:39:17.588Z"
   },
   {
    "duration": 54,
    "start_time": "2022-01-30T17:39:17.624Z"
   },
   {
    "duration": 542,
    "start_time": "2022-01-30T17:39:17.681Z"
   },
   {
    "duration": -16891,
    "start_time": "2022-01-30T17:39:35.116Z"
   },
   {
    "duration": -16905,
    "start_time": "2022-01-30T17:39:35.133Z"
   },
   {
    "duration": -16925,
    "start_time": "2022-01-30T17:39:35.154Z"
   },
   {
    "duration": 41,
    "start_time": "2022-01-30T17:42:54.010Z"
   },
   {
    "duration": 1413,
    "start_time": "2022-01-30T17:43:42.924Z"
   },
   {
    "duration": 664,
    "start_time": "2022-01-30T17:43:44.340Z"
   },
   {
    "duration": 78,
    "start_time": "2022-01-30T17:43:45.008Z"
   },
   {
    "duration": 80,
    "start_time": "2022-01-30T17:43:45.089Z"
   },
   {
    "duration": 40,
    "start_time": "2022-01-30T17:43:45.172Z"
   },
   {
    "duration": 64,
    "start_time": "2022-01-30T17:43:45.215Z"
   },
   {
    "duration": 46,
    "start_time": "2022-01-30T17:43:45.282Z"
   },
   {
    "duration": 73,
    "start_time": "2022-01-30T17:43:45.333Z"
   },
   {
    "duration": 189,
    "start_time": "2022-01-30T17:43:45.410Z"
   },
   {
    "duration": 127,
    "start_time": "2022-01-30T17:43:45.601Z"
   },
   {
    "duration": 9,
    "start_time": "2022-01-30T17:43:45.732Z"
   },
   {
    "duration": 47,
    "start_time": "2022-01-30T17:43:45.744Z"
   },
   {
    "duration": 805,
    "start_time": "2022-01-30T17:43:45.794Z"
   },
   {
    "duration": 45,
    "start_time": "2022-01-30T17:43:46.602Z"
   },
   {
    "duration": 752,
    "start_time": "2022-01-30T17:43:46.669Z"
   },
   {
    "duration": 29,
    "start_time": "2022-01-30T17:43:47.423Z"
   },
   {
    "duration": 19,
    "start_time": "2022-01-30T17:43:47.470Z"
   },
   {
    "duration": 29,
    "start_time": "2022-01-30T17:43:47.491Z"
   },
   {
    "duration": 414,
    "start_time": "2022-01-30T17:43:47.523Z"
   },
   {
    "duration": 970,
    "start_time": "2022-01-30T17:43:47.939Z"
   },
   {
    "duration": 26,
    "start_time": "2022-01-30T17:43:48.911Z"
   },
   {
    "duration": 45,
    "start_time": "2022-01-30T17:43:48.940Z"
   },
   {
    "duration": 24,
    "start_time": "2022-01-30T17:43:48.989Z"
   },
   {
    "duration": 55,
    "start_time": "2022-01-30T17:43:49.016Z"
   },
   {
    "duration": 468,
    "start_time": "2022-01-30T17:43:49.074Z"
   },
   {
    "duration": -16968,
    "start_time": "2022-01-30T17:44:06.513Z"
   },
   {
    "duration": -16973,
    "start_time": "2022-01-30T17:44:06.519Z"
   },
   {
    "duration": -16978,
    "start_time": "2022-01-30T17:44:06.526Z"
   },
   {
    "duration": 36,
    "start_time": "2022-01-30T17:44:36.824Z"
   },
   {
    "duration": 33,
    "start_time": "2022-01-30T17:45:21.511Z"
   },
   {
    "duration": 20,
    "start_time": "2022-01-30T17:45:30.822Z"
   },
   {
    "duration": 1892,
    "start_time": "2022-01-30T17:53:11.362Z"
   },
   {
    "duration": 784,
    "start_time": "2022-01-30T17:53:13.258Z"
   },
   {
    "duration": 111,
    "start_time": "2022-01-30T17:53:14.046Z"
   },
   {
    "duration": 98,
    "start_time": "2022-01-30T17:53:14.179Z"
   },
   {
    "duration": 52,
    "start_time": "2022-01-30T17:53:14.281Z"
   },
   {
    "duration": 75,
    "start_time": "2022-01-30T17:53:14.336Z"
   },
   {
    "duration": 88,
    "start_time": "2022-01-30T17:53:14.414Z"
   },
   {
    "duration": 67,
    "start_time": "2022-01-30T17:53:14.507Z"
   },
   {
    "duration": 178,
    "start_time": "2022-01-30T17:53:14.580Z"
   },
   {
    "duration": 125,
    "start_time": "2022-01-30T17:53:14.761Z"
   },
   {
    "duration": 9,
    "start_time": "2022-01-30T17:53:14.889Z"
   },
   {
    "duration": 42,
    "start_time": "2022-01-30T17:53:14.902Z"
   },
   {
    "duration": 2238,
    "start_time": "2022-01-30T17:53:14.947Z"
   },
   {
    "duration": -16901,
    "start_time": "2022-01-30T17:53:34.089Z"
   },
   {
    "duration": -16920,
    "start_time": "2022-01-30T17:53:34.109Z"
   },
   {
    "duration": -16935,
    "start_time": "2022-01-30T17:53:34.127Z"
   },
   {
    "duration": -16954,
    "start_time": "2022-01-30T17:53:34.148Z"
   },
   {
    "duration": -16975,
    "start_time": "2022-01-30T17:53:34.171Z"
   },
   {
    "duration": -16985,
    "start_time": "2022-01-30T17:53:34.183Z"
   },
   {
    "duration": -17001,
    "start_time": "2022-01-30T17:53:34.201Z"
   },
   {
    "duration": -17021,
    "start_time": "2022-01-30T17:53:34.224Z"
   },
   {
    "duration": -17031,
    "start_time": "2022-01-30T17:53:34.236Z"
   },
   {
    "duration": -17049,
    "start_time": "2022-01-30T17:53:34.255Z"
   },
   {
    "duration": -17073,
    "start_time": "2022-01-30T17:53:34.280Z"
   },
   {
    "duration": -17091,
    "start_time": "2022-01-30T17:53:34.299Z"
   },
   {
    "duration": -17107,
    "start_time": "2022-01-30T17:53:34.316Z"
   },
   {
    "duration": -17123,
    "start_time": "2022-01-30T17:53:34.333Z"
   },
   {
    "duration": -17141,
    "start_time": "2022-01-30T17:53:34.352Z"
   },
   {
    "duration": -17158,
    "start_time": "2022-01-30T17:53:34.370Z"
   },
   {
    "duration": 798,
    "start_time": "2022-01-30T17:55:28.740Z"
   },
   {
    "duration": 1300,
    "start_time": "2022-01-30T17:55:34.613Z"
   },
   {
    "duration": 43,
    "start_time": "2022-01-30T17:55:49.473Z"
   },
   {
    "duration": 2085,
    "start_time": "2022-01-30T17:55:55.953Z"
   },
   {
    "duration": 773,
    "start_time": "2022-01-30T17:56:03.786Z"
   },
   {
    "duration": 377,
    "start_time": "2022-01-30T17:56:30.750Z"
   },
   {
    "duration": 57,
    "start_time": "2022-01-30T17:56:51.249Z"
   },
   {
    "duration": 1432,
    "start_time": "2022-01-30T17:58:32.490Z"
   },
   {
    "duration": 552,
    "start_time": "2022-01-30T17:58:33.924Z"
   },
   {
    "duration": 72,
    "start_time": "2022-01-30T17:58:34.479Z"
   },
   {
    "duration": 114,
    "start_time": "2022-01-30T17:58:34.555Z"
   },
   {
    "duration": 58,
    "start_time": "2022-01-30T17:58:34.672Z"
   },
   {
    "duration": 78,
    "start_time": "2022-01-30T17:58:34.733Z"
   },
   {
    "duration": 78,
    "start_time": "2022-01-30T17:58:34.814Z"
   },
   {
    "duration": 41,
    "start_time": "2022-01-30T17:58:34.897Z"
   },
   {
    "duration": 133,
    "start_time": "2022-01-30T17:58:34.941Z"
   },
   {
    "duration": 99,
    "start_time": "2022-01-30T17:58:35.076Z"
   },
   {
    "duration": 7,
    "start_time": "2022-01-30T17:58:35.178Z"
   },
   {
    "duration": 32,
    "start_time": "2022-01-30T17:58:35.187Z"
   },
   {
    "duration": 844,
    "start_time": "2022-01-30T17:58:35.221Z"
   },
   {
    "duration": 45,
    "start_time": "2022-01-30T17:58:36.069Z"
   },
   {
    "duration": 756,
    "start_time": "2022-01-30T17:58:36.116Z"
   },
   {
    "duration": 3,
    "start_time": "2022-01-30T17:58:36.874Z"
   },
   {
    "duration": 60,
    "start_time": "2022-01-30T17:58:36.879Z"
   },
   {
    "duration": 3,
    "start_time": "2022-01-30T17:58:36.969Z"
   },
   {
    "duration": 9,
    "start_time": "2022-01-30T17:58:36.974Z"
   },
   {
    "duration": 374,
    "start_time": "2022-01-30T17:58:36.985Z"
   },
   {
    "duration": 973,
    "start_time": "2022-01-30T17:58:37.361Z"
   },
   {
    "duration": 41,
    "start_time": "2022-01-30T17:58:38.336Z"
   },
   {
    "duration": 24,
    "start_time": "2022-01-30T17:58:38.382Z"
   },
   {
    "duration": 26,
    "start_time": "2022-01-30T17:58:38.409Z"
   },
   {
    "duration": 52,
    "start_time": "2022-01-30T17:58:38.437Z"
   },
   {
    "duration": 478,
    "start_time": "2022-01-30T17:58:38.492Z"
   },
   {
    "duration": -16917,
    "start_time": "2022-01-30T17:58:55.889Z"
   },
   {
    "duration": -16921,
    "start_time": "2022-01-30T17:58:55.895Z"
   },
   {
    "duration": -16937,
    "start_time": "2022-01-30T17:58:55.912Z"
   },
   {
    "duration": 1400,
    "start_time": "2022-02-02T13:29:56.018Z"
   },
   {
    "duration": 584,
    "start_time": "2022-02-02T13:29:57.421Z"
   },
   {
    "duration": 76,
    "start_time": "2022-02-02T13:29:58.008Z"
   },
   {
    "duration": 85,
    "start_time": "2022-02-02T13:29:58.087Z"
   },
   {
    "duration": 40,
    "start_time": "2022-02-02T13:29:58.175Z"
   },
   {
    "duration": 58,
    "start_time": "2022-02-02T13:29:58.218Z"
   },
   {
    "duration": 45,
    "start_time": "2022-02-02T13:29:58.279Z"
   },
   {
    "duration": 66,
    "start_time": "2022-02-02T13:29:58.328Z"
   },
   {
    "duration": 107,
    "start_time": "2022-02-02T13:29:58.398Z"
   },
   {
    "duration": 103,
    "start_time": "2022-02-02T13:29:58.508Z"
   },
   {
    "duration": 9,
    "start_time": "2022-02-02T13:29:58.614Z"
   },
   {
    "duration": 51,
    "start_time": "2022-02-02T13:29:58.626Z"
   },
   {
    "duration": 617,
    "start_time": "2022-02-02T13:29:58.679Z"
   },
   {
    "duration": -272,
    "start_time": "2022-02-02T13:29:59.571Z"
   },
   {
    "duration": -287,
    "start_time": "2022-02-02T13:29:59.588Z"
   },
   {
    "duration": -302,
    "start_time": "2022-02-02T13:29:59.605Z"
   },
   {
    "duration": -325,
    "start_time": "2022-02-02T13:29:59.629Z"
   },
   {
    "duration": -342,
    "start_time": "2022-02-02T13:29:59.648Z"
   },
   {
    "duration": -358,
    "start_time": "2022-02-02T13:29:59.665Z"
   },
   {
    "duration": -379,
    "start_time": "2022-02-02T13:29:59.687Z"
   },
   {
    "duration": -395,
    "start_time": "2022-02-02T13:29:59.705Z"
   },
   {
    "duration": -410,
    "start_time": "2022-02-02T13:29:59.721Z"
   },
   {
    "duration": -433,
    "start_time": "2022-02-02T13:29:59.745Z"
   },
   {
    "duration": -447,
    "start_time": "2022-02-02T13:29:59.761Z"
   },
   {
    "duration": -463,
    "start_time": "2022-02-02T13:29:59.778Z"
   },
   {
    "duration": -482,
    "start_time": "2022-02-02T13:29:59.799Z"
   },
   {
    "duration": -502,
    "start_time": "2022-02-02T13:29:59.820Z"
   },
   {
    "duration": -516,
    "start_time": "2022-02-02T13:29:59.836Z"
   },
   {
    "duration": -539,
    "start_time": "2022-02-02T13:29:59.861Z"
   },
   {
    "duration": -557,
    "start_time": "2022-02-02T13:29:59.880Z"
   },
   {
    "duration": 27,
    "start_time": "2022-02-02T13:30:45.407Z"
   },
   {
    "duration": 33,
    "start_time": "2022-02-02T13:31:24.746Z"
   },
   {
    "duration": 28,
    "start_time": "2022-02-02T13:31:50.495Z"
   },
   {
    "duration": 51,
    "start_time": "2022-02-02T13:34:13.408Z"
   },
   {
    "duration": 1340,
    "start_time": "2022-02-02T13:37:27.474Z"
   },
   {
    "duration": 573,
    "start_time": "2022-02-02T13:37:28.817Z"
   },
   {
    "duration": 75,
    "start_time": "2022-02-02T13:37:29.393Z"
   },
   {
    "duration": 66,
    "start_time": "2022-02-02T13:37:29.471Z"
   },
   {
    "duration": 57,
    "start_time": "2022-02-02T13:37:29.539Z"
   },
   {
    "duration": 33,
    "start_time": "2022-02-02T13:37:29.598Z"
   },
   {
    "duration": 65,
    "start_time": "2022-02-02T13:37:29.633Z"
   },
   {
    "duration": 38,
    "start_time": "2022-02-02T13:37:29.704Z"
   },
   {
    "duration": 98,
    "start_time": "2022-02-02T13:37:29.764Z"
   },
   {
    "duration": 100,
    "start_time": "2022-02-02T13:37:29.865Z"
   },
   {
    "duration": 11,
    "start_time": "2022-02-02T13:37:29.972Z"
   },
   {
    "duration": 35,
    "start_time": "2022-02-02T13:37:29.985Z"
   },
   {
    "duration": 10555,
    "start_time": "2022-02-02T13:37:30.023Z"
   },
   {
    "duration": -325,
    "start_time": "2022-02-02T13:37:40.906Z"
   },
   {
    "duration": -340,
    "start_time": "2022-02-02T13:37:40.923Z"
   },
   {
    "duration": -391,
    "start_time": "2022-02-02T13:37:40.976Z"
   },
   {
    "duration": -395,
    "start_time": "2022-02-02T13:37:40.982Z"
   },
   {
    "duration": -412,
    "start_time": "2022-02-02T13:37:41.000Z"
   },
   {
    "duration": -468,
    "start_time": "2022-02-02T13:37:41.058Z"
   },
   {
    "duration": -477,
    "start_time": "2022-02-02T13:37:41.068Z"
   },
   {
    "duration": -483,
    "start_time": "2022-02-02T13:37:41.076Z"
   },
   {
    "duration": -517,
    "start_time": "2022-02-02T13:37:41.112Z"
   },
   {
    "duration": -529,
    "start_time": "2022-02-02T13:37:41.125Z"
   },
   {
    "duration": -538,
    "start_time": "2022-02-02T13:37:41.135Z"
   },
   {
    "duration": -568,
    "start_time": "2022-02-02T13:37:41.167Z"
   },
   {
    "duration": -590,
    "start_time": "2022-02-02T13:37:41.190Z"
   },
   {
    "duration": -610,
    "start_time": "2022-02-02T13:37:41.212Z"
   },
   {
    "duration": -633,
    "start_time": "2022-02-02T13:37:41.236Z"
   },
   {
    "duration": -659,
    "start_time": "2022-02-02T13:37:41.264Z"
   },
   {
    "duration": -678,
    "start_time": "2022-02-02T13:37:41.284Z"
   },
   {
    "duration": 10601,
    "start_time": "2022-02-02T13:38:07.037Z"
   },
   {
    "duration": 13793,
    "start_time": "2022-02-02T13:39:51.235Z"
   },
   {
    "duration": 11032,
    "start_time": "2022-02-02T13:40:45.771Z"
   },
   {
    "duration": 9675,
    "start_time": "2022-02-02T13:42:04.518Z"
   },
   {
    "duration": 1305,
    "start_time": "2022-02-02T13:42:56.413Z"
   },
   {
    "duration": 611,
    "start_time": "2022-02-02T13:42:57.721Z"
   },
   {
    "duration": 70,
    "start_time": "2022-02-02T13:42:58.335Z"
   },
   {
    "duration": 80,
    "start_time": "2022-02-02T13:42:58.409Z"
   },
   {
    "duration": 38,
    "start_time": "2022-02-02T13:42:58.491Z"
   },
   {
    "duration": 63,
    "start_time": "2022-02-02T13:42:58.532Z"
   },
   {
    "duration": 37,
    "start_time": "2022-02-02T13:42:58.597Z"
   },
   {
    "duration": 44,
    "start_time": "2022-02-02T13:42:58.661Z"
   },
   {
    "duration": 116,
    "start_time": "2022-02-02T13:42:58.708Z"
   },
   {
    "duration": 98,
    "start_time": "2022-02-02T13:42:58.827Z"
   },
   {
    "duration": 8,
    "start_time": "2022-02-02T13:42:58.927Z"
   },
   {
    "duration": 45,
    "start_time": "2022-02-02T13:42:58.937Z"
   },
   {
    "duration": 94,
    "start_time": "2022-02-02T13:42:58.984Z"
   },
   {
    "duration": 4,
    "start_time": "2022-02-02T13:42:59.080Z"
   },
   {
    "duration": 7,
    "start_time": "2022-02-02T13:42:59.086Z"
   },
   {
    "duration": 5,
    "start_time": "2022-02-02T13:42:59.095Z"
   },
   {
    "duration": 8,
    "start_time": "2022-02-02T13:42:59.102Z"
   },
   {
    "duration": 447,
    "start_time": "2022-02-02T13:42:59.112Z"
   },
   {
    "duration": -264,
    "start_time": "2022-02-02T13:42:59.826Z"
   },
   {
    "duration": -272,
    "start_time": "2022-02-02T13:42:59.835Z"
   },
   {
    "duration": -279,
    "start_time": "2022-02-02T13:42:59.843Z"
   },
   {
    "duration": -288,
    "start_time": "2022-02-02T13:42:59.854Z"
   },
   {
    "duration": -300,
    "start_time": "2022-02-02T13:42:59.867Z"
   },
   {
    "duration": -306,
    "start_time": "2022-02-02T13:42:59.874Z"
   },
   {
    "duration": -339,
    "start_time": "2022-02-02T13:42:59.908Z"
   },
   {
    "duration": -350,
    "start_time": "2022-02-02T13:42:59.925Z"
   },
   {
    "duration": -375,
    "start_time": "2022-02-02T13:42:59.951Z"
   },
   {
    "duration": -387,
    "start_time": "2022-02-02T13:42:59.965Z"
   },
   {
    "duration": -404,
    "start_time": "2022-02-02T13:42:59.983Z"
   },
   {
    "duration": -420,
    "start_time": "2022-02-02T13:43:00.001Z"
   },
   {
    "duration": 11119,
    "start_time": "2022-02-02T13:47:46.820Z"
   },
   {
    "duration": 10476,
    "start_time": "2022-02-02T13:48:02.003Z"
   },
   {
    "duration": 1346,
    "start_time": "2022-02-02T13:48:28.182Z"
   },
   {
    "duration": 641,
    "start_time": "2022-02-02T13:48:29.531Z"
   },
   {
    "duration": 72,
    "start_time": "2022-02-02T13:48:30.177Z"
   },
   {
    "duration": 66,
    "start_time": "2022-02-02T13:48:30.262Z"
   },
   {
    "duration": 57,
    "start_time": "2022-02-02T13:48:30.331Z"
   },
   {
    "duration": 34,
    "start_time": "2022-02-02T13:48:30.390Z"
   },
   {
    "duration": 75,
    "start_time": "2022-02-02T13:48:30.426Z"
   },
   {
    "duration": 66,
    "start_time": "2022-02-02T13:48:30.506Z"
   },
   {
    "duration": 110,
    "start_time": "2022-02-02T13:48:30.575Z"
   },
   {
    "duration": 93,
    "start_time": "2022-02-02T13:48:30.688Z"
   },
   {
    "duration": 8,
    "start_time": "2022-02-02T13:48:30.784Z"
   },
   {
    "duration": 40,
    "start_time": "2022-02-02T13:48:30.794Z"
   },
   {
    "duration": 8757,
    "start_time": "2022-02-02T13:48:30.837Z"
   },
   {
    "duration": -316,
    "start_time": "2022-02-02T13:48:39.913Z"
   },
   {
    "duration": -338,
    "start_time": "2022-02-02T13:48:39.937Z"
   },
   {
    "duration": -352,
    "start_time": "2022-02-02T13:48:39.953Z"
   },
   {
    "duration": -366,
    "start_time": "2022-02-02T13:48:39.968Z"
   },
   {
    "duration": -377,
    "start_time": "2022-02-02T13:48:39.981Z"
   },
   {
    "duration": -422,
    "start_time": "2022-02-02T13:48:40.027Z"
   },
   {
    "duration": -485,
    "start_time": "2022-02-02T13:48:40.091Z"
   },
   {
    "duration": -488,
    "start_time": "2022-02-02T13:48:40.096Z"
   },
   {
    "duration": -516,
    "start_time": "2022-02-02T13:48:40.126Z"
   },
   {
    "duration": -534,
    "start_time": "2022-02-02T13:48:40.145Z"
   },
   {
    "duration": -541,
    "start_time": "2022-02-02T13:48:40.153Z"
   },
   {
    "duration": -543,
    "start_time": "2022-02-02T13:48:40.157Z"
   },
   {
    "duration": -559,
    "start_time": "2022-02-02T13:48:40.174Z"
   },
   {
    "duration": -576,
    "start_time": "2022-02-02T13:48:40.192Z"
   },
   {
    "duration": -592,
    "start_time": "2022-02-02T13:48:40.210Z"
   },
   {
    "duration": -609,
    "start_time": "2022-02-02T13:48:40.228Z"
   },
   {
    "duration": -627,
    "start_time": "2022-02-02T13:48:40.247Z"
   },
   {
    "duration": 365,
    "start_time": "2022-02-02T13:49:59.458Z"
   },
   {
    "duration": 1327,
    "start_time": "2022-02-02T13:50:15.223Z"
   },
   {
    "duration": 598,
    "start_time": "2022-02-02T13:50:16.552Z"
   },
   {
    "duration": 72,
    "start_time": "2022-02-02T13:50:17.153Z"
   },
   {
    "duration": 79,
    "start_time": "2022-02-02T13:50:17.227Z"
   },
   {
    "duration": 69,
    "start_time": "2022-02-02T13:50:17.309Z"
   },
   {
    "duration": 35,
    "start_time": "2022-02-02T13:50:17.381Z"
   },
   {
    "duration": 67,
    "start_time": "2022-02-02T13:50:17.420Z"
   },
   {
    "duration": 36,
    "start_time": "2022-02-02T13:50:17.490Z"
   },
   {
    "duration": 146,
    "start_time": "2022-02-02T13:50:17.529Z"
   },
   {
    "duration": 121,
    "start_time": "2022-02-02T13:50:17.683Z"
   },
   {
    "duration": 31,
    "start_time": "2022-02-02T13:50:17.807Z"
   },
   {
    "duration": 169,
    "start_time": "2022-02-02T13:50:17.860Z"
   },
   {
    "duration": 230,
    "start_time": "2022-02-02T13:50:18.033Z"
   },
   {
    "duration": 3,
    "start_time": "2022-02-02T13:50:18.266Z"
   },
   {
    "duration": 76,
    "start_time": "2022-02-02T13:50:18.272Z"
   },
   {
    "duration": 4,
    "start_time": "2022-02-02T13:50:18.352Z"
   },
   {
    "duration": 4,
    "start_time": "2022-02-02T13:50:18.359Z"
   },
   {
    "duration": 26,
    "start_time": "2022-02-02T13:50:18.366Z"
   },
   {
    "duration": 4,
    "start_time": "2022-02-02T13:50:18.395Z"
   },
   {
    "duration": 7,
    "start_time": "2022-02-02T13:50:18.401Z"
   },
   {
    "duration": 5,
    "start_time": "2022-02-02T13:50:18.410Z"
   },
   {
    "duration": 8,
    "start_time": "2022-02-02T13:50:18.418Z"
   },
   {
    "duration": 10,
    "start_time": "2022-02-02T13:50:18.432Z"
   },
   {
    "duration": 13,
    "start_time": "2022-02-02T13:50:18.445Z"
   },
   {
    "duration": 15,
    "start_time": "2022-02-02T13:50:18.460Z"
   },
   {
    "duration": 7,
    "start_time": "2022-02-02T13:50:18.477Z"
   },
   {
    "duration": 6,
    "start_time": "2022-02-02T13:50:18.486Z"
   },
   {
    "duration": 7,
    "start_time": "2022-02-02T13:50:18.494Z"
   },
   {
    "duration": 6,
    "start_time": "2022-02-02T13:50:18.503Z"
   },
   {
    "duration": 15,
    "start_time": "2022-02-02T13:50:18.512Z"
   },
   {
    "duration": 10880,
    "start_time": "2022-02-02T13:51:04.724Z"
   },
   {
    "duration": 9921,
    "start_time": "2022-02-02T13:51:33.734Z"
   },
   {
    "duration": 1319,
    "start_time": "2022-02-02T13:51:55.890Z"
   },
   {
    "duration": 564,
    "start_time": "2022-02-02T13:51:57.212Z"
   },
   {
    "duration": 84,
    "start_time": "2022-02-02T13:51:57.779Z"
   },
   {
    "duration": 75,
    "start_time": "2022-02-02T13:51:57.866Z"
   },
   {
    "duration": 65,
    "start_time": "2022-02-02T13:51:57.944Z"
   },
   {
    "duration": 55,
    "start_time": "2022-02-02T13:51:58.012Z"
   },
   {
    "duration": 46,
    "start_time": "2022-02-02T13:51:58.070Z"
   },
   {
    "duration": 64,
    "start_time": "2022-02-02T13:51:58.120Z"
   },
   {
    "duration": 116,
    "start_time": "2022-02-02T13:51:58.187Z"
   },
   {
    "duration": 94,
    "start_time": "2022-02-02T13:51:58.305Z"
   },
   {
    "duration": 8,
    "start_time": "2022-02-02T13:51:58.402Z"
   },
   {
    "duration": 59,
    "start_time": "2022-02-02T13:51:58.413Z"
   },
   {
    "duration": 47,
    "start_time": "2022-02-02T13:51:58.474Z"
   },
   {
    "duration": 4,
    "start_time": "2022-02-02T13:51:58.523Z"
   },
   {
    "duration": 32,
    "start_time": "2022-02-02T13:51:58.529Z"
   },
   {
    "duration": 12,
    "start_time": "2022-02-02T13:51:58.564Z"
   },
   {
    "duration": 7,
    "start_time": "2022-02-02T13:51:58.578Z"
   },
   {
    "duration": 8,
    "start_time": "2022-02-02T13:51:58.588Z"
   },
   {
    "duration": 7,
    "start_time": "2022-02-02T13:51:58.599Z"
   },
   {
    "duration": 7,
    "start_time": "2022-02-02T13:51:58.609Z"
   },
   {
    "duration": 4,
    "start_time": "2022-02-02T13:51:58.619Z"
   },
   {
    "duration": 8,
    "start_time": "2022-02-02T13:51:58.625Z"
   },
   {
    "duration": 24,
    "start_time": "2022-02-02T13:51:58.637Z"
   },
   {
    "duration": 17,
    "start_time": "2022-02-02T13:51:58.663Z"
   },
   {
    "duration": 7,
    "start_time": "2022-02-02T13:51:58.683Z"
   },
   {
    "duration": 8,
    "start_time": "2022-02-02T13:51:58.692Z"
   },
   {
    "duration": 10,
    "start_time": "2022-02-02T13:51:58.702Z"
   },
   {
    "duration": 5,
    "start_time": "2022-02-02T13:51:58.715Z"
   },
   {
    "duration": 5,
    "start_time": "2022-02-02T13:51:58.723Z"
   },
   {
    "duration": 33,
    "start_time": "2022-02-02T13:51:58.730Z"
   },
   {
    "duration": 10749,
    "start_time": "2022-02-02T13:53:36.806Z"
   },
   {
    "duration": 1548,
    "start_time": "2022-02-02T13:53:56.255Z"
   },
   {
    "duration": 715,
    "start_time": "2022-02-02T13:53:57.806Z"
   },
   {
    "duration": 78,
    "start_time": "2022-02-02T13:53:58.525Z"
   },
   {
    "duration": 89,
    "start_time": "2022-02-02T13:53:58.607Z"
   },
   {
    "duration": 71,
    "start_time": "2022-02-02T13:53:58.699Z"
   },
   {
    "duration": 38,
    "start_time": "2022-02-02T13:53:58.774Z"
   },
   {
    "duration": 66,
    "start_time": "2022-02-02T13:53:58.815Z"
   },
   {
    "duration": 38,
    "start_time": "2022-02-02T13:53:58.885Z"
   },
   {
    "duration": 135,
    "start_time": "2022-02-02T13:53:58.926Z"
   },
   {
    "duration": 86,
    "start_time": "2022-02-02T13:53:59.064Z"
   },
   {
    "duration": 12,
    "start_time": "2022-02-02T13:53:59.159Z"
   },
   {
    "duration": 36,
    "start_time": "2022-02-02T13:53:59.173Z"
   },
   {
    "duration": 71,
    "start_time": "2022-02-02T13:53:59.211Z"
   },
   {
    "duration": 4,
    "start_time": "2022-02-02T13:53:59.285Z"
   },
   {
    "duration": 4,
    "start_time": "2022-02-02T13:53:59.292Z"
   },
   {
    "duration": 10,
    "start_time": "2022-02-02T13:53:59.298Z"
   },
   {
    "duration": 7,
    "start_time": "2022-02-02T13:53:59.310Z"
   },
   {
    "duration": 7,
    "start_time": "2022-02-02T13:53:59.319Z"
   },
   {
    "duration": 4,
    "start_time": "2022-02-02T13:53:59.328Z"
   },
   {
    "duration": 14,
    "start_time": "2022-02-02T13:53:59.364Z"
   },
   {
    "duration": 7,
    "start_time": "2022-02-02T13:53:59.380Z"
   },
   {
    "duration": 8,
    "start_time": "2022-02-02T13:53:59.390Z"
   },
   {
    "duration": 4,
    "start_time": "2022-02-02T13:53:59.402Z"
   },
   {
    "duration": 5,
    "start_time": "2022-02-02T13:53:59.408Z"
   },
   {
    "duration": 7,
    "start_time": "2022-02-02T13:53:59.415Z"
   },
   {
    "duration": 7,
    "start_time": "2022-02-02T13:53:59.424Z"
   },
   {
    "duration": 33,
    "start_time": "2022-02-02T13:53:59.434Z"
   },
   {
    "duration": 9,
    "start_time": "2022-02-02T13:53:59.469Z"
   },
   {
    "duration": 4,
    "start_time": "2022-02-02T13:53:59.481Z"
   },
   {
    "duration": 4,
    "start_time": "2022-02-02T13:53:59.488Z"
   },
   {
    "duration": 1350,
    "start_time": "2022-02-02T13:54:35.963Z"
   },
   {
    "duration": 560,
    "start_time": "2022-02-02T13:54:37.316Z"
   },
   {
    "duration": 69,
    "start_time": "2022-02-02T13:54:37.879Z"
   },
   {
    "duration": 72,
    "start_time": "2022-02-02T13:54:37.952Z"
   },
   {
    "duration": 59,
    "start_time": "2022-02-02T13:54:38.028Z"
   },
   {
    "duration": 35,
    "start_time": "2022-02-02T13:54:38.089Z"
   },
   {
    "duration": 71,
    "start_time": "2022-02-02T13:54:38.127Z"
   },
   {
    "duration": 57,
    "start_time": "2022-02-02T13:54:38.202Z"
   },
   {
    "duration": 102,
    "start_time": "2022-02-02T13:54:38.269Z"
   },
   {
    "duration": 97,
    "start_time": "2022-02-02T13:54:38.374Z"
   },
   {
    "duration": 8,
    "start_time": "2022-02-02T13:54:38.473Z"
   },
   {
    "duration": 30,
    "start_time": "2022-02-02T13:54:38.484Z"
   },
   {
    "duration": 71,
    "start_time": "2022-02-02T13:54:38.516Z"
   },
   {
    "duration": 3,
    "start_time": "2022-02-02T13:54:38.589Z"
   },
   {
    "duration": 4,
    "start_time": "2022-02-02T13:54:38.595Z"
   },
   {
    "duration": 6,
    "start_time": "2022-02-02T13:54:38.602Z"
   },
   {
    "duration": 4,
    "start_time": "2022-02-02T13:54:38.611Z"
   },
   {
    "duration": 4,
    "start_time": "2022-02-02T13:54:38.617Z"
   },
   {
    "duration": 35,
    "start_time": "2022-02-02T13:54:38.624Z"
   },
   {
    "duration": 9,
    "start_time": "2022-02-02T13:54:38.661Z"
   },
   {
    "duration": 8,
    "start_time": "2022-02-02T13:54:38.672Z"
   },
   {
    "duration": 6,
    "start_time": "2022-02-02T13:54:38.683Z"
   },
   {
    "duration": 3,
    "start_time": "2022-02-02T13:54:38.695Z"
   },
   {
    "duration": 4,
    "start_time": "2022-02-02T13:54:38.702Z"
   },
   {
    "duration": 5,
    "start_time": "2022-02-02T13:54:38.709Z"
   },
   {
    "duration": 46,
    "start_time": "2022-02-02T13:54:38.717Z"
   },
   {
    "duration": 10,
    "start_time": "2022-02-02T13:54:38.768Z"
   },
   {
    "duration": 5,
    "start_time": "2022-02-02T13:54:38.780Z"
   },
   {
    "duration": 4,
    "start_time": "2022-02-02T13:54:38.787Z"
   },
   {
    "duration": 4,
    "start_time": "2022-02-02T13:54:38.794Z"
   },
   {
    "duration": 1304,
    "start_time": "2022-02-02T13:55:56.110Z"
   },
   {
    "duration": 566,
    "start_time": "2022-02-02T13:55:57.417Z"
   },
   {
    "duration": 87,
    "start_time": "2022-02-02T13:55:57.986Z"
   },
   {
    "duration": 64,
    "start_time": "2022-02-02T13:55:58.077Z"
   },
   {
    "duration": 59,
    "start_time": "2022-02-02T13:55:58.144Z"
   },
   {
    "duration": 68,
    "start_time": "2022-02-02T13:55:58.205Z"
   },
   {
    "duration": 39,
    "start_time": "2022-02-02T13:55:58.276Z"
   },
   {
    "duration": 65,
    "start_time": "2022-02-02T13:55:58.318Z"
   },
   {
    "duration": 128,
    "start_time": "2022-02-02T13:55:58.385Z"
   },
   {
    "duration": 102,
    "start_time": "2022-02-02T13:55:58.515Z"
   },
   {
    "duration": 7,
    "start_time": "2022-02-02T13:55:58.620Z"
   },
   {
    "duration": 50,
    "start_time": "2022-02-02T13:55:58.629Z"
   },
   {
    "duration": 1501,
    "start_time": "2022-02-02T13:55:58.681Z"
   },
   {
    "duration": -272,
    "start_time": "2022-02-02T13:56:00.457Z"
   },
   {
    "duration": -288,
    "start_time": "2022-02-02T13:56:00.475Z"
   },
   {
    "duration": -306,
    "start_time": "2022-02-02T13:56:00.494Z"
   },
   {
    "duration": -322,
    "start_time": "2022-02-02T13:56:00.512Z"
   },
   {
    "duration": -339,
    "start_time": "2022-02-02T13:56:00.531Z"
   },
   {
    "duration": -361,
    "start_time": "2022-02-02T13:56:00.555Z"
   },
   {
    "duration": -381,
    "start_time": "2022-02-02T13:56:00.576Z"
   },
   {
    "duration": -402,
    "start_time": "2022-02-02T13:56:00.599Z"
   },
   {
    "duration": -414,
    "start_time": "2022-02-02T13:56:00.612Z"
   },
   {
    "duration": -430,
    "start_time": "2022-02-02T13:56:00.630Z"
   },
   {
    "duration": -447,
    "start_time": "2022-02-02T13:56:00.648Z"
   },
   {
    "duration": -468,
    "start_time": "2022-02-02T13:56:00.671Z"
   },
   {
    "duration": -483,
    "start_time": "2022-02-02T13:56:00.688Z"
   },
   {
    "duration": -498,
    "start_time": "2022-02-02T13:56:00.704Z"
   },
   {
    "duration": -513,
    "start_time": "2022-02-02T13:56:00.721Z"
   },
   {
    "duration": -530,
    "start_time": "2022-02-02T13:56:00.739Z"
   },
   {
    "duration": -545,
    "start_time": "2022-02-02T13:56:00.756Z"
   },
   {
    "duration": 1416,
    "start_time": "2022-02-02T13:56:49.676Z"
   },
   {
    "duration": 591,
    "start_time": "2022-02-02T13:56:51.096Z"
   },
   {
    "duration": 73,
    "start_time": "2022-02-02T13:56:51.690Z"
   },
   {
    "duration": 62,
    "start_time": "2022-02-02T13:56:51.765Z"
   },
   {
    "duration": 58,
    "start_time": "2022-02-02T13:56:51.830Z"
   },
   {
    "duration": 33,
    "start_time": "2022-02-02T13:56:51.890Z"
   },
   {
    "duration": 75,
    "start_time": "2022-02-02T13:56:51.927Z"
   },
   {
    "duration": 60,
    "start_time": "2022-02-02T13:56:52.006Z"
   },
   {
    "duration": 97,
    "start_time": "2022-02-02T13:56:52.069Z"
   },
   {
    "duration": 105,
    "start_time": "2022-02-02T13:56:52.170Z"
   },
   {
    "duration": 8,
    "start_time": "2022-02-02T13:56:52.277Z"
   },
   {
    "duration": 28,
    "start_time": "2022-02-02T13:56:52.287Z"
   },
   {
    "duration": 80,
    "start_time": "2022-02-02T13:56:52.318Z"
   },
   {
    "duration": 3,
    "start_time": "2022-02-02T13:56:52.401Z"
   },
   {
    "duration": 5,
    "start_time": "2022-02-02T13:56:52.406Z"
   },
   {
    "duration": 22,
    "start_time": "2022-02-02T13:56:52.413Z"
   },
   {
    "duration": 12,
    "start_time": "2022-02-02T13:56:52.437Z"
   },
   {
    "duration": 32,
    "start_time": "2022-02-02T13:56:52.451Z"
   },
   {
    "duration": 25,
    "start_time": "2022-02-02T13:56:52.485Z"
   },
   {
    "duration": 15,
    "start_time": "2022-02-02T13:56:52.512Z"
   },
   {
    "duration": 14,
    "start_time": "2022-02-02T13:56:52.530Z"
   },
   {
    "duration": 36,
    "start_time": "2022-02-02T13:56:52.548Z"
   },
   {
    "duration": 11,
    "start_time": "2022-02-02T13:56:52.587Z"
   },
   {
    "duration": 14,
    "start_time": "2022-02-02T13:56:52.601Z"
   },
   {
    "duration": 20,
    "start_time": "2022-02-02T13:56:52.617Z"
   },
   {
    "duration": 10,
    "start_time": "2022-02-02T13:56:52.640Z"
   },
   {
    "duration": 11,
    "start_time": "2022-02-02T13:56:52.652Z"
   },
   {
    "duration": 32,
    "start_time": "2022-02-02T13:56:52.665Z"
   },
   {
    "duration": 16,
    "start_time": "2022-02-02T13:56:52.699Z"
   },
   {
    "duration": 8,
    "start_time": "2022-02-02T13:56:52.717Z"
   },
   {
    "duration": 1346,
    "start_time": "2022-02-02T13:59:09.469Z"
   },
   {
    "duration": 585,
    "start_time": "2022-02-02T13:59:10.817Z"
   },
   {
    "duration": 74,
    "start_time": "2022-02-02T13:59:11.405Z"
   },
   {
    "duration": 62,
    "start_time": "2022-02-02T13:59:11.482Z"
   },
   {
    "duration": 57,
    "start_time": "2022-02-02T13:59:11.546Z"
   },
   {
    "duration": 57,
    "start_time": "2022-02-02T13:59:11.605Z"
   },
   {
    "duration": 43,
    "start_time": "2022-02-02T13:59:11.665Z"
   },
   {
    "duration": 66,
    "start_time": "2022-02-02T13:59:11.711Z"
   },
   {
    "duration": 114,
    "start_time": "2022-02-02T13:59:11.780Z"
   },
   {
    "duration": 91,
    "start_time": "2022-02-02T13:59:11.897Z"
   },
   {
    "duration": 10,
    "start_time": "2022-02-02T13:59:11.991Z"
   },
   {
    "duration": 33,
    "start_time": "2022-02-02T13:59:12.003Z"
   },
   {
    "duration": 637,
    "start_time": "2022-02-02T13:59:12.038Z"
   },
   {
    "duration": -247,
    "start_time": "2022-02-02T13:59:12.926Z"
   },
   {
    "duration": -266,
    "start_time": "2022-02-02T13:59:12.946Z"
   },
   {
    "duration": -288,
    "start_time": "2022-02-02T13:59:12.970Z"
   },
   {
    "duration": -307,
    "start_time": "2022-02-02T13:59:12.990Z"
   },
   {
    "duration": -323,
    "start_time": "2022-02-02T13:59:13.008Z"
   },
   {
    "duration": -339,
    "start_time": "2022-02-02T13:59:13.025Z"
   },
   {
    "duration": -359,
    "start_time": "2022-02-02T13:59:13.046Z"
   },
   {
    "duration": -380,
    "start_time": "2022-02-02T13:59:13.069Z"
   },
   {
    "duration": -396,
    "start_time": "2022-02-02T13:59:13.086Z"
   },
   {
    "duration": -413,
    "start_time": "2022-02-02T13:59:13.105Z"
   },
   {
    "duration": -433,
    "start_time": "2022-02-02T13:59:13.126Z"
   },
   {
    "duration": -452,
    "start_time": "2022-02-02T13:59:13.147Z"
   },
   {
    "duration": -468,
    "start_time": "2022-02-02T13:59:13.164Z"
   },
   {
    "duration": -482,
    "start_time": "2022-02-02T13:59:13.180Z"
   },
   {
    "duration": -502,
    "start_time": "2022-02-02T13:59:13.202Z"
   },
   {
    "duration": -518,
    "start_time": "2022-02-02T13:59:13.219Z"
   },
   {
    "duration": -535,
    "start_time": "2022-02-02T13:59:13.238Z"
   },
   {
    "duration": 1376,
    "start_time": "2022-02-02T14:00:09.437Z"
   },
   {
    "duration": 590,
    "start_time": "2022-02-02T14:00:10.816Z"
   },
   {
    "duration": 69,
    "start_time": "2022-02-02T14:00:11.409Z"
   },
   {
    "duration": 80,
    "start_time": "2022-02-02T14:00:11.481Z"
   },
   {
    "duration": 42,
    "start_time": "2022-02-02T14:00:11.564Z"
   },
   {
    "duration": 64,
    "start_time": "2022-02-02T14:00:11.609Z"
   },
   {
    "duration": 40,
    "start_time": "2022-02-02T14:00:11.676Z"
   },
   {
    "duration": 69,
    "start_time": "2022-02-02T14:00:11.720Z"
   },
   {
    "duration": 112,
    "start_time": "2022-02-02T14:00:11.792Z"
   },
   {
    "duration": 98,
    "start_time": "2022-02-02T14:00:11.906Z"
   },
   {
    "duration": 8,
    "start_time": "2022-02-02T14:00:12.006Z"
   },
   {
    "duration": 46,
    "start_time": "2022-02-02T14:00:12.016Z"
   },
   {
    "duration": 535,
    "start_time": "2022-02-02T14:00:12.066Z"
   },
   {
    "duration": -287,
    "start_time": "2022-02-02T14:00:12.891Z"
   },
   {
    "duration": -303,
    "start_time": "2022-02-02T14:00:12.908Z"
   },
   {
    "duration": -307,
    "start_time": "2022-02-02T14:00:12.913Z"
   },
   {
    "duration": -315,
    "start_time": "2022-02-02T14:00:12.923Z"
   },
   {
    "duration": -342,
    "start_time": "2022-02-02T14:00:12.951Z"
   },
   {
    "duration": -367,
    "start_time": "2022-02-02T14:00:12.978Z"
   },
   {
    "duration": -388,
    "start_time": "2022-02-02T14:00:13.000Z"
   },
   {
    "duration": -407,
    "start_time": "2022-02-02T14:00:13.021Z"
   },
   {
    "duration": -427,
    "start_time": "2022-02-02T14:00:13.043Z"
   },
   {
    "duration": -439,
    "start_time": "2022-02-02T14:00:13.056Z"
   },
   {
    "duration": -454,
    "start_time": "2022-02-02T14:00:13.073Z"
   },
   {
    "duration": -472,
    "start_time": "2022-02-02T14:00:13.092Z"
   },
   {
    "duration": -489,
    "start_time": "2022-02-02T14:00:13.111Z"
   },
   {
    "duration": -506,
    "start_time": "2022-02-02T14:00:13.130Z"
   },
   {
    "duration": -525,
    "start_time": "2022-02-02T14:00:13.150Z"
   },
   {
    "duration": -546,
    "start_time": "2022-02-02T14:00:13.173Z"
   },
   {
    "duration": -561,
    "start_time": "2022-02-02T14:00:13.189Z"
   },
   {
    "duration": 1310,
    "start_time": "2022-02-02T14:00:53.105Z"
   },
   {
    "duration": 568,
    "start_time": "2022-02-02T14:00:54.417Z"
   },
   {
    "duration": 70,
    "start_time": "2022-02-02T14:00:54.989Z"
   },
   {
    "duration": 66,
    "start_time": "2022-02-02T14:00:55.063Z"
   },
   {
    "duration": 62,
    "start_time": "2022-02-02T14:00:55.131Z"
   },
   {
    "duration": 35,
    "start_time": "2022-02-02T14:00:55.196Z"
   },
   {
    "duration": 42,
    "start_time": "2022-02-02T14:00:55.262Z"
   },
   {
    "duration": 59,
    "start_time": "2022-02-02T14:00:55.307Z"
   },
   {
    "duration": 103,
    "start_time": "2022-02-02T14:00:55.372Z"
   },
   {
    "duration": 100,
    "start_time": "2022-02-02T14:00:55.478Z"
   },
   {
    "duration": 7,
    "start_time": "2022-02-02T14:00:55.580Z"
   },
   {
    "duration": 30,
    "start_time": "2022-02-02T14:00:55.589Z"
   },
   {
    "duration": 548,
    "start_time": "2022-02-02T14:00:55.622Z"
   },
   {
    "duration": -267,
    "start_time": "2022-02-02T14:00:56.439Z"
   },
   {
    "duration": -294,
    "start_time": "2022-02-02T14:00:56.468Z"
   },
   {
    "duration": -310,
    "start_time": "2022-02-02T14:00:56.486Z"
   },
   {
    "duration": -324,
    "start_time": "2022-02-02T14:00:56.502Z"
   },
   {
    "duration": -335,
    "start_time": "2022-02-02T14:00:56.514Z"
   },
   {
    "duration": -349,
    "start_time": "2022-02-02T14:00:56.530Z"
   },
   {
    "duration": -351,
    "start_time": "2022-02-02T14:00:56.534Z"
   },
   {
    "duration": -364,
    "start_time": "2022-02-02T14:00:56.549Z"
   },
   {
    "duration": -380,
    "start_time": "2022-02-02T14:00:56.567Z"
   },
   {
    "duration": -398,
    "start_time": "2022-02-02T14:00:56.587Z"
   },
   {
    "duration": -419,
    "start_time": "2022-02-02T14:00:56.611Z"
   },
   {
    "duration": -431,
    "start_time": "2022-02-02T14:00:56.627Z"
   },
   {
    "duration": -445,
    "start_time": "2022-02-02T14:00:56.643Z"
   },
   {
    "duration": -460,
    "start_time": "2022-02-02T14:00:56.660Z"
   },
   {
    "duration": -477,
    "start_time": "2022-02-02T14:00:56.680Z"
   },
   {
    "duration": -492,
    "start_time": "2022-02-02T14:00:56.697Z"
   },
   {
    "duration": -507,
    "start_time": "2022-02-02T14:00:56.714Z"
   },
   {
    "duration": 1348,
    "start_time": "2022-02-02T14:01:57.882Z"
   },
   {
    "duration": 557,
    "start_time": "2022-02-02T14:01:59.233Z"
   },
   {
    "duration": 68,
    "start_time": "2022-02-02T14:01:59.793Z"
   },
   {
    "duration": 67,
    "start_time": "2022-02-02T14:01:59.864Z"
   },
   {
    "duration": 67,
    "start_time": "2022-02-02T14:01:59.934Z"
   },
   {
    "duration": 69,
    "start_time": "2022-02-02T14:02:00.004Z"
   },
   {
    "duration": 48,
    "start_time": "2022-02-02T14:02:00.076Z"
   },
   {
    "duration": 63,
    "start_time": "2022-02-02T14:02:00.128Z"
   },
   {
    "duration": 138,
    "start_time": "2022-02-02T14:02:00.194Z"
   },
   {
    "duration": 120,
    "start_time": "2022-02-02T14:02:00.335Z"
   },
   {
    "duration": 9,
    "start_time": "2022-02-02T14:02:00.458Z"
   },
   {
    "duration": 40,
    "start_time": "2022-02-02T14:02:00.470Z"
   },
   {
    "duration": 110,
    "start_time": "2022-02-02T14:02:00.512Z"
   },
   {
    "duration": 3,
    "start_time": "2022-02-02T14:02:00.624Z"
   },
   {
    "duration": 40,
    "start_time": "2022-02-02T14:02:00.630Z"
   },
   {
    "duration": 18,
    "start_time": "2022-02-02T14:02:00.673Z"
   },
   {
    "duration": 27,
    "start_time": "2022-02-02T14:02:00.693Z"
   },
   {
    "duration": 20,
    "start_time": "2022-02-02T14:02:00.722Z"
   },
   {
    "duration": 13,
    "start_time": "2022-02-02T14:02:00.744Z"
   },
   {
    "duration": 25,
    "start_time": "2022-02-02T14:02:00.759Z"
   },
   {
    "duration": 20,
    "start_time": "2022-02-02T14:02:00.787Z"
   },
   {
    "duration": 21,
    "start_time": "2022-02-02T14:02:00.811Z"
   },
   {
    "duration": 9,
    "start_time": "2022-02-02T14:02:00.839Z"
   },
   {
    "duration": 7,
    "start_time": "2022-02-02T14:02:00.851Z"
   },
   {
    "duration": 21,
    "start_time": "2022-02-02T14:02:00.861Z"
   },
   {
    "duration": 15,
    "start_time": "2022-02-02T14:02:00.884Z"
   },
   {
    "duration": 10,
    "start_time": "2022-02-02T14:02:00.902Z"
   },
   {
    "duration": 22,
    "start_time": "2022-02-02T14:02:00.915Z"
   },
   {
    "duration": 36,
    "start_time": "2022-02-02T14:02:00.940Z"
   },
   {
    "duration": 13,
    "start_time": "2022-02-02T14:02:00.979Z"
   },
   {
    "duration": 1321,
    "start_time": "2022-02-02T14:02:57.984Z"
   },
   {
    "duration": 579,
    "start_time": "2022-02-02T14:02:59.308Z"
   },
   {
    "duration": 76,
    "start_time": "2022-02-02T14:02:59.889Z"
   },
   {
    "duration": 67,
    "start_time": "2022-02-02T14:02:59.968Z"
   },
   {
    "duration": 63,
    "start_time": "2022-02-02T14:03:00.037Z"
   },
   {
    "duration": 67,
    "start_time": "2022-02-02T14:03:00.103Z"
   },
   {
    "duration": 49,
    "start_time": "2022-02-02T14:03:00.173Z"
   },
   {
    "duration": 53,
    "start_time": "2022-02-02T14:03:00.226Z"
   },
   {
    "duration": 109,
    "start_time": "2022-02-02T14:03:00.283Z"
   },
   {
    "duration": 104,
    "start_time": "2022-02-02T14:03:00.394Z"
   },
   {
    "duration": 10,
    "start_time": "2022-02-02T14:03:00.501Z"
   },
   {
    "duration": 51,
    "start_time": "2022-02-02T14:03:00.514Z"
   },
   {
    "duration": 105,
    "start_time": "2022-02-02T14:03:00.567Z"
   },
   {
    "duration": 3,
    "start_time": "2022-02-02T14:03:00.675Z"
   },
   {
    "duration": 10,
    "start_time": "2022-02-02T14:03:00.680Z"
   },
   {
    "duration": 12,
    "start_time": "2022-02-02T14:03:00.692Z"
   },
   {
    "duration": 9,
    "start_time": "2022-02-02T14:03:00.707Z"
   },
   {
    "duration": 8,
    "start_time": "2022-02-02T14:03:00.718Z"
   },
   {
    "duration": 15,
    "start_time": "2022-02-02T14:03:00.728Z"
   },
   {
    "duration": 13,
    "start_time": "2022-02-02T14:03:00.745Z"
   },
   {
    "duration": 15,
    "start_time": "2022-02-02T14:03:00.764Z"
   },
   {
    "duration": 17,
    "start_time": "2022-02-02T14:03:00.782Z"
   },
   {
    "duration": 13,
    "start_time": "2022-02-02T14:03:00.803Z"
   },
   {
    "duration": 17,
    "start_time": "2022-02-02T14:03:00.819Z"
   },
   {
    "duration": 34,
    "start_time": "2022-02-02T14:03:00.839Z"
   },
   {
    "duration": 15,
    "start_time": "2022-02-02T14:03:00.875Z"
   },
   {
    "duration": 10,
    "start_time": "2022-02-02T14:03:00.892Z"
   },
   {
    "duration": 7,
    "start_time": "2022-02-02T14:03:00.905Z"
   },
   {
    "duration": 5,
    "start_time": "2022-02-02T14:03:00.914Z"
   },
   {
    "duration": 9,
    "start_time": "2022-02-02T14:03:00.921Z"
   },
   {
    "duration": 28,
    "start_time": "2022-02-02T14:06:49.843Z"
   },
   {
    "duration": 30,
    "start_time": "2022-02-02T14:08:10.872Z"
   },
   {
    "duration": 49,
    "start_time": "2022-02-02T14:09:23.791Z"
   },
   {
    "duration": 30,
    "start_time": "2022-02-02T14:11:59.674Z"
   },
   {
    "duration": 117,
    "start_time": "2022-02-02T14:12:17.398Z"
   },
   {
    "duration": 40,
    "start_time": "2022-02-02T14:12:22.982Z"
   },
   {
    "duration": 11189,
    "start_time": "2022-02-02T14:13:43.572Z"
   },
   {
    "duration": 1477,
    "start_time": "2022-02-02T14:15:00.430Z"
   },
   {
    "duration": 579,
    "start_time": "2022-02-02T14:15:01.910Z"
   },
   {
    "duration": 76,
    "start_time": "2022-02-02T14:15:02.493Z"
   },
   {
    "duration": 62,
    "start_time": "2022-02-02T14:15:02.572Z"
   },
   {
    "duration": 63,
    "start_time": "2022-02-02T14:15:02.636Z"
   },
   {
    "duration": 33,
    "start_time": "2022-02-02T14:15:02.701Z"
   },
   {
    "duration": 62,
    "start_time": "2022-02-02T14:15:02.736Z"
   },
   {
    "duration": 36,
    "start_time": "2022-02-02T14:15:02.801Z"
   },
   {
    "duration": 111,
    "start_time": "2022-02-02T14:15:02.864Z"
   },
   {
    "duration": 93,
    "start_time": "2022-02-02T14:15:02.977Z"
   },
   {
    "duration": 6,
    "start_time": "2022-02-02T14:15:03.073Z"
   },
   {
    "duration": 29,
    "start_time": "2022-02-02T14:15:03.081Z"
   },
   {
    "duration": 90,
    "start_time": "2022-02-02T14:15:03.112Z"
   },
   {
    "duration": 64,
    "start_time": "2022-02-02T14:15:03.205Z"
   },
   {
    "duration": 40,
    "start_time": "2022-02-02T14:15:03.271Z"
   },
   {
    "duration": 9943,
    "start_time": "2022-02-02T14:15:03.314Z"
   },
   {
    "duration": -282,
    "start_time": "2022-02-02T14:15:13.542Z"
   },
   {
    "duration": -289,
    "start_time": "2022-02-02T14:15:13.551Z"
   },
   {
    "duration": -308,
    "start_time": "2022-02-02T14:15:13.572Z"
   },
   {
    "duration": -322,
    "start_time": "2022-02-02T14:15:13.588Z"
   },
   {
    "duration": -342,
    "start_time": "2022-02-02T14:15:13.609Z"
   },
   {
    "duration": -361,
    "start_time": "2022-02-02T14:15:13.630Z"
   },
   {
    "duration": -385,
    "start_time": "2022-02-02T14:15:13.655Z"
   },
   {
    "duration": -400,
    "start_time": "2022-02-02T14:15:13.672Z"
   },
   {
    "duration": -417,
    "start_time": "2022-02-02T14:15:13.690Z"
   },
   {
    "duration": 1327,
    "start_time": "2022-02-02T14:15:38.826Z"
   },
   {
    "duration": 573,
    "start_time": "2022-02-02T14:15:40.156Z"
   },
   {
    "duration": 76,
    "start_time": "2022-02-02T14:15:40.732Z"
   },
   {
    "duration": 79,
    "start_time": "2022-02-02T14:15:40.811Z"
   },
   {
    "duration": 37,
    "start_time": "2022-02-02T14:15:40.892Z"
   },
   {
    "duration": 70,
    "start_time": "2022-02-02T14:15:40.931Z"
   },
   {
    "duration": 74,
    "start_time": "2022-02-02T14:15:41.003Z"
   },
   {
    "duration": 37,
    "start_time": "2022-02-02T14:15:41.083Z"
   },
   {
    "duration": 167,
    "start_time": "2022-02-02T14:15:41.123Z"
   },
   {
    "duration": 102,
    "start_time": "2022-02-02T14:15:41.293Z"
   },
   {
    "duration": 8,
    "start_time": "2022-02-02T14:15:41.397Z"
   },
   {
    "duration": 33,
    "start_time": "2022-02-02T14:15:41.407Z"
   },
   {
    "duration": 93,
    "start_time": "2022-02-02T14:15:41.444Z"
   },
   {
    "duration": 68,
    "start_time": "2022-02-02T14:15:41.539Z"
   },
   {
    "duration": 61,
    "start_time": "2022-02-02T14:15:41.610Z"
   },
   {
    "duration": 15578,
    "start_time": "2022-02-02T14:15:41.674Z"
   },
   {
    "duration": -240,
    "start_time": "2022-02-02T14:15:57.495Z"
   },
   {
    "duration": -260,
    "start_time": "2022-02-02T14:15:57.516Z"
   },
   {
    "duration": -278,
    "start_time": "2022-02-02T14:15:57.535Z"
   },
   {
    "duration": -294,
    "start_time": "2022-02-02T14:15:57.552Z"
   },
   {
    "duration": -308,
    "start_time": "2022-02-02T14:15:57.568Z"
   },
   {
    "duration": -330,
    "start_time": "2022-02-02T14:15:57.591Z"
   },
   {
    "duration": -346,
    "start_time": "2022-02-02T14:15:57.609Z"
   },
   {
    "duration": -365,
    "start_time": "2022-02-02T14:15:57.630Z"
   },
   {
    "duration": -382,
    "start_time": "2022-02-02T14:15:57.648Z"
   },
   {
    "duration": 24,
    "start_time": "2022-02-02T14:17:19.631Z"
   },
   {
    "duration": 1406,
    "start_time": "2022-02-02T14:20:41.572Z"
   },
   {
    "duration": 566,
    "start_time": "2022-02-02T14:20:42.981Z"
   },
   {
    "duration": 77,
    "start_time": "2022-02-02T14:20:43.550Z"
   },
   {
    "duration": 75,
    "start_time": "2022-02-02T14:20:43.630Z"
   },
   {
    "duration": 57,
    "start_time": "2022-02-02T14:20:43.707Z"
   },
   {
    "duration": 38,
    "start_time": "2022-02-02T14:20:43.766Z"
   },
   {
    "duration": 72,
    "start_time": "2022-02-02T14:20:43.806Z"
   },
   {
    "duration": 37,
    "start_time": "2022-02-02T14:20:43.881Z"
   },
   {
    "duration": 123,
    "start_time": "2022-02-02T14:20:43.921Z"
   },
   {
    "duration": 90,
    "start_time": "2022-02-02T14:20:44.046Z"
   },
   {
    "duration": 7,
    "start_time": "2022-02-02T14:20:44.139Z"
   },
   {
    "duration": 45,
    "start_time": "2022-02-02T14:20:44.149Z"
   },
   {
    "duration": 97,
    "start_time": "2022-02-02T14:20:44.197Z"
   },
   {
    "duration": 50,
    "start_time": "2022-02-02T14:20:44.297Z"
   },
   {
    "duration": 44,
    "start_time": "2022-02-02T14:20:44.368Z"
   },
   {
    "duration": 11166,
    "start_time": "2022-02-02T14:20:44.415Z"
   },
   {
    "duration": -266,
    "start_time": "2022-02-02T14:20:55.850Z"
   },
   {
    "duration": -284,
    "start_time": "2022-02-02T14:20:55.870Z"
   },
   {
    "duration": -301,
    "start_time": "2022-02-02T14:20:55.889Z"
   },
   {
    "duration": -316,
    "start_time": "2022-02-02T14:20:55.905Z"
   },
   {
    "duration": -332,
    "start_time": "2022-02-02T14:20:55.922Z"
   },
   {
    "duration": -347,
    "start_time": "2022-02-02T14:20:55.938Z"
   },
   {
    "duration": -369,
    "start_time": "2022-02-02T14:20:55.962Z"
   },
   {
    "duration": -386,
    "start_time": "2022-02-02T14:20:55.981Z"
   },
   {
    "duration": -404,
    "start_time": "2022-02-02T14:20:56.001Z"
   },
   {
    "duration": 461,
    "start_time": "2022-02-02T14:23:58.533Z"
   },
   {
    "duration": 1312,
    "start_time": "2022-02-02T14:26:04.706Z"
   },
   {
    "duration": 691,
    "start_time": "2022-02-02T14:26:06.021Z"
   },
   {
    "duration": 74,
    "start_time": "2022-02-02T14:26:06.715Z"
   },
   {
    "duration": 94,
    "start_time": "2022-02-02T14:26:06.792Z"
   },
   {
    "duration": 40,
    "start_time": "2022-02-02T14:26:06.889Z"
   },
   {
    "duration": 55,
    "start_time": "2022-02-02T14:26:06.931Z"
   },
   {
    "duration": 40,
    "start_time": "2022-02-02T14:26:06.991Z"
   },
   {
    "duration": 6,
    "start_time": "2022-02-02T14:26:07.068Z"
   },
   {
    "duration": 112,
    "start_time": "2022-02-02T14:26:07.077Z"
   },
   {
    "duration": 99,
    "start_time": "2022-02-02T14:26:07.191Z"
   },
   {
    "duration": 8,
    "start_time": "2022-02-02T14:26:07.292Z"
   },
   {
    "duration": 28,
    "start_time": "2022-02-02T14:26:07.302Z"
   },
   {
    "duration": 95,
    "start_time": "2022-02-02T14:26:07.333Z"
   },
   {
    "duration": 69,
    "start_time": "2022-02-02T14:26:07.431Z"
   },
   {
    "duration": 61,
    "start_time": "2022-02-02T14:26:07.503Z"
   },
   {
    "duration": 8580,
    "start_time": "2022-02-02T14:26:07.567Z"
   },
   {
    "duration": -220,
    "start_time": "2022-02-02T14:26:16.370Z"
   },
   {
    "duration": -228,
    "start_time": "2022-02-02T14:26:16.379Z"
   },
   {
    "duration": -256,
    "start_time": "2022-02-02T14:26:16.409Z"
   },
   {
    "duration": -267,
    "start_time": "2022-02-02T14:26:16.422Z"
   },
   {
    "duration": -290,
    "start_time": "2022-02-02T14:26:16.447Z"
   },
   {
    "duration": -320,
    "start_time": "2022-02-02T14:26:16.479Z"
   },
   {
    "duration": -343,
    "start_time": "2022-02-02T14:26:16.503Z"
   },
   {
    "duration": -363,
    "start_time": "2022-02-02T14:26:16.525Z"
   },
   {
    "duration": -376,
    "start_time": "2022-02-02T14:26:16.543Z"
   },
   {
    "duration": 1371,
    "start_time": "2022-02-02T14:27:58.679Z"
   },
   {
    "duration": 1734,
    "start_time": "2022-02-02T14:28:00.053Z"
   },
   {
    "duration": 78,
    "start_time": "2022-02-02T14:28:01.790Z"
   },
   {
    "duration": 62,
    "start_time": "2022-02-02T14:28:01.871Z"
   },
   {
    "duration": 57,
    "start_time": "2022-02-02T14:28:01.936Z"
   },
   {
    "duration": 34,
    "start_time": "2022-02-02T14:28:01.996Z"
   },
   {
    "duration": 45,
    "start_time": "2022-02-02T14:28:02.061Z"
   },
   {
    "duration": 5,
    "start_time": "2022-02-02T14:28:02.108Z"
   },
   {
    "duration": 126,
    "start_time": "2022-02-02T14:28:02.117Z"
   },
   {
    "duration": 95,
    "start_time": "2022-02-02T14:28:02.246Z"
   },
   {
    "duration": 18,
    "start_time": "2022-02-02T14:28:02.344Z"
   },
   {
    "duration": 31,
    "start_time": "2022-02-02T14:28:02.365Z"
   },
   {
    "duration": 98,
    "start_time": "2022-02-02T14:28:02.398Z"
   },
   {
    "duration": 49,
    "start_time": "2022-02-02T14:28:02.499Z"
   },
   {
    "duration": 3,
    "start_time": "2022-02-02T14:28:02.564Z"
   },
   {
    "duration": 520,
    "start_time": "2022-02-02T14:28:02.569Z"
   },
   {
    "duration": 2,
    "start_time": "2022-02-02T14:28:03.092Z"
   },
   {
    "duration": 10,
    "start_time": "2022-02-02T14:28:03.096Z"
   },
   {
    "duration": 6,
    "start_time": "2022-02-02T14:28:03.108Z"
   },
   {
    "duration": 8,
    "start_time": "2022-02-02T14:28:03.116Z"
   },
   {
    "duration": 8,
    "start_time": "2022-02-02T14:28:03.126Z"
   },
   {
    "duration": 26,
    "start_time": "2022-02-02T14:28:03.136Z"
   },
   {
    "duration": 12,
    "start_time": "2022-02-02T14:28:03.167Z"
   },
   {
    "duration": 7,
    "start_time": "2022-02-02T14:28:03.181Z"
   },
   {
    "duration": 5,
    "start_time": "2022-02-02T14:28:03.191Z"
   },
   {
    "duration": 1368,
    "start_time": "2022-02-02T14:31:06.960Z"
   },
   {
    "duration": 600,
    "start_time": "2022-02-02T14:31:08.331Z"
   },
   {
    "duration": 73,
    "start_time": "2022-02-02T14:31:08.934Z"
   },
   {
    "duration": 79,
    "start_time": "2022-02-02T14:31:09.010Z"
   },
   {
    "duration": 37,
    "start_time": "2022-02-02T14:31:09.092Z"
   },
   {
    "duration": 56,
    "start_time": "2022-02-02T14:31:09.131Z"
   },
   {
    "duration": 38,
    "start_time": "2022-02-02T14:31:09.189Z"
   },
   {
    "duration": 15,
    "start_time": "2022-02-02T14:31:09.259Z"
   },
   {
    "duration": 97,
    "start_time": "2022-02-02T14:31:09.277Z"
   },
   {
    "duration": 98,
    "start_time": "2022-02-02T14:31:09.376Z"
   },
   {
    "duration": 10,
    "start_time": "2022-02-02T14:31:09.477Z"
   },
   {
    "duration": 29,
    "start_time": "2022-02-02T14:31:09.490Z"
   },
   {
    "duration": 104,
    "start_time": "2022-02-02T14:31:09.522Z"
   },
   {
    "duration": 61,
    "start_time": "2022-02-02T14:31:09.628Z"
   },
   {
    "duration": 404,
    "start_time": "2022-02-02T14:31:09.691Z"
   },
   {
    "duration": 3,
    "start_time": "2022-02-02T14:31:10.097Z"
   },
   {
    "duration": 5,
    "start_time": "2022-02-02T14:31:10.103Z"
   },
   {
    "duration": 5,
    "start_time": "2022-02-02T14:31:10.111Z"
   },
   {
    "duration": 40,
    "start_time": "2022-02-02T14:31:10.119Z"
   },
   {
    "duration": 6,
    "start_time": "2022-02-02T14:31:10.162Z"
   },
   {
    "duration": 9,
    "start_time": "2022-02-02T14:31:10.170Z"
   },
   {
    "duration": 5,
    "start_time": "2022-02-02T14:31:10.181Z"
   },
   {
    "duration": 3,
    "start_time": "2022-02-02T14:31:10.190Z"
   },
   {
    "duration": 4,
    "start_time": "2022-02-02T14:31:10.196Z"
   },
   {
    "duration": 414,
    "start_time": "2022-02-02T14:32:38.673Z"
   },
   {
    "duration": 8561,
    "start_time": "2022-02-02T14:33:27.390Z"
   },
   {
    "duration": 372,
    "start_time": "2022-02-02T14:33:52.280Z"
   },
   {
    "duration": 369,
    "start_time": "2022-02-02T14:34:36.695Z"
   },
   {
    "duration": 2835,
    "start_time": "2022-02-02T14:35:03.494Z"
   },
   {
    "duration": 389,
    "start_time": "2022-02-02T14:35:32.307Z"
   },
   {
    "duration": 373,
    "start_time": "2022-02-02T14:35:44.319Z"
   },
   {
    "duration": 414,
    "start_time": "2022-02-02T14:36:24.473Z"
   },
   {
    "duration": 954,
    "start_time": "2022-02-02T14:37:06.634Z"
   },
   {
    "duration": 24,
    "start_time": "2022-02-02T14:37:40.406Z"
   },
   {
    "duration": 25,
    "start_time": "2022-02-02T14:37:50.173Z"
   },
   {
    "duration": 25,
    "start_time": "2022-02-02T14:37:54.519Z"
   },
   {
    "duration": 28,
    "start_time": "2022-02-02T14:37:59.480Z"
   },
   {
    "duration": 298,
    "start_time": "2022-02-02T14:38:02.827Z"
   },
   {
    "duration": 38,
    "start_time": "2022-02-02T14:38:28.467Z"
   },
   {
    "duration": 45,
    "start_time": "2022-02-02T14:46:20.820Z"
   },
   {
    "duration": 44,
    "start_time": "2022-02-02T14:46:40.139Z"
   },
   {
    "duration": 7,
    "start_time": "2022-02-02T14:47:20.581Z"
   },
   {
    "duration": 17,
    "start_time": "2022-02-02T14:47:35.127Z"
   },
   {
    "duration": 31,
    "start_time": "2022-02-02T14:53:24.123Z"
   },
   {
    "duration": 11,
    "start_time": "2022-02-02T14:54:37.959Z"
   },
   {
    "duration": 8,
    "start_time": "2022-02-02T14:54:56.367Z"
   },
   {
    "duration": 116,
    "start_time": "2022-02-02T14:59:21.976Z"
   },
   {
    "duration": 30,
    "start_time": "2022-02-02T14:59:33.975Z"
   },
   {
    "duration": 9,
    "start_time": "2022-02-02T14:59:46.353Z"
   },
   {
    "duration": 8,
    "start_time": "2022-02-02T14:59:51.895Z"
   },
   {
    "duration": 1383,
    "start_time": "2022-02-02T15:00:07.954Z"
   },
   {
    "duration": 588,
    "start_time": "2022-02-02T15:00:09.340Z"
   },
   {
    "duration": 72,
    "start_time": "2022-02-02T15:00:09.931Z"
   },
   {
    "duration": 76,
    "start_time": "2022-02-02T15:00:10.006Z"
   },
   {
    "duration": 36,
    "start_time": "2022-02-02T15:00:10.085Z"
   },
   {
    "duration": 68,
    "start_time": "2022-02-02T15:00:10.123Z"
   },
   {
    "duration": 44,
    "start_time": "2022-02-02T15:00:10.194Z"
   },
   {
    "duration": 26,
    "start_time": "2022-02-02T15:00:10.243Z"
   },
   {
    "duration": 115,
    "start_time": "2022-02-02T15:00:10.272Z"
   },
   {
    "duration": 91,
    "start_time": "2022-02-02T15:00:10.389Z"
   },
   {
    "duration": 7,
    "start_time": "2022-02-02T15:00:10.483Z"
   },
   {
    "duration": 35,
    "start_time": "2022-02-02T15:00:10.492Z"
   },
   {
    "duration": 105,
    "start_time": "2022-02-02T15:00:10.530Z"
   },
   {
    "duration": 66,
    "start_time": "2022-02-02T15:00:10.637Z"
   },
   {
    "duration": 417,
    "start_time": "2022-02-02T15:00:10.705Z"
   },
   {
    "duration": 975,
    "start_time": "2022-02-02T15:00:11.125Z"
   },
   {
    "duration": 22,
    "start_time": "2022-02-02T15:00:12.103Z"
   },
   {
    "duration": 48,
    "start_time": "2022-02-02T15:00:12.128Z"
   },
   {
    "duration": 23,
    "start_time": "2022-02-02T15:00:12.178Z"
   },
   {
    "duration": 31,
    "start_time": "2022-02-02T15:00:12.204Z"
   },
   {
    "duration": 329,
    "start_time": "2022-02-02T15:00:12.237Z"
   },
   {
    "duration": 481,
    "start_time": "2022-02-02T15:00:12.569Z"
   },
   {
    "duration": -208,
    "start_time": "2022-02-02T15:00:13.262Z"
   },
   {
    "duration": -235,
    "start_time": "2022-02-02T15:00:13.291Z"
   },
   {
    "duration": -255,
    "start_time": "2022-02-02T15:00:13.313Z"
   },
   {
    "duration": 31,
    "start_time": "2022-02-02T15:00:47.140Z"
   },
   {
    "duration": 31,
    "start_time": "2022-02-02T15:02:26.326Z"
   },
   {
    "duration": 1307,
    "start_time": "2022-02-02T15:02:33.408Z"
   },
   {
    "duration": 557,
    "start_time": "2022-02-02T15:02:34.718Z"
   },
   {
    "duration": 69,
    "start_time": "2022-02-02T15:02:35.278Z"
   },
   {
    "duration": 71,
    "start_time": "2022-02-02T15:02:35.349Z"
   },
   {
    "duration": 63,
    "start_time": "2022-02-02T15:02:35.423Z"
   },
   {
    "duration": 34,
    "start_time": "2022-02-02T15:02:35.488Z"
   },
   {
    "duration": 66,
    "start_time": "2022-02-02T15:02:35.524Z"
   },
   {
    "duration": 6,
    "start_time": "2022-02-02T15:02:35.593Z"
   },
   {
    "duration": 120,
    "start_time": "2022-02-02T15:02:35.602Z"
   },
   {
    "duration": 94,
    "start_time": "2022-02-02T15:02:35.724Z"
   },
   {
    "duration": 7,
    "start_time": "2022-02-02T15:02:35.820Z"
   },
   {
    "duration": 46,
    "start_time": "2022-02-02T15:02:35.830Z"
   },
   {
    "duration": 91,
    "start_time": "2022-02-02T15:02:35.878Z"
   },
   {
    "duration": 54,
    "start_time": "2022-02-02T15:02:35.972Z"
   },
   {
    "duration": 522,
    "start_time": "2022-02-02T15:02:36.028Z"
   },
   {
    "duration": 1059,
    "start_time": "2022-02-02T15:02:36.552Z"
   },
   {
    "duration": 26,
    "start_time": "2022-02-02T15:02:37.613Z"
   },
   {
    "duration": 34,
    "start_time": "2022-02-02T15:02:37.659Z"
   },
   {
    "duration": 23,
    "start_time": "2022-02-02T15:02:37.695Z"
   },
   {
    "duration": 51,
    "start_time": "2022-02-02T15:02:37.720Z"
   },
   {
    "duration": 302,
    "start_time": "2022-02-02T15:02:37.774Z"
   },
   {
    "duration": 31,
    "start_time": "2022-02-02T15:02:38.079Z"
   },
   {
    "duration": 8,
    "start_time": "2022-02-02T15:02:38.115Z"
   },
   {
    "duration": 41,
    "start_time": "2022-02-02T15:02:38.126Z"
   },
   {
    "duration": 22,
    "start_time": "2022-02-02T15:02:38.170Z"
   },
   {
    "duration": 1417,
    "start_time": "2022-02-02T15:03:00.105Z"
   },
   {
    "duration": 573,
    "start_time": "2022-02-02T15:03:01.524Z"
   },
   {
    "duration": 72,
    "start_time": "2022-02-02T15:03:02.100Z"
   },
   {
    "duration": 59,
    "start_time": "2022-02-02T15:03:02.175Z"
   },
   {
    "duration": 42,
    "start_time": "2022-02-02T15:03:02.264Z"
   },
   {
    "duration": 53,
    "start_time": "2022-02-02T15:03:02.308Z"
   },
   {
    "duration": 38,
    "start_time": "2022-02-02T15:03:02.364Z"
   },
   {
    "duration": 4,
    "start_time": "2022-02-02T15:03:02.407Z"
   },
   {
    "duration": 135,
    "start_time": "2022-02-02T15:03:02.415Z"
   },
   {
    "duration": 91,
    "start_time": "2022-02-02T15:03:02.553Z"
   },
   {
    "duration": 16,
    "start_time": "2022-02-02T15:03:02.646Z"
   },
   {
    "duration": 32,
    "start_time": "2022-02-02T15:03:02.664Z"
   },
   {
    "duration": 101,
    "start_time": "2022-02-02T15:03:02.699Z"
   },
   {
    "duration": 58,
    "start_time": "2022-02-02T15:03:02.802Z"
   },
   {
    "duration": 381,
    "start_time": "2022-02-02T15:03:02.862Z"
   },
   {
    "duration": 944,
    "start_time": "2022-02-02T15:03:03.246Z"
   },
   {
    "duration": 25,
    "start_time": "2022-02-02T15:03:04.193Z"
   },
   {
    "duration": 56,
    "start_time": "2022-02-02T15:03:04.220Z"
   },
   {
    "duration": 22,
    "start_time": "2022-02-02T15:03:04.279Z"
   },
   {
    "duration": 21,
    "start_time": "2022-02-02T15:03:04.303Z"
   },
   {
    "duration": 327,
    "start_time": "2022-02-02T15:03:04.327Z"
   },
   {
    "duration": 5,
    "start_time": "2022-02-02T15:03:04.657Z"
   },
   {
    "duration": 12,
    "start_time": "2022-02-02T15:03:04.668Z"
   },
   {
    "duration": 7,
    "start_time": "2022-02-02T15:03:04.683Z"
   },
   {
    "duration": 17,
    "start_time": "2022-02-02T15:03:04.692Z"
   },
   {
    "duration": 1409,
    "start_time": "2022-02-02T15:09:06.517Z"
   },
   {
    "duration": 4924,
    "start_time": "2022-02-02T15:09:07.929Z"
   },
   {
    "duration": 110,
    "start_time": "2022-02-02T15:09:12.857Z"
   },
   {
    "duration": 66,
    "start_time": "2022-02-02T15:09:12.972Z"
   },
   {
    "duration": 59,
    "start_time": "2022-02-02T15:09:13.040Z"
   },
   {
    "duration": 60,
    "start_time": "2022-02-02T15:09:13.102Z"
   },
   {
    "duration": 49,
    "start_time": "2022-02-02T15:09:13.166Z"
   },
   {
    "duration": 5,
    "start_time": "2022-02-02T15:09:13.218Z"
   },
   {
    "duration": 120,
    "start_time": "2022-02-02T15:09:13.226Z"
   },
   {
    "duration": 172,
    "start_time": "2022-02-02T15:09:13.349Z"
   },
   {
    "duration": 8,
    "start_time": "2022-02-02T15:09:13.523Z"
   },
   {
    "duration": 43,
    "start_time": "2022-02-02T15:09:13.534Z"
   },
   {
    "duration": 103,
    "start_time": "2022-02-02T15:09:13.581Z"
   },
   {
    "duration": 52,
    "start_time": "2022-02-02T15:09:13.686Z"
   },
   {
    "duration": 383,
    "start_time": "2022-02-02T15:09:13.759Z"
   },
   {
    "duration": 958,
    "start_time": "2022-02-02T15:09:14.145Z"
   },
   {
    "duration": 26,
    "start_time": "2022-02-02T15:09:15.106Z"
   },
   {
    "duration": 49,
    "start_time": "2022-02-02T15:09:15.134Z"
   },
   {
    "duration": 23,
    "start_time": "2022-02-02T15:09:15.186Z"
   },
   {
    "duration": 22,
    "start_time": "2022-02-02T15:09:15.211Z"
   },
   {
    "duration": 305,
    "start_time": "2022-02-02T15:09:15.268Z"
   },
   {
    "duration": 3,
    "start_time": "2022-02-02T15:09:15.576Z"
   },
   {
    "duration": 9,
    "start_time": "2022-02-02T15:09:15.585Z"
   },
   {
    "duration": 6,
    "start_time": "2022-02-02T15:09:15.597Z"
   },
   {
    "duration": 18,
    "start_time": "2022-02-02T15:09:15.606Z"
   },
   {
    "duration": 539,
    "start_time": "2022-02-02T15:32:19.291Z"
   },
   {
    "duration": 107,
    "start_time": "2022-02-02T15:32:32.015Z"
   },
   {
    "duration": 528,
    "start_time": "2022-02-02T15:32:37.223Z"
   },
   {
    "duration": 22,
    "start_time": "2022-02-02T15:33:21.229Z"
   },
   {
    "duration": 1304,
    "start_time": "2022-02-02T15:33:53.322Z"
   },
   {
    "duration": 597,
    "start_time": "2022-02-02T15:33:54.629Z"
   },
   {
    "duration": 72,
    "start_time": "2022-02-02T15:33:55.228Z"
   },
   {
    "duration": 76,
    "start_time": "2022-02-02T15:33:55.302Z"
   },
   {
    "duration": 38,
    "start_time": "2022-02-02T15:33:55.381Z"
   },
   {
    "duration": 65,
    "start_time": "2022-02-02T15:33:55.421Z"
   },
   {
    "duration": 43,
    "start_time": "2022-02-02T15:33:55.489Z"
   },
   {
    "duration": 28,
    "start_time": "2022-02-02T15:33:55.535Z"
   },
   {
    "duration": 116,
    "start_time": "2022-02-02T15:33:55.566Z"
   },
   {
    "duration": 91,
    "start_time": "2022-02-02T15:33:55.684Z"
   },
   {
    "duration": 10,
    "start_time": "2022-02-02T15:33:55.779Z"
   },
   {
    "duration": 41,
    "start_time": "2022-02-02T15:33:55.792Z"
   },
   {
    "duration": 125,
    "start_time": "2022-02-02T15:33:55.836Z"
   },
   {
    "duration": 55,
    "start_time": "2022-02-02T15:33:55.964Z"
   },
   {
    "duration": 521,
    "start_time": "2022-02-02T15:33:56.022Z"
   },
   {
    "duration": 1031,
    "start_time": "2022-02-02T15:33:56.546Z"
   },
   {
    "duration": 23,
    "start_time": "2022-02-02T15:33:57.580Z"
   },
   {
    "duration": 21,
    "start_time": "2022-02-02T15:33:57.605Z"
   },
   {
    "duration": 54,
    "start_time": "2022-02-02T15:33:57.628Z"
   },
   {
    "duration": 25,
    "start_time": "2022-02-02T15:33:57.685Z"
   },
   {
    "duration": 363,
    "start_time": "2022-02-02T15:33:57.712Z"
   },
   {
    "duration": 22,
    "start_time": "2022-02-02T15:33:58.078Z"
   },
   {
    "duration": 8527,
    "start_time": "2022-02-02T15:33:58.104Z"
   },
   {
    "duration": -200,
    "start_time": "2022-02-02T15:34:06.834Z"
   },
   {
    "duration": -211,
    "start_time": "2022-02-02T15:34:06.846Z"
   },
   {
    "duration": -239,
    "start_time": "2022-02-02T15:34:06.876Z"
   },
   {
    "duration": -263,
    "start_time": "2022-02-02T15:34:06.901Z"
   },
   {
    "duration": 1449,
    "start_time": "2022-02-02T15:34:34.357Z"
   },
   {
    "duration": 604,
    "start_time": "2022-02-02T15:34:35.809Z"
   },
   {
    "duration": 78,
    "start_time": "2022-02-02T15:34:36.418Z"
   },
   {
    "duration": 75,
    "start_time": "2022-02-02T15:34:36.499Z"
   },
   {
    "duration": 35,
    "start_time": "2022-02-02T15:34:36.577Z"
   },
   {
    "duration": 49,
    "start_time": "2022-02-02T15:34:36.615Z"
   },
   {
    "duration": 39,
    "start_time": "2022-02-02T15:34:36.670Z"
   },
   {
    "duration": 5,
    "start_time": "2022-02-02T15:34:36.711Z"
   },
   {
    "duration": 132,
    "start_time": "2022-02-02T15:34:36.718Z"
   },
   {
    "duration": 93,
    "start_time": "2022-02-02T15:34:36.853Z"
   },
   {
    "duration": 13,
    "start_time": "2022-02-02T15:34:36.949Z"
   },
   {
    "duration": 32,
    "start_time": "2022-02-02T15:34:36.972Z"
   },
   {
    "duration": 103,
    "start_time": "2022-02-02T15:34:37.006Z"
   },
   {
    "duration": 72,
    "start_time": "2022-02-02T15:34:37.111Z"
   },
   {
    "duration": 386,
    "start_time": "2022-02-02T15:34:37.186Z"
   },
   {
    "duration": 940,
    "start_time": "2022-02-02T15:34:37.575Z"
   },
   {
    "duration": 45,
    "start_time": "2022-02-02T15:34:38.518Z"
   },
   {
    "duration": 25,
    "start_time": "2022-02-02T15:34:38.565Z"
   },
   {
    "duration": 22,
    "start_time": "2022-02-02T15:34:38.592Z"
   },
   {
    "duration": 56,
    "start_time": "2022-02-02T15:34:38.617Z"
   },
   {
    "duration": 22,
    "start_time": "2022-02-02T15:34:38.675Z"
   },
   {
    "duration": 312,
    "start_time": "2022-02-02T15:34:38.701Z"
   },
   {
    "duration": 4,
    "start_time": "2022-02-02T15:34:39.015Z"
   },
   {
    "duration": 8,
    "start_time": "2022-02-02T15:34:39.021Z"
   },
   {
    "duration": 29,
    "start_time": "2022-02-02T15:34:39.032Z"
   },
   {
    "duration": 26,
    "start_time": "2022-02-02T15:34:39.065Z"
   },
   {
    "duration": 326,
    "start_time": "2022-02-02T15:35:21.592Z"
   },
   {
    "duration": 382,
    "start_time": "2022-02-02T15:36:18.291Z"
   },
   {
    "duration": 998,
    "start_time": "2022-02-02T15:38:35.431Z"
   },
   {
    "duration": 558,
    "start_time": "2022-02-02T15:39:08.671Z"
   },
   {
    "duration": 142,
    "start_time": "2022-02-02T15:39:52.935Z"
   },
   {
    "duration": 491,
    "start_time": "2022-02-02T15:40:08.354Z"
   },
   {
    "duration": 383,
    "start_time": "2022-02-02T15:41:40.262Z"
   },
   {
    "duration": 467,
    "start_time": "2022-02-02T15:42:48.933Z"
   },
   {
    "duration": 340,
    "start_time": "2022-02-02T15:43:02.627Z"
   },
   {
    "duration": 320,
    "start_time": "2022-02-02T15:44:54.892Z"
   },
   {
    "duration": 335,
    "start_time": "2022-02-02T15:47:02.673Z"
   },
   {
    "duration": 314,
    "start_time": "2022-02-02T15:47:59.026Z"
   },
   {
    "duration": 908,
    "start_time": "2022-02-02T15:53:57.148Z"
   },
   {
    "duration": 1302,
    "start_time": "2022-02-02T15:54:38.305Z"
   },
   {
    "duration": 593,
    "start_time": "2022-02-02T15:54:39.610Z"
   },
   {
    "duration": 71,
    "start_time": "2022-02-02T15:54:40.206Z"
   },
   {
    "duration": 79,
    "start_time": "2022-02-02T15:54:40.280Z"
   },
   {
    "duration": 40,
    "start_time": "2022-02-02T15:54:40.366Z"
   },
   {
    "duration": 59,
    "start_time": "2022-02-02T15:54:40.408Z"
   },
   {
    "duration": 40,
    "start_time": "2022-02-02T15:54:40.470Z"
   },
   {
    "duration": 7,
    "start_time": "2022-02-02T15:54:40.513Z"
   },
   {
    "duration": 130,
    "start_time": "2022-02-02T15:54:40.523Z"
   },
   {
    "duration": 89,
    "start_time": "2022-02-02T15:54:40.655Z"
   },
   {
    "duration": 11,
    "start_time": "2022-02-02T15:54:40.760Z"
   },
   {
    "duration": 32,
    "start_time": "2022-02-02T15:54:40.773Z"
   },
   {
    "duration": 70,
    "start_time": "2022-02-02T15:54:40.808Z"
   },
   {
    "duration": 1377,
    "start_time": "2022-02-02T15:57:23.472Z"
   },
   {
    "duration": 597,
    "start_time": "2022-02-02T15:57:24.852Z"
   },
   {
    "duration": 77,
    "start_time": "2022-02-02T15:57:25.452Z"
   },
   {
    "duration": 77,
    "start_time": "2022-02-02T15:57:25.532Z"
   },
   {
    "duration": 63,
    "start_time": "2022-02-02T15:57:25.612Z"
   },
   {
    "duration": 34,
    "start_time": "2022-02-02T15:57:25.677Z"
   },
   {
    "duration": 65,
    "start_time": "2022-02-02T15:57:25.714Z"
   },
   {
    "duration": 5,
    "start_time": "2022-02-02T15:57:25.784Z"
   },
   {
    "duration": 121,
    "start_time": "2022-02-02T15:57:25.793Z"
   },
   {
    "duration": 95,
    "start_time": "2022-02-02T15:57:25.917Z"
   },
   {
    "duration": 7,
    "start_time": "2022-02-02T15:57:26.015Z"
   },
   {
    "duration": 48,
    "start_time": "2022-02-02T15:57:26.025Z"
   },
   {
    "duration": 148,
    "start_time": "2022-02-02T15:57:26.076Z"
   },
   {
    "duration": 66,
    "start_time": "2022-02-02T15:57:26.226Z"
   },
   {
    "duration": 382,
    "start_time": "2022-02-02T15:57:26.294Z"
   },
   {
    "duration": 938,
    "start_time": "2022-02-02T15:57:26.679Z"
   },
   {
    "duration": 22,
    "start_time": "2022-02-02T15:57:27.620Z"
   },
   {
    "duration": 357,
    "start_time": "2022-02-02T15:57:27.660Z"
   },
   {
    "duration": 43,
    "start_time": "2022-02-02T15:57:28.019Z"
   },
   {
    "duration": 341,
    "start_time": "2022-02-02T15:57:28.067Z"
   },
   {
    "duration": 23,
    "start_time": "2022-02-02T15:57:28.410Z"
   },
   {
    "duration": 370,
    "start_time": "2022-02-02T15:57:28.435Z"
   },
   {
    "duration": 23,
    "start_time": "2022-02-02T15:57:28.809Z"
   },
   {
    "duration": 337,
    "start_time": "2022-02-02T15:57:28.835Z"
   },
   {
    "duration": 4,
    "start_time": "2022-02-02T15:57:29.175Z"
   },
   {
    "duration": 14,
    "start_time": "2022-02-02T15:57:29.181Z"
   },
   {
    "duration": 7,
    "start_time": "2022-02-02T15:57:29.198Z"
   },
   {
    "duration": 17,
    "start_time": "2022-02-02T15:57:29.207Z"
   },
   {
    "duration": 1449,
    "start_time": "2022-02-02T15:58:26.262Z"
   },
   {
    "duration": 687,
    "start_time": "2022-02-02T15:58:27.714Z"
   },
   {
    "duration": 90,
    "start_time": "2022-02-02T15:58:28.404Z"
   },
   {
    "duration": 92,
    "start_time": "2022-02-02T15:58:28.496Z"
   },
   {
    "duration": 36,
    "start_time": "2022-02-02T15:58:28.591Z"
   },
   {
    "duration": 58,
    "start_time": "2022-02-02T15:58:28.629Z"
   },
   {
    "duration": 38,
    "start_time": "2022-02-02T15:58:28.690Z"
   },
   {
    "duration": 6,
    "start_time": "2022-02-02T15:58:28.760Z"
   },
   {
    "duration": 115,
    "start_time": "2022-02-02T15:58:28.769Z"
   },
   {
    "duration": 96,
    "start_time": "2022-02-02T15:58:28.886Z"
   },
   {
    "duration": 8,
    "start_time": "2022-02-02T15:58:28.985Z"
   },
   {
    "duration": 27,
    "start_time": "2022-02-02T15:58:28.995Z"
   },
   {
    "duration": 120,
    "start_time": "2022-02-02T15:58:29.024Z"
   },
   {
    "duration": 55,
    "start_time": "2022-02-02T15:58:29.159Z"
   },
   {
    "duration": 409,
    "start_time": "2022-02-02T15:58:29.217Z"
   },
   {
    "duration": 975,
    "start_time": "2022-02-02T15:58:29.628Z"
   },
   {
    "duration": 23,
    "start_time": "2022-02-02T15:58:30.606Z"
   },
   {
    "duration": 365,
    "start_time": "2022-02-02T15:58:30.631Z"
   },
   {
    "duration": 24,
    "start_time": "2022-02-02T15:58:30.998Z"
   },
   {
    "duration": 378,
    "start_time": "2022-02-02T15:58:31.025Z"
   },
   {
    "duration": 24,
    "start_time": "2022-02-02T15:58:31.405Z"
   },
   {
    "duration": 383,
    "start_time": "2022-02-02T15:58:31.432Z"
   },
   {
    "duration": 44,
    "start_time": "2022-02-02T15:58:31.819Z"
   },
   {
    "duration": 334,
    "start_time": "2022-02-02T15:58:31.866Z"
   },
   {
    "duration": 3,
    "start_time": "2022-02-02T15:58:32.202Z"
   },
   {
    "duration": 9,
    "start_time": "2022-02-02T15:58:32.208Z"
   },
   {
    "duration": 8,
    "start_time": "2022-02-02T15:58:32.220Z"
   },
   {
    "duration": 45,
    "start_time": "2022-02-02T15:58:32.230Z"
   },
   {
    "duration": 461,
    "start_time": "2022-02-02T15:58:58.051Z"
   },
   {
    "duration": 1357,
    "start_time": "2022-02-02T15:59:07.451Z"
   },
   {
    "duration": 578,
    "start_time": "2022-02-02T15:59:08.811Z"
   },
   {
    "duration": 73,
    "start_time": "2022-02-02T15:59:09.392Z"
   },
   {
    "duration": 63,
    "start_time": "2022-02-02T15:59:09.469Z"
   },
   {
    "duration": 61,
    "start_time": "2022-02-02T15:59:09.535Z"
   },
   {
    "duration": 34,
    "start_time": "2022-02-02T15:59:09.599Z"
   },
   {
    "duration": 41,
    "start_time": "2022-02-02T15:59:09.660Z"
   },
   {
    "duration": 5,
    "start_time": "2022-02-02T15:59:09.705Z"
   },
   {
    "duration": 122,
    "start_time": "2022-02-02T15:59:09.712Z"
   },
   {
    "duration": 91,
    "start_time": "2022-02-02T15:59:09.837Z"
   },
   {
    "duration": 8,
    "start_time": "2022-02-02T15:59:09.930Z"
   },
   {
    "duration": 40,
    "start_time": "2022-02-02T15:59:09.940Z"
   },
   {
    "duration": 122,
    "start_time": "2022-02-02T15:59:09.982Z"
   },
   {
    "duration": 64,
    "start_time": "2022-02-02T15:59:10.107Z"
   },
   {
    "duration": 376,
    "start_time": "2022-02-02T15:59:10.174Z"
   },
   {
    "duration": 942,
    "start_time": "2022-02-02T15:59:10.553Z"
   },
   {
    "duration": 24,
    "start_time": "2022-02-02T15:59:11.498Z"
   },
   {
    "duration": 354,
    "start_time": "2022-02-02T15:59:11.524Z"
   },
   {
    "duration": 24,
    "start_time": "2022-02-02T15:59:11.880Z"
   },
   {
    "duration": 378,
    "start_time": "2022-02-02T15:59:11.907Z"
   },
   {
    "duration": 23,
    "start_time": "2022-02-02T15:59:12.287Z"
   },
   {
    "duration": 378,
    "start_time": "2022-02-02T15:59:12.312Z"
   },
   {
    "duration": 24,
    "start_time": "2022-02-02T15:59:12.694Z"
   },
   {
    "duration": 356,
    "start_time": "2022-02-02T15:59:12.720Z"
   },
   {
    "duration": 4,
    "start_time": "2022-02-02T15:59:13.080Z"
   },
   {
    "duration": 11,
    "start_time": "2022-02-02T15:59:13.087Z"
   },
   {
    "duration": 9,
    "start_time": "2022-02-02T15:59:13.101Z"
   },
   {
    "duration": 59,
    "start_time": "2022-02-02T15:59:13.112Z"
   },
   {
    "duration": 1375,
    "start_time": "2022-02-02T16:00:11.138Z"
   },
   {
    "duration": 625,
    "start_time": "2022-02-02T16:00:12.515Z"
   },
   {
    "duration": 76,
    "start_time": "2022-02-02T16:00:13.143Z"
   },
   {
    "duration": 90,
    "start_time": "2022-02-02T16:00:13.222Z"
   },
   {
    "duration": 54,
    "start_time": "2022-02-02T16:00:13.316Z"
   },
   {
    "duration": 35,
    "start_time": "2022-02-02T16:00:13.374Z"
   },
   {
    "duration": 82,
    "start_time": "2022-02-02T16:00:13.412Z"
   },
   {
    "duration": 4,
    "start_time": "2022-02-02T16:00:13.500Z"
   },
   {
    "duration": 118,
    "start_time": "2022-02-02T16:00:13.507Z"
   },
   {
    "duration": 93,
    "start_time": "2022-02-02T16:00:13.627Z"
   },
   {
    "duration": 8,
    "start_time": "2022-02-02T16:00:13.723Z"
   },
   {
    "duration": 48,
    "start_time": "2022-02-02T16:00:13.733Z"
   },
   {
    "duration": 104,
    "start_time": "2022-02-02T16:00:13.784Z"
   },
   {
    "duration": 49,
    "start_time": "2022-02-02T16:00:13.891Z"
   },
   {
    "duration": 383,
    "start_time": "2022-02-02T16:00:13.959Z"
   },
   {
    "duration": 963,
    "start_time": "2022-02-02T16:00:14.345Z"
   },
   {
    "duration": 23,
    "start_time": "2022-02-02T16:00:15.311Z"
   },
   {
    "duration": 355,
    "start_time": "2022-02-02T16:00:15.337Z"
   },
   {
    "duration": 23,
    "start_time": "2022-02-02T16:00:15.695Z"
   },
   {
    "duration": 373,
    "start_time": "2022-02-02T16:00:15.720Z"
   },
   {
    "duration": 23,
    "start_time": "2022-02-02T16:00:16.096Z"
   },
   {
    "duration": 373,
    "start_time": "2022-02-02T16:00:16.122Z"
   },
   {
    "duration": 24,
    "start_time": "2022-02-02T16:00:16.499Z"
   },
   {
    "duration": 350,
    "start_time": "2022-02-02T16:00:16.526Z"
   },
   {
    "duration": 3,
    "start_time": "2022-02-02T16:00:16.879Z"
   },
   {
    "duration": 9,
    "start_time": "2022-02-02T16:00:16.885Z"
   },
   {
    "duration": 9,
    "start_time": "2022-02-02T16:00:16.896Z"
   },
   {
    "duration": 14,
    "start_time": "2022-02-02T16:00:16.908Z"
   },
   {
    "duration": 2229,
    "start_time": "2022-02-02T17:03:56.992Z"
   },
   {
    "duration": 2339,
    "start_time": "2022-02-02T17:04:15.471Z"
   },
   {
    "duration": 134,
    "start_time": "2022-02-02T17:08:07.190Z"
   },
   {
    "duration": 567,
    "start_time": "2022-02-02T17:08:35.919Z"
   },
   {
    "duration": 399,
    "start_time": "2022-02-02T17:08:50.496Z"
   },
   {
    "duration": 340,
    "start_time": "2022-02-02T17:09:22.498Z"
   },
   {
    "duration": 2246,
    "start_time": "2022-02-02T17:09:47.296Z"
   },
   {
    "duration": 2703,
    "start_time": "2022-02-02T17:11:58.274Z"
   },
   {
    "duration": 2313,
    "start_time": "2022-02-02T17:12:34.490Z"
   },
   {
    "duration": 590,
    "start_time": "2022-02-02T17:12:57.999Z"
   },
   {
    "duration": 2313,
    "start_time": "2022-02-02T17:13:11.206Z"
   },
   {
    "duration": 126,
    "start_time": "2022-02-02T17:14:21.981Z"
   },
   {
    "duration": 2266,
    "start_time": "2022-02-02T17:14:36.247Z"
   },
   {
    "duration": 335,
    "start_time": "2022-02-02T17:15:27.648Z"
   },
   {
    "duration": 449,
    "start_time": "2022-02-02T17:16:16.912Z"
   },
   {
    "duration": 2176,
    "start_time": "2022-02-02T17:16:31.485Z"
   },
   {
    "duration": 331,
    "start_time": "2022-02-02T17:16:59.185Z"
   },
   {
    "duration": 466,
    "start_time": "2022-02-02T17:17:15.063Z"
   },
   {
    "duration": 625,
    "start_time": "2022-02-02T17:32:25.200Z"
   },
   {
    "duration": 337,
    "start_time": "2022-02-02T17:33:30.393Z"
   },
   {
    "duration": 329,
    "start_time": "2022-02-02T17:34:11.350Z"
   },
   {
    "duration": 353,
    "start_time": "2022-02-02T17:34:30.732Z"
   },
   {
    "duration": 139,
    "start_time": "2022-02-02T17:42:23.384Z"
   },
   {
    "duration": 146,
    "start_time": "2022-02-02T17:43:50.700Z"
   },
   {
    "duration": 111,
    "start_time": "2022-02-02T17:44:08.455Z"
   },
   {
    "duration": 437,
    "start_time": "2022-02-02T17:44:21.832Z"
   },
   {
    "duration": 1409,
    "start_time": "2022-02-02T17:44:31.614Z"
   },
   {
    "duration": 561,
    "start_time": "2022-02-02T17:44:33.025Z"
   },
   {
    "duration": 68,
    "start_time": "2022-02-02T17:44:33.589Z"
   },
   {
    "duration": 62,
    "start_time": "2022-02-02T17:44:33.660Z"
   },
   {
    "duration": 69,
    "start_time": "2022-02-02T17:44:33.724Z"
   },
   {
    "duration": 35,
    "start_time": "2022-02-02T17:44:33.795Z"
   },
   {
    "duration": 62,
    "start_time": "2022-02-02T17:44:33.832Z"
   },
   {
    "duration": 5,
    "start_time": "2022-02-02T17:44:33.898Z"
   },
   {
    "duration": 129,
    "start_time": "2022-02-02T17:44:33.906Z"
   },
   {
    "duration": 95,
    "start_time": "2022-02-02T17:44:34.038Z"
   },
   {
    "duration": 7,
    "start_time": "2022-02-02T17:44:34.136Z"
   },
   {
    "duration": 32,
    "start_time": "2022-02-02T17:44:34.145Z"
   },
   {
    "duration": 104,
    "start_time": "2022-02-02T17:44:34.180Z"
   },
   {
    "duration": 48,
    "start_time": "2022-02-02T17:44:34.287Z"
   },
   {
    "duration": 391,
    "start_time": "2022-02-02T17:44:34.358Z"
   },
   {
    "duration": 921,
    "start_time": "2022-02-02T17:44:34.759Z"
   },
   {
    "duration": 2293,
    "start_time": "2022-02-02T17:44:35.683Z"
   },
   {
    "duration": 431,
    "start_time": "2022-02-02T17:44:37.979Z"
   },
   {
    "duration": 607,
    "start_time": "2022-02-02T17:44:38.412Z"
   },
   {
    "duration": -129,
    "start_time": "2022-02-02T17:44:39.152Z"
   },
   {
    "duration": -144,
    "start_time": "2022-02-02T17:44:39.168Z"
   },
   {
    "duration": -158,
    "start_time": "2022-02-02T17:44:39.185Z"
   },
   {
    "duration": -181,
    "start_time": "2022-02-02T17:44:39.210Z"
   },
   {
    "duration": -194,
    "start_time": "2022-02-02T17:44:39.225Z"
   },
   {
    "duration": -207,
    "start_time": "2022-02-02T17:44:39.241Z"
   },
   {
    "duration": -228,
    "start_time": "2022-02-02T17:44:39.264Z"
   },
   {
    "duration": -240,
    "start_time": "2022-02-02T17:44:39.278Z"
   },
   {
    "duration": -255,
    "start_time": "2022-02-02T17:44:39.295Z"
   },
   {
    "duration": -270,
    "start_time": "2022-02-02T17:44:39.312Z"
   },
   {
    "duration": -286,
    "start_time": "2022-02-02T17:44:39.330Z"
   },
   {
    "duration": -302,
    "start_time": "2022-02-02T17:44:39.349Z"
   },
   {
    "duration": 753,
    "start_time": "2022-02-02T17:45:30.339Z"
   },
   {
    "duration": 644,
    "start_time": "2022-02-02T17:47:14.036Z"
   },
   {
    "duration": 477,
    "start_time": "2022-02-02T17:47:36.438Z"
   },
   {
    "duration": 118,
    "start_time": "2022-02-02T17:48:48.632Z"
   },
   {
    "duration": 647,
    "start_time": "2022-02-02T17:48:57.721Z"
   },
   {
    "duration": 354,
    "start_time": "2022-02-02T17:55:07.146Z"
   },
   {
    "duration": 589,
    "start_time": "2022-02-02T17:55:17.972Z"
   },
   {
    "duration": 8077,
    "start_time": "2022-02-02T17:55:49.081Z"
   },
   {
    "duration": 1483,
    "start_time": "2022-02-02T17:56:08.751Z"
   },
   {
    "duration": 571,
    "start_time": "2022-02-02T17:56:10.237Z"
   },
   {
    "duration": 69,
    "start_time": "2022-02-02T17:56:10.812Z"
   },
   {
    "duration": 94,
    "start_time": "2022-02-02T17:56:10.885Z"
   },
   {
    "duration": 38,
    "start_time": "2022-02-02T17:56:10.982Z"
   },
   {
    "duration": 70,
    "start_time": "2022-02-02T17:56:11.022Z"
   },
   {
    "duration": 68,
    "start_time": "2022-02-02T17:56:11.094Z"
   },
   {
    "duration": 5,
    "start_time": "2022-02-02T17:56:11.169Z"
   },
   {
    "duration": 117,
    "start_time": "2022-02-02T17:56:11.177Z"
   },
   {
    "duration": 95,
    "start_time": "2022-02-02T17:56:11.296Z"
   },
   {
    "duration": 8,
    "start_time": "2022-02-02T17:56:11.393Z"
   },
   {
    "duration": 28,
    "start_time": "2022-02-02T17:56:11.403Z"
   },
   {
    "duration": 106,
    "start_time": "2022-02-02T17:56:11.434Z"
   },
   {
    "duration": 68,
    "start_time": "2022-02-02T17:56:11.542Z"
   },
   {
    "duration": 405,
    "start_time": "2022-02-02T17:56:11.612Z"
   },
   {
    "duration": 1054,
    "start_time": "2022-02-02T17:56:12.019Z"
   },
   {
    "duration": 2268,
    "start_time": "2022-02-02T17:56:13.076Z"
   },
   {
    "duration": 416,
    "start_time": "2022-02-02T17:56:15.346Z"
   },
   {
    "duration": 3,
    "start_time": "2022-02-02T17:56:15.765Z"
   },
   {
    "duration": 7971,
    "start_time": "2022-02-02T17:56:15.771Z"
   },
   {
    "duration": -114,
    "start_time": "2022-02-02T17:56:23.859Z"
   },
   {
    "duration": -138,
    "start_time": "2022-02-02T17:56:23.884Z"
   },
   {
    "duration": -150,
    "start_time": "2022-02-02T17:56:23.898Z"
   },
   {
    "duration": -164,
    "start_time": "2022-02-02T17:56:23.913Z"
   },
   {
    "duration": -178,
    "start_time": "2022-02-02T17:56:23.929Z"
   },
   {
    "duration": -192,
    "start_time": "2022-02-02T17:56:23.945Z"
   },
   {
    "duration": -207,
    "start_time": "2022-02-02T17:56:23.961Z"
   },
   {
    "duration": -221,
    "start_time": "2022-02-02T17:56:23.976Z"
   },
   {
    "duration": -234,
    "start_time": "2022-02-02T17:56:23.991Z"
   },
   {
    "duration": -244,
    "start_time": "2022-02-02T17:56:24.006Z"
   },
   {
    "duration": -253,
    "start_time": "2022-02-02T17:56:24.021Z"
   },
   {
    "duration": -265,
    "start_time": "2022-02-02T17:56:24.035Z"
   },
   {
    "duration": 1441,
    "start_time": "2022-02-02T18:14:00.012Z"
   },
   {
    "duration": 570,
    "start_time": "2022-02-02T18:14:01.456Z"
   },
   {
    "duration": 82,
    "start_time": "2022-02-02T18:14:02.029Z"
   },
   {
    "duration": 74,
    "start_time": "2022-02-02T18:14:02.114Z"
   },
   {
    "duration": 38,
    "start_time": "2022-02-02T18:14:02.191Z"
   },
   {
    "duration": 64,
    "start_time": "2022-02-02T18:14:02.231Z"
   },
   {
    "duration": 62,
    "start_time": "2022-02-02T18:14:02.297Z"
   },
   {
    "duration": 8,
    "start_time": "2022-02-02T18:14:02.363Z"
   },
   {
    "duration": 118,
    "start_time": "2022-02-02T18:14:02.374Z"
   },
   {
    "duration": 100,
    "start_time": "2022-02-02T18:14:02.494Z"
   },
   {
    "duration": 7,
    "start_time": "2022-02-02T18:14:02.597Z"
   },
   {
    "duration": 30,
    "start_time": "2022-02-02T18:14:02.607Z"
   },
   {
    "duration": 122,
    "start_time": "2022-02-02T18:14:02.639Z"
   },
   {
    "duration": 57,
    "start_time": "2022-02-02T18:14:02.770Z"
   },
   {
    "duration": 413,
    "start_time": "2022-02-02T18:14:02.830Z"
   },
   {
    "duration": 974,
    "start_time": "2022-02-02T18:14:03.245Z"
   },
   {
    "duration": 2326,
    "start_time": "2022-02-02T18:14:04.221Z"
   },
   {
    "duration": 141,
    "start_time": "2022-02-02T18:14:06.549Z"
   },
   {
    "duration": -425,
    "start_time": "2022-02-02T18:14:07.119Z"
   },
   {
    "duration": -453,
    "start_time": "2022-02-02T18:14:07.148Z"
   },
   {
    "duration": -479,
    "start_time": "2022-02-02T18:14:07.176Z"
   },
   {
    "duration": -493,
    "start_time": "2022-02-02T18:14:07.192Z"
   },
   {
    "duration": -548,
    "start_time": "2022-02-02T18:14:07.249Z"
   },
   {
    "duration": -567,
    "start_time": "2022-02-02T18:14:07.274Z"
   },
   {
    "duration": -610,
    "start_time": "2022-02-02T18:14:07.319Z"
   },
   {
    "duration": -626,
    "start_time": "2022-02-02T18:14:07.336Z"
   },
   {
    "duration": -640,
    "start_time": "2022-02-02T18:14:07.352Z"
   },
   {
    "duration": -669,
    "start_time": "2022-02-02T18:14:07.382Z"
   },
   {
    "duration": -677,
    "start_time": "2022-02-02T18:14:07.391Z"
   },
   {
    "duration": -693,
    "start_time": "2022-02-02T18:14:07.409Z"
   },
   {
    "duration": -720,
    "start_time": "2022-02-02T18:14:07.437Z"
   },
   {
    "duration": 1490,
    "start_time": "2022-02-02T18:14:24.639Z"
   },
   {
    "duration": 553,
    "start_time": "2022-02-02T18:14:26.132Z"
   },
   {
    "duration": 66,
    "start_time": "2022-02-02T18:14:26.688Z"
   },
   {
    "duration": 70,
    "start_time": "2022-02-02T18:14:26.757Z"
   },
   {
    "duration": 55,
    "start_time": "2022-02-02T18:14:26.830Z"
   },
   {
    "duration": 32,
    "start_time": "2022-02-02T18:14:26.888Z"
   },
   {
    "duration": 73,
    "start_time": "2022-02-02T18:14:26.923Z"
   },
   {
    "duration": 4,
    "start_time": "2022-02-02T18:14:27.000Z"
   },
   {
    "duration": 155,
    "start_time": "2022-02-02T18:14:27.008Z"
   },
   {
    "duration": 101,
    "start_time": "2022-02-02T18:14:27.166Z"
   },
   {
    "duration": 7,
    "start_time": "2022-02-02T18:14:27.270Z"
   },
   {
    "duration": 35,
    "start_time": "2022-02-02T18:14:27.280Z"
   },
   {
    "duration": 101,
    "start_time": "2022-02-02T18:14:27.317Z"
   },
   {
    "duration": 56,
    "start_time": "2022-02-02T18:14:27.420Z"
   },
   {
    "duration": 437,
    "start_time": "2022-02-02T18:14:27.479Z"
   },
   {
    "duration": 1176,
    "start_time": "2022-02-02T18:14:27.919Z"
   },
   {
    "duration": 2337,
    "start_time": "2022-02-02T18:14:29.097Z"
   },
   {
    "duration": 443,
    "start_time": "2022-02-02T18:14:31.436Z"
   },
   {
    "duration": 25,
    "start_time": "2022-02-02T18:14:31.882Z"
   },
   {
    "duration": 369,
    "start_time": "2022-02-02T18:14:31.910Z"
   },
   {
    "duration": 25,
    "start_time": "2022-02-02T18:14:32.282Z"
   },
   {
    "duration": 485,
    "start_time": "2022-02-02T18:14:32.310Z"
   },
   {
    "duration": 23,
    "start_time": "2022-02-02T18:14:32.799Z"
   },
   {
    "duration": 370,
    "start_time": "2022-02-02T18:14:32.825Z"
   },
   {
    "duration": 23,
    "start_time": "2022-02-02T18:14:33.198Z"
   },
   {
    "duration": 339,
    "start_time": "2022-02-02T18:14:33.223Z"
   },
   {
    "duration": 5,
    "start_time": "2022-02-02T18:14:33.565Z"
   },
   {
    "duration": 14,
    "start_time": "2022-02-02T18:14:33.574Z"
   },
   {
    "duration": 8,
    "start_time": "2022-02-02T18:14:33.590Z"
   },
   {
    "duration": 17,
    "start_time": "2022-02-02T18:14:33.600Z"
   },
   {
    "duration": 27,
    "start_time": "2022-02-02T18:20:31.404Z"
   },
   {
    "duration": 356,
    "start_time": "2022-02-02T18:23:45.522Z"
   },
   {
    "duration": 388,
    "start_time": "2022-02-02T18:24:01.180Z"
   },
   {
    "duration": 1440,
    "start_time": "2022-02-02T18:25:03.676Z"
   },
   {
    "duration": 570,
    "start_time": "2022-02-02T18:25:05.119Z"
   },
   {
    "duration": 75,
    "start_time": "2022-02-02T18:25:05.692Z"
   },
   {
    "duration": 58,
    "start_time": "2022-02-02T18:25:05.770Z"
   },
   {
    "duration": 66,
    "start_time": "2022-02-02T18:25:05.830Z"
   },
   {
    "duration": 35,
    "start_time": "2022-02-02T18:25:05.899Z"
   },
   {
    "duration": 47,
    "start_time": "2022-02-02T18:25:05.964Z"
   },
   {
    "duration": 7,
    "start_time": "2022-02-02T18:25:06.015Z"
   },
   {
    "duration": 134,
    "start_time": "2022-02-02T18:25:06.026Z"
   },
   {
    "duration": 116,
    "start_time": "2022-02-02T18:25:06.163Z"
   },
   {
    "duration": 10,
    "start_time": "2022-02-02T18:25:06.281Z"
   },
   {
    "duration": 31,
    "start_time": "2022-02-02T18:25:06.294Z"
   },
   {
    "duration": 118,
    "start_time": "2022-02-02T18:25:06.327Z"
   },
   {
    "duration": 64,
    "start_time": "2022-02-02T18:25:06.448Z"
   },
   {
    "duration": 407,
    "start_time": "2022-02-02T18:25:06.515Z"
   },
   {
    "duration": 939,
    "start_time": "2022-02-02T18:25:06.924Z"
   },
   {
    "duration": 2310,
    "start_time": "2022-02-02T18:25:07.866Z"
   },
   {
    "duration": 446,
    "start_time": "2022-02-02T18:25:10.179Z"
   },
   {
    "duration": 37,
    "start_time": "2022-02-02T18:25:10.627Z"
   },
   {
    "duration": 333,
    "start_time": "2022-02-02T18:25:10.666Z"
   },
   {
    "duration": 23,
    "start_time": "2022-02-02T18:25:11.002Z"
   },
   {
    "duration": 382,
    "start_time": "2022-02-02T18:25:11.028Z"
   },
   {
    "duration": 25,
    "start_time": "2022-02-02T18:25:11.415Z"
   },
   {
    "duration": 359,
    "start_time": "2022-02-02T18:25:11.462Z"
   },
   {
    "duration": 38,
    "start_time": "2022-02-02T18:25:11.824Z"
   },
   {
    "duration": 326,
    "start_time": "2022-02-02T18:25:11.867Z"
   },
   {
    "duration": 3,
    "start_time": "2022-02-02T18:25:12.195Z"
   },
   {
    "duration": 10,
    "start_time": "2022-02-02T18:25:12.200Z"
   },
   {
    "duration": 8,
    "start_time": "2022-02-02T18:25:12.212Z"
   },
   {
    "duration": 53,
    "start_time": "2022-02-02T18:25:12.222Z"
   },
   {
    "duration": 103,
    "start_time": "2022-02-02T19:05:50.960Z"
   },
   {
    "duration": 237,
    "start_time": "2022-02-02T19:06:25.575Z"
   },
   {
    "duration": 265,
    "start_time": "2022-02-02T19:06:37.507Z"
   },
   {
    "duration": 1471,
    "start_time": "2022-02-02T19:08:19.549Z"
   },
   {
    "duration": 578,
    "start_time": "2022-02-02T19:08:21.023Z"
   },
   {
    "duration": 72,
    "start_time": "2022-02-02T19:08:21.604Z"
   },
   {
    "duration": 59,
    "start_time": "2022-02-02T19:08:21.678Z"
   },
   {
    "duration": 63,
    "start_time": "2022-02-02T19:08:21.739Z"
   },
   {
    "duration": 59,
    "start_time": "2022-02-02T19:08:21.805Z"
   },
   {
    "duration": 44,
    "start_time": "2022-02-02T19:08:21.872Z"
   },
   {
    "duration": 5,
    "start_time": "2022-02-02T19:08:21.919Z"
   },
   {
    "duration": 127,
    "start_time": "2022-02-02T19:08:21.927Z"
   },
   {
    "duration": 88,
    "start_time": "2022-02-02T19:08:22.056Z"
   },
   {
    "duration": 19,
    "start_time": "2022-02-02T19:08:22.146Z"
   },
   {
    "duration": 35,
    "start_time": "2022-02-02T19:08:22.167Z"
   },
   {
    "duration": 106,
    "start_time": "2022-02-02T19:08:22.204Z"
   },
   {
    "duration": 70,
    "start_time": "2022-02-02T19:08:22.312Z"
   },
   {
    "duration": 392,
    "start_time": "2022-02-02T19:08:22.385Z"
   },
   {
    "duration": 962,
    "start_time": "2022-02-02T19:08:22.780Z"
   },
   {
    "duration": 2348,
    "start_time": "2022-02-02T19:08:23.745Z"
   },
   {
    "duration": 464,
    "start_time": "2022-02-02T19:08:26.095Z"
   },
   {
    "duration": 29,
    "start_time": "2022-02-02T19:08:26.562Z"
   },
   {
    "duration": 447,
    "start_time": "2022-02-02T19:08:26.593Z"
   },
   {
    "duration": -92,
    "start_time": "2022-02-02T19:08:27.135Z"
   },
   {
    "duration": -109,
    "start_time": "2022-02-02T19:08:27.154Z"
   },
   {
    "duration": -123,
    "start_time": "2022-02-02T19:08:27.169Z"
   },
   {
    "duration": -140,
    "start_time": "2022-02-02T19:08:27.188Z"
   },
   {
    "duration": -157,
    "start_time": "2022-02-02T19:08:27.206Z"
   },
   {
    "duration": -174,
    "start_time": "2022-02-02T19:08:27.225Z"
   },
   {
    "duration": -190,
    "start_time": "2022-02-02T19:08:27.242Z"
   },
   {
    "duration": -208,
    "start_time": "2022-02-02T19:08:27.262Z"
   },
   {
    "duration": -233,
    "start_time": "2022-02-02T19:08:27.288Z"
   },
   {
    "duration": -247,
    "start_time": "2022-02-02T19:08:27.304Z"
   },
   {
    "duration": -266,
    "start_time": "2022-02-02T19:08:27.324Z"
   },
   {
    "duration": 369,
    "start_time": "2022-02-02T19:08:47.267Z"
   },
   {
    "duration": 378,
    "start_time": "2022-02-02T19:09:46.293Z"
   },
   {
    "duration": 17,
    "start_time": "2022-02-02T19:09:49.393Z"
   },
   {
    "duration": 31,
    "start_time": "2022-02-02T19:10:01.051Z"
   },
   {
    "duration": 8,
    "start_time": "2022-02-02T19:10:04.777Z"
   },
   {
    "duration": 16,
    "start_time": "2022-02-02T19:10:12.477Z"
   },
   {
    "duration": 17,
    "start_time": "2022-02-02T19:11:01.404Z"
   },
   {
    "duration": 1525,
    "start_time": "2022-02-02T19:42:05.236Z"
   },
   {
    "duration": 576,
    "start_time": "2022-02-02T19:42:06.764Z"
   },
   {
    "duration": 69,
    "start_time": "2022-02-02T19:42:07.343Z"
   },
   {
    "duration": 84,
    "start_time": "2022-02-02T19:42:07.415Z"
   },
   {
    "duration": 39,
    "start_time": "2022-02-02T19:42:07.501Z"
   },
   {
    "duration": 44,
    "start_time": "2022-02-02T19:42:07.560Z"
   },
   {
    "duration": 80,
    "start_time": "2022-02-02T19:42:07.607Z"
   },
   {
    "duration": 6,
    "start_time": "2022-02-02T19:42:07.692Z"
   },
   {
    "duration": 120,
    "start_time": "2022-02-02T19:42:07.702Z"
   },
   {
    "duration": 97,
    "start_time": "2022-02-02T19:42:07.825Z"
   },
   {
    "duration": 9,
    "start_time": "2022-02-02T19:42:07.925Z"
   },
   {
    "duration": 47,
    "start_time": "2022-02-02T19:42:07.937Z"
   },
   {
    "duration": 111,
    "start_time": "2022-02-02T19:42:07.986Z"
   },
   {
    "duration": 76,
    "start_time": "2022-02-02T19:42:08.099Z"
   },
   {
    "duration": 530,
    "start_time": "2022-02-02T19:42:08.177Z"
   },
   {
    "duration": 1431,
    "start_time": "2022-02-02T19:42:08.710Z"
   },
   {
    "duration": 2799,
    "start_time": "2022-02-02T19:42:10.145Z"
   },
   {
    "duration": 459,
    "start_time": "2022-02-02T19:42:12.947Z"
   },
   {
    "duration": 23,
    "start_time": "2022-02-02T19:42:13.409Z"
   },
   {
    "duration": 486,
    "start_time": "2022-02-02T19:42:13.434Z"
   },
   {
    "duration": -69,
    "start_time": "2022-02-02T19:42:13.992Z"
   },
   {
    "duration": -71,
    "start_time": "2022-02-02T19:42:13.995Z"
   },
   {
    "duration": -89,
    "start_time": "2022-02-02T19:42:14.015Z"
   },
   {
    "duration": -104,
    "start_time": "2022-02-02T19:42:14.031Z"
   },
   {
    "duration": -122,
    "start_time": "2022-02-02T19:42:14.050Z"
   },
   {
    "duration": -138,
    "start_time": "2022-02-02T19:42:14.067Z"
   },
   {
    "duration": -155,
    "start_time": "2022-02-02T19:42:14.086Z"
   },
   {
    "duration": -175,
    "start_time": "2022-02-02T19:42:14.107Z"
   },
   {
    "duration": -195,
    "start_time": "2022-02-02T19:42:14.129Z"
   },
   {
    "duration": -212,
    "start_time": "2022-02-02T19:42:14.147Z"
   },
   {
    "duration": 1479,
    "start_time": "2022-02-02T19:44:12.948Z"
   },
   {
    "duration": 555,
    "start_time": "2022-02-02T19:44:14.430Z"
   },
   {
    "duration": 80,
    "start_time": "2022-02-02T19:44:14.988Z"
   },
   {
    "duration": 59,
    "start_time": "2022-02-02T19:44:15.070Z"
   },
   {
    "duration": 54,
    "start_time": "2022-02-02T19:44:15.132Z"
   },
   {
    "duration": 34,
    "start_time": "2022-02-02T19:44:15.189Z"
   },
   {
    "duration": 73,
    "start_time": "2022-02-02T19:44:15.225Z"
   },
   {
    "duration": 4,
    "start_time": "2022-02-02T19:44:15.302Z"
   },
   {
    "duration": 116,
    "start_time": "2022-02-02T19:44:15.309Z"
   },
   {
    "duration": 95,
    "start_time": "2022-02-02T19:44:15.427Z"
   },
   {
    "duration": 7,
    "start_time": "2022-02-02T19:44:15.525Z"
   },
   {
    "duration": 44,
    "start_time": "2022-02-02T19:44:15.535Z"
   },
   {
    "duration": 106,
    "start_time": "2022-02-02T19:44:15.581Z"
   },
   {
    "duration": 50,
    "start_time": "2022-02-02T19:44:15.690Z"
   },
   {
    "duration": 406,
    "start_time": "2022-02-02T19:44:15.758Z"
   },
   {
    "duration": 949,
    "start_time": "2022-02-02T19:44:16.167Z"
   },
   {
    "duration": 2275,
    "start_time": "2022-02-02T19:44:17.119Z"
   },
   {
    "duration": 440,
    "start_time": "2022-02-02T19:44:19.397Z"
   },
   {
    "duration": 39,
    "start_time": "2022-02-02T19:44:19.840Z"
   },
   {
    "duration": 555,
    "start_time": "2022-02-02T19:44:19.882Z"
   },
   {
    "duration": -38,
    "start_time": "2022-02-02T19:44:20.478Z"
   },
   {
    "duration": -58,
    "start_time": "2022-02-02T19:44:20.500Z"
   },
   {
    "duration": -75,
    "start_time": "2022-02-02T19:44:20.518Z"
   },
   {
    "duration": -95,
    "start_time": "2022-02-02T19:44:20.539Z"
   },
   {
    "duration": -111,
    "start_time": "2022-02-02T19:44:20.557Z"
   },
   {
    "duration": -129,
    "start_time": "2022-02-02T19:44:20.576Z"
   },
   {
    "duration": -142,
    "start_time": "2022-02-02T19:44:20.591Z"
   },
   {
    "duration": -158,
    "start_time": "2022-02-02T19:44:20.608Z"
   },
   {
    "duration": -175,
    "start_time": "2022-02-02T19:44:20.626Z"
   },
   {
    "duration": -193,
    "start_time": "2022-02-02T19:44:20.645Z"
   },
   {
    "duration": 1663,
    "start_time": "2022-02-02T19:45:47.073Z"
   },
   {
    "duration": 563,
    "start_time": "2022-02-02T19:45:48.739Z"
   },
   {
    "duration": 70,
    "start_time": "2022-02-02T19:45:49.304Z"
   },
   {
    "duration": 58,
    "start_time": "2022-02-02T19:45:49.377Z"
   },
   {
    "duration": 41,
    "start_time": "2022-02-02T19:45:49.467Z"
   },
   {
    "duration": 66,
    "start_time": "2022-02-02T19:45:49.511Z"
   },
   {
    "duration": 44,
    "start_time": "2022-02-02T19:45:49.581Z"
   },
   {
    "duration": 5,
    "start_time": "2022-02-02T19:45:49.630Z"
   },
   {
    "duration": 107,
    "start_time": "2022-02-02T19:45:49.665Z"
   },
   {
    "duration": 105,
    "start_time": "2022-02-02T19:45:49.774Z"
   },
   {
    "duration": 8,
    "start_time": "2022-02-02T19:45:49.882Z"
   },
   {
    "duration": 30,
    "start_time": "2022-02-02T19:45:49.893Z"
   },
   {
    "duration": 116,
    "start_time": "2022-02-02T19:45:49.925Z"
   },
   {
    "duration": 67,
    "start_time": "2022-02-02T19:45:50.043Z"
   },
   {
    "duration": 410,
    "start_time": "2022-02-02T19:45:50.113Z"
   },
   {
    "duration": 929,
    "start_time": "2022-02-02T19:45:50.525Z"
   },
   {
    "duration": 2375,
    "start_time": "2022-02-02T19:45:51.459Z"
   },
   {
    "duration": 439,
    "start_time": "2022-02-02T19:45:53.836Z"
   },
   {
    "duration": 23,
    "start_time": "2022-02-02T19:45:54.278Z"
   },
   {
    "duration": 562,
    "start_time": "2022-02-02T19:45:54.304Z"
   },
   {
    "duration": -72,
    "start_time": "2022-02-02T19:45:54.941Z"
   },
   {
    "duration": -80,
    "start_time": "2022-02-02T19:45:54.951Z"
   },
   {
    "duration": -100,
    "start_time": "2022-02-02T19:45:54.973Z"
   },
   {
    "duration": -115,
    "start_time": "2022-02-02T19:45:54.990Z"
   },
   {
    "duration": -135,
    "start_time": "2022-02-02T19:45:55.012Z"
   },
   {
    "duration": -153,
    "start_time": "2022-02-02T19:45:55.031Z"
   },
   {
    "duration": -170,
    "start_time": "2022-02-02T19:45:55.049Z"
   },
   {
    "duration": -187,
    "start_time": "2022-02-02T19:45:55.068Z"
   },
   {
    "duration": -206,
    "start_time": "2022-02-02T19:45:55.088Z"
   },
   {
    "duration": -223,
    "start_time": "2022-02-02T19:45:55.106Z"
   },
   {
    "duration": 329,
    "start_time": "2022-02-02T19:46:13.327Z"
   },
   {
    "duration": 385,
    "start_time": "2022-02-02T19:48:03.761Z"
   },
   {
    "duration": 336,
    "start_time": "2022-02-02T19:49:40.882Z"
   },
   {
    "duration": 1628,
    "start_time": "2022-02-02T19:50:56.751Z"
   },
   {
    "duration": 558,
    "start_time": "2022-02-02T19:50:58.381Z"
   },
   {
    "duration": 69,
    "start_time": "2022-02-02T19:50:58.942Z"
   },
   {
    "duration": 77,
    "start_time": "2022-02-02T19:50:59.014Z"
   },
   {
    "duration": 36,
    "start_time": "2022-02-02T19:50:59.094Z"
   },
   {
    "duration": 62,
    "start_time": "2022-02-02T19:50:59.133Z"
   },
   {
    "duration": 70,
    "start_time": "2022-02-02T19:50:59.197Z"
   },
   {
    "duration": 9,
    "start_time": "2022-02-02T19:50:59.269Z"
   },
   {
    "duration": 137,
    "start_time": "2022-02-02T19:50:59.285Z"
   },
   {
    "duration": 101,
    "start_time": "2022-02-02T19:50:59.425Z"
   },
   {
    "duration": 8,
    "start_time": "2022-02-02T19:50:59.528Z"
   },
   {
    "duration": 60,
    "start_time": "2022-02-02T19:50:59.539Z"
   },
   {
    "duration": 94,
    "start_time": "2022-02-02T19:50:59.601Z"
   },
   {
    "duration": 70,
    "start_time": "2022-02-02T19:50:59.698Z"
   },
   {
    "duration": 593,
    "start_time": "2022-02-02T19:50:59.771Z"
   },
   {
    "duration": 981,
    "start_time": "2022-02-02T19:51:00.369Z"
   },
   {
    "duration": 2431,
    "start_time": "2022-02-02T19:51:01.354Z"
   },
   {
    "duration": 431,
    "start_time": "2022-02-02T19:51:03.788Z"
   },
   {
    "duration": 38,
    "start_time": "2022-02-02T19:51:04.222Z"
   },
   {
    "duration": 558,
    "start_time": "2022-02-02T19:51:04.263Z"
   },
   {
    "duration": -31,
    "start_time": "2022-02-02T19:51:04.855Z"
   },
   {
    "duration": -48,
    "start_time": "2022-02-02T19:51:04.874Z"
   },
   {
    "duration": -64,
    "start_time": "2022-02-02T19:51:04.893Z"
   },
   {
    "duration": -80,
    "start_time": "2022-02-02T19:51:04.911Z"
   },
   {
    "duration": -96,
    "start_time": "2022-02-02T19:51:04.929Z"
   },
   {
    "duration": -110,
    "start_time": "2022-02-02T19:51:04.946Z"
   },
   {
    "duration": -125,
    "start_time": "2022-02-02T19:51:04.963Z"
   },
   {
    "duration": -141,
    "start_time": "2022-02-02T19:51:04.981Z"
   },
   {
    "duration": -157,
    "start_time": "2022-02-02T19:51:04.999Z"
   },
   {
    "duration": -178,
    "start_time": "2022-02-02T19:51:05.022Z"
   },
   {
    "duration": -192,
    "start_time": "2022-02-02T19:51:05.038Z"
   },
   {
    "duration": 1438,
    "start_time": "2022-02-02T19:52:29.596Z"
   },
   {
    "duration": 579,
    "start_time": "2022-02-02T19:52:31.037Z"
   },
   {
    "duration": 68,
    "start_time": "2022-02-02T19:52:31.619Z"
   },
   {
    "duration": 75,
    "start_time": "2022-02-02T19:52:31.689Z"
   },
   {
    "duration": 44,
    "start_time": "2022-02-02T19:52:31.767Z"
   },
   {
    "duration": 62,
    "start_time": "2022-02-02T19:52:31.814Z"
   },
   {
    "duration": 41,
    "start_time": "2022-02-02T19:52:31.880Z"
   },
   {
    "duration": 5,
    "start_time": "2022-02-02T19:52:31.925Z"
   },
   {
    "duration": 104,
    "start_time": "2022-02-02T19:52:31.963Z"
   },
   {
    "duration": 92,
    "start_time": "2022-02-02T19:52:32.070Z"
   },
   {
    "duration": 8,
    "start_time": "2022-02-02T19:52:32.165Z"
   },
   {
    "duration": 32,
    "start_time": "2022-02-02T19:52:32.176Z"
   },
   {
    "duration": 106,
    "start_time": "2022-02-02T19:52:32.210Z"
   },
   {
    "duration": 68,
    "start_time": "2022-02-02T19:52:32.318Z"
   },
   {
    "duration": 388,
    "start_time": "2022-02-02T19:52:32.389Z"
   },
   {
    "duration": 954,
    "start_time": "2022-02-02T19:52:32.779Z"
   },
   {
    "duration": 2281,
    "start_time": "2022-02-02T19:52:33.735Z"
   },
   {
    "duration": 447,
    "start_time": "2022-02-02T19:52:36.019Z"
   },
   {
    "duration": 24,
    "start_time": "2022-02-02T19:52:36.469Z"
   },
   {
    "duration": 341,
    "start_time": "2022-02-02T19:52:36.495Z"
   },
   {
    "duration": 335,
    "start_time": "2022-02-02T19:52:36.839Z"
   },
   {
    "duration": 23,
    "start_time": "2022-02-02T19:52:37.177Z"
   },
   {
    "duration": 348,
    "start_time": "2022-02-02T19:52:37.204Z"
   },
   {
    "duration": 27,
    "start_time": "2022-02-02T19:52:37.554Z"
   },
   {
    "duration": 356,
    "start_time": "2022-02-02T19:52:37.583Z"
   },
   {
    "duration": 29,
    "start_time": "2022-02-02T19:52:37.942Z"
   },
   {
    "duration": 329,
    "start_time": "2022-02-02T19:52:37.974Z"
   },
   {
    "duration": 4,
    "start_time": "2022-02-02T19:52:38.305Z"
   },
   {
    "duration": 9,
    "start_time": "2022-02-02T19:52:38.311Z"
   },
   {
    "duration": 7,
    "start_time": "2022-02-02T19:52:38.323Z"
   },
   {
    "duration": 16,
    "start_time": "2022-02-02T19:52:38.367Z"
   },
   {
    "duration": 377,
    "start_time": "2022-02-02T19:53:58.927Z"
   },
   {
    "duration": 134,
    "start_time": "2022-02-02T19:55:50.086Z"
   },
   {
    "duration": 1553,
    "start_time": "2022-02-02T19:56:15.771Z"
   },
   {
    "duration": 562,
    "start_time": "2022-02-02T19:56:17.326Z"
   },
   {
    "duration": 66,
    "start_time": "2022-02-02T19:56:17.894Z"
   },
   {
    "duration": 60,
    "start_time": "2022-02-02T19:56:17.963Z"
   },
   {
    "duration": 62,
    "start_time": "2022-02-02T19:56:18.025Z"
   },
   {
    "duration": 35,
    "start_time": "2022-02-02T19:56:18.090Z"
   },
   {
    "duration": 73,
    "start_time": "2022-02-02T19:56:18.128Z"
   },
   {
    "duration": 4,
    "start_time": "2022-02-02T19:56:18.204Z"
   },
   {
    "duration": 121,
    "start_time": "2022-02-02T19:56:18.212Z"
   },
   {
    "duration": 100,
    "start_time": "2022-02-02T19:56:18.336Z"
   },
   {
    "duration": 7,
    "start_time": "2022-02-02T19:56:18.439Z"
   },
   {
    "duration": 34,
    "start_time": "2022-02-02T19:56:18.459Z"
   },
   {
    "duration": 106,
    "start_time": "2022-02-02T19:56:18.495Z"
   },
   {
    "duration": 73,
    "start_time": "2022-02-02T19:56:18.603Z"
   },
   {
    "duration": 410,
    "start_time": "2022-02-02T19:56:18.680Z"
   },
   {
    "duration": 954,
    "start_time": "2022-02-02T19:56:19.093Z"
   },
   {
    "duration": 2417,
    "start_time": "2022-02-02T19:56:20.049Z"
   },
   {
    "duration": 427,
    "start_time": "2022-02-02T19:56:22.469Z"
   },
   {
    "duration": 23,
    "start_time": "2022-02-02T19:56:22.899Z"
   },
   {
    "duration": 360,
    "start_time": "2022-02-02T19:56:22.924Z"
   },
   {
    "duration": 124,
    "start_time": "2022-02-02T19:56:23.287Z"
   },
   {
    "duration": -18,
    "start_time": "2022-02-02T19:56:23.433Z"
   },
   {
    "duration": -26,
    "start_time": "2022-02-02T19:56:23.442Z"
   },
   {
    "duration": -43,
    "start_time": "2022-02-02T19:56:23.461Z"
   },
   {
    "duration": -56,
    "start_time": "2022-02-02T19:56:23.477Z"
   },
   {
    "duration": -73,
    "start_time": "2022-02-02T19:56:23.496Z"
   },
   {
    "duration": -88,
    "start_time": "2022-02-02T19:56:23.513Z"
   },
   {
    "duration": -103,
    "start_time": "2022-02-02T19:56:23.530Z"
   },
   {
    "duration": -120,
    "start_time": "2022-02-02T19:56:23.550Z"
   },
   {
    "duration": -135,
    "start_time": "2022-02-02T19:56:23.567Z"
   },
   {
    "duration": -152,
    "start_time": "2022-02-02T19:56:23.586Z"
   },
   {
    "duration": 1413,
    "start_time": "2022-02-02T19:59:48.108Z"
   },
   {
    "duration": 552,
    "start_time": "2022-02-02T19:59:49.523Z"
   },
   {
    "duration": 64,
    "start_time": "2022-02-02T19:59:50.079Z"
   },
   {
    "duration": 67,
    "start_time": "2022-02-02T19:59:50.146Z"
   },
   {
    "duration": 55,
    "start_time": "2022-02-02T19:59:50.216Z"
   },
   {
    "duration": 33,
    "start_time": "2022-02-02T19:59:50.273Z"
   },
   {
    "duration": 72,
    "start_time": "2022-02-02T19:59:50.309Z"
   },
   {
    "duration": 5,
    "start_time": "2022-02-02T19:59:50.385Z"
   },
   {
    "duration": 116,
    "start_time": "2022-02-02T19:59:50.393Z"
   },
   {
    "duration": 101,
    "start_time": "2022-02-02T19:59:50.512Z"
   },
   {
    "duration": 8,
    "start_time": "2022-02-02T19:59:50.616Z"
   },
   {
    "duration": 49,
    "start_time": "2022-02-02T19:59:50.626Z"
   },
   {
    "duration": 108,
    "start_time": "2022-02-02T19:59:50.677Z"
   },
   {
    "duration": 51,
    "start_time": "2022-02-02T19:59:50.788Z"
   },
   {
    "duration": 387,
    "start_time": "2022-02-02T19:59:50.866Z"
   },
   {
    "duration": 936,
    "start_time": "2022-02-02T19:59:51.256Z"
   },
   {
    "duration": 2334,
    "start_time": "2022-02-02T19:59:52.195Z"
   },
   {
    "duration": 451,
    "start_time": "2022-02-02T19:59:54.531Z"
   },
   {
    "duration": 24,
    "start_time": "2022-02-02T19:59:54.986Z"
   },
   {
    "duration": 375,
    "start_time": "2022-02-02T19:59:55.012Z"
   },
   {
    "duration": 24,
    "start_time": "2022-02-02T19:59:55.389Z"
   },
   {
    "duration": 362,
    "start_time": "2022-02-02T19:59:55.415Z"
   },
   {
    "duration": 25,
    "start_time": "2022-02-02T19:59:55.783Z"
   },
   {
    "duration": 368,
    "start_time": "2022-02-02T19:59:55.811Z"
   },
   {
    "duration": 24,
    "start_time": "2022-02-02T19:59:56.182Z"
   },
   {
    "duration": 329,
    "start_time": "2022-02-02T19:59:56.208Z"
   },
   {
    "duration": 3,
    "start_time": "2022-02-02T19:59:56.539Z"
   },
   {
    "duration": 20,
    "start_time": "2022-02-02T19:59:56.544Z"
   },
   {
    "duration": 9,
    "start_time": "2022-02-02T19:59:56.567Z"
   },
   {
    "duration": 17,
    "start_time": "2022-02-02T19:59:56.578Z"
   },
   {
    "duration": 1504,
    "start_time": "2022-02-02T20:00:56.656Z"
   },
   {
    "duration": 559,
    "start_time": "2022-02-02T20:00:58.165Z"
   },
   {
    "duration": 70,
    "start_time": "2022-02-02T20:00:58.727Z"
   },
   {
    "duration": 83,
    "start_time": "2022-02-02T20:00:58.801Z"
   },
   {
    "duration": 38,
    "start_time": "2022-02-02T20:00:58.887Z"
   },
   {
    "duration": 67,
    "start_time": "2022-02-02T20:00:58.928Z"
   },
   {
    "duration": 72,
    "start_time": "2022-02-02T20:00:58.998Z"
   },
   {
    "duration": 8,
    "start_time": "2022-02-02T20:00:59.074Z"
   },
   {
    "duration": 108,
    "start_time": "2022-02-02T20:00:59.085Z"
   },
   {
    "duration": 96,
    "start_time": "2022-02-02T20:00:59.195Z"
   },
   {
    "duration": 9,
    "start_time": "2022-02-02T20:00:59.293Z"
   },
   {
    "duration": 30,
    "start_time": "2022-02-02T20:00:59.304Z"
   },
   {
    "duration": 129,
    "start_time": "2022-02-02T20:00:59.336Z"
   },
   {
    "duration": 54,
    "start_time": "2022-02-02T20:00:59.468Z"
   },
   {
    "duration": 422,
    "start_time": "2022-02-02T20:00:59.525Z"
   },
   {
    "duration": 971,
    "start_time": "2022-02-02T20:00:59.950Z"
   },
   {
    "duration": 2371,
    "start_time": "2022-02-02T20:01:00.924Z"
   },
   {
    "duration": 534,
    "start_time": "2022-02-02T20:01:03.299Z"
   },
   {
    "duration": 36,
    "start_time": "2022-02-02T20:01:03.836Z"
   },
   {
    "duration": 342,
    "start_time": "2022-02-02T20:01:03.874Z"
   },
   {
    "duration": 24,
    "start_time": "2022-02-02T20:01:04.219Z"
   },
   {
    "duration": 347,
    "start_time": "2022-02-02T20:01:04.264Z"
   },
   {
    "duration": 22,
    "start_time": "2022-02-02T20:01:04.616Z"
   },
   {
    "duration": 378,
    "start_time": "2022-02-02T20:01:04.641Z"
   },
   {
    "duration": 39,
    "start_time": "2022-02-02T20:01:05.021Z"
   },
   {
    "duration": 333,
    "start_time": "2022-02-02T20:01:05.069Z"
   },
   {
    "duration": 4,
    "start_time": "2022-02-02T20:01:05.405Z"
   },
   {
    "duration": 21,
    "start_time": "2022-02-02T20:01:05.413Z"
   },
   {
    "duration": 22,
    "start_time": "2022-02-02T20:01:05.437Z"
   },
   {
    "duration": 38,
    "start_time": "2022-02-02T20:01:05.468Z"
   },
   {
    "duration": 54,
    "start_time": "2022-02-02T20:08:37.899Z"
   },
   {
    "duration": 9,
    "start_time": "2022-02-02T20:12:05.449Z"
   },
   {
    "duration": 40,
    "start_time": "2022-02-02T20:12:19.406Z"
   },
   {
    "duration": 1451,
    "start_time": "2022-02-02T20:13:34.576Z"
   },
   {
    "duration": 561,
    "start_time": "2022-02-02T20:13:36.031Z"
   },
   {
    "duration": 70,
    "start_time": "2022-02-02T20:13:36.594Z"
   },
   {
    "duration": 62,
    "start_time": "2022-02-02T20:13:36.671Z"
   },
   {
    "duration": 55,
    "start_time": "2022-02-02T20:13:36.736Z"
   },
   {
    "duration": 35,
    "start_time": "2022-02-02T20:13:36.793Z"
   },
   {
    "duration": 69,
    "start_time": "2022-02-02T20:13:36.832Z"
   },
   {
    "duration": 4,
    "start_time": "2022-02-02T20:13:36.904Z"
   },
   {
    "duration": 129,
    "start_time": "2022-02-02T20:13:36.911Z"
   },
   {
    "duration": 96,
    "start_time": "2022-02-02T20:13:37.042Z"
   },
   {
    "duration": 8,
    "start_time": "2022-02-02T20:13:37.141Z"
   },
   {
    "duration": 34,
    "start_time": "2022-02-02T20:13:37.160Z"
   },
   {
    "duration": 105,
    "start_time": "2022-02-02T20:13:37.196Z"
   },
   {
    "duration": 61,
    "start_time": "2022-02-02T20:13:37.303Z"
   },
   {
    "duration": 404,
    "start_time": "2022-02-02T20:13:37.367Z"
   },
   {
    "duration": 914,
    "start_time": "2022-02-02T20:13:37.774Z"
   },
   {
    "duration": 2341,
    "start_time": "2022-02-02T20:13:38.691Z"
   },
   {
    "duration": 445,
    "start_time": "2022-02-02T20:13:41.035Z"
   },
   {
    "duration": 23,
    "start_time": "2022-02-02T20:13:41.483Z"
   },
   {
    "duration": 344,
    "start_time": "2022-02-02T20:13:41.508Z"
   },
   {
    "duration": 25,
    "start_time": "2022-02-02T20:13:41.859Z"
   },
   {
    "duration": 348,
    "start_time": "2022-02-02T20:13:41.889Z"
   },
   {
    "duration": 39,
    "start_time": "2022-02-02T20:13:42.239Z"
   },
   {
    "duration": 337,
    "start_time": "2022-02-02T20:13:42.280Z"
   },
   {
    "duration": 22,
    "start_time": "2022-02-02T20:13:42.620Z"
   },
   {
    "duration": 336,
    "start_time": "2022-02-02T20:13:42.659Z"
   },
   {
    "duration": 5,
    "start_time": "2022-02-02T20:13:42.998Z"
   },
   {
    "duration": 10,
    "start_time": "2022-02-02T20:13:43.006Z"
   },
   {
    "duration": 10,
    "start_time": "2022-02-02T20:13:43.019Z"
   },
   {
    "duration": 46,
    "start_time": "2022-02-02T20:13:43.032Z"
   },
   {
    "duration": 1116,
    "start_time": "2022-02-12T08:07:26.545Z"
   },
   {
    "duration": 356,
    "start_time": "2022-02-12T08:07:27.666Z"
   },
   {
    "duration": 52,
    "start_time": "2022-02-12T08:07:28.024Z"
   },
   {
    "duration": 58,
    "start_time": "2022-02-12T08:07:28.078Z"
   },
   {
    "duration": 28,
    "start_time": "2022-02-12T08:07:28.138Z"
   },
   {
    "duration": 48,
    "start_time": "2022-02-12T08:07:28.168Z"
   },
   {
    "duration": 28,
    "start_time": "2022-02-12T08:07:28.220Z"
   },
   {
    "duration": 4,
    "start_time": "2022-02-12T08:07:28.251Z"
   },
   {
    "duration": 94,
    "start_time": "2022-02-12T08:07:28.257Z"
   },
   {
    "duration": 71,
    "start_time": "2022-02-12T08:07:28.353Z"
   },
   {
    "duration": 7,
    "start_time": "2022-02-12T08:07:28.426Z"
   },
   {
    "duration": 32,
    "start_time": "2022-02-12T08:07:28.435Z"
   },
   {
    "duration": 67,
    "start_time": "2022-02-12T08:07:28.469Z"
   },
   {
    "duration": 31,
    "start_time": "2022-02-12T08:07:28.537Z"
   },
   {
    "duration": 247,
    "start_time": "2022-02-12T08:07:28.569Z"
   },
   {
    "duration": 597,
    "start_time": "2022-02-12T08:07:28.818Z"
   },
   {
    "duration": 1521,
    "start_time": "2022-02-12T08:07:29.417Z"
   },
   {
    "duration": 307,
    "start_time": "2022-02-12T08:07:30.940Z"
   },
   {
    "duration": 16,
    "start_time": "2022-02-12T08:07:31.249Z"
   },
   {
    "duration": 223,
    "start_time": "2022-02-12T08:07:31.267Z"
   },
   {
    "duration": 26,
    "start_time": "2022-02-12T08:07:31.491Z"
   },
   {
    "duration": 220,
    "start_time": "2022-02-12T08:07:31.520Z"
   },
   {
    "duration": 14,
    "start_time": "2022-02-12T08:07:31.742Z"
   },
   {
    "duration": 227,
    "start_time": "2022-02-12T08:07:31.758Z"
   },
   {
    "duration": 25,
    "start_time": "2022-02-12T08:07:31.987Z"
   },
   {
    "duration": 209,
    "start_time": "2022-02-12T08:07:32.014Z"
   },
   {
    "duration": 2,
    "start_time": "2022-02-12T08:07:32.224Z"
   },
   {
    "duration": 8,
    "start_time": "2022-02-12T08:07:32.228Z"
   },
   {
    "duration": 5,
    "start_time": "2022-02-12T08:07:32.237Z"
   },
   {
    "duration": 12,
    "start_time": "2022-02-12T08:07:32.243Z"
   },
   {
    "duration": 320,
    "start_time": "2022-02-12T08:11:48.261Z"
   },
   {
    "duration": 4,
    "start_time": "2022-02-12T08:11:59.877Z"
   },
   {
    "duration": 4,
    "start_time": "2022-02-12T08:12:35.085Z"
   },
   {
    "duration": 1253,
    "start_time": "2022-02-13T09:49:27.579Z"
   },
   {
    "duration": 402,
    "start_time": "2022-02-13T09:49:28.834Z"
   },
   {
    "duration": 56,
    "start_time": "2022-02-13T09:49:29.238Z"
   },
   {
    "duration": 51,
    "start_time": "2022-02-13T09:49:29.296Z"
   },
   {
    "duration": 29,
    "start_time": "2022-02-13T09:49:29.349Z"
   },
   {
    "duration": 50,
    "start_time": "2022-02-13T09:49:29.380Z"
   },
   {
    "duration": 35,
    "start_time": "2022-02-13T09:49:29.431Z"
   },
   {
    "duration": 4,
    "start_time": "2022-02-13T09:49:29.469Z"
   },
   {
    "duration": 94,
    "start_time": "2022-02-13T09:49:29.476Z"
   },
   {
    "duration": 77,
    "start_time": "2022-02-13T09:49:29.572Z"
   },
   {
    "duration": 6,
    "start_time": "2022-02-13T09:49:29.651Z"
   },
   {
    "duration": 32,
    "start_time": "2022-02-13T09:49:29.659Z"
   },
   {
    "duration": 74,
    "start_time": "2022-02-13T09:49:29.693Z"
   },
   {
    "duration": 52,
    "start_time": "2022-02-13T09:49:29.768Z"
   },
   {
    "duration": 274,
    "start_time": "2022-02-13T09:49:29.822Z"
   },
   {
    "duration": 633,
    "start_time": "2022-02-13T09:49:30.098Z"
   },
   {
    "duration": 1651,
    "start_time": "2022-02-13T09:49:30.733Z"
   },
   {
    "duration": 335,
    "start_time": "2022-02-13T09:49:32.387Z"
   },
   {
    "duration": 18,
    "start_time": "2022-02-13T09:49:32.725Z"
   },
   {
    "duration": 244,
    "start_time": "2022-02-13T09:49:32.746Z"
   },
   {
    "duration": 26,
    "start_time": "2022-02-13T09:49:32.993Z"
   },
   {
    "duration": 251,
    "start_time": "2022-02-13T09:49:33.022Z"
   },
   {
    "duration": 32,
    "start_time": "2022-02-13T09:49:33.277Z"
   },
   {
    "duration": 235,
    "start_time": "2022-02-13T09:49:33.312Z"
   },
   {
    "duration": 16,
    "start_time": "2022-02-13T09:49:33.549Z"
   },
   {
    "duration": 227,
    "start_time": "2022-02-13T09:49:33.567Z"
   },
   {
    "duration": 2,
    "start_time": "2022-02-13T09:49:33.796Z"
   },
   {
    "duration": 17,
    "start_time": "2022-02-13T09:49:33.808Z"
   },
   {
    "duration": 28,
    "start_time": "2022-02-13T09:49:33.827Z"
   },
   {
    "duration": 104,
    "start_time": "2022-02-13T09:49:33.857Z"
   },
   {
    "duration": 5174,
    "start_time": "2022-02-13T09:53:18.930Z"
   },
   {
    "duration": -7171,
    "start_time": "2022-02-13T09:53:31.277Z"
   },
   {
    "duration": 5377,
    "start_time": "2022-02-13T09:54:18.931Z"
   },
   {
    "duration": 10,
    "start_time": "2022-02-13T09:54:40.158Z"
   },
   {
    "duration": 74,
    "start_time": "2022-02-13T09:55:45.777Z"
   },
   {
    "duration": 6071,
    "start_time": "2022-02-13T09:59:57.025Z"
   },
   {
    "duration": 5806,
    "start_time": "2022-02-13T10:00:35.449Z"
   },
   {
    "duration": 5360,
    "start_time": "2022-02-13T10:01:09.287Z"
   },
   {
    "duration": 5446,
    "start_time": "2022-02-13T10:01:40.020Z"
   },
   {
    "duration": 1293,
    "start_time": "2022-02-13T10:08:00.533Z"
   },
   {
    "duration": 490,
    "start_time": "2022-02-13T10:08:01.828Z"
   },
   {
    "duration": 60,
    "start_time": "2022-02-13T10:08:02.321Z"
   },
   {
    "duration": 64,
    "start_time": "2022-02-13T10:08:02.384Z"
   },
   {
    "duration": 35,
    "start_time": "2022-02-13T10:08:02.450Z"
   },
   {
    "duration": 29,
    "start_time": "2022-02-13T10:08:02.507Z"
   },
   {
    "duration": 40,
    "start_time": "2022-02-13T10:08:02.539Z"
   },
   {
    "duration": 97,
    "start_time": "2022-02-13T10:08:02.610Z"
   },
   {
    "duration": 102,
    "start_time": "2022-02-13T10:08:02.710Z"
   },
   {
    "duration": 13,
    "start_time": "2022-02-13T10:08:02.814Z"
   },
   {
    "duration": 46,
    "start_time": "2022-02-13T10:08:02.829Z"
   },
   {
    "duration": 9,
    "start_time": "2022-02-13T10:08:02.877Z"
   },
   {
    "duration": 44,
    "start_time": "2022-02-13T10:08:02.888Z"
   },
   {
    "duration": 560,
    "start_time": "2022-02-13T10:08:02.934Z"
   },
   {
    "duration": -7151,
    "start_time": "2022-02-13T10:08:10.647Z"
   },
   {
    "duration": -7167,
    "start_time": "2022-02-13T10:08:10.664Z"
   },
   {
    "duration": -7186,
    "start_time": "2022-02-13T10:08:10.685Z"
   },
   {
    "duration": -7205,
    "start_time": "2022-02-13T10:08:10.705Z"
   },
   {
    "duration": -7221,
    "start_time": "2022-02-13T10:08:10.722Z"
   },
   {
    "duration": -7242,
    "start_time": "2022-02-13T10:08:10.745Z"
   },
   {
    "duration": -7258,
    "start_time": "2022-02-13T10:08:10.762Z"
   },
   {
    "duration": -7277,
    "start_time": "2022-02-13T10:08:10.782Z"
   },
   {
    "duration": -7297,
    "start_time": "2022-02-13T10:08:10.803Z"
   },
   {
    "duration": -7313,
    "start_time": "2022-02-13T10:08:10.821Z"
   },
   {
    "duration": -7331,
    "start_time": "2022-02-13T10:08:10.840Z"
   },
   {
    "duration": -7354,
    "start_time": "2022-02-13T10:08:10.864Z"
   },
   {
    "duration": -7370,
    "start_time": "2022-02-13T10:08:10.881Z"
   },
   {
    "duration": -7385,
    "start_time": "2022-02-13T10:08:10.898Z"
   },
   {
    "duration": -7403,
    "start_time": "2022-02-13T10:08:10.917Z"
   },
   {
    "duration": -7421,
    "start_time": "2022-02-13T10:08:10.936Z"
   },
   {
    "duration": -7436,
    "start_time": "2022-02-13T10:08:10.952Z"
   },
   {
    "duration": 35,
    "start_time": "2022-02-13T10:11:56.695Z"
   },
   {
    "duration": 43,
    "start_time": "2022-02-13T10:12:35.919Z"
   },
   {
    "duration": 1203,
    "start_time": "2022-02-13T10:12:43.711Z"
   },
   {
    "duration": 417,
    "start_time": "2022-02-13T10:12:44.917Z"
   },
   {
    "duration": 59,
    "start_time": "2022-02-13T10:12:45.337Z"
   },
   {
    "duration": 55,
    "start_time": "2022-02-13T10:12:45.398Z"
   },
   {
    "duration": 53,
    "start_time": "2022-02-13T10:12:45.456Z"
   },
   {
    "duration": 25,
    "start_time": "2022-02-13T10:12:45.512Z"
   },
   {
    "duration": 32,
    "start_time": "2022-02-13T10:12:45.539Z"
   },
   {
    "duration": 34,
    "start_time": "2022-02-13T10:12:45.575Z"
   },
   {
    "duration": 83,
    "start_time": "2022-02-13T10:12:45.612Z"
   },
   {
    "duration": 18,
    "start_time": "2022-02-13T10:12:45.698Z"
   },
   {
    "duration": 41,
    "start_time": "2022-02-13T10:12:45.718Z"
   },
   {
    "duration": 6,
    "start_time": "2022-02-13T10:12:45.761Z"
   },
   {
    "duration": 42,
    "start_time": "2022-02-13T10:12:45.769Z"
   },
   {
    "duration": 366,
    "start_time": "2022-02-13T10:12:45.812Z"
   },
   {
    "duration": -7152,
    "start_time": "2022-02-13T10:12:53.333Z"
   },
   {
    "duration": -7155,
    "start_time": "2022-02-13T10:12:53.337Z"
   },
   {
    "duration": -7172,
    "start_time": "2022-02-13T10:12:53.356Z"
   },
   {
    "duration": -7190,
    "start_time": "2022-02-13T10:12:53.375Z"
   },
   {
    "duration": -7205,
    "start_time": "2022-02-13T10:12:53.391Z"
   },
   {
    "duration": -7228,
    "start_time": "2022-02-13T10:12:53.415Z"
   },
   {
    "duration": -7247,
    "start_time": "2022-02-13T10:12:53.436Z"
   },
   {
    "duration": -7272,
    "start_time": "2022-02-13T10:12:53.462Z"
   },
   {
    "duration": -7289,
    "start_time": "2022-02-13T10:12:53.480Z"
   },
   {
    "duration": -7300,
    "start_time": "2022-02-13T10:12:53.492Z"
   },
   {
    "duration": -7321,
    "start_time": "2022-02-13T10:12:53.514Z"
   },
   {
    "duration": -7338,
    "start_time": "2022-02-13T10:12:53.532Z"
   },
   {
    "duration": -7353,
    "start_time": "2022-02-13T10:12:53.548Z"
   },
   {
    "duration": -7368,
    "start_time": "2022-02-13T10:12:53.565Z"
   },
   {
    "duration": -7384,
    "start_time": "2022-02-13T10:12:53.582Z"
   },
   {
    "duration": -7403,
    "start_time": "2022-02-13T10:12:53.602Z"
   },
   {
    "duration": -7420,
    "start_time": "2022-02-13T10:12:53.620Z"
   },
   {
    "duration": 33,
    "start_time": "2022-02-13T10:15:23.896Z"
   },
   {
    "duration": 1327,
    "start_time": "2022-02-13T10:15:30.736Z"
   },
   {
    "duration": 510,
    "start_time": "2022-02-13T10:15:32.065Z"
   },
   {
    "duration": 71,
    "start_time": "2022-02-13T10:15:32.577Z"
   },
   {
    "duration": 66,
    "start_time": "2022-02-13T10:15:32.650Z"
   },
   {
    "duration": 34,
    "start_time": "2022-02-13T10:15:32.718Z"
   },
   {
    "duration": 84,
    "start_time": "2022-02-13T10:15:32.754Z"
   },
   {
    "duration": 54,
    "start_time": "2022-02-13T10:15:32.840Z"
   },
   {
    "duration": 6,
    "start_time": "2022-02-13T10:15:32.898Z"
   },
   {
    "duration": 88,
    "start_time": "2022-02-13T10:15:32.906Z"
   },
   {
    "duration": 12,
    "start_time": "2022-02-13T10:15:32.996Z"
   },
   {
    "duration": 60,
    "start_time": "2022-02-13T10:15:33.010Z"
   },
   {
    "duration": 6,
    "start_time": "2022-02-13T10:15:33.073Z"
   },
   {
    "duration": 80,
    "start_time": "2022-02-13T10:15:33.080Z"
   },
   {
    "duration": 518,
    "start_time": "2022-02-13T10:15:33.162Z"
   },
   {
    "duration": -7176,
    "start_time": "2022-02-13T10:15:40.858Z"
   },
   {
    "duration": -7193,
    "start_time": "2022-02-13T10:15:40.877Z"
   },
   {
    "duration": -7202,
    "start_time": "2022-02-13T10:15:40.887Z"
   },
   {
    "duration": -7245,
    "start_time": "2022-02-13T10:15:40.931Z"
   },
   {
    "duration": -7256,
    "start_time": "2022-02-13T10:15:40.943Z"
   },
   {
    "duration": -7339,
    "start_time": "2022-02-13T10:15:41.027Z"
   },
   {
    "duration": -7401,
    "start_time": "2022-02-13T10:15:41.090Z"
   },
   {
    "duration": -7441,
    "start_time": "2022-02-13T10:15:41.131Z"
   },
   {
    "duration": -7447,
    "start_time": "2022-02-13T10:15:41.139Z"
   },
   {
    "duration": -7450,
    "start_time": "2022-02-13T10:15:41.143Z"
   },
   {
    "duration": -7478,
    "start_time": "2022-02-13T10:15:41.172Z"
   },
   {
    "duration": -7482,
    "start_time": "2022-02-13T10:15:41.177Z"
   },
   {
    "duration": -7496,
    "start_time": "2022-02-13T10:15:41.192Z"
   },
   {
    "duration": -7513,
    "start_time": "2022-02-13T10:15:41.210Z"
   },
   {
    "duration": -7518,
    "start_time": "2022-02-13T10:15:41.215Z"
   },
   {
    "duration": -7545,
    "start_time": "2022-02-13T10:15:41.243Z"
   },
   {
    "duration": -7562,
    "start_time": "2022-02-13T10:15:41.261Z"
   },
   {
    "duration": 1294,
    "start_time": "2022-02-13T10:19:55.496Z"
   },
   {
    "duration": 421,
    "start_time": "2022-02-13T10:19:56.792Z"
   },
   {
    "duration": 61,
    "start_time": "2022-02-13T10:19:57.215Z"
   },
   {
    "duration": 66,
    "start_time": "2022-02-13T10:19:57.278Z"
   },
   {
    "duration": 32,
    "start_time": "2022-02-13T10:19:57.346Z"
   },
   {
    "duration": 52,
    "start_time": "2022-02-13T10:19:57.380Z"
   },
   {
    "duration": 31,
    "start_time": "2022-02-13T10:19:57.434Z"
   },
   {
    "duration": 4,
    "start_time": "2022-02-13T10:19:57.468Z"
   },
   {
    "duration": 105,
    "start_time": "2022-02-13T10:19:57.475Z"
   },
   {
    "duration": 80,
    "start_time": "2022-02-13T10:19:57.582Z"
   },
   {
    "duration": 6,
    "start_time": "2022-02-13T10:19:57.665Z"
   },
   {
    "duration": 27,
    "start_time": "2022-02-13T10:19:57.673Z"
   },
   {
    "duration": 75,
    "start_time": "2022-02-13T10:19:57.708Z"
   },
   {
    "duration": 52,
    "start_time": "2022-02-13T10:19:57.786Z"
   },
   {
    "duration": 269,
    "start_time": "2022-02-13T10:19:57.840Z"
   },
   {
    "duration": 638,
    "start_time": "2022-02-13T10:19:58.111Z"
   },
   {
    "duration": 1527,
    "start_time": "2022-02-13T10:19:58.751Z"
   },
   {
    "duration": 315,
    "start_time": "2022-02-13T10:20:00.280Z"
   },
   {
    "duration": 21,
    "start_time": "2022-02-13T10:20:00.597Z"
   },
   {
    "duration": 241,
    "start_time": "2022-02-13T10:20:00.620Z"
   },
   {
    "duration": 17,
    "start_time": "2022-02-13T10:20:00.865Z"
   },
   {
    "duration": 264,
    "start_time": "2022-02-13T10:20:00.884Z"
   },
   {
    "duration": 18,
    "start_time": "2022-02-13T10:20:01.153Z"
   },
   {
    "duration": 245,
    "start_time": "2022-02-13T10:20:01.174Z"
   },
   {
    "duration": 17,
    "start_time": "2022-02-13T10:20:01.421Z"
   },
   {
    "duration": 231,
    "start_time": "2022-02-13T10:20:01.440Z"
   },
   {
    "duration": 3,
    "start_time": "2022-02-13T10:20:01.673Z"
   },
   {
    "duration": 16,
    "start_time": "2022-02-13T10:20:01.677Z"
   },
   {
    "duration": 19,
    "start_time": "2022-02-13T10:20:01.695Z"
   },
   {
    "duration": 30,
    "start_time": "2022-02-13T10:20:01.716Z"
   },
   {
    "duration": 5873,
    "start_time": "2022-02-13T10:20:57.868Z"
   },
   {
    "duration": 1169,
    "start_time": "2022-02-13T10:21:21.924Z"
   },
   {
    "duration": 404,
    "start_time": "2022-02-13T10:21:23.095Z"
   },
   {
    "duration": 57,
    "start_time": "2022-02-13T10:21:23.501Z"
   },
   {
    "duration": 64,
    "start_time": "2022-02-13T10:21:23.560Z"
   },
   {
    "duration": 28,
    "start_time": "2022-02-13T10:21:23.626Z"
   },
   {
    "duration": 24,
    "start_time": "2022-02-13T10:21:23.656Z"
   },
   {
    "duration": 31,
    "start_time": "2022-02-13T10:21:23.707Z"
   },
   {
    "duration": 4,
    "start_time": "2022-02-13T10:21:23.741Z"
   },
   {
    "duration": 100,
    "start_time": "2022-02-13T10:21:23.747Z"
   },
   {
    "duration": 77,
    "start_time": "2022-02-13T10:21:23.849Z"
   },
   {
    "duration": 17,
    "start_time": "2022-02-13T10:21:23.928Z"
   },
   {
    "duration": 29,
    "start_time": "2022-02-13T10:21:23.947Z"
   },
   {
    "duration": 82,
    "start_time": "2022-02-13T10:21:23.978Z"
   },
   {
    "duration": 54,
    "start_time": "2022-02-13T10:21:24.061Z"
   },
   {
    "duration": 250,
    "start_time": "2022-02-13T10:21:24.117Z"
   },
   {
    "duration": 623,
    "start_time": "2022-02-13T10:21:24.369Z"
   },
   {
    "duration": 1666,
    "start_time": "2022-02-13T10:21:24.994Z"
   },
   {
    "duration": 312,
    "start_time": "2022-02-13T10:21:26.662Z"
   },
   {
    "duration": 16,
    "start_time": "2022-02-13T10:21:26.976Z"
   },
   {
    "duration": 237,
    "start_time": "2022-02-13T10:21:26.994Z"
   },
   {
    "duration": 18,
    "start_time": "2022-02-13T10:21:27.234Z"
   },
   {
    "duration": 248,
    "start_time": "2022-02-13T10:21:27.254Z"
   },
   {
    "duration": 17,
    "start_time": "2022-02-13T10:21:27.510Z"
   },
   {
    "duration": 238,
    "start_time": "2022-02-13T10:21:27.530Z"
   },
   {
    "duration": 17,
    "start_time": "2022-02-13T10:21:27.771Z"
   },
   {
    "duration": 232,
    "start_time": "2022-02-13T10:21:27.790Z"
   },
   {
    "duration": 3,
    "start_time": "2022-02-13T10:21:28.025Z"
   },
   {
    "duration": 36,
    "start_time": "2022-02-13T10:21:28.029Z"
   },
   {
    "duration": 35,
    "start_time": "2022-02-13T10:21:28.067Z"
   },
   {
    "duration": 31,
    "start_time": "2022-02-13T10:21:28.105Z"
   },
   {
    "duration": 1403,
    "start_time": "2022-02-13T10:23:30.883Z"
   },
   {
    "duration": 432,
    "start_time": "2022-02-13T10:23:32.288Z"
   },
   {
    "duration": 61,
    "start_time": "2022-02-13T10:23:32.723Z"
   },
   {
    "duration": 65,
    "start_time": "2022-02-13T10:23:32.787Z"
   },
   {
    "duration": 32,
    "start_time": "2022-02-13T10:23:32.854Z"
   },
   {
    "duration": 42,
    "start_time": "2022-02-13T10:23:32.888Z"
   },
   {
    "duration": 31,
    "start_time": "2022-02-13T10:23:32.932Z"
   },
   {
    "duration": 4,
    "start_time": "2022-02-13T10:23:32.966Z"
   },
   {
    "duration": 74,
    "start_time": "2022-02-13T10:23:33.007Z"
   },
   {
    "duration": 82,
    "start_time": "2022-02-13T10:23:33.082Z"
   },
   {
    "duration": 517,
    "start_time": "2022-02-13T10:23:33.166Z"
   },
   {
    "duration": -7152,
    "start_time": "2022-02-13T10:23:40.838Z"
   },
   {
    "duration": -7160,
    "start_time": "2022-02-13T10:23:40.847Z"
   },
   {
    "duration": -7184,
    "start_time": "2022-02-13T10:23:40.872Z"
   },
   {
    "duration": -7198,
    "start_time": "2022-02-13T10:23:40.888Z"
   },
   {
    "duration": -7221,
    "start_time": "2022-02-13T10:23:40.912Z"
   },
   {
    "duration": -7241,
    "start_time": "2022-02-13T10:23:40.933Z"
   },
   {
    "duration": -7262,
    "start_time": "2022-02-13T10:23:40.955Z"
   },
   {
    "duration": -7278,
    "start_time": "2022-02-13T10:23:40.972Z"
   },
   {
    "duration": -7294,
    "start_time": "2022-02-13T10:23:40.989Z"
   },
   {
    "duration": -7313,
    "start_time": "2022-02-13T10:23:41.009Z"
   },
   {
    "duration": -7335,
    "start_time": "2022-02-13T10:23:41.032Z"
   },
   {
    "duration": -7350,
    "start_time": "2022-02-13T10:23:41.048Z"
   },
   {
    "duration": -7368,
    "start_time": "2022-02-13T10:23:41.067Z"
   },
   {
    "duration": -7383,
    "start_time": "2022-02-13T10:23:41.083Z"
   },
   {
    "duration": -7396,
    "start_time": "2022-02-13T10:23:41.097Z"
   },
   {
    "duration": -7408,
    "start_time": "2022-02-13T10:23:41.111Z"
   },
   {
    "duration": -7428,
    "start_time": "2022-02-13T10:23:41.132Z"
   },
   {
    "duration": -7442,
    "start_time": "2022-02-13T10:23:41.147Z"
   },
   {
    "duration": -7458,
    "start_time": "2022-02-13T10:23:41.164Z"
   },
   {
    "duration": 116,
    "start_time": "2022-02-13T10:24:02.119Z"
   },
   {
    "duration": 17,
    "start_time": "2022-02-13T10:24:23.141Z"
   },
   {
    "duration": 66,
    "start_time": "2022-02-13T10:27:16.908Z"
   },
   {
    "duration": 16,
    "start_time": "2022-02-13T10:27:29.099Z"
   },
   {
    "duration": 1252,
    "start_time": "2022-02-13T10:32:18.381Z"
   },
   {
    "duration": 408,
    "start_time": "2022-02-13T10:32:19.636Z"
   },
   {
    "duration": 56,
    "start_time": "2022-02-13T10:32:20.046Z"
   },
   {
    "duration": 61,
    "start_time": "2022-02-13T10:32:20.108Z"
   },
   {
    "duration": 48,
    "start_time": "2022-02-13T10:32:20.171Z"
   },
   {
    "duration": 23,
    "start_time": "2022-02-13T10:32:20.221Z"
   },
   {
    "duration": 61,
    "start_time": "2022-02-13T10:32:20.246Z"
   },
   {
    "duration": 5,
    "start_time": "2022-02-13T10:32:20.311Z"
   },
   {
    "duration": 91,
    "start_time": "2022-02-13T10:32:20.319Z"
   },
   {
    "duration": 71,
    "start_time": "2022-02-13T10:32:20.412Z"
   },
   {
    "duration": 30,
    "start_time": "2022-02-13T10:32:20.485Z"
   },
   {
    "duration": 23,
    "start_time": "2022-02-13T10:32:20.517Z"
   },
   {
    "duration": 95,
    "start_time": "2022-02-13T10:32:20.542Z"
   },
   {
    "duration": 35,
    "start_time": "2022-02-13T10:32:20.639Z"
   },
   {
    "duration": 281,
    "start_time": "2022-02-13T10:32:20.676Z"
   },
   {
    "duration": 652,
    "start_time": "2022-02-13T10:32:20.959Z"
   },
   {
    "duration": 1561,
    "start_time": "2022-02-13T10:32:21.613Z"
   },
   {
    "duration": 325,
    "start_time": "2022-02-13T10:32:23.176Z"
   },
   {
    "duration": 18,
    "start_time": "2022-02-13T10:32:23.503Z"
   },
   {
    "duration": 241,
    "start_time": "2022-02-13T10:32:23.523Z"
   },
   {
    "duration": 17,
    "start_time": "2022-02-13T10:32:23.766Z"
   },
   {
    "duration": 266,
    "start_time": "2022-02-13T10:32:23.785Z"
   },
   {
    "duration": 17,
    "start_time": "2022-02-13T10:32:24.055Z"
   },
   {
    "duration": 260,
    "start_time": "2022-02-13T10:32:24.075Z"
   },
   {
    "duration": 24,
    "start_time": "2022-02-13T10:32:24.337Z"
   },
   {
    "duration": 338,
    "start_time": "2022-02-13T10:32:24.363Z"
   },
   {
    "duration": 5,
    "start_time": "2022-02-13T10:32:24.703Z"
   },
   {
    "duration": 13,
    "start_time": "2022-02-13T10:32:24.710Z"
   },
   {
    "duration": 11,
    "start_time": "2022-02-13T10:32:24.725Z"
   },
   {
    "duration": 18,
    "start_time": "2022-02-13T10:32:24.738Z"
   },
   {
    "duration": 54,
    "start_time": "2022-02-13T10:34:17.089Z"
   },
   {
    "duration": 289,
    "start_time": "2022-02-13T10:41:52.363Z"
   },
   {
    "duration": 310,
    "start_time": "2022-02-13T10:48:35.098Z"
   },
   {
    "duration": 550,
    "start_time": "2022-02-13T10:49:28.257Z"
   },
   {
    "duration": 1251,
    "start_time": "2022-02-13T10:52:23.043Z"
   },
   {
    "duration": 406,
    "start_time": "2022-02-13T10:52:24.297Z"
   },
   {
    "duration": 56,
    "start_time": "2022-02-13T10:52:24.705Z"
   },
   {
    "duration": 64,
    "start_time": "2022-02-13T10:52:24.764Z"
   },
   {
    "duration": 32,
    "start_time": "2022-02-13T10:52:24.830Z"
   },
   {
    "duration": 48,
    "start_time": "2022-02-13T10:52:24.865Z"
   },
   {
    "duration": 31,
    "start_time": "2022-02-13T10:52:24.915Z"
   },
   {
    "duration": 5,
    "start_time": "2022-02-13T10:52:24.949Z"
   },
   {
    "duration": 108,
    "start_time": "2022-02-13T10:52:24.956Z"
   },
   {
    "duration": 76,
    "start_time": "2022-02-13T10:52:25.066Z"
   },
   {
    "duration": 16,
    "start_time": "2022-02-13T10:52:25.144Z"
   },
   {
    "duration": 20,
    "start_time": "2022-02-13T10:52:25.162Z"
   },
   {
    "duration": 89,
    "start_time": "2022-02-13T10:52:25.184Z"
   },
   {
    "duration": 54,
    "start_time": "2022-02-13T10:52:25.275Z"
   },
   {
    "duration": 321,
    "start_time": "2022-02-13T10:52:25.331Z"
   },
   {
    "duration": 629,
    "start_time": "2022-02-13T10:52:25.654Z"
   },
   {
    "duration": 1494,
    "start_time": "2022-02-13T10:52:26.285Z"
   },
   {
    "duration": 334,
    "start_time": "2022-02-13T10:52:27.782Z"
   },
   {
    "duration": 17,
    "start_time": "2022-02-13T10:52:28.118Z"
   },
   {
    "duration": 233,
    "start_time": "2022-02-13T10:52:28.137Z"
   },
   {
    "duration": 17,
    "start_time": "2022-02-13T10:52:28.372Z"
   },
   {
    "duration": 247,
    "start_time": "2022-02-13T10:52:28.391Z"
   },
   {
    "duration": 16,
    "start_time": "2022-02-13T10:52:28.641Z"
   },
   {
    "duration": 238,
    "start_time": "2022-02-13T10:52:28.660Z"
   },
   {
    "duration": 28,
    "start_time": "2022-02-13T10:52:28.900Z"
   },
   {
    "duration": 234,
    "start_time": "2022-02-13T10:52:28.931Z"
   },
   {
    "duration": 3,
    "start_time": "2022-02-13T10:52:29.167Z"
   },
   {
    "duration": 12,
    "start_time": "2022-02-13T10:52:29.171Z"
   },
   {
    "duration": 22,
    "start_time": "2022-02-13T10:52:29.185Z"
   },
   {
    "duration": 12,
    "start_time": "2022-02-13T10:52:29.210Z"
   },
   {
    "duration": 1230,
    "start_time": "2022-02-13T10:54:17.840Z"
   },
   {
    "duration": 431,
    "start_time": "2022-02-13T10:54:19.072Z"
   },
   {
    "duration": 58,
    "start_time": "2022-02-13T10:54:19.506Z"
   },
   {
    "duration": 62,
    "start_time": "2022-02-13T10:54:19.566Z"
   },
   {
    "duration": 31,
    "start_time": "2022-02-13T10:54:19.630Z"
   },
   {
    "duration": 48,
    "start_time": "2022-02-13T10:54:19.663Z"
   },
   {
    "duration": 32,
    "start_time": "2022-02-13T10:54:19.713Z"
   },
   {
    "duration": 5,
    "start_time": "2022-02-13T10:54:19.748Z"
   },
   {
    "duration": 103,
    "start_time": "2022-02-13T10:54:19.755Z"
   },
   {
    "duration": 74,
    "start_time": "2022-02-13T10:54:19.859Z"
   },
   {
    "duration": 17,
    "start_time": "2022-02-13T10:54:19.936Z"
   },
   {
    "duration": 32,
    "start_time": "2022-02-13T10:54:19.956Z"
   },
   {
    "duration": 79,
    "start_time": "2022-02-13T10:54:19.990Z"
   },
   {
    "duration": 58,
    "start_time": "2022-02-13T10:54:20.071Z"
   },
   {
    "duration": 337,
    "start_time": "2022-02-13T10:54:20.131Z"
   },
   {
    "duration": 627,
    "start_time": "2022-02-13T10:54:20.470Z"
   },
   {
    "duration": 1541,
    "start_time": "2022-02-13T10:54:21.099Z"
   },
   {
    "duration": 331,
    "start_time": "2022-02-13T10:54:22.642Z"
   },
   {
    "duration": 20,
    "start_time": "2022-02-13T10:54:22.975Z"
   },
   {
    "duration": 231,
    "start_time": "2022-02-13T10:54:23.007Z"
   },
   {
    "duration": 22,
    "start_time": "2022-02-13T10:54:23.241Z"
   },
   {
    "duration": 255,
    "start_time": "2022-02-13T10:54:23.266Z"
   },
   {
    "duration": 17,
    "start_time": "2022-02-13T10:54:23.525Z"
   },
   {
    "duration": 253,
    "start_time": "2022-02-13T10:54:23.544Z"
   },
   {
    "duration": 23,
    "start_time": "2022-02-13T10:54:23.798Z"
   },
   {
    "duration": 229,
    "start_time": "2022-02-13T10:54:23.823Z"
   },
   {
    "duration": 3,
    "start_time": "2022-02-13T10:54:24.054Z"
   },
   {
    "duration": 10,
    "start_time": "2022-02-13T10:54:24.059Z"
   },
   {
    "duration": 6,
    "start_time": "2022-02-13T10:54:24.071Z"
   },
   {
    "duration": 37,
    "start_time": "2022-02-13T10:54:24.079Z"
   },
   {
    "duration": 131,
    "start_time": "2022-02-13T10:57:54.955Z"
   },
   {
    "duration": 4,
    "start_time": "2022-02-13T10:58:14.191Z"
   },
   {
    "duration": 4,
    "start_time": "2022-02-13T10:58:34.831Z"
   },
   {
    "duration": 75,
    "start_time": "2022-02-13T10:59:06.796Z"
   },
   {
    "duration": 80,
    "start_time": "2022-02-13T10:59:21.072Z"
   },
   {
    "duration": 332,
    "start_time": "2022-02-13T11:01:01.844Z"
   },
   {
    "duration": 308,
    "start_time": "2022-02-13T11:08:42.129Z"
   },
   {
    "duration": 283,
    "start_time": "2022-02-13T11:10:49.627Z"
   },
   {
    "duration": 1300,
    "start_time": "2022-02-13T11:12:58.402Z"
   },
   {
    "duration": 425,
    "start_time": "2022-02-13T11:12:59.704Z"
   },
   {
    "duration": 61,
    "start_time": "2022-02-13T11:13:00.132Z"
   },
   {
    "duration": 60,
    "start_time": "2022-02-13T11:13:00.195Z"
   },
   {
    "duration": 29,
    "start_time": "2022-02-13T11:13:00.257Z"
   },
   {
    "duration": 24,
    "start_time": "2022-02-13T11:13:00.308Z"
   },
   {
    "duration": 34,
    "start_time": "2022-02-13T11:13:00.333Z"
   },
   {
    "duration": 16,
    "start_time": "2022-02-13T11:13:00.369Z"
   },
   {
    "duration": 91,
    "start_time": "2022-02-13T11:13:00.387Z"
   },
   {
    "duration": 87,
    "start_time": "2022-02-13T11:13:00.480Z"
   },
   {
    "duration": 17,
    "start_time": "2022-02-13T11:13:00.569Z"
   },
   {
    "duration": 35,
    "start_time": "2022-02-13T11:13:00.588Z"
   },
   {
    "duration": 88,
    "start_time": "2022-02-13T11:13:00.625Z"
   },
   {
    "duration": 37,
    "start_time": "2022-02-13T11:13:00.715Z"
   },
   {
    "duration": 7,
    "start_time": "2022-02-13T11:13:00.753Z"
   },
   {
    "duration": -7188,
    "start_time": "2022-02-13T11:13:07.950Z"
   },
   {
    "duration": -7199,
    "start_time": "2022-02-13T11:13:07.963Z"
   },
   {
    "duration": -7224,
    "start_time": "2022-02-13T11:13:07.989Z"
   },
   {
    "duration": -7229,
    "start_time": "2022-02-13T11:13:07.995Z"
   },
   {
    "duration": -7259,
    "start_time": "2022-02-13T11:13:08.026Z"
   },
   {
    "duration": -7269,
    "start_time": "2022-02-13T11:13:08.037Z"
   },
   {
    "duration": -7299,
    "start_time": "2022-02-13T11:13:08.068Z"
   },
   {
    "duration": -7313,
    "start_time": "2022-02-13T11:13:08.083Z"
   },
   {
    "duration": -7330,
    "start_time": "2022-02-13T11:13:08.101Z"
   },
   {
    "duration": -7352,
    "start_time": "2022-02-13T11:13:08.123Z"
   },
   {
    "duration": -7371,
    "start_time": "2022-02-13T11:13:08.143Z"
   },
   {
    "duration": -7350,
    "start_time": "2022-02-13T11:13:08.157Z"
   },
   {
    "duration": -7369,
    "start_time": "2022-02-13T11:13:08.177Z"
   },
   {
    "duration": -7382,
    "start_time": "2022-02-13T11:13:08.192Z"
   },
   {
    "duration": -7400,
    "start_time": "2022-02-13T11:13:08.211Z"
   },
   {
    "duration": 266,
    "start_time": "2022-02-13T11:13:44.660Z"
   },
   {
    "duration": 1564,
    "start_time": "2022-02-13T11:14:40.390Z"
   },
   {
    "duration": 417,
    "start_time": "2022-02-13T11:14:41.957Z"
   },
   {
    "duration": 62,
    "start_time": "2022-02-13T11:14:42.377Z"
   },
   {
    "duration": 66,
    "start_time": "2022-02-13T11:14:42.442Z"
   },
   {
    "duration": 32,
    "start_time": "2022-02-13T11:14:42.510Z"
   },
   {
    "duration": 25,
    "start_time": "2022-02-13T11:14:42.544Z"
   },
   {
    "duration": 62,
    "start_time": "2022-02-13T11:14:42.571Z"
   },
   {
    "duration": 4,
    "start_time": "2022-02-13T11:14:42.636Z"
   },
   {
    "duration": 100,
    "start_time": "2022-02-13T11:14:42.643Z"
   },
   {
    "duration": 80,
    "start_time": "2022-02-13T11:14:42.745Z"
   },
   {
    "duration": 17,
    "start_time": "2022-02-13T11:14:42.827Z"
   },
   {
    "duration": 23,
    "start_time": "2022-02-13T11:14:42.846Z"
   },
   {
    "duration": 96,
    "start_time": "2022-02-13T11:14:42.871Z"
   },
   {
    "duration": 56,
    "start_time": "2022-02-13T11:14:42.968Z"
   },
   {
    "duration": 289,
    "start_time": "2022-02-13T11:14:43.026Z"
   },
   {
    "duration": 654,
    "start_time": "2022-02-13T11:14:43.316Z"
   },
   {
    "duration": 1522,
    "start_time": "2022-02-13T11:14:43.972Z"
   },
   {
    "duration": 323,
    "start_time": "2022-02-13T11:14:45.496Z"
   },
   {
    "duration": 19,
    "start_time": "2022-02-13T11:14:45.821Z"
   },
   {
    "duration": 246,
    "start_time": "2022-02-13T11:14:45.842Z"
   },
   {
    "duration": 26,
    "start_time": "2022-02-13T11:14:46.090Z"
   },
   {
    "duration": 243,
    "start_time": "2022-02-13T11:14:46.118Z"
   },
   {
    "duration": 18,
    "start_time": "2022-02-13T11:14:46.365Z"
   },
   {
    "duration": 262,
    "start_time": "2022-02-13T11:14:46.385Z"
   },
   {
    "duration": 18,
    "start_time": "2022-02-13T11:14:46.649Z"
   },
   {
    "duration": 241,
    "start_time": "2022-02-13T11:14:46.669Z"
   },
   {
    "duration": 3,
    "start_time": "2022-02-13T11:14:46.912Z"
   },
   {
    "duration": 11,
    "start_time": "2022-02-13T11:14:46.916Z"
   },
   {
    "duration": 11,
    "start_time": "2022-02-13T11:14:46.929Z"
   },
   {
    "duration": 42,
    "start_time": "2022-02-13T11:14:46.942Z"
   },
   {
    "duration": 294,
    "start_time": "2022-02-13T11:21:38.679Z"
   },
   {
    "duration": 282,
    "start_time": "2022-02-13T11:22:50.343Z"
   },
   {
    "duration": 1154,
    "start_time": "2022-02-13T11:23:36.241Z"
   },
   {
    "duration": 403,
    "start_time": "2022-02-13T11:23:37.397Z"
   },
   {
    "duration": 55,
    "start_time": "2022-02-13T11:23:37.803Z"
   },
   {
    "duration": 63,
    "start_time": "2022-02-13T11:23:37.860Z"
   },
   {
    "duration": 30,
    "start_time": "2022-02-13T11:23:37.925Z"
   },
   {
    "duration": 23,
    "start_time": "2022-02-13T11:23:37.956Z"
   },
   {
    "duration": 55,
    "start_time": "2022-02-13T11:23:37.981Z"
   },
   {
    "duration": 12,
    "start_time": "2022-02-13T11:23:38.038Z"
   },
   {
    "duration": 96,
    "start_time": "2022-02-13T11:23:38.053Z"
   },
   {
    "duration": 77,
    "start_time": "2022-02-13T11:23:38.151Z"
   },
   {
    "duration": 17,
    "start_time": "2022-02-13T11:23:38.230Z"
   },
   {
    "duration": 18,
    "start_time": "2022-02-13T11:23:38.249Z"
   },
   {
    "duration": 86,
    "start_time": "2022-02-13T11:23:38.269Z"
   },
   {
    "duration": 34,
    "start_time": "2022-02-13T11:23:38.357Z"
   },
   {
    "duration": 292,
    "start_time": "2022-02-13T11:23:38.393Z"
   },
   {
    "duration": 622,
    "start_time": "2022-02-13T11:23:38.687Z"
   },
   {
    "duration": 1576,
    "start_time": "2022-02-13T11:23:39.311Z"
   },
   {
    "duration": 327,
    "start_time": "2022-02-13T11:23:40.889Z"
   },
   {
    "duration": 17,
    "start_time": "2022-02-13T11:23:41.217Z"
   },
   {
    "duration": 242,
    "start_time": "2022-02-13T11:23:41.236Z"
   },
   {
    "duration": 29,
    "start_time": "2022-02-13T11:23:41.480Z"
   },
   {
    "duration": 242,
    "start_time": "2022-02-13T11:23:41.512Z"
   },
   {
    "duration": 19,
    "start_time": "2022-02-13T11:23:41.757Z"
   },
   {
    "duration": 253,
    "start_time": "2022-02-13T11:23:41.778Z"
   },
   {
    "duration": 17,
    "start_time": "2022-02-13T11:23:42.033Z"
   },
   {
    "duration": 234,
    "start_time": "2022-02-13T11:23:42.052Z"
   },
   {
    "duration": 3,
    "start_time": "2022-02-13T11:23:42.288Z"
   },
   {
    "duration": 17,
    "start_time": "2022-02-13T11:23:42.293Z"
   },
   {
    "duration": 6,
    "start_time": "2022-02-13T11:23:42.312Z"
   },
   {
    "duration": 21,
    "start_time": "2022-02-13T11:23:42.320Z"
   },
   {
    "duration": 639,
    "start_time": "2022-02-13T11:32:03.505Z"
   },
   {
    "duration": 530,
    "start_time": "2022-02-13T11:32:29.115Z"
   },
   {
    "duration": 602,
    "start_time": "2022-02-13T11:33:05.144Z"
   },
   {
    "duration": 407,
    "start_time": "2022-02-13T11:34:31.517Z"
   },
   {
    "duration": 34,
    "start_time": "2022-02-13T11:37:30.144Z"
   },
   {
    "duration": 30,
    "start_time": "2022-02-13T11:38:49.557Z"
   },
   {
    "duration": 27,
    "start_time": "2022-02-13T11:40:30.895Z"
   },
   {
    "duration": 1247,
    "start_time": "2022-02-13T11:41:13.956Z"
   },
   {
    "duration": 418,
    "start_time": "2022-02-13T11:41:15.205Z"
   },
   {
    "duration": 57,
    "start_time": "2022-02-13T11:41:15.626Z"
   },
   {
    "duration": 68,
    "start_time": "2022-02-13T11:41:15.685Z"
   },
   {
    "duration": 32,
    "start_time": "2022-02-13T11:41:15.755Z"
   },
   {
    "duration": 24,
    "start_time": "2022-02-13T11:41:15.808Z"
   },
   {
    "duration": 38,
    "start_time": "2022-02-13T11:41:15.834Z"
   },
   {
    "duration": 36,
    "start_time": "2022-02-13T11:41:15.874Z"
   },
   {
    "duration": 131,
    "start_time": "2022-02-13T11:41:15.914Z"
   },
   {
    "duration": 98,
    "start_time": "2022-02-13T11:41:16.048Z"
   },
   {
    "duration": 17,
    "start_time": "2022-02-13T11:41:16.148Z"
   },
   {
    "duration": 44,
    "start_time": "2022-02-13T11:41:16.168Z"
   },
   {
    "duration": 105,
    "start_time": "2022-02-13T11:41:16.215Z"
   },
   {
    "duration": 37,
    "start_time": "2022-02-13T11:41:16.322Z"
   },
   {
    "duration": 488,
    "start_time": "2022-02-13T11:41:16.361Z"
   },
   {
    "duration": 1082,
    "start_time": "2022-02-13T11:41:16.851Z"
   },
   {
    "duration": 717,
    "start_time": "2022-02-13T11:41:17.935Z"
   },
   {
    "duration": 58,
    "start_time": "2022-02-13T11:41:18.655Z"
   },
   {
    "duration": 1664,
    "start_time": "2022-02-13T11:41:18.716Z"
   },
   {
    "duration": 390,
    "start_time": "2022-02-13T11:41:20.382Z"
   },
   {
    "duration": 35,
    "start_time": "2022-02-13T11:41:20.774Z"
   },
   {
    "duration": 324,
    "start_time": "2022-02-13T11:41:20.812Z"
   },
   {
    "duration": 19,
    "start_time": "2022-02-13T11:41:21.138Z"
   },
   {
    "duration": 266,
    "start_time": "2022-02-13T11:41:21.160Z"
   },
   {
    "duration": 19,
    "start_time": "2022-02-13T11:41:21.429Z"
   },
   {
    "duration": 342,
    "start_time": "2022-02-13T11:41:21.451Z"
   },
   {
    "duration": 18,
    "start_time": "2022-02-13T11:41:21.806Z"
   },
   {
    "duration": 246,
    "start_time": "2022-02-13T11:41:21.827Z"
   },
   {
    "duration": 4,
    "start_time": "2022-02-13T11:41:22.075Z"
   },
   {
    "duration": 16,
    "start_time": "2022-02-13T11:41:22.081Z"
   },
   {
    "duration": 10,
    "start_time": "2022-02-13T11:41:22.108Z"
   },
   {
    "duration": 16,
    "start_time": "2022-02-13T11:41:22.120Z"
   },
   {
    "duration": 20,
    "start_time": "2022-02-13T11:42:16.457Z"
   },
   {
    "duration": 31,
    "start_time": "2022-02-13T11:44:38.906Z"
   },
   {
    "duration": 18,
    "start_time": "2022-02-13T11:49:22.000Z"
   },
   {
    "duration": 363,
    "start_time": "2022-02-13T11:49:45.580Z"
   },
   {
    "duration": 20,
    "start_time": "2022-02-13T11:50:14.793Z"
   },
   {
    "duration": 352,
    "start_time": "2022-02-13T11:51:10.844Z"
   },
   {
    "duration": 12,
    "start_time": "2022-02-13T11:51:36.119Z"
   },
   {
    "duration": 8,
    "start_time": "2022-02-13T11:52:40.733Z"
   },
   {
    "duration": 7,
    "start_time": "2022-02-13T11:53:11.311Z"
   },
   {
    "duration": 81,
    "start_time": "2022-02-13T11:54:30.757Z"
   },
   {
    "duration": 20,
    "start_time": "2022-02-13T11:54:37.592Z"
   },
   {
    "duration": 18,
    "start_time": "2022-02-13T11:55:10.139Z"
   },
   {
    "duration": 13,
    "start_time": "2022-02-13T11:55:28.119Z"
   },
   {
    "duration": 17,
    "start_time": "2022-02-13T11:56:19.449Z"
   },
   {
    "duration": 65,
    "start_time": "2022-02-13T11:57:42.418Z"
   },
   {
    "duration": 72,
    "start_time": "2022-02-13T11:58:03.906Z"
   },
   {
    "duration": 78,
    "start_time": "2022-02-13T11:58:22.349Z"
   },
   {
    "duration": 71,
    "start_time": "2022-02-13T11:58:31.205Z"
   },
   {
    "duration": 66,
    "start_time": "2022-02-13T11:58:37.698Z"
   },
   {
    "duration": 84,
    "start_time": "2022-02-13T12:00:26.398Z"
   },
   {
    "duration": 16,
    "start_time": "2022-02-13T12:00:36.498Z"
   },
   {
    "duration": 22,
    "start_time": "2022-02-13T12:00:59.773Z"
   },
   {
    "duration": 15,
    "start_time": "2022-02-13T12:02:25.405Z"
   },
   {
    "duration": 10,
    "start_time": "2022-02-13T12:06:26.695Z"
   },
   {
    "duration": 805,
    "start_time": "2022-02-13T12:10:17.798Z"
   },
   {
    "duration": 17,
    "start_time": "2022-02-13T12:11:00.500Z"
   },
   {
    "duration": 1323,
    "start_time": "2022-02-13T12:37:31.024Z"
   },
   {
    "duration": 483,
    "start_time": "2022-02-13T12:37:32.349Z"
   },
   {
    "duration": 41,
    "start_time": "2022-02-13T12:37:32.834Z"
   },
   {
    "duration": 35,
    "start_time": "2022-02-13T12:37:32.877Z"
   },
   {
    "duration": 31,
    "start_time": "2022-02-13T12:37:32.914Z"
   },
   {
    "duration": 18,
    "start_time": "2022-02-13T12:37:32.946Z"
   },
   {
    "duration": 22,
    "start_time": "2022-02-13T12:37:32.966Z"
   },
   {
    "duration": 3,
    "start_time": "2022-02-13T12:37:32.989Z"
   },
   {
    "duration": 87,
    "start_time": "2022-02-13T12:37:32.994Z"
   },
   {
    "duration": 321,
    "start_time": "2022-02-13T12:37:35.444Z"
   },
   {
    "duration": 14,
    "start_time": "2022-02-13T12:37:50.533Z"
   },
   {
    "duration": 6,
    "start_time": "2022-02-13T12:38:00.590Z"
   },
   {
    "duration": 17,
    "start_time": "2022-02-13T12:41:56.046Z"
   },
   {
    "duration": 5,
    "start_time": "2022-02-13T12:42:10.737Z"
   },
   {
    "duration": 19,
    "start_time": "2022-02-13T12:42:37.752Z"
   },
   {
    "duration": 6,
    "start_time": "2022-02-13T12:42:39.930Z"
   },
   {
    "duration": 18,
    "start_time": "2022-02-13T12:48:02.910Z"
   },
   {
    "duration": 6,
    "start_time": "2022-02-13T12:48:04.104Z"
   },
   {
    "duration": 964,
    "start_time": "2022-02-13T12:50:52.783Z"
   },
   {
    "duration": 375,
    "start_time": "2022-02-13T12:50:53.749Z"
   },
   {
    "duration": 45,
    "start_time": "2022-02-13T12:50:54.128Z"
   },
   {
    "duration": 58,
    "start_time": "2022-02-13T12:50:54.174Z"
   },
   {
    "duration": 24,
    "start_time": "2022-02-13T12:50:54.234Z"
   },
   {
    "duration": 19,
    "start_time": "2022-02-13T12:50:54.260Z"
   },
   {
    "duration": 55,
    "start_time": "2022-02-13T12:50:54.281Z"
   },
   {
    "duration": 3,
    "start_time": "2022-02-13T12:50:54.339Z"
   },
   {
    "duration": 59,
    "start_time": "2022-02-13T12:50:54.343Z"
   },
   {
    "duration": 71,
    "start_time": "2022-02-13T12:50:54.404Z"
   },
   {
    "duration": 13,
    "start_time": "2022-02-13T12:50:54.476Z"
   },
   {
    "duration": 18,
    "start_time": "2022-02-13T12:50:54.490Z"
   },
   {
    "duration": 61,
    "start_time": "2022-02-13T12:50:54.509Z"
   },
   {
    "duration": 29,
    "start_time": "2022-02-13T12:50:54.572Z"
   },
   {
    "duration": 30,
    "start_time": "2022-02-13T12:50:54.603Z"
   },
   {
    "duration": 238,
    "start_time": "2022-02-13T12:50:54.635Z"
   },
   {
    "duration": 492,
    "start_time": "2022-02-13T12:50:54.874Z"
   },
   {
    "duration": 296,
    "start_time": "2022-02-13T12:50:55.367Z"
   },
   {
    "duration": 14,
    "start_time": "2022-02-13T12:50:55.664Z"
   },
   {
    "duration": 1289,
    "start_time": "2022-02-13T12:50:55.679Z"
   },
   {
    "duration": 195,
    "start_time": "2022-02-13T12:50:56.969Z"
   },
   {
    "duration": 13,
    "start_time": "2022-02-13T12:50:57.167Z"
   },
   {
    "duration": 179,
    "start_time": "2022-02-13T12:50:57.181Z"
   },
   {
    "duration": 12,
    "start_time": "2022-02-13T12:50:57.361Z"
   },
   {
    "duration": 190,
    "start_time": "2022-02-13T12:50:57.375Z"
   },
   {
    "duration": 13,
    "start_time": "2022-02-13T12:50:57.567Z"
   },
   {
    "duration": 204,
    "start_time": "2022-02-13T12:50:57.582Z"
   },
   {
    "duration": 14,
    "start_time": "2022-02-13T12:50:57.787Z"
   },
   {
    "duration": 183,
    "start_time": "2022-02-13T12:50:57.802Z"
   },
   {
    "duration": 2,
    "start_time": "2022-02-13T12:50:57.986Z"
   },
   {
    "duration": 9,
    "start_time": "2022-02-13T12:50:57.990Z"
   },
   {
    "duration": 4,
    "start_time": "2022-02-13T12:50:58.001Z"
   },
   {
    "duration": 25,
    "start_time": "2022-02-13T12:50:58.007Z"
   }
  ],
  "kernelspec": {
   "display_name": "Python 3 (ipykernel)",
   "language": "python",
   "name": "python3"
  },
  "language_info": {
   "codemirror_mode": {
    "name": "ipython",
    "version": 3
   },
   "file_extension": ".py",
   "mimetype": "text/x-python",
   "name": "python",
   "nbconvert_exporter": "python",
   "pygments_lexer": "ipython3",
   "version": "3.9.7"
  },
  "toc": {
   "base_numbering": "1",
   "nav_menu": {},
   "number_sections": false,
   "sideBar": true,
   "skip_h1_title": false,
   "title_cell": "Table of Contents",
   "title_sidebar": "Contents",
   "toc_cell": false,
   "toc_position": {
    "height": "calc(100% - 180px)",
    "left": "10px",
    "top": "150px",
    "width": "250.764px"
   },
   "toc_section_display": true,
   "toc_window_display": false
  }
 },
 "nbformat": 4,
 "nbformat_minor": 2
}
