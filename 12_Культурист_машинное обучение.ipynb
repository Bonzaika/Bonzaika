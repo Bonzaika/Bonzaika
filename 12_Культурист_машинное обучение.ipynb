{
 "cells": [
  {
   "cell_type": "markdown",
   "metadata": {},
   "source": [
    "<div style=\"border:solid green 2px; padding: 20px\">\n",
    "<b>Елена, привет!</b>\n",
    "\n",
    "Меня зовут Евгений Дащенко, и я буду проверять твой проект. Предлагаю общаться на «ты» 😊 Но если это не удобно - дай знать, и мы перейдем на \"вы\". \n",
    "\n",
    "Моя основная цель — не указать на совершенные тобою ошибки, а поделиться своим опытом и помочь тебе стать аналитиком данных. Ты уже проделал большую работу над проектом, но давай сделаем его еще лучше. Ниже ты найдешь мои комментарии - пожалуйста, не перемещай, не изменяй и не удаляй их. Я буду использовать цветовую разметку:\n",
    "\n",
    "<div class=\"alert alert-danger\">\n",
    "<b>Критическая ошибка: ❌</b> Так выделены самые важные замечания. Без их отработки проект не будет принят. </div>\n",
    "\n",
    "<div class=\"alert alert-warning\">\n",
    "<b>Хорошо, но можно и лучше: ❗️</b> Так выделены небольшие замечания. Одна-два таких замечания в проекте допустимы, но если их будет больше - тебе будет необходимо внести исправления. Это как тестовое задание при приеме на работу: очень много мелких ошибок могут стать причиной отказа кандидату. \n",
    "\n",
    "</div>\n",
    "\n",
    "<div class=\"alert alert-success\">\n",
    "<b>Все отлично: ✅</b> Так я выделяю все остальные комментарии.</div>\n",
    "\n",
    "Давай работать над проектом в диалоге: если ты что-то меняешь в проекте или отвечаешь на мои комменатри — пиши об этом. Мне будет легче отследить изменения, если ты выделишь свои комментарии:\n",
    "<div class=\"alert alert-info\"> <b>Комментарий студента: ℹ️</b> Например, вот так.</div>\n",
    "\n",
    "Всё это поможет выполнить повторную проверку твоего проекта оперативнее. "
   ]
  },
  {
   "cell_type": "markdown",
   "metadata": {},
   "source": [
    "<div class=\"alert alert-info\">\n",
    "<b>Комментарий студента: ℹ️ </b>\n",
    "<br>-Привет, Евгений! :) Ко мне на «ты». Я постаралась исправить все твои замечания. Отдельное спасибо за ссылки. Немного не разобралась с выводом гистограмм с помощью subplot - подробно описала свой вопрос ниже. Рассчитываю на твою помощь.\n",
    "</div>"
   ]
  },
  {
   "cell_type": "markdown",
   "metadata": {},
   "source": [
    "# Описание проекта\n",
    "## Задача\n",
    "Сеть фитнес-центров «Культурист-датасаентист» разрабатывает стратегию взаимодействия с клиентами на основе аналитических данных.\n",
    "Распространённая проблема фитнес-клубов и других сервисов — отток клиентов. Как понять, что клиент больше не с вами? Можно записать в отток тех, кто попросил закрыть договор или удалил аккаунт. Однако клиенты не всегда уходят демонстративно: чаще перестают пользоваться сервисом тихо.  \n",
    "Индикаторы оттока зависят от специфики отрасли. Когда пользователь редко, но стабильно закупается в интернет-магазине — не похоже, что он «отвалился». А вот если две недели не заходит на канал с ежедневно обновляемым контентом, дела плохи: подписчик заскучал и, кажется, оставил вас.  \n",
    "Для фитнес-центра можно считать, что клиент попал в отток, если за последний месяц ни разу не посетил спортзал. Конечно, не исключено, что он уехал на Бали и по приезде обязательно продолжит ходить на фитнес. Однако чаще бывает наоборот. Если клиент начал новую жизнь с понедельника, немного походил в спортзал, а потом пропал — скорее всего, он не вернётся.  \n",
    "Чтобы бороться с оттоком, отдел по работе с клиентами «Культуриста-датасаентиста» перевёл в электронный вид множество клиентских анкет. Ваша задача — провести анализ и подготовить план действий по удержанию клиентов.  \n",
    "А именно:  \n",
    "* научиться прогнозировать вероятность оттока (на уровне следующего месяца) для каждого клиента;  \n",
    "* сформировать типичные портреты клиентов: выделить несколько наиболее ярких групп и охарактеризовать их основные свойства;    \n",
    "* проанализировать основные признаки, наиболее сильно влияющие на отток;  \n",
    "* сформулировать основные выводы и разработать рекомендации по повышению качества работы с клиентами:  \n",
    "-выделить целевые группы клиентов;\n",
    "-предложить меры по снижению оттока;\n",
    "-определить другие особенности взаимодействия с клиентами."
   ]
  },
  {
   "cell_type": "markdown",
   "metadata": {},
   "source": [
    "<a id=\"contents\"></a>\n",
    "\n",
    "**Содержание** \n",
    "\n",
    "[**Шаг 1. Загрузите данные**](#start)   \n",
    "\n",
    "Путь к файлу: /datasets/gym_churn.csv.  \n",
    "«Культурист-датасаентист» предоставил сведения в csv-файлах. Заказчик подготовил данные, которые содержат данные на месяц до оттока и факт оттока на определённый месяц. Набор данных включает следующие поля:  \n",
    "1.\tДанные клиента за предыдущий до проверки факта оттока месяц: \n",
    "•\t'gender' — пол;  \n",
    "•\t'Near_Location' — проживание или работа в районе, где находится фитнес-центр;  \n",
    "•\t'Partner' — сотрудник компании-партнёра клуба (сотрудничество с компаниями, чьи сотрудники могут получать скидки на абонемент — в таком случае фитнес-центр хранит информацию о работодателе клиента);  \n",
    "•\t‘Promo_friends’ — факт первоначальной записи в рамках акции «приведи друга» (использовал промо-код от знакомого при оплате первого абонемента);  \n",
    "•\t'Phone' — наличие контактного телефона;  \n",
    "•\t'Age' — возраст;  \n",
    "•\t'Lifetime' — время с момента первого обращения в фитнес-центр (в месяцах).  \n",
    "2.\tИнформация на основе журнала посещений, покупок и информация о текущем статусе абонемента клиента:  \n",
    "•\t'Contract_period' — длительность текущего действующего абонемента (месяц, 6 месяцев, год);  \n",
    "•\t'Month_to_end_contract' — срок до окончания текущего действующего абонемента (в месяцах);  \n",
    "•\t'Group_visits' — факт посещения групповых занятий;  \n",
    "•\t'Avg_class_frequency_total' — средняя частота посещений в неделю за все время с начала действия абонемента;  \n",
    "•\t'Avg_class_frequency_current_month' — средняя частота посещений в неделю за предыдущий месяц;  \n",
    "•\t'Avg_additional_charges_total' — суммарная выручка от других услуг фитнес-центра: кафе, спорттовары, косметический и массажный салон.  \n",
    "•\t'Churn' — факт оттока в текущем месяце.  \n",
    "\n",
    "[**Шаг 2. Проведите исследовательский анализ данных (EDA)**](#preprocessing) \n",
    "\n",
    "* Посмотрите на датасет: есть ли в нем отсутствующие признаки, изучите средние значения и стандартные отклонения (пригодится метод describe());    \n",
    "* Посмотрите на средние значения признаков в двух группах — тех, кто ушел в отток и тех, кто остался (воспользуйтесь методом groupby());   \n",
    "* Постройте столбчатые гистограммы и распределения признаков для тех, кто ушёл (отток) и тех, кто остался (не попали в отток);  \n",
    "* Постройте матрицу корреляций и отобразите её.    \n",
    "\n",
    "[**Шаг 3. Постройте модель прогнозирования оттока клиентов**](#data_model)  \n",
    "\n",
    "Постройте модель бинарной классификации клиентов, где целевой признак — факт оттока клиента в следующем месяце:    \n",
    "* Разбейте данные на обучающую и валидационную выборку функцией train_test_split().  \n",
    "* Обучите модель на train-выборке двумя способами:  \n",
    "o\tлогистической регрессией,  \n",
    "o\tслучайным лесом.  \n",
    "* Оцените метрики accuracy, precision и recall для обеих моделей на валидационной выборке. Сравните по ним модели. Какая модель показала себя лучше на основании метрик?  \n",
    "Не забудьте указать параметр random_state при разделении выборки и задании алгоритма.  \n",
    "\n",
    "[**Шаг 4. Сделайте кластеризацию клиентов**](#funnel_study) \n",
    "\n",
    "Отложите в сторону столбец с оттоком и проведите кластеризацию объектов (клиентов):  \n",
    "* Стандартизируйте данные.  \n",
    "* Постройте матрицу расстояний функцией linkage() на стандартизованной матрице признаков и нарисуйте дендрограмму. Внимание: отрисовка дендрограммы может занять время! На основании полученного графика предположите, какое количество кластеров можно выделить.  \n",
    "* Обучите модель кластеризации на основании алгоритма K-Means и спрогнозируйте кластеры клиентов. Договоримся за число кластеров принять n=5, чтобы ваши результаты можно было сравнивать с результатами остальных студентов. Однако, конечно, в жизни никто не скажет вам правильный ответ, и решение остаётся за вами (на основании изучения графика из предыдущего пункта).  \n",
    "* Постройте распределения признаков для кластеров. Можно ли что-то заметить по ним?  \n",
    "* Для каждого полученного кластера посчитайте долю оттока (методом groupby()). Отличаются ли они по доле оттока? Какие кластеры склонны к оттоку, а какие — надёжны?  \n",
    "\n",
    "[**Шаг 5. Сформулируйте выводы и сделайте базовые рекомендации по работе с клиентами**](#experiment)  \n",
    "\n",
    "Сформулируйте основные выводы и предложите рекомендации для стратегии взаимодействия с клиентами и их удержания.  \n",
    "Не описывайте стратегию детально: достаточно 3-4 важных принципов и примеров их реализации в виде определённых маркетинговых действий.  "
   ]
  },
  {
   "cell_type": "markdown",
   "metadata": {},
   "source": [
    "<div class=\"alert alert-success\">\n",
    "<b>Комментарий ревьюера: ✅</b>\n",
    "\n",
    "Здорово, когда есть вступление в сам проект, каждый сможет быстрее разобраться в концепции / деталях работы. \n",
    "\n",
    "</div>"
   ]
  },
  {
   "cell_type": "markdown",
   "metadata": {},
   "source": [
    "<a id=\"start\"></a>\n",
    "# Шаг 1. Загрузим данные "
   ]
  },
  {
   "cell_type": "code",
   "execution_count": 1,
   "metadata": {},
   "outputs": [],
   "source": [
    "# Импортируем библиотеки\n",
    "\n",
    "import pandas as pd\n",
    "import numpy as np\n",
    "\n",
    "import matplotlib.pyplot as plt\n",
    "import matplotlib\n",
    "import matplotlib.ticker as mtick\n",
    "matplotlib.style.use('ggplot')\n",
    "\n",
    "\n",
    "import seaborn as sns; sns.set()\n",
    "import plotly.express as px\n",
    "from plotly.subplots import make_subplots\n",
    "import plotly.graph_objects as go\n",
    "import json\n",
    "import requests\n",
    "from plotly import graph_objects as go\n",
    "\n",
    "import time\n",
    "from datetime import datetime\n",
    "from datetime import date, timedelta as td\n",
    "from datetime import date, datetime, timedelta\n",
    "\n",
    "import warnings\n",
    "from scipy import stats as st\n",
    "warnings.filterwarnings('ignore')\n",
    "pd.set_option('display.float_format', '{:,.2f}'.format)\n",
    "\n",
    "import math\n",
    "from statsmodels.stats.proportion import proportions_ztest\n",
    "\n",
    "import re \n",
    "\n",
    "from sklearn.linear_model import LogisticRegression\n",
    "from sklearn.ensemble import RandomForestClassifier\n",
    "\n",
    "from sklearn.preprocessing import StandardScaler\n",
    "from sklearn.model_selection import train_test_split\n",
    "\n",
    "from scipy.cluster.hierarchy import dendrogram, linkage\n",
    "\n",
    "import itertools\n",
    "\n",
    "from sklearn.metrics import mean_absolute_error, mean_squared_error, r2_score, accuracy_score, precision_score, recall_score, f1_score, roc_auc_score\n",
    "\n",
    "from sklearn.cluster import KMeans"
   ]
  },
  {
   "cell_type": "code",
   "execution_count": 2,
   "metadata": {},
   "outputs": [
    {
     "data": {
      "text/html": [
       "<div>\n",
       "<style scoped>\n",
       "    .dataframe tbody tr th:only-of-type {\n",
       "        vertical-align: middle;\n",
       "    }\n",
       "\n",
       "    .dataframe tbody tr th {\n",
       "        vertical-align: top;\n",
       "    }\n",
       "\n",
       "    .dataframe thead th {\n",
       "        text-align: right;\n",
       "    }\n",
       "</style>\n",
       "<table border=\"1\" class=\"dataframe\">\n",
       "  <thead>\n",
       "    <tr style=\"text-align: right;\">\n",
       "      <th></th>\n",
       "      <th>gender</th>\n",
       "      <th>Near_Location</th>\n",
       "      <th>Partner</th>\n",
       "      <th>Promo_friends</th>\n",
       "      <th>Phone</th>\n",
       "      <th>Contract_period</th>\n",
       "      <th>Group_visits</th>\n",
       "      <th>Age</th>\n",
       "      <th>Avg_additional_charges_total</th>\n",
       "      <th>Month_to_end_contract</th>\n",
       "      <th>Lifetime</th>\n",
       "      <th>Avg_class_frequency_total</th>\n",
       "      <th>Avg_class_frequency_current_month</th>\n",
       "      <th>Churn</th>\n",
       "    </tr>\n",
       "  </thead>\n",
       "  <tbody>\n",
       "    <tr>\n",
       "      <th>0</th>\n",
       "      <td>1</td>\n",
       "      <td>1</td>\n",
       "      <td>1</td>\n",
       "      <td>1</td>\n",
       "      <td>0</td>\n",
       "      <td>6</td>\n",
       "      <td>1</td>\n",
       "      <td>29</td>\n",
       "      <td>14.23</td>\n",
       "      <td>5.00</td>\n",
       "      <td>3</td>\n",
       "      <td>0.02</td>\n",
       "      <td>0.00</td>\n",
       "      <td>0</td>\n",
       "    </tr>\n",
       "    <tr>\n",
       "      <th>1</th>\n",
       "      <td>0</td>\n",
       "      <td>1</td>\n",
       "      <td>0</td>\n",
       "      <td>0</td>\n",
       "      <td>1</td>\n",
       "      <td>12</td>\n",
       "      <td>1</td>\n",
       "      <td>31</td>\n",
       "      <td>113.20</td>\n",
       "      <td>12.00</td>\n",
       "      <td>7</td>\n",
       "      <td>1.92</td>\n",
       "      <td>1.91</td>\n",
       "      <td>0</td>\n",
       "    </tr>\n",
       "    <tr>\n",
       "      <th>2</th>\n",
       "      <td>0</td>\n",
       "      <td>1</td>\n",
       "      <td>1</td>\n",
       "      <td>0</td>\n",
       "      <td>1</td>\n",
       "      <td>1</td>\n",
       "      <td>0</td>\n",
       "      <td>28</td>\n",
       "      <td>129.45</td>\n",
       "      <td>1.00</td>\n",
       "      <td>2</td>\n",
       "      <td>1.86</td>\n",
       "      <td>1.74</td>\n",
       "      <td>0</td>\n",
       "    </tr>\n",
       "    <tr>\n",
       "      <th>3</th>\n",
       "      <td>0</td>\n",
       "      <td>1</td>\n",
       "      <td>1</td>\n",
       "      <td>1</td>\n",
       "      <td>1</td>\n",
       "      <td>12</td>\n",
       "      <td>1</td>\n",
       "      <td>33</td>\n",
       "      <td>62.67</td>\n",
       "      <td>12.00</td>\n",
       "      <td>2</td>\n",
       "      <td>3.21</td>\n",
       "      <td>3.36</td>\n",
       "      <td>0</td>\n",
       "    </tr>\n",
       "    <tr>\n",
       "      <th>4</th>\n",
       "      <td>1</td>\n",
       "      <td>1</td>\n",
       "      <td>1</td>\n",
       "      <td>1</td>\n",
       "      <td>1</td>\n",
       "      <td>1</td>\n",
       "      <td>0</td>\n",
       "      <td>26</td>\n",
       "      <td>198.36</td>\n",
       "      <td>1.00</td>\n",
       "      <td>3</td>\n",
       "      <td>1.11</td>\n",
       "      <td>1.12</td>\n",
       "      <td>0</td>\n",
       "    </tr>\n",
       "  </tbody>\n",
       "</table>\n",
       "</div>"
      ],
      "text/plain": [
       "   gender  Near_Location  Partner  Promo_friends  Phone  Contract_period  \\\n",
       "0       1              1        1              1      0                6   \n",
       "1       0              1        0              0      1               12   \n",
       "2       0              1        1              0      1                1   \n",
       "3       0              1        1              1      1               12   \n",
       "4       1              1        1              1      1                1   \n",
       "\n",
       "   Group_visits  Age  Avg_additional_charges_total  Month_to_end_contract  \\\n",
       "0             1   29                         14.23                   5.00   \n",
       "1             1   31                        113.20                  12.00   \n",
       "2             0   28                        129.45                   1.00   \n",
       "3             1   33                         62.67                  12.00   \n",
       "4             0   26                        198.36                   1.00   \n",
       "\n",
       "   Lifetime  Avg_class_frequency_total  Avg_class_frequency_current_month  \\\n",
       "0         3                       0.02                               0.00   \n",
       "1         7                       1.92                               1.91   \n",
       "2         2                       1.86                               1.74   \n",
       "3         2                       3.21                               3.36   \n",
       "4         3                       1.11                               1.12   \n",
       "\n",
       "   Churn  \n",
       "0      0  \n",
       "1      0  \n",
       "2      0  \n",
       "3      0  \n",
       "4      0  "
      ]
     },
     "execution_count": 2,
     "metadata": {},
     "output_type": "execute_result"
    }
   ],
   "source": [
    "data = pd.read_csv('/datasets/gym_churn.csv', sep=',')\n",
    "data.head()"
   ]
  },
  {
   "cell_type": "markdown",
   "metadata": {},
   "source": [
    "<a id=\"preprocessing\"></a>\n",
    "## Шаг 2. Проведем исследовательский анализ данных (EDA)"
   ]
  },
  {
   "cell_type": "markdown",
   "metadata": {},
   "source": [
    "### Посмотрим общую информацию, пропуски и дубликаты:"
   ]
  },
  {
   "cell_type": "code",
   "execution_count": 3,
   "metadata": {},
   "outputs": [
    {
     "data": {
      "text/html": [
       "<div>\n",
       "<style scoped>\n",
       "    .dataframe tbody tr th:only-of-type {\n",
       "        vertical-align: middle;\n",
       "    }\n",
       "\n",
       "    .dataframe tbody tr th {\n",
       "        vertical-align: top;\n",
       "    }\n",
       "\n",
       "    .dataframe thead th {\n",
       "        text-align: right;\n",
       "    }\n",
       "</style>\n",
       "<table border=\"1\" class=\"dataframe\">\n",
       "  <thead>\n",
       "    <tr style=\"text-align: right;\">\n",
       "      <th></th>\n",
       "      <th>gender</th>\n",
       "      <th>Near_Location</th>\n",
       "      <th>Partner</th>\n",
       "      <th>Promo_friends</th>\n",
       "      <th>Phone</th>\n",
       "      <th>Contract_period</th>\n",
       "      <th>Group_visits</th>\n",
       "      <th>Age</th>\n",
       "      <th>Avg_additional_charges_total</th>\n",
       "      <th>Month_to_end_contract</th>\n",
       "      <th>Lifetime</th>\n",
       "      <th>Avg_class_frequency_total</th>\n",
       "      <th>Avg_class_frequency_current_month</th>\n",
       "      <th>Churn</th>\n",
       "    </tr>\n",
       "  </thead>\n",
       "  <tbody>\n",
       "    <tr>\n",
       "      <th>0</th>\n",
       "      <td>1</td>\n",
       "      <td>1</td>\n",
       "      <td>1</td>\n",
       "      <td>1</td>\n",
       "      <td>0</td>\n",
       "      <td>6</td>\n",
       "      <td>1</td>\n",
       "      <td>29</td>\n",
       "      <td>14.23</td>\n",
       "      <td>5.00</td>\n",
       "      <td>3</td>\n",
       "      <td>0.02</td>\n",
       "      <td>0.00</td>\n",
       "      <td>0</td>\n",
       "    </tr>\n",
       "    <tr>\n",
       "      <th>1</th>\n",
       "      <td>0</td>\n",
       "      <td>1</td>\n",
       "      <td>0</td>\n",
       "      <td>0</td>\n",
       "      <td>1</td>\n",
       "      <td>12</td>\n",
       "      <td>1</td>\n",
       "      <td>31</td>\n",
       "      <td>113.20</td>\n",
       "      <td>12.00</td>\n",
       "      <td>7</td>\n",
       "      <td>1.92</td>\n",
       "      <td>1.91</td>\n",
       "      <td>0</td>\n",
       "    </tr>\n",
       "    <tr>\n",
       "      <th>2</th>\n",
       "      <td>0</td>\n",
       "      <td>1</td>\n",
       "      <td>1</td>\n",
       "      <td>0</td>\n",
       "      <td>1</td>\n",
       "      <td>1</td>\n",
       "      <td>0</td>\n",
       "      <td>28</td>\n",
       "      <td>129.45</td>\n",
       "      <td>1.00</td>\n",
       "      <td>2</td>\n",
       "      <td>1.86</td>\n",
       "      <td>1.74</td>\n",
       "      <td>0</td>\n",
       "    </tr>\n",
       "    <tr>\n",
       "      <th>3</th>\n",
       "      <td>0</td>\n",
       "      <td>1</td>\n",
       "      <td>1</td>\n",
       "      <td>1</td>\n",
       "      <td>1</td>\n",
       "      <td>12</td>\n",
       "      <td>1</td>\n",
       "      <td>33</td>\n",
       "      <td>62.67</td>\n",
       "      <td>12.00</td>\n",
       "      <td>2</td>\n",
       "      <td>3.21</td>\n",
       "      <td>3.36</td>\n",
       "      <td>0</td>\n",
       "    </tr>\n",
       "    <tr>\n",
       "      <th>4</th>\n",
       "      <td>1</td>\n",
       "      <td>1</td>\n",
       "      <td>1</td>\n",
       "      <td>1</td>\n",
       "      <td>1</td>\n",
       "      <td>1</td>\n",
       "      <td>0</td>\n",
       "      <td>26</td>\n",
       "      <td>198.36</td>\n",
       "      <td>1.00</td>\n",
       "      <td>3</td>\n",
       "      <td>1.11</td>\n",
       "      <td>1.12</td>\n",
       "      <td>0</td>\n",
       "    </tr>\n",
       "  </tbody>\n",
       "</table>\n",
       "</div>"
      ],
      "text/plain": [
       "   gender  Near_Location  Partner  Promo_friends  Phone  Contract_period  \\\n",
       "0       1              1        1              1      0                6   \n",
       "1       0              1        0              0      1               12   \n",
       "2       0              1        1              0      1                1   \n",
       "3       0              1        1              1      1               12   \n",
       "4       1              1        1              1      1                1   \n",
       "\n",
       "   Group_visits  Age  Avg_additional_charges_total  Month_to_end_contract  \\\n",
       "0             1   29                         14.23                   5.00   \n",
       "1             1   31                        113.20                  12.00   \n",
       "2             0   28                        129.45                   1.00   \n",
       "3             1   33                         62.67                  12.00   \n",
       "4             0   26                        198.36                   1.00   \n",
       "\n",
       "   Lifetime  Avg_class_frequency_total  Avg_class_frequency_current_month  \\\n",
       "0         3                       0.02                               0.00   \n",
       "1         7                       1.92                               1.91   \n",
       "2         2                       1.86                               1.74   \n",
       "3         2                       3.21                               3.36   \n",
       "4         3                       1.11                               1.12   \n",
       "\n",
       "   Churn  \n",
       "0      0  \n",
       "1      0  \n",
       "2      0  \n",
       "3      0  \n",
       "4      0  "
      ]
     },
     "metadata": {},
     "output_type": "display_data"
    },
    {
     "name": "stdout",
     "output_type": "stream",
     "text": [
      "\n",
      "\n",
      "Общая информация о датасете\n",
      "<class 'pandas.core.frame.DataFrame'>\n",
      "RangeIndex: 4000 entries, 0 to 3999\n",
      "Data columns (total 14 columns):\n",
      " #   Column                             Non-Null Count  Dtype  \n",
      "---  ------                             --------------  -----  \n",
      " 0   gender                             4000 non-null   int64  \n",
      " 1   Near_Location                      4000 non-null   int64  \n",
      " 2   Partner                            4000 non-null   int64  \n",
      " 3   Promo_friends                      4000 non-null   int64  \n",
      " 4   Phone                              4000 non-null   int64  \n",
      " 5   Contract_period                    4000 non-null   int64  \n",
      " 6   Group_visits                       4000 non-null   int64  \n",
      " 7   Age                                4000 non-null   int64  \n",
      " 8   Avg_additional_charges_total       4000 non-null   float64\n",
      " 9   Month_to_end_contract              4000 non-null   float64\n",
      " 10  Lifetime                           4000 non-null   int64  \n",
      " 11  Avg_class_frequency_total          4000 non-null   float64\n",
      " 12  Avg_class_frequency_current_month  4000 non-null   float64\n",
      " 13  Churn                              4000 non-null   int64  \n",
      "dtypes: float64(4), int64(10)\n",
      "memory usage: 437.6 KB\n"
     ]
    },
    {
     "data": {
      "text/plain": [
       "None"
      ]
     },
     "metadata": {},
     "output_type": "display_data"
    },
    {
     "name": "stdout",
     "output_type": "stream",
     "text": [
      "\n",
      "\n",
      "Пропусков в датасете\n"
     ]
    },
    {
     "data": {
      "text/plain": [
       "gender                               0\n",
       "Near_Location                        0\n",
       "Partner                              0\n",
       "Promo_friends                        0\n",
       "Phone                                0\n",
       "Contract_period                      0\n",
       "Group_visits                         0\n",
       "Age                                  0\n",
       "Avg_additional_charges_total         0\n",
       "Month_to_end_contract                0\n",
       "Lifetime                             0\n",
       "Avg_class_frequency_total            0\n",
       "Avg_class_frequency_current_month    0\n",
       "Churn                                0\n",
       "dtype: int64"
      ]
     },
     "metadata": {},
     "output_type": "display_data"
    },
    {
     "name": "stdout",
     "output_type": "stream",
     "text": [
      "\n",
      "\n",
      "Дубликатов в датасете\n"
     ]
    },
    {
     "data": {
      "text/plain": [
       "0"
      ]
     },
     "metadata": {},
     "output_type": "display_data"
    },
    {
     "name": "stdout",
     "output_type": "stream",
     "text": [
      "\n",
      "\n",
      "Приведем столбцы к нижнему \"змеиному\" регистру\n"
     ]
    },
    {
     "data": {
      "text/html": [
       "<div>\n",
       "<style scoped>\n",
       "    .dataframe tbody tr th:only-of-type {\n",
       "        vertical-align: middle;\n",
       "    }\n",
       "\n",
       "    .dataframe tbody tr th {\n",
       "        vertical-align: top;\n",
       "    }\n",
       "\n",
       "    .dataframe thead th {\n",
       "        text-align: right;\n",
       "    }\n",
       "</style>\n",
       "<table border=\"1\" class=\"dataframe\">\n",
       "  <thead>\n",
       "    <tr style=\"text-align: right;\">\n",
       "      <th></th>\n",
       "      <th>gender</th>\n",
       "      <th>near__location</th>\n",
       "      <th>partner</th>\n",
       "      <th>promo_friends</th>\n",
       "      <th>phone</th>\n",
       "      <th>contract_period</th>\n",
       "      <th>group_visits</th>\n",
       "      <th>age</th>\n",
       "      <th>avg_additional_charges_total</th>\n",
       "      <th>month_to_end_contract</th>\n",
       "      <th>lifetime</th>\n",
       "      <th>avg_class_frequency_total</th>\n",
       "      <th>avg_class_frequency_current_month</th>\n",
       "      <th>churn</th>\n",
       "    </tr>\n",
       "  </thead>\n",
       "  <tbody>\n",
       "    <tr>\n",
       "      <th>0</th>\n",
       "      <td>1</td>\n",
       "      <td>1</td>\n",
       "      <td>1</td>\n",
       "      <td>1</td>\n",
       "      <td>0</td>\n",
       "      <td>6</td>\n",
       "      <td>1</td>\n",
       "      <td>29</td>\n",
       "      <td>14.23</td>\n",
       "      <td>5.00</td>\n",
       "      <td>3</td>\n",
       "      <td>0.02</td>\n",
       "      <td>0.00</td>\n",
       "      <td>0</td>\n",
       "    </tr>\n",
       "  </tbody>\n",
       "</table>\n",
       "</div>"
      ],
      "text/plain": [
       "   gender  near__location  partner  promo_friends  phone  contract_period  \\\n",
       "0       1               1        1              1      0                6   \n",
       "\n",
       "   group_visits  age  avg_additional_charges_total  month_to_end_contract  \\\n",
       "0             1   29                         14.23                   5.00   \n",
       "\n",
       "   lifetime  avg_class_frequency_total  avg_class_frequency_current_month  \\\n",
       "0         3                       0.02                               0.00   \n",
       "\n",
       "   churn  \n",
       "0      0  "
      ]
     },
     "metadata": {},
     "output_type": "display_data"
    },
    {
     "name": "stdout",
     "output_type": "stream",
     "text": [
      "\n",
      "\n",
      "Статистические значения числовых данных\n"
     ]
    },
    {
     "data": {
      "text/html": [
       "<div>\n",
       "<style scoped>\n",
       "    .dataframe tbody tr th:only-of-type {\n",
       "        vertical-align: middle;\n",
       "    }\n",
       "\n",
       "    .dataframe tbody tr th {\n",
       "        vertical-align: top;\n",
       "    }\n",
       "\n",
       "    .dataframe thead th {\n",
       "        text-align: right;\n",
       "    }\n",
       "</style>\n",
       "<table border=\"1\" class=\"dataframe\">\n",
       "  <thead>\n",
       "    <tr style=\"text-align: right;\">\n",
       "      <th></th>\n",
       "      <th>count</th>\n",
       "      <th>mean</th>\n",
       "      <th>std</th>\n",
       "      <th>min</th>\n",
       "      <th>25%</th>\n",
       "      <th>50%</th>\n",
       "      <th>75%</th>\n",
       "      <th>max</th>\n",
       "    </tr>\n",
       "  </thead>\n",
       "  <tbody>\n",
       "    <tr>\n",
       "      <th>gender</th>\n",
       "      <td>4,000.00</td>\n",
       "      <td>0.51</td>\n",
       "      <td>0.50</td>\n",
       "      <td>0.00</td>\n",
       "      <td>0.00</td>\n",
       "      <td>1.00</td>\n",
       "      <td>1.00</td>\n",
       "      <td>1.00</td>\n",
       "    </tr>\n",
       "    <tr>\n",
       "      <th>near__location</th>\n",
       "      <td>4,000.00</td>\n",
       "      <td>0.85</td>\n",
       "      <td>0.36</td>\n",
       "      <td>0.00</td>\n",
       "      <td>1.00</td>\n",
       "      <td>1.00</td>\n",
       "      <td>1.00</td>\n",
       "      <td>1.00</td>\n",
       "    </tr>\n",
       "    <tr>\n",
       "      <th>partner</th>\n",
       "      <td>4,000.00</td>\n",
       "      <td>0.49</td>\n",
       "      <td>0.50</td>\n",
       "      <td>0.00</td>\n",
       "      <td>0.00</td>\n",
       "      <td>0.00</td>\n",
       "      <td>1.00</td>\n",
       "      <td>1.00</td>\n",
       "    </tr>\n",
       "    <tr>\n",
       "      <th>promo_friends</th>\n",
       "      <td>4,000.00</td>\n",
       "      <td>0.31</td>\n",
       "      <td>0.46</td>\n",
       "      <td>0.00</td>\n",
       "      <td>0.00</td>\n",
       "      <td>0.00</td>\n",
       "      <td>1.00</td>\n",
       "      <td>1.00</td>\n",
       "    </tr>\n",
       "    <tr>\n",
       "      <th>phone</th>\n",
       "      <td>4,000.00</td>\n",
       "      <td>0.90</td>\n",
       "      <td>0.30</td>\n",
       "      <td>0.00</td>\n",
       "      <td>1.00</td>\n",
       "      <td>1.00</td>\n",
       "      <td>1.00</td>\n",
       "      <td>1.00</td>\n",
       "    </tr>\n",
       "    <tr>\n",
       "      <th>contract_period</th>\n",
       "      <td>4,000.00</td>\n",
       "      <td>4.68</td>\n",
       "      <td>4.55</td>\n",
       "      <td>1.00</td>\n",
       "      <td>1.00</td>\n",
       "      <td>1.00</td>\n",
       "      <td>6.00</td>\n",
       "      <td>12.00</td>\n",
       "    </tr>\n",
       "    <tr>\n",
       "      <th>group_visits</th>\n",
       "      <td>4,000.00</td>\n",
       "      <td>0.41</td>\n",
       "      <td>0.49</td>\n",
       "      <td>0.00</td>\n",
       "      <td>0.00</td>\n",
       "      <td>0.00</td>\n",
       "      <td>1.00</td>\n",
       "      <td>1.00</td>\n",
       "    </tr>\n",
       "    <tr>\n",
       "      <th>age</th>\n",
       "      <td>4,000.00</td>\n",
       "      <td>29.18</td>\n",
       "      <td>3.26</td>\n",
       "      <td>18.00</td>\n",
       "      <td>27.00</td>\n",
       "      <td>29.00</td>\n",
       "      <td>31.00</td>\n",
       "      <td>41.00</td>\n",
       "    </tr>\n",
       "    <tr>\n",
       "      <th>avg_additional_charges_total</th>\n",
       "      <td>4,000.00</td>\n",
       "      <td>146.94</td>\n",
       "      <td>96.36</td>\n",
       "      <td>0.15</td>\n",
       "      <td>68.87</td>\n",
       "      <td>136.22</td>\n",
       "      <td>210.95</td>\n",
       "      <td>552.59</td>\n",
       "    </tr>\n",
       "    <tr>\n",
       "      <th>month_to_end_contract</th>\n",
       "      <td>4,000.00</td>\n",
       "      <td>4.32</td>\n",
       "      <td>4.19</td>\n",
       "      <td>1.00</td>\n",
       "      <td>1.00</td>\n",
       "      <td>1.00</td>\n",
       "      <td>6.00</td>\n",
       "      <td>12.00</td>\n",
       "    </tr>\n",
       "    <tr>\n",
       "      <th>lifetime</th>\n",
       "      <td>4,000.00</td>\n",
       "      <td>3.72</td>\n",
       "      <td>3.75</td>\n",
       "      <td>0.00</td>\n",
       "      <td>1.00</td>\n",
       "      <td>3.00</td>\n",
       "      <td>5.00</td>\n",
       "      <td>31.00</td>\n",
       "    </tr>\n",
       "    <tr>\n",
       "      <th>avg_class_frequency_total</th>\n",
       "      <td>4,000.00</td>\n",
       "      <td>1.88</td>\n",
       "      <td>0.97</td>\n",
       "      <td>0.00</td>\n",
       "      <td>1.18</td>\n",
       "      <td>1.83</td>\n",
       "      <td>2.54</td>\n",
       "      <td>6.02</td>\n",
       "    </tr>\n",
       "    <tr>\n",
       "      <th>avg_class_frequency_current_month</th>\n",
       "      <td>4,000.00</td>\n",
       "      <td>1.77</td>\n",
       "      <td>1.05</td>\n",
       "      <td>0.00</td>\n",
       "      <td>0.96</td>\n",
       "      <td>1.72</td>\n",
       "      <td>2.51</td>\n",
       "      <td>6.15</td>\n",
       "    </tr>\n",
       "    <tr>\n",
       "      <th>churn</th>\n",
       "      <td>4,000.00</td>\n",
       "      <td>0.27</td>\n",
       "      <td>0.44</td>\n",
       "      <td>0.00</td>\n",
       "      <td>0.00</td>\n",
       "      <td>0.00</td>\n",
       "      <td>1.00</td>\n",
       "      <td>1.00</td>\n",
       "    </tr>\n",
       "  </tbody>\n",
       "</table>\n",
       "</div>"
      ],
      "text/plain": [
       "                                     count   mean   std   min   25%    50%  \\\n",
       "gender                            4,000.00   0.51  0.50  0.00  0.00   1.00   \n",
       "near__location                    4,000.00   0.85  0.36  0.00  1.00   1.00   \n",
       "partner                           4,000.00   0.49  0.50  0.00  0.00   0.00   \n",
       "promo_friends                     4,000.00   0.31  0.46  0.00  0.00   0.00   \n",
       "phone                             4,000.00   0.90  0.30  0.00  1.00   1.00   \n",
       "contract_period                   4,000.00   4.68  4.55  1.00  1.00   1.00   \n",
       "group_visits                      4,000.00   0.41  0.49  0.00  0.00   0.00   \n",
       "age                               4,000.00  29.18  3.26 18.00 27.00  29.00   \n",
       "avg_additional_charges_total      4,000.00 146.94 96.36  0.15 68.87 136.22   \n",
       "month_to_end_contract             4,000.00   4.32  4.19  1.00  1.00   1.00   \n",
       "lifetime                          4,000.00   3.72  3.75  0.00  1.00   3.00   \n",
       "avg_class_frequency_total         4,000.00   1.88  0.97  0.00  1.18   1.83   \n",
       "avg_class_frequency_current_month 4,000.00   1.77  1.05  0.00  0.96   1.72   \n",
       "churn                             4,000.00   0.27  0.44  0.00  0.00   0.00   \n",
       "\n",
       "                                     75%    max  \n",
       "gender                              1.00   1.00  \n",
       "near__location                      1.00   1.00  \n",
       "partner                             1.00   1.00  \n",
       "promo_friends                       1.00   1.00  \n",
       "phone                               1.00   1.00  \n",
       "contract_period                     6.00  12.00  \n",
       "group_visits                        1.00   1.00  \n",
       "age                                31.00  41.00  \n",
       "avg_additional_charges_total      210.95 552.59  \n",
       "month_to_end_contract               6.00  12.00  \n",
       "lifetime                            5.00  31.00  \n",
       "avg_class_frequency_total           2.54   6.02  \n",
       "avg_class_frequency_current_month   2.51   6.15  \n",
       "churn                               1.00   1.00  "
      ]
     },
     "metadata": {},
     "output_type": "display_data"
    },
    {
     "name": "stdout",
     "output_type": "stream",
     "text": [
      "\n",
      "\n"
     ]
    }
   ],
   "source": [
    "def func(x):\n",
    "    display(x.head())\n",
    "    print('\\n')\n",
    "    print('Общая информация о датасете')\n",
    "    display(x.info())\n",
    "    print('\\n')\n",
    "    print('Пропусков в датасете')\n",
    "    display(x.isna().sum())\n",
    "    print('\\n')\n",
    "    print('Дубликатов в датасете')\n",
    "    display(x.duplicated().sum())\n",
    "    print('\\n')\n",
    "    print('Приведем столбцы к нижнему \"змеиному\" регистру')\n",
    "    x.columns = [re.sub(r'(?<!^)(?=[A-Z])', '_', name).lower() for name in x.columns.tolist()]\n",
    "    display(x.head(1))\n",
    "    print('\\n')\n",
    "    print('Статистические значения числовых данных')\n",
    "    display(x.describe().T)\n",
    "    print('\\n')\n",
    "func(data)"
   ]
  },
  {
   "cell_type": "markdown",
   "metadata": {},
   "source": [
    "<div class=\"alert alert-success\">\n",
    "<b>Комментарий ревьюера: ✅</b>\n",
    "\n",
    "Отличный и удобный формат таблицы 👍\n",
    "\n",
    "</div>"
   ]
  },
  {
   "cell_type": "markdown",
   "metadata": {},
   "source": [
    "* Вывод:*  \n",
    "\n",
    "В датасете 4000 наблюдений и 14 полей: 13 признаков и целевая переменная.  \n",
    "С пропусками и дубликатами все хорошо: их нет.  \n",
    "Все данные численные: типа float64 и int64. \n",
    "По статистическим данным следующие параметры имеют высокие стандартные отклонения  \n",
    "* contract_period std = 4.68\n",
    "* avg_additional_charges_total std = 146.94\n",
    "* lifetime std = 3.72"
   ]
  },
  {
   "cell_type": "markdown",
   "metadata": {},
   "source": [
    "### Посмотрим на средние значения признаков в двух группах — тех, кто ушел в отток и тех, кто остался"
   ]
  },
  {
   "cell_type": "code",
   "execution_count": 4,
   "metadata": {},
   "outputs": [
    {
     "data": {
      "text/html": [
       "<div>\n",
       "<style scoped>\n",
       "    .dataframe tbody tr th:only-of-type {\n",
       "        vertical-align: middle;\n",
       "    }\n",
       "\n",
       "    .dataframe tbody tr th {\n",
       "        vertical-align: top;\n",
       "    }\n",
       "\n",
       "    .dataframe thead th {\n",
       "        text-align: right;\n",
       "    }\n",
       "</style>\n",
       "<table border=\"1\" class=\"dataframe\">\n",
       "  <thead>\n",
       "    <tr style=\"text-align: right;\">\n",
       "      <th>churn</th>\n",
       "      <th>0</th>\n",
       "      <th>1</th>\n",
       "    </tr>\n",
       "  </thead>\n",
       "  <tbody>\n",
       "    <tr>\n",
       "      <th>gender</th>\n",
       "      <td>0.51</td>\n",
       "      <td>0.51</td>\n",
       "    </tr>\n",
       "    <tr>\n",
       "      <th>near__location</th>\n",
       "      <td>0.87</td>\n",
       "      <td>0.77</td>\n",
       "    </tr>\n",
       "    <tr>\n",
       "      <th>partner</th>\n",
       "      <td>0.53</td>\n",
       "      <td>0.36</td>\n",
       "    </tr>\n",
       "    <tr>\n",
       "      <th>promo_friends</th>\n",
       "      <td>0.35</td>\n",
       "      <td>0.18</td>\n",
       "    </tr>\n",
       "    <tr>\n",
       "      <th>phone</th>\n",
       "      <td>0.90</td>\n",
       "      <td>0.90</td>\n",
       "    </tr>\n",
       "    <tr>\n",
       "      <th>contract_period</th>\n",
       "      <td>5.75</td>\n",
       "      <td>1.73</td>\n",
       "    </tr>\n",
       "    <tr>\n",
       "      <th>group_visits</th>\n",
       "      <td>0.46</td>\n",
       "      <td>0.27</td>\n",
       "    </tr>\n",
       "    <tr>\n",
       "      <th>age</th>\n",
       "      <td>29.98</td>\n",
       "      <td>26.99</td>\n",
       "    </tr>\n",
       "    <tr>\n",
       "      <th>avg_additional_charges_total</th>\n",
       "      <td>158.45</td>\n",
       "      <td>115.08</td>\n",
       "    </tr>\n",
       "    <tr>\n",
       "      <th>month_to_end_contract</th>\n",
       "      <td>5.28</td>\n",
       "      <td>1.66</td>\n",
       "    </tr>\n",
       "    <tr>\n",
       "      <th>lifetime</th>\n",
       "      <td>4.71</td>\n",
       "      <td>0.99</td>\n",
       "    </tr>\n",
       "    <tr>\n",
       "      <th>avg_class_frequency_total</th>\n",
       "      <td>2.02</td>\n",
       "      <td>1.47</td>\n",
       "    </tr>\n",
       "    <tr>\n",
       "      <th>avg_class_frequency_current_month</th>\n",
       "      <td>2.03</td>\n",
       "      <td>1.04</td>\n",
       "    </tr>\n",
       "  </tbody>\n",
       "</table>\n",
       "</div>"
      ],
      "text/plain": [
       "churn                                  0      1\n",
       "gender                              0.51   0.51\n",
       "near__location                      0.87   0.77\n",
       "partner                             0.53   0.36\n",
       "promo_friends                       0.35   0.18\n",
       "phone                               0.90   0.90\n",
       "contract_period                     5.75   1.73\n",
       "group_visits                        0.46   0.27\n",
       "age                                29.98  26.99\n",
       "avg_additional_charges_total      158.45 115.08\n",
       "month_to_end_contract               5.28   1.66\n",
       "lifetime                            4.71   0.99\n",
       "avg_class_frequency_total           2.02   1.47\n",
       "avg_class_frequency_current_month   2.03   1.04"
      ]
     },
     "metadata": {},
     "output_type": "display_data"
    }
   ],
   "source": [
    "display(data.groupby('churn').agg('mean').T)"
   ]
  },
  {
   "cell_type": "markdown",
   "metadata": {},
   "source": [
    "* Вывод *\n",
    "\n",
    "Распределение значений по признакам:  \n",
    "•\tсоотношение полов: ~ 50/50  \n",
    "•\t80% клиентов проживают или работают в районе, где находится фитнес-центр  \n",
    "•\tявляются сотрудниками компании-партнёра клуба: 49%  \n",
    "•\t31% клиентов использовали промо-код от знакомого при оплате первого абонемента  \n",
    "•\tабонемент действует от 1 до 12 месяцев. Среднее и медиана сильно разнятся: 4,68 против 1 месяца (медианы)  \n",
    "•\tгрупповые занятия посещают ~ 41% клиентов.  \n",
    "•\tсредний возраст клиентов 29 лет, что соответствует медиане.  \n",
    "•\tсреднее время с момента первого обращения в фитнес-центр: 3,7 месяца  \n",
    "•\tсредняя суммарная выручка от других услуг фитнес -центра: 146  \n",
    "•\tсредний срок до окончания действия текущего абонемента: 4,32 месяца, а медиана 1 месяц (возможно, имеем выбросы)  \n",
    "•\tсредняя частота посещений в неделю за все время действия абонемента: 1,88  \n",
    "•\tсредняя частота посещений в неделю за предыдущий месяц: 1,77  "
   ]
  },
  {
   "cell_type": "markdown",
   "metadata": {},
   "source": [
    "### Построим столбчатые гистограммы и распределения признаков для тех, кто ушёл (отток) и тех, кто остался (не попали в отток)"
   ]
  },
  {
   "cell_type": "markdown",
   "metadata": {},
   "source": [
    "<div class=\"alert alert-info\">\n",
    "<b>Комментарий студента: ℹ️ </b>\n",
    "-Евгений, я столкнулась с проблемой вывода гистограммы с помощью subplot.   \n",
    "\n",
    "В слак я прочитала, что лучше разделить значения на дискретные и непрерывные, чтобы вывести разные виды графиков и они были более наглядными. Для этого я попробовала предварительно разделить значения, а потом завернуть их в цикл и добавить метод subplot в  3 колонки для удобства просмотра. У меня получилось вывести только дискретные. Для решения кейса я пользовалась твоими ссылками, поиском в интернете и обсуждением в слак. Вижу что у многих возникает эта проблема. \n",
    "Посмотри пож-та один из вариантов моего кода. Что я делаю не так?\n",
    "    \n",
    "</div>"
   ]
  },
  {
   "cell_type": "code",
   "execution_count": 5,
   "metadata": {},
   "outputs": [
    {
     "data": {
      "image/png": "[encoded data removed]",
      "text/plain": [
       "<Figure size 1440x720 with 8 Axes>"
      ]
     },
     "metadata": {},
     "output_type": "display_data"
    }
   ],
   "source": [
    "# TEST_V1_ В этом варианте получилось вывести только дискретные значения:\n",
    "\n",
    "# Создадим пустое полотно\n",
    "fig, ax = plt.subplots(figsize=(20,10))\n",
    "\n",
    "# создаем 1 список для дискретных значений\n",
    "values_1 = ['near__location','gender','partner', 'promo_friends', 'phone', 'group_visits','contract_period', 'month_to_end_contract']\n",
    "\n",
    "# создаем 2 список для непрерывных значений\n",
    "values_2 = [ 'near_location', 'age', 'avg_additional_charges_total', 'lifetime', 'avg_class_frequency_total','avg_class_frequency_current_month']\n",
    "\n",
    "#строим графики для дискретных значений\n",
    "col_count, row = 3, 5\n",
    "\n",
    "for i, col in enumerate(values_1):\n",
    "\n",
    "#     if values == values_2:\n",
    "    df = data.reset_index().pivot_table(index = col,columns ='churn', values = 'index', aggfunc = 'count')\n",
    "    df.plot(kind = 'bar', ax = plt.subplot(col_count, row, i+1))\n",
    "    plt.title(col)\n",
    "#     else:\n",
    "#         df = data.reset_index().pivot_table(index = col,columns ='churn', values = 'index', aggfunc = 'count')\n",
    "#         df.plot(kind = 'bar', ax = plt.subplot(col_count, row, i+1))\n",
    "#         plt.title(col)\n",
    "plt.tight_layout()"
   ]
  },
  {
   "cell_type": "markdown",
   "metadata": {},
   "source": [
    "<div class=\"alert alert-success\">\n",
    "<b>Комментарий ревьюера (2): ✅</b>\n",
    "\n",
    "Собственно все было верно, можно просто разделить одно от другого и построить графики в разных блоках.\n",
    "    \n",
    "Оставил пример ниже.\n",
    "    \n",
    "</div>"
   ]
  },
  {
   "cell_type": "code",
   "execution_count": 6,
   "metadata": {
    "scrolled": true
   },
   "outputs": [
    {
     "data": {
      "image/png": "[encoded data removed]",
      "text/plain": [
       "<Figure size 1440x720 with 5 Axes>"
      ]
     },
     "metadata": {},
     "output_type": "display_data"
    }
   ],
   "source": [
    "# TEST_V1_ В этом варианте получилось вывести только дискретные значения:\n",
    "\n",
    "# Создадим пустое полотно\n",
    "fig, ax = plt.subplots(figsize=(20,10))\n",
    "\n",
    "# создаем 2 список для непрерывных значений\n",
    "values_2 = [  'age', 'avg_additional_charges_total', 'lifetime', 'avg_class_frequency_total','avg_class_frequency_current_month']\n",
    "\n",
    "#строим графики для дискретных значений\n",
    "col_count, row = 3, 5\n",
    "\n",
    "for i, col in enumerate(values_2):\n",
    "\n",
    "    data.groupby('churn')[col].plot(x=col, kind='hist', grid=True, alpha=0.5, ax = plt.subplot(col_count, row, i+1))\n",
    "    plt.title(col)\n",
    "plt.tight_layout()"
   ]
  },
  {
   "cell_type": "markdown",
   "metadata": {},
   "source": [
    "<div class=\"alert alert-success\">\n",
    "<b>Комментарий ревьюера (2): ✅</b>\n",
    "\n",
    "Рад, что в целом все понятно. Тогда предлагаю двигаться дальше.\n",
    "    \n",
    "Поздравляю с успешным завершением проекта 😊👍\n",
    "    \n",
    "И желаю успехов в новых работах 😊\n",
    "    \n",
    "    \n",
    "</div>"
   ]
  },
  {
   "cell_type": "code",
   "execution_count": 7,
   "metadata": {},
   "outputs": [
    {
     "data": {
      "image/png": "[encoded data removed]",
      "text/plain": [
       "<Figure size 360x360 with 1 Axes>"
      ]
     },
     "metadata": {},
     "output_type": "display_data"
    },
    {
     "data": {
      "image/png": "[encoded data removed]",
      "text/plain": [
       "<Figure size 360x360 with 1 Axes>"
      ]
     },
     "metadata": {},
     "output_type": "display_data"
    },
    {
     "data": {
      "image/png": "[encoded data removed]",
      "text/plain": [
       "<Figure size 360x360 with 1 Axes>"
      ]
     },
     "metadata": {},
     "output_type": "display_data"
    },
    {
     "data": {
      "image/png": "[encoded data removed]",
      "text/plain": [
       "<Figure size 360x360 with 1 Axes>"
      ]
     },
     "metadata": {},
     "output_type": "display_data"
    },
    {
     "data": {
      "image/png": "[encoded data removed]",
      "text/plain": [
       "<Figure size 360x360 with 1 Axes>"
      ]
     },
     "metadata": {},
     "output_type": "display_data"
    },
    {
     "data": {
      "image/png": "[encoded data removed]",
      "text/plain": [
       "<Figure size 360x360 with 1 Axes>"
      ]
     },
     "metadata": {},
     "output_type": "display_data"
    },
    {
     "data": {
      "image/png": "[encoded data removed]",
      "text/plain": [
       "<Figure size 360x360 with 1 Axes>"
      ]
     },
     "metadata": {},
     "output_type": "display_data"
    },
    {
     "data": {
      "image/png": "[encoded data removed]",
      "text/plain": [
       "<Figure size 360x360 with 1 Axes>"
      ]
     },
     "metadata": {},
     "output_type": "display_data"
    },
    {
     "data": {
      "image/png": "[encoded data removed]",
      "text/plain": [
       "<Figure size 360x360 with 1 Axes>"
      ]
     },
     "metadata": {},
     "output_type": "display_data"
    },
    {
     "data": {
      "image/png": "[encoded data removed]",
      "text/plain": [
       "<Figure size 360x360 with 1 Axes>"
      ]
     },
     "metadata": {},
     "output_type": "display_data"
    },
    {
     "data": {
      "image/png": "[encoded data removed]",
      "text/plain": [
       "<Figure size 360x360 with 1 Axes>"
      ]
     },
     "metadata": {},
     "output_type": "display_data"
    },
    {
     "data": {
      "image/png": "[encoded data removed]",
      "text/plain": [
       "<Figure size 360x360 with 1 Axes>"
      ]
     },
     "metadata": {},
     "output_type": "display_data"
    },
    {
     "data": {
      "image/png": "[encoded data removed]",
      "text/plain": [
       "<Figure size 360x360 with 1 Axes>"
      ]
     },
     "metadata": {},
     "output_type": "display_data"
    },
    {
     "data": {
      "image/png": "[encoded data removed]",
      "text/plain": [
       "<Figure size 360x360 with 1 Axes>"
      ]
     },
     "metadata": {},
     "output_type": "display_data"
    }
   ],
   "source": [
    "# Старый код:\n",
    "for value in data.columns:\n",
    "    plt.figure(figsize=(5, 5))\n",
    "    data.groupby('churn')[value].plot(x=value, kind='hist', grid=True, alpha=0.5)\n",
    "    plt.legend() \n",
    "    plt.title(value)\n",
    "    plt.show()"
   ]
  },
  {
   "cell_type": "markdown",
   "metadata": {},
   "source": [
    "Вывод по гистограммам:  \n",
    "\n",
    "1.\tgender - соотношение полов тех кто ушел и остался примерно одинаково\n",
    "2.\tnear__location - среди клиентов, для которых удобна локация клуба отток ~ 30%  клиентов,  и ~ 60% отток среди клиентов с неудобной локацией.\n",
    "3.\tpartner - среди клиентов, являющихся сотрудниками компании-партнёра клуба отток составляет почти 25%, среди непартнеров - 50%\n",
    "4.\tpromo_friends - 20% оттока среди клиентов, купивших абонемент по акции \"приведи друга\"  и почти 50 % отток среди клиентов, купивших абонемент без акции.\n",
    "5.\tphone - отток среди клиентов с телефоном ~ 40% и без телефона ~30%\n",
    "6.\tcontract_period - отток клиентов с абонементом на 1 месяц = 75%, с абонементом на 6 месяцев = 13% , с абонементом на 12 месяцев ~ 2 % \n",
    "7.\tgroup_visits - отток клиентов, посещающих групповые занятия ~20%, а не посещающих ~50%\n",
    "8.\tage - средний возраст оттока клиентов 27 лет. \n",
    "9.\tavg_additional_charges_total - чем меньше клиент тратит на другие услуг фитнес-центра, тем больше вероятность что он попадет в отток\n",
    "10.\tlifetime - основной отток клиентов происходит в первые 2 месяца\n",
    "11.\tavg_class_frequency_total - чем меньше средняя частота посещений в неделю, тем больше вероятность оттока.\n",
    "12.\tchurn - здесь все просто: из 4000 клиентов 1000 ушла, отток составил 25%"
   ]
  },
  {
   "cell_type": "markdown",
   "metadata": {},
   "source": [
    "<div class=\"alert alert-success\">\n",
    "<b>Комментарий ревьюера: ✅</b>\n",
    "\n",
    "Отличный способ визуализации, в том числе можно было бы построить наши графики с помощью метода `subplots`, например в 2 колонки, для нашего удоства в их изучении.\n",
    "    \n",
    "Тут можно посмотреть примеры. \n",
    "    \n",
    "- `matplotlib`: https://matplotlib.org/3.3.3/api/_as_gen/matplotlib.pyplot.subplots.html\n",
    "- `plotly` : https://plotly.com/python/subplots/\n",
    "    \n",
    "\n",
    "</div>"
   ]
  },
  {
   "cell_type": "markdown",
   "metadata": {},
   "source": [
    "### Построим матрицу корреляций и отобразим её.   "
   ]
  },
  {
   "cell_type": "markdown",
   "metadata": {},
   "source": [
    "Вычислим матрицу корреляций методом corr()"
   ]
  },
  {
   "cell_type": "code",
   "execution_count": 8,
   "metadata": {},
   "outputs": [
    {
     "data": {
      "text/html": [
       "<div>\n",
       "<style scoped>\n",
       "    .dataframe tbody tr th:only-of-type {\n",
       "        vertical-align: middle;\n",
       "    }\n",
       "\n",
       "    .dataframe tbody tr th {\n",
       "        vertical-align: top;\n",
       "    }\n",
       "\n",
       "    .dataframe thead th {\n",
       "        text-align: right;\n",
       "    }\n",
       "</style>\n",
       "<table border=\"1\" class=\"dataframe\">\n",
       "  <thead>\n",
       "    <tr style=\"text-align: right;\">\n",
       "      <th></th>\n",
       "      <th>gender</th>\n",
       "      <th>near__location</th>\n",
       "      <th>partner</th>\n",
       "      <th>promo_friends</th>\n",
       "      <th>phone</th>\n",
       "      <th>contract_period</th>\n",
       "      <th>group_visits</th>\n",
       "      <th>age</th>\n",
       "      <th>avg_additional_charges_total</th>\n",
       "      <th>month_to_end_contract</th>\n",
       "      <th>lifetime</th>\n",
       "      <th>avg_class_frequency_total</th>\n",
       "      <th>avg_class_frequency_current_month</th>\n",
       "      <th>churn</th>\n",
       "    </tr>\n",
       "  </thead>\n",
       "  <tbody>\n",
       "    <tr>\n",
       "      <th>gender</th>\n",
       "      <td>1.00</td>\n",
       "      <td>0.01</td>\n",
       "      <td>-0.01</td>\n",
       "      <td>-0.01</td>\n",
       "      <td>-0.01</td>\n",
       "      <td>0.00</td>\n",
       "      <td>0.02</td>\n",
       "      <td>0.01</td>\n",
       "      <td>-0.01</td>\n",
       "      <td>-0.00</td>\n",
       "      <td>0.01</td>\n",
       "      <td>0.01</td>\n",
       "      <td>0.01</td>\n",
       "      <td>0.00</td>\n",
       "    </tr>\n",
       "    <tr>\n",
       "      <th>near__location</th>\n",
       "      <td>0.01</td>\n",
       "      <td>1.00</td>\n",
       "      <td>-0.01</td>\n",
       "      <td>0.21</td>\n",
       "      <td>-0.02</td>\n",
       "      <td>0.15</td>\n",
       "      <td>0.15</td>\n",
       "      <td>0.06</td>\n",
       "      <td>0.04</td>\n",
       "      <td>0.14</td>\n",
       "      <td>0.07</td>\n",
       "      <td>0.04</td>\n",
       "      <td>0.06</td>\n",
       "      <td>-0.13</td>\n",
       "    </tr>\n",
       "    <tr>\n",
       "      <th>partner</th>\n",
       "      <td>-0.01</td>\n",
       "      <td>-0.01</td>\n",
       "      <td>1.00</td>\n",
       "      <td>0.45</td>\n",
       "      <td>0.01</td>\n",
       "      <td>0.31</td>\n",
       "      <td>0.02</td>\n",
       "      <td>0.05</td>\n",
       "      <td>0.02</td>\n",
       "      <td>0.29</td>\n",
       "      <td>0.06</td>\n",
       "      <td>0.02</td>\n",
       "      <td>0.05</td>\n",
       "      <td>-0.16</td>\n",
       "    </tr>\n",
       "    <tr>\n",
       "      <th>promo_friends</th>\n",
       "      <td>-0.01</td>\n",
       "      <td>0.21</td>\n",
       "      <td>0.45</td>\n",
       "      <td>1.00</td>\n",
       "      <td>0.00</td>\n",
       "      <td>0.24</td>\n",
       "      <td>0.12</td>\n",
       "      <td>0.05</td>\n",
       "      <td>0.04</td>\n",
       "      <td>0.24</td>\n",
       "      <td>0.07</td>\n",
       "      <td>0.03</td>\n",
       "      <td>0.05</td>\n",
       "      <td>-0.16</td>\n",
       "    </tr>\n",
       "    <tr>\n",
       "      <th>phone</th>\n",
       "      <td>-0.01</td>\n",
       "      <td>-0.02</td>\n",
       "      <td>0.01</td>\n",
       "      <td>0.00</td>\n",
       "      <td>1.00</td>\n",
       "      <td>-0.01</td>\n",
       "      <td>-0.01</td>\n",
       "      <td>-0.01</td>\n",
       "      <td>0.01</td>\n",
       "      <td>-0.01</td>\n",
       "      <td>-0.02</td>\n",
       "      <td>0.01</td>\n",
       "      <td>0.01</td>\n",
       "      <td>-0.00</td>\n",
       "    </tr>\n",
       "    <tr>\n",
       "      <th>contract_period</th>\n",
       "      <td>0.00</td>\n",
       "      <td>0.15</td>\n",
       "      <td>0.31</td>\n",
       "      <td>0.24</td>\n",
       "      <td>-0.01</td>\n",
       "      <td>1.00</td>\n",
       "      <td>0.17</td>\n",
       "      <td>0.14</td>\n",
       "      <td>0.11</td>\n",
       "      <td>0.97</td>\n",
       "      <td>0.17</td>\n",
       "      <td>0.10</td>\n",
       "      <td>0.16</td>\n",
       "      <td>-0.39</td>\n",
       "    </tr>\n",
       "    <tr>\n",
       "      <th>group_visits</th>\n",
       "      <td>0.02</td>\n",
       "      <td>0.15</td>\n",
       "      <td>0.02</td>\n",
       "      <td>0.12</td>\n",
       "      <td>-0.01</td>\n",
       "      <td>0.17</td>\n",
       "      <td>1.00</td>\n",
       "      <td>0.08</td>\n",
       "      <td>0.03</td>\n",
       "      <td>0.16</td>\n",
       "      <td>0.08</td>\n",
       "      <td>0.06</td>\n",
       "      <td>0.08</td>\n",
       "      <td>-0.18</td>\n",
       "    </tr>\n",
       "    <tr>\n",
       "      <th>age</th>\n",
       "      <td>0.01</td>\n",
       "      <td>0.06</td>\n",
       "      <td>0.05</td>\n",
       "      <td>0.05</td>\n",
       "      <td>-0.01</td>\n",
       "      <td>0.14</td>\n",
       "      <td>0.08</td>\n",
       "      <td>1.00</td>\n",
       "      <td>0.08</td>\n",
       "      <td>0.13</td>\n",
       "      <td>0.16</td>\n",
       "      <td>0.12</td>\n",
       "      <td>0.18</td>\n",
       "      <td>-0.40</td>\n",
       "    </tr>\n",
       "    <tr>\n",
       "      <th>avg_additional_charges_total</th>\n",
       "      <td>-0.01</td>\n",
       "      <td>0.04</td>\n",
       "      <td>0.02</td>\n",
       "      <td>0.04</td>\n",
       "      <td>0.01</td>\n",
       "      <td>0.11</td>\n",
       "      <td>0.03</td>\n",
       "      <td>0.08</td>\n",
       "      <td>1.00</td>\n",
       "      <td>0.11</td>\n",
       "      <td>0.08</td>\n",
       "      <td>0.04</td>\n",
       "      <td>0.08</td>\n",
       "      <td>-0.20</td>\n",
       "    </tr>\n",
       "    <tr>\n",
       "      <th>month_to_end_contract</th>\n",
       "      <td>-0.00</td>\n",
       "      <td>0.14</td>\n",
       "      <td>0.29</td>\n",
       "      <td>0.24</td>\n",
       "      <td>-0.01</td>\n",
       "      <td>0.97</td>\n",
       "      <td>0.16</td>\n",
       "      <td>0.13</td>\n",
       "      <td>0.11</td>\n",
       "      <td>1.00</td>\n",
       "      <td>0.16</td>\n",
       "      <td>0.09</td>\n",
       "      <td>0.15</td>\n",
       "      <td>-0.38</td>\n",
       "    </tr>\n",
       "    <tr>\n",
       "      <th>lifetime</th>\n",
       "      <td>0.01</td>\n",
       "      <td>0.07</td>\n",
       "      <td>0.06</td>\n",
       "      <td>0.07</td>\n",
       "      <td>-0.02</td>\n",
       "      <td>0.17</td>\n",
       "      <td>0.08</td>\n",
       "      <td>0.16</td>\n",
       "      <td>0.08</td>\n",
       "      <td>0.16</td>\n",
       "      <td>1.00</td>\n",
       "      <td>0.11</td>\n",
       "      <td>0.18</td>\n",
       "      <td>-0.44</td>\n",
       "    </tr>\n",
       "    <tr>\n",
       "      <th>avg_class_frequency_total</th>\n",
       "      <td>0.01</td>\n",
       "      <td>0.04</td>\n",
       "      <td>0.02</td>\n",
       "      <td>0.03</td>\n",
       "      <td>0.01</td>\n",
       "      <td>0.10</td>\n",
       "      <td>0.06</td>\n",
       "      <td>0.12</td>\n",
       "      <td>0.04</td>\n",
       "      <td>0.09</td>\n",
       "      <td>0.11</td>\n",
       "      <td>1.00</td>\n",
       "      <td>0.95</td>\n",
       "      <td>-0.25</td>\n",
       "    </tr>\n",
       "    <tr>\n",
       "      <th>avg_class_frequency_current_month</th>\n",
       "      <td>0.01</td>\n",
       "      <td>0.06</td>\n",
       "      <td>0.05</td>\n",
       "      <td>0.05</td>\n",
       "      <td>0.01</td>\n",
       "      <td>0.16</td>\n",
       "      <td>0.08</td>\n",
       "      <td>0.18</td>\n",
       "      <td>0.08</td>\n",
       "      <td>0.15</td>\n",
       "      <td>0.18</td>\n",
       "      <td>0.95</td>\n",
       "      <td>1.00</td>\n",
       "      <td>-0.41</td>\n",
       "    </tr>\n",
       "    <tr>\n",
       "      <th>churn</th>\n",
       "      <td>0.00</td>\n",
       "      <td>-0.13</td>\n",
       "      <td>-0.16</td>\n",
       "      <td>-0.16</td>\n",
       "      <td>-0.00</td>\n",
       "      <td>-0.39</td>\n",
       "      <td>-0.18</td>\n",
       "      <td>-0.40</td>\n",
       "      <td>-0.20</td>\n",
       "      <td>-0.38</td>\n",
       "      <td>-0.44</td>\n",
       "      <td>-0.25</td>\n",
       "      <td>-0.41</td>\n",
       "      <td>1.00</td>\n",
       "    </tr>\n",
       "  </tbody>\n",
       "</table>\n",
       "</div>"
      ],
      "text/plain": [
       "                                   gender  near__location  partner  \\\n",
       "gender                               1.00            0.01    -0.01   \n",
       "near__location                       0.01            1.00    -0.01   \n",
       "partner                             -0.01           -0.01     1.00   \n",
       "promo_friends                       -0.01            0.21     0.45   \n",
       "phone                               -0.01           -0.02     0.01   \n",
       "contract_period                      0.00            0.15     0.31   \n",
       "group_visits                         0.02            0.15     0.02   \n",
       "age                                  0.01            0.06     0.05   \n",
       "avg_additional_charges_total        -0.01            0.04     0.02   \n",
       "month_to_end_contract               -0.00            0.14     0.29   \n",
       "lifetime                             0.01            0.07     0.06   \n",
       "avg_class_frequency_total            0.01            0.04     0.02   \n",
       "avg_class_frequency_current_month    0.01            0.06     0.05   \n",
       "churn                                0.00           -0.13    -0.16   \n",
       "\n",
       "                                   promo_friends  phone  contract_period  \\\n",
       "gender                                     -0.01  -0.01             0.00   \n",
       "near__location                              0.21  -0.02             0.15   \n",
       "partner                                     0.45   0.01             0.31   \n",
       "promo_friends                               1.00   0.00             0.24   \n",
       "phone                                       0.00   1.00            -0.01   \n",
       "contract_period                             0.24  -0.01             1.00   \n",
       "group_visits                                0.12  -0.01             0.17   \n",
       "age                                         0.05  -0.01             0.14   \n",
       "avg_additional_charges_total                0.04   0.01             0.11   \n",
       "month_to_end_contract                       0.24  -0.01             0.97   \n",
       "lifetime                                    0.07  -0.02             0.17   \n",
       "avg_class_frequency_total                   0.03   0.01             0.10   \n",
       "avg_class_frequency_current_month           0.05   0.01             0.16   \n",
       "churn                                      -0.16  -0.00            -0.39   \n",
       "\n",
       "                                   group_visits   age  \\\n",
       "gender                                     0.02  0.01   \n",
       "near__location                             0.15  0.06   \n",
       "partner                                    0.02  0.05   \n",
       "promo_friends                              0.12  0.05   \n",
       "phone                                     -0.01 -0.01   \n",
       "contract_period                            0.17  0.14   \n",
       "group_visits                               1.00  0.08   \n",
       "age                                        0.08  1.00   \n",
       "avg_additional_charges_total               0.03  0.08   \n",
       "month_to_end_contract                      0.16  0.13   \n",
       "lifetime                                   0.08  0.16   \n",
       "avg_class_frequency_total                  0.06  0.12   \n",
       "avg_class_frequency_current_month          0.08  0.18   \n",
       "churn                                     -0.18 -0.40   \n",
       "\n",
       "                                   avg_additional_charges_total  \\\n",
       "gender                                                    -0.01   \n",
       "near__location                                             0.04   \n",
       "partner                                                    0.02   \n",
       "promo_friends                                              0.04   \n",
       "phone                                                      0.01   \n",
       "contract_period                                            0.11   \n",
       "group_visits                                               0.03   \n",
       "age                                                        0.08   \n",
       "avg_additional_charges_total                               1.00   \n",
       "month_to_end_contract                                      0.11   \n",
       "lifetime                                                   0.08   \n",
       "avg_class_frequency_total                                  0.04   \n",
       "avg_class_frequency_current_month                          0.08   \n",
       "churn                                                     -0.20   \n",
       "\n",
       "                                   month_to_end_contract  lifetime  \\\n",
       "gender                                             -0.00      0.01   \n",
       "near__location                                      0.14      0.07   \n",
       "partner                                             0.29      0.06   \n",
       "promo_friends                                       0.24      0.07   \n",
       "phone                                              -0.01     -0.02   \n",
       "contract_period                                     0.97      0.17   \n",
       "group_visits                                        0.16      0.08   \n",
       "age                                                 0.13      0.16   \n",
       "avg_additional_charges_total                        0.11      0.08   \n",
       "month_to_end_contract                               1.00      0.16   \n",
       "lifetime                                            0.16      1.00   \n",
       "avg_class_frequency_total                           0.09      0.11   \n",
       "avg_class_frequency_current_month                   0.15      0.18   \n",
       "churn                                              -0.38     -0.44   \n",
       "\n",
       "                                   avg_class_frequency_total  \\\n",
       "gender                                                  0.01   \n",
       "near__location                                          0.04   \n",
       "partner                                                 0.02   \n",
       "promo_friends                                           0.03   \n",
       "phone                                                   0.01   \n",
       "contract_period                                         0.10   \n",
       "group_visits                                            0.06   \n",
       "age                                                     0.12   \n",
       "avg_additional_charges_total                            0.04   \n",
       "month_to_end_contract                                   0.09   \n",
       "lifetime                                                0.11   \n",
       "avg_class_frequency_total                               1.00   \n",
       "avg_class_frequency_current_month                       0.95   \n",
       "churn                                                  -0.25   \n",
       "\n",
       "                                   avg_class_frequency_current_month  churn  \n",
       "gender                                                          0.01   0.00  \n",
       "near__location                                                  0.06  -0.13  \n",
       "partner                                                         0.05  -0.16  \n",
       "promo_friends                                                   0.05  -0.16  \n",
       "phone                                                           0.01  -0.00  \n",
       "contract_period                                                 0.16  -0.39  \n",
       "group_visits                                                    0.08  -0.18  \n",
       "age                                                             0.18  -0.40  \n",
       "avg_additional_charges_total                                    0.08  -0.20  \n",
       "month_to_end_contract                                           0.15  -0.38  \n",
       "lifetime                                                        0.18  -0.44  \n",
       "avg_class_frequency_total                                       0.95  -0.25  \n",
       "avg_class_frequency_current_month                               1.00  -0.41  \n",
       "churn                                                          -0.41   1.00  "
      ]
     },
     "execution_count": 8,
     "metadata": {},
     "output_type": "execute_result"
    }
   ],
   "source": [
    "cm = data.corr()\n",
    "cm"
   ]
  },
  {
   "cell_type": "markdown",
   "metadata": {},
   "source": [
    "По heatmap() посмотрим, какие признаки наиболее сильно коррелируют с целевой\n",
    "переменной и какие признаки сильно коррелируют между собой. Для линейных моделей взаимная корреляция нежелательна"
   ]
  },
  {
   "cell_type": "code",
   "execution_count": 9,
   "metadata": {},
   "outputs": [
    {
     "data": {
      "image/png": "[encoded data removed]",
      "text/plain": [
       "<Figure size 1080x720 with 2 Axes>"
      ]
     },
     "metadata": {},
     "output_type": "display_data"
    }
   ],
   "source": [
    "sns.heatmap(cm, annot = True, square=True,fmt = '0.2f', cmap = 'PRGn', linewidths=.5)\n",
    "plt.gcf().set_size_inches(15, 10)"
   ]
  },
  {
   "cell_type": "markdown",
   "metadata": {},
   "source": [
    "На тепловом графике видим, что коэффициент корреляции между двумя признаками слишком большой (больше 0.8) у двух пар признаков:\n",
    "- длительность абонемента и срок до окончания абонемента  \n",
    "- средняя частота посещений в неделю total и средняя частота посещений в неделю за за текущий месяц  \n",
    "\n",
    "С линейной регрессией могут возникнут проблемы. Чтобы избежать мультиколлинеарности, вручную удалим один признак из каждой пары сильно скоррелированных признаков.  \n",
    "\n",
    "Так же видим корреляцию между переменными \"промо\" и \"партнер\". Но коэффцициент 0,45 не очень высокий, поэтому оставим эти переменные.  \n",
    "\n",
    "Нулевая корреляция между целевой переменной и признаками \"пол\" и \"телефон\""
   ]
  },
  {
   "cell_type": "code",
   "execution_count": 10,
   "metadata": {},
   "outputs": [],
   "source": [
    "data = data.drop(columns=['month_to_end_contract' , 'avg_class_frequency_current_month'])\n",
    "# data.head()"
   ]
  },
  {
   "cell_type": "markdown",
   "metadata": {},
   "source": [
    "Больше всего с целевой переменной коррелируют переменые:  \n",
    "* contract_period  \n",
    "* age  \n",
    "* lifetime  \n",
    "\n",
    "Коэффициент корреляции у всех переменных ~ -0.4. Это обратная корреляция.  "
   ]
  },
  {
   "cell_type": "markdown",
   "metadata": {},
   "source": [
    "<div class=\"alert alert-success\">\n",
    "<b>Комментарий ревьюера: ✅</b>\n",
    "\n",
    "Действительно у нас есть сильная корреляция между несколькими переменными и это говорит о мультиколлениарности.\n",
    "    \n",
    "Здорово, что мы как раз избавились от таких переменных из нашего датафрейма.\n",
    "    \n",
    "</div>"
   ]
  },
  {
   "cell_type": "markdown",
   "metadata": {},
   "source": [
    "<a id=\"data_model\"></a>\n",
    "\n",
    "## Шаг 3. Построим модель прогнозирования оттока клиентов"
   ]
  },
  {
   "cell_type": "markdown",
   "metadata": {},
   "source": [
    "### Обучим модель на train-выборке способом логистической регрессии и случайного леса. Оценим метрики accuracy, precision и recall"
   ]
  },
  {
   "cell_type": "code",
   "execution_count": 11,
   "metadata": {},
   "outputs": [],
   "source": [
    "# # Чтобы задать матрицу объект-признак X и вектор целевой переменной y, применим метод drop() библиотеки Pandas:\n",
    "# y = data['churn']\n",
    "# X = data.drop(['churn'], axis=1) \n",
    "\n",
    "# # Разобъем данные на обучающую и валидационную выборку функцией train_test_split().\n",
    "\n",
    "# X_train, X_test, y_train, y_test = train_test_split(X, y, stratify=y,test_size=0.2, random_state=0)\n",
    "\n",
    "# # Обучим StandartScaler на обучающей выборке\n",
    "\n",
    "# scaler = StandardScaler()\n",
    "# scaler.fit(X_train)\n",
    "\n",
    "# # Преобразуем обучающий и валидационные наборы данных\n",
    "# X_train_st = scaler.transform(X_train)\n",
    "# X_test_st = scaler.transform(X_test)\n"
   ]
  },
  {
   "cell_type": "code",
   "execution_count": 12,
   "metadata": {},
   "outputs": [],
   "source": [
    "# # зададим алгоритм для модели логистической регрессии:\n",
    "# model = LogisticRegression(random_state = 0)  \n",
    "\n",
    "# # обучим модель  \n",
    "# model.fit(X_train, y_train)  \n",
    "\n",
    "# # воспользуемся уже обученной моделью, чтобы сделать прогнозы\n",
    "# predictions = model.predict(X_test) \n",
    "# probabilities = model.predict_proba(X_test)[:, 1]  # бинарный прогноз  \n",
    "\n",
    "\n",
    "# # Выведем метрики для полученного прогноза\n",
    "# print ('Метрики для модели логистической регрессии:')\n",
    "# print('Accuracy: {:.2f}'.format(accuracy_score(y_test, predictions)))  \n",
    "# print('Precision: {:.2f}'.format(precision_score (y_test, predictions)))  \n",
    "# print('Recall: {:.2f}'.format(recall_score (y_test, predictions)))\n",
    "# print('F1: {:.2f}'.format(f1_score(y_test, predictions)))"
   ]
  },
  {
   "cell_type": "code",
   "execution_count": 13,
   "metadata": {},
   "outputs": [],
   "source": [
    "# # зададим алгоритм для модели случайного леса:\n",
    "# rf_model = RandomForestClassifier(random_state = 0) \n",
    "\n",
    "# # обучим модель случайного леса\n",
    "# rf_model.fit(X_train_st, y_train)\n",
    "\n",
    "# # воспользуемся уже обученной моделью, чтобы сделать прогнозы\n",
    "# rf_predictions = rf_model.predict(X_test_st)\n",
    "# rf_probabilities = rf_model.predict_proba(X_test_st)[:, 1]\n",
    "\n",
    "# # Выведем метрики для полученного прогноза\n",
    "# print ('Метрики для модели случайного леса:')\n",
    "# print('Accuracy: {:.2f}'.format(accuracy_score(y_test, predictions)))  \n",
    "# print('Precision: {:.2f}'.format(precision_score (y_test, predictions)))  \n",
    "# print('Recall: {:.2f}'.format(recall_score (y_test, predictions)))\n",
    "# print('F1: {:.2f}'.format(f1_score(y_test, predictions)))"
   ]
  },
  {
   "cell_type": "code",
   "execution_count": 14,
   "metadata": {},
   "outputs": [
    {
     "name": "stdout",
     "output_type": "stream",
     "text": [
      "Метрики для модели логистической регрессии:\n",
      "\tAccuracy: 0.91\n",
      "\tPrecision: 0.83\n",
      "\tRecall: 0.83\n",
      "\tF1: 0.83\n",
      "Метрики для модели случайного леса:\n",
      "\tAccuracy: 0.90\n",
      "\tPrecision: 0.83\n",
      "\tRecall: 0.77\n",
      "\tF1: 0.80\n"
     ]
    }
   ],
   "source": [
    "# Определим функцию, которая будет выводить наши метрики\n",
    "\n",
    "def print_all_metrics(y_true, y_pred, y_proba, title='Метрики классификации'):\n",
    "    print(title)\n",
    "    print('\\tAccuracy: {:.2f}'.format(accuracy_score(y_true, y_pred)))\n",
    "    print('\\tPrecision: {:.2f}'.format(precision_score(y_true, y_pred)))\n",
    "    print('\\tRecall: {:.2f}'.format(recall_score(y_true, y_pred)))\n",
    "    print('\\tF1: {:.2f}'.format(f1_score(y_true, y_pred)))\n",
    "\n",
    "# Разделим наши данные на признаки (матрица X) и целевую переменную (y)\n",
    "y = data['churn']\n",
    "X = data.drop(['churn'], axis=1) \n",
    "# разделяем модель на обучающую и валидационную выборку функцией train_test_split()\n",
    "X_train, X_test, y_train, y_test = train_test_split(\n",
    "    X, y, stratify=y, test_size=0.2, random_state=0\n",
    ")\n",
    "# Обучим StandartScaler на обучающей выборке\n",
    "scaler = StandardScaler()\n",
    "scaler.fit(X_train)\n",
    "\n",
    "# Преобразуем обучающий и валидационные наборы данных\n",
    "X_train_st = scaler.transform(X_train)\n",
    "X_test_st = scaler.transform(X_test)\n",
    "\n",
    "# зададим алгоритм для модели логистической регрессии\n",
    "lr_model = LogisticRegression(random_state=0)\n",
    "\n",
    "# обучим модель\n",
    "lr_model.fit(X_train_st, y_train)\n",
    "\n",
    "# воспользуемся уже обученной моделью, чтобы сделать прогнозы\n",
    "lr_predictions = lr_model.predict(X_test_st)\n",
    "lr_probabilities = lr_model.predict_proba(X_test_st)[:, 1]\n",
    "\n",
    "# выведем все метрики\n",
    "print_all_metrics(\n",
    "    y_test,\n",
    "    lr_predictions,\n",
    "    lr_probabilities,\n",
    "    title='Метрики для модели логистической регрессии:',\n",
    ")\n",
    "\n",
    "# зададим алгоритм для новой модели на основе алгоритма случайного леса\n",
    "rf_model = RandomForestClassifier(n_estimators = 300, random_state = 0) \n",
    "# обучим модель случайного леса\n",
    "rf_model.fit(X_train_st, y_train)\n",
    "# воспользуемся уже обученной моделью, чтобы сделать прогнозы\n",
    "rf_predictions = rf_model.predict(X_test_st)\n",
    "rf_probabilities = rf_model.predict_proba(X_test_st)[:, 1]\n",
    "\n",
    "\n",
    "# выведем все метрики\n",
    "print_all_metrics(\n",
    "    y_test,\n",
    "    rf_predictions,\n",
    "    rf_probabilities, \n",
    "    title='Метрики для модели случайного леса:'\n",
    ")"
   ]
  },
  {
   "cell_type": "markdown",
   "metadata": {},
   "source": [
    "<div class=\"alert alert-success\">\n",
    "<b>Комментарий ревьюера: ✅</b>\n",
    "\n",
    "    \n",
    "В целом выборка разделена верно. \n",
    "Я бы рекомендовал бы ещё использовать атрибут `stratify`, поместив в него целевую переменную. Он дает нам безопасность сохранения 20% значений равного нужного нам количества классов в целевой переменной.\n",
    "    \n",
    "Пример: `stratify=y`\n",
    "    \n",
    "---\n",
    "    \n",
    "Хорошо, что используем параметр `random_state`, чтобы получать одни и те же результаты.\n",
    "    \n",
    "</div>"
   ]
  },
  {
   "cell_type": "markdown",
   "metadata": {},
   "source": [
    "<div class=\"alert alert-warning\">\n",
    "<b>Комментарий ревьюера: ❗️</b>\n",
    "\n",
    "    \n",
    "<s>Кстати можно было бы сделать функцию для расчетов метрик, тем самым оптимизировать наш код.   \n",
    "</div>"
   ]
  },
  {
   "cell_type": "markdown",
   "metadata": {},
   "source": [
    "<div class=\"alert alert-info\">\n",
    "<b>Комментарий студента: </b>\n",
    "  \n",
    "Исправила:\n",
    "    \n",
    "* stratify=y  \n",
    "* Добавила метрику F1\n",
    "* Добавила функцию для рассчета метрик\n",
    "\n",
    "</div>"
   ]
  },
  {
   "cell_type": "markdown",
   "metadata": {},
   "source": [
    "<div class=\"alert alert-success\">\n",
    "<b>Комментарий ревьюера (2): ✅</b>\n",
    "\n",
    "🔥👍    \n",
    "    \n",
    "</div>"
   ]
  },
  {
   "cell_type": "markdown",
   "metadata": {},
   "source": [
    "<div class=\"alert alert-success\">\n",
    "<b>Комментарий ревьюера: ✅</b>\n",
    "   \n",
    "Обрати внимание, что все рассчитанные метрики по отдельности сложны в интерпритации, хотелось чтобы одна метрика включала в себя самые ключевые параметры. Есть метрика `F1`, которая как раз включает в себя основные параметры точности и полноты. \n",
    "    \n",
    "В том числе рекомендую смотреть на метрику `ROC–AUC`. \n",
    "    \n",
    "    \n",
    "Ниже статья, в которой есть материалы про метрики и как их визуализировать.\n",
    "    \n",
    "https://habr.com/ru/company/ods/blog/328372/\n",
    "    \n",
    "---\n",
    "\n",
    "Можно также попробовать и сравнить параметр `C` у логистической регрессии. У случайного леса количество деревьев (`n_estimators`) и максимальную глубину дерева (`max_depth`), чтобы осуществить поиск лучшей модели.\n",
    "    \n",
    "---\n",
    "    \n",
    "Кстати для автоматического перебора гиперпараметров мы можем использовать готовый метод `GreadSearchCV` в библиотеке `sklearn`. \n",
    "    \n",
    "</div>"
   ]
  },
  {
   "cell_type": "markdown",
   "metadata": {},
   "source": [
    "<div class=\"alert alert-info\">\n",
    "<b>Комментарий студента: </b>\n",
    "  \n",
    "Спасибо за дополнительные материалы :)\n",
    "\n",
    "</div>"
   ]
  },
  {
   "cell_type": "markdown",
   "metadata": {},
   "source": [
    "<a id=\"funnel_study\"></a> \n",
    "\n",
    "## Шаг 4. Сделаем кластеризацию клиентов"
   ]
  },
  {
   "cell_type": "markdown",
   "metadata": {},
   "source": [
    "### Стандартизируем данные:"
   ]
  },
  {
   "cell_type": "code",
   "execution_count": 15,
   "metadata": {},
   "outputs": [],
   "source": [
    "# Стандартизируем данные:\n",
    "sc = StandardScaler()\n",
    "X_sc = sc.fit_transform(data)\n",
    "\n",
    "# Построим матрицу расстояний функцией linkage() на стандартизованной матрице признаков\n",
    "linked = linkage(X_sc, method = 'ward') "
   ]
  },
  {
   "cell_type": "markdown",
   "metadata": {},
   "source": [
    "### Нарисуем дендрограмму. "
   ]
  },
  {
   "cell_type": "code",
   "execution_count": 16,
   "metadata": {},
   "outputs": [
    {
     "data": {
      "image/png": "[encoded data removed]",
      "text/plain": [
       "<Figure size 1080x720 with 1 Axes>"
      ]
     },
     "metadata": {},
     "output_type": "display_data"
    }
   ],
   "source": [
    "plt.figure(figsize=(15, 10))  \n",
    "dendrogram(linked, orientation='top')\n",
    "plt.title('Кластеризация данных')\n",
    "plt.show() "
   ]
  },
  {
   "cell_type": "markdown",
   "metadata": {},
   "source": [
    "На основании полученного графика мы можем выделить 5 кластеров."
   ]
  },
  {
   "cell_type": "markdown",
   "metadata": {},
   "source": [
    "<div class=\"alert alert-success\">\n",
    "<b>Комментарий ревьюера: ✅</b>\n",
    "    \n",
    "Отлично 👍\n",
    "\n",
    "В том числе чтобы определить количество кластеров можно использовать метод локтя. \n",
    "    \n",
    "Ниже статья с двумя методами, которые можно в том числе использовать для определения количества кластеров.\n",
    "    \n",
    "https://habr.com/ru/company/jetinfosystems/blog/467745/\n",
    "    \n",
    "</div>"
   ]
  },
  {
   "cell_type": "markdown",
   "metadata": {},
   "source": [
    "<div class=\"alert alert-info\">\n",
    "<b>Комментарий студента: </b>\n",
    "  \n",
    "👍\n",
    "\n",
    "</div>"
   ]
  },
  {
   "cell_type": "markdown",
   "metadata": {},
   "source": [
    "### Обучим модель кластеризации на основании алгоритма K-Means и спрогнозируем кластеры клиентов. "
   ]
  },
  {
   "cell_type": "markdown",
   "metadata": {},
   "source": [
    "K-Means группирует объекты пошагово. Алгоритм основан на предположении, что число кластеров (групп) заранее известно. Примем за число кластеров n=5 на основании предыдущего графика."
   ]
  },
  {
   "cell_type": "code",
   "execution_count": 17,
   "metadata": {},
   "outputs": [],
   "source": [
    "# Задаём число кластеров, равное 5, и фиксируем значение random_state для воспроизводимости результата\n",
    "km = KMeans(n_clusters = 5, random_state=0) \n",
    "\n",
    "# Применяем алгоритм к данным и формируем вектор кластеров \n",
    "labels = km.fit_predict(X_sc) "
   ]
  },
  {
   "cell_type": "code",
   "execution_count": 18,
   "metadata": {},
   "outputs": [],
   "source": [
    "# сохраняем метки кластера в поле нашего датасета\n",
    "data['cluster'] = labels\n"
   ]
  },
  {
   "cell_type": "markdown",
   "metadata": {},
   "source": [
    "### Посмотрим на средние значения признаков для кластеров."
   ]
  },
  {
   "cell_type": "code",
   "execution_count": 19,
   "metadata": {},
   "outputs": [
    {
     "data": {
      "text/html": [
       "<div>\n",
       "<style scoped>\n",
       "    .dataframe tbody tr th:only-of-type {\n",
       "        vertical-align: middle;\n",
       "    }\n",
       "\n",
       "    .dataframe tbody tr th {\n",
       "        vertical-align: top;\n",
       "    }\n",
       "\n",
       "    .dataframe thead th {\n",
       "        text-align: right;\n",
       "    }\n",
       "</style>\n",
       "<table border=\"1\" class=\"dataframe\">\n",
       "  <thead>\n",
       "    <tr style=\"text-align: right;\">\n",
       "      <th>cluster</th>\n",
       "      <th>0</th>\n",
       "      <th>1</th>\n",
       "      <th>2</th>\n",
       "      <th>3</th>\n",
       "      <th>4</th>\n",
       "    </tr>\n",
       "  </thead>\n",
       "  <tbody>\n",
       "    <tr>\n",
       "      <th>gender</th>\n",
       "      <td>0.50</td>\n",
       "      <td>0.52</td>\n",
       "      <td>0.50</td>\n",
       "      <td>0.50</td>\n",
       "      <td>0.51</td>\n",
       "    </tr>\n",
       "    <tr>\n",
       "      <th>near__location</th>\n",
       "      <td>0.00</td>\n",
       "      <td>1.00</td>\n",
       "      <td>0.99</td>\n",
       "      <td>0.98</td>\n",
       "      <td>1.00</td>\n",
       "    </tr>\n",
       "    <tr>\n",
       "      <th>partner</th>\n",
       "      <td>0.48</td>\n",
       "      <td>0.16</td>\n",
       "      <td>0.92</td>\n",
       "      <td>0.63</td>\n",
       "      <td>0.33</td>\n",
       "    </tr>\n",
       "    <tr>\n",
       "      <th>promo_friends</th>\n",
       "      <td>0.07</td>\n",
       "      <td>0.07</td>\n",
       "      <td>1.00</td>\n",
       "      <td>0.00</td>\n",
       "      <td>0.22</td>\n",
       "    </tr>\n",
       "    <tr>\n",
       "      <th>phone</th>\n",
       "      <td>0.91</td>\n",
       "      <td>0.90</td>\n",
       "      <td>0.90</td>\n",
       "      <td>0.90</td>\n",
       "      <td>0.90</td>\n",
       "    </tr>\n",
       "    <tr>\n",
       "      <th>contract_period</th>\n",
       "      <td>2.87</td>\n",
       "      <td>2.07</td>\n",
       "      <td>7.83</td>\n",
       "      <td>10.62</td>\n",
       "      <td>1.68</td>\n",
       "    </tr>\n",
       "    <tr>\n",
       "      <th>group_visits</th>\n",
       "      <td>0.22</td>\n",
       "      <td>0.45</td>\n",
       "      <td>0.54</td>\n",
       "      <td>0.49</td>\n",
       "      <td>0.29</td>\n",
       "    </tr>\n",
       "    <tr>\n",
       "      <th>age</th>\n",
       "      <td>28.65</td>\n",
       "      <td>30.06</td>\n",
       "      <td>29.95</td>\n",
       "      <td>30.00</td>\n",
       "      <td>26.92</td>\n",
       "    </tr>\n",
       "    <tr>\n",
       "      <th>avg_additional_charges_total</th>\n",
       "      <td>135.99</td>\n",
       "      <td>157.51</td>\n",
       "      <td>159.01</td>\n",
       "      <td>164.62</td>\n",
       "      <td>114.10</td>\n",
       "    </tr>\n",
       "    <tr>\n",
       "      <th>lifetime</th>\n",
       "      <td>2.98</td>\n",
       "      <td>4.83</td>\n",
       "      <td>4.71</td>\n",
       "      <td>4.65</td>\n",
       "      <td>0.97</td>\n",
       "    </tr>\n",
       "    <tr>\n",
       "      <th>avg_class_frequency_total</th>\n",
       "      <td>1.75</td>\n",
       "      <td>2.04</td>\n",
       "      <td>2.01</td>\n",
       "      <td>2.04</td>\n",
       "      <td>1.48</td>\n",
       "    </tr>\n",
       "    <tr>\n",
       "      <th>churn</th>\n",
       "      <td>0.41</td>\n",
       "      <td>0.00</td>\n",
       "      <td>0.01</td>\n",
       "      <td>0.01</td>\n",
       "      <td>1.00</td>\n",
       "    </tr>\n",
       "  </tbody>\n",
       "</table>\n",
       "</div>"
      ],
      "text/plain": [
       "cluster                           0      1      2      3      4\n",
       "gender                         0.50   0.52   0.50   0.50   0.51\n",
       "near__location                 0.00   1.00   0.99   0.98   1.00\n",
       "partner                        0.48   0.16   0.92   0.63   0.33\n",
       "promo_friends                  0.07   0.07   1.00   0.00   0.22\n",
       "phone                          0.91   0.90   0.90   0.90   0.90\n",
       "contract_period                2.87   2.07   7.83  10.62   1.68\n",
       "group_visits                   0.22   0.45   0.54   0.49   0.29\n",
       "age                           28.65  30.06  29.95  30.00  26.92\n",
       "avg_additional_charges_total 135.99 157.51 159.01 164.62 114.10\n",
       "lifetime                       2.98   4.83   4.71   4.65   0.97\n",
       "avg_class_frequency_total      1.75   2.04   2.01   2.04   1.48\n",
       "churn                          0.41   0.00   0.01   0.01   1.00"
      ]
     },
     "execution_count": 19,
     "metadata": {},
     "output_type": "execute_result"
    }
   ],
   "source": [
    "# сохраняем метки кластера в поле нашего датасета\n",
    "data['cluster'] = labels\n",
    "\n",
    "# выводим статистику по средним значениям наших признаков по кластеру\n",
    "data.groupby('cluster').agg('mean').T\n"
   ]
  },
  {
   "cell_type": "markdown",
   "metadata": {},
   "source": [
    "<div class=\"alert alert-success\">\n",
    "<b>Комментарий ревьюера: ✅</b>\n",
    "\n",
    "Супер, теперь у нас есть портреты наших пользователей 👍\n",
    "    \n",
    "</div>"
   ]
  },
  {
   "cell_type": "markdown",
   "metadata": {},
   "source": [
    "**Вывод:**\n",
    "\n",
    "За самый высокий отток клиентов у нас отвечают кластеры 0 (41%) и 4 (100%).   \n",
    "В кластере 1 - все активыне клиенты (0% оттока).  \n",
    "В класетрах 2 и 3 активные клиенты с оч. маленькой долей оттока (1%)\n",
    "\n",
    "Посмотрим, чем отличаются основные признаки в кластерах 0 и 4, отвечающих за остновной отток клиентов:\n",
    "\n",
    "* В кластере \"0\" находятся все клиенты, проживающие далеко от клуба, редко покупающие абонемент по акции, обратившиеся впервые не ранее 3 месяцев назад и примерно через 2,87 месяца попавшие в отток. За долю оттока в этом кластере отвчает 41%  \n",
    "* В кластере \"4\" все клиенты с удобной локацией, иногда покупающие абонемент по акции (0,22), обратившиеся впервые не ранее 1 месяца назад и примерно через 1,67 месяца попавшие в отток.  Доля оттока в этом кластере 100%  \n",
    "\n",
    "Сравним с кластерами, 1, 2, 3, в которых нет / или минимальный отток клиентов. В первую очередь нас интересует кластер 1 в качестве эталонных признаков потенциального клиента.  \n",
    "\n",
    "* В кластере \"1\" все клиенты с удобной локацией, редко работают у партнера (16 %) нечасто покупают абонемент по акции (7 %), в среднем посещают зал 2 раза в неделю, тратят 157 у.е. на другие услуги центра. Эти клиенты впервые обратились 4,83 месяцев назад. Длительность текущего абонемента у них = 2.07. Доля оттока в этом кластере 0 %. По этой картине видим клиента, повторно купившего абонемент ( lifetime > contract_period )\n",
    "\n",
    "* В кластере \"2\" все клиенты с удобной локацией (99 %), 92% работают у партнера и 100% купили абонемент по акции, в среднем посещают зал 2 раза в неделю, тратят 159 у.е. на другие услуги центра. Эти клиенты впервые обратились 4.71 месяцев назад. Длительность текущего абонемента у них = 7.83.  По этой картине видим клиента, впервые купившего абонемент   ( lifetime < contract_period ) по акции \"приведи друга\", и являющегося сотрудником компании-партнера (что тоже предполагает скидку). Доля оттока в этом кластере 0.01 %.\n",
    "\n",
    "* В кластере \"3\" собраны клиенты с удобной локацией (0.98), 63% работают у партнера и никто не купил абонемент по акции, в среднем посещают зал 2 раза в неделю, тратят 164 у.е. на другие услуги центра. Эти клиенты впервые обратились  4.65  месяцев назад. Длительность текущего абонемента у них = 10.62. Доля оттока в этом кластере 0.01 %. По этой картине видим клиента с удобной локацией, купившего абонемент от компании - партнера.\n"
   ]
  },
  {
   "cell_type": "code",
   "execution_count": 20,
   "metadata": {},
   "outputs": [
    {
     "data": {
      "image/png": "[encoded data removed]",
      "text/plain": [
       "<Figure size 360x360 with 1 Axes>"
      ]
     },
     "metadata": {},
     "output_type": "display_data"
    },
    {
     "data": {
      "image/png": "[encoded data removed]",
      "text/plain": [
       "<Figure size 360x360 with 1 Axes>"
      ]
     },
     "metadata": {},
     "output_type": "display_data"
    },
    {
     "data": {
      "image/png": "[encoded data removed]",
      "text/plain": [
       "<Figure size 360x360 with 1 Axes>"
      ]
     },
     "metadata": {},
     "output_type": "display_data"
    },
    {
     "data": {
      "image/png": "[encoded data removed]",
      "text/plain": [
       "<Figure size 360x360 with 1 Axes>"
      ]
     },
     "metadata": {},
     "output_type": "display_data"
    },
    {
     "data": {
      "image/png": "[encoded data removed]",
      "text/plain": [
       "<Figure size 360x360 with 1 Axes>"
      ]
     },
     "metadata": {},
     "output_type": "display_data"
    },
    {
     "data": {
      "image/png": "[encoded data removed]",
      "text/plain": [
       "<Figure size 360x360 with 1 Axes>"
      ]
     },
     "metadata": {},
     "output_type": "display_data"
    },
    {
     "data": {
      "image/png": "[encoded data removed]",
      "text/plain": [
       "<Figure size 360x360 with 1 Axes>"
      ]
     },
     "metadata": {},
     "output_type": "display_data"
    },
    {
     "data": {
      "image/png": "[encoded data removed]",
      "text/plain": [
       "<Figure size 360x360 with 1 Axes>"
      ]
     },
     "metadata": {},
     "output_type": "display_data"
    },
    {
     "data": {
      "image/png": "[encoded data removed]",
      "text/plain": [
       "<Figure size 360x360 with 1 Axes>"
      ]
     },
     "metadata": {},
     "output_type": "display_data"
    },
    {
     "data": {
      "image/png": "[encoded data removed]",
      "text/plain": [
       "<Figure size 360x360 with 1 Axes>"
      ]
     },
     "metadata": {},
     "output_type": "display_data"
    },
    {
     "data": {
      "image/png": "[encoded data removed]",
      "text/plain": [
       "<Figure size 360x360 with 1 Axes>"
      ]
     },
     "metadata": {},
     "output_type": "display_data"
    },
    {
     "data": {
      "image/png": "[encoded data removed]",
      "text/plain": [
       "<Figure size 360x360 with 1 Axes>"
      ]
     },
     "metadata": {},
     "output_type": "display_data"
    },
    {
     "data": {
      "image/png": "[encoded data removed]",
      "text/plain": [
       "<Figure size 360x360 with 1 Axes>"
      ]
     },
     "metadata": {},
     "output_type": "display_data"
    }
   ],
   "source": [
    "# отрисуем графики для попарных сочетаний признаков с разметкой по кластерам\n",
    "for value in data.columns:\n",
    "    plt.figure(figsize=(5, 5))\n",
    "    data.groupby('cluster')[value].plot(x=value, kind='hist', grid=True, alpha=0.5)\n",
    "    plt.legend() \n",
    "    plt.title(value)\n",
    "    plt.show()"
   ]
  },
  {
   "cell_type": "markdown",
   "metadata": {},
   "source": [
    "Для каждого полученного кластера посчитайте долю оттока (методом groupby()). Отличаются ли они по доле оттока? Какие кластеры склонны к оттоку, а какие — надёжны?"
   ]
  },
  {
   "cell_type": "code",
   "execution_count": 21,
   "metadata": {},
   "outputs": [
    {
     "data": {
      "text/plain": [
       "cluster\n",
       "0   0.41\n",
       "1   0.00\n",
       "2   0.01\n",
       "3   0.01\n",
       "4   1.00\n",
       "Name: churn, dtype: float64"
      ]
     },
     "metadata": {},
     "output_type": "display_data"
    }
   ],
   "source": [
    "#посчитаем долю оттока методом  groupby()\n",
    "share = data.groupby('cluster')['churn'].agg('sum') / data.groupby('cluster')['churn'].size()\n",
    "display(share)\n"
   ]
  },
  {
   "cell_type": "markdown",
   "metadata": {},
   "source": [
    "Как мы уже ранее отметили, кластеры отличаются, по доле оттока: на первом месте стоят кластеры 0 и 4. Наиболее надежными кластерами являются 1, 2, 3 "
   ]
  },
  {
   "cell_type": "markdown",
   "metadata": {},
   "source": [
    "<div class=\"alert alert-success\">\n",
    "<b>Комментарий ревьюера: ✅</b>\n",
    "    \n",
    "Думаю, теперь у коллег из маркетинга будет много дополнительной информации, которую они смогут использовать при разработке дополнительных мероприятий по сокращению оттока.\n",
    "</div>"
   ]
  },
  {
   "cell_type": "markdown",
   "metadata": {},
   "source": [
    "<a id=\"experiment\"></a>\n",
    "\n",
    "##  Шаг 5. Сформулируйте выводы и сделайте базовые рекомендации по работе с клиентами \n"
   ]
  },
  {
   "cell_type": "markdown",
   "metadata": {},
   "source": [
    "**Проанализируем основные признаки, наиболее сильно влияющие на отток фитнес – клуба** \n",
    "\n",
    "* Проживание или работа в районе, где находится фитнес-центр. Анализ показал, что 98% - 100% постоянных клиентов живут или работают поблизости.\n",
    "* Сотрудник компании-партнёра клуба. Этот признак показал разные значения в кластерах. Сильнее всего он обеспечит низкий отток в паре с другим сильным признаком, в частности, с \"Near_Location\". \n",
    "* Покупка абонемента по акции «приведи друга». Процент оттока для этого признака минимальный в связке другим сильным признаком. \n",
    "* Средняя частота посещений в неделю за все время с начала действия абонемента.  \n",
    "* Показатель посещений не меньше 2 раз в неделю обеспечит более низкую вероятность оттока.  \n",
    "\n",
    "**Таким образом, можем выделить основные целевые группы клиентов:**\n",
    "\n",
    "1.\tКлиент живет или работает рядом. Абонемент покупает не впервые без скидки. Посещает зал в среднем больше 2 раз в неделю. Тратит в среднем порядка 157 у.е. на другие услуги центра. Посещает групповые занятия. \n",
    "2.\tКлиент живет или работает рядом. Абонемент покупает впервые по акции «приведи друга» и /или по скидке у работодателя. Длительность абонемента скорее всего 12 месяцев. Тратит порядка 159 -164 у.е. на другие услуги центра. Посещает групповые занятия.\n",
    "\n",
    "**На каких клиентов стоит обратить внимание (высокий риск оттока):**\n",
    "\n",
    "1.\tОбратить внимание прежде всего стоит на клиентов с удобной локацией, вероятнее всего купивших абонемент без скидки и промо на короткий период. Если такой клиент реже 2 раз в неделю посещает зал, редко бывает на групповых занятиях и мало дополнительно тратит (меньше 135 у.е.) – такой клиент в группе риска. \tЗадача удержать таких клиентов. Ведь удобная локация, как мы выяснили является очень сильным признаком, который может услиливать другие признаки.  \n",
    "\n",
    "2.\tВторая группа «рисковых» клиентов - это клиенты с неудобной локацией, купившие абонемент через работодателя не более 3 месяцев назад.  Посещает зал меньше 2 раз в неделю. Тратят на доп.сулуги центра меньше 140 у.е. Редко посещает групповые занятия. \n",
    "\n",
    "\n",
    "**Меры по снижению оттока**\n",
    "\n",
    "1. Первую группу клиентов назовем условно «новичики, проживающие рядом». Для этой группы рекомендовано:  \n",
    "* Организовать интеграцию новичков в клуб, дать им почувствовать себя членами клуба. Предложить начать с групповых тренировок или провести бесплатную персональную тренировку с тренером. Создать эмпатичную обстановку. Поздравлять с днем рождения, с достижением поставленных целей на тренировках.   \n",
    "* Установить автоматизированное клиентское ПО для отправки клиенту электронного письма в случае пропуска им определенного количества дней и отслеживания прогресса клиентов.  \n",
    "* Автоматизировать оплату за абонемент.  \n",
    "* Разработать гибкую программу лояльности для продления членства, предложить бонусные тренировки.  \n",
    "* Вместо скидки на годовой абонемент можно добавить партнерские программы (например, бонусом консультация с диетологом или косметологом, или массаж)  \n",
    "\n",
    "2. Для второй группы клиентов из группы риска, которые много времени тратят на дорогу, можно запустить онлайн-тренировки. Такой сервис хорошо показал себя в период пандемии. Кроме этого, онлайн-тренировки помогут расширить географию клиентов: в клуб приходят только жители микрорайона, а к онлайн-тренировкам можно присоединиться из любой точки мира. Чтобы заинтересовать клиентов новым форматом, можно провести для них бесплатный цикл тренировок. Здесь важно отслеживать динамику клиента, поддерживать связь через общий чат и сделать обязательные отчеты. "
   ]
  },
  {
   "cell_type": "markdown",
   "metadata": {},
   "source": [
    "<div class=\"alert alert-success\">\n",
    "<b>Комментарий ревьюера: ✅</b>\n",
    "    \n",
    "\n",
    "\n",
    "Выводы понятны и логичны, а самое главное подкреплены выявленными фактами.\n",
    "       \n",
    "В целом сам проект выполнен на хорошем уровне! На протяжении всей работы чувствуется глубина проработки задачи и это безусловный плюс для нас. Было использовано большое количество методов, которые будут помогать тебе в дальнейших проектах.\n",
    "        \n",
    "    \n",
    "    \n",
    "Если вдруг будет дополнительный интерес по осовоению дополнительных материалов этой темы, вот достаточно неплохая информация по базовым алгоритмам:\n",
    "    \n",
    "https://compscicenter.ru/courses/data-mining-python/2018-spring/classes/\n",
    "    \n",
    "P.s. Там несколько курсов, по которым можно будет пройтись при желании 😊\n",
    "\n",
    "    \n",
    "</div>"
   ]
  },
  {
   "cell_type": "markdown",
   "metadata": {},
   "source": [
    "<div class=\"alert alert-success\">\n",
    "<b>Комментарий ревьюера: ✅</b>\n",
    "    \n",
    "\n",
    "Возвращаю проект обратно, чтобы убедиться что все мои комментарии понятны.\n",
    "    \n",
    "Если вдруг у тебя возникнут какие-то вопросы, то я с радостью отвечу на них 😊\n",
    "    \n",
    "</div>"
   ]
  },
  {
   "cell_type": "markdown",
   "metadata": {},
   "source": [
    "<div class=\"alert alert-success\">\n",
    "<b>Комментарий ревьюера (2): ✅</b>\n",
    "\n",
    "Рад, что в целом все понятно и что сразу применяешь новые применяешь новые знания, так быстрее запомнишь новые знания. Тогда предлагаю двигаться дальше.\n",
    "    \n",
    "Поздравляю с успешным завершением проекта 😊👍\n",
    "    \n",
    "И желаю успехов в новых работах 😊\n",
    "    \n",
    "    \n",
    "</div>"
   ]
  },
  {
   "cell_type": "code",
   "execution_count": null,
   "metadata": {},
   "outputs": [],
   "source": []
  },
  {
   "cell_type": "code",
   "execution_count": null,
   "metadata": {},
   "outputs": [],
   "source": []
  }
 ],
 "metadata": {
  "ExecuteTimeLog": [
   {
    "duration": 256,
    "start_time": "2022-05-19T02:26:22.963Z"
   },
   {
    "duration": 47,
    "start_time": "2022-05-19T02:27:12.338Z"
   },
   {
    "duration": 82,
    "start_time": "2022-05-19T02:28:52.104Z"
   },
   {
    "duration": 54,
    "start_time": "2022-05-19T02:36:52.188Z"
   },
   {
    "duration": 30,
    "start_time": "2022-05-19T02:40:20.290Z"
   },
   {
    "duration": 3,
    "start_time": "2022-05-19T02:40:27.168Z"
   },
   {
    "duration": 10,
    "start_time": "2022-05-19T02:40:35.008Z"
   },
   {
    "duration": 14,
    "start_time": "2022-05-19T02:41:03.434Z"
   },
   {
    "duration": 6,
    "start_time": "2022-05-19T02:41:25.557Z"
   },
   {
    "duration": 16,
    "start_time": "2022-05-19T02:41:48.504Z"
   },
   {
    "duration": 64,
    "start_time": "2022-05-19T02:45:04.364Z"
   },
   {
    "duration": 49,
    "start_time": "2022-05-19T02:45:09.846Z"
   },
   {
    "duration": 15,
    "start_time": "2022-05-19T02:45:36.622Z"
   },
   {
    "duration": 14,
    "start_time": "2022-05-19T02:46:25.305Z"
   },
   {
    "duration": 12,
    "start_time": "2022-05-19T02:47:00.415Z"
   },
   {
    "duration": 16,
    "start_time": "2022-05-19T02:48:19.817Z"
   },
   {
    "duration": 20,
    "start_time": "2022-05-19T02:48:39.950Z"
   },
   {
    "duration": 103,
    "start_time": "2022-05-19T02:49:27.537Z"
   },
   {
    "duration": 22,
    "start_time": "2022-05-19T02:52:41.792Z"
   },
   {
    "duration": 15,
    "start_time": "2022-05-19T02:52:54.816Z"
   },
   {
    "duration": 4286,
    "start_time": "2022-05-19T02:53:02.518Z"
   },
   {
    "duration": 45,
    "start_time": "2022-05-19T02:54:34.100Z"
   },
   {
    "duration": 12490,
    "start_time": "2022-05-19T03:03:58.626Z"
   },
   {
    "duration": 10263,
    "start_time": "2022-05-19T03:04:34.218Z"
   },
   {
    "duration": 11098,
    "start_time": "2022-05-19T03:05:21.333Z"
   },
   {
    "duration": 4057,
    "start_time": "2022-05-19T03:06:15.601Z"
   },
   {
    "duration": 3613,
    "start_time": "2022-05-19T03:06:25.729Z"
   },
   {
    "duration": 1605,
    "start_time": "2022-05-19T03:07:14.463Z"
   },
   {
    "duration": 72,
    "start_time": "2022-05-19T03:07:16.071Z"
   },
   {
    "duration": 158,
    "start_time": "2022-05-19T03:07:16.145Z"
   },
   {
    "duration": 20,
    "start_time": "2022-05-19T03:07:16.309Z"
   },
   {
    "duration": 3927,
    "start_time": "2022-05-19T03:07:16.336Z"
   },
   {
    "duration": 505,
    "start_time": "2022-05-19T03:07:56.205Z"
   },
   {
    "duration": 26,
    "start_time": "2022-05-19T03:08:24.493Z"
   },
   {
    "duration": 4145,
    "start_time": "2022-05-19T03:09:15.526Z"
   },
   {
    "duration": 46,
    "start_time": "2022-05-19T03:10:06.656Z"
   },
   {
    "duration": 4944,
    "start_time": "2022-05-19T03:10:21.315Z"
   },
   {
    "duration": 1751,
    "start_time": "2022-05-19T03:11:31.255Z"
   },
   {
    "duration": 75,
    "start_time": "2022-05-19T03:11:33.012Z"
   },
   {
    "duration": 142,
    "start_time": "2022-05-19T03:11:33.094Z"
   },
   {
    "duration": 16,
    "start_time": "2022-05-19T03:11:33.238Z"
   },
   {
    "duration": 3874,
    "start_time": "2022-05-19T03:11:33.256Z"
   },
   {
    "duration": 3,
    "start_time": "2022-05-19T03:12:36.721Z"
   },
   {
    "duration": 11,
    "start_time": "2022-05-19T03:12:50.711Z"
   },
   {
    "duration": 4,
    "start_time": "2022-05-19T03:24:33.713Z"
   },
   {
    "duration": 135,
    "start_time": "2022-05-19T03:25:30.944Z"
   },
   {
    "duration": 386,
    "start_time": "2022-05-19T03:27:02.100Z"
   },
   {
    "duration": 31,
    "start_time": "2022-05-19T03:27:35.447Z"
   },
   {
    "duration": 16,
    "start_time": "2022-05-19T03:27:43.401Z"
   },
   {
    "duration": 12,
    "start_time": "2022-05-19T03:28:14.648Z"
   },
   {
    "duration": 1763,
    "start_time": "2022-05-19T03:28:31.476Z"
   },
   {
    "duration": 55,
    "start_time": "2022-05-19T03:28:33.242Z"
   },
   {
    "duration": 128,
    "start_time": "2022-05-19T03:28:33.301Z"
   },
   {
    "duration": 18,
    "start_time": "2022-05-19T03:28:33.432Z"
   },
   {
    "duration": 3963,
    "start_time": "2022-05-19T03:28:33.453Z"
   },
   {
    "duration": 4,
    "start_time": "2022-05-19T03:28:37.419Z"
   },
   {
    "duration": 194,
    "start_time": "2022-05-19T03:28:37.424Z"
   },
   {
    "duration": 10,
    "start_time": "2022-05-19T03:33:04.812Z"
   },
   {
    "duration": 19,
    "start_time": "2022-05-19T03:33:15.540Z"
   },
   {
    "duration": 1636,
    "start_time": "2022-05-19T03:36:07.549Z"
   },
   {
    "duration": 1803,
    "start_time": "2022-05-19T03:40:49.660Z"
   },
   {
    "duration": 1668,
    "start_time": "2022-05-19T03:41:09.039Z"
   },
   {
    "duration": 54,
    "start_time": "2022-05-19T03:59:34.321Z"
   },
   {
    "duration": 22,
    "start_time": "2022-05-19T04:00:25.501Z"
   },
   {
    "duration": 15,
    "start_time": "2022-05-19T04:00:47.757Z"
   },
   {
    "duration": 18,
    "start_time": "2022-05-19T04:06:12.388Z"
   },
   {
    "duration": 445,
    "start_time": "2022-05-19T04:09:34.361Z"
   },
   {
    "duration": 1787,
    "start_time": "2022-05-19T04:11:02.246Z"
   },
   {
    "duration": 61,
    "start_time": "2022-05-19T04:11:04.042Z"
   },
   {
    "duration": 131,
    "start_time": "2022-05-19T04:11:04.110Z"
   },
   {
    "duration": 23,
    "start_time": "2022-05-19T04:11:04.243Z"
   },
   {
    "duration": 3840,
    "start_time": "2022-05-19T04:11:04.268Z"
   },
   {
    "duration": 22,
    "start_time": "2022-05-19T04:11:08.110Z"
   },
   {
    "duration": 1822,
    "start_time": "2022-05-19T04:11:08.133Z"
   },
   {
    "duration": 6,
    "start_time": "2022-05-19T04:11:09.959Z"
   },
   {
    "duration": 205,
    "start_time": "2022-05-19T04:11:09.967Z"
   },
   {
    "duration": 1,
    "start_time": "2022-05-19T04:11:10.173Z"
   },
   {
    "duration": 13,
    "start_time": "2022-05-19T04:11:33.947Z"
   },
   {
    "duration": 7,
    "start_time": "2022-05-19T04:14:11.845Z"
   },
   {
    "duration": 8,
    "start_time": "2022-05-19T04:14:30.510Z"
   },
   {
    "duration": 26,
    "start_time": "2022-05-19T04:14:36.699Z"
   },
   {
    "duration": 7,
    "start_time": "2022-05-19T04:16:03.855Z"
   },
   {
    "duration": 123,
    "start_time": "2022-05-19T04:20:58.508Z"
   },
   {
    "duration": 28,
    "start_time": "2022-05-19T04:24:11.404Z"
   },
   {
    "duration": 4,
    "start_time": "2022-05-19T04:30:04.946Z"
   },
   {
    "duration": 9,
    "start_time": "2022-05-19T04:39:29.766Z"
   },
   {
    "duration": 1667,
    "start_time": "2022-05-19T04:39:40.116Z"
   },
   {
    "duration": 52,
    "start_time": "2022-05-19T04:39:41.785Z"
   },
   {
    "duration": 103,
    "start_time": "2022-05-19T04:39:41.838Z"
   },
   {
    "duration": 14,
    "start_time": "2022-05-19T04:39:41.943Z"
   },
   {
    "duration": 4017,
    "start_time": "2022-05-19T04:39:41.960Z"
   },
   {
    "duration": 24,
    "start_time": "2022-05-19T04:39:45.982Z"
   },
   {
    "duration": 1808,
    "start_time": "2022-05-19T04:39:46.008Z"
   },
   {
    "duration": 5,
    "start_time": "2022-05-19T04:39:47.818Z"
   },
   {
    "duration": 14,
    "start_time": "2022-05-19T04:39:47.824Z"
   },
   {
    "duration": 9,
    "start_time": "2022-05-19T04:39:47.841Z"
   },
   {
    "duration": 3,
    "start_time": "2022-05-19T04:39:47.852Z"
   },
   {
    "duration": 3,
    "start_time": "2022-05-19T04:48:33.523Z"
   },
   {
    "duration": 20,
    "start_time": "2022-05-19T05:00:44.652Z"
   },
   {
    "duration": 0,
    "start_time": "2022-05-19T05:00:44.674Z"
   },
   {
    "duration": 0,
    "start_time": "2022-05-19T05:00:44.688Z"
   },
   {
    "duration": 58,
    "start_time": "2022-05-19T05:00:44.695Z"
   },
   {
    "duration": 0,
    "start_time": "2022-05-19T05:00:44.755Z"
   },
   {
    "duration": 0,
    "start_time": "2022-05-19T05:00:44.756Z"
   },
   {
    "duration": 0,
    "start_time": "2022-05-19T05:00:44.757Z"
   },
   {
    "duration": 0,
    "start_time": "2022-05-19T05:00:44.758Z"
   },
   {
    "duration": 0,
    "start_time": "2022-05-19T05:00:44.759Z"
   },
   {
    "duration": 0,
    "start_time": "2022-05-19T05:00:44.760Z"
   },
   {
    "duration": 0,
    "start_time": "2022-05-19T05:00:44.761Z"
   },
   {
    "duration": 25,
    "start_time": "2022-05-19T05:00:44.763Z"
   },
   {
    "duration": 0,
    "start_time": "2022-05-19T05:00:44.789Z"
   },
   {
    "duration": 1716,
    "start_time": "2022-05-19T05:01:52.330Z"
   },
   {
    "duration": 1729,
    "start_time": "2022-05-19T05:01:59.316Z"
   },
   {
    "duration": 53,
    "start_time": "2022-05-19T05:02:01.047Z"
   },
   {
    "duration": 113,
    "start_time": "2022-05-19T05:02:01.102Z"
   },
   {
    "duration": 20,
    "start_time": "2022-05-19T05:02:01.218Z"
   },
   {
    "duration": 3746,
    "start_time": "2022-05-19T05:02:01.240Z"
   },
   {
    "duration": 28,
    "start_time": "2022-05-19T05:02:04.988Z"
   },
   {
    "duration": 1771,
    "start_time": "2022-05-19T05:02:05.019Z"
   },
   {
    "duration": 8,
    "start_time": "2022-05-19T05:02:06.794Z"
   },
   {
    "duration": 30,
    "start_time": "2022-05-19T05:02:06.804Z"
   },
   {
    "duration": 16,
    "start_time": "2022-05-19T05:02:06.838Z"
   },
   {
    "duration": 18,
    "start_time": "2022-05-19T05:02:06.856Z"
   },
   {
    "duration": 30,
    "start_time": "2022-05-19T05:02:06.887Z"
   },
   {
    "duration": 46,
    "start_time": "2022-05-19T05:02:06.919Z"
   },
   {
    "duration": 52,
    "start_time": "2022-05-19T05:03:24.525Z"
   },
   {
    "duration": 6,
    "start_time": "2022-05-19T05:03:33.017Z"
   },
   {
    "duration": 14,
    "start_time": "2022-05-19T05:03:51.178Z"
   },
   {
    "duration": 14,
    "start_time": "2022-05-19T05:04:18.099Z"
   },
   {
    "duration": 3,
    "start_time": "2022-05-19T05:07:56.269Z"
   },
   {
    "duration": 54,
    "start_time": "2022-05-19T05:11:18.214Z"
   },
   {
    "duration": 7,
    "start_time": "2022-05-19T05:11:22.409Z"
   },
   {
    "duration": 43,
    "start_time": "2022-05-19T05:12:23.907Z"
   },
   {
    "duration": 1807,
    "start_time": "2022-05-19T05:13:26.245Z"
   },
   {
    "duration": 76,
    "start_time": "2022-05-19T05:13:28.054Z"
   },
   {
    "duration": 113,
    "start_time": "2022-05-19T05:13:28.132Z"
   },
   {
    "duration": 15,
    "start_time": "2022-05-19T05:13:28.247Z"
   },
   {
    "duration": 3888,
    "start_time": "2022-05-19T05:13:28.264Z"
   },
   {
    "duration": 44,
    "start_time": "2022-05-19T05:13:32.154Z"
   },
   {
    "duration": 1911,
    "start_time": "2022-05-19T05:13:32.202Z"
   },
   {
    "duration": 5,
    "start_time": "2022-05-19T05:13:34.116Z"
   },
   {
    "duration": 7,
    "start_time": "2022-05-19T05:13:34.122Z"
   },
   {
    "duration": 7,
    "start_time": "2022-05-19T05:13:34.132Z"
   },
   {
    "duration": 5,
    "start_time": "2022-05-19T05:13:34.140Z"
   },
   {
    "duration": 7,
    "start_time": "2022-05-19T05:13:34.147Z"
   },
   {
    "duration": 9,
    "start_time": "2022-05-19T05:13:34.155Z"
   },
   {
    "duration": 36,
    "start_time": "2022-05-19T05:14:49.324Z"
   },
   {
    "duration": 4,
    "start_time": "2022-05-19T05:15:36.161Z"
   },
   {
    "duration": 36,
    "start_time": "2022-05-19T05:18:06.124Z"
   },
   {
    "duration": 32,
    "start_time": "2022-05-19T05:18:23.913Z"
   },
   {
    "duration": 40,
    "start_time": "2022-05-19T05:18:59.700Z"
   },
   {
    "duration": 54,
    "start_time": "2022-05-19T05:19:27.689Z"
   },
   {
    "duration": 8,
    "start_time": "2022-05-19T05:20:08.106Z"
   },
   {
    "duration": 1699,
    "start_time": "2022-05-19T05:20:18.713Z"
   },
   {
    "duration": 46,
    "start_time": "2022-05-19T05:20:20.423Z"
   },
   {
    "duration": 170,
    "start_time": "2022-05-19T05:20:20.471Z"
   },
   {
    "duration": 20,
    "start_time": "2022-05-19T05:20:20.643Z"
   },
   {
    "duration": 4243,
    "start_time": "2022-05-19T05:20:20.665Z"
   },
   {
    "duration": 24,
    "start_time": "2022-05-19T05:20:24.910Z"
   },
   {
    "duration": 1997,
    "start_time": "2022-05-19T05:20:24.936Z"
   },
   {
    "duration": 3,
    "start_time": "2022-05-19T05:20:26.935Z"
   },
   {
    "duration": 7,
    "start_time": "2022-05-19T05:20:26.940Z"
   },
   {
    "duration": 8,
    "start_time": "2022-05-19T05:20:26.950Z"
   },
   {
    "duration": 14,
    "start_time": "2022-05-19T05:20:26.979Z"
   },
   {
    "duration": 31,
    "start_time": "2022-05-19T05:20:26.995Z"
   },
   {
    "duration": 1775,
    "start_time": "2022-05-19T13:09:54.270Z"
   },
   {
    "duration": 59,
    "start_time": "2022-05-19T13:09:56.047Z"
   },
   {
    "duration": 109,
    "start_time": "2022-05-19T13:09:56.108Z"
   },
   {
    "duration": 44,
    "start_time": "2022-05-19T13:09:56.221Z"
   },
   {
    "duration": 4101,
    "start_time": "2022-05-19T13:09:56.268Z"
   },
   {
    "duration": 31,
    "start_time": "2022-05-19T13:10:00.372Z"
   },
   {
    "duration": 2036,
    "start_time": "2022-05-19T13:10:00.405Z"
   },
   {
    "duration": 5,
    "start_time": "2022-05-19T13:10:02.444Z"
   },
   {
    "duration": 24,
    "start_time": "2022-05-19T13:10:02.453Z"
   },
   {
    "duration": 31,
    "start_time": "2022-05-19T13:10:02.480Z"
   },
   {
    "duration": 14,
    "start_time": "2022-05-19T13:10:02.513Z"
   },
   {
    "duration": 15,
    "start_time": "2022-05-19T13:10:02.529Z"
   },
   {
    "duration": 1591,
    "start_time": "2022-05-19T15:31:42.561Z"
   },
   {
    "duration": 46,
    "start_time": "2022-05-19T15:31:44.154Z"
   },
   {
    "duration": 121,
    "start_time": "2022-05-19T15:31:44.203Z"
   },
   {
    "duration": 23,
    "start_time": "2022-05-19T15:31:44.326Z"
   },
   {
    "duration": 1815,
    "start_time": "2022-05-20T09:30:46.780Z"
   },
   {
    "duration": 154,
    "start_time": "2022-05-20T09:30:48.597Z"
   },
   {
    "duration": 84,
    "start_time": "2022-05-20T09:30:48.752Z"
   },
   {
    "duration": 15,
    "start_time": "2022-05-20T09:30:48.838Z"
   },
   {
    "duration": 3348,
    "start_time": "2022-05-20T09:30:48.855Z"
   },
   {
    "duration": 29,
    "start_time": "2022-05-20T09:30:52.205Z"
   },
   {
    "duration": 1764,
    "start_time": "2022-05-20T09:30:52.237Z"
   },
   {
    "duration": 6,
    "start_time": "2022-05-20T09:30:54.003Z"
   },
   {
    "duration": 11,
    "start_time": "2022-05-20T09:30:54.012Z"
   },
   {
    "duration": 22,
    "start_time": "2022-05-20T09:30:54.026Z"
   },
   {
    "duration": 8,
    "start_time": "2022-05-20T09:30:54.051Z"
   },
   {
    "duration": 9,
    "start_time": "2022-05-20T09:30:54.061Z"
   },
   {
    "duration": 2026,
    "start_time": "2022-05-20T10:14:16.129Z"
   },
   {
    "duration": 1612,
    "start_time": "2022-05-20T10:14:36.683Z"
   },
   {
    "duration": 1718,
    "start_time": "2022-05-20T10:16:19.609Z"
   },
   {
    "duration": 182,
    "start_time": "2022-05-20T10:17:12.395Z"
   },
   {
    "duration": 1786,
    "start_time": "2022-05-20T10:17:38.778Z"
   },
   {
    "duration": 1577,
    "start_time": "2022-05-20T10:18:03.279Z"
   },
   {
    "duration": 1524,
    "start_time": "2022-05-20T10:19:41.414Z"
   },
   {
    "duration": 1599,
    "start_time": "2022-05-20T10:19:53.836Z"
   },
   {
    "duration": 1726,
    "start_time": "2022-05-20T10:20:21.588Z"
   },
   {
    "duration": 1601,
    "start_time": "2022-05-20T10:21:20.905Z"
   },
   {
    "duration": 51,
    "start_time": "2022-05-20T16:02:36.796Z"
   },
   {
    "duration": 1606,
    "start_time": "2022-05-20T16:03:17.457Z"
   },
   {
    "duration": 241,
    "start_time": "2022-05-20T16:03:19.066Z"
   },
   {
    "duration": 66,
    "start_time": "2022-05-20T16:03:19.308Z"
   },
   {
    "duration": 18,
    "start_time": "2022-05-20T16:03:19.376Z"
   },
   {
    "duration": 2613,
    "start_time": "2022-05-20T16:03:19.396Z"
   },
   {
    "duration": 14,
    "start_time": "2022-05-20T16:03:22.011Z"
   },
   {
    "duration": 1410,
    "start_time": "2022-05-20T16:03:22.026Z"
   },
   {
    "duration": 4,
    "start_time": "2022-05-20T16:03:23.438Z"
   },
   {
    "duration": 8,
    "start_time": "2022-05-20T16:03:23.444Z"
   },
   {
    "duration": 13,
    "start_time": "2022-05-20T16:03:23.454Z"
   },
   {
    "duration": 17,
    "start_time": "2022-05-20T16:03:23.468Z"
   },
   {
    "duration": 8,
    "start_time": "2022-05-20T16:03:23.486Z"
   },
   {
    "duration": 138,
    "start_time": "2022-05-20T16:03:23.495Z"
   },
   {
    "duration": 33,
    "start_time": "2022-05-20T16:25:44.630Z"
   },
   {
    "duration": 32,
    "start_time": "2022-05-20T16:25:52.655Z"
   },
   {
    "duration": 603,
    "start_time": "2022-05-20T16:58:29.481Z"
   },
   {
    "duration": 518,
    "start_time": "2022-05-20T16:58:56.395Z"
   },
   {
    "duration": 15,
    "start_time": "2022-05-20T17:09:00.727Z"
   },
   {
    "duration": 7,
    "start_time": "2022-05-20T17:10:05.762Z"
   },
   {
    "duration": 13,
    "start_time": "2022-05-20T17:10:15.706Z"
   },
   {
    "duration": 34,
    "start_time": "2022-05-20T17:10:36.230Z"
   },
   {
    "duration": 561,
    "start_time": "2022-05-20T17:13:50.149Z"
   },
   {
    "duration": 598,
    "start_time": "2022-05-20T17:14:51.784Z"
   },
   {
    "duration": 15,
    "start_time": "2022-05-20T17:39:23.977Z"
   },
   {
    "duration": 6,
    "start_time": "2022-05-20T17:42:23.221Z"
   },
   {
    "duration": 1414,
    "start_time": "2022-05-20T17:42:29.249Z"
   },
   {
    "duration": 50,
    "start_time": "2022-05-20T17:42:30.665Z"
   },
   {
    "duration": 86,
    "start_time": "2022-05-20T17:42:30.717Z"
   },
   {
    "duration": 11,
    "start_time": "2022-05-20T17:42:30.805Z"
   },
   {
    "duration": 2833,
    "start_time": "2022-05-20T17:42:30.818Z"
   },
   {
    "duration": 24,
    "start_time": "2022-05-20T17:42:33.653Z"
   },
   {
    "duration": 1374,
    "start_time": "2022-05-20T17:42:33.678Z"
   },
   {
    "duration": 4,
    "start_time": "2022-05-20T17:42:35.054Z"
   },
   {
    "duration": 27,
    "start_time": "2022-05-20T17:42:35.060Z"
   },
   {
    "duration": 28,
    "start_time": "2022-05-20T17:42:35.090Z"
   },
   {
    "duration": 35,
    "start_time": "2022-05-20T17:42:35.119Z"
   },
   {
    "duration": 448,
    "start_time": "2022-05-20T17:42:35.156Z"
   },
   {
    "duration": 3,
    "start_time": "2022-05-20T17:42:35.606Z"
   },
   {
    "duration": 144,
    "start_time": "2022-05-20T17:42:35.610Z"
   },
   {
    "duration": 1766,
    "start_time": "2022-05-20T17:46:57.203Z"
   },
   {
    "duration": 360,
    "start_time": "2022-05-20T17:47:08.633Z"
   },
   {
    "duration": 2132,
    "start_time": "2022-05-20T17:56:26.030Z"
   },
   {
    "duration": 25,
    "start_time": "2022-05-20T18:05:06.777Z"
   },
   {
    "duration": 3239,
    "start_time": "2022-05-20T18:05:34.397Z"
   },
   {
    "duration": 1420,
    "start_time": "2022-05-20T18:08:29.057Z"
   },
   {
    "duration": 43,
    "start_time": "2022-05-20T18:08:30.481Z"
   },
   {
    "duration": 83,
    "start_time": "2022-05-20T18:08:30.525Z"
   },
   {
    "duration": 13,
    "start_time": "2022-05-20T18:08:30.609Z"
   },
   {
    "duration": 3423,
    "start_time": "2022-05-20T18:08:30.623Z"
   },
   {
    "duration": 33,
    "start_time": "2022-05-20T18:08:34.048Z"
   },
   {
    "duration": 1521,
    "start_time": "2022-05-20T18:08:34.083Z"
   },
   {
    "duration": 4,
    "start_time": "2022-05-20T18:08:35.606Z"
   },
   {
    "duration": 25,
    "start_time": "2022-05-20T18:08:35.611Z"
   },
   {
    "duration": 1639,
    "start_time": "2022-05-20T18:08:35.637Z"
   },
   {
    "duration": 569,
    "start_time": "2022-05-20T18:08:37.279Z"
   },
   {
    "duration": 24,
    "start_time": "2022-05-20T18:08:37.852Z"
   },
   {
    "duration": 3172,
    "start_time": "2022-05-20T18:08:44.275Z"
   },
   {
    "duration": 1409,
    "start_time": "2022-05-20T18:13:13.819Z"
   },
   {
    "duration": 46,
    "start_time": "2022-05-20T18:13:15.230Z"
   },
   {
    "duration": 99,
    "start_time": "2022-05-20T18:13:15.278Z"
   },
   {
    "duration": 13,
    "start_time": "2022-05-20T18:13:15.379Z"
   },
   {
    "duration": 3239,
    "start_time": "2022-05-20T18:13:15.394Z"
   },
   {
    "duration": 32,
    "start_time": "2022-05-20T18:13:18.635Z"
   },
   {
    "duration": 1537,
    "start_time": "2022-05-20T18:13:18.668Z"
   },
   {
    "duration": 4,
    "start_time": "2022-05-20T18:13:20.206Z"
   },
   {
    "duration": 23,
    "start_time": "2022-05-20T18:13:20.212Z"
   },
   {
    "duration": 3439,
    "start_time": "2022-05-20T18:13:20.238Z"
   },
   {
    "duration": 569,
    "start_time": "2022-05-20T18:13:23.679Z"
   },
   {
    "duration": 2082,
    "start_time": "2022-05-20T18:13:24.250Z"
   },
   {
    "duration": 40,
    "start_time": "2022-05-20T18:16:55.578Z"
   },
   {
    "duration": 148,
    "start_time": "2022-05-20T18:18:12.535Z"
   },
   {
    "duration": 2769,
    "start_time": "2022-05-20T18:18:38.470Z"
   },
   {
    "duration": 1756,
    "start_time": "2022-05-21T05:14:34.796Z"
   },
   {
    "duration": 79,
    "start_time": "2022-05-21T05:14:36.555Z"
   },
   {
    "duration": 97,
    "start_time": "2022-05-21T05:14:36.636Z"
   },
   {
    "duration": 41,
    "start_time": "2022-05-21T05:14:36.735Z"
   },
   {
    "duration": 3528,
    "start_time": "2022-05-21T05:14:36.779Z"
   },
   {
    "duration": 20,
    "start_time": "2022-05-21T05:14:40.309Z"
   },
   {
    "duration": 1660,
    "start_time": "2022-05-21T05:14:40.331Z"
   },
   {
    "duration": 5,
    "start_time": "2022-05-21T05:14:41.993Z"
   },
   {
    "duration": 9,
    "start_time": "2022-05-21T05:14:42.000Z"
   },
   {
    "duration": 6,
    "start_time": "2022-05-21T05:14:42.011Z"
   },
   {
    "duration": 11,
    "start_time": "2022-05-21T05:14:42.019Z"
   },
   {
    "duration": 264,
    "start_time": "2022-05-21T05:14:42.032Z"
   },
   {
    "duration": 0,
    "start_time": "2022-05-21T05:14:42.297Z"
   },
   {
    "duration": 0,
    "start_time": "2022-05-21T05:14:42.299Z"
   },
   {
    "duration": 5,
    "start_time": "2022-05-21T05:15:47.370Z"
   },
   {
    "duration": 22,
    "start_time": "2022-05-21T05:15:52.842Z"
   },
   {
    "duration": 16,
    "start_time": "2022-05-21T05:19:11.825Z"
   },
   {
    "duration": 15,
    "start_time": "2022-05-21T05:20:58.343Z"
   },
   {
    "duration": 21,
    "start_time": "2022-05-21T05:21:14.882Z"
   },
   {
    "duration": 2174,
    "start_time": "2022-05-21T05:21:20.715Z"
   },
   {
    "duration": 459,
    "start_time": "2022-05-21T05:21:31.000Z"
   },
   {
    "duration": 3332,
    "start_time": "2022-05-21T05:21:36.250Z"
   },
   {
    "duration": 1753,
    "start_time": "2022-05-21T05:24:08.285Z"
   },
   {
    "duration": 43,
    "start_time": "2022-05-21T05:24:10.040Z"
   },
   {
    "duration": 131,
    "start_time": "2022-05-21T05:24:10.086Z"
   },
   {
    "duration": 15,
    "start_time": "2022-05-21T05:24:10.220Z"
   },
   {
    "duration": 3685,
    "start_time": "2022-05-21T05:24:10.237Z"
   },
   {
    "duration": 26,
    "start_time": "2022-05-21T05:24:13.924Z"
   },
   {
    "duration": 2411,
    "start_time": "2022-05-21T05:24:13.952Z"
   },
   {
    "duration": 6,
    "start_time": "2022-05-21T05:24:16.366Z"
   },
   {
    "duration": 19,
    "start_time": "2022-05-21T05:24:16.376Z"
   },
   {
    "duration": 7,
    "start_time": "2022-05-21T05:24:16.399Z"
   },
   {
    "duration": 13,
    "start_time": "2022-05-21T05:24:16.408Z"
   },
   {
    "duration": 304,
    "start_time": "2022-05-21T05:24:16.423Z"
   },
   {
    "duration": 0,
    "start_time": "2022-05-21T05:24:16.728Z"
   },
   {
    "duration": 0,
    "start_time": "2022-05-21T05:24:16.730Z"
   },
   {
    "duration": 21,
    "start_time": "2022-05-21T05:25:02.774Z"
   },
   {
    "duration": 26,
    "start_time": "2022-05-21T05:25:14.266Z"
   },
   {
    "duration": 23,
    "start_time": "2022-05-21T05:30:11.163Z"
   },
   {
    "duration": 7,
    "start_time": "2022-05-21T05:32:23.691Z"
   },
   {
    "duration": 7,
    "start_time": "2022-05-21T05:41:56.258Z"
   },
   {
    "duration": 12,
    "start_time": "2022-05-21T06:08:47.053Z"
   },
   {
    "duration": 12,
    "start_time": "2022-05-21T06:09:17.017Z"
   },
   {
    "duration": 11,
    "start_time": "2022-05-21T06:09:38.546Z"
   },
   {
    "duration": 10,
    "start_time": "2022-05-21T06:09:57.918Z"
   },
   {
    "duration": 13,
    "start_time": "2022-05-21T06:10:16.288Z"
   },
   {
    "duration": 652,
    "start_time": "2022-05-21T06:20:31.212Z"
   },
   {
    "duration": 121662,
    "start_time": "2022-05-21T06:21:38.675Z"
   },
   {
    "duration": 1580,
    "start_time": "2022-05-21T06:40:09.002Z"
   },
   {
    "duration": 60,
    "start_time": "2022-05-21T06:40:10.586Z"
   },
   {
    "duration": 85,
    "start_time": "2022-05-21T06:40:10.648Z"
   },
   {
    "duration": 37,
    "start_time": "2022-05-21T06:40:10.735Z"
   },
   {
    "duration": 3268,
    "start_time": "2022-05-21T06:40:10.774Z"
   },
   {
    "duration": 25,
    "start_time": "2022-05-21T06:40:14.044Z"
   },
   {
    "duration": 1685,
    "start_time": "2022-05-21T06:40:14.070Z"
   },
   {
    "duration": 4,
    "start_time": "2022-05-21T06:40:15.757Z"
   },
   {
    "duration": 9,
    "start_time": "2022-05-21T06:40:15.763Z"
   },
   {
    "duration": 4,
    "start_time": "2022-05-21T06:40:15.774Z"
   },
   {
    "duration": 8,
    "start_time": "2022-05-21T06:40:15.779Z"
   },
   {
    "duration": 272,
    "start_time": "2022-05-21T06:40:15.788Z"
   },
   {
    "duration": 0,
    "start_time": "2022-05-21T06:40:16.064Z"
   },
   {
    "duration": 0,
    "start_time": "2022-05-21T06:40:16.065Z"
   },
   {
    "duration": 18,
    "start_time": "2022-05-21T06:40:31.058Z"
   },
   {
    "duration": 15,
    "start_time": "2022-05-21T06:40:58.092Z"
   },
   {
    "duration": 19,
    "start_time": "2022-05-21T06:41:08.186Z"
   },
   {
    "duration": 18,
    "start_time": "2022-05-21T06:42:29.464Z"
   },
   {
    "duration": 19,
    "start_time": "2022-05-21T06:49:39.416Z"
   },
   {
    "duration": 28,
    "start_time": "2022-05-21T06:51:05.556Z"
   },
   {
    "duration": 19,
    "start_time": "2022-05-21T06:57:18.186Z"
   },
   {
    "duration": 644,
    "start_time": "2022-05-21T06:58:43.454Z"
   },
   {
    "duration": 661,
    "start_time": "2022-05-21T07:00:28.592Z"
   },
   {
    "duration": 127796,
    "start_time": "2022-05-21T07:00:29.257Z"
   },
   {
    "duration": 27,
    "start_time": "2022-05-21T07:08:30.276Z"
   },
   {
    "duration": 1217,
    "start_time": "2022-05-21T07:17:48.854Z"
   },
   {
    "duration": 1254,
    "start_time": "2022-05-21T07:25:46.621Z"
   },
   {
    "duration": 4,
    "start_time": "2022-05-21T07:25:48.972Z"
   },
   {
    "duration": 5,
    "start_time": "2022-05-21T07:25:50.205Z"
   },
   {
    "duration": 17,
    "start_time": "2022-05-21T07:26:28.190Z"
   },
   {
    "duration": 44,
    "start_time": "2022-05-21T07:30:07.957Z"
   },
   {
    "duration": 1598,
    "start_time": "2022-05-21T07:30:21.864Z"
   },
   {
    "duration": 52,
    "start_time": "2022-05-21T07:30:23.464Z"
   },
   {
    "duration": 93,
    "start_time": "2022-05-21T07:30:23.518Z"
   },
   {
    "duration": 14,
    "start_time": "2022-05-21T07:30:23.614Z"
   },
   {
    "duration": 3357,
    "start_time": "2022-05-21T07:30:23.630Z"
   },
   {
    "duration": 26,
    "start_time": "2022-05-21T07:30:26.989Z"
   },
   {
    "duration": 1750,
    "start_time": "2022-05-21T07:30:27.017Z"
   },
   {
    "duration": 5,
    "start_time": "2022-05-21T07:30:28.770Z"
   },
   {
    "duration": 7,
    "start_time": "2022-05-21T07:30:28.778Z"
   },
   {
    "duration": 5,
    "start_time": "2022-05-21T07:30:28.788Z"
   },
   {
    "duration": 11,
    "start_time": "2022-05-21T07:30:28.796Z"
   },
   {
    "duration": 380,
    "start_time": "2022-05-21T07:30:28.810Z"
   },
   {
    "duration": 0,
    "start_time": "2022-05-21T07:30:29.192Z"
   },
   {
    "duration": 0,
    "start_time": "2022-05-21T07:30:29.194Z"
   },
   {
    "duration": 0,
    "start_time": "2022-05-21T07:30:29.196Z"
   },
   {
    "duration": 0,
    "start_time": "2022-05-21T07:30:29.198Z"
   },
   {
    "duration": 0,
    "start_time": "2022-05-21T07:30:29.199Z"
   },
   {
    "duration": 1654,
    "start_time": "2022-05-21T07:35:45.924Z"
   },
   {
    "duration": 34,
    "start_time": "2022-05-21T07:35:47.580Z"
   },
   {
    "duration": 120,
    "start_time": "2022-05-21T07:35:47.617Z"
   },
   {
    "duration": 18,
    "start_time": "2022-05-21T07:35:47.765Z"
   },
   {
    "duration": 3601,
    "start_time": "2022-05-21T07:35:47.785Z"
   },
   {
    "duration": 19,
    "start_time": "2022-05-21T07:35:51.388Z"
   },
   {
    "duration": 1715,
    "start_time": "2022-05-21T07:35:51.408Z"
   },
   {
    "duration": 5,
    "start_time": "2022-05-21T07:35:53.125Z"
   },
   {
    "duration": 10,
    "start_time": "2022-05-21T07:35:53.132Z"
   },
   {
    "duration": 149,
    "start_time": "2022-05-21T07:35:53.144Z"
   },
   {
    "duration": 0,
    "start_time": "2022-05-21T07:35:53.295Z"
   },
   {
    "duration": 0,
    "start_time": "2022-05-21T07:35:53.296Z"
   },
   {
    "duration": 0,
    "start_time": "2022-05-21T07:35:53.297Z"
   },
   {
    "duration": 0,
    "start_time": "2022-05-21T07:35:53.298Z"
   },
   {
    "duration": 0,
    "start_time": "2022-05-21T07:35:53.300Z"
   },
   {
    "duration": 0,
    "start_time": "2022-05-21T07:35:53.302Z"
   },
   {
    "duration": 0,
    "start_time": "2022-05-21T07:35:53.303Z"
   },
   {
    "duration": 1582,
    "start_time": "2022-05-21T07:37:01.968Z"
   },
   {
    "duration": 35,
    "start_time": "2022-05-21T07:37:03.552Z"
   },
   {
    "duration": 134,
    "start_time": "2022-05-21T07:37:03.589Z"
   },
   {
    "duration": 18,
    "start_time": "2022-05-21T07:37:03.725Z"
   },
   {
    "duration": 3602,
    "start_time": "2022-05-21T07:37:03.764Z"
   },
   {
    "duration": 29,
    "start_time": "2022-05-21T07:37:07.367Z"
   },
   {
    "duration": 1844,
    "start_time": "2022-05-21T07:37:07.399Z"
   },
   {
    "duration": 5,
    "start_time": "2022-05-21T07:37:09.245Z"
   },
   {
    "duration": 25,
    "start_time": "2022-05-21T07:37:09.252Z"
   },
   {
    "duration": 1192,
    "start_time": "2022-05-21T07:37:09.280Z"
   },
   {
    "duration": 516,
    "start_time": "2022-05-21T07:37:10.479Z"
   },
   {
    "duration": 5,
    "start_time": "2022-05-21T07:37:10.997Z"
   },
   {
    "duration": 665,
    "start_time": "2022-05-21T07:37:11.006Z"
   },
   {
    "duration": 128349,
    "start_time": "2022-05-21T07:37:11.674Z"
   },
   {
    "duration": 1040,
    "start_time": "2022-05-21T07:39:20.025Z"
   },
   {
    "duration": 4,
    "start_time": "2022-05-21T07:39:21.067Z"
   },
   {
    "duration": 24,
    "start_time": "2022-05-21T07:39:21.073Z"
   },
   {
    "duration": 139,
    "start_time": "2022-05-21T07:44:34.860Z"
   },
   {
    "duration": 8,
    "start_time": "2022-05-21T07:47:56.522Z"
   },
   {
    "duration": 29534,
    "start_time": "2022-05-21T07:48:01.912Z"
   },
   {
    "duration": 9,
    "start_time": "2022-05-21T07:57:24.824Z"
   },
   {
    "duration": 12,
    "start_time": "2022-05-21T07:59:44.981Z"
   },
   {
    "duration": 4234,
    "start_time": "2022-05-21T08:04:59.992Z"
   },
   {
    "duration": 1521,
    "start_time": "2022-05-21T08:07:32.512Z"
   },
   {
    "duration": 33,
    "start_time": "2022-05-21T08:07:34.035Z"
   },
   {
    "duration": 151,
    "start_time": "2022-05-21T08:07:34.069Z"
   },
   {
    "duration": 15,
    "start_time": "2022-05-21T08:07:34.223Z"
   },
   {
    "duration": 3627,
    "start_time": "2022-05-21T08:07:34.240Z"
   },
   {
    "duration": 18,
    "start_time": "2022-05-21T08:07:37.869Z"
   },
   {
    "duration": 1843,
    "start_time": "2022-05-21T08:07:37.889Z"
   },
   {
    "duration": 6,
    "start_time": "2022-05-21T08:07:39.734Z"
   },
   {
    "duration": 18,
    "start_time": "2022-05-21T08:07:39.742Z"
   },
   {
    "duration": 916,
    "start_time": "2022-05-21T08:07:39.764Z"
   },
   {
    "duration": 493,
    "start_time": "2022-05-21T08:07:40.765Z"
   },
   {
    "duration": 5,
    "start_time": "2022-05-21T08:07:41.264Z"
   },
   {
    "duration": 721,
    "start_time": "2022-05-21T08:07:41.270Z"
   },
   {
    "duration": 135323,
    "start_time": "2022-05-21T08:07:41.993Z"
   },
   {
    "duration": 748,
    "start_time": "2022-05-21T08:09:57.318Z"
   },
   {
    "duration": 4,
    "start_time": "2022-05-21T08:09:58.068Z"
   },
   {
    "duration": 106,
    "start_time": "2022-05-21T08:09:58.074Z"
   },
   {
    "duration": 5421,
    "start_time": "2022-05-21T08:09:58.183Z"
   },
   {
    "duration": 39312,
    "start_time": "2022-05-21T08:10:03.607Z"
   },
   {
    "duration": 10,
    "start_time": "2022-05-21T08:10:42.927Z"
   },
   {
    "duration": 1498,
    "start_time": "2022-05-21T08:15:09.292Z"
   },
   {
    "duration": 33,
    "start_time": "2022-05-21T08:15:10.792Z"
   },
   {
    "duration": 97,
    "start_time": "2022-05-21T08:15:10.827Z"
   },
   {
    "duration": 14,
    "start_time": "2022-05-21T08:15:10.925Z"
   },
   {
    "duration": 3309,
    "start_time": "2022-05-21T08:15:10.941Z"
   },
   {
    "duration": 25,
    "start_time": "2022-05-21T08:15:14.252Z"
   },
   {
    "duration": 1624,
    "start_time": "2022-05-21T08:15:14.279Z"
   },
   {
    "duration": 5,
    "start_time": "2022-05-21T08:15:15.904Z"
   },
   {
    "duration": 16,
    "start_time": "2022-05-21T08:15:15.910Z"
   },
   {
    "duration": 1237,
    "start_time": "2022-05-21T08:15:15.928Z"
   },
   {
    "duration": 497,
    "start_time": "2022-05-21T08:15:17.171Z"
   },
   {
    "duration": 3,
    "start_time": "2022-05-21T08:15:17.670Z"
   },
   {
    "duration": 629,
    "start_time": "2022-05-21T08:15:17.675Z"
   },
   {
    "duration": 124378,
    "start_time": "2022-05-21T08:15:18.308Z"
   },
   {
    "duration": 1277,
    "start_time": "2022-05-21T08:17:22.688Z"
   },
   {
    "duration": 4,
    "start_time": "2022-05-21T08:17:23.967Z"
   },
   {
    "duration": 18,
    "start_time": "2022-05-21T08:17:23.972Z"
   },
   {
    "duration": 4107,
    "start_time": "2022-05-21T08:17:23.992Z"
   },
   {
    "duration": 4,
    "start_time": "2022-05-21T08:17:28.101Z"
   },
   {
    "duration": 34,
    "start_time": "2022-05-21T08:17:28.107Z"
   },
   {
    "duration": 1213,
    "start_time": "2022-05-21T08:18:16.857Z"
   },
   {
    "duration": 3,
    "start_time": "2022-05-21T08:18:19.762Z"
   },
   {
    "duration": 18,
    "start_time": "2022-05-21T08:18:23.114Z"
   },
   {
    "duration": 4315,
    "start_time": "2022-05-21T08:18:56.276Z"
   },
   {
    "duration": 10,
    "start_time": "2022-05-21T08:19:46.691Z"
   },
   {
    "duration": 1654,
    "start_time": "2022-05-21T08:24:18.254Z"
   },
   {
    "duration": 33,
    "start_time": "2022-05-21T08:24:19.910Z"
   },
   {
    "duration": 91,
    "start_time": "2022-05-21T08:24:19.945Z"
   },
   {
    "duration": 33,
    "start_time": "2022-05-21T08:24:20.038Z"
   },
   {
    "duration": 3221,
    "start_time": "2022-05-21T08:24:20.073Z"
   },
   {
    "duration": 16,
    "start_time": "2022-05-21T08:24:23.296Z"
   },
   {
    "duration": 1629,
    "start_time": "2022-05-21T08:24:23.314Z"
   },
   {
    "duration": 5,
    "start_time": "2022-05-21T08:24:24.945Z"
   },
   {
    "duration": 23,
    "start_time": "2022-05-21T08:24:24.952Z"
   },
   {
    "duration": 1088,
    "start_time": "2022-05-21T08:24:24.978Z"
   },
   {
    "duration": 475,
    "start_time": "2022-05-21T08:24:26.068Z"
   },
   {
    "duration": 3,
    "start_time": "2022-05-21T08:24:26.544Z"
   },
   {
    "duration": 619,
    "start_time": "2022-05-21T08:24:26.549Z"
   },
   {
    "duration": 122592,
    "start_time": "2022-05-21T08:24:27.170Z"
   },
   {
    "duration": 1110,
    "start_time": "2022-05-21T08:26:29.763Z"
   },
   {
    "duration": 4,
    "start_time": "2022-05-21T08:26:30.965Z"
   },
   {
    "duration": 27,
    "start_time": "2022-05-21T08:26:30.971Z"
   },
   {
    "duration": 4373,
    "start_time": "2022-05-21T08:26:30.999Z"
   },
   {
    "duration": 3,
    "start_time": "2022-05-21T08:26:35.374Z"
   },
   {
    "duration": 23,
    "start_time": "2022-05-21T08:26:35.379Z"
   },
   {
    "duration": 45,
    "start_time": "2022-05-21T08:43:59.019Z"
   },
   {
    "duration": 5,
    "start_time": "2022-05-21T08:44:32.383Z"
   },
   {
    "duration": 21,
    "start_time": "2022-05-21T08:44:54.998Z"
   },
   {
    "duration": 149,
    "start_time": "2022-05-21T08:45:00.894Z"
   },
   {
    "duration": 38,
    "start_time": "2022-05-21T08:45:47.564Z"
   },
   {
    "duration": 4,
    "start_time": "2022-05-21T08:47:19.763Z"
   },
   {
    "duration": 5,
    "start_time": "2022-05-21T08:47:28.469Z"
   },
   {
    "duration": 17,
    "start_time": "2022-05-21T08:47:39.092Z"
   },
   {
    "duration": 19,
    "start_time": "2022-05-21T08:47:51.781Z"
   },
   {
    "duration": 2,
    "start_time": "2022-05-21T08:49:04.294Z"
   },
   {
    "duration": 12,
    "start_time": "2022-05-21T08:52:17.576Z"
   },
   {
    "duration": 110,
    "start_time": "2022-05-21T08:52:46.156Z"
   },
   {
    "duration": 27147,
    "start_time": "2022-05-21T09:52:15.702Z"
   },
   {
    "duration": 34,
    "start_time": "2022-05-21T10:15:10.700Z"
   },
   {
    "duration": 25,
    "start_time": "2022-05-21T10:19:20.284Z"
   },
   {
    "duration": 27,
    "start_time": "2022-05-21T10:19:28.183Z"
   },
   {
    "duration": 24,
    "start_time": "2022-05-21T10:19:36.988Z"
   },
   {
    "duration": 27,
    "start_time": "2022-05-21T10:19:48.556Z"
   },
   {
    "duration": 35,
    "start_time": "2022-05-21T10:20:01.619Z"
   },
   {
    "duration": 29,
    "start_time": "2022-05-21T10:20:19.902Z"
   },
   {
    "duration": 37,
    "start_time": "2022-05-21T10:20:35.124Z"
   },
   {
    "duration": 20,
    "start_time": "2022-05-21T10:25:50.666Z"
   },
   {
    "duration": 17,
    "start_time": "2022-05-21T10:27:03.797Z"
   },
   {
    "duration": 344,
    "start_time": "2022-05-21T10:28:27.361Z"
   },
   {
    "duration": 1383,
    "start_time": "2022-05-21T10:28:50.802Z"
   },
   {
    "duration": 24,
    "start_time": "2022-05-21T10:40:15.298Z"
   },
   {
    "duration": 22,
    "start_time": "2022-05-21T10:41:18.754Z"
   },
   {
    "duration": 25,
    "start_time": "2022-05-21T10:41:24.871Z"
   },
   {
    "duration": 6,
    "start_time": "2022-05-21T10:45:40.220Z"
   },
   {
    "duration": 7,
    "start_time": "2022-05-21T10:45:50.285Z"
   },
   {
    "duration": 6,
    "start_time": "2022-05-21T10:45:55.882Z"
   },
   {
    "duration": 15,
    "start_time": "2022-05-21T10:52:12.810Z"
   },
   {
    "duration": 20,
    "start_time": "2022-05-21T10:54:37.387Z"
   },
   {
    "duration": 21,
    "start_time": "2022-05-21T10:54:53.880Z"
   },
   {
    "duration": 18,
    "start_time": "2022-05-21T10:56:51.788Z"
   },
   {
    "duration": 21,
    "start_time": "2022-05-21T10:57:24.590Z"
   },
   {
    "duration": 30,
    "start_time": "2022-05-21T11:21:16.471Z"
   },
   {
    "duration": 23,
    "start_time": "2022-05-21T11:21:50.211Z"
   },
   {
    "duration": 20,
    "start_time": "2022-05-21T11:21:59.615Z"
   },
   {
    "duration": 34,
    "start_time": "2022-05-21T11:22:06.158Z"
   },
   {
    "duration": 33,
    "start_time": "2022-05-21T11:23:10.190Z"
   },
   {
    "duration": 29,
    "start_time": "2022-05-21T11:23:28.190Z"
   },
   {
    "duration": 1671,
    "start_time": "2022-05-21T11:23:40.864Z"
   },
   {
    "duration": 37,
    "start_time": "2022-05-21T11:23:42.537Z"
   },
   {
    "duration": 121,
    "start_time": "2022-05-21T11:23:42.576Z"
   },
   {
    "duration": 11,
    "start_time": "2022-05-21T11:23:42.700Z"
   },
   {
    "duration": 3573,
    "start_time": "2022-05-21T11:23:42.713Z"
   },
   {
    "duration": 167,
    "start_time": "2022-05-21T11:23:46.288Z"
   },
   {
    "duration": 0,
    "start_time": "2022-05-21T11:23:46.457Z"
   },
   {
    "duration": 0,
    "start_time": "2022-05-21T11:23:46.465Z"
   },
   {
    "duration": 0,
    "start_time": "2022-05-21T11:23:46.466Z"
   },
   {
    "duration": 0,
    "start_time": "2022-05-21T11:23:46.468Z"
   },
   {
    "duration": 0,
    "start_time": "2022-05-21T11:23:46.470Z"
   },
   {
    "duration": 0,
    "start_time": "2022-05-21T11:23:46.471Z"
   },
   {
    "duration": 0,
    "start_time": "2022-05-21T11:23:46.473Z"
   },
   {
    "duration": 0,
    "start_time": "2022-05-21T11:23:46.474Z"
   },
   {
    "duration": 0,
    "start_time": "2022-05-21T11:23:46.476Z"
   },
   {
    "duration": 0,
    "start_time": "2022-05-21T11:23:46.478Z"
   },
   {
    "duration": 0,
    "start_time": "2022-05-21T11:23:46.480Z"
   },
   {
    "duration": 0,
    "start_time": "2022-05-21T11:23:46.481Z"
   },
   {
    "duration": 0,
    "start_time": "2022-05-21T11:23:46.483Z"
   },
   {
    "duration": 0,
    "start_time": "2022-05-21T11:23:46.484Z"
   },
   {
    "duration": 0,
    "start_time": "2022-05-21T11:23:46.486Z"
   },
   {
    "duration": 0,
    "start_time": "2022-05-21T11:23:46.487Z"
   },
   {
    "duration": 0,
    "start_time": "2022-05-21T11:23:46.489Z"
   },
   {
    "duration": 0,
    "start_time": "2022-05-21T11:23:46.491Z"
   },
   {
    "duration": 0,
    "start_time": "2022-05-21T11:23:46.492Z"
   },
   {
    "duration": 0,
    "start_time": "2022-05-21T11:23:46.494Z"
   },
   {
    "duration": 1492,
    "start_time": "2022-05-21T11:25:06.599Z"
   },
   {
    "duration": 34,
    "start_time": "2022-05-21T11:25:08.094Z"
   },
   {
    "duration": 94,
    "start_time": "2022-05-21T11:25:08.129Z"
   },
   {
    "duration": 41,
    "start_time": "2022-05-21T11:25:08.225Z"
   },
   {
    "duration": 3396,
    "start_time": "2022-05-21T11:25:08.268Z"
   },
   {
    "duration": 3,
    "start_time": "2022-05-21T11:25:11.666Z"
   },
   {
    "duration": 8,
    "start_time": "2022-05-21T11:25:11.672Z"
   },
   {
    "duration": 0,
    "start_time": "2022-05-21T11:25:11.682Z"
   },
   {
    "duration": 1,
    "start_time": "2022-05-21T11:25:11.683Z"
   },
   {
    "duration": 0,
    "start_time": "2022-05-21T11:25:11.684Z"
   },
   {
    "duration": 0,
    "start_time": "2022-05-21T11:25:11.686Z"
   },
   {
    "duration": 0,
    "start_time": "2022-05-21T11:25:11.687Z"
   },
   {
    "duration": 0,
    "start_time": "2022-05-21T11:25:11.688Z"
   },
   {
    "duration": 0,
    "start_time": "2022-05-21T11:25:11.689Z"
   },
   {
    "duration": 0,
    "start_time": "2022-05-21T11:25:11.691Z"
   },
   {
    "duration": 0,
    "start_time": "2022-05-21T11:25:11.692Z"
   },
   {
    "duration": 0,
    "start_time": "2022-05-21T11:25:11.693Z"
   },
   {
    "duration": 0,
    "start_time": "2022-05-21T11:25:11.694Z"
   },
   {
    "duration": 0,
    "start_time": "2022-05-21T11:25:11.695Z"
   },
   {
    "duration": 0,
    "start_time": "2022-05-21T11:25:11.696Z"
   },
   {
    "duration": 0,
    "start_time": "2022-05-21T11:25:11.697Z"
   },
   {
    "duration": 0,
    "start_time": "2022-05-21T11:25:11.698Z"
   },
   {
    "duration": 0,
    "start_time": "2022-05-21T11:25:11.699Z"
   },
   {
    "duration": 0,
    "start_time": "2022-05-21T11:25:11.701Z"
   },
   {
    "duration": 0,
    "start_time": "2022-05-21T11:25:11.702Z"
   },
   {
    "duration": 0,
    "start_time": "2022-05-21T11:25:11.703Z"
   },
   {
    "duration": 50,
    "start_time": "2022-05-21T11:27:34.394Z"
   },
   {
    "duration": 31,
    "start_time": "2022-05-21T11:28:20.653Z"
   },
   {
    "duration": 37,
    "start_time": "2022-05-21T11:28:35.713Z"
   },
   {
    "duration": 32,
    "start_time": "2022-05-21T11:30:39.978Z"
   },
   {
    "duration": 32,
    "start_time": "2022-05-21T11:33:25.175Z"
   },
   {
    "duration": 57,
    "start_time": "2022-05-21T11:33:42.947Z"
   },
   {
    "duration": 46,
    "start_time": "2022-05-21T11:33:48.365Z"
   },
   {
    "duration": 31,
    "start_time": "2022-05-21T11:33:52.314Z"
   },
   {
    "duration": 45,
    "start_time": "2022-05-21T11:33:57.700Z"
   },
   {
    "duration": 44,
    "start_time": "2022-05-21T11:34:00.880Z"
   },
   {
    "duration": 23,
    "start_time": "2022-05-21T11:34:06.561Z"
   },
   {
    "duration": 54,
    "start_time": "2022-05-21T11:34:09.257Z"
   },
   {
    "duration": 35,
    "start_time": "2022-05-21T11:34:13.069Z"
   },
   {
    "duration": 32,
    "start_time": "2022-05-21T11:37:06.528Z"
   },
   {
    "duration": 58,
    "start_time": "2022-05-21T11:37:12.072Z"
   },
   {
    "duration": 139,
    "start_time": "2022-05-21T11:40:15.227Z"
   },
   {
    "duration": 25,
    "start_time": "2022-05-21T11:40:26.188Z"
   },
   {
    "duration": 431,
    "start_time": "2022-05-21T11:42:46.704Z"
   },
   {
    "duration": 836,
    "start_time": "2022-05-21T11:46:15.521Z"
   },
   {
    "duration": 709,
    "start_time": "2022-05-21T11:46:29.701Z"
   },
   {
    "duration": 720,
    "start_time": "2022-05-21T11:47:50.306Z"
   },
   {
    "duration": 779,
    "start_time": "2022-05-21T11:48:45.308Z"
   },
   {
    "duration": 1661,
    "start_time": "2022-05-21T12:17:13.341Z"
   },
   {
    "duration": 43,
    "start_time": "2022-05-21T12:17:15.004Z"
   },
   {
    "duration": 125,
    "start_time": "2022-05-21T12:17:15.050Z"
   },
   {
    "duration": 13,
    "start_time": "2022-05-21T12:17:15.178Z"
   },
   {
    "duration": 3396,
    "start_time": "2022-05-21T12:17:15.193Z"
   },
   {
    "duration": 808,
    "start_time": "2022-05-21T12:17:18.591Z"
   },
   {
    "duration": 5,
    "start_time": "2022-05-21T12:17:19.401Z"
   },
   {
    "duration": 0,
    "start_time": "2022-05-21T12:17:19.408Z"
   },
   {
    "duration": 0,
    "start_time": "2022-05-21T12:17:19.410Z"
   },
   {
    "duration": 0,
    "start_time": "2022-05-21T12:17:19.411Z"
   },
   {
    "duration": 0,
    "start_time": "2022-05-21T12:17:19.412Z"
   },
   {
    "duration": 0,
    "start_time": "2022-05-21T12:17:19.413Z"
   },
   {
    "duration": 0,
    "start_time": "2022-05-21T12:17:19.414Z"
   },
   {
    "duration": 0,
    "start_time": "2022-05-21T12:17:19.415Z"
   },
   {
    "duration": 0,
    "start_time": "2022-05-21T12:17:19.416Z"
   },
   {
    "duration": 0,
    "start_time": "2022-05-21T12:17:19.417Z"
   },
   {
    "duration": 0,
    "start_time": "2022-05-21T12:17:19.418Z"
   },
   {
    "duration": 0,
    "start_time": "2022-05-21T12:17:19.420Z"
   },
   {
    "duration": 0,
    "start_time": "2022-05-21T12:17:19.421Z"
   },
   {
    "duration": 0,
    "start_time": "2022-05-21T12:17:19.422Z"
   },
   {
    "duration": 0,
    "start_time": "2022-05-21T12:17:19.423Z"
   },
   {
    "duration": 0,
    "start_time": "2022-05-21T12:17:19.424Z"
   },
   {
    "duration": 0,
    "start_time": "2022-05-21T12:17:19.425Z"
   },
   {
    "duration": 0,
    "start_time": "2022-05-21T12:17:19.464Z"
   },
   {
    "duration": 0,
    "start_time": "2022-05-21T12:17:19.466Z"
   },
   {
    "duration": 1655,
    "start_time": "2022-05-21T12:18:17.774Z"
   },
   {
    "duration": 38,
    "start_time": "2022-05-21T12:18:19.431Z"
   },
   {
    "duration": 105,
    "start_time": "2022-05-21T12:18:19.470Z"
   },
   {
    "duration": 11,
    "start_time": "2022-05-21T12:18:19.576Z"
   },
   {
    "duration": 3457,
    "start_time": "2022-05-21T12:18:19.589Z"
   },
   {
    "duration": 3,
    "start_time": "2022-05-21T12:18:23.048Z"
   },
   {
    "duration": 19,
    "start_time": "2022-05-21T12:18:23.052Z"
   },
   {
    "duration": 6,
    "start_time": "2022-05-21T12:18:23.073Z"
   },
   {
    "duration": 30,
    "start_time": "2022-05-21T12:18:23.081Z"
   },
   {
    "duration": 1711,
    "start_time": "2022-05-21T12:18:23.114Z"
   },
   {
    "duration": 5,
    "start_time": "2022-05-21T12:18:24.827Z"
   },
   {
    "duration": 37,
    "start_time": "2022-05-21T12:18:24.834Z"
   },
   {
    "duration": 1294,
    "start_time": "2022-05-21T12:18:24.873Z"
   },
   {
    "duration": 503,
    "start_time": "2022-05-21T12:18:26.170Z"
   },
   {
    "duration": 2,
    "start_time": "2022-05-21T12:18:26.675Z"
   },
   {
    "duration": 648,
    "start_time": "2022-05-21T12:18:26.679Z"
   },
   {
    "duration": 126781,
    "start_time": "2022-05-21T12:18:27.329Z"
   },
   {
    "duration": 1253,
    "start_time": "2022-05-21T12:20:34.112Z"
   },
   {
    "duration": 4,
    "start_time": "2022-05-21T12:20:35.367Z"
   },
   {
    "duration": 17,
    "start_time": "2022-05-21T12:20:35.372Z"
   },
   {
    "duration": 197,
    "start_time": "2022-05-21T12:20:35.391Z"
   },
   {
    "duration": 0,
    "start_time": "2022-05-21T12:20:35.590Z"
   },
   {
    "duration": 0,
    "start_time": "2022-05-21T12:20:35.592Z"
   },
   {
    "duration": 0,
    "start_time": "2022-05-21T12:20:35.594Z"
   },
   {
    "duration": 0,
    "start_time": "2022-05-21T12:20:35.595Z"
   },
   {
    "duration": 4297,
    "start_time": "2022-05-21T12:31:53.383Z"
   },
   {
    "duration": 9,
    "start_time": "2022-05-21T13:17:31.930Z"
   },
   {
    "duration": 1581,
    "start_time": "2022-05-21T15:28:44.600Z"
   },
   {
    "duration": 34,
    "start_time": "2022-05-21T15:28:46.183Z"
   },
   {
    "duration": 118,
    "start_time": "2022-05-21T15:28:46.218Z"
   },
   {
    "duration": 30,
    "start_time": "2022-05-21T15:28:46.338Z"
   },
   {
    "duration": 3444,
    "start_time": "2022-05-21T15:28:46.371Z"
   },
   {
    "duration": 3,
    "start_time": "2022-05-21T15:28:49.818Z"
   },
   {
    "duration": 11,
    "start_time": "2022-05-21T15:28:49.823Z"
   },
   {
    "duration": 5,
    "start_time": "2022-05-21T15:28:49.836Z"
   },
   {
    "duration": 30,
    "start_time": "2022-05-21T15:28:49.843Z"
   },
   {
    "duration": 1656,
    "start_time": "2022-05-21T15:28:49.875Z"
   },
   {
    "duration": 4,
    "start_time": "2022-05-21T15:28:51.532Z"
   },
   {
    "duration": 31,
    "start_time": "2022-05-21T15:28:51.538Z"
   },
   {
    "duration": 1299,
    "start_time": "2022-05-21T15:28:51.572Z"
   },
   {
    "duration": 480,
    "start_time": "2022-05-21T15:28:52.875Z"
   },
   {
    "duration": 9,
    "start_time": "2022-05-21T15:28:53.357Z"
   },
   {
    "duration": 641,
    "start_time": "2022-05-21T15:28:53.367Z"
   },
   {
    "duration": 124979,
    "start_time": "2022-05-21T15:28:54.010Z"
   },
   {
    "duration": 1283,
    "start_time": "2022-05-21T15:30:58.991Z"
   },
   {
    "duration": 88,
    "start_time": "2022-05-21T15:31:00.278Z"
   },
   {
    "duration": 33,
    "start_time": "2022-05-21T15:31:00.367Z"
   },
   {
    "duration": 23,
    "start_time": "2022-05-21T15:31:00.402Z"
   },
   {
    "duration": 25,
    "start_time": "2022-05-21T15:31:00.427Z"
   },
   {
    "duration": 4661,
    "start_time": "2022-05-21T15:31:00.454Z"
   },
   {
    "duration": 4,
    "start_time": "2022-05-21T15:31:05.118Z"
   },
   {
    "duration": 26,
    "start_time": "2022-05-21T15:31:05.125Z"
   },
   {
    "duration": 1559,
    "start_time": "2022-05-21T15:43:14.920Z"
   },
   {
    "duration": 34,
    "start_time": "2022-05-21T15:43:16.480Z"
   },
   {
    "duration": 107,
    "start_time": "2022-05-21T15:43:16.515Z"
   },
   {
    "duration": 12,
    "start_time": "2022-05-21T15:43:16.625Z"
   },
   {
    "duration": 3550,
    "start_time": "2022-05-21T15:43:16.639Z"
   },
   {
    "duration": 20,
    "start_time": "2022-05-21T15:43:20.191Z"
   },
   {
    "duration": 1656,
    "start_time": "2022-05-21T15:43:20.213Z"
   },
   {
    "duration": 4,
    "start_time": "2022-05-21T15:43:21.871Z"
   },
   {
    "duration": 17,
    "start_time": "2022-05-21T15:43:21.877Z"
   },
   {
    "duration": 1192,
    "start_time": "2022-05-21T15:43:21.897Z"
   },
   {
    "duration": 413,
    "start_time": "2022-05-21T15:43:23.091Z"
   },
   {
    "duration": 644,
    "start_time": "2022-05-21T15:43:23.506Z"
   },
   {
    "duration": 126168,
    "start_time": "2022-05-21T15:43:24.152Z"
   },
   {
    "duration": 1043,
    "start_time": "2022-05-21T15:45:30.322Z"
   },
   {
    "duration": 4,
    "start_time": "2022-05-21T15:45:31.367Z"
   },
   {
    "duration": 26,
    "start_time": "2022-05-21T15:45:31.374Z"
   },
   {
    "duration": 5075,
    "start_time": "2022-05-21T15:45:31.402Z"
   },
   {
    "duration": 12,
    "start_time": "2022-05-21T15:45:36.479Z"
   },
   {
    "duration": 1560,
    "start_time": "2022-05-21T15:56:24.785Z"
   },
   {
    "duration": 33,
    "start_time": "2022-05-21T15:56:26.347Z"
   },
   {
    "duration": 110,
    "start_time": "2022-05-21T15:56:26.382Z"
   },
   {
    "duration": 12,
    "start_time": "2022-05-21T15:56:26.495Z"
   },
   {
    "duration": 3474,
    "start_time": "2022-05-21T15:56:26.508Z"
   },
   {
    "duration": 19,
    "start_time": "2022-05-21T15:56:29.984Z"
   },
   {
    "duration": 1783,
    "start_time": "2022-05-21T15:56:30.004Z"
   },
   {
    "duration": 4,
    "start_time": "2022-05-21T15:56:31.790Z"
   },
   {
    "duration": 28,
    "start_time": "2022-05-21T15:56:31.796Z"
   },
   {
    "duration": 1850,
    "start_time": "2022-05-21T15:56:31.827Z"
   },
   {
    "duration": 412,
    "start_time": "2022-05-21T15:56:33.679Z"
   },
   {
    "duration": 626,
    "start_time": "2022-05-21T15:56:34.093Z"
   },
   {
    "duration": 127539,
    "start_time": "2022-05-21T15:56:34.720Z"
   },
   {
    "duration": 1211,
    "start_time": "2022-05-21T15:58:42.264Z"
   },
   {
    "duration": 3,
    "start_time": "2022-05-21T15:58:43.566Z"
   },
   {
    "duration": 15,
    "start_time": "2022-05-21T15:58:43.571Z"
   },
   {
    "duration": 4639,
    "start_time": "2022-05-21T15:58:43.588Z"
   },
   {
    "duration": 10,
    "start_time": "2022-05-21T15:58:48.228Z"
   },
   {
    "duration": 1834,
    "start_time": "2022-05-23T11:12:05.792Z"
   },
   {
    "duration": 186,
    "start_time": "2022-05-23T11:12:07.635Z"
   },
   {
    "duration": 110,
    "start_time": "2022-05-23T11:12:07.822Z"
   },
   {
    "duration": 13,
    "start_time": "2022-05-23T11:12:07.934Z"
   },
   {
    "duration": 3185,
    "start_time": "2022-05-23T11:12:07.949Z"
   },
   {
    "duration": 19,
    "start_time": "2022-05-23T11:12:11.135Z"
   },
   {
    "duration": 1671,
    "start_time": "2022-05-23T11:12:11.155Z"
   },
   {
    "duration": 11,
    "start_time": "2022-05-23T11:12:12.828Z"
   },
   {
    "duration": 18,
    "start_time": "2022-05-23T11:12:12.841Z"
   },
   {
    "duration": 5558,
    "start_time": "2022-05-23T11:12:12.861Z"
   },
   {
    "duration": 399,
    "start_time": "2022-05-23T11:12:18.420Z"
   },
   {
    "duration": 567,
    "start_time": "2022-05-23T11:12:18.824Z"
   },
   {
    "duration": 119983,
    "start_time": "2022-05-23T11:12:19.392Z"
   },
   {
    "duration": 641,
    "start_time": "2022-05-23T11:14:19.377Z"
   },
   {
    "duration": 5,
    "start_time": "2022-05-23T11:14:20.019Z"
   },
   {
    "duration": 31,
    "start_time": "2022-05-23T11:14:20.025Z"
   },
   {
    "duration": 4287,
    "start_time": "2022-05-23T11:14:20.057Z"
   },
   {
    "duration": 1624,
    "start_time": "2022-05-23T11:14:24.347Z"
   },
   {
    "duration": 369,
    "start_time": "2022-05-23T11:15:10.138Z"
   },
   {
    "duration": 146,
    "start_time": "2022-05-23T11:29:41.998Z"
   },
   {
    "duration": 15,
    "start_time": "2022-05-23T11:30:06.495Z"
   },
   {
    "duration": 20,
    "start_time": "2022-05-23T11:30:15.705Z"
   },
   {
    "duration": 16,
    "start_time": "2022-05-23T11:31:24.270Z"
   },
   {
    "duration": 14,
    "start_time": "2022-05-23T11:31:27.593Z"
   },
   {
    "duration": 17,
    "start_time": "2022-05-23T11:32:00.531Z"
   },
   {
    "duration": 14,
    "start_time": "2022-05-23T11:32:31.039Z"
   },
   {
    "duration": 15,
    "start_time": "2022-05-23T11:32:54.638Z"
   },
   {
    "duration": 1450,
    "start_time": "2022-05-23T11:33:03.590Z"
   },
   {
    "duration": 43,
    "start_time": "2022-05-23T11:33:05.045Z"
   },
   {
    "duration": 93,
    "start_time": "2022-05-23T11:33:05.089Z"
   },
   {
    "duration": 11,
    "start_time": "2022-05-23T11:33:05.185Z"
   },
   {
    "duration": 3347,
    "start_time": "2022-05-23T11:33:05.212Z"
   },
   {
    "duration": 16,
    "start_time": "2022-05-23T11:33:08.561Z"
   },
   {
    "duration": 1603,
    "start_time": "2022-05-23T11:33:08.579Z"
   },
   {
    "duration": 4,
    "start_time": "2022-05-23T11:33:10.184Z"
   },
   {
    "duration": 38,
    "start_time": "2022-05-23T11:33:10.189Z"
   },
   {
    "duration": 3493,
    "start_time": "2022-05-23T11:33:10.239Z"
   },
   {
    "duration": 453,
    "start_time": "2022-05-23T11:33:13.734Z"
   },
   {
    "duration": 156,
    "start_time": "2022-05-23T11:33:14.189Z"
   },
   {
    "duration": 0,
    "start_time": "2022-05-23T11:33:14.346Z"
   },
   {
    "duration": 0,
    "start_time": "2022-05-23T11:33:14.348Z"
   },
   {
    "duration": 0,
    "start_time": "2022-05-23T11:33:14.349Z"
   },
   {
    "duration": 0,
    "start_time": "2022-05-23T11:33:14.351Z"
   },
   {
    "duration": 0,
    "start_time": "2022-05-23T11:33:14.352Z"
   },
   {
    "duration": 0,
    "start_time": "2022-05-23T11:33:14.354Z"
   },
   {
    "duration": 0,
    "start_time": "2022-05-23T11:33:14.355Z"
   },
   {
    "duration": 14,
    "start_time": "2022-05-23T11:35:52.044Z"
   },
   {
    "duration": 15,
    "start_time": "2022-05-23T11:39:18.784Z"
   },
   {
    "duration": 20,
    "start_time": "2022-05-23T11:39:50.705Z"
   },
   {
    "duration": 14,
    "start_time": "2022-05-23T11:42:43.712Z"
   },
   {
    "duration": 17,
    "start_time": "2022-05-23T11:43:47.077Z"
   },
   {
    "duration": 673,
    "start_time": "2022-05-23T11:47:39.185Z"
   },
   {
    "duration": 115,
    "start_time": "2022-05-23T11:48:28.756Z"
   },
   {
    "duration": 82,
    "start_time": "2022-05-23T11:48:40.997Z"
   },
   {
    "duration": 127,
    "start_time": "2022-05-23T11:48:47.755Z"
   },
   {
    "duration": 75,
    "start_time": "2022-05-23T11:49:04.038Z"
   },
   {
    "duration": 941,
    "start_time": "2022-05-23T11:49:13.502Z"
   },
   {
    "duration": 1461,
    "start_time": "2022-05-23T11:49:35.985Z"
   },
   {
    "duration": 41,
    "start_time": "2022-05-23T11:49:37.454Z"
   },
   {
    "duration": 90,
    "start_time": "2022-05-23T11:49:37.497Z"
   },
   {
    "duration": 37,
    "start_time": "2022-05-23T11:49:37.588Z"
   },
   {
    "duration": 3140,
    "start_time": "2022-05-23T11:49:37.633Z"
   },
   {
    "duration": 15,
    "start_time": "2022-05-23T11:49:40.774Z"
   },
   {
    "duration": 1619,
    "start_time": "2022-05-23T11:49:40.791Z"
   },
   {
    "duration": 7,
    "start_time": "2022-05-23T11:49:42.414Z"
   },
   {
    "duration": 34,
    "start_time": "2022-05-23T11:49:42.422Z"
   },
   {
    "duration": 3782,
    "start_time": "2022-05-23T11:49:42.458Z"
   },
   {
    "duration": 467,
    "start_time": "2022-05-23T11:49:46.313Z"
   },
   {
    "duration": 898,
    "start_time": "2022-05-23T11:49:46.781Z"
   },
   {
    "duration": 557,
    "start_time": "2022-05-23T11:49:47.681Z"
   },
   {
    "duration": 120832,
    "start_time": "2022-05-23T11:49:48.241Z"
   },
   {
    "duration": 1039,
    "start_time": "2022-05-23T11:51:49.075Z"
   },
   {
    "duration": 4,
    "start_time": "2022-05-23T11:51:50.116Z"
   },
   {
    "duration": 45,
    "start_time": "2022-05-23T11:51:50.122Z"
   },
   {
    "duration": 4294,
    "start_time": "2022-05-23T11:51:50.169Z"
   },
   {
    "duration": 145,
    "start_time": "2022-05-23T11:51:54.464Z"
   },
   {
    "duration": 1494,
    "start_time": "2022-05-23T11:55:25.493Z"
   },
   {
    "duration": 54,
    "start_time": "2022-05-23T11:55:26.989Z"
   },
   {
    "duration": 101,
    "start_time": "2022-05-23T11:55:27.045Z"
   },
   {
    "duration": 10,
    "start_time": "2022-05-23T11:55:27.148Z"
   },
   {
    "duration": 3220,
    "start_time": "2022-05-23T11:55:27.159Z"
   },
   {
    "duration": 18,
    "start_time": "2022-05-23T11:55:30.380Z"
   },
   {
    "duration": 1687,
    "start_time": "2022-05-23T11:55:30.399Z"
   },
   {
    "duration": 5,
    "start_time": "2022-05-23T11:55:32.087Z"
   },
   {
    "duration": 17,
    "start_time": "2022-05-23T11:55:32.094Z"
   },
   {
    "duration": 35,
    "start_time": "2022-05-23T11:55:32.113Z"
   },
   {
    "duration": 137,
    "start_time": "2022-05-23T11:55:32.150Z"
   },
   {
    "duration": 0,
    "start_time": "2022-05-23T11:55:32.289Z"
   },
   {
    "duration": 0,
    "start_time": "2022-05-23T11:55:32.290Z"
   },
   {
    "duration": 0,
    "start_time": "2022-05-23T11:55:32.291Z"
   },
   {
    "duration": 0,
    "start_time": "2022-05-23T11:55:32.292Z"
   },
   {
    "duration": 0,
    "start_time": "2022-05-23T11:55:32.294Z"
   },
   {
    "duration": 0,
    "start_time": "2022-05-23T11:55:32.295Z"
   },
   {
    "duration": 0,
    "start_time": "2022-05-23T11:55:32.297Z"
   },
   {
    "duration": 0,
    "start_time": "2022-05-23T11:55:32.436Z"
   },
   {
    "duration": 980,
    "start_time": "2022-05-23T12:09:05.203Z"
   },
   {
    "duration": 8,
    "start_time": "2022-05-23T12:20:11.907Z"
   },
   {
    "duration": 17,
    "start_time": "2022-05-23T12:20:23.874Z"
   },
   {
    "duration": 876,
    "start_time": "2022-05-23T12:21:02.157Z"
   },
   {
    "duration": 569,
    "start_time": "2022-05-23T12:23:46.940Z"
   },
   {
    "duration": 961,
    "start_time": "2022-05-23T12:24:15.629Z"
   },
   {
    "duration": 1400,
    "start_time": "2022-05-23T12:24:27.840Z"
   },
   {
    "duration": 49,
    "start_time": "2022-05-23T12:32:41.641Z"
   },
   {
    "duration": 7,
    "start_time": "2022-05-23T12:41:18.072Z"
   },
   {
    "duration": 1659,
    "start_time": "2022-05-23T12:42:21.225Z"
   },
   {
    "duration": 54,
    "start_time": "2022-05-23T12:42:22.886Z"
   },
   {
    "duration": 113,
    "start_time": "2022-05-23T12:42:22.942Z"
   },
   {
    "duration": 11,
    "start_time": "2022-05-23T12:42:23.057Z"
   },
   {
    "duration": 3455,
    "start_time": "2022-05-23T12:42:23.069Z"
   },
   {
    "duration": 16,
    "start_time": "2022-05-23T12:42:26.526Z"
   },
   {
    "duration": 1472,
    "start_time": "2022-05-23T12:42:26.544Z"
   },
   {
    "duration": 4,
    "start_time": "2022-05-23T12:42:28.018Z"
   },
   {
    "duration": 6,
    "start_time": "2022-05-23T12:42:28.024Z"
   },
   {
    "duration": 10,
    "start_time": "2022-05-23T12:42:28.032Z"
   },
   {
    "duration": 5,
    "start_time": "2022-05-23T12:42:28.043Z"
   },
   {
    "duration": 1493,
    "start_time": "2022-05-23T12:42:28.050Z"
   },
   {
    "duration": 588,
    "start_time": "2022-05-23T12:42:29.545Z"
   },
   {
    "duration": 114257,
    "start_time": "2022-05-23T12:42:30.135Z"
   },
   {
    "duration": 1127,
    "start_time": "2022-05-23T12:44:24.394Z"
   },
   {
    "duration": 88,
    "start_time": "2022-05-23T12:44:25.524Z"
   },
   {
    "duration": 18,
    "start_time": "2022-05-23T12:44:25.615Z"
   },
   {
    "duration": 4347,
    "start_time": "2022-05-23T12:44:25.635Z"
   },
   {
    "duration": 182,
    "start_time": "2022-05-23T12:44:29.983Z"
   },
   {
    "duration": 63,
    "start_time": "2022-05-23T12:55:57.710Z"
   },
   {
    "duration": 28,
    "start_time": "2022-05-23T12:56:26.323Z"
   },
   {
    "duration": 154,
    "start_time": "2022-05-23T12:56:36.977Z"
   },
   {
    "duration": 379,
    "start_time": "2022-05-23T12:58:07.696Z"
   },
   {
    "duration": 60,
    "start_time": "2022-05-23T12:58:15.913Z"
   },
   {
    "duration": 2731,
    "start_time": "2022-05-23T13:01:42.268Z"
   },
   {
    "duration": 3,
    "start_time": "2022-05-23T13:02:34.186Z"
   },
   {
    "duration": 4,
    "start_time": "2022-05-23T13:02:43.327Z"
   },
   {
    "duration": 55,
    "start_time": "2022-05-23T13:04:42.902Z"
   },
   {
    "duration": 15,
    "start_time": "2022-05-23T13:04:48.869Z"
   },
   {
    "duration": 180,
    "start_time": "2022-05-23T13:05:34.467Z"
   },
   {
    "duration": 17,
    "start_time": "2022-05-23T13:06:51.563Z"
   },
   {
    "duration": 2953,
    "start_time": "2022-05-23T13:07:13.190Z"
   },
   {
    "duration": 634,
    "start_time": "2022-05-23T13:08:37.962Z"
   },
   {
    "duration": 194,
    "start_time": "2022-05-23T13:08:58.287Z"
   },
   {
    "duration": 179,
    "start_time": "2022-05-23T13:09:33.627Z"
   },
   {
    "duration": 235,
    "start_time": "2022-05-23T13:10:16.211Z"
   },
   {
    "duration": 225,
    "start_time": "2022-05-23T13:11:31.215Z"
   },
   {
    "duration": 12,
    "start_time": "2022-05-23T13:15:06.179Z"
   },
   {
    "duration": 50,
    "start_time": "2022-05-23T13:15:18.512Z"
   },
   {
    "duration": 22,
    "start_time": "2022-05-23T13:15:53.917Z"
   },
   {
    "duration": 239,
    "start_time": "2022-05-23T13:21:17.088Z"
   },
   {
    "duration": 324,
    "start_time": "2022-05-23T13:31:09.157Z"
   },
   {
    "duration": 181,
    "start_time": "2022-05-23T13:32:57.482Z"
   },
   {
    "duration": 182,
    "start_time": "2022-05-23T13:33:22.472Z"
   },
   {
    "duration": 176,
    "start_time": "2022-05-23T13:33:45.185Z"
   },
   {
    "duration": 260,
    "start_time": "2022-05-23T13:33:59.169Z"
   },
   {
    "duration": 207,
    "start_time": "2022-05-23T13:34:14.833Z"
   },
   {
    "duration": 193,
    "start_time": "2022-05-23T13:34:47.350Z"
   },
   {
    "duration": 166,
    "start_time": "2022-05-23T13:35:08.512Z"
   },
   {
    "duration": 200,
    "start_time": "2022-05-23T13:36:25.500Z"
   },
   {
    "duration": 310,
    "start_time": "2022-05-23T13:37:08.427Z"
   },
   {
    "duration": 263,
    "start_time": "2022-05-23T13:37:32.443Z"
   },
   {
    "duration": 134,
    "start_time": "2022-05-23T13:40:24.742Z"
   },
   {
    "duration": 68,
    "start_time": "2022-05-23T13:42:25.556Z"
   },
   {
    "duration": 60,
    "start_time": "2022-05-23T13:42:37.330Z"
   },
   {
    "duration": 42,
    "start_time": "2022-05-23T13:42:41.603Z"
   },
   {
    "duration": 32,
    "start_time": "2022-05-23T13:43:11.570Z"
   },
   {
    "duration": 146,
    "start_time": "2022-05-23T13:43:34.279Z"
   },
   {
    "duration": 11,
    "start_time": "2022-05-23T13:44:22.979Z"
   },
   {
    "duration": 4,
    "start_time": "2022-05-23T13:45:40.707Z"
   },
   {
    "duration": 16,
    "start_time": "2022-05-23T13:50:23.454Z"
   },
   {
    "duration": 48,
    "start_time": "2022-05-23T13:52:08.188Z"
   },
   {
    "duration": 41,
    "start_time": "2022-05-23T13:52:23.300Z"
   },
   {
    "duration": 15,
    "start_time": "2022-05-23T13:52:44.894Z"
   },
   {
    "duration": 16,
    "start_time": "2022-05-23T13:52:56.234Z"
   },
   {
    "duration": 772,
    "start_time": "2022-05-23T13:56:04.299Z"
   },
   {
    "duration": 21,
    "start_time": "2022-05-23T13:58:23.219Z"
   },
   {
    "duration": 49424,
    "start_time": "2022-05-23T13:59:55.140Z"
   },
   {
    "duration": 41,
    "start_time": "2022-05-23T14:02:51.644Z"
   },
   {
    "duration": 48983,
    "start_time": "2022-05-23T14:05:13.656Z"
   },
   {
    "duration": 28,
    "start_time": "2022-05-23T14:06:12.704Z"
   },
   {
    "duration": 19,
    "start_time": "2022-05-23T14:06:18.637Z"
   },
   {
    "duration": 2393,
    "start_time": "2022-05-23T14:06:26.765Z"
   },
   {
    "duration": 3056,
    "start_time": "2022-05-23T14:06:40.798Z"
   },
   {
    "duration": 1022,
    "start_time": "2022-05-23T14:06:51.705Z"
   },
   {
    "duration": 2410,
    "start_time": "2022-05-23T14:07:18.193Z"
   },
   {
    "duration": 17,
    "start_time": "2022-05-23T14:10:06.888Z"
   },
   {
    "duration": 451,
    "start_time": "2022-05-23T14:20:10.717Z"
   },
   {
    "duration": 2950,
    "start_time": "2022-05-23T14:20:43.029Z"
   },
   {
    "duration": 5993,
    "start_time": "2022-05-23T14:21:24.341Z"
   },
   {
    "duration": 10800,
    "start_time": "2022-05-23T14:22:57.590Z"
   },
   {
    "duration": 9315,
    "start_time": "2022-05-23T14:24:08.713Z"
   },
   {
    "duration": 9075,
    "start_time": "2022-05-23T14:24:48.806Z"
   },
   {
    "duration": 2805,
    "start_time": "2022-05-23T14:26:11.973Z"
   },
   {
    "duration": 9557,
    "start_time": "2022-05-23T14:26:59.628Z"
   },
   {
    "duration": 2543,
    "start_time": "2022-05-23T14:30:53.942Z"
   },
   {
    "duration": 2299,
    "start_time": "2022-05-23T14:32:44.358Z"
   },
   {
    "duration": 2561,
    "start_time": "2022-05-23T14:33:29.400Z"
   },
   {
    "duration": 2215,
    "start_time": "2022-05-23T14:35:15.260Z"
   },
   {
    "duration": 2313,
    "start_time": "2022-05-23T14:35:41.989Z"
   },
   {
    "duration": 2294,
    "start_time": "2022-05-23T14:35:59.355Z"
   },
   {
    "duration": 2390,
    "start_time": "2022-05-23T14:36:33.955Z"
   },
   {
    "duration": 2311,
    "start_time": "2022-05-23T14:37:22.991Z"
   },
   {
    "duration": 2434,
    "start_time": "2022-05-23T14:37:41.854Z"
   },
   {
    "duration": 2413,
    "start_time": "2022-05-23T14:38:16.170Z"
   },
   {
    "duration": 2655,
    "start_time": "2022-05-23T14:38:27.926Z"
   },
   {
    "duration": 17,
    "start_time": "2022-05-23T14:40:12.958Z"
   },
   {
    "duration": 252,
    "start_time": "2022-05-23T14:40:48.090Z"
   },
   {
    "duration": 229,
    "start_time": "2022-05-23T14:41:17.568Z"
   },
   {
    "duration": 283,
    "start_time": "2022-05-23T14:41:28.392Z"
   },
   {
    "duration": 64,
    "start_time": "2022-05-23T14:43:11.545Z"
   },
   {
    "duration": 78,
    "start_time": "2022-05-23T14:43:33.860Z"
   },
   {
    "duration": 43,
    "start_time": "2022-05-23T14:44:23.708Z"
   },
   {
    "duration": 22,
    "start_time": "2022-05-23T14:44:45.330Z"
   },
   {
    "duration": 862,
    "start_time": "2022-05-23T15:03:13.496Z"
   },
   {
    "duration": 733,
    "start_time": "2022-05-23T15:05:38.875Z"
   },
   {
    "duration": 518,
    "start_time": "2022-05-23T15:05:48.980Z"
   },
   {
    "duration": 716,
    "start_time": "2022-05-23T15:05:58.653Z"
   },
   {
    "duration": 38,
    "start_time": "2022-05-23T15:07:19.260Z"
   },
   {
    "duration": 33,
    "start_time": "2022-05-23T15:08:00.466Z"
   },
   {
    "duration": 12,
    "start_time": "2022-05-23T15:15:47.394Z"
   },
   {
    "duration": 41,
    "start_time": "2022-05-23T15:16:11.300Z"
   },
   {
    "duration": 5440,
    "start_time": "2022-05-23T15:16:56.233Z"
   },
   {
    "duration": 2738,
    "start_time": "2022-05-23T15:29:33.857Z"
   },
   {
    "duration": 38,
    "start_time": "2022-05-23T15:33:39.361Z"
   },
   {
    "duration": 34,
    "start_time": "2022-05-23T15:34:27.526Z"
   },
   {
    "duration": 157,
    "start_time": "2022-05-23T15:35:54.975Z"
   },
   {
    "duration": 1693,
    "start_time": "2022-05-23T15:37:12.484Z"
   },
   {
    "duration": 232,
    "start_time": "2022-05-23T15:37:27.143Z"
   },
   {
    "duration": 1102,
    "start_time": "2022-05-23T15:37:37.071Z"
   },
   {
    "duration": 731,
    "start_time": "2022-05-23T15:37:51.830Z"
   },
   {
    "duration": 901,
    "start_time": "2022-05-23T15:38:38.786Z"
   },
   {
    "duration": 6,
    "start_time": "2022-05-23T15:39:57.650Z"
   },
   {
    "duration": 0,
    "start_time": "2022-05-23T15:46:13.371Z"
   },
   {
    "duration": 0,
    "start_time": "2022-05-23T15:46:13.372Z"
   },
   {
    "duration": 1516,
    "start_time": "2022-05-23T15:48:07.641Z"
   },
   {
    "duration": 80,
    "start_time": "2022-05-23T15:48:09.159Z"
   },
   {
    "duration": 103,
    "start_time": "2022-05-23T15:48:09.241Z"
   },
   {
    "duration": 11,
    "start_time": "2022-05-23T15:48:09.347Z"
   },
   {
    "duration": 169,
    "start_time": "2022-05-23T15:48:09.359Z"
   },
   {
    "duration": 0,
    "start_time": "2022-05-23T15:48:09.530Z"
   },
   {
    "duration": 0,
    "start_time": "2022-05-23T15:48:09.531Z"
   },
   {
    "duration": 0,
    "start_time": "2022-05-23T15:48:09.532Z"
   },
   {
    "duration": 0,
    "start_time": "2022-05-23T15:48:09.533Z"
   },
   {
    "duration": 0,
    "start_time": "2022-05-23T15:48:09.534Z"
   },
   {
    "duration": 0,
    "start_time": "2022-05-23T15:48:09.535Z"
   },
   {
    "duration": 0,
    "start_time": "2022-05-23T15:48:09.536Z"
   },
   {
    "duration": 0,
    "start_time": "2022-05-23T15:48:09.538Z"
   },
   {
    "duration": 0,
    "start_time": "2022-05-23T15:48:09.539Z"
   },
   {
    "duration": 0,
    "start_time": "2022-05-23T15:48:09.540Z"
   },
   {
    "duration": 0,
    "start_time": "2022-05-23T15:48:09.541Z"
   },
   {
    "duration": 0,
    "start_time": "2022-05-23T15:48:09.542Z"
   },
   {
    "duration": 0,
    "start_time": "2022-05-23T15:48:09.543Z"
   },
   {
    "duration": 0,
    "start_time": "2022-05-23T15:48:09.544Z"
   },
   {
    "duration": 0,
    "start_time": "2022-05-23T15:48:09.546Z"
   },
   {
    "duration": 0,
    "start_time": "2022-05-23T15:48:09.547Z"
   },
   {
    "duration": 1492,
    "start_time": "2022-05-23T15:48:38.844Z"
   },
   {
    "duration": 94,
    "start_time": "2022-05-23T15:48:40.338Z"
   },
   {
    "duration": 133,
    "start_time": "2022-05-23T15:48:40.434Z"
   },
   {
    "duration": 14,
    "start_time": "2022-05-23T15:48:40.571Z"
   },
   {
    "duration": 2,
    "start_time": "2022-05-23T15:48:40.588Z"
   },
   {
    "duration": 0,
    "start_time": "2022-05-23T15:51:58.562Z"
   },
   {
    "duration": 0,
    "start_time": "2022-05-23T15:51:58.563Z"
   },
   {
    "duration": 0,
    "start_time": "2022-05-23T15:51:58.564Z"
   },
   {
    "duration": 0,
    "start_time": "2022-05-23T15:51:58.565Z"
   },
   {
    "duration": 0,
    "start_time": "2022-05-23T15:51:58.566Z"
   },
   {
    "duration": 0,
    "start_time": "2022-05-23T15:51:58.568Z"
   },
   {
    "duration": 0,
    "start_time": "2022-05-23T15:51:58.569Z"
   },
   {
    "duration": 0,
    "start_time": "2022-05-23T15:51:58.571Z"
   },
   {
    "duration": 0,
    "start_time": "2022-05-23T15:51:58.572Z"
   },
   {
    "duration": 0,
    "start_time": "2022-05-23T15:51:58.573Z"
   },
   {
    "duration": 0,
    "start_time": "2022-05-23T15:51:58.574Z"
   },
   {
    "duration": 0,
    "start_time": "2022-05-23T15:51:58.575Z"
   },
   {
    "duration": 0,
    "start_time": "2022-05-23T15:51:58.576Z"
   },
   {
    "duration": 0,
    "start_time": "2022-05-23T15:51:58.577Z"
   },
   {
    "duration": 0,
    "start_time": "2022-05-23T15:51:58.578Z"
   },
   {
    "duration": 0,
    "start_time": "2022-05-23T15:51:58.579Z"
   },
   {
    "duration": 168,
    "start_time": "2022-05-23T15:53:06.773Z"
   },
   {
    "duration": 92,
    "start_time": "2022-05-23T15:53:45.296Z"
   },
   {
    "duration": 1506,
    "start_time": "2022-05-23T15:53:45.484Z"
   },
   {
    "duration": 64,
    "start_time": "2022-05-23T15:53:46.992Z"
   },
   {
    "duration": 84,
    "start_time": "2022-05-23T15:53:47.057Z"
   },
   {
    "duration": 13,
    "start_time": "2022-05-23T15:53:47.143Z"
   },
   {
    "duration": 4,
    "start_time": "2022-05-23T15:53:47.158Z"
   },
   {
    "duration": 810,
    "start_time": "2022-05-23T15:53:47.164Z"
   },
   {
    "duration": 267,
    "start_time": "2022-05-23T15:53:47.975Z"
   },
   {
    "duration": 0,
    "start_time": "2022-05-23T15:53:48.245Z"
   },
   {
    "duration": 0,
    "start_time": "2022-05-23T15:53:48.246Z"
   },
   {
    "duration": 0,
    "start_time": "2022-05-23T15:53:48.248Z"
   },
   {
    "duration": 0,
    "start_time": "2022-05-23T15:53:48.249Z"
   },
   {
    "duration": 0,
    "start_time": "2022-05-23T15:53:48.249Z"
   },
   {
    "duration": 0,
    "start_time": "2022-05-23T15:53:48.251Z"
   },
   {
    "duration": 0,
    "start_time": "2022-05-23T15:53:48.252Z"
   },
   {
    "duration": 0,
    "start_time": "2022-05-23T15:53:48.253Z"
   },
   {
    "duration": 0,
    "start_time": "2022-05-23T15:53:48.253Z"
   },
   {
    "duration": 0,
    "start_time": "2022-05-23T15:53:48.254Z"
   },
   {
    "duration": 0,
    "start_time": "2022-05-23T15:53:48.256Z"
   },
   {
    "duration": 0,
    "start_time": "2022-05-23T15:53:48.256Z"
   },
   {
    "duration": 0,
    "start_time": "2022-05-23T15:53:48.257Z"
   },
   {
    "duration": 0,
    "start_time": "2022-05-23T15:53:48.258Z"
   },
   {
    "duration": 776,
    "start_time": "2022-05-23T15:54:34.707Z"
   },
   {
    "duration": 988,
    "start_time": "2022-05-23T15:54:45.969Z"
   },
   {
    "duration": 837,
    "start_time": "2022-05-23T15:55:30.759Z"
   },
   {
    "duration": 1020,
    "start_time": "2022-05-23T15:55:39.959Z"
   },
   {
    "duration": 50,
    "start_time": "2022-05-23T16:08:30.050Z"
   },
   {
    "duration": 190,
    "start_time": "2022-05-23T16:11:44.455Z"
   },
   {
    "duration": 192,
    "start_time": "2022-05-23T16:12:05.664Z"
   },
   {
    "duration": 1491,
    "start_time": "2022-05-23T16:13:59.792Z"
   },
   {
    "duration": 45,
    "start_time": "2022-05-23T16:14:01.286Z"
   },
   {
    "duration": 117,
    "start_time": "2022-05-23T16:14:01.333Z"
   },
   {
    "duration": 15,
    "start_time": "2022-05-23T16:14:01.453Z"
   },
   {
    "duration": 23,
    "start_time": "2022-05-23T16:14:01.470Z"
   },
   {
    "duration": 1511,
    "start_time": "2022-05-23T16:15:03.373Z"
   },
   {
    "duration": 50,
    "start_time": "2022-05-23T16:15:04.886Z"
   },
   {
    "duration": 105,
    "start_time": "2022-05-23T16:15:04.938Z"
   },
   {
    "duration": 11,
    "start_time": "2022-05-23T16:15:05.045Z"
   },
   {
    "duration": 3,
    "start_time": "2022-05-23T16:15:05.058Z"
   },
   {
    "duration": 386,
    "start_time": "2022-05-23T16:15:05.062Z"
   },
   {
    "duration": 0,
    "start_time": "2022-05-23T16:15:05.450Z"
   },
   {
    "duration": 0,
    "start_time": "2022-05-23T16:15:05.451Z"
   },
   {
    "duration": 0,
    "start_time": "2022-05-23T16:15:05.453Z"
   },
   {
    "duration": 0,
    "start_time": "2022-05-23T16:15:05.454Z"
   },
   {
    "duration": 0,
    "start_time": "2022-05-23T16:15:05.455Z"
   },
   {
    "duration": 0,
    "start_time": "2022-05-23T16:15:05.457Z"
   },
   {
    "duration": 0,
    "start_time": "2022-05-23T16:15:05.458Z"
   },
   {
    "duration": 0,
    "start_time": "2022-05-23T16:15:05.459Z"
   },
   {
    "duration": 0,
    "start_time": "2022-05-23T16:15:05.460Z"
   },
   {
    "duration": 0,
    "start_time": "2022-05-23T16:15:05.461Z"
   },
   {
    "duration": 0,
    "start_time": "2022-05-23T16:15:05.462Z"
   },
   {
    "duration": 0,
    "start_time": "2022-05-23T16:15:05.463Z"
   },
   {
    "duration": 0,
    "start_time": "2022-05-23T16:15:05.464Z"
   },
   {
    "duration": 0,
    "start_time": "2022-05-23T16:15:05.465Z"
   },
   {
    "duration": 0,
    "start_time": "2022-05-23T16:15:05.466Z"
   },
   {
    "duration": 0,
    "start_time": "2022-05-23T16:15:05.467Z"
   },
   {
    "duration": 864,
    "start_time": "2022-05-23T16:17:21.824Z"
   },
   {
    "duration": 1467,
    "start_time": "2022-05-23T16:17:46.881Z"
   },
   {
    "duration": 161,
    "start_time": "2022-05-23T16:18:24.464Z"
   },
   {
    "duration": 166,
    "start_time": "2022-05-23T16:18:35.897Z"
   },
   {
    "duration": 3010,
    "start_time": "2022-05-23T16:18:46.124Z"
   },
   {
    "duration": 1144,
    "start_time": "2022-05-23T16:22:07.327Z"
   },
   {
    "duration": 60,
    "start_time": "2022-05-23T16:23:07.649Z"
   },
   {
    "duration": 165,
    "start_time": "2022-05-23T16:23:26.228Z"
   },
   {
    "duration": 148,
    "start_time": "2022-05-23T16:24:05.154Z"
   },
   {
    "duration": 1577,
    "start_time": "2022-05-23T16:25:27.251Z"
   },
   {
    "duration": 1414,
    "start_time": "2022-05-23T16:26:07.550Z"
   },
   {
    "duration": 42,
    "start_time": "2022-05-23T16:26:08.966Z"
   },
   {
    "duration": 104,
    "start_time": "2022-05-23T16:26:09.010Z"
   },
   {
    "duration": 13,
    "start_time": "2022-05-23T16:26:09.116Z"
   },
   {
    "duration": 3,
    "start_time": "2022-05-23T16:26:09.131Z"
   },
   {
    "duration": 1507,
    "start_time": "2022-05-23T16:26:40.448Z"
   },
   {
    "duration": 43,
    "start_time": "2022-05-23T16:26:41.957Z"
   },
   {
    "duration": 82,
    "start_time": "2022-05-23T16:26:42.002Z"
   },
   {
    "duration": 13,
    "start_time": "2022-05-23T16:26:42.112Z"
   },
   {
    "duration": 4,
    "start_time": "2022-05-23T16:26:42.127Z"
   },
   {
    "duration": 1554,
    "start_time": "2022-05-23T16:29:32.809Z"
   },
   {
    "duration": 43,
    "start_time": "2022-05-23T16:29:34.366Z"
   },
   {
    "duration": 127,
    "start_time": "2022-05-23T16:29:34.411Z"
   },
   {
    "duration": 16,
    "start_time": "2022-05-23T16:29:34.540Z"
   },
   {
    "duration": 174,
    "start_time": "2022-05-23T16:29:34.558Z"
   },
   {
    "duration": 0,
    "start_time": "2022-05-23T16:29:34.734Z"
   },
   {
    "duration": 0,
    "start_time": "2022-05-23T16:29:34.735Z"
   },
   {
    "duration": 0,
    "start_time": "2022-05-23T16:29:34.737Z"
   },
   {
    "duration": 0,
    "start_time": "2022-05-23T16:29:34.739Z"
   },
   {
    "duration": 0,
    "start_time": "2022-05-23T16:29:34.740Z"
   },
   {
    "duration": 0,
    "start_time": "2022-05-23T16:29:34.741Z"
   },
   {
    "duration": 0,
    "start_time": "2022-05-23T16:29:34.743Z"
   },
   {
    "duration": 0,
    "start_time": "2022-05-23T16:29:34.744Z"
   },
   {
    "duration": 0,
    "start_time": "2022-05-23T16:29:34.746Z"
   },
   {
    "duration": 0,
    "start_time": "2022-05-23T16:29:34.747Z"
   },
   {
    "duration": 0,
    "start_time": "2022-05-23T16:29:34.748Z"
   },
   {
    "duration": 0,
    "start_time": "2022-05-23T16:29:34.750Z"
   },
   {
    "duration": 0,
    "start_time": "2022-05-23T16:29:34.751Z"
   },
   {
    "duration": 0,
    "start_time": "2022-05-23T16:29:34.753Z"
   },
   {
    "duration": 0,
    "start_time": "2022-05-23T16:29:34.754Z"
   },
   {
    "duration": 1,
    "start_time": "2022-05-23T16:29:34.754Z"
   },
   {
    "duration": 26,
    "start_time": "2022-05-23T16:29:48.208Z"
   },
   {
    "duration": 20,
    "start_time": "2022-05-23T16:30:46.553Z"
   },
   {
    "duration": 63,
    "start_time": "2022-05-23T16:43:19.057Z"
   },
   {
    "duration": 27,
    "start_time": "2022-05-23T16:43:30.906Z"
   },
   {
    "duration": 264,
    "start_time": "2022-05-23T16:43:41.807Z"
   },
   {
    "duration": 266,
    "start_time": "2022-05-23T16:44:45.353Z"
   },
   {
    "duration": 1396,
    "start_time": "2022-05-23T16:45:37.656Z"
   },
   {
    "duration": 266,
    "start_time": "2022-05-23T16:46:52.089Z"
   },
   {
    "duration": 1414,
    "start_time": "2022-05-23T16:47:09.737Z"
   },
   {
    "duration": 1151,
    "start_time": "2022-05-23T16:47:22.949Z"
   },
   {
    "duration": 1568,
    "start_time": "2022-05-23T16:47:30.835Z"
   },
   {
    "duration": 1240,
    "start_time": "2022-05-23T16:47:40.255Z"
   },
   {
    "duration": 779,
    "start_time": "2022-05-23T16:47:54.236Z"
   },
   {
    "duration": 1317,
    "start_time": "2022-05-23T16:47:58.908Z"
   },
   {
    "duration": 1338,
    "start_time": "2022-05-23T16:48:13.579Z"
   },
   {
    "duration": 201,
    "start_time": "2022-05-23T16:48:38.225Z"
   },
   {
    "duration": 1405,
    "start_time": "2022-05-23T16:48:50.991Z"
   },
   {
    "duration": 42,
    "start_time": "2022-05-23T16:50:08.559Z"
   },
   {
    "duration": 677,
    "start_time": "2022-05-23T16:50:30.165Z"
   },
   {
    "duration": 1505,
    "start_time": "2022-05-23T16:50:45.024Z"
   },
   {
    "duration": 1065,
    "start_time": "2022-05-23T16:51:36.616Z"
   },
   {
    "duration": 1068,
    "start_time": "2022-05-23T16:51:59.831Z"
   },
   {
    "duration": 1410,
    "start_time": "2022-05-23T16:53:23.928Z"
   },
   {
    "duration": 40,
    "start_time": "2022-05-23T16:53:25.340Z"
   },
   {
    "duration": 72,
    "start_time": "2022-05-23T16:53:25.381Z"
   },
   {
    "duration": 13,
    "start_time": "2022-05-23T16:53:25.456Z"
   },
   {
    "duration": 368,
    "start_time": "2022-05-23T16:53:25.474Z"
   },
   {
    "duration": 0,
    "start_time": "2022-05-23T16:53:25.844Z"
   },
   {
    "duration": 0,
    "start_time": "2022-05-23T16:53:25.845Z"
   },
   {
    "duration": 0,
    "start_time": "2022-05-23T16:53:25.845Z"
   },
   {
    "duration": 0,
    "start_time": "2022-05-23T16:53:25.847Z"
   },
   {
    "duration": 0,
    "start_time": "2022-05-23T16:53:25.848Z"
   },
   {
    "duration": 0,
    "start_time": "2022-05-23T16:53:25.848Z"
   },
   {
    "duration": 0,
    "start_time": "2022-05-23T16:53:25.849Z"
   },
   {
    "duration": 0,
    "start_time": "2022-05-23T16:53:25.850Z"
   },
   {
    "duration": 0,
    "start_time": "2022-05-23T16:53:25.851Z"
   },
   {
    "duration": 0,
    "start_time": "2022-05-23T16:53:25.852Z"
   },
   {
    "duration": 0,
    "start_time": "2022-05-23T16:53:25.853Z"
   },
   {
    "duration": 0,
    "start_time": "2022-05-23T16:53:25.854Z"
   },
   {
    "duration": 0,
    "start_time": "2022-05-23T16:53:25.855Z"
   },
   {
    "duration": 0,
    "start_time": "2022-05-23T16:53:25.856Z"
   },
   {
    "duration": 0,
    "start_time": "2022-05-23T16:53:25.857Z"
   },
   {
    "duration": 0,
    "start_time": "2022-05-23T16:53:25.857Z"
   },
   {
    "duration": 1595,
    "start_time": "2022-05-23T16:57:59.337Z"
   },
   {
    "duration": 42,
    "start_time": "2022-05-23T16:58:00.937Z"
   },
   {
    "duration": 96,
    "start_time": "2022-05-23T16:58:00.981Z"
   },
   {
    "duration": 11,
    "start_time": "2022-05-23T16:58:01.080Z"
   },
   {
    "duration": 30,
    "start_time": "2022-05-23T16:58:01.115Z"
   },
   {
    "duration": 401,
    "start_time": "2022-05-23T16:58:01.146Z"
   },
   {
    "duration": 0,
    "start_time": "2022-05-23T16:58:01.550Z"
   },
   {
    "duration": 0,
    "start_time": "2022-05-23T16:58:01.552Z"
   },
   {
    "duration": 0,
    "start_time": "2022-05-23T16:58:01.553Z"
   },
   {
    "duration": 0,
    "start_time": "2022-05-23T16:58:01.555Z"
   },
   {
    "duration": 0,
    "start_time": "2022-05-23T16:58:01.557Z"
   },
   {
    "duration": 0,
    "start_time": "2022-05-23T16:58:01.558Z"
   },
   {
    "duration": 0,
    "start_time": "2022-05-23T16:58:01.559Z"
   },
   {
    "duration": 0,
    "start_time": "2022-05-23T16:58:01.561Z"
   },
   {
    "duration": 0,
    "start_time": "2022-05-23T16:58:01.564Z"
   },
   {
    "duration": 0,
    "start_time": "2022-05-23T16:58:01.565Z"
   },
   {
    "duration": 0,
    "start_time": "2022-05-23T16:58:01.566Z"
   },
   {
    "duration": 0,
    "start_time": "2022-05-23T16:58:01.567Z"
   },
   {
    "duration": 0,
    "start_time": "2022-05-23T16:58:01.568Z"
   },
   {
    "duration": 0,
    "start_time": "2022-05-23T16:58:01.569Z"
   },
   {
    "duration": 0,
    "start_time": "2022-05-23T16:58:01.571Z"
   },
   {
    "duration": 1459,
    "start_time": "2022-05-23T16:59:01.596Z"
   },
   {
    "duration": 40,
    "start_time": "2022-05-23T16:59:03.056Z"
   },
   {
    "duration": 70,
    "start_time": "2022-05-23T16:59:03.098Z"
   },
   {
    "duration": 12,
    "start_time": "2022-05-23T16:59:03.170Z"
   },
   {
    "duration": 3,
    "start_time": "2022-05-23T16:59:03.213Z"
   },
   {
    "duration": 1349,
    "start_time": "2022-05-23T16:59:03.218Z"
   },
   {
    "duration": 1499,
    "start_time": "2022-05-23T16:59:04.568Z"
   },
   {
    "duration": 19,
    "start_time": "2022-05-23T16:59:06.069Z"
   },
   {
    "duration": 1661,
    "start_time": "2022-05-23T16:59:06.090Z"
   },
   {
    "duration": 5,
    "start_time": "2022-05-23T16:59:07.753Z"
   },
   {
    "duration": 6,
    "start_time": "2022-05-23T16:59:07.760Z"
   },
   {
    "duration": 9,
    "start_time": "2022-05-23T16:59:07.767Z"
   },
   {
    "duration": 29,
    "start_time": "2022-05-23T16:59:07.778Z"
   },
   {
    "duration": 1643,
    "start_time": "2022-05-23T16:59:07.811Z"
   },
   {
    "duration": 647,
    "start_time": "2022-05-23T16:59:09.456Z"
   },
   {
    "duration": 1411,
    "start_time": "2022-05-23T17:00:50.553Z"
   },
   {
    "duration": 41,
    "start_time": "2022-05-23T17:00:51.965Z"
   },
   {
    "duration": 75,
    "start_time": "2022-05-23T17:00:52.007Z"
   },
   {
    "duration": 37,
    "start_time": "2022-05-23T17:00:52.084Z"
   },
   {
    "duration": 7,
    "start_time": "2022-05-23T17:00:52.124Z"
   },
   {
    "duration": 560,
    "start_time": "2022-05-23T17:00:52.132Z"
   },
   {
    "duration": 0,
    "start_time": "2022-05-23T17:00:52.694Z"
   },
   {
    "duration": 0,
    "start_time": "2022-05-23T17:00:52.695Z"
   },
   {
    "duration": 0,
    "start_time": "2022-05-23T17:00:52.697Z"
   },
   {
    "duration": 0,
    "start_time": "2022-05-23T17:00:52.698Z"
   },
   {
    "duration": 0,
    "start_time": "2022-05-23T17:00:52.700Z"
   },
   {
    "duration": 0,
    "start_time": "2022-05-23T17:00:52.712Z"
   },
   {
    "duration": 0,
    "start_time": "2022-05-23T17:00:52.714Z"
   },
   {
    "duration": 0,
    "start_time": "2022-05-23T17:00:52.715Z"
   },
   {
    "duration": 0,
    "start_time": "2022-05-23T17:00:52.717Z"
   },
   {
    "duration": 0,
    "start_time": "2022-05-23T17:00:52.718Z"
   },
   {
    "duration": 0,
    "start_time": "2022-05-23T17:00:52.719Z"
   },
   {
    "duration": 0,
    "start_time": "2022-05-23T17:00:52.721Z"
   },
   {
    "duration": 0,
    "start_time": "2022-05-23T17:00:52.722Z"
   },
   {
    "duration": 0,
    "start_time": "2022-05-23T17:00:52.724Z"
   },
   {
    "duration": 0,
    "start_time": "2022-05-23T17:00:52.725Z"
   },
   {
    "duration": 1213,
    "start_time": "2022-05-23T17:01:26.963Z"
   },
   {
    "duration": 192,
    "start_time": "2022-05-23T17:02:03.623Z"
   },
   {
    "duration": 1511,
    "start_time": "2022-05-23T17:03:06.392Z"
   },
   {
    "duration": 3528,
    "start_time": "2022-05-23T17:03:32.631Z"
   },
   {
    "duration": 64,
    "start_time": "2022-05-23T17:04:11.187Z"
   },
   {
    "duration": 2403,
    "start_time": "2022-05-23T17:04:15.579Z"
   },
   {
    "duration": 2496,
    "start_time": "2022-05-23T17:04:28.439Z"
   },
   {
    "duration": 1206,
    "start_time": "2022-05-23T17:04:46.136Z"
   },
   {
    "duration": 2406,
    "start_time": "2022-05-23T17:04:52.865Z"
   },
   {
    "duration": 2519,
    "start_time": "2022-05-23T17:05:40.373Z"
   },
   {
    "duration": 2406,
    "start_time": "2022-05-23T17:05:57.831Z"
   },
   {
    "duration": 1134,
    "start_time": "2022-05-23T17:06:15.575Z"
   },
   {
    "duration": 1825,
    "start_time": "2022-05-23T17:06:28.439Z"
   },
   {
    "duration": 1405,
    "start_time": "2022-05-23T17:06:37.300Z"
   },
   {
    "duration": 1489,
    "start_time": "2022-05-23T17:06:54.653Z"
   },
   {
    "duration": 1187,
    "start_time": "2022-05-23T17:07:15.819Z"
   },
   {
    "duration": 1291,
    "start_time": "2022-05-23T17:07:25.376Z"
   },
   {
    "duration": 3193,
    "start_time": "2022-05-23T17:07:38.879Z"
   },
   {
    "duration": 3264,
    "start_time": "2022-05-23T17:08:01.968Z"
   },
   {
    "duration": 38,
    "start_time": "2022-05-23T17:08:29.337Z"
   },
   {
    "duration": 36,
    "start_time": "2022-05-23T17:08:50.967Z"
   },
   {
    "duration": 2593,
    "start_time": "2022-05-23T17:08:56.491Z"
   },
   {
    "duration": 5948,
    "start_time": "2022-05-23T17:10:00.768Z"
   },
   {
    "duration": 2871,
    "start_time": "2022-05-23T17:10:25.159Z"
   },
   {
    "duration": 1377,
    "start_time": "2022-05-23T17:10:39.116Z"
   },
   {
    "duration": 3263,
    "start_time": "2022-05-23T17:10:49.404Z"
   },
   {
    "duration": 154,
    "start_time": "2022-05-23T17:15:16.068Z"
   },
   {
    "duration": 188,
    "start_time": "2022-05-23T17:15:25.783Z"
   },
   {
    "duration": 315,
    "start_time": "2022-05-23T17:15:31.565Z"
   },
   {
    "duration": 186,
    "start_time": "2022-05-23T17:16:07.687Z"
   },
   {
    "duration": 192,
    "start_time": "2022-05-23T17:16:22.182Z"
   },
   {
    "duration": 3,
    "start_time": "2022-05-23T17:17:06.852Z"
   },
   {
    "duration": 1471,
    "start_time": "2022-05-23T17:17:51.732Z"
   },
   {
    "duration": 49,
    "start_time": "2022-05-23T17:17:53.205Z"
   },
   {
    "duration": 82,
    "start_time": "2022-05-23T17:17:53.255Z"
   },
   {
    "duration": 11,
    "start_time": "2022-05-23T17:17:53.340Z"
   },
   {
    "duration": 3,
    "start_time": "2022-05-23T17:17:53.353Z"
   },
   {
    "duration": 1245,
    "start_time": "2022-05-23T17:17:53.358Z"
   },
   {
    "duration": 19,
    "start_time": "2022-05-23T17:17:54.605Z"
   },
   {
    "duration": 23,
    "start_time": "2022-05-23T17:17:54.626Z"
   },
   {
    "duration": 1569,
    "start_time": "2022-05-23T17:17:54.650Z"
   },
   {
    "duration": 7,
    "start_time": "2022-05-23T17:17:56.223Z"
   },
   {
    "duration": 5,
    "start_time": "2022-05-23T17:17:56.232Z"
   },
   {
    "duration": 8,
    "start_time": "2022-05-23T17:17:56.239Z"
   },
   {
    "duration": 5,
    "start_time": "2022-05-23T17:17:56.249Z"
   },
   {
    "duration": 2304,
    "start_time": "2022-05-23T17:17:56.256Z"
   },
   {
    "duration": 612,
    "start_time": "2022-05-23T17:17:58.561Z"
   },
   {
    "duration": 114319,
    "start_time": "2022-05-23T17:17:59.175Z"
   },
   {
    "duration": 1025,
    "start_time": "2022-05-23T17:19:53.496Z"
   },
   {
    "duration": 3,
    "start_time": "2022-05-23T17:19:54.524Z"
   },
   {
    "duration": 16,
    "start_time": "2022-05-23T17:19:54.529Z"
   },
   {
    "duration": 4148,
    "start_time": "2022-05-23T17:19:54.547Z"
   },
   {
    "duration": 27,
    "start_time": "2022-05-23T17:19:58.697Z"
   },
   {
    "duration": 1534,
    "start_time": "2022-05-23T17:20:27.233Z"
   },
   {
    "duration": 40,
    "start_time": "2022-05-23T17:20:28.769Z"
   },
   {
    "duration": 102,
    "start_time": "2022-05-23T17:20:28.811Z"
   },
   {
    "duration": 20,
    "start_time": "2022-05-23T17:20:28.915Z"
   },
   {
    "duration": 3,
    "start_time": "2022-05-23T17:20:28.937Z"
   },
   {
    "duration": 1321,
    "start_time": "2022-05-23T17:20:28.942Z"
   },
   {
    "duration": 1617,
    "start_time": "2022-05-23T17:25:10.230Z"
   },
   {
    "duration": 42,
    "start_time": "2022-05-23T17:25:11.848Z"
   },
   {
    "duration": 88,
    "start_time": "2022-05-23T17:25:11.891Z"
   },
   {
    "duration": 32,
    "start_time": "2022-05-23T17:25:11.982Z"
   },
   {
    "duration": 4,
    "start_time": "2022-05-23T17:25:12.016Z"
   },
   {
    "duration": 1348,
    "start_time": "2022-05-23T17:25:12.029Z"
   },
   {
    "duration": 8,
    "start_time": "2022-05-23T17:25:13.379Z"
   },
   {
    "duration": 0,
    "start_time": "2022-05-23T17:25:13.390Z"
   },
   {
    "duration": 0,
    "start_time": "2022-05-23T17:25:13.391Z"
   },
   {
    "duration": 0,
    "start_time": "2022-05-23T17:25:13.392Z"
   },
   {
    "duration": 0,
    "start_time": "2022-05-23T17:25:13.415Z"
   },
   {
    "duration": 0,
    "start_time": "2022-05-23T17:25:13.416Z"
   },
   {
    "duration": 0,
    "start_time": "2022-05-23T17:25:13.418Z"
   },
   {
    "duration": 0,
    "start_time": "2022-05-23T17:25:13.419Z"
   },
   {
    "duration": 0,
    "start_time": "2022-05-23T17:25:13.420Z"
   },
   {
    "duration": 0,
    "start_time": "2022-05-23T17:25:13.421Z"
   },
   {
    "duration": 0,
    "start_time": "2022-05-23T17:25:13.423Z"
   },
   {
    "duration": 0,
    "start_time": "2022-05-23T17:25:13.424Z"
   },
   {
    "duration": 0,
    "start_time": "2022-05-23T17:25:13.425Z"
   },
   {
    "duration": 0,
    "start_time": "2022-05-23T17:25:13.426Z"
   },
   {
    "duration": 0,
    "start_time": "2022-05-23T17:25:13.427Z"
   },
   {
    "duration": 0,
    "start_time": "2022-05-23T17:25:13.428Z"
   },
   {
    "duration": 1594,
    "start_time": "2022-05-23T17:25:33.359Z"
   },
   {
    "duration": 44,
    "start_time": "2022-05-23T17:25:34.955Z"
   },
   {
    "duration": 119,
    "start_time": "2022-05-23T17:25:35.001Z"
   },
   {
    "duration": 15,
    "start_time": "2022-05-23T17:25:35.125Z"
   },
   {
    "duration": 3,
    "start_time": "2022-05-23T17:25:35.142Z"
   },
   {
    "duration": 1429,
    "start_time": "2022-05-23T17:25:35.147Z"
   },
   {
    "duration": 360,
    "start_time": "2022-05-23T17:25:36.577Z"
   },
   {
    "duration": 0,
    "start_time": "2022-05-23T17:25:36.940Z"
   },
   {
    "duration": 0,
    "start_time": "2022-05-23T17:25:36.942Z"
   },
   {
    "duration": 0,
    "start_time": "2022-05-23T17:25:36.943Z"
   },
   {
    "duration": 0,
    "start_time": "2022-05-23T17:25:36.944Z"
   },
   {
    "duration": 0,
    "start_time": "2022-05-23T17:25:36.946Z"
   },
   {
    "duration": 0,
    "start_time": "2022-05-23T17:25:36.948Z"
   },
   {
    "duration": 0,
    "start_time": "2022-05-23T17:25:36.949Z"
   },
   {
    "duration": 0,
    "start_time": "2022-05-23T17:25:36.950Z"
   },
   {
    "duration": 0,
    "start_time": "2022-05-23T17:25:36.951Z"
   },
   {
    "duration": 0,
    "start_time": "2022-05-23T17:25:36.953Z"
   },
   {
    "duration": 0,
    "start_time": "2022-05-23T17:25:36.954Z"
   },
   {
    "duration": 0,
    "start_time": "2022-05-23T17:25:36.955Z"
   },
   {
    "duration": 0,
    "start_time": "2022-05-23T17:25:36.961Z"
   },
   {
    "duration": 0,
    "start_time": "2022-05-23T17:25:36.964Z"
   },
   {
    "duration": 0,
    "start_time": "2022-05-23T17:25:36.966Z"
   },
   {
    "duration": 1617,
    "start_time": "2022-05-23T17:26:12.501Z"
   },
   {
    "duration": 64,
    "start_time": "2022-05-23T17:26:14.121Z"
   },
   {
    "duration": 94,
    "start_time": "2022-05-23T17:26:14.187Z"
   },
   {
    "duration": 38,
    "start_time": "2022-05-23T17:26:14.283Z"
   },
   {
    "duration": 10,
    "start_time": "2022-05-23T17:26:14.331Z"
   },
   {
    "duration": 1313,
    "start_time": "2022-05-23T17:26:14.344Z"
   },
   {
    "duration": 415,
    "start_time": "2022-05-23T17:26:15.658Z"
   },
   {
    "duration": 0,
    "start_time": "2022-05-23T17:26:16.076Z"
   },
   {
    "duration": 0,
    "start_time": "2022-05-23T17:26:16.078Z"
   },
   {
    "duration": 0,
    "start_time": "2022-05-23T17:26:16.079Z"
   },
   {
    "duration": 0,
    "start_time": "2022-05-23T17:26:16.081Z"
   },
   {
    "duration": 0,
    "start_time": "2022-05-23T17:26:16.082Z"
   },
   {
    "duration": 0,
    "start_time": "2022-05-23T17:26:16.083Z"
   },
   {
    "duration": 0,
    "start_time": "2022-05-23T17:26:16.085Z"
   },
   {
    "duration": 0,
    "start_time": "2022-05-23T17:26:16.086Z"
   },
   {
    "duration": 0,
    "start_time": "2022-05-23T17:26:16.088Z"
   },
   {
    "duration": 0,
    "start_time": "2022-05-23T17:26:16.089Z"
   },
   {
    "duration": 0,
    "start_time": "2022-05-23T17:26:16.115Z"
   },
   {
    "duration": 0,
    "start_time": "2022-05-23T17:26:16.117Z"
   },
   {
    "duration": 0,
    "start_time": "2022-05-23T17:26:16.118Z"
   },
   {
    "duration": 0,
    "start_time": "2022-05-23T17:26:16.119Z"
   },
   {
    "duration": 0,
    "start_time": "2022-05-23T17:26:16.120Z"
   },
   {
    "duration": 1621,
    "start_time": "2022-05-23T17:26:41.628Z"
   },
   {
    "duration": 57,
    "start_time": "2022-05-23T17:26:43.251Z"
   },
   {
    "duration": 120,
    "start_time": "2022-05-23T17:26:43.310Z"
   },
   {
    "duration": 16,
    "start_time": "2022-05-23T17:26:43.432Z"
   },
   {
    "duration": 15,
    "start_time": "2022-05-23T17:26:43.450Z"
   },
   {
    "duration": 1634,
    "start_time": "2022-05-23T17:26:43.467Z"
   },
   {
    "duration": 491,
    "start_time": "2022-05-23T17:26:45.103Z"
   },
   {
    "duration": 0,
    "start_time": "2022-05-23T17:26:45.596Z"
   },
   {
    "duration": 0,
    "start_time": "2022-05-23T17:26:45.598Z"
   },
   {
    "duration": 0,
    "start_time": "2022-05-23T17:26:45.598Z"
   },
   {
    "duration": 0,
    "start_time": "2022-05-23T17:26:45.600Z"
   },
   {
    "duration": 0,
    "start_time": "2022-05-23T17:26:45.601Z"
   },
   {
    "duration": 0,
    "start_time": "2022-05-23T17:26:45.602Z"
   },
   {
    "duration": 0,
    "start_time": "2022-05-23T17:26:45.614Z"
   },
   {
    "duration": 0,
    "start_time": "2022-05-23T17:26:45.616Z"
   },
   {
    "duration": 0,
    "start_time": "2022-05-23T17:26:45.617Z"
   },
   {
    "duration": 0,
    "start_time": "2022-05-23T17:26:45.618Z"
   },
   {
    "duration": 0,
    "start_time": "2022-05-23T17:26:45.619Z"
   },
   {
    "duration": 0,
    "start_time": "2022-05-23T17:26:45.621Z"
   },
   {
    "duration": 0,
    "start_time": "2022-05-23T17:26:45.622Z"
   },
   {
    "duration": 0,
    "start_time": "2022-05-23T17:26:45.623Z"
   },
   {
    "duration": 0,
    "start_time": "2022-05-23T17:26:45.624Z"
   },
   {
    "duration": 19,
    "start_time": "2022-05-23T17:30:18.277Z"
   },
   {
    "duration": 19,
    "start_time": "2022-05-23T17:30:56.266Z"
   },
   {
    "duration": 6,
    "start_time": "2022-05-23T17:31:38.401Z"
   },
   {
    "duration": 5779,
    "start_time": "2022-05-23T17:35:32.571Z"
   },
   {
    "duration": 5689,
    "start_time": "2022-05-23T17:35:59.070Z"
   },
   {
    "duration": 41,
    "start_time": "2022-05-23T17:38:07.943Z"
   },
   {
    "duration": 246,
    "start_time": "2022-05-23T17:38:12.744Z"
   },
   {
    "duration": 369,
    "start_time": "2022-05-23T17:38:55.737Z"
   },
   {
    "duration": 234,
    "start_time": "2022-05-23T17:51:32.431Z"
   },
   {
    "duration": 286,
    "start_time": "2022-05-23T17:52:51.749Z"
   },
   {
    "duration": 20,
    "start_time": "2022-05-23T17:55:08.865Z"
   },
   {
    "duration": 4785,
    "start_time": "2022-05-23T17:57:09.527Z"
   },
   {
    "duration": 6057,
    "start_time": "2022-05-23T17:58:03.788Z"
   },
   {
    "duration": 351,
    "start_time": "2022-05-23T17:59:35.347Z"
   },
   {
    "duration": 8010,
    "start_time": "2022-05-23T17:59:45.917Z"
   },
   {
    "duration": 239,
    "start_time": "2022-05-23T18:00:26.825Z"
   },
   {
    "duration": 235,
    "start_time": "2022-05-23T18:01:01.889Z"
   },
   {
    "duration": 8307,
    "start_time": "2022-05-23T18:01:07.816Z"
   },
   {
    "duration": 6117,
    "start_time": "2022-05-23T18:01:40.223Z"
   },
   {
    "duration": 229,
    "start_time": "2022-05-23T18:02:45.261Z"
   },
   {
    "duration": 390,
    "start_time": "2022-05-23T18:03:34.585Z"
   },
   {
    "duration": 4990,
    "start_time": "2022-05-23T18:09:03.130Z"
   },
   {
    "duration": 468,
    "start_time": "2022-05-23T18:11:53.125Z"
   },
   {
    "duration": 5239,
    "start_time": "2022-05-23T18:12:23.573Z"
   },
   {
    "duration": 204,
    "start_time": "2022-05-23T18:13:10.903Z"
   },
   {
    "duration": 5028,
    "start_time": "2022-05-23T18:13:27.227Z"
   },
   {
    "duration": 7278,
    "start_time": "2022-05-23T18:14:08.788Z"
   },
   {
    "duration": 5042,
    "start_time": "2022-05-23T18:14:35.025Z"
   },
   {
    "duration": 215,
    "start_time": "2022-05-23T18:16:43.160Z"
   },
   {
    "duration": 222,
    "start_time": "2022-05-23T18:16:53.469Z"
   },
   {
    "duration": 4993,
    "start_time": "2022-05-23T18:20:48.142Z"
   },
   {
    "duration": 176,
    "start_time": "2022-05-23T18:21:46.923Z"
   },
   {
    "duration": 1673,
    "start_time": "2022-05-23T18:23:57.726Z"
   },
   {
    "duration": 1022,
    "start_time": "2022-05-23T18:24:13.127Z"
   },
   {
    "duration": 5105,
    "start_time": "2022-05-23T18:24:26.926Z"
   },
   {
    "duration": 155,
    "start_time": "2022-05-23T18:26:05.729Z"
   },
   {
    "duration": 153,
    "start_time": "2022-05-23T18:26:36.551Z"
   },
   {
    "duration": 27,
    "start_time": "2022-05-23T18:26:47.982Z"
   },
   {
    "duration": 158,
    "start_time": "2022-05-23T18:26:52.104Z"
   },
   {
    "duration": 38,
    "start_time": "2022-05-23T18:28:41.757Z"
   },
   {
    "duration": 45,
    "start_time": "2022-05-23T18:28:45.296Z"
   },
   {
    "duration": 4982,
    "start_time": "2022-05-23T18:29:22.660Z"
   },
   {
    "duration": 7340,
    "start_time": "2022-05-23T18:32:01.789Z"
   },
   {
    "duration": 7018,
    "start_time": "2022-05-23T18:33:49.855Z"
   },
   {
    "duration": 7760,
    "start_time": "2022-05-23T18:36:36.762Z"
   },
   {
    "duration": 800,
    "start_time": "2022-05-23T18:42:41.262Z"
   },
   {
    "duration": 527,
    "start_time": "2022-05-23T18:44:20.529Z"
   },
   {
    "duration": 573,
    "start_time": "2022-05-23T18:44:36.963Z"
   },
   {
    "duration": 680,
    "start_time": "2022-05-23T18:45:11.126Z"
   },
   {
    "duration": 47,
    "start_time": "2022-05-23T18:58:27.302Z"
   },
   {
    "duration": 3206,
    "start_time": "2022-05-23T19:00:07.194Z"
   },
   {
    "duration": 208,
    "start_time": "2022-05-23T19:02:40.995Z"
   },
   {
    "duration": 1392,
    "start_time": "2022-05-23T19:03:05.790Z"
   },
   {
    "duration": 48,
    "start_time": "2022-05-23T19:09:23.380Z"
   },
   {
    "duration": 215,
    "start_time": "2022-05-23T19:09:32.360Z"
   },
   {
    "duration": 7,
    "start_time": "2022-05-23T19:10:21.210Z"
   },
   {
    "duration": 225,
    "start_time": "2022-05-23T19:10:33.806Z"
   },
   {
    "duration": 1393,
    "start_time": "2022-05-23T19:10:50.862Z"
   },
   {
    "duration": 1419,
    "start_time": "2022-05-23T19:11:24.202Z"
   },
   {
    "duration": 1500,
    "start_time": "2022-05-24T07:44:38.399Z"
   },
   {
    "duration": 83,
    "start_time": "2022-05-24T07:44:39.901Z"
   },
   {
    "duration": 90,
    "start_time": "2022-05-24T07:44:39.986Z"
   },
   {
    "duration": 10,
    "start_time": "2022-05-24T07:44:40.078Z"
   },
   {
    "duration": 1375,
    "start_time": "2022-05-24T07:44:40.090Z"
   },
   {
    "duration": 669,
    "start_time": "2022-05-24T07:44:41.467Z"
   },
   {
    "duration": 3363,
    "start_time": "2022-05-24T07:44:42.141Z"
   },
   {
    "duration": 17,
    "start_time": "2022-05-24T07:44:45.506Z"
   },
   {
    "duration": 1534,
    "start_time": "2022-05-24T07:44:45.524Z"
   },
   {
    "duration": 5,
    "start_time": "2022-05-24T07:44:47.060Z"
   },
   {
    "duration": 14,
    "start_time": "2022-05-24T07:44:47.066Z"
   },
   {
    "duration": 17,
    "start_time": "2022-05-24T07:44:47.082Z"
   },
   {
    "duration": 14,
    "start_time": "2022-05-24T07:44:47.100Z"
   },
   {
    "duration": 1488,
    "start_time": "2022-05-24T07:44:47.116Z"
   },
   {
    "duration": 509,
    "start_time": "2022-05-24T07:44:48.606Z"
   },
   {
    "duration": 118643,
    "start_time": "2022-05-24T07:44:49.117Z"
   },
   {
    "duration": 899,
    "start_time": "2022-05-24T07:46:47.762Z"
   },
   {
    "duration": 4,
    "start_time": "2022-05-24T07:46:48.752Z"
   },
   {
    "duration": 20,
    "start_time": "2022-05-24T07:46:48.758Z"
   },
   {
    "duration": 3952,
    "start_time": "2022-05-24T07:46:48.780Z"
   },
   {
    "duration": 19,
    "start_time": "2022-05-24T07:46:52.734Z"
   },
   {
    "duration": 1444,
    "start_time": "2022-05-24T07:59:48.311Z"
   },
   {
    "duration": 44,
    "start_time": "2022-05-24T07:59:49.757Z"
   },
   {
    "duration": 80,
    "start_time": "2022-05-24T07:59:49.803Z"
   },
   {
    "duration": 12,
    "start_time": "2022-05-24T07:59:49.885Z"
   },
   {
    "duration": 1258,
    "start_time": "2022-05-24T07:59:49.898Z"
   },
   {
    "duration": 3090,
    "start_time": "2022-05-24T07:59:51.158Z"
   },
   {
    "duration": 15,
    "start_time": "2022-05-24T07:59:54.251Z"
   },
   {
    "duration": 1620,
    "start_time": "2022-05-24T07:59:54.268Z"
   },
   {
    "duration": 4,
    "start_time": "2022-05-24T07:59:55.890Z"
   },
   {
    "duration": 8,
    "start_time": "2022-05-24T07:59:55.896Z"
   },
   {
    "duration": 5,
    "start_time": "2022-05-24T07:59:55.906Z"
   },
   {
    "duration": 10,
    "start_time": "2022-05-24T07:59:55.912Z"
   },
   {
    "duration": 1258,
    "start_time": "2022-05-24T07:59:55.923Z"
   },
   {
    "duration": 542,
    "start_time": "2022-05-24T07:59:57.183Z"
   },
   {
    "duration": 114324,
    "start_time": "2022-05-24T07:59:57.727Z"
   },
   {
    "duration": 1003,
    "start_time": "2022-05-24T08:01:52.053Z"
   },
   {
    "duration": 3,
    "start_time": "2022-05-24T08:01:53.059Z"
   },
   {
    "duration": 26,
    "start_time": "2022-05-24T08:01:53.152Z"
   },
   {
    "duration": 4270,
    "start_time": "2022-05-24T08:01:53.180Z"
   },
   {
    "duration": 8,
    "start_time": "2022-05-24T08:01:57.451Z"
   },
   {
    "duration": 42,
    "start_time": "2022-05-24T08:07:03.461Z"
   },
   {
    "duration": 785,
    "start_time": "2022-05-24T08:28:21.664Z"
   },
   {
    "duration": 1005,
    "start_time": "2022-05-24T08:28:31.423Z"
   },
   {
    "duration": 1514,
    "start_time": "2022-05-24T08:28:44.441Z"
   },
   {
    "duration": 46,
    "start_time": "2022-05-24T08:28:45.957Z"
   },
   {
    "duration": 77,
    "start_time": "2022-05-24T08:28:46.005Z"
   },
   {
    "duration": 11,
    "start_time": "2022-05-24T08:28:46.084Z"
   },
   {
    "duration": 1335,
    "start_time": "2022-05-24T08:28:46.096Z"
   },
   {
    "duration": 3204,
    "start_time": "2022-05-24T08:28:47.433Z"
   },
   {
    "duration": 22,
    "start_time": "2022-05-24T08:28:50.639Z"
   },
   {
    "duration": 1737,
    "start_time": "2022-05-24T08:28:50.663Z"
   },
   {
    "duration": 4,
    "start_time": "2022-05-24T08:28:52.402Z"
   },
   {
    "duration": 16,
    "start_time": "2022-05-24T08:28:52.409Z"
   },
   {
    "duration": 6,
    "start_time": "2022-05-24T08:28:52.427Z"
   },
   {
    "duration": 22,
    "start_time": "2022-05-24T08:28:52.434Z"
   },
   {
    "duration": 1380,
    "start_time": "2022-05-24T08:28:52.458Z"
   },
   {
    "duration": 568,
    "start_time": "2022-05-24T08:28:53.840Z"
   },
   {
    "duration": 119430,
    "start_time": "2022-05-24T08:28:54.409Z"
   },
   {
    "duration": 1021,
    "start_time": "2022-05-24T08:30:53.841Z"
   },
   {
    "duration": 90,
    "start_time": "2022-05-24T08:30:54.864Z"
   },
   {
    "duration": 25,
    "start_time": "2022-05-24T08:30:54.956Z"
   },
   {
    "duration": 4475,
    "start_time": "2022-05-24T08:30:54.982Z"
   },
   {
    "duration": 8,
    "start_time": "2022-05-24T08:30:59.459Z"
   },
   {
    "duration": 818,
    "start_time": "2022-05-24T08:30:59.469Z"
   },
   {
    "duration": 1487,
    "start_time": "2022-05-24T08:31:46.539Z"
   },
   {
    "duration": 45,
    "start_time": "2022-05-24T08:31:48.030Z"
   },
   {
    "duration": 104,
    "start_time": "2022-05-24T08:31:48.077Z"
   },
   {
    "duration": 12,
    "start_time": "2022-05-24T08:31:48.184Z"
   },
   {
    "duration": 1055,
    "start_time": "2022-05-24T08:31:48.198Z"
   },
   {
    "duration": 3302,
    "start_time": "2022-05-24T08:31:49.255Z"
   },
   {
    "duration": 29,
    "start_time": "2022-05-24T08:31:52.559Z"
   },
   {
    "duration": 1682,
    "start_time": "2022-05-24T08:31:52.590Z"
   },
   {
    "duration": 4,
    "start_time": "2022-05-24T08:31:54.274Z"
   },
   {
    "duration": 6,
    "start_time": "2022-05-24T08:31:54.281Z"
   },
   {
    "duration": 6,
    "start_time": "2022-05-24T08:31:54.288Z"
   },
   {
    "duration": 8,
    "start_time": "2022-05-24T08:31:54.295Z"
   },
   {
    "duration": 1489,
    "start_time": "2022-05-24T08:31:54.306Z"
   },
   {
    "duration": 561,
    "start_time": "2022-05-24T08:31:55.797Z"
   },
   {
    "duration": 117525,
    "start_time": "2022-05-24T08:31:56.360Z"
   },
   {
    "duration": 972,
    "start_time": "2022-05-24T08:33:53.886Z"
   },
   {
    "duration": 3,
    "start_time": "2022-05-24T08:33:54.860Z"
   },
   {
    "duration": 19,
    "start_time": "2022-05-24T08:33:54.864Z"
   },
   {
    "duration": 3939,
    "start_time": "2022-05-24T08:33:54.884Z"
   },
   {
    "duration": 15,
    "start_time": "2022-05-24T08:33:58.825Z"
   },
   {
    "duration": 1861,
    "start_time": "2022-05-24T08:35:01.452Z"
   },
   {
    "duration": 838,
    "start_time": "2022-05-24T08:40:44.689Z"
   },
   {
    "duration": 1486,
    "start_time": "2022-05-24T08:41:03.824Z"
   },
   {
    "duration": 51,
    "start_time": "2022-05-24T08:41:05.312Z"
   },
   {
    "duration": 111,
    "start_time": "2022-05-24T08:41:05.365Z"
   },
   {
    "duration": 10,
    "start_time": "2022-05-24T08:41:05.478Z"
   },
   {
    "duration": 1494,
    "start_time": "2022-05-24T08:41:05.490Z"
   },
   {
    "duration": 3587,
    "start_time": "2022-05-24T08:41:06.985Z"
   },
   {
    "duration": 15,
    "start_time": "2022-05-24T08:41:10.574Z"
   },
   {
    "duration": 1569,
    "start_time": "2022-05-24T08:41:10.591Z"
   },
   {
    "duration": 4,
    "start_time": "2022-05-24T08:41:12.161Z"
   },
   {
    "duration": 5,
    "start_time": "2022-05-24T08:41:12.168Z"
   },
   {
    "duration": 5,
    "start_time": "2022-05-24T08:41:12.174Z"
   },
   {
    "duration": 7,
    "start_time": "2022-05-24T08:41:12.181Z"
   },
   {
    "duration": 1349,
    "start_time": "2022-05-24T08:41:12.189Z"
   },
   {
    "duration": 542,
    "start_time": "2022-05-24T08:41:13.539Z"
   },
   {
    "duration": 1567,
    "start_time": "2022-05-24T08:42:50.859Z"
   },
   {
    "duration": 46,
    "start_time": "2022-05-24T08:42:52.429Z"
   },
   {
    "duration": 125,
    "start_time": "2022-05-24T08:42:52.476Z"
   },
   {
    "duration": 18,
    "start_time": "2022-05-24T08:42:52.603Z"
   },
   {
    "duration": 16,
    "start_time": "2022-05-24T08:42:52.623Z"
   },
   {
    "duration": 0,
    "start_time": "2022-05-24T08:42:52.652Z"
   },
   {
    "duration": 0,
    "start_time": "2022-05-24T08:42:52.654Z"
   },
   {
    "duration": 0,
    "start_time": "2022-05-24T08:42:52.655Z"
   },
   {
    "duration": 0,
    "start_time": "2022-05-24T08:42:52.656Z"
   },
   {
    "duration": 0,
    "start_time": "2022-05-24T08:42:52.657Z"
   },
   {
    "duration": 0,
    "start_time": "2022-05-24T08:42:52.658Z"
   },
   {
    "duration": 0,
    "start_time": "2022-05-24T08:42:52.660Z"
   },
   {
    "duration": 0,
    "start_time": "2022-05-24T08:42:52.661Z"
   },
   {
    "duration": 0,
    "start_time": "2022-05-24T08:42:52.663Z"
   },
   {
    "duration": 0,
    "start_time": "2022-05-24T08:42:52.664Z"
   },
   {
    "duration": 0,
    "start_time": "2022-05-24T08:42:52.664Z"
   },
   {
    "duration": 0,
    "start_time": "2022-05-24T08:42:52.665Z"
   },
   {
    "duration": 0,
    "start_time": "2022-05-24T08:42:52.667Z"
   },
   {
    "duration": 0,
    "start_time": "2022-05-24T08:42:52.668Z"
   },
   {
    "duration": 0,
    "start_time": "2022-05-24T08:42:52.668Z"
   },
   {
    "duration": 0,
    "start_time": "2022-05-24T08:42:52.669Z"
   },
   {
    "duration": 4,
    "start_time": "2022-05-24T08:43:22.281Z"
   },
   {
    "duration": 154,
    "start_time": "2022-05-24T08:43:35.036Z"
   },
   {
    "duration": 17,
    "start_time": "2022-05-24T08:44:01.897Z"
   },
   {
    "duration": 5653,
    "start_time": "2022-05-24T08:44:13.059Z"
   },
   {
    "duration": 5755,
    "start_time": "2022-05-24T08:44:29.578Z"
   },
   {
    "duration": 217,
    "start_time": "2022-05-24T08:46:05.309Z"
   },
   {
    "duration": 28,
    "start_time": "2022-05-24T08:46:23.306Z"
   },
   {
    "duration": 210,
    "start_time": "2022-05-24T08:46:31.479Z"
   },
   {
    "duration": 5,
    "start_time": "2022-05-24T08:47:32.760Z"
   },
   {
    "duration": 197,
    "start_time": "2022-05-24T08:47:54.647Z"
   },
   {
    "duration": 5662,
    "start_time": "2022-05-24T08:48:19.435Z"
   },
   {
    "duration": 8277,
    "start_time": "2022-05-24T08:48:48.577Z"
   },
   {
    "duration": 194,
    "start_time": "2022-05-24T08:49:35.607Z"
   },
   {
    "duration": 206,
    "start_time": "2022-05-24T08:50:07.904Z"
   },
   {
    "duration": 215,
    "start_time": "2022-05-24T08:50:31.446Z"
   },
   {
    "duration": 223,
    "start_time": "2022-05-24T08:50:45.120Z"
   },
   {
    "duration": 191,
    "start_time": "2022-05-24T08:51:29.495Z"
   },
   {
    "duration": 218,
    "start_time": "2022-05-24T08:53:46.540Z"
   },
   {
    "duration": 14,
    "start_time": "2022-05-24T08:55:10.464Z"
   },
   {
    "duration": 219,
    "start_time": "2022-05-24T09:00:37.931Z"
   },
   {
    "duration": 211,
    "start_time": "2022-05-24T09:00:54.800Z"
   },
   {
    "duration": 0,
    "start_time": "2022-05-24T09:02:07.730Z"
   },
   {
    "duration": 1479,
    "start_time": "2022-05-24T09:03:18.955Z"
   },
   {
    "duration": 43,
    "start_time": "2022-05-24T09:03:20.436Z"
   },
   {
    "duration": 85,
    "start_time": "2022-05-24T09:03:20.481Z"
   },
   {
    "duration": 12,
    "start_time": "2022-05-24T09:03:20.568Z"
   },
   {
    "duration": 4,
    "start_time": "2022-05-24T09:03:20.582Z"
   },
   {
    "duration": 7,
    "start_time": "2022-05-24T09:03:20.588Z"
   },
   {
    "duration": 0,
    "start_time": "2022-05-24T09:04:17.007Z"
   },
   {
    "duration": 0,
    "start_time": "2022-05-24T09:04:17.008Z"
   },
   {
    "duration": 0,
    "start_time": "2022-05-24T09:04:17.009Z"
   },
   {
    "duration": 0,
    "start_time": "2022-05-24T09:04:17.010Z"
   },
   {
    "duration": 0,
    "start_time": "2022-05-24T09:04:17.011Z"
   },
   {
    "duration": 0,
    "start_time": "2022-05-24T09:04:17.012Z"
   },
   {
    "duration": 0,
    "start_time": "2022-05-24T09:04:17.014Z"
   },
   {
    "duration": 0,
    "start_time": "2022-05-24T09:04:17.015Z"
   },
   {
    "duration": 0,
    "start_time": "2022-05-24T09:04:17.017Z"
   },
   {
    "duration": 0,
    "start_time": "2022-05-24T09:04:17.018Z"
   },
   {
    "duration": 0,
    "start_time": "2022-05-24T09:04:17.020Z"
   },
   {
    "duration": 0,
    "start_time": "2022-05-24T09:04:17.021Z"
   },
   {
    "duration": 0,
    "start_time": "2022-05-24T09:04:17.023Z"
   },
   {
    "duration": 0,
    "start_time": "2022-05-24T09:04:17.024Z"
   },
   {
    "duration": 0,
    "start_time": "2022-05-24T09:04:17.025Z"
   },
   {
    "duration": 0,
    "start_time": "2022-05-24T09:04:17.027Z"
   },
   {
    "duration": 0,
    "start_time": "2022-05-24T09:04:17.028Z"
   },
   {
    "duration": 1562,
    "start_time": "2022-05-24T09:04:27.158Z"
   },
   {
    "duration": 45,
    "start_time": "2022-05-24T09:04:28.722Z"
   },
   {
    "duration": 94,
    "start_time": "2022-05-24T09:04:28.769Z"
   },
   {
    "duration": 12,
    "start_time": "2022-05-24T09:04:28.865Z"
   },
   {
    "duration": 5,
    "start_time": "2022-05-24T09:04:28.878Z"
   },
   {
    "duration": 6,
    "start_time": "2022-05-24T09:04:28.884Z"
   },
   {
    "duration": 864,
    "start_time": "2022-05-24T09:04:28.892Z"
   },
   {
    "duration": 0,
    "start_time": "2022-05-24T09:04:29.760Z"
   },
   {
    "duration": 0,
    "start_time": "2022-05-24T09:04:29.762Z"
   },
   {
    "duration": 0,
    "start_time": "2022-05-24T09:04:29.764Z"
   },
   {
    "duration": 0,
    "start_time": "2022-05-24T09:04:29.765Z"
   },
   {
    "duration": 0,
    "start_time": "2022-05-24T09:04:29.767Z"
   },
   {
    "duration": 0,
    "start_time": "2022-05-24T09:04:29.768Z"
   },
   {
    "duration": 0,
    "start_time": "2022-05-24T09:04:29.770Z"
   },
   {
    "duration": 0,
    "start_time": "2022-05-24T09:04:29.772Z"
   },
   {
    "duration": 0,
    "start_time": "2022-05-24T09:04:29.774Z"
   },
   {
    "duration": 0,
    "start_time": "2022-05-24T09:04:29.775Z"
   },
   {
    "duration": 0,
    "start_time": "2022-05-24T09:04:29.776Z"
   },
   {
    "duration": 0,
    "start_time": "2022-05-24T09:04:29.777Z"
   },
   {
    "duration": 0,
    "start_time": "2022-05-24T09:04:29.778Z"
   },
   {
    "duration": 0,
    "start_time": "2022-05-24T09:04:29.779Z"
   },
   {
    "duration": 0,
    "start_time": "2022-05-24T09:04:29.780Z"
   },
   {
    "duration": 0,
    "start_time": "2022-05-24T09:04:29.781Z"
   },
   {
    "duration": 627,
    "start_time": "2022-05-24T09:04:44.195Z"
   },
   {
    "duration": 1456,
    "start_time": "2022-05-24T09:05:04.693Z"
   },
   {
    "duration": 1022,
    "start_time": "2022-05-24T09:05:20.454Z"
   },
   {
    "duration": 1142,
    "start_time": "2022-05-24T09:05:34.076Z"
   },
   {
    "duration": 961,
    "start_time": "2022-05-24T09:05:44.141Z"
   },
   {
    "duration": 958,
    "start_time": "2022-05-24T09:05:52.393Z"
   },
   {
    "duration": 1046,
    "start_time": "2022-05-24T09:06:00.741Z"
   },
   {
    "duration": 1269,
    "start_time": "2022-05-24T09:06:34.539Z"
   },
   {
    "duration": 1187,
    "start_time": "2022-05-24T09:06:52.695Z"
   },
   {
    "duration": 1288,
    "start_time": "2022-05-24T09:07:02.203Z"
   },
   {
    "duration": 967,
    "start_time": "2022-05-24T09:07:40.413Z"
   },
   {
    "duration": 1160,
    "start_time": "2022-05-24T09:07:48.716Z"
   },
   {
    "duration": 1089,
    "start_time": "2022-05-24T09:07:57.128Z"
   },
   {
    "duration": 212,
    "start_time": "2022-05-24T09:08:50.647Z"
   },
   {
    "duration": 1429,
    "start_time": "2022-05-24T09:09:00.838Z"
   },
   {
    "duration": 1429,
    "start_time": "2022-05-24T09:09:37.129Z"
   },
   {
    "duration": 1281,
    "start_time": "2022-05-24T09:09:52.741Z"
   },
   {
    "duration": 1806,
    "start_time": "2022-05-24T09:10:05.984Z"
   },
   {
    "duration": 284,
    "start_time": "2022-05-24T09:11:14.230Z"
   },
   {
    "duration": 354,
    "start_time": "2022-05-24T09:11:44.372Z"
   },
   {
    "duration": 36,
    "start_time": "2022-05-24T09:21:10.901Z"
   },
   {
    "duration": 27,
    "start_time": "2022-05-24T09:21:19.821Z"
   },
   {
    "duration": 5,
    "start_time": "2022-05-24T09:21:35.037Z"
   },
   {
    "duration": 6,
    "start_time": "2022-05-24T09:22:05.306Z"
   },
   {
    "duration": 48,
    "start_time": "2022-05-24T09:25:18.679Z"
   },
   {
    "duration": 41,
    "start_time": "2022-05-24T09:25:32.563Z"
   },
   {
    "duration": 26,
    "start_time": "2022-05-24T09:25:43.647Z"
   },
   {
    "duration": 25,
    "start_time": "2022-05-24T09:26:37.436Z"
   },
   {
    "duration": 34,
    "start_time": "2022-05-24T09:27:07.141Z"
   },
   {
    "duration": 1839,
    "start_time": "2022-05-24T09:28:50.523Z"
   },
   {
    "duration": 84,
    "start_time": "2022-05-24T09:28:52.364Z"
   },
   {
    "duration": 114,
    "start_time": "2022-05-24T09:28:52.450Z"
   },
   {
    "duration": 13,
    "start_time": "2022-05-24T09:28:52.566Z"
   },
   {
    "duration": 172,
    "start_time": "2022-05-24T09:28:52.582Z"
   },
   {
    "duration": 1,
    "start_time": "2022-05-24T09:28:52.756Z"
   },
   {
    "duration": 0,
    "start_time": "2022-05-24T09:28:52.758Z"
   },
   {
    "duration": 0,
    "start_time": "2022-05-24T09:28:52.760Z"
   },
   {
    "duration": 0,
    "start_time": "2022-05-24T09:28:52.762Z"
   },
   {
    "duration": 0,
    "start_time": "2022-05-24T09:28:52.763Z"
   },
   {
    "duration": 0,
    "start_time": "2022-05-24T09:28:52.765Z"
   },
   {
    "duration": 1,
    "start_time": "2022-05-24T09:28:52.767Z"
   },
   {
    "duration": 0,
    "start_time": "2022-05-24T09:28:52.769Z"
   },
   {
    "duration": 0,
    "start_time": "2022-05-24T09:28:52.771Z"
   },
   {
    "duration": 0,
    "start_time": "2022-05-24T09:28:52.772Z"
   },
   {
    "duration": 0,
    "start_time": "2022-05-24T09:28:52.773Z"
   },
   {
    "duration": 0,
    "start_time": "2022-05-24T09:28:52.774Z"
   },
   {
    "duration": 0,
    "start_time": "2022-05-24T09:28:52.775Z"
   },
   {
    "duration": 0,
    "start_time": "2022-05-24T09:28:52.777Z"
   },
   {
    "duration": 0,
    "start_time": "2022-05-24T09:28:52.778Z"
   },
   {
    "duration": 0,
    "start_time": "2022-05-24T09:28:52.779Z"
   },
   {
    "duration": 0,
    "start_time": "2022-05-24T09:28:52.781Z"
   },
   {
    "duration": 0,
    "start_time": "2022-05-24T09:28:52.782Z"
   },
   {
    "duration": 0,
    "start_time": "2022-05-24T09:28:52.784Z"
   },
   {
    "duration": 0,
    "start_time": "2022-05-24T09:28:52.785Z"
   },
   {
    "duration": 6,
    "start_time": "2022-05-24T09:29:12.409Z"
   },
   {
    "duration": 29,
    "start_time": "2022-05-24T09:31:27.057Z"
   },
   {
    "duration": 25,
    "start_time": "2022-05-24T09:31:36.022Z"
   },
   {
    "duration": 1651,
    "start_time": "2022-05-24T10:01:38.010Z"
   },
   {
    "duration": 3170,
    "start_time": "2022-05-24T10:01:51.718Z"
   },
   {
    "duration": 857,
    "start_time": "2022-05-24T10:02:25.716Z"
   },
   {
    "duration": 6,
    "start_time": "2022-05-24T10:02:46.822Z"
   },
   {
    "duration": 912,
    "start_time": "2022-05-24T10:02:54.109Z"
   },
   {
    "duration": 3317,
    "start_time": "2022-05-24T10:03:19.116Z"
   },
   {
    "duration": 3132,
    "start_time": "2022-05-24T10:03:46.532Z"
   },
   {
    "duration": 3992,
    "start_time": "2022-05-24T10:04:14.250Z"
   },
   {
    "duration": 3895,
    "start_time": "2022-05-24T10:04:33.351Z"
   },
   {
    "duration": 3892,
    "start_time": "2022-05-24T10:04:52.393Z"
   },
   {
    "duration": 3726,
    "start_time": "2022-05-24T10:08:03.842Z"
   },
   {
    "duration": 3646,
    "start_time": "2022-05-24T10:08:44.708Z"
   },
   {
    "duration": 3117,
    "start_time": "2022-05-24T10:09:42.413Z"
   },
   {
    "duration": 3526,
    "start_time": "2022-05-24T10:09:58.257Z"
   },
   {
    "duration": 3728,
    "start_time": "2022-05-24T10:11:07.018Z"
   },
   {
    "duration": 1833,
    "start_time": "2022-05-24T11:19:21.277Z"
   },
   {
    "duration": 71,
    "start_time": "2022-05-24T11:19:31.353Z"
   },
   {
    "duration": 160,
    "start_time": "2022-05-24T11:19:47.578Z"
   },
   {
    "duration": 7,
    "start_time": "2022-05-24T11:19:55.789Z"
   },
   {
    "duration": 24,
    "start_time": "2022-05-24T11:19:59.553Z"
   },
   {
    "duration": 3888,
    "start_time": "2022-05-24T11:20:14.702Z"
   },
   {
    "duration": 3836,
    "start_time": "2022-05-24T11:20:29.184Z"
   },
   {
    "duration": 5,
    "start_time": "2022-05-24T11:20:44.987Z"
   },
   {
    "duration": 3681,
    "start_time": "2022-05-24T11:20:49.854Z"
   },
   {
    "duration": 1811,
    "start_time": "2022-05-24T11:21:02.790Z"
   },
   {
    "duration": 54,
    "start_time": "2022-05-24T11:21:55.906Z"
   },
   {
    "duration": 61,
    "start_time": "2022-05-24T11:22:01.350Z"
   },
   {
    "duration": 29,
    "start_time": "2022-05-24T11:22:17.388Z"
   },
   {
    "duration": 37,
    "start_time": "2022-05-24T11:22:24.982Z"
   },
   {
    "duration": 2425,
    "start_time": "2022-05-24T11:24:05.356Z"
   },
   {
    "duration": 2339,
    "start_time": "2022-05-24T11:24:12.156Z"
   },
   {
    "duration": 2404,
    "start_time": "2022-05-24T11:24:17.071Z"
   },
   {
    "duration": 2425,
    "start_time": "2022-05-24T11:24:28.006Z"
   },
   {
    "duration": 2590,
    "start_time": "2022-05-24T11:25:00.062Z"
   },
   {
    "duration": 2339,
    "start_time": "2022-05-24T11:25:40.951Z"
   },
   {
    "duration": 2900,
    "start_time": "2022-05-24T11:26:11.126Z"
   },
   {
    "duration": 150,
    "start_time": "2022-05-24T11:27:55.719Z"
   },
   {
    "duration": 1477,
    "start_time": "2022-05-24T11:28:03.491Z"
   },
   {
    "duration": 45,
    "start_time": "2022-05-24T11:28:04.970Z"
   },
   {
    "duration": 84,
    "start_time": "2022-05-24T11:28:05.020Z"
   },
   {
    "duration": 53,
    "start_time": "2022-05-24T11:28:05.106Z"
   },
   {
    "duration": 373,
    "start_time": "2022-05-24T11:28:05.161Z"
   },
   {
    "duration": 0,
    "start_time": "2022-05-24T11:28:05.536Z"
   },
   {
    "duration": 0,
    "start_time": "2022-05-24T11:28:05.537Z"
   },
   {
    "duration": 0,
    "start_time": "2022-05-24T11:28:05.538Z"
   },
   {
    "duration": 0,
    "start_time": "2022-05-24T11:28:05.539Z"
   },
   {
    "duration": 0,
    "start_time": "2022-05-24T11:28:05.552Z"
   },
   {
    "duration": 0,
    "start_time": "2022-05-24T11:28:05.553Z"
   },
   {
    "duration": 0,
    "start_time": "2022-05-24T11:28:05.554Z"
   },
   {
    "duration": 0,
    "start_time": "2022-05-24T11:28:05.555Z"
   },
   {
    "duration": 0,
    "start_time": "2022-05-24T11:28:05.557Z"
   },
   {
    "duration": 0,
    "start_time": "2022-05-24T11:28:05.558Z"
   },
   {
    "duration": 0,
    "start_time": "2022-05-24T11:28:05.560Z"
   },
   {
    "duration": 0,
    "start_time": "2022-05-24T11:28:05.562Z"
   },
   {
    "duration": 0,
    "start_time": "2022-05-24T11:28:05.563Z"
   },
   {
    "duration": 0,
    "start_time": "2022-05-24T11:28:05.564Z"
   },
   {
    "duration": 0,
    "start_time": "2022-05-24T11:28:05.566Z"
   },
   {
    "duration": 0,
    "start_time": "2022-05-24T11:28:05.567Z"
   },
   {
    "duration": 0,
    "start_time": "2022-05-24T11:28:05.569Z"
   },
   {
    "duration": 0,
    "start_time": "2022-05-24T11:28:05.571Z"
   },
   {
    "duration": 0,
    "start_time": "2022-05-24T11:28:05.572Z"
   },
   {
    "duration": 254,
    "start_time": "2022-05-24T11:28:31.466Z"
   },
   {
    "duration": 261,
    "start_time": "2022-05-24T11:28:38.057Z"
   },
   {
    "duration": 1454,
    "start_time": "2022-05-24T11:28:47.994Z"
   },
   {
    "duration": 1449,
    "start_time": "2022-05-24T11:29:50.572Z"
   },
   {
    "duration": 46,
    "start_time": "2022-05-24T11:29:52.023Z"
   },
   {
    "duration": 96,
    "start_time": "2022-05-24T11:29:52.070Z"
   },
   {
    "duration": 12,
    "start_time": "2022-05-24T11:29:52.168Z"
   },
   {
    "duration": 1385,
    "start_time": "2022-05-24T11:30:35.298Z"
   },
   {
    "duration": 45,
    "start_time": "2022-05-24T11:30:36.685Z"
   },
   {
    "duration": 107,
    "start_time": "2022-05-24T11:30:36.731Z"
   },
   {
    "duration": 11,
    "start_time": "2022-05-24T11:30:36.851Z"
   },
   {
    "duration": 1542,
    "start_time": "2022-05-24T11:31:14.415Z"
   },
   {
    "duration": 44,
    "start_time": "2022-05-24T11:31:15.959Z"
   },
   {
    "duration": 82,
    "start_time": "2022-05-24T11:31:16.005Z"
   },
   {
    "duration": 11,
    "start_time": "2022-05-24T11:31:16.089Z"
   },
   {
    "duration": 1398,
    "start_time": "2022-05-24T11:31:16.101Z"
   },
   {
    "duration": 5,
    "start_time": "2022-05-24T11:31:17.500Z"
   },
   {
    "duration": 0,
    "start_time": "2022-05-24T11:31:17.507Z"
   },
   {
    "duration": 0,
    "start_time": "2022-05-24T11:31:17.508Z"
   },
   {
    "duration": 0,
    "start_time": "2022-05-24T11:31:17.510Z"
   },
   {
    "duration": 0,
    "start_time": "2022-05-24T11:31:17.511Z"
   },
   {
    "duration": 0,
    "start_time": "2022-05-24T11:31:17.513Z"
   },
   {
    "duration": 0,
    "start_time": "2022-05-24T11:31:17.514Z"
   },
   {
    "duration": 0,
    "start_time": "2022-05-24T11:31:17.515Z"
   },
   {
    "duration": 0,
    "start_time": "2022-05-24T11:31:17.516Z"
   },
   {
    "duration": 0,
    "start_time": "2022-05-24T11:31:17.517Z"
   },
   {
    "duration": 0,
    "start_time": "2022-05-24T11:31:17.518Z"
   },
   {
    "duration": 0,
    "start_time": "2022-05-24T11:31:17.519Z"
   },
   {
    "duration": 0,
    "start_time": "2022-05-24T11:31:17.520Z"
   },
   {
    "duration": 0,
    "start_time": "2022-05-24T11:31:17.552Z"
   },
   {
    "duration": 0,
    "start_time": "2022-05-24T11:31:17.553Z"
   },
   {
    "duration": 0,
    "start_time": "2022-05-24T11:31:17.554Z"
   },
   {
    "duration": 0,
    "start_time": "2022-05-24T11:31:17.555Z"
   },
   {
    "duration": 0,
    "start_time": "2022-05-24T11:31:17.556Z"
   },
   {
    "duration": 0,
    "start_time": "2022-05-24T11:31:17.557Z"
   },
   {
    "duration": 1673,
    "start_time": "2022-05-24T11:31:41.998Z"
   },
   {
    "duration": 1416,
    "start_time": "2022-05-24T11:34:52.299Z"
   },
   {
    "duration": 44,
    "start_time": "2022-05-24T11:34:53.717Z"
   },
   {
    "duration": 98,
    "start_time": "2022-05-24T11:34:53.763Z"
   },
   {
    "duration": 10,
    "start_time": "2022-05-24T11:34:53.863Z"
   },
   {
    "duration": 1461,
    "start_time": "2022-05-24T11:36:10.352Z"
   },
   {
    "duration": 46,
    "start_time": "2022-05-24T11:36:11.816Z"
   },
   {
    "duration": 104,
    "start_time": "2022-05-24T11:36:11.863Z"
   },
   {
    "duration": 11,
    "start_time": "2022-05-24T11:36:11.970Z"
   },
   {
    "duration": 1693,
    "start_time": "2022-05-24T11:36:11.983Z"
   },
   {
    "duration": 6,
    "start_time": "2022-05-24T11:36:13.678Z"
   },
   {
    "duration": 0,
    "start_time": "2022-05-24T11:36:13.685Z"
   },
   {
    "duration": 0,
    "start_time": "2022-05-24T11:36:13.687Z"
   },
   {
    "duration": 0,
    "start_time": "2022-05-24T11:36:13.688Z"
   },
   {
    "duration": 0,
    "start_time": "2022-05-24T11:36:13.689Z"
   },
   {
    "duration": 0,
    "start_time": "2022-05-24T11:36:13.690Z"
   },
   {
    "duration": 0,
    "start_time": "2022-05-24T11:36:13.692Z"
   },
   {
    "duration": 0,
    "start_time": "2022-05-24T11:36:13.692Z"
   },
   {
    "duration": 0,
    "start_time": "2022-05-24T11:36:13.693Z"
   },
   {
    "duration": 1,
    "start_time": "2022-05-24T11:36:13.694Z"
   },
   {
    "duration": 0,
    "start_time": "2022-05-24T11:36:13.695Z"
   },
   {
    "duration": 0,
    "start_time": "2022-05-24T11:36:13.697Z"
   },
   {
    "duration": 0,
    "start_time": "2022-05-24T11:36:13.699Z"
   },
   {
    "duration": 0,
    "start_time": "2022-05-24T11:36:13.701Z"
   },
   {
    "duration": 0,
    "start_time": "2022-05-24T11:36:13.703Z"
   },
   {
    "duration": 0,
    "start_time": "2022-05-24T11:36:13.704Z"
   },
   {
    "duration": 0,
    "start_time": "2022-05-24T11:36:13.705Z"
   },
   {
    "duration": 0,
    "start_time": "2022-05-24T11:36:13.707Z"
   },
   {
    "duration": 0,
    "start_time": "2022-05-24T11:36:13.752Z"
   },
   {
    "duration": 1559,
    "start_time": "2022-05-24T11:37:11.475Z"
   },
   {
    "duration": 58,
    "start_time": "2022-05-24T11:37:13.036Z"
   },
   {
    "duration": 94,
    "start_time": "2022-05-24T11:37:13.096Z"
   },
   {
    "duration": 10,
    "start_time": "2022-05-24T11:37:13.193Z"
   },
   {
    "duration": 1507,
    "start_time": "2022-05-24T11:38:48.431Z"
   },
   {
    "duration": 55,
    "start_time": "2022-05-24T11:38:49.940Z"
   },
   {
    "duration": 87,
    "start_time": "2022-05-24T11:38:49.997Z"
   },
   {
    "duration": 11,
    "start_time": "2022-05-24T11:38:50.086Z"
   },
   {
    "duration": 1388,
    "start_time": "2022-05-24T11:41:48.400Z"
   },
   {
    "duration": 46,
    "start_time": "2022-05-24T11:41:49.790Z"
   },
   {
    "duration": 76,
    "start_time": "2022-05-24T11:41:49.837Z"
   },
   {
    "duration": 37,
    "start_time": "2022-05-24T11:41:49.915Z"
   },
   {
    "duration": 1407,
    "start_time": "2022-05-24T11:41:49.954Z"
   },
   {
    "duration": 6,
    "start_time": "2022-05-24T11:41:51.363Z"
   },
   {
    "duration": 0,
    "start_time": "2022-05-24T11:41:51.371Z"
   },
   {
    "duration": 0,
    "start_time": "2022-05-24T11:41:51.372Z"
   },
   {
    "duration": 0,
    "start_time": "2022-05-24T11:41:51.374Z"
   },
   {
    "duration": 0,
    "start_time": "2022-05-24T11:41:51.375Z"
   },
   {
    "duration": 0,
    "start_time": "2022-05-24T11:41:51.376Z"
   },
   {
    "duration": 0,
    "start_time": "2022-05-24T11:41:51.377Z"
   },
   {
    "duration": 0,
    "start_time": "2022-05-24T11:41:51.379Z"
   },
   {
    "duration": 0,
    "start_time": "2022-05-24T11:41:51.380Z"
   },
   {
    "duration": 0,
    "start_time": "2022-05-24T11:41:51.381Z"
   },
   {
    "duration": 0,
    "start_time": "2022-05-24T11:41:51.382Z"
   },
   {
    "duration": 0,
    "start_time": "2022-05-24T11:41:51.383Z"
   },
   {
    "duration": 0,
    "start_time": "2022-05-24T11:41:51.384Z"
   },
   {
    "duration": 0,
    "start_time": "2022-05-24T11:41:51.385Z"
   },
   {
    "duration": 0,
    "start_time": "2022-05-24T11:41:51.387Z"
   },
   {
    "duration": 0,
    "start_time": "2022-05-24T11:41:51.388Z"
   },
   {
    "duration": 0,
    "start_time": "2022-05-24T11:41:51.389Z"
   },
   {
    "duration": 0,
    "start_time": "2022-05-24T11:41:51.390Z"
   },
   {
    "duration": 0,
    "start_time": "2022-05-24T11:41:51.391Z"
   },
   {
    "duration": 1509,
    "start_time": "2022-05-24T11:42:06.410Z"
   },
   {
    "duration": 1426,
    "start_time": "2022-05-24T11:42:25.370Z"
   },
   {
    "duration": 1436,
    "start_time": "2022-05-24T11:42:35.110Z"
   },
   {
    "duration": 1596,
    "start_time": "2022-05-24T11:42:45.186Z"
   },
   {
    "duration": 1615,
    "start_time": "2022-05-24T11:43:14.667Z"
   },
   {
    "duration": 1634,
    "start_time": "2022-05-24T11:43:36.018Z"
   },
   {
    "duration": 1417,
    "start_time": "2022-05-24T11:44:56.986Z"
   },
   {
    "duration": 44,
    "start_time": "2022-05-24T11:44:58.405Z"
   },
   {
    "duration": 73,
    "start_time": "2022-05-24T11:44:58.451Z"
   },
   {
    "duration": 33,
    "start_time": "2022-05-24T11:44:58.526Z"
   },
   {
    "duration": 821657,
    "start_time": "2022-05-24T11:44:58.560Z"
   },
   {
    "duration": 55,
    "start_time": "2022-05-24T11:58:40.219Z"
   },
   {
    "duration": 0,
    "start_time": "2022-05-24T11:58:40.276Z"
   },
   {
    "duration": 0,
    "start_time": "2022-05-24T11:58:40.277Z"
   },
   {
    "duration": 0,
    "start_time": "2022-05-24T11:58:40.278Z"
   },
   {
    "duration": 0,
    "start_time": "2022-05-24T11:58:40.280Z"
   },
   {
    "duration": 0,
    "start_time": "2022-05-24T11:58:40.281Z"
   },
   {
    "duration": 0,
    "start_time": "2022-05-24T11:58:40.282Z"
   },
   {
    "duration": 0,
    "start_time": "2022-05-24T11:58:40.283Z"
   },
   {
    "duration": 0,
    "start_time": "2022-05-24T11:58:40.285Z"
   },
   {
    "duration": 0,
    "start_time": "2022-05-24T11:58:40.286Z"
   },
   {
    "duration": 0,
    "start_time": "2022-05-24T11:58:40.288Z"
   },
   {
    "duration": 0,
    "start_time": "2022-05-24T11:58:40.289Z"
   },
   {
    "duration": 0,
    "start_time": "2022-05-24T11:58:40.290Z"
   },
   {
    "duration": 0,
    "start_time": "2022-05-24T11:58:40.291Z"
   },
   {
    "duration": 0,
    "start_time": "2022-05-24T11:58:40.292Z"
   },
   {
    "duration": 0,
    "start_time": "2022-05-24T11:58:40.293Z"
   },
   {
    "duration": 0,
    "start_time": "2022-05-24T11:58:40.295Z"
   },
   {
    "duration": 0,
    "start_time": "2022-05-24T11:58:40.296Z"
   },
   {
    "duration": 0,
    "start_time": "2022-05-24T11:58:40.297Z"
   },
   {
    "duration": 177,
    "start_time": "2022-05-24T12:14:18.911Z"
   },
   {
    "duration": 99,
    "start_time": "2022-05-24T13:55:15.345Z"
   },
   {
    "duration": 1115,
    "start_time": "2022-05-24T13:55:23.926Z"
   },
   {
    "duration": 1101,
    "start_time": "2022-05-24T13:55:57.828Z"
   },
   {
    "duration": 1095,
    "start_time": "2022-05-24T13:56:24.287Z"
   },
   {
    "duration": 1002,
    "start_time": "2022-05-24T13:58:11.633Z"
   },
   {
    "duration": 1093,
    "start_time": "2022-05-24T14:00:31.455Z"
   },
   {
    "duration": 1191,
    "start_time": "2022-05-24T14:02:34.914Z"
   },
   {
    "duration": 1056,
    "start_time": "2022-05-24T14:03:15.659Z"
   },
   {
    "duration": 1305,
    "start_time": "2022-05-24T14:15:17.944Z"
   },
   {
    "duration": 1392,
    "start_time": "2022-05-24T14:15:56.410Z"
   },
   {
    "duration": 20,
    "start_time": "2022-05-24T14:17:45.360Z"
   },
   {
    "duration": 28,
    "start_time": "2022-05-24T14:19:57.740Z"
   },
   {
    "duration": 30,
    "start_time": "2022-05-24T14:44:01.620Z"
   },
   {
    "duration": 1382,
    "start_time": "2022-05-24T14:44:17.999Z"
   },
   {
    "duration": 45,
    "start_time": "2022-05-24T14:44:19.383Z"
   },
   {
    "duration": 79,
    "start_time": "2022-05-24T14:44:19.429Z"
   },
   {
    "duration": 12,
    "start_time": "2022-05-24T14:44:19.510Z"
   },
   {
    "duration": 167,
    "start_time": "2022-05-24T14:44:19.523Z"
   },
   {
    "duration": 0,
    "start_time": "2022-05-24T14:44:19.692Z"
   },
   {
    "duration": 0,
    "start_time": "2022-05-24T14:44:19.693Z"
   },
   {
    "duration": 0,
    "start_time": "2022-05-24T14:44:19.694Z"
   },
   {
    "duration": 0,
    "start_time": "2022-05-24T14:44:19.695Z"
   },
   {
    "duration": 0,
    "start_time": "2022-05-24T14:44:19.696Z"
   },
   {
    "duration": 0,
    "start_time": "2022-05-24T14:44:19.698Z"
   },
   {
    "duration": 0,
    "start_time": "2022-05-24T14:44:19.699Z"
   },
   {
    "duration": 0,
    "start_time": "2022-05-24T14:44:19.700Z"
   },
   {
    "duration": 0,
    "start_time": "2022-05-24T14:44:19.701Z"
   },
   {
    "duration": 0,
    "start_time": "2022-05-24T14:44:19.702Z"
   },
   {
    "duration": 0,
    "start_time": "2022-05-24T14:44:19.703Z"
   },
   {
    "duration": 0,
    "start_time": "2022-05-24T14:44:19.704Z"
   },
   {
    "duration": 0,
    "start_time": "2022-05-24T14:44:19.706Z"
   },
   {
    "duration": 0,
    "start_time": "2022-05-24T14:44:19.707Z"
   },
   {
    "duration": 0,
    "start_time": "2022-05-24T14:44:19.708Z"
   },
   {
    "duration": 0,
    "start_time": "2022-05-24T14:44:19.710Z"
   },
   {
    "duration": 0,
    "start_time": "2022-05-24T14:44:19.711Z"
   },
   {
    "duration": 0,
    "start_time": "2022-05-24T14:44:19.712Z"
   },
   {
    "duration": 0,
    "start_time": "2022-05-24T14:44:19.713Z"
   },
   {
    "duration": 0,
    "start_time": "2022-05-24T14:44:19.714Z"
   },
   {
    "duration": 13,
    "start_time": "2022-05-24T14:45:06.280Z"
   },
   {
    "duration": 21,
    "start_time": "2022-05-24T14:45:16.995Z"
   },
   {
    "duration": 38,
    "start_time": "2022-05-24T14:46:05.632Z"
   },
   {
    "duration": 1507,
    "start_time": "2022-05-24T14:46:44.068Z"
   },
   {
    "duration": 56,
    "start_time": "2022-05-24T14:46:45.578Z"
   },
   {
    "duration": 102,
    "start_time": "2022-05-24T14:46:45.636Z"
   },
   {
    "duration": 13,
    "start_time": "2022-05-24T14:46:45.752Z"
   },
   {
    "duration": 61,
    "start_time": "2022-05-24T14:46:45.768Z"
   },
   {
    "duration": 1189,
    "start_time": "2022-05-24T14:46:45.830Z"
   },
   {
    "duration": 0,
    "start_time": "2022-05-24T14:46:47.022Z"
   },
   {
    "duration": 0,
    "start_time": "2022-05-24T14:46:47.023Z"
   },
   {
    "duration": 0,
    "start_time": "2022-05-24T14:46:47.025Z"
   },
   {
    "duration": 0,
    "start_time": "2022-05-24T14:46:47.026Z"
   },
   {
    "duration": 0,
    "start_time": "2022-05-24T14:46:47.028Z"
   },
   {
    "duration": 0,
    "start_time": "2022-05-24T14:46:47.029Z"
   },
   {
    "duration": 0,
    "start_time": "2022-05-24T14:46:47.031Z"
   },
   {
    "duration": 0,
    "start_time": "2022-05-24T14:46:47.032Z"
   },
   {
    "duration": 0,
    "start_time": "2022-05-24T14:46:47.052Z"
   },
   {
    "duration": 0,
    "start_time": "2022-05-24T14:46:47.053Z"
   },
   {
    "duration": 0,
    "start_time": "2022-05-24T14:46:47.054Z"
   },
   {
    "duration": 0,
    "start_time": "2022-05-24T14:46:47.056Z"
   },
   {
    "duration": 0,
    "start_time": "2022-05-24T14:46:47.058Z"
   },
   {
    "duration": 0,
    "start_time": "2022-05-24T14:46:47.059Z"
   },
   {
    "duration": 0,
    "start_time": "2022-05-24T14:46:47.060Z"
   },
   {
    "duration": 0,
    "start_time": "2022-05-24T14:46:47.062Z"
   },
   {
    "duration": 0,
    "start_time": "2022-05-24T14:46:47.063Z"
   },
   {
    "duration": 0,
    "start_time": "2022-05-24T14:46:47.065Z"
   },
   {
    "duration": 0,
    "start_time": "2022-05-24T14:46:47.066Z"
   },
   {
    "duration": 1480,
    "start_time": "2022-05-24T14:47:58.424Z"
   },
   {
    "duration": 45,
    "start_time": "2022-05-24T14:47:59.906Z"
   },
   {
    "duration": 108,
    "start_time": "2022-05-24T14:47:59.953Z"
   },
   {
    "duration": 12,
    "start_time": "2022-05-24T14:48:00.064Z"
   },
   {
    "duration": 50,
    "start_time": "2022-05-24T14:48:00.077Z"
   },
   {
    "duration": 1250,
    "start_time": "2022-05-24T14:48:00.129Z"
   },
   {
    "duration": 0,
    "start_time": "2022-05-24T14:48:01.381Z"
   },
   {
    "duration": 1,
    "start_time": "2022-05-24T14:48:01.382Z"
   },
   {
    "duration": 0,
    "start_time": "2022-05-24T14:48:01.384Z"
   },
   {
    "duration": 0,
    "start_time": "2022-05-24T14:48:01.385Z"
   },
   {
    "duration": 0,
    "start_time": "2022-05-24T14:48:01.386Z"
   },
   {
    "duration": 0,
    "start_time": "2022-05-24T14:48:01.387Z"
   },
   {
    "duration": 0,
    "start_time": "2022-05-24T14:48:01.389Z"
   },
   {
    "duration": 0,
    "start_time": "2022-05-24T14:48:01.390Z"
   },
   {
    "duration": 0,
    "start_time": "2022-05-24T14:48:01.390Z"
   },
   {
    "duration": 0,
    "start_time": "2022-05-24T14:48:01.392Z"
   },
   {
    "duration": 0,
    "start_time": "2022-05-24T14:48:01.393Z"
   },
   {
    "duration": 0,
    "start_time": "2022-05-24T14:48:01.394Z"
   },
   {
    "duration": 0,
    "start_time": "2022-05-24T14:48:01.395Z"
   },
   {
    "duration": 0,
    "start_time": "2022-05-24T14:48:01.396Z"
   },
   {
    "duration": 0,
    "start_time": "2022-05-24T14:48:01.397Z"
   },
   {
    "duration": 0,
    "start_time": "2022-05-24T14:48:01.398Z"
   },
   {
    "duration": 0,
    "start_time": "2022-05-24T14:48:01.399Z"
   },
   {
    "duration": 0,
    "start_time": "2022-05-24T14:48:01.400Z"
   },
   {
    "duration": 0,
    "start_time": "2022-05-24T14:48:01.401Z"
   },
   {
    "duration": 46,
    "start_time": "2022-05-24T14:50:41.632Z"
   },
   {
    "duration": 4,
    "start_time": "2022-05-24T14:53:26.376Z"
   },
   {
    "duration": 22,
    "start_time": "2022-05-24T14:53:56.124Z"
   },
   {
    "duration": 19,
    "start_time": "2022-05-24T14:54:41.112Z"
   },
   {
    "duration": 27,
    "start_time": "2022-05-24T14:55:56.409Z"
   },
   {
    "duration": 1468,
    "start_time": "2022-05-24T14:59:05.827Z"
   },
   {
    "duration": 45,
    "start_time": "2022-05-24T14:59:07.296Z"
   },
   {
    "duration": 79,
    "start_time": "2022-05-24T14:59:07.343Z"
   },
   {
    "duration": 37,
    "start_time": "2022-05-24T14:59:07.424Z"
   },
   {
    "duration": 699,
    "start_time": "2022-05-24T14:59:07.463Z"
   },
   {
    "duration": 132,
    "start_time": "2022-05-24T14:59:08.164Z"
   },
   {
    "duration": 0,
    "start_time": "2022-05-24T14:59:08.298Z"
   },
   {
    "duration": 0,
    "start_time": "2022-05-24T14:59:08.299Z"
   },
   {
    "duration": 0,
    "start_time": "2022-05-24T14:59:08.300Z"
   },
   {
    "duration": 0,
    "start_time": "2022-05-24T14:59:08.301Z"
   },
   {
    "duration": 0,
    "start_time": "2022-05-24T14:59:08.302Z"
   },
   {
    "duration": 0,
    "start_time": "2022-05-24T14:59:08.303Z"
   },
   {
    "duration": 0,
    "start_time": "2022-05-24T14:59:08.304Z"
   },
   {
    "duration": 0,
    "start_time": "2022-05-24T14:59:08.305Z"
   },
   {
    "duration": 0,
    "start_time": "2022-05-24T14:59:08.306Z"
   },
   {
    "duration": 0,
    "start_time": "2022-05-24T14:59:08.307Z"
   },
   {
    "duration": 0,
    "start_time": "2022-05-24T14:59:08.308Z"
   },
   {
    "duration": 0,
    "start_time": "2022-05-24T14:59:08.309Z"
   },
   {
    "duration": 0,
    "start_time": "2022-05-24T14:59:08.310Z"
   },
   {
    "duration": 0,
    "start_time": "2022-05-24T14:59:08.311Z"
   },
   {
    "duration": 0,
    "start_time": "2022-05-24T14:59:08.312Z"
   },
   {
    "duration": 0,
    "start_time": "2022-05-24T14:59:08.313Z"
   },
   {
    "duration": 0,
    "start_time": "2022-05-24T14:59:08.314Z"
   },
   {
    "duration": 0,
    "start_time": "2022-05-24T14:59:08.315Z"
   },
   {
    "duration": 0,
    "start_time": "2022-05-24T14:59:08.316Z"
   },
   {
    "duration": 0,
    "start_time": "2022-05-24T14:59:08.316Z"
   },
   {
    "duration": 1364,
    "start_time": "2022-05-24T15:00:19.674Z"
   },
   {
    "duration": 1653,
    "start_time": "2022-05-24T15:01:03.650Z"
   },
   {
    "duration": 59,
    "start_time": "2022-05-24T15:01:05.307Z"
   },
   {
    "duration": 138,
    "start_time": "2022-05-24T15:01:05.368Z"
   },
   {
    "duration": 11,
    "start_time": "2022-05-24T15:01:05.509Z"
   },
   {
    "duration": 1459,
    "start_time": "2022-05-24T15:01:05.522Z"
   },
   {
    "duration": 3295,
    "start_time": "2022-05-24T15:01:06.983Z"
   },
   {
    "duration": 21,
    "start_time": "2022-05-24T15:01:10.280Z"
   },
   {
    "duration": 1600,
    "start_time": "2022-05-24T15:01:10.303Z"
   },
   {
    "duration": 5,
    "start_time": "2022-05-24T15:01:11.904Z"
   },
   {
    "duration": 3,
    "start_time": "2022-05-24T15:01:11.912Z"
   },
   {
    "duration": 6,
    "start_time": "2022-05-24T15:01:11.917Z"
   },
   {
    "duration": 6,
    "start_time": "2022-05-24T15:01:11.925Z"
   },
   {
    "duration": 1301,
    "start_time": "2022-05-24T15:01:11.933Z"
   },
   {
    "duration": 583,
    "start_time": "2022-05-24T15:01:13.236Z"
   },
   {
    "duration": 120333,
    "start_time": "2022-05-24T15:01:13.821Z"
   },
   {
    "duration": 1005,
    "start_time": "2022-05-24T15:03:14.156Z"
   },
   {
    "duration": 4,
    "start_time": "2022-05-24T15:03:15.253Z"
   },
   {
    "duration": 21,
    "start_time": "2022-05-24T15:03:15.260Z"
   },
   {
    "duration": 4278,
    "start_time": "2022-05-24T15:03:15.284Z"
   },
   {
    "duration": 8,
    "start_time": "2022-05-24T15:03:19.563Z"
   },
   {
    "duration": 1457,
    "start_time": "2022-05-24T17:56:19.698Z"
   },
   {
    "duration": 43,
    "start_time": "2022-05-24T17:56:21.157Z"
   },
   {
    "duration": 74,
    "start_time": "2022-05-24T17:56:22.005Z"
   },
   {
    "duration": 14,
    "start_time": "2022-05-24T17:56:23.535Z"
   },
   {
    "duration": 1275,
    "start_time": "2022-05-24T17:56:25.515Z"
   },
   {
    "duration": 320,
    "start_time": "2022-05-24T17:58:58.684Z"
   },
   {
    "duration": 16,
    "start_time": "2022-05-24T17:59:43.275Z"
   },
   {
    "duration": 22,
    "start_time": "2022-05-24T18:01:54.441Z"
   },
   {
    "duration": 178,
    "start_time": "2022-05-24T18:03:45.629Z"
   },
   {
    "duration": 283,
    "start_time": "2022-05-24T18:04:03.078Z"
   },
   {
    "duration": 1334,
    "start_time": "2022-05-24T18:04:15.218Z"
   },
   {
    "duration": 1504,
    "start_time": "2022-05-25T07:32:36.409Z"
   },
   {
    "duration": 123,
    "start_time": "2022-05-25T07:32:37.915Z"
   },
   {
    "duration": 70,
    "start_time": "2022-05-25T07:32:38.039Z"
   },
   {
    "duration": 11,
    "start_time": "2022-05-25T07:32:38.111Z"
   },
   {
    "duration": 1499,
    "start_time": "2022-05-25T07:32:38.124Z"
   },
   {
    "duration": 1008,
    "start_time": "2022-05-25T07:32:39.625Z"
   },
   {
    "duration": 2904,
    "start_time": "2022-05-25T07:32:40.634Z"
   },
   {
    "duration": 18,
    "start_time": "2022-05-25T07:32:43.539Z"
   },
   {
    "duration": 1507,
    "start_time": "2022-05-25T07:32:43.558Z"
   },
   {
    "duration": 4,
    "start_time": "2022-05-25T07:32:45.067Z"
   },
   {
    "duration": 9,
    "start_time": "2022-05-25T07:32:45.072Z"
   },
   {
    "duration": 6,
    "start_time": "2022-05-25T07:32:45.082Z"
   },
   {
    "duration": 8,
    "start_time": "2022-05-25T07:32:45.090Z"
   },
   {
    "duration": 1287,
    "start_time": "2022-05-25T07:32:45.100Z"
   },
   {
    "duration": 511,
    "start_time": "2022-05-25T07:32:46.389Z"
   },
   {
    "duration": 109926,
    "start_time": "2022-05-25T07:32:46.901Z"
   },
   {
    "duration": 985,
    "start_time": "2022-05-25T07:34:36.828Z"
   },
   {
    "duration": 3,
    "start_time": "2022-05-25T07:34:37.903Z"
   },
   {
    "duration": 17,
    "start_time": "2022-05-25T07:34:37.908Z"
   },
   {
    "duration": 3934,
    "start_time": "2022-05-25T07:34:37.927Z"
   },
   {
    "duration": 8,
    "start_time": "2022-05-25T07:34:41.862Z"
   }
  ],
  "kernelspec": {
   "display_name": "Python 3 (ipykernel)",
   "language": "python",
   "name": "python3"
  },
  "language_info": {
   "codemirror_mode": {
    "name": "ipython",
    "version": 3
   },
   "file_extension": ".py",
   "mimetype": "text/x-python",
   "name": "python",
   "nbconvert_exporter": "python",
   "pygments_lexer": "ipython3",
   "version": "3.9.7"
  },
  "toc": {
   "base_numbering": 1,
   "nav_menu": {},
   "number_sections": true,
   "sideBar": true,
   "skip_h1_title": true,
   "title_cell": "Table of Contents",
   "title_sidebar": "Contents",
   "toc_cell": false,
   "toc_position": {
    "height": "calc(100% - 180px)",
    "left": "10px",
    "top": "150px",
    "width": "165px"
   },
   "toc_section_display": true,
   "toc_window_display": true
  }
 },
 "nbformat": 4,
 "nbformat_minor": 2
}
