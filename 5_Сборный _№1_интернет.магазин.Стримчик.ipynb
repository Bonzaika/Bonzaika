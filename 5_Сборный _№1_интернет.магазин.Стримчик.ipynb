{
 "cells": [
  {
   "cell_type": "markdown",
   "metadata": {
    "id": "YvOJf1QFEApA"
   },
   "source": [
    "#### Елена, привет! \n",
    "\n",
    "Меня зовут Максим Попов, и я буду проверять твой проект. Давай будем общаться на «ты». Но если тебе комфортнее на «вы», обязательно сообщи мне об этом. \n",
    "По ходу тетрадки ты найдешь комментарии к проекту, они будут в отдельных ячейках Markdown с заголовком «Комментарий ревьюера». Постарайся учесть эти комментарии для дальнейших проектов.\n",
    "\n",
    "---\n",
    "\n",
    "Я буду отмечать комментарии цветом и примечанием. В конце заголовка комментария будет указан номер итерации проверки. Пожалуйста, не удаляй и не правь мои комментарии\n",
    "\n",
    "Критично - требует исправления, влияет на удачное выполнение проекта\n",
    "\n",
    "Рекомендация - комментарий является рекомендацией или советом. Mожешь учесть их при выполнении будущих заданий. На твое усмотрение\n",
    "\n",
    "Отлично - Так отмечены удачные решения и подходы, на которые стоит опираться в будущих проектах\n",
    "\n",
    "<div class=\"alert alert-block alert-danger\">\n",
    "    \n",
    "\n",
    "### Комментарий от ревьюера\n",
    "Критично\n",
    "\n",
    "Такой комментарий нужно исправить обязательно, он критически влияет на удачное выполнение проекта.\n",
    "</div>\n",
    "    \n",
    "---\n",
    "\n",
    "<div class=\"alert alert-block alert-warning\">\n",
    "    \n",
    "\n",
    "### Комментарий от ревьюера\n",
    "Рекомендация\n",
    "\n",
    "Такой комментарий является рекомендацией или советом. Mожешь учесть их при выполнении будущих заданий. На твое усмотрение. \n",
    "</div>\n",
    "\n",
    "---\n",
    "\n",
    "<div class=\"alert alert-block alert-success\">\n",
    "    \n",
    "\n",
    "### Комментарий от ревьюера\n",
    "Отлично\n",
    "    \n",
    "Так отмечены удачные решения и подходы, на которые стоит опираться в будущих проектах\n",
    "</div>"
   ]
  },
  {
   "cell_type": "markdown",
   "metadata": {},
   "source": [
    "<div class=\"alert alert-block alert-success\">\n",
    "    \n",
    "    \n",
    "### Комментарий от ревьюера v_1\n",
    "    \n",
    "Елена, отличная работа, но следующие моменты надо подправить:\n",
    "    \n",
    "1. График динамики продаж по платформам\n",
    "2. Боксплоты по платформам\n",
    "3. Анализ прибыльных жанров\n",
    "4. Вывод по исследовательскому анализу\n",
    "5. Пироги в портретах пользователей\n",
    "6. Рейтинг ESRB в портретах пользователей\n",
    "\n",
    "Подробные комментарии по ходу работы\n",
    "    \n",
    "Желтые комментарии-рекомендации на твое усмотрение.\n",
    "    \n",
    "Если есть вопросы ко мне, можешь оставить их в отдельном комментарии\n",
    "</div>"
   ]
  },
  {
   "cell_type": "markdown",
   "metadata": {},
   "source": [
    "<div class=\"alert alert-info\">\n",
    "<b>Комментарий студента: </b>\n",
    "<br>-Привет, Максим! Большое спасибо за подбробный разбор проекта. Я постаралсь исправить все замечания.\n",
    "</div>"
   ]
  },
  {
   "cell_type": "markdown",
   "metadata": {},
   "source": [
    "<div class=\"alert alert-block alert-success\">\n",
    "    \n",
    "### Комментарий от ревьюера v_2\n",
    "    \n",
    "Елена, привет!\n",
    "    \n",
    "Отлично, все критичные комментарии отработаны!\n",
    "    \n",
    "У тебя получился отличный проект, успеха в дальнейшем обучении!\n",
    "</div>"
   ]
  },
  {
   "cell_type": "markdown",
   "metadata": {
    "id": "fladoeK1BNsM"
   },
   "source": [
    "# Сборный проект  \n",
    "\n",
    "Описание проекта  \n",
    "Вы работаете в интернет-магазине «Стримчик», который продаёт по всему миру\n",
    "компьютерные игры. Из открытых источников доступны исторические данные о\n",
    "продажах игр, оценки пользователей и экспертов, жанры и платформы\n",
    "(например, Xboxили PlayStation). Вам нужно выявить определяющие успешность\n",
    "игры закономерности. Это позволит сделать ставку на потенциально популярный\n",
    "продукт и спланировать рекламные кампании.  \n",
    "Перед вами данные до 2016 года. Представим, что сейчас декабрь 2016 г., и вы\n",
    "планируете кампанию на 2017-й. Нужно отработать принцип работы с данными.\n",
    "Неважно, прогнозируете ли вы продажи на 2017 год по данным 2016-го или же\n",
    "2027-й — по данным 2026 года.  \n",
    "В наборе данных попадается аббревиатура ESRB (Entertainment Software Rating\n",
    "Board) — это ассоциация, определяющая возрастной рейтинг компьютерных\n",
    "игр. ESRB оценивает игровой контент и присваивает ему подходящую возрастную\n",
    "категорию, например, «Для взрослых», «Для детей младшего возраста» или «Для\n",
    "подростков». \n",
    "## Шаг 1. Откройте файл с данными и изучите общую информацию\n",
    "Путь к файлу: /datasets/games.csv. Скачать датасет  \n",
    "\n",
    "## Шаг 2. Подготовьте данные\n",
    "* <a href='#step_2.1'>Приведем названия столбцов к нижнему регистру</a>,     \n",
    "* <a href='#step_2.2'>Преобразуем данные в нужные типы. </a>, \n",
    "* <a href='#step_2.3'> Обработаем пропуски при необходимости. </a>,      \n",
    "* <a href='#step_2.4'> Аббревиатура 'tbd' в столбцах с рейтингом. Разберём это значение и опишем, как его обработать. </a>,  \n",
    "* <a href='#step_2.5'> Посчитаем суммарные продажи во всех регионах и запишем их в отдельный столбец. </a>,  \n",
    "   \n",
    "## Шаг 3. Проведите исследовательский анализ данных\n",
    "* <a href='#step_3.1'> Найдем, сколько игр выпускалось в разные годы </a>,  \n",
    "* <a href='#step_3.2'> Найдем, сколько игр выпускалось в разные годы </a>,    \n",
    "* <a href='#step_3.3'> Посмотрим, как менялись продажи по платформам. Выберем платформы с\n",
    "наибольшими суммарными продажами и построим распределение по годам </a>,    \n",
    "* <a href='#step_3.4'> Определим, за какой характерный срок появляются новые и исчезают старые платформы</a>,    \n",
    "* <a href='#step_3.5'> Выберем актуальный период исследования данных для прогноза на 2017\n",
    "год.</a>,    \n",
    "* <a href='#step_3.6'>Найдем потенциально прибыльные платформы.</a>,    \n",
    "* <a href='#step_3.7'> Построим график «ящик с усами» по глобальным продажам игр в разбивке по платформам.</a>,    \n",
    "* <a href='#step_3.8'> Определим влияние на продажи отзывов пользователей и критиков внутри одной популярной платформы. Построим диаграмму рассеяния и найдем корреляцию между отзывами и продажами. </a>,    \n",
    "* <a href='#step_3.9'> Сравним выводы с продажами игр на других платформах. </a>,    \n",
    "* <a href='#step_3.10'> Проанализируем распределение игр по жанрам. Найдем прибыльные жанры. </a>,    \n",
    "\n",
    "## Шаг 4. Составьте портрет пользователя каждого региона  \n",
    "* <a href='#step_4.1'> Определим для пользователя каждого региона самые популярные платформы (топ-5).  Опишем различия в долях продаж </a>,    \n",
    "* <a href='#step_4.2'> Определим для пользователя каждого Самые популярные жанры (топ-5).</a>,    \n",
    "* <a href='#step_4.3'> Определим влияние рейтинга ESRB на продажи в отдельном регионе.</a>,    \n",
    "\n",
    "## Шаг 5. Проверьте гипотезы  \n",
    "* <a href='#step_5.1'> Средние пользовательские рейтинги платформ Xbox One и PC одинаковые.</a>,    \n",
    "* <a href='#step_5.2'> Средние пользовательские рейтинги жанров Action (англ. «действие», экшен-игры) и Sports (англ. «спортивные соревнования») разные.</a>,    \n",
    " \n",
    "\n",
    "## Шаг 6. Общий вывод  \n",
    "\n"
   ]
  },
  {
   "cell_type": "markdown",
   "metadata": {},
   "source": [
    "<div class=\"alert alert-block alert-success\">\n",
    "    \n",
    "\n",
    "### Комментарий от ревьюера v_1\n",
    "Отлично\n",
    "\n",
    "Молодец, что в начале проекта знакомишь с ним, так работа  приобретает структуру и лучше воспринимается.\n",
    "    \n",
    "Чтобы выделить заголовок надо пробел после решетки поставить\n",
    "</div>"
   ]
  },
  {
   "cell_type": "markdown",
   "metadata": {
    "id": "2OVHna6H3WTT"
   },
   "source": [
    "## Шаг 1. Откроем файлы, импортируем библиотеки"
   ]
  },
  {
   "cell_type": "code",
   "execution_count": 1,
   "metadata": {
    "id": "MtPCIpFdfFvj"
   },
   "outputs": [],
   "source": [
    "# Импортируем библиотеки\n",
    "import pandas as pd\n",
    "import matplotlib.pyplot as plt\n",
    "import matplotlib\n",
    "matplotlib.style.use('ggplot')\n",
    "import numpy as np\n",
    "import seaborn as sns; sns.set()\n",
    "import warnings\n",
    "from scipy import stats as st\n",
    "warnings.filterwarnings('ignore')\n",
    "pd.set_option('display.float_format', '{:,.2f}'.format)\n",
    "\n",
    "# from pylab import rcParams\n",
    "# rcParams['figure.figsize'] = 8, 5"
   ]
  },
  {
   "cell_type": "markdown",
   "metadata": {},
   "source": [
    "<div class=\"alert alert-block alert-success\">\n",
    "    \n",
    "\n",
    "### Комментарий от ревьюера v_1\n",
    "Отлично\n",
    "\n",
    "Отлично, библиотеки импортированы в начале тетрадки, в отдельной ячейке.\n",
    "</div>"
   ]
  },
  {
   "cell_type": "code",
   "execution_count": 2,
   "metadata": {
    "id": "ZGQK0oNkez73"
   },
   "outputs": [],
   "source": [
    "data = pd.read_csv('https://code.s3.yandex.net/datasets/games.csv', sep=',')"
   ]
  },
  {
   "cell_type": "code",
   "execution_count": 3,
   "metadata": {
    "colab": {
     "base_uri": "https://localhost:8080/",
     "height": 206
    },
    "id": "kYdR1sSTfuLU",
    "outputId": "b04878c4-6340-4494-e853-342bce584a31"
   },
   "outputs": [
    {
     "data": {
      "text/html": [
       "<div>\n",
       "<style scoped>\n",
       "    .dataframe tbody tr th:only-of-type {\n",
       "        vertical-align: middle;\n",
       "    }\n",
       "\n",
       "    .dataframe tbody tr th {\n",
       "        vertical-align: top;\n",
       "    }\n",
       "\n",
       "    .dataframe thead th {\n",
       "        text-align: right;\n",
       "    }\n",
       "</style>\n",
       "<table border=\"1\" class=\"dataframe\">\n",
       "  <thead>\n",
       "    <tr style=\"text-align: right;\">\n",
       "      <th></th>\n",
       "      <th>Name</th>\n",
       "      <th>Platform</th>\n",
       "      <th>Year_of_Release</th>\n",
       "      <th>Genre</th>\n",
       "      <th>NA_sales</th>\n",
       "      <th>EU_sales</th>\n",
       "      <th>JP_sales</th>\n",
       "      <th>Other_sales</th>\n",
       "      <th>Critic_Score</th>\n",
       "      <th>User_Score</th>\n",
       "      <th>Rating</th>\n",
       "    </tr>\n",
       "  </thead>\n",
       "  <tbody>\n",
       "    <tr>\n",
       "      <td>0</td>\n",
       "      <td>Wii Sports</td>\n",
       "      <td>Wii</td>\n",
       "      <td>2,006.00</td>\n",
       "      <td>Sports</td>\n",
       "      <td>41.36</td>\n",
       "      <td>28.96</td>\n",
       "      <td>3.77</td>\n",
       "      <td>8.45</td>\n",
       "      <td>76.00</td>\n",
       "      <td>8</td>\n",
       "      <td>E</td>\n",
       "    </tr>\n",
       "    <tr>\n",
       "      <td>1</td>\n",
       "      <td>Super Mario Bros.</td>\n",
       "      <td>NES</td>\n",
       "      <td>1,985.00</td>\n",
       "      <td>Platform</td>\n",
       "      <td>29.08</td>\n",
       "      <td>3.58</td>\n",
       "      <td>6.81</td>\n",
       "      <td>0.77</td>\n",
       "      <td>nan</td>\n",
       "      <td>NaN</td>\n",
       "      <td>NaN</td>\n",
       "    </tr>\n",
       "    <tr>\n",
       "      <td>2</td>\n",
       "      <td>Mario Kart Wii</td>\n",
       "      <td>Wii</td>\n",
       "      <td>2,008.00</td>\n",
       "      <td>Racing</td>\n",
       "      <td>15.68</td>\n",
       "      <td>12.76</td>\n",
       "      <td>3.79</td>\n",
       "      <td>3.29</td>\n",
       "      <td>82.00</td>\n",
       "      <td>8.3</td>\n",
       "      <td>E</td>\n",
       "    </tr>\n",
       "    <tr>\n",
       "      <td>3</td>\n",
       "      <td>Wii Sports Resort</td>\n",
       "      <td>Wii</td>\n",
       "      <td>2,009.00</td>\n",
       "      <td>Sports</td>\n",
       "      <td>15.61</td>\n",
       "      <td>10.93</td>\n",
       "      <td>3.28</td>\n",
       "      <td>2.95</td>\n",
       "      <td>80.00</td>\n",
       "      <td>8</td>\n",
       "      <td>E</td>\n",
       "    </tr>\n",
       "    <tr>\n",
       "      <td>4</td>\n",
       "      <td>Pokemon Red/Pokemon Blue</td>\n",
       "      <td>GB</td>\n",
       "      <td>1,996.00</td>\n",
       "      <td>Role-Playing</td>\n",
       "      <td>11.27</td>\n",
       "      <td>8.89</td>\n",
       "      <td>10.22</td>\n",
       "      <td>1.00</td>\n",
       "      <td>nan</td>\n",
       "      <td>NaN</td>\n",
       "      <td>NaN</td>\n",
       "    </tr>\n",
       "  </tbody>\n",
       "</table>\n",
       "</div>"
      ],
      "text/plain": [
       "                       Name Platform  Year_of_Release         Genre  NA_sales  \\\n",
       "0                Wii Sports      Wii         2,006.00        Sports     41.36   \n",
       "1         Super Mario Bros.      NES         1,985.00      Platform     29.08   \n",
       "2            Mario Kart Wii      Wii         2,008.00        Racing     15.68   \n",
       "3         Wii Sports Resort      Wii         2,009.00        Sports     15.61   \n",
       "4  Pokemon Red/Pokemon Blue       GB         1,996.00  Role-Playing     11.27   \n",
       "\n",
       "   EU_sales  JP_sales  Other_sales  Critic_Score User_Score Rating  \n",
       "0     28.96      3.77         8.45         76.00          8      E  \n",
       "1      3.58      6.81         0.77           nan        NaN    NaN  \n",
       "2     12.76      3.79         3.29         82.00        8.3      E  \n",
       "3     10.93      3.28         2.95         80.00          8      E  \n",
       "4      8.89     10.22         1.00           nan        NaN    NaN  "
      ]
     },
     "execution_count": 3,
     "metadata": {},
     "output_type": "execute_result"
    }
   ],
   "source": [
    "data.head()"
   ]
  },
  {
   "cell_type": "code",
   "execution_count": 4,
   "metadata": {
    "colab": {
     "base_uri": "https://localhost:8080/"
    },
    "id": "4Na8XMTLfbnS",
    "outputId": "14cfddaf-b9d2-427f-d788-8deb7b862aff"
   },
   "outputs": [
    {
     "name": "stdout",
     "output_type": "stream",
     "text": [
      "<class 'pandas.core.frame.DataFrame'>\n",
      "RangeIndex: 16715 entries, 0 to 16714\n",
      "Data columns (total 11 columns):\n",
      "Name               16713 non-null object\n",
      "Platform           16715 non-null object\n",
      "Year_of_Release    16446 non-null float64\n",
      "Genre              16713 non-null object\n",
      "NA_sales           16715 non-null float64\n",
      "EU_sales           16715 non-null float64\n",
      "JP_sales           16715 non-null float64\n",
      "Other_sales        16715 non-null float64\n",
      "Critic_Score       8137 non-null float64\n",
      "User_Score         10014 non-null object\n",
      "Rating             9949 non-null object\n",
      "dtypes: float64(6), object(5)\n",
      "memory usage: 1.4+ MB\n",
      "None\n",
      "\n",
      "Количество строк и столбцов в датафрейме: (16715, 11)\n"
     ]
    }
   ],
   "source": [
    "#Чтобы посмотреть общую информацию по датафрейму и всем признакам, воспользуемся методом info:\n",
    "print(data.info())\n",
    "print()\n",
    "#Посмотрим на размер данных\n",
    "print('Количество строк и столбцов в датафрейме:', data.shape)"
   ]
  },
  {
   "cell_type": "code",
   "execution_count": 5,
   "metadata": {
    "colab": {
     "base_uri": "https://localhost:8080/",
     "height": 300
    },
    "id": "PeUBpDOgfoL1",
    "outputId": "43754f4b-e253-43c2-8602-d790140f8317"
   },
   "outputs": [
    {
     "data": {
      "text/html": [
       "<div>\n",
       "<style scoped>\n",
       "    .dataframe tbody tr th:only-of-type {\n",
       "        vertical-align: middle;\n",
       "    }\n",
       "\n",
       "    .dataframe tbody tr th {\n",
       "        vertical-align: top;\n",
       "    }\n",
       "\n",
       "    .dataframe thead th {\n",
       "        text-align: right;\n",
       "    }\n",
       "</style>\n",
       "<table border=\"1\" class=\"dataframe\">\n",
       "  <thead>\n",
       "    <tr style=\"text-align: right;\">\n",
       "      <th></th>\n",
       "      <th>Year_of_Release</th>\n",
       "      <th>NA_sales</th>\n",
       "      <th>EU_sales</th>\n",
       "      <th>JP_sales</th>\n",
       "      <th>Other_sales</th>\n",
       "      <th>Critic_Score</th>\n",
       "    </tr>\n",
       "  </thead>\n",
       "  <tbody>\n",
       "    <tr>\n",
       "      <td>count</td>\n",
       "      <td>16,446.00</td>\n",
       "      <td>16,715.00</td>\n",
       "      <td>16,715.00</td>\n",
       "      <td>16,715.00</td>\n",
       "      <td>16,715.00</td>\n",
       "      <td>8,137.00</td>\n",
       "    </tr>\n",
       "    <tr>\n",
       "      <td>mean</td>\n",
       "      <td>2,006.48</td>\n",
       "      <td>0.26</td>\n",
       "      <td>0.15</td>\n",
       "      <td>0.08</td>\n",
       "      <td>0.05</td>\n",
       "      <td>68.97</td>\n",
       "    </tr>\n",
       "    <tr>\n",
       "      <td>std</td>\n",
       "      <td>5.88</td>\n",
       "      <td>0.81</td>\n",
       "      <td>0.50</td>\n",
       "      <td>0.31</td>\n",
       "      <td>0.19</td>\n",
       "      <td>13.94</td>\n",
       "    </tr>\n",
       "    <tr>\n",
       "      <td>min</td>\n",
       "      <td>1,980.00</td>\n",
       "      <td>0.00</td>\n",
       "      <td>0.00</td>\n",
       "      <td>0.00</td>\n",
       "      <td>0.00</td>\n",
       "      <td>13.00</td>\n",
       "    </tr>\n",
       "    <tr>\n",
       "      <td>25%</td>\n",
       "      <td>2,003.00</td>\n",
       "      <td>0.00</td>\n",
       "      <td>0.00</td>\n",
       "      <td>0.00</td>\n",
       "      <td>0.00</td>\n",
       "      <td>60.00</td>\n",
       "    </tr>\n",
       "    <tr>\n",
       "      <td>50%</td>\n",
       "      <td>2,007.00</td>\n",
       "      <td>0.08</td>\n",
       "      <td>0.02</td>\n",
       "      <td>0.00</td>\n",
       "      <td>0.01</td>\n",
       "      <td>71.00</td>\n",
       "    </tr>\n",
       "    <tr>\n",
       "      <td>75%</td>\n",
       "      <td>2,010.00</td>\n",
       "      <td>0.24</td>\n",
       "      <td>0.11</td>\n",
       "      <td>0.04</td>\n",
       "      <td>0.03</td>\n",
       "      <td>79.00</td>\n",
       "    </tr>\n",
       "    <tr>\n",
       "      <td>max</td>\n",
       "      <td>2,016.00</td>\n",
       "      <td>41.36</td>\n",
       "      <td>28.96</td>\n",
       "      <td>10.22</td>\n",
       "      <td>10.57</td>\n",
       "      <td>98.00</td>\n",
       "    </tr>\n",
       "  </tbody>\n",
       "</table>\n",
       "</div>"
      ],
      "text/plain": [
       "       Year_of_Release  NA_sales  EU_sales  JP_sales  Other_sales  \\\n",
       "count        16,446.00 16,715.00 16,715.00 16,715.00    16,715.00   \n",
       "mean          2,006.48      0.26      0.15      0.08         0.05   \n",
       "std               5.88      0.81      0.50      0.31         0.19   \n",
       "min           1,980.00      0.00      0.00      0.00         0.00   \n",
       "25%           2,003.00      0.00      0.00      0.00         0.00   \n",
       "50%           2,007.00      0.08      0.02      0.00         0.01   \n",
       "75%           2,010.00      0.24      0.11      0.04         0.03   \n",
       "max           2,016.00     41.36     28.96     10.22        10.57   \n",
       "\n",
       "       Critic_Score  \n",
       "count      8,137.00  \n",
       "mean          68.97  \n",
       "std           13.94  \n",
       "min           13.00  \n",
       "25%           60.00  \n",
       "50%           71.00  \n",
       "75%           79.00  \n",
       "max           98.00  "
      ]
     },
     "execution_count": 5,
     "metadata": {},
     "output_type": "execute_result"
    }
   ],
   "source": [
    "# Оцениваем среднее, минимальное и максимальное для числовых значений методом describe() \n",
    "pd.set_option('display.float_format', '{:,.2f}'.format)\n",
    "data.describe()"
   ]
  },
  {
   "cell_type": "markdown",
   "metadata": {
    "id": "fe_qrQx6S-HF"
   },
   "source": [
    "**Шаг 1. Вывод.**  \n",
    "В данных мы обнаружили пропуски (оценки критиков, пользователей и рейтинг), несоответствие типов данных (дата) и несоответствие регистра в столбцах.  \n",
    "Преобразованием этих данных мы займемся в шаге 2: подготовка данных."
   ]
  },
  {
   "cell_type": "markdown",
   "metadata": {},
   "source": [
    "<div class=\"alert alert-block alert-success\">\n",
    "    \n",
    "\n",
    "### Комментарий от ревьюера v_1\n",
    "Отлично\n",
    "\n",
    "Отлично, первый взгляд на данные есть, можем приступать к подготовке данных для анализа\n",
    "</div>"
   ]
  },
  {
   "cell_type": "markdown",
   "metadata": {
    "id": "WlAHfdTXSo_r"
   },
   "source": [
    "## Шаг 2. Подготовка данных"
   ]
  },
  {
   "cell_type": "markdown",
   "metadata": {},
   "source": [
    "#### Приведем названия столбцов к нижнему регистру"
   ]
  },
  {
   "cell_type": "code",
   "execution_count": 6,
   "metadata": {
    "id": "Q-F31IjhF7z2"
   },
   "outputs": [],
   "source": [
    "# Приведем названия столбцов к нижнему регистру\n",
    "data.columns = data.columns.str.lower()\n",
    "# data.head()"
   ]
  },
  {
   "cell_type": "code",
   "execution_count": 7,
   "metadata": {
    "id": "6IsIetvxGgl_"
   },
   "outputs": [],
   "source": [
    "# Приведём строки в колонках \"name\", \"platform\", \"genre\" в нижний регистр\n",
    "data['name'] = data['name'].str.lower()\n",
    "data['platform'] = data['platform'].str.lower()\n",
    "data['genre'] = data['genre'].str.lower()\n",
    "# data.head(10)"
   ]
  },
  {
   "cell_type": "markdown",
   "metadata": {},
   "source": [
    "<div class=\"alert alert-block alert-success\">\n",
    "    \n",
    "\n",
    "### Комментарий от ревьюера v_1\n",
    "👍\n",
    "</div>"
   ]
  },
  {
   "cell_type": "markdown",
   "metadata": {},
   "source": [
    "#### Обработаем пропуски при необходимости.       "
   ]
  },
  {
   "cell_type": "code",
   "execution_count": 8,
   "metadata": {
    "colab": {
     "base_uri": "https://localhost:8080/"
    },
    "id": "0fZSveXuGxlp",
    "outputId": "a5f36a2e-e961-4cbe-d547-447b1b65fc68"
   },
   "outputs": [
    {
     "data": {
      "text/plain": [
       "0"
      ]
     },
     "execution_count": 8,
     "metadata": {},
     "output_type": "execute_result"
    }
   ],
   "source": [
    "# Проверим на дубликаты\n",
    "data.duplicated().sum()"
   ]
  },
  {
   "cell_type": "markdown",
   "metadata": {
    "id": "5V7vdmY2G5P2"
   },
   "source": [
    "Проверим уникальные значения для столбцов \"платформа\" и \"жанр\""
   ]
  },
  {
   "cell_type": "code",
   "execution_count": 9,
   "metadata": {
    "colab": {
     "base_uri": "https://localhost:8080/",
     "height": 138
    },
    "id": "E9Wft8WPG_Fk",
    "outputId": "f69fc8da-7a23-4b5a-c0a1-8396f9d47611"
   },
   "outputs": [
    {
     "data": {
      "text/plain": [
       "array(['2600', '3do', '3ds', 'dc', 'ds', 'gb', 'gba', 'gc', 'gen', 'gg',\n",
       "       'n64', 'nes', 'ng', 'pc', 'pcfx', 'ps', 'ps2', 'ps3', 'ps4', 'psp',\n",
       "       'psv', 'sat', 'scd', 'snes', 'tg16', 'wii', 'wiiu', 'ws', 'x360',\n",
       "       'xb', 'xone'], dtype=object)"
      ]
     },
     "metadata": {},
     "output_type": "display_data"
    },
    {
     "data": {
      "text/plain": [
       "array(['action', 'adventure', 'fighting', 'misc', 'platform', 'puzzle',\n",
       "       'racing', 'role-playing', 'shooter', 'simulation', 'sports',\n",
       "       'strategy', nan], dtype=object)"
      ]
     },
     "metadata": {},
     "output_type": "display_data"
    }
   ],
   "source": [
    "# Проверим уникальные значения для столбцов \"платформа\" и \"жанр\"\n",
    "display(data['platform'].sort_values().unique(), data['genre'].sort_values().unique())"
   ]
  },
  {
   "cell_type": "code",
   "execution_count": 10,
   "metadata": {
    "colab": {
     "base_uri": "https://localhost:8080/",
     "height": 146
    },
    "id": "Q7fq6t15LbUK",
    "outputId": "2ce73e73-385b-434f-a27a-2d8c3460d579"
   },
   "outputs": [
    {
     "name": "stdout",
     "output_type": "stream",
     "text": [
      "Пропуски названия 2\n",
      "Пропуски названия 0\n"
     ]
    }
   ],
   "source": [
    "# Обработаем пропуски в столбцe \"name\" \n",
    "print('Пропуски названия', data['name'].isna().sum())\n",
    "# display(data.loc[data['name'].isna()])\n",
    "\n",
    "# Удалим пропуски в колонке name, так как восстановить их мы не сможем\n",
    "data.dropna(subset=['name'],inplace=True)\n",
    "print('Пропуски названия', data['name'].isna().sum())"
   ]
  },
  {
   "cell_type": "markdown",
   "metadata": {},
   "source": [
    "<div class=\"alert alert-block alert-success\">\n",
    "    \n",
    "\n",
    "### Комментарий от ревьюера v_1\n",
    "Отлично\n",
    "\n",
    "Верно, данные пропуски лучше дропнуть\n",
    "</div>"
   ]
  },
  {
   "cell_type": "code",
   "execution_count": 11,
   "metadata": {},
   "outputs": [
    {
     "name": "stdout",
     "output_type": "stream",
     "text": [
      "Пропуски даты до: 269\n"
     ]
    }
   ],
   "source": [
    "# Обработаем пропуски в столбцe дата релиза:\n",
    "print('Пропуски даты до:', data['year_of_release'].isna().sum())\n",
    "# display(data.loc[data['year_of_release'].isna()])"
   ]
  },
  {
   "cell_type": "markdown",
   "metadata": {
    "id": "n6NA_QY_EuHF"
   },
   "source": [
    "В столбце \"Дата релиза\" у нас 269 нулевых значений. Это менее 2%\n",
    "Можем удалить их"
   ]
  },
  {
   "cell_type": "code",
   "execution_count": 12,
   "metadata": {},
   "outputs": [
    {
     "name": "stdout",
     "output_type": "stream",
     "text": [
      "Пропуски даты после 0\n"
     ]
    }
   ],
   "source": [
    "# Удалим пропуски в колонке дата релиза\n",
    "data.dropna(subset=['year_of_release'],inplace=True)\n",
    "print('Пропуски даты после', data['year_of_release'].isna().sum())\n",
    "data= data.reset_index(drop=True)"
   ]
  },
  {
   "cell_type": "code",
   "execution_count": 13,
   "metadata": {},
   "outputs": [
    {
     "name": "stdout",
     "output_type": "stream",
     "text": [
      "Пропуски рейтинга до 6676\n",
      "Пропуски рейтинга после 0\n"
     ]
    }
   ],
   "source": [
    "# Пропуски рейтинга заменим на \"без рейтинга\" для того чтобы сравнить продажи с рейтингом и без:\n",
    "print('Пропуски рейтинга до', data['rating'].isna().sum())\n",
    "data['rating'] = data['rating'].fillna('без рейтинга')\n",
    "print('Пропуски рейтинга после', data['rating'].isna().sum())"
   ]
  },
  {
   "cell_type": "markdown",
   "metadata": {},
   "source": [
    "#### Преобразуем данные в нужные типы. "
   ]
  },
  {
   "cell_type": "code",
   "execution_count": 14,
   "metadata": {
    "colab": {
     "base_uri": "https://localhost:8080/"
    },
    "id": "l2o3iKMb91R8",
    "outputId": "dd61e690-f10d-431c-ed80-46a203a750be"
   },
   "outputs": [
    {
     "data": {
      "text/html": [
       "<div>\n",
       "<style scoped>\n",
       "    .dataframe tbody tr th:only-of-type {\n",
       "        vertical-align: middle;\n",
       "    }\n",
       "\n",
       "    .dataframe tbody tr th {\n",
       "        vertical-align: top;\n",
       "    }\n",
       "\n",
       "    .dataframe thead th {\n",
       "        text-align: right;\n",
       "    }\n",
       "</style>\n",
       "<table border=\"1\" class=\"dataframe\">\n",
       "  <thead>\n",
       "    <tr style=\"text-align: right;\">\n",
       "      <th></th>\n",
       "      <th>year_of_release</th>\n",
       "    </tr>\n",
       "  </thead>\n",
       "  <tbody>\n",
       "    <tr>\n",
       "      <td>0</td>\n",
       "      <td>2006</td>\n",
       "    </tr>\n",
       "    <tr>\n",
       "      <td>1</td>\n",
       "      <td>1985</td>\n",
       "    </tr>\n",
       "    <tr>\n",
       "      <td>2</td>\n",
       "      <td>2008</td>\n",
       "    </tr>\n",
       "    <tr>\n",
       "      <td>3</td>\n",
       "      <td>2009</td>\n",
       "    </tr>\n",
       "    <tr>\n",
       "      <td>4</td>\n",
       "      <td>1996</td>\n",
       "    </tr>\n",
       "    <tr>\n",
       "      <td>...</td>\n",
       "      <td>...</td>\n",
       "    </tr>\n",
       "    <tr>\n",
       "      <td>16439</td>\n",
       "      <td>2016</td>\n",
       "    </tr>\n",
       "    <tr>\n",
       "      <td>16440</td>\n",
       "      <td>2006</td>\n",
       "    </tr>\n",
       "    <tr>\n",
       "      <td>16441</td>\n",
       "      <td>2016</td>\n",
       "    </tr>\n",
       "    <tr>\n",
       "      <td>16442</td>\n",
       "      <td>2003</td>\n",
       "    </tr>\n",
       "    <tr>\n",
       "      <td>16443</td>\n",
       "      <td>2016</td>\n",
       "    </tr>\n",
       "  </tbody>\n",
       "</table>\n",
       "<p>16444 rows × 1 columns</p>\n",
       "</div>"
      ],
      "text/plain": [
       "       year_of_release\n",
       "0                 2006\n",
       "1                 1985\n",
       "2                 2008\n",
       "3                 2009\n",
       "4                 1996\n",
       "...                ...\n",
       "16439             2016\n",
       "16440             2006\n",
       "16441             2016\n",
       "16442             2003\n",
       "16443             2016\n",
       "\n",
       "[16444 rows x 1 columns]"
      ]
     },
     "execution_count": 14,
     "metadata": {},
     "output_type": "execute_result"
    }
   ],
   "source": [
    "# Приведём значения в колнке дата релиза к целочисленному формату.\n",
    "data['year_of_release'] = data['year_of_release'].astype('int')\n",
    "data = data[data['year_of_release'] != 0].reset_index()\n",
    "data[['year_of_release']]"
   ]
  },
  {
   "cell_type": "code",
   "execution_count": 15,
   "metadata": {
    "colab": {
     "base_uri": "https://localhost:8080/",
     "height": 206
    },
    "id": "chWLujHu_Cub",
    "outputId": "e690f4a9-48b0-415d-a168-e8b78ea49d32"
   },
   "outputs": [],
   "source": [
    "# # Приведём значения в колнке \"year_of_release\" к целочисленному формату.\n",
    "# data['year_of_release'] = data['year_of_release'].astype('int')\n",
    "# data[['year_of_release']]\n",
    "# data= data.reset_index(drop=True)\n",
    "# display(data[['year_of_release']].head())"
   ]
  },
  {
   "cell_type": "markdown",
   "metadata": {},
   "source": [
    "<div class=\"alert alert-block alert-warning\">\n",
    "    \n",
    "\n",
    "### Комментарий от ревьюера v_1\n",
    "Рекомендация\n",
    "\n",
    "А зачем такие манипуляции? Что мешало сразу пропуски дропнуть?\n",
    "</div>"
   ]
  },
  {
   "cell_type": "markdown",
   "metadata": {},
   "source": [
    "#### Аббревиатура 'tbd' в столбцах с рейтингом. Разберём это значение и опишем, как его обработать.  "
   ]
  },
  {
   "cell_type": "markdown",
   "metadata": {
    "id": "ML1nD7PAMM9y"
   },
   "source": [
    "Аббрeвиатура \"tbe\" расшифровывается как - To Be Determined(Будет определено).\n",
    "Посмотрим распределение этой аббревиатуры по годам:"
   ]
  },
  {
   "cell_type": "code",
   "execution_count": 16,
   "metadata": {
    "colab": {
     "base_uri": "https://localhost:8080/",
     "height": 423
    },
    "id": "LZlbb0c4BU_I",
    "outputId": "0305deb1-2c6c-4445-bcf8-47e5711ef833"
   },
   "outputs": [
    {
     "data": {
      "text/html": [
       "<div>\n",
       "<style scoped>\n",
       "    .dataframe tbody tr th:only-of-type {\n",
       "        vertical-align: middle;\n",
       "    }\n",
       "\n",
       "    .dataframe tbody tr th {\n",
       "        vertical-align: top;\n",
       "    }\n",
       "\n",
       "    .dataframe thead th {\n",
       "        text-align: right;\n",
       "    }\n",
       "</style>\n",
       "<table border=\"1\" class=\"dataframe\">\n",
       "  <thead>\n",
       "    <tr style=\"text-align: right;\">\n",
       "      <th></th>\n",
       "      <th>user_score</th>\n",
       "      <th>year_of_release</th>\n",
       "    </tr>\n",
       "  </thead>\n",
       "  <tbody>\n",
       "    <tr>\n",
       "      <td>12632</td>\n",
       "      <td>tbd</td>\n",
       "      <td>1997</td>\n",
       "    </tr>\n",
       "    <tr>\n",
       "      <td>2987</td>\n",
       "      <td>tbd</td>\n",
       "      <td>1999</td>\n",
       "    </tr>\n",
       "    <tr>\n",
       "      <td>2206</td>\n",
       "      <td>tbd</td>\n",
       "      <td>1999</td>\n",
       "    </tr>\n",
       "    <tr>\n",
       "      <td>10066</td>\n",
       "      <td>tbd</td>\n",
       "      <td>1999</td>\n",
       "    </tr>\n",
       "    <tr>\n",
       "      <td>4165</td>\n",
       "      <td>tbd</td>\n",
       "      <td>1999</td>\n",
       "    </tr>\n",
       "    <tr>\n",
       "      <td>...</td>\n",
       "      <td>...</td>\n",
       "      <td>...</td>\n",
       "    </tr>\n",
       "    <tr>\n",
       "      <td>8430</td>\n",
       "      <td>tbd</td>\n",
       "      <td>2016</td>\n",
       "    </tr>\n",
       "    <tr>\n",
       "      <td>14069</td>\n",
       "      <td>tbd</td>\n",
       "      <td>2016</td>\n",
       "    </tr>\n",
       "    <tr>\n",
       "      <td>15921</td>\n",
       "      <td>tbd</td>\n",
       "      <td>2016</td>\n",
       "    </tr>\n",
       "    <tr>\n",
       "      <td>14616</td>\n",
       "      <td>tbd</td>\n",
       "      <td>2016</td>\n",
       "    </tr>\n",
       "    <tr>\n",
       "      <td>10909</td>\n",
       "      <td>tbd</td>\n",
       "      <td>2016</td>\n",
       "    </tr>\n",
       "  </tbody>\n",
       "</table>\n",
       "<p>2376 rows × 2 columns</p>\n",
       "</div>"
      ],
      "text/plain": [
       "      user_score  year_of_release\n",
       "12632        tbd             1997\n",
       "2987         tbd             1999\n",
       "2206         tbd             1999\n",
       "10066        tbd             1999\n",
       "4165         tbd             1999\n",
       "...          ...              ...\n",
       "8430         tbd             2016\n",
       "14069        tbd             2016\n",
       "15921        tbd             2016\n",
       "14616        tbd             2016\n",
       "10909        tbd             2016\n",
       "\n",
       "[2376 rows x 2 columns]"
      ]
     },
     "execution_count": 16,
     "metadata": {},
     "output_type": "execute_result"
    }
   ],
   "source": [
    "# Аббривиатура \"tbe\" переводится как - \"Будет определено\". Посмотрим распределение этой аббревиатуры по годам:\n",
    "data[['user_score', 'year_of_release']][(data['user_score'] == 'tbd')].sort_values(by = 'year_of_release', ascending = True)"
   ]
  },
  {
   "cell_type": "code",
   "execution_count": 17,
   "metadata": {
    "id": "TWXJ637TH1zz"
   },
   "outputs": [],
   "source": [
    "# Встречаем аббревиатуру во всех годах, всего 2376 значений.Вероятно, пользователи не вернулись с оценкой.\n",
    "# Чтобы изменить тип данных на численный, заменим значения на NaN:\n",
    "data.loc[data['user_score'] == 'tbd','user_score'] = np.nan"
   ]
  },
  {
   "cell_type": "code",
   "execution_count": 18,
   "metadata": {
    "id": "i2aQzovcIzXT"
   },
   "outputs": [],
   "source": [
    "# Переведем user_score в float\n",
    "data['user_score'] = data['user_score'].astype('float')"
   ]
  },
  {
   "cell_type": "markdown",
   "metadata": {},
   "source": [
    "<div class=\"alert alert-block alert-success\">\n",
    "\n",
    "    \n",
    "### Комментарий от ревьюера v_1\n",
    "\n",
    "Молодец, tbd обработаны 👍🏻\n",
    "    \n",
    "</div>"
   ]
  },
  {
   "cell_type": "markdown",
   "metadata": {},
   "source": [
    "#### Посчитаем суммарные продажи во всех регионах и запишем их в отдельный столбец. "
   ]
  },
  {
   "cell_type": "code",
   "execution_count": 19,
   "metadata": {
    "colab": {
     "base_uri": "https://localhost:8080/",
     "height": 423
    },
    "id": "OKDnIm_ZRAOh",
    "outputId": "d7a3ba62-a471-4624-b0b4-cd87b03df6d4"
   },
   "outputs": [
    {
     "data": {
      "text/html": [
       "<div>\n",
       "<style scoped>\n",
       "    .dataframe tbody tr th:only-of-type {\n",
       "        vertical-align: middle;\n",
       "    }\n",
       "\n",
       "    .dataframe tbody tr th {\n",
       "        vertical-align: top;\n",
       "    }\n",
       "\n",
       "    .dataframe thead th {\n",
       "        text-align: right;\n",
       "    }\n",
       "</style>\n",
       "<table border=\"1\" class=\"dataframe\">\n",
       "  <thead>\n",
       "    <tr style=\"text-align: right;\">\n",
       "      <th></th>\n",
       "      <th>index</th>\n",
       "      <th>name</th>\n",
       "      <th>platform</th>\n",
       "      <th>year_of_release</th>\n",
       "      <th>genre</th>\n",
       "      <th>na_sales</th>\n",
       "      <th>eu_sales</th>\n",
       "      <th>jp_sales</th>\n",
       "      <th>other_sales</th>\n",
       "      <th>critic_score</th>\n",
       "      <th>user_score</th>\n",
       "      <th>rating</th>\n",
       "      <th>total_sales</th>\n",
       "    </tr>\n",
       "  </thead>\n",
       "  <tbody>\n",
       "    <tr>\n",
       "      <td>16405</td>\n",
       "      <td>16405</td>\n",
       "      <td>g1 jockey 4 2008</td>\n",
       "      <td>ps3</td>\n",
       "      <td>2008</td>\n",
       "      <td>sports</td>\n",
       "      <td>0.00</td>\n",
       "      <td>0.00</td>\n",
       "      <td>0.00</td>\n",
       "      <td>0.00</td>\n",
       "      <td>nan</td>\n",
       "      <td>nan</td>\n",
       "      <td>без рейтинга</td>\n",
       "      <td>0.00</td>\n",
       "    </tr>\n",
       "    <tr>\n",
       "      <td>16438</td>\n",
       "      <td>16438</td>\n",
       "      <td>score international baja 1000: the official game</td>\n",
       "      <td>ps2</td>\n",
       "      <td>2008</td>\n",
       "      <td>racing</td>\n",
       "      <td>0.00</td>\n",
       "      <td>0.00</td>\n",
       "      <td>0.00</td>\n",
       "      <td>0.00</td>\n",
       "      <td>nan</td>\n",
       "      <td>nan</td>\n",
       "      <td>без рейтинга</td>\n",
       "      <td>0.00</td>\n",
       "    </tr>\n",
       "    <tr>\n",
       "      <td>15922</td>\n",
       "      <td>15922</td>\n",
       "      <td>uta no * prince-sama: sweet serenade</td>\n",
       "      <td>psp</td>\n",
       "      <td>2011</td>\n",
       "      <td>adventure</td>\n",
       "      <td>0.00</td>\n",
       "      <td>0.00</td>\n",
       "      <td>0.01</td>\n",
       "      <td>0.00</td>\n",
       "      <td>nan</td>\n",
       "      <td>nan</td>\n",
       "      <td>без рейтинга</td>\n",
       "      <td>0.01</td>\n",
       "    </tr>\n",
       "    <tr>\n",
       "      <td>15921</td>\n",
       "      <td>15921</td>\n",
       "      <td>rocksmith 2014 edition remastered</td>\n",
       "      <td>xone</td>\n",
       "      <td>2016</td>\n",
       "      <td>misc</td>\n",
       "      <td>0.01</td>\n",
       "      <td>0.00</td>\n",
       "      <td>0.00</td>\n",
       "      <td>0.00</td>\n",
       "      <td>nan</td>\n",
       "      <td>nan</td>\n",
       "      <td>T</td>\n",
       "      <td>0.01</td>\n",
       "    </tr>\n",
       "    <tr>\n",
       "      <td>15920</td>\n",
       "      <td>15920</td>\n",
       "      <td>sakura sakura: haru urara</td>\n",
       "      <td>psp</td>\n",
       "      <td>2010</td>\n",
       "      <td>adventure</td>\n",
       "      <td>0.00</td>\n",
       "      <td>0.00</td>\n",
       "      <td>0.01</td>\n",
       "      <td>0.00</td>\n",
       "      <td>nan</td>\n",
       "      <td>nan</td>\n",
       "      <td>без рейтинга</td>\n",
       "      <td>0.01</td>\n",
       "    </tr>\n",
       "    <tr>\n",
       "      <td>...</td>\n",
       "      <td>...</td>\n",
       "      <td>...</td>\n",
       "      <td>...</td>\n",
       "      <td>...</td>\n",
       "      <td>...</td>\n",
       "      <td>...</td>\n",
       "      <td>...</td>\n",
       "      <td>...</td>\n",
       "      <td>...</td>\n",
       "      <td>...</td>\n",
       "      <td>...</td>\n",
       "      <td>...</td>\n",
       "      <td>...</td>\n",
       "    </tr>\n",
       "    <tr>\n",
       "      <td>4</td>\n",
       "      <td>4</td>\n",
       "      <td>pokemon red/pokemon blue</td>\n",
       "      <td>gb</td>\n",
       "      <td>1996</td>\n",
       "      <td>role-playing</td>\n",
       "      <td>11.27</td>\n",
       "      <td>8.89</td>\n",
       "      <td>10.22</td>\n",
       "      <td>1.00</td>\n",
       "      <td>nan</td>\n",
       "      <td>nan</td>\n",
       "      <td>без рейтинга</td>\n",
       "      <td>31.38</td>\n",
       "    </tr>\n",
       "    <tr>\n",
       "      <td>3</td>\n",
       "      <td>3</td>\n",
       "      <td>wii sports resort</td>\n",
       "      <td>wii</td>\n",
       "      <td>2009</td>\n",
       "      <td>sports</td>\n",
       "      <td>15.61</td>\n",
       "      <td>10.93</td>\n",
       "      <td>3.28</td>\n",
       "      <td>2.95</td>\n",
       "      <td>80.00</td>\n",
       "      <td>8.00</td>\n",
       "      <td>E</td>\n",
       "      <td>32.77</td>\n",
       "    </tr>\n",
       "    <tr>\n",
       "      <td>2</td>\n",
       "      <td>2</td>\n",
       "      <td>mario kart wii</td>\n",
       "      <td>wii</td>\n",
       "      <td>2008</td>\n",
       "      <td>racing</td>\n",
       "      <td>15.68</td>\n",
       "      <td>12.76</td>\n",
       "      <td>3.79</td>\n",
       "      <td>3.29</td>\n",
       "      <td>82.00</td>\n",
       "      <td>8.30</td>\n",
       "      <td>E</td>\n",
       "      <td>35.52</td>\n",
       "    </tr>\n",
       "    <tr>\n",
       "      <td>1</td>\n",
       "      <td>1</td>\n",
       "      <td>super mario bros.</td>\n",
       "      <td>nes</td>\n",
       "      <td>1985</td>\n",
       "      <td>platform</td>\n",
       "      <td>29.08</td>\n",
       "      <td>3.58</td>\n",
       "      <td>6.81</td>\n",
       "      <td>0.77</td>\n",
       "      <td>nan</td>\n",
       "      <td>nan</td>\n",
       "      <td>без рейтинга</td>\n",
       "      <td>40.24</td>\n",
       "    </tr>\n",
       "    <tr>\n",
       "      <td>0</td>\n",
       "      <td>0</td>\n",
       "      <td>wii sports</td>\n",
       "      <td>wii</td>\n",
       "      <td>2006</td>\n",
       "      <td>sports</td>\n",
       "      <td>41.36</td>\n",
       "      <td>28.96</td>\n",
       "      <td>3.77</td>\n",
       "      <td>8.45</td>\n",
       "      <td>76.00</td>\n",
       "      <td>8.00</td>\n",
       "      <td>E</td>\n",
       "      <td>82.54</td>\n",
       "    </tr>\n",
       "  </tbody>\n",
       "</table>\n",
       "<p>16444 rows × 13 columns</p>\n",
       "</div>"
      ],
      "text/plain": [
       "       index                                              name platform  \\\n",
       "16405  16405                                  g1 jockey 4 2008      ps3   \n",
       "16438  16438  score international baja 1000: the official game      ps2   \n",
       "15922  15922              uta no * prince-sama: sweet serenade      psp   \n",
       "15921  15921                 rocksmith 2014 edition remastered     xone   \n",
       "15920  15920                         sakura sakura: haru urara      psp   \n",
       "...      ...                                               ...      ...   \n",
       "4          4                          pokemon red/pokemon blue       gb   \n",
       "3          3                                 wii sports resort      wii   \n",
       "2          2                                    mario kart wii      wii   \n",
       "1          1                                 super mario bros.      nes   \n",
       "0          0                                        wii sports      wii   \n",
       "\n",
       "       year_of_release         genre  na_sales  eu_sales  jp_sales  \\\n",
       "16405             2008        sports      0.00      0.00      0.00   \n",
       "16438             2008        racing      0.00      0.00      0.00   \n",
       "15922             2011     adventure      0.00      0.00      0.01   \n",
       "15921             2016          misc      0.01      0.00      0.00   \n",
       "15920             2010     adventure      0.00      0.00      0.01   \n",
       "...                ...           ...       ...       ...       ...   \n",
       "4                 1996  role-playing     11.27      8.89     10.22   \n",
       "3                 2009        sports     15.61     10.93      3.28   \n",
       "2                 2008        racing     15.68     12.76      3.79   \n",
       "1                 1985      platform     29.08      3.58      6.81   \n",
       "0                 2006        sports     41.36     28.96      3.77   \n",
       "\n",
       "       other_sales  critic_score  user_score        rating  total_sales  \n",
       "16405         0.00           nan         nan  без рейтинга         0.00  \n",
       "16438         0.00           nan         nan  без рейтинга         0.00  \n",
       "15922         0.00           nan         nan  без рейтинга         0.01  \n",
       "15921         0.00           nan         nan             T         0.01  \n",
       "15920         0.00           nan         nan  без рейтинга         0.01  \n",
       "...            ...           ...         ...           ...          ...  \n",
       "4             1.00           nan         nan  без рейтинга        31.38  \n",
       "3             2.95         80.00        8.00             E        32.77  \n",
       "2             3.29         82.00        8.30             E        35.52  \n",
       "1             0.77           nan         nan  без рейтинга        40.24  \n",
       "0             8.45         76.00        8.00             E        82.54  \n",
       "\n",
       "[16444 rows x 13 columns]"
      ]
     },
     "execution_count": 19,
     "metadata": {},
     "output_type": "execute_result"
    }
   ],
   "source": [
    "# Посчитаем суммарные продажи во всех регионах и запишем их в отдельный столбец:\n",
    "data['total_sales'] = data['na_sales'] + data['eu_sales'] + data['jp_sales'] + data['other_sales'] \n",
    "data.sort_values(by = 'total_sales', ascending = True)"
   ]
  },
  {
   "cell_type": "markdown",
   "metadata": {
    "id": "3ad7yCYeTMPb"
   },
   "source": [
    "**Шаг 2.Вывод**\n",
    "Пропуски в данных встречаются чаще всего в столбцах с оценками и рейтингами. Отсуствие рейтинга и оценок может всего связано как с технической причиной (перенос данных, обновление баз), так и с отсуствием данных как таковых - например, пользователи или критики просто не предоставили оценку. "
   ]
  },
  {
   "cell_type": "markdown",
   "metadata": {},
   "source": [
    "<div class=\"alert alert-block alert-success\">\n",
    "\n",
    "    \n",
    "### Комментарий от ревьюера v_1\n",
    "\n",
    "Отлично\n",
    "    \n",
    "Отличная предобработка 👍🏻\n",
    "    \n",
    "</div>"
   ]
  },
  {
   "cell_type": "markdown",
   "metadata": {
    "id": "JG37RIy7T7sk"
   },
   "source": [
    "## Шаг 3. Проведем исследовательский анализ данных"
   ]
  },
  {
   "cell_type": "markdown",
   "metadata": {},
   "source": [
    "#### Найдем, сколько игр выпускалось в разные годы  "
   ]
  },
  {
   "cell_type": "code",
   "execution_count": 20,
   "metadata": {
    "colab": {
     "base_uri": "https://localhost:8080/",
     "height": 678
    },
    "id": "sHrA4kPzB1g7",
    "outputId": "a095849c-9053-425f-94f2-0dbbbabe3dee"
   },
   "outputs": [
    {
     "data": {
      "text/html": [
       "<div>\n",
       "<style scoped>\n",
       "    .dataframe tbody tr th:only-of-type {\n",
       "        vertical-align: middle;\n",
       "    }\n",
       "\n",
       "    .dataframe tbody tr th {\n",
       "        vertical-align: top;\n",
       "    }\n",
       "\n",
       "    .dataframe thead th {\n",
       "        text-align: right;\n",
       "    }\n",
       "</style>\n",
       "<table border=\"1\" class=\"dataframe\">\n",
       "  <thead>\n",
       "    <tr style=\"text-align: right;\">\n",
       "      <th></th>\n",
       "      <th>genre</th>\n",
       "    </tr>\n",
       "    <tr>\n",
       "      <th>year_of_release</th>\n",
       "      <th></th>\n",
       "    </tr>\n",
       "  </thead>\n",
       "  <tbody>\n",
       "    <tr>\n",
       "      <td>2008</td>\n",
       "      <td>1427</td>\n",
       "    </tr>\n",
       "    <tr>\n",
       "      <td>2009</td>\n",
       "      <td>1426</td>\n",
       "    </tr>\n",
       "    <tr>\n",
       "      <td>2010</td>\n",
       "      <td>1255</td>\n",
       "    </tr>\n",
       "    <tr>\n",
       "      <td>2007</td>\n",
       "      <td>1197</td>\n",
       "    </tr>\n",
       "    <tr>\n",
       "      <td>2011</td>\n",
       "      <td>1136</td>\n",
       "    </tr>\n",
       "    <tr>\n",
       "      <td>2006</td>\n",
       "      <td>1006</td>\n",
       "    </tr>\n",
       "    <tr>\n",
       "      <td>2005</td>\n",
       "      <td>939</td>\n",
       "    </tr>\n",
       "    <tr>\n",
       "      <td>2002</td>\n",
       "      <td>829</td>\n",
       "    </tr>\n",
       "    <tr>\n",
       "      <td>2003</td>\n",
       "      <td>775</td>\n",
       "    </tr>\n",
       "    <tr>\n",
       "      <td>2004</td>\n",
       "      <td>762</td>\n",
       "    </tr>\n",
       "  </tbody>\n",
       "</table>\n",
       "</div>"
      ],
      "text/plain": [
       "                 genre\n",
       "year_of_release       \n",
       "2008              1427\n",
       "2009              1426\n",
       "2010              1255\n",
       "2007              1197\n",
       "2011              1136\n",
       "2006              1006\n",
       "2005               939\n",
       "2002               829\n",
       "2003               775\n",
       "2004               762"
      ]
     },
     "metadata": {},
     "output_type": "display_data"
    },
    {
     "data": {
      "image/png": "[encoded data removed]",
      "text/plain": [
       "<Figure size 432x288 with 1 Axes>"
      ]
     },
     "metadata": {},
     "output_type": "display_data"
    }
   ],
   "source": [
    "# Посмотрим, сколько игр выпускалось в разные периоды\n",
    "count_games_of_year = data.pivot_table(index='year_of_release', values='genre', aggfunc='count');\n",
    "display(count_games_of_year.sort_values(by = 'genre', ascending = False).head(10));\n",
    "\n",
    "# Посмотрим на график:\n",
    "count_games_of_year.plot(title='Динамика выпуска игр');"
   ]
  },
  {
   "cell_type": "markdown",
   "metadata": {
    "id": "oc1Huf5aXMAN"
   },
   "source": [
    "По графику видим, что первые игры появились в 1980 году и 10 лет находились на плато. С 1995 года начался бурный рост, который достиг своего пика в 2008 году. С 2010 года  идет спад количества производимых игр. Видимо, рынок насытился.\n"
   ]
  },
  {
   "cell_type": "markdown",
   "metadata": {},
   "source": [
    "<div class=\"alert alert-block alert-success\">\n",
    "\n",
    "    \n",
    "### Комментарий от ревьюера v_1\n",
    "\n",
    "Отличный график и верные выводы\n",
    "    \n",
    "</div>"
   ]
  },
  {
   "cell_type": "markdown",
   "metadata": {},
   "source": [
    "#### Посмотрим, как менялись продажи по платформам. Выберем платформы с наибольшими суммарными продажами и построим распределение по годам    "
   ]
  },
  {
   "cell_type": "code",
   "execution_count": 21,
   "metadata": {
    "colab": {
     "base_uri": "https://localhost:8080/",
     "height": 206
    },
    "id": "JYgwFrJZK6MY",
    "outputId": "f7bb188e-8ee7-4f4a-b73b-76f73c32bfa2"
   },
   "outputs": [
    {
     "data": {
      "text/html": [
       "<div>\n",
       "<style scoped>\n",
       "    .dataframe tbody tr th:only-of-type {\n",
       "        vertical-align: middle;\n",
       "    }\n",
       "\n",
       "    .dataframe tbody tr th {\n",
       "        vertical-align: top;\n",
       "    }\n",
       "\n",
       "    .dataframe thead th {\n",
       "        text-align: right;\n",
       "    }\n",
       "</style>\n",
       "<table border=\"1\" class=\"dataframe\">\n",
       "  <thead>\n",
       "    <tr style=\"text-align: right;\">\n",
       "      <th></th>\n",
       "      <th>platform</th>\n",
       "      <th>year_of_release</th>\n",
       "      <th>index</th>\n",
       "      <th>na_sales</th>\n",
       "      <th>eu_sales</th>\n",
       "      <th>jp_sales</th>\n",
       "      <th>other_sales</th>\n",
       "      <th>critic_score</th>\n",
       "      <th>user_score</th>\n",
       "      <th>total_sales</th>\n",
       "    </tr>\n",
       "  </thead>\n",
       "  <tbody>\n",
       "    <tr>\n",
       "      <td>0</td>\n",
       "      <td>2600</td>\n",
       "      <td>1980</td>\n",
       "      <td>3,258.44</td>\n",
       "      <td>1.18</td>\n",
       "      <td>0.07</td>\n",
       "      <td>0.00</td>\n",
       "      <td>0.01</td>\n",
       "      <td>nan</td>\n",
       "      <td>nan</td>\n",
       "      <td>1.26</td>\n",
       "    </tr>\n",
       "    <tr>\n",
       "      <td>1</td>\n",
       "      <td>2600</td>\n",
       "      <td>1981</td>\n",
       "      <td>4,068.43</td>\n",
       "      <td>0.73</td>\n",
       "      <td>0.04</td>\n",
       "      <td>0.00</td>\n",
       "      <td>0.01</td>\n",
       "      <td>nan</td>\n",
       "      <td>nan</td>\n",
       "      <td>0.78</td>\n",
       "    </tr>\n",
       "    <tr>\n",
       "      <td>2</td>\n",
       "      <td>2600</td>\n",
       "      <td>1982</td>\n",
       "      <td>4,073.39</td>\n",
       "      <td>0.75</td>\n",
       "      <td>0.05</td>\n",
       "      <td>0.00</td>\n",
       "      <td>0.01</td>\n",
       "      <td>nan</td>\n",
       "      <td>nan</td>\n",
       "      <td>0.80</td>\n",
       "    </tr>\n",
       "    <tr>\n",
       "      <td>3</td>\n",
       "      <td>2600</td>\n",
       "      <td>1983</td>\n",
       "      <td>4,405.82</td>\n",
       "      <td>0.49</td>\n",
       "      <td>0.03</td>\n",
       "      <td>0.00</td>\n",
       "      <td>0.01</td>\n",
       "      <td>nan</td>\n",
       "      <td>nan</td>\n",
       "      <td>0.53</td>\n",
       "    </tr>\n",
       "    <tr>\n",
       "      <td>4</td>\n",
       "      <td>2600</td>\n",
       "      <td>1984</td>\n",
       "      <td>6,185.00</td>\n",
       "      <td>0.26</td>\n",
       "      <td>0.01</td>\n",
       "      <td>0.00</td>\n",
       "      <td>0.00</td>\n",
       "      <td>nan</td>\n",
       "      <td>nan</td>\n",
       "      <td>0.27</td>\n",
       "    </tr>\n",
       "  </tbody>\n",
       "</table>\n",
       "</div>"
      ],
      "text/plain": [
       "  platform  year_of_release    index  na_sales  eu_sales  jp_sales  \\\n",
       "0     2600             1980 3,258.44      1.18      0.07      0.00   \n",
       "1     2600             1981 4,068.43      0.73      0.04      0.00   \n",
       "2     2600             1982 4,073.39      0.75      0.05      0.00   \n",
       "3     2600             1983 4,405.82      0.49      0.03      0.00   \n",
       "4     2600             1984 6,185.00      0.26      0.01      0.00   \n",
       "\n",
       "   other_sales  critic_score  user_score  total_sales  \n",
       "0         0.01           nan         nan         1.26  \n",
       "1         0.01           nan         nan         0.78  \n",
       "2         0.01           nan         nan         0.80  \n",
       "3         0.01           nan         nan         0.53  \n",
       "4         0.00           nan         nan         0.27  "
      ]
     },
     "execution_count": 21,
     "metadata": {},
     "output_type": "execute_result"
    }
   ],
   "source": [
    "# Создадим новую таблицу с группировкой по платформам и году реализации:\n",
    "average_life = data.groupby(['platform', 'year_of_release']).agg('mean')\n",
    "average_life.reset_index(inplace=True)\n",
    "average_life.head()"
   ]
  },
  {
   "cell_type": "markdown",
   "metadata": {},
   "source": [
    "#### Определим, за какой характерный срок появляются новые и исчезают старые платформы     "
   ]
  },
  {
   "cell_type": "code",
   "execution_count": 22,
   "metadata": {
    "colab": {
     "base_uri": "https://localhost:8080/"
    },
    "id": "NOld8e2HL9KP",
    "outputId": "bcf8613c-a9e1-4f4d-f490-9288771689f9"
   },
   "outputs": [
    {
     "name": "stdout",
     "output_type": "stream",
     "text": [
      "Средний срок жизни платформы: 7.67741935483871 лет\n"
     ]
    }
   ],
   "source": [
    "# Определим средний срок жизни платформы:\n",
    "print('Средний срок жизни платформы:',  average_life.groupby('platform')['year_of_release'].count().mean(), 'лет')"
   ]
  },
  {
   "cell_type": "markdown",
   "metadata": {},
   "source": [
    "#### Выберем актуальный период исследования данных для прогноза на 2017 год. "
   ]
  },
  {
   "cell_type": "markdown",
   "metadata": {
    "id": "sElJOHThanrM"
   },
   "source": [
    "В среднем платформа живет 7.7 лет. Нас интересует половина этого периода, так как актуальный период равен половине среднего времени жизни платформы, т.е. ~3 года. Поэтому для анализа мы будем смотреть последние 3 года, начиная с 2013."
   ]
  },
  {
   "cell_type": "markdown",
   "metadata": {},
   "source": [
    "<div class=\"alert alert-block alert-success\">\n",
    "\n",
    "    \n",
    "### Комментарий от ревьюера v_1\n",
    "Отлично\n",
    "\n",
    "Актуальный период верен для прогноза 👍🏻\n",
    "    \n",
    "</div>"
   ]
  },
  {
   "cell_type": "code",
   "execution_count": 23,
   "metadata": {
    "id": "nziAOmB2_lJF"
   },
   "outputs": [],
   "source": [
    "# Так как в дальнейшем будем пользоваться выборкой только для актуального периода, перезапишем датафрейм:\n",
    "data = data.loc[data['year_of_release'] >= 2013,'name':'total_sales']\\\n",
    "                                                 .sort_values(by='year_of_release',ascending=True)\\\n",
    "                                                 .reset_index(drop=True)\n",
    "# data"
   ]
  },
  {
   "cell_type": "markdown",
   "metadata": {},
   "source": [
    "#### Найдем потенциально прибыльные платформы.    "
   ]
  },
  {
   "cell_type": "markdown",
   "metadata": {
    "id": "CbegDxQ7vIxB"
   },
   "source": [
    "Определим, какие платформы лидируют по продажам.\n",
    "Выберем TOP потенциально прибыльных платформ с наибольшими суммарными продажами и построим распределение по годам."
   ]
  },
  {
   "cell_type": "code",
   "execution_count": 24,
   "metadata": {
    "colab": {
     "base_uri": "https://localhost:8080/",
     "height": 622
    },
    "id": "6xAQpY_hfU1P",
    "outputId": "bb71b8ea-ec22-4baf-a896-30b8b83769f6"
   },
   "outputs": [],
   "source": [
    "# # Посмотрим на графике распределение суммарных продаж между платформами по годам:\n",
    "# (data\n",
    "#     .pivot_table(index=['year_of_release','platform'], values='total_sales', aggfunc='sum')\n",
    "#     .sort_values(by = 'total_sales', ascending = False)\n",
    "#     .plot(kind='bar',grid=True, figsize=(12, 5),title='Суммарные продажи платформ')\n",
    "# )\n",
    "# plt.xlabel('Год выпуска, Платформа')"
   ]
  },
  {
   "cell_type": "code",
   "execution_count": 25,
   "metadata": {},
   "outputs": [
    {
     "data": {
      "text/html": [
       "<div>\n",
       "<style scoped>\n",
       "    .dataframe tbody tr th:only-of-type {\n",
       "        vertical-align: middle;\n",
       "    }\n",
       "\n",
       "    .dataframe tbody tr th {\n",
       "        vertical-align: top;\n",
       "    }\n",
       "\n",
       "    .dataframe thead th {\n",
       "        text-align: right;\n",
       "    }\n",
       "</style>\n",
       "<table border=\"1\" class=\"dataframe\">\n",
       "  <thead>\n",
       "    <tr style=\"text-align: right;\">\n",
       "      <th></th>\n",
       "      <th>year_of_release</th>\n",
       "      <th>platform</th>\n",
       "      <th>total_sales</th>\n",
       "    </tr>\n",
       "  </thead>\n",
       "  <tbody>\n",
       "    <tr>\n",
       "      <td>0</td>\n",
       "      <td>2015</td>\n",
       "      <td>ps4</td>\n",
       "      <td>118.90</td>\n",
       "    </tr>\n",
       "    <tr>\n",
       "      <td>1</td>\n",
       "      <td>2013</td>\n",
       "      <td>ps3</td>\n",
       "      <td>113.25</td>\n",
       "    </tr>\n",
       "    <tr>\n",
       "      <td>2</td>\n",
       "      <td>2014</td>\n",
       "      <td>ps4</td>\n",
       "      <td>100.00</td>\n",
       "    </tr>\n",
       "    <tr>\n",
       "      <td>3</td>\n",
       "      <td>2013</td>\n",
       "      <td>x360</td>\n",
       "      <td>88.58</td>\n",
       "    </tr>\n",
       "    <tr>\n",
       "      <td>4</td>\n",
       "      <td>2016</td>\n",
       "      <td>ps4</td>\n",
       "      <td>69.25</td>\n",
       "    </tr>\n",
       "    <tr>\n",
       "      <td>5</td>\n",
       "      <td>2015</td>\n",
       "      <td>xone</td>\n",
       "      <td>60.14</td>\n",
       "    </tr>\n",
       "    <tr>\n",
       "      <td>6</td>\n",
       "      <td>2013</td>\n",
       "      <td>3ds</td>\n",
       "      <td>56.57</td>\n",
       "    </tr>\n",
       "    <tr>\n",
       "      <td>7</td>\n",
       "      <td>2014</td>\n",
       "      <td>xone</td>\n",
       "      <td>54.07</td>\n",
       "    </tr>\n",
       "    <tr>\n",
       "      <td>8</td>\n",
       "      <td>2014</td>\n",
       "      <td>ps3</td>\n",
       "      <td>47.76</td>\n",
       "    </tr>\n",
       "    <tr>\n",
       "      <td>9</td>\n",
       "      <td>2014</td>\n",
       "      <td>3ds</td>\n",
       "      <td>43.76</td>\n",
       "    </tr>\n",
       "  </tbody>\n",
       "</table>\n",
       "</div>"
      ],
      "text/plain": [
       "   year_of_release platform  total_sales\n",
       "0             2015      ps4       118.90\n",
       "1             2013      ps3       113.25\n",
       "2             2014      ps4       100.00\n",
       "3             2013     x360        88.58\n",
       "4             2016      ps4        69.25\n",
       "5             2015     xone        60.14\n",
       "6             2013      3ds        56.57\n",
       "7             2014     xone        54.07\n",
       "8             2014      ps3        47.76\n",
       "9             2014      3ds        43.76"
      ]
     },
     "execution_count": 25,
     "metadata": {},
     "output_type": "execute_result"
    },
    {
     "data": {
      "image/png": "[encoded data removed]",
      "text/plain": [
       "<Figure size 720x504 with 1 Axes>"
      ]
     },
     "metadata": {},
     "output_type": "display_data"
    }
   ],
   "source": [
    "# График продаж платформ за период 2013-2016 гг.\n",
    "data.pivot_table(index = 'year_of_release', columns = 'platform', values = 'total_sales', aggfunc = 'sum')\\\n",
    "    .plot(grid=True, figsize=(10, 7),linewidth=5, title='Динамика продаж по платформам', fontsize=15)\n",
    "plt.legend(bbox_to_anchor=(1,1),loc=\"upper raight\");\n",
    "\n",
    "# Платформы с наибольшими суммарными продажами за период 2013-2016 гг.\n",
    "data.pivot_table(index=['year_of_release','platform'], values='total_sales', aggfunc='sum')\\\n",
    "  .sort_values(by='total_sales',ascending=False).reset_index().head(10)"
   ]
  },
  {
   "cell_type": "markdown",
   "metadata": {},
   "source": [
    "**Вывод**  \n",
    "Наиболее перспективными на графике выглядят платформы 'ps4' и 'xone'.  \n",
    "При этом их продажи, как и продажи остальных платформ падают. "
   ]
  },
  {
   "cell_type": "markdown",
   "metadata": {},
   "source": [
    "<div class=\"alert alert-block alert-danger\">\n",
    "    \n",
    "\n",
    "### Комментарий от ревьюера v_1\n",
    "Критично\n",
    "\n",
    "Проводить какую-либо аналитику по такому графику крайне затруднительно.\n",
    "    \n",
    "Надо построить линейный график, а на нем отобразить динамику продаж по платформам\n",
    "</div>"
   ]
  },
  {
   "cell_type": "markdown",
   "metadata": {},
   "source": [
    "<div class=\"alert alert-block alert-success\">\n",
    "\n",
    "    \n",
    "### Комментарий от ревьюера v_2\n",
    "\n",
    "👍🏻\n",
    "    \n",
    "</div>"
   ]
  },
  {
   "cell_type": "code",
   "execution_count": 26,
   "metadata": {
    "colab": {
     "base_uri": "https://localhost:8080/",
     "height": 34
    },
    "id": "737jyZdsFpow",
    "outputId": "d47bfdf8-abd6-48f9-801c-9bffa369501a"
   },
   "outputs": [
    {
     "data": {
      "text/plain": [
       "Index(['psp', 'wii', 'psv', 'pc', 'wiiu', 'x360', '3ds', 'xone', 'ps3', 'ps4'], dtype='object', name='platform')"
      ]
     },
     "metadata": {},
     "output_type": "display_data"
    }
   ],
   "source": [
    "#  Выведем список платформ top_10:\n",
    "top_10 = data.groupby('platform').agg({'total_sales': 'sum'}).sort_values(by = 'total_sales').tail(10).index\n",
    "display(top_10)"
   ]
  },
  {
   "cell_type": "markdown",
   "metadata": {},
   "source": [
    "#### Построим график «ящик с усами» по глобальным продажам игр в разбивке по платформам.   "
   ]
  },
  {
   "cell_type": "code",
   "execution_count": 27,
   "metadata": {
    "colab": {
     "base_uri": "https://localhost:8080/",
     "height": 363
    },
    "id": "mfqMod1ExRvh",
    "outputId": "a644d8e2-4348-42c7-abfb-75fd2f5e2318"
   },
   "outputs": [],
   "source": [
    "# В data_top сохраним наш датафрейм с платформами top-10\n",
    "data_top = data.query('platform in @top_10')\n",
    "# data_top.head(10)"
   ]
  },
  {
   "cell_type": "code",
   "execution_count": 28,
   "metadata": {
    "colab": {
     "base_uri": "https://localhost:8080/",
     "height": 873
    },
    "id": "C7A_4s1Q0U0w",
    "outputId": "c198b89c-a8fa-45ec-adeb-b7c025c8891b"
   },
   "outputs": [
    {
     "data": {
      "image/png": "[encoded data removed]",
      "text/plain": [
       "<Figure size 1440x504 with 1 Axes>"
      ]
     },
     "metadata": {},
     "output_type": "display_data"
    }
   ],
   "source": [
    "plt.figure(figsize=(20,7))\n",
    "\n",
    "ax = sns.boxplot(\n",
    "    x=\"platform\", \n",
    "    y=\"total_sales\",\n",
    "    data=data_top).set_title(\"Суммарные продажи топ платформ 2013 - 2016 гг\")\n",
    "plt.ylim(0, 1.3);\n"
   ]
  },
  {
   "cell_type": "code",
   "execution_count": 29,
   "metadata": {},
   "outputs": [
    {
     "data": {
      "text/html": [
       "<div>\n",
       "<style scoped>\n",
       "    .dataframe tbody tr th:only-of-type {\n",
       "        vertical-align: middle;\n",
       "    }\n",
       "\n",
       "    .dataframe tbody tr th {\n",
       "        vertical-align: top;\n",
       "    }\n",
       "\n",
       "    .dataframe thead th {\n",
       "        text-align: right;\n",
       "    }\n",
       "</style>\n",
       "<table border=\"1\" class=\"dataframe\">\n",
       "  <thead>\n",
       "    <tr style=\"text-align: right;\">\n",
       "      <th></th>\n",
       "      <th>platform</th>\n",
       "      <th>total_sales</th>\n",
       "      <th>%</th>\n",
       "    </tr>\n",
       "  </thead>\n",
       "  <tbody>\n",
       "    <tr>\n",
       "      <td>3</td>\n",
       "      <td>ps4</td>\n",
       "      <td>314.14</td>\n",
       "      <td>0.29</td>\n",
       "    </tr>\n",
       "    <tr>\n",
       "      <td>2</td>\n",
       "      <td>ps3</td>\n",
       "      <td>181.43</td>\n",
       "      <td>0.17</td>\n",
       "    </tr>\n",
       "    <tr>\n",
       "      <td>9</td>\n",
       "      <td>xone</td>\n",
       "      <td>159.32</td>\n",
       "      <td>0.15</td>\n",
       "    </tr>\n",
       "    <tr>\n",
       "      <td>0</td>\n",
       "      <td>3ds</td>\n",
       "      <td>143.25</td>\n",
       "      <td>0.13</td>\n",
       "    </tr>\n",
       "    <tr>\n",
       "      <td>8</td>\n",
       "      <td>x360</td>\n",
       "      <td>136.80</td>\n",
       "      <td>0.13</td>\n",
       "    </tr>\n",
       "    <tr>\n",
       "      <td>7</td>\n",
       "      <td>wiiu</td>\n",
       "      <td>64.63</td>\n",
       "      <td>0.06</td>\n",
       "    </tr>\n",
       "    <tr>\n",
       "      <td>1</td>\n",
       "      <td>pc</td>\n",
       "      <td>39.43</td>\n",
       "      <td>0.04</td>\n",
       "    </tr>\n",
       "    <tr>\n",
       "      <td>5</td>\n",
       "      <td>psv</td>\n",
       "      <td>32.99</td>\n",
       "      <td>0.03</td>\n",
       "    </tr>\n",
       "    <tr>\n",
       "      <td>6</td>\n",
       "      <td>wii</td>\n",
       "      <td>13.66</td>\n",
       "      <td>0.01</td>\n",
       "    </tr>\n",
       "    <tr>\n",
       "      <td>4</td>\n",
       "      <td>psp</td>\n",
       "      <td>3.50</td>\n",
       "      <td>0.00</td>\n",
       "    </tr>\n",
       "  </tbody>\n",
       "</table>\n",
       "</div>"
      ],
      "text/plain": [
       "  platform  total_sales    %\n",
       "3      ps4       314.14 0.29\n",
       "2      ps3       181.43 0.17\n",
       "9     xone       159.32 0.15\n",
       "0      3ds       143.25 0.13\n",
       "8     x360       136.80 0.13\n",
       "7     wiiu        64.63 0.06\n",
       "1       pc        39.43 0.04\n",
       "5      psv        32.99 0.03\n",
       "6      wii        13.66 0.01\n",
       "4      psp         3.50 0.00"
      ]
     },
     "execution_count": 29,
     "metadata": {},
     "output_type": "execute_result"
    }
   ],
   "source": [
    "# Посчитаем процентную разбивку глобальных продаж с разбивкой по платформам:\n",
    "rating_top_group = data_top.groupby('platform').agg({'total_sales':['sum']}).reset_index()\n",
    "rating_top_group.columns =  ['platform', 'total_sales']\n",
    "rating_top_group['%'] = (rating_top_group['total_sales']/rating_top_group['total_sales'].sum())\n",
    "rating_top_group.sort_values(by='%',ascending=False)"
   ]
  },
  {
   "cell_type": "markdown",
   "metadata": {},
   "source": [
    "<div class=\"alert alert-block alert-danger\">\n",
    "    \n",
    "\n",
    "### Комментарий от ревьюера v_1\n",
    "Критично\n",
    "\n",
    "Боксплоты строят не по агрегированным данным\n",
    "</div>"
   ]
  },
  {
   "cell_type": "markdown",
   "metadata": {},
   "source": [
    "<div class=\"alert alert-info\">\n",
    "<b>Комментарий студента: </b>\n",
    "<br>-Исправила\n",
    "</div>"
   ]
  },
  {
   "cell_type": "markdown",
   "metadata": {},
   "source": [
    "<div class=\"alert alert-block alert-success\">\n",
    "\n",
    "    \n",
    "### Комментарий от ревьюера v_2\n",
    "\n",
    "👍🏻\n",
    "    \n",
    "</div>"
   ]
  },
  {
   "cell_type": "markdown",
   "metadata": {
    "id": "ZVe16mzH2dxe"
   },
   "source": [
    "**Вывод**  \n",
    "Мы обнаружили, что за последние 3 года самой крупной платформой по количеству проданных копий  стала платформа \"ps4\", ее средние продажи составили\t314\tмлн. проданных копий и 29% общего рынка среди топ-10 платформ. \n",
    "Второе место по продажам занимает платформа \"ps3\"\t181\tмлн. проданных копий и 17 % рынка. \n",
    "Третье место по продажам занимает платформа \"xone\"\t159\tмлн. проданных копий и 15 % рынка.  \n",
    "Самая отстающая платформа в списке топ-10 \"psp\""
   ]
  },
  {
   "cell_type": "markdown",
   "metadata": {},
   "source": [
    "#### Определим влияние на продажи отзывов пользователей и критиков внутри одной популярной платформы. Построим диаграмму рассеяния и найдем корреляцию между отзывами и продажами.    \n"
   ]
  },
  {
   "cell_type": "code",
   "execution_count": 30,
   "metadata": {
    "colab": {
     "base_uri": "https://localhost:8080/",
     "height": 423
    },
    "id": "00wLX60f26WY",
    "outputId": "e9e62ccd-beba-4cd6-bcf6-b71c325263c8"
   },
   "outputs": [
    {
     "data": {
      "text/html": [
       "<div>\n",
       "<style scoped>\n",
       "    .dataframe tbody tr th:only-of-type {\n",
       "        vertical-align: middle;\n",
       "    }\n",
       "\n",
       "    .dataframe tbody tr th {\n",
       "        vertical-align: top;\n",
       "    }\n",
       "\n",
       "    .dataframe thead th {\n",
       "        text-align: right;\n",
       "    }\n",
       "</style>\n",
       "<table border=\"1\" class=\"dataframe\">\n",
       "  <thead>\n",
       "    <tr style=\"text-align: right;\">\n",
       "      <th></th>\n",
       "      <th>critic_score</th>\n",
       "      <th>user_score</th>\n",
       "      <th>total_sales</th>\n",
       "    </tr>\n",
       "  </thead>\n",
       "  <tbody>\n",
       "    <tr>\n",
       "      <td>37</td>\n",
       "      <td>47.00</td>\n",
       "      <td>2.00</td>\n",
       "      <td>0.22</td>\n",
       "    </tr>\n",
       "    <tr>\n",
       "      <td>75</td>\n",
       "      <td>43.00</td>\n",
       "      <td>2.70</td>\n",
       "      <td>0.24</td>\n",
       "    </tr>\n",
       "    <tr>\n",
       "      <td>82</td>\n",
       "      <td>38.00</td>\n",
       "      <td>2.90</td>\n",
       "      <td>0.16</td>\n",
       "    </tr>\n",
       "    <tr>\n",
       "      <td>113</td>\n",
       "      <td>75.00</td>\n",
       "      <td>5.50</td>\n",
       "      <td>0.42</td>\n",
       "    </tr>\n",
       "    <tr>\n",
       "      <td>121</td>\n",
       "      <td>79.00</td>\n",
       "      <td>5.20</td>\n",
       "      <td>0.38</td>\n",
       "    </tr>\n",
       "    <tr>\n",
       "      <td>...</td>\n",
       "      <td>...</td>\n",
       "      <td>...</td>\n",
       "      <td>...</td>\n",
       "    </tr>\n",
       "    <tr>\n",
       "      <td>2220</td>\n",
       "      <td>nan</td>\n",
       "      <td>nan</td>\n",
       "      <td>0.05</td>\n",
       "    </tr>\n",
       "    <tr>\n",
       "      <td>2221</td>\n",
       "      <td>71.00</td>\n",
       "      <td>8.10</td>\n",
       "      <td>0.05</td>\n",
       "    </tr>\n",
       "    <tr>\n",
       "      <td>2224</td>\n",
       "      <td>66.00</td>\n",
       "      <td>7.00</td>\n",
       "      <td>0.05</td>\n",
       "    </tr>\n",
       "    <tr>\n",
       "      <td>2226</td>\n",
       "      <td>81.00</td>\n",
       "      <td>7.90</td>\n",
       "      <td>0.34</td>\n",
       "    </tr>\n",
       "    <tr>\n",
       "      <td>2229</td>\n",
       "      <td>69.00</td>\n",
       "      <td>4.70</td>\n",
       "      <td>0.34</td>\n",
       "    </tr>\n",
       "  </tbody>\n",
       "</table>\n",
       "<p>392 rows × 3 columns</p>\n",
       "</div>"
      ],
      "text/plain": [
       "      critic_score  user_score  total_sales\n",
       "37           47.00        2.00         0.22\n",
       "75           43.00        2.70         0.24\n",
       "82           38.00        2.90         0.16\n",
       "113          75.00        5.50         0.42\n",
       "121          79.00        5.20         0.38\n",
       "...            ...         ...          ...\n",
       "2220           nan         nan         0.05\n",
       "2221         71.00        8.10         0.05\n",
       "2224         66.00        7.00         0.05\n",
       "2226         81.00        7.90         0.34\n",
       "2229         69.00        4.70         0.34\n",
       "\n",
       "[392 rows x 3 columns]"
      ]
     },
     "execution_count": 30,
     "metadata": {},
     "output_type": "execute_result"
    }
   ],
   "source": [
    "# Сохраним данные для самой популярной программы ps4 в датафрейме:\n",
    "ps4 = data.query('platform == \"ps4\"')[['critic_score', 'user_score', 'total_sales']]\n",
    "ps4"
   ]
  },
  {
   "cell_type": "markdown",
   "metadata": {
    "id": "TxPqnJN9NZav"
   },
   "source": [
    "Построим диаграмму рассеяния:"
   ]
  },
  {
   "cell_type": "code",
   "execution_count": 31,
   "metadata": {
    "colab": {
     "base_uri": "https://localhost:8080/",
     "height": 567
    },
    "id": "-Xr5UTtJHGEX",
    "outputId": "76eb7215-d861-4348-fe88-56ccaec17398"
   },
   "outputs": [
    {
     "data": {
      "text/plain": [
       "<seaborn.axisgrid.PairGrid at 0x7f09a247ed90>"
      ]
     },
     "execution_count": 31,
     "metadata": {},
     "output_type": "execute_result"
    },
    {
     "data": {
      "image/png": "[encoded data removed]",
      "text/plain": [
       "<Figure size 540x540 with 12 Axes>"
      ]
     },
     "metadata": {},
     "output_type": "display_data"
    }
   ],
   "source": [
    "# sns.set(style=\"ticks\")\n",
    "sns.pairplot(ps4)"
   ]
  },
  {
   "cell_type": "markdown",
   "metadata": {
    "id": "uMofF7KrNeVk"
   },
   "source": [
    "Найдем корреляцию между отзывами и продажами."
   ]
  },
  {
   "cell_type": "code",
   "execution_count": 32,
   "metadata": {
    "colab": {
     "base_uri": "https://localhost:8080/"
    },
    "id": "NKcJ6hZKHm13",
    "outputId": "606367f3-182e-4085-8003-92f155e16f9d"
   },
   "outputs": [
    {
     "name": "stdout",
     "output_type": "stream",
     "text": [
      "Корреляция между отзывами игроков и продажами:\n"
     ]
    },
    {
     "data": {
      "text/plain": [
       "-0.03195711020455642"
      ]
     },
     "execution_count": 32,
     "metadata": {},
     "output_type": "execute_result"
    }
   ],
   "source": [
    "print('Корреляция между отзывами игроков и продажами:')\n",
    "ps4['total_sales'].corr(ps4['user_score'])"
   ]
  },
  {
   "cell_type": "code",
   "execution_count": 33,
   "metadata": {
    "colab": {
     "base_uri": "https://localhost:8080/"
    },
    "id": "3PEw9JYSLAmN",
    "outputId": "4f8fe5e0-e003-41b4-e823-b84ccc9056ef"
   },
   "outputs": [
    {
     "name": "stdout",
     "output_type": "stream",
     "text": [
      "Корреляция между отзывами критиков и продажами:\n"
     ]
    },
    {
     "data": {
      "text/plain": [
       "0.406567902061781"
      ]
     },
     "execution_count": 33,
     "metadata": {},
     "output_type": "execute_result"
    }
   ],
   "source": [
    "print('Корреляция между отзывами критиков и продажами:')\n",
    "ps4['total_sales'].corr(ps4['critic_score'])"
   ]
  },
  {
   "cell_type": "markdown",
   "metadata": {
    "id": "uDiV6VcYL3Qo"
   },
   "source": [
    "**Вывод** \n",
    "На графике зависимости продаж от отзывов игроков у нас отрицательная  корреляция между продажами платформы и отзывами критиков. Коэффициент Пирсона = -0, 031. Это свидетельствует о том, что оценки пользователей корреляции не имеют.\n",
    "\n",
    "На графике зависимости отзывов критиков от продаж видим слабо-умеренную положительную корреляцию Пирсона: 0,4. Это говорит о том, что при увеличении количества отзывов критиков, продажи не сильно возрастают."
   ]
  },
  {
   "cell_type": "markdown",
   "metadata": {
    "id": "GoaFqFTmNFnO"
   },
   "source": [
    "#### Сравним выводы с продажами игр на других платформах.    "
   ]
  },
  {
   "cell_type": "code",
   "execution_count": 34,
   "metadata": {
    "colab": {
     "base_uri": "https://localhost:8080/"
    },
    "id": "S_lyezgJHhiE",
    "outputId": "c249c908-f6cc-4409-8a3a-913ab56b66ef"
   },
   "outputs": [
    {
     "name": "stdout",
     "output_type": "stream",
     "text": [
      "Зависимость продаж платформы x360  от отзывов  critic_score 0.3503\n",
      "Зависимость продаж платформы 3ds  от отзывов  critic_score 0.3571\n",
      "Зависимость продаж платформы xone  от отзывов  critic_score 0.417\n",
      "Зависимость продаж платформы ps3  от отзывов  critic_score 0.3343\n",
      "  \n",
      "Зависимость продаж платформы x360  от отзывов  user_score -0.0117\n",
      "Зависимость продаж платформы 3ds  от отзывов  user_score 0.2415\n",
      "Зависимость продаж платформы xone  от отзывов  user_score -0.0689\n",
      "Зависимость продаж платформы ps3  от отзывов  user_score 0.0024\n",
      "  \n"
     ]
    }
   ],
   "source": [
    "platform_list = ['x360','3ds','xone','ps3']\n",
    "def corr (column): \n",
    "    for value in platform_list:\n",
    "      df = data.loc[data['platform']== value]\n",
    "      print('Зависимость продаж платформы', value,' от отзывов ', column , df['total_sales'].corr(df[column]).round(4))\n",
    "    else:\n",
    "      print('  ')\n",
    "corr('critic_score')\n",
    "corr('user_score')"
   ]
  },
  {
   "cell_type": "markdown",
   "metadata": {
    "id": "3kgYSbMvHjMm"
   },
   "source": [
    "**Вывод**  \n",
    "\n",
    "Рассчет показал слабую корреляцию между отзывами пользователей и продажами платформ top-5 (значения корреляции Пирсона расположились между -0.0689 и 0.2415) и умеренно слабую корреляцию между отзывами критиков и продажами платформ (значения корреляции Пирсона между 0.3343 и 0.417)."
   ]
  },
  {
   "cell_type": "markdown",
   "metadata": {},
   "source": [
    "<div class=\"alert alert-block alert-success\">\n",
    "\n",
    "    \n",
    "### Комментарий от ревьюера v_1\n",
    "\n",
    "Шаг выполнен отлично!\n",
    "    \n",
    "Расчеты, выводы и графики верны 👍🏻\n",
    "    \n",
    "\n",
    "    \n",
    "</div>"
   ]
  },
  {
   "cell_type": "markdown",
   "metadata": {},
   "source": [
    "#### Проанализируем распределение игр по жанрам. Найдем прибыльные жанры. "
   ]
  },
  {
   "cell_type": "code",
   "execution_count": 35,
   "metadata": {
    "colab": {
     "base_uri": "https://localhost:8080/",
     "height": 206
    },
    "id": "loBQDteeQu6l",
    "outputId": "b7343979-70f4-4293-d1fc-7576f2c5ce13"
   },
   "outputs": [
    {
     "data": {
      "text/html": [
       "<div>\n",
       "<style scoped>\n",
       "    .dataframe tbody tr th:only-of-type {\n",
       "        vertical-align: middle;\n",
       "    }\n",
       "\n",
       "    .dataframe tbody tr th {\n",
       "        vertical-align: top;\n",
       "    }\n",
       "\n",
       "    .dataframe thead th {\n",
       "        text-align: right;\n",
       "    }\n",
       "</style>\n",
       "<table border=\"1\" class=\"dataframe\">\n",
       "  <thead>\n",
       "    <tr style=\"text-align: right;\">\n",
       "      <th></th>\n",
       "      <th>genre</th>\n",
       "      <th>name</th>\n",
       "    </tr>\n",
       "  </thead>\n",
       "  <tbody>\n",
       "    <tr>\n",
       "      <td>0</td>\n",
       "      <td>action</td>\n",
       "      <td>766</td>\n",
       "    </tr>\n",
       "    <tr>\n",
       "      <td>7</td>\n",
       "      <td>role-playing</td>\n",
       "      <td>292</td>\n",
       "    </tr>\n",
       "    <tr>\n",
       "      <td>1</td>\n",
       "      <td>adventure</td>\n",
       "      <td>245</td>\n",
       "    </tr>\n",
       "    <tr>\n",
       "      <td>10</td>\n",
       "      <td>sports</td>\n",
       "      <td>214</td>\n",
       "    </tr>\n",
       "    <tr>\n",
       "      <td>8</td>\n",
       "      <td>shooter</td>\n",
       "      <td>187</td>\n",
       "    </tr>\n",
       "  </tbody>\n",
       "</table>\n",
       "</div>"
      ],
      "text/plain": [
       "           genre  name\n",
       "0         action   766\n",
       "7   role-playing   292\n",
       "1      adventure   245\n",
       "10        sports   214\n",
       "8        shooter   187"
      ]
     },
     "execution_count": 35,
     "metadata": {},
     "output_type": "execute_result"
    }
   ],
   "source": [
    "#  Количество игр выпущенных в популярных жанрах в период 2013-2016 годы:\n",
    "popular_genre = data.groupby('genre').agg({'name':'count'}).reset_index()\n",
    "popular_genre.sort_values(by='name', ascending=False).head()"
   ]
  },
  {
   "cell_type": "code",
   "execution_count": 36,
   "metadata": {
    "colab": {
     "base_uri": "https://localhost:8080/",
     "height": 411
    },
    "id": "Aho9Or_5O9xE",
    "outputId": "ebc7fc12-d657-4e9a-a637-481b00ea6767"
   },
   "outputs": [
    {
     "data": {
      "image/png": "[encoded data removed]",
      "text/plain": [
       "<Figure size 1080x360 with 1 Axes>"
      ]
     },
     "metadata": {},
     "output_type": "display_data"
    }
   ],
   "source": [
    "#  Наиболее прибыльные жанры в период за 2013-2016 годы:\n",
    "\n",
    "popular_genre=data.pivot_table(index=['genre'], values='total_sales', aggfunc='median').sort_values(by='total_sales', ascending=False)\n",
    "popular_genre.plot(kind='bar',figsize=(15,5),grid=True,linewidth=3, title='Прибыльность жанров')\n",
    "plt.ylabel('Общее количество продаж, млн.шт')\n",
    "plt.xlabel('Жанр')\n",
    "plt.show()"
   ]
  },
  {
   "cell_type": "markdown",
   "metadata": {
    "id": "OrzPxNDKPQ9I"
   },
   "source": [
    "**Вывод**\n",
    "Из проведённого анализа можно сделать вывод, что самые популярные платформы на которые охотнее всего расходятся игры - это ps4, x360, 3ds, xone, ps3. \n",
    "По прибыльности самые актуальные жанры - \"shooter\", \"sports\" и платформер. \n",
    "А так же мы увидели, что количество проданных копий слабо зависит от мнения критиков и еще слабее от мнения юзеров."
   ]
  },
  {
   "cell_type": "markdown",
   "metadata": {},
   "source": [
    "<div class=\"alert alert-block alert-danger\">\n",
    "    \n",
    "\n",
    "### Комментарий от ревьюера v_1\n",
    "Критично\n",
    "\n",
    "Общие продажи - плохая метрика для поиска наиболее прибыльного жанра. За высокими показателями общих продаж может скрываться множество мелких игр с низкими продажами. Или 2-3 звезды и куча провалов. Лучше найти жанр, где игры стабильно приносят высокий доход - для этого стоит рассмотреть средние или медианные продажи\n",
    "    \n",
    "</div>"
   ]
  },
  {
   "cell_type": "markdown",
   "metadata": {},
   "source": [
    "<div class=\"alert alert-info\">\n",
    "<b>Комментарий студента: </b>\n",
    "<br>-Изменила на медианные продажи\n",
    "</div>"
   ]
  },
  {
   "cell_type": "markdown",
   "metadata": {},
   "source": [
    "<div class=\"alert alert-block alert-danger\">\n",
    "    \n",
    "\n",
    "### Комментарий от ревьюера v_1\n",
    "Критично\n",
    "\n",
    "Не хватает вывода по шагу исследовательского анализа\n",
    "    \n",
    "</div>"
   ]
  },
  {
   "cell_type": "markdown",
   "metadata": {},
   "source": [
    "**Шаг 3. Вывод**  \n",
    "В исследовательском анализе данных мы обнаружили, что платформа живет в среднем 7.7 лет. Мы нашли топ 10 самых популярных платформ на которые охотнее всего расходятся игры - это ps4, ps3, xone, x360, 3ds, ps3. По прибыльности самые актуальные жанры - \"shooter\", \"sports\" и платформер. А так же мы увидели, что количество проданных копий слабо зависит от мнения критиков и еще слабее от мнения юзеров."
   ]
  },
  {
   "cell_type": "markdown",
   "metadata": {},
   "source": [
    "<div class=\"alert alert-block alert-success\">\n",
    "\n",
    "    \n",
    "### Комментарий от ревьюера v_2\n",
    "\n",
    "👍🏻\n",
    "    \n",
    "</div>"
   ]
  },
  {
   "cell_type": "markdown",
   "metadata": {
    "id": "VnHrFkRxTSlp"
   },
   "source": [
    "## Шаг 4. Составьте портрет пользователя каждого региона"
   ]
  },
  {
   "cell_type": "markdown",
   "metadata": {},
   "source": [
    "#### Определим для пользователя каждого региона самые популярные платформы (топ-5).  Опишем различия в долях продаж    "
   ]
  },
  {
   "cell_type": "code",
   "execution_count": 37,
   "metadata": {
    "colab": {
     "base_uri": "https://localhost:8080/",
     "height": 647
    },
    "id": "rz9bqv-YPa0a",
    "outputId": "75a7d6dd-378b-4631-8639-355eefc93540"
   },
   "outputs": [
    {
     "data": {
      "text/html": [
       "<div>\n",
       "<style scoped>\n",
       "    .dataframe tbody tr th:only-of-type {\n",
       "        vertical-align: middle;\n",
       "    }\n",
       "\n",
       "    .dataframe tbody tr th {\n",
       "        vertical-align: top;\n",
       "    }\n",
       "\n",
       "    .dataframe thead th {\n",
       "        text-align: right;\n",
       "    }\n",
       "</style>\n",
       "<table border=\"1\" class=\"dataframe\">\n",
       "  <thead>\n",
       "    <tr style=\"text-align: right;\">\n",
       "      <th></th>\n",
       "      <th>na_sales</th>\n",
       "      <th>total_sales</th>\n",
       "      <th>%</th>\n",
       "    </tr>\n",
       "    <tr>\n",
       "      <th>platform</th>\n",
       "      <th></th>\n",
       "      <th></th>\n",
       "      <th></th>\n",
       "    </tr>\n",
       "  </thead>\n",
       "  <tbody>\n",
       "    <tr>\n",
       "      <td>ps4</td>\n",
       "      <td>108.74</td>\n",
       "      <td>314.14</td>\n",
       "      <td>0.35</td>\n",
       "    </tr>\n",
       "    <tr>\n",
       "      <td>xone</td>\n",
       "      <td>93.12</td>\n",
       "      <td>159.32</td>\n",
       "      <td>0.58</td>\n",
       "    </tr>\n",
       "    <tr>\n",
       "      <td>x360</td>\n",
       "      <td>81.66</td>\n",
       "      <td>136.80</td>\n",
       "      <td>0.60</td>\n",
       "    </tr>\n",
       "    <tr>\n",
       "      <td>ps3</td>\n",
       "      <td>63.50</td>\n",
       "      <td>181.43</td>\n",
       "      <td>0.35</td>\n",
       "    </tr>\n",
       "    <tr>\n",
       "      <td>3ds</td>\n",
       "      <td>38.20</td>\n",
       "      <td>143.25</td>\n",
       "      <td>0.27</td>\n",
       "    </tr>\n",
       "  </tbody>\n",
       "</table>\n",
       "</div>"
      ],
      "text/plain": [
       "          na_sales  total_sales    %\n",
       "platform                            \n",
       "ps4         108.74       314.14 0.35\n",
       "xone         93.12       159.32 0.58\n",
       "x360         81.66       136.80 0.60\n",
       "ps3          63.50       181.43 0.35\n",
       "3ds          38.20       143.25 0.27"
      ]
     },
     "execution_count": 37,
     "metadata": {},
     "output_type": "execute_result"
    },
    {
     "data": {
      "image/png": "[encoded data removed]",
      "text/plain": [
       "<Figure size 504x504 with 1 Axes>"
      ]
     },
     "metadata": {},
     "output_type": "display_data"
    }
   ],
   "source": [
    "# Определим для пользователей Американского региона самые популярные платформы (топ -5). Опишем различия в долях продаж\n",
    "na_rating = data.pivot_table(index = 'platform', values = ['na_sales','total_sales'], aggfunc='sum').sort_values(by='na_sales', ascending=False)\n",
    "na_rating['%'] = (na_rating['na_sales']/na_rating['total_sales'])\n",
    "na_rating.head().plot(kind='pie',y='na_sales', figsize=(7,7), title='График распределения топ-5 платформ на Американском рынке',autopct='%1.2f%%');\n",
    "na_rating.head()"
   ]
  },
  {
   "cell_type": "code",
   "execution_count": 38,
   "metadata": {
    "colab": {
     "base_uri": "https://localhost:8080/",
     "height": 647
    },
    "id": "jPMb65R0bPpj",
    "outputId": "431d2580-799d-4b24-f53a-edd768e3d7c8"
   },
   "outputs": [
    {
     "data": {
      "text/html": [
       "<div>\n",
       "<style scoped>\n",
       "    .dataframe tbody tr th:only-of-type {\n",
       "        vertical-align: middle;\n",
       "    }\n",
       "\n",
       "    .dataframe tbody tr th {\n",
       "        vertical-align: top;\n",
       "    }\n",
       "\n",
       "    .dataframe thead th {\n",
       "        text-align: right;\n",
       "    }\n",
       "</style>\n",
       "<table border=\"1\" class=\"dataframe\">\n",
       "  <thead>\n",
       "    <tr style=\"text-align: right;\">\n",
       "      <th></th>\n",
       "      <th>eu_sales</th>\n",
       "      <th>total_sales</th>\n",
       "      <th>%</th>\n",
       "    </tr>\n",
       "    <tr>\n",
       "      <th>platform</th>\n",
       "      <th></th>\n",
       "      <th></th>\n",
       "      <th></th>\n",
       "    </tr>\n",
       "  </thead>\n",
       "  <tbody>\n",
       "    <tr>\n",
       "      <td>ps4</td>\n",
       "      <td>141.09</td>\n",
       "      <td>314.14</td>\n",
       "      <td>0.45</td>\n",
       "    </tr>\n",
       "    <tr>\n",
       "      <td>ps3</td>\n",
       "      <td>67.81</td>\n",
       "      <td>181.43</td>\n",
       "      <td>0.37</td>\n",
       "    </tr>\n",
       "    <tr>\n",
       "      <td>xone</td>\n",
       "      <td>51.59</td>\n",
       "      <td>159.32</td>\n",
       "      <td>0.32</td>\n",
       "    </tr>\n",
       "    <tr>\n",
       "      <td>x360</td>\n",
       "      <td>42.52</td>\n",
       "      <td>136.80</td>\n",
       "      <td>0.31</td>\n",
       "    </tr>\n",
       "    <tr>\n",
       "      <td>3ds</td>\n",
       "      <td>30.96</td>\n",
       "      <td>143.25</td>\n",
       "      <td>0.22</td>\n",
       "    </tr>\n",
       "  </tbody>\n",
       "</table>\n",
       "</div>"
      ],
      "text/plain": [
       "          eu_sales  total_sales    %\n",
       "platform                            \n",
       "ps4         141.09       314.14 0.45\n",
       "ps3          67.81       181.43 0.37\n",
       "xone         51.59       159.32 0.32\n",
       "x360         42.52       136.80 0.31\n",
       "3ds          30.96       143.25 0.22"
      ]
     },
     "execution_count": 38,
     "metadata": {},
     "output_type": "execute_result"
    },
    {
     "data": {
      "image/png": "[encoded data removed]",
      "text/plain": [
       "<Figure size 504x504 with 1 Axes>"
      ]
     },
     "metadata": {},
     "output_type": "display_data"
    }
   ],
   "source": [
    "# Определим для пользователей европейского региона самые популярные платформы (топ -5). \n",
    "eu_rating = data.pivot_table(index = 'platform', values = ['eu_sales','total_sales'], aggfunc='sum').sort_values(by='eu_sales', ascending=False)\n",
    "eu_rating['%'] = (eu_rating['eu_sales']/eu_rating['total_sales'])\n",
    "eu_rating.head().plot(kind='pie',y='eu_sales', figsize=(7,7), title='График распределения топ-5 платформ на европейском рынке',autopct='%1.2f%%');\n",
    "eu_rating.head()"
   ]
  },
  {
   "cell_type": "code",
   "execution_count": 39,
   "metadata": {
    "colab": {
     "base_uri": "https://localhost:8080/",
     "height": 647
    },
    "id": "fyAaygRUb807",
    "outputId": "e5597515-606c-48b6-929b-050b27c0c240"
   },
   "outputs": [
    {
     "data": {
      "text/html": [
       "<div>\n",
       "<style scoped>\n",
       "    .dataframe tbody tr th:only-of-type {\n",
       "        vertical-align: middle;\n",
       "    }\n",
       "\n",
       "    .dataframe tbody tr th {\n",
       "        vertical-align: top;\n",
       "    }\n",
       "\n",
       "    .dataframe thead th {\n",
       "        text-align: right;\n",
       "    }\n",
       "</style>\n",
       "<table border=\"1\" class=\"dataframe\">\n",
       "  <thead>\n",
       "    <tr style=\"text-align: right;\">\n",
       "      <th></th>\n",
       "      <th>jp_sales</th>\n",
       "      <th>total_sales</th>\n",
       "      <th>%</th>\n",
       "    </tr>\n",
       "    <tr>\n",
       "      <th>platform</th>\n",
       "      <th></th>\n",
       "      <th></th>\n",
       "      <th></th>\n",
       "    </tr>\n",
       "  </thead>\n",
       "  <tbody>\n",
       "    <tr>\n",
       "      <td>3ds</td>\n",
       "      <td>67.81</td>\n",
       "      <td>143.25</td>\n",
       "      <td>0.47</td>\n",
       "    </tr>\n",
       "    <tr>\n",
       "      <td>ps3</td>\n",
       "      <td>23.35</td>\n",
       "      <td>181.43</td>\n",
       "      <td>0.13</td>\n",
       "    </tr>\n",
       "    <tr>\n",
       "      <td>psv</td>\n",
       "      <td>18.59</td>\n",
       "      <td>32.99</td>\n",
       "      <td>0.56</td>\n",
       "    </tr>\n",
       "    <tr>\n",
       "      <td>ps4</td>\n",
       "      <td>15.96</td>\n",
       "      <td>314.14</td>\n",
       "      <td>0.05</td>\n",
       "    </tr>\n",
       "    <tr>\n",
       "      <td>wiiu</td>\n",
       "      <td>10.88</td>\n",
       "      <td>64.63</td>\n",
       "      <td>0.17</td>\n",
       "    </tr>\n",
       "  </tbody>\n",
       "</table>\n",
       "</div>"
      ],
      "text/plain": [
       "          jp_sales  total_sales    %\n",
       "platform                            \n",
       "3ds          67.81       143.25 0.47\n",
       "ps3          23.35       181.43 0.13\n",
       "psv          18.59        32.99 0.56\n",
       "ps4          15.96       314.14 0.05\n",
       "wiiu         10.88        64.63 0.17"
      ]
     },
     "execution_count": 39,
     "metadata": {},
     "output_type": "execute_result"
    },
    {
     "data": {
      "image/png": "[encoded data removed]",
      "text/plain": [
       "<Figure size 504x504 with 1 Axes>"
      ]
     },
     "metadata": {},
     "output_type": "display_data"
    }
   ],
   "source": [
    "# Определим для пользователей японского региона самые популярные платформы (топ -5). \n",
    "jp_rating = data.pivot_table(index = 'platform', values = ['jp_sales','total_sales'], aggfunc='sum').sort_values(by='jp_sales', ascending=False)\n",
    "jp_rating['%'] = (jp_rating['jp_sales']/jp_rating['total_sales'])\n",
    "jp_rating.head().plot(kind='pie',y='jp_sales', figsize=(7,7), title='График распределения топ-5 платформ на японском рынке',autopct='%1.2f%%');\n",
    "jp_rating.head()"
   ]
  },
  {
   "cell_type": "markdown",
   "metadata": {
    "id": "4P-QsusNTtPC"
   },
   "source": [
    "**Вывод**  \n",
    "Графики показывают, что в американском и европейском регионе топ-5 платформ  одинаковые. Это платформы: 'x360',\t'xone',\t'ps3',\t'ps4'\t,'3ds'.  \n",
    "У них несколько отличается доля рынка. \n",
    "В американском регионе лидирует платформа \"\"ps4\" - ей принадлежит 28% от всех продаж этой платформы. В европейском регионе тоже лидирует платформа \"ps4\" - в анализируемом периоде ее продажи составили 42% от общего количества проданных копий платформы.  \n",
    "Нижнюю позицию в рейтинге продаж европейского и американского региона занимает платформа \"3 ds\" - на ее долю пришлось всего по 9 % от общей доли проданных копий. \n",
    "Японский рынок ТОП-5 платформ несколько отличается составом. В него вошли платформы: \n",
    "'3ds', 'ps3', 'psv', 'ps4', 'wiiu'\t\t\n",
    "Лидером продаж в японском регионе стала платформа \"psv\" - на ее долю пришлось 50% рынка для этой платформы. \n",
    "Минимальные продажи в восточном регионе занимает платформа 'wiiu'- всего 8% всех продаж."
   ]
  },
  {
   "cell_type": "markdown",
   "metadata": {},
   "source": [
    "#### Определим для пользователя каждого самые популярные жанры (топ-5).    "
   ]
  },
  {
   "cell_type": "code",
   "execution_count": 40,
   "metadata": {
    "colab": {
     "base_uri": "https://localhost:8080/",
     "height": 647
    },
    "id": "LbE7zZ79hOeN",
    "outputId": "754f5aaf-1650-4f7e-8518-a500037c35f7"
   },
   "outputs": [
    {
     "data": {
      "text/html": [
       "<div>\n",
       "<style scoped>\n",
       "    .dataframe tbody tr th:only-of-type {\n",
       "        vertical-align: middle;\n",
       "    }\n",
       "\n",
       "    .dataframe tbody tr th {\n",
       "        vertical-align: top;\n",
       "    }\n",
       "\n",
       "    .dataframe thead th {\n",
       "        text-align: right;\n",
       "    }\n",
       "</style>\n",
       "<table border=\"1\" class=\"dataframe\">\n",
       "  <thead>\n",
       "    <tr style=\"text-align: right;\">\n",
       "      <th></th>\n",
       "      <th>na_sales</th>\n",
       "      <th>total_sales</th>\n",
       "      <th>%</th>\n",
       "    </tr>\n",
       "    <tr>\n",
       "      <th>genre</th>\n",
       "      <th></th>\n",
       "      <th></th>\n",
       "      <th></th>\n",
       "    </tr>\n",
       "  </thead>\n",
       "  <tbody>\n",
       "    <tr>\n",
       "      <td>action</td>\n",
       "      <td>126.05</td>\n",
       "      <td>321.87</td>\n",
       "      <td>0.39</td>\n",
       "    </tr>\n",
       "    <tr>\n",
       "      <td>shooter</td>\n",
       "      <td>109.74</td>\n",
       "      <td>232.98</td>\n",
       "      <td>0.47</td>\n",
       "    </tr>\n",
       "    <tr>\n",
       "      <td>sports</td>\n",
       "      <td>65.27</td>\n",
       "      <td>150.65</td>\n",
       "      <td>0.43</td>\n",
       "    </tr>\n",
       "    <tr>\n",
       "      <td>role-playing</td>\n",
       "      <td>46.40</td>\n",
       "      <td>145.89</td>\n",
       "      <td>0.32</td>\n",
       "    </tr>\n",
       "    <tr>\n",
       "      <td>misc</td>\n",
       "      <td>27.49</td>\n",
       "      <td>62.82</td>\n",
       "      <td>0.44</td>\n",
       "    </tr>\n",
       "  </tbody>\n",
       "</table>\n",
       "</div>"
      ],
      "text/plain": [
       "              na_sales  total_sales    %\n",
       "genre                                   \n",
       "action          126.05       321.87 0.39\n",
       "shooter         109.74       232.98 0.47\n",
       "sports           65.27       150.65 0.43\n",
       "role-playing     46.40       145.89 0.32\n",
       "misc             27.49        62.82 0.44"
      ]
     },
     "execution_count": 40,
     "metadata": {},
     "output_type": "execute_result"
    },
    {
     "data": {
      "image/png": "[encoded data removed]",
      "text/plain": [
       "<Figure size 504x504 with 1 Axes>"
      ]
     },
     "metadata": {},
     "output_type": "display_data"
    }
   ],
   "source": [
    "# Определим для пользователей Американского региона самые популярные жанры (топ -5). Опишем различия в долях продаж\n",
    "na_genre = data.pivot_table(index = 'genre', values = ['na_sales','total_sales'], aggfunc='sum').sort_values(by='na_sales', ascending=False)\n",
    "na_genre['%'] = (na_genre['na_sales']/na_genre['total_sales'])\n",
    "na_genre.head().plot(kind='pie',y='na_sales', figsize=(7,7), title='График распределения топ-5 жанров на Американском рынке',autopct='%1.2f%%');\n",
    "na_genre.head()"
   ]
  },
  {
   "cell_type": "code",
   "execution_count": 41,
   "metadata": {
    "colab": {
     "base_uri": "https://localhost:8080/",
     "height": 647
    },
    "id": "et3zdnsDh8IA",
    "outputId": "79602fe7-3a3e-4539-9aa8-9630933cd530"
   },
   "outputs": [
    {
     "data": {
      "text/html": [
       "<div>\n",
       "<style scoped>\n",
       "    .dataframe tbody tr th:only-of-type {\n",
       "        vertical-align: middle;\n",
       "    }\n",
       "\n",
       "    .dataframe tbody tr th {\n",
       "        vertical-align: top;\n",
       "    }\n",
       "\n",
       "    .dataframe thead th {\n",
       "        text-align: right;\n",
       "    }\n",
       "</style>\n",
       "<table border=\"1\" class=\"dataframe\">\n",
       "  <thead>\n",
       "    <tr style=\"text-align: right;\">\n",
       "      <th></th>\n",
       "      <th>eu_sales</th>\n",
       "      <th>total_sales</th>\n",
       "      <th>%</th>\n",
       "    </tr>\n",
       "    <tr>\n",
       "      <th>genre</th>\n",
       "      <th></th>\n",
       "      <th></th>\n",
       "      <th></th>\n",
       "    </tr>\n",
       "  </thead>\n",
       "  <tbody>\n",
       "    <tr>\n",
       "      <td>action</td>\n",
       "      <td>118.13</td>\n",
       "      <td>321.87</td>\n",
       "      <td>0.37</td>\n",
       "    </tr>\n",
       "    <tr>\n",
       "      <td>shooter</td>\n",
       "      <td>87.86</td>\n",
       "      <td>232.98</td>\n",
       "      <td>0.38</td>\n",
       "    </tr>\n",
       "    <tr>\n",
       "      <td>sports</td>\n",
       "      <td>60.52</td>\n",
       "      <td>150.65</td>\n",
       "      <td>0.40</td>\n",
       "    </tr>\n",
       "    <tr>\n",
       "      <td>role-playing</td>\n",
       "      <td>36.97</td>\n",
       "      <td>145.89</td>\n",
       "      <td>0.25</td>\n",
       "    </tr>\n",
       "    <tr>\n",
       "      <td>racing</td>\n",
       "      <td>20.19</td>\n",
       "      <td>39.89</td>\n",
       "      <td>0.51</td>\n",
       "    </tr>\n",
       "  </tbody>\n",
       "</table>\n",
       "</div>"
      ],
      "text/plain": [
       "              eu_sales  total_sales    %\n",
       "genre                                   \n",
       "action          118.13       321.87 0.37\n",
       "shooter          87.86       232.98 0.38\n",
       "sports           60.52       150.65 0.40\n",
       "role-playing     36.97       145.89 0.25\n",
       "racing           20.19        39.89 0.51"
      ]
     },
     "execution_count": 41,
     "metadata": {},
     "output_type": "execute_result"
    },
    {
     "data": {
      "image/png": "[encoded data removed]",
      "text/plain": [
       "<Figure size 504x504 with 1 Axes>"
      ]
     },
     "metadata": {},
     "output_type": "display_data"
    }
   ],
   "source": [
    "# Определим для пользователей европейского региона самые популярные жанры (топ -5)\n",
    "eu_genre = data.pivot_table(index = 'genre', values = ['eu_sales','total_sales'], aggfunc='sum').sort_values(by='eu_sales', ascending=False)\n",
    "eu_genre['%'] = (eu_genre['eu_sales']/eu_genre['total_sales'])\n",
    "eu_genre.head().plot(kind='pie',y='eu_sales', figsize=(7,7), title='График распределения топ-5 жанров на европейском рынке',autopct='%1.2f%%');\n",
    "eu_genre.head()\n"
   ]
  },
  {
   "cell_type": "code",
   "execution_count": 42,
   "metadata": {
    "colab": {
     "base_uri": "https://localhost:8080/",
     "height": 647
    },
    "id": "t99Coo8Xieuj",
    "outputId": "c411d776-a8cc-43c2-ed9c-d152792e1926"
   },
   "outputs": [
    {
     "data": {
      "text/html": [
       "<div>\n",
       "<style scoped>\n",
       "    .dataframe tbody tr th:only-of-type {\n",
       "        vertical-align: middle;\n",
       "    }\n",
       "\n",
       "    .dataframe tbody tr th {\n",
       "        vertical-align: top;\n",
       "    }\n",
       "\n",
       "    .dataframe thead th {\n",
       "        text-align: right;\n",
       "    }\n",
       "</style>\n",
       "<table border=\"1\" class=\"dataframe\">\n",
       "  <thead>\n",
       "    <tr style=\"text-align: right;\">\n",
       "      <th></th>\n",
       "      <th>jp_sales</th>\n",
       "      <th>total_sales</th>\n",
       "      <th>%</th>\n",
       "    </tr>\n",
       "    <tr>\n",
       "      <th>genre</th>\n",
       "      <th></th>\n",
       "      <th></th>\n",
       "      <th></th>\n",
       "    </tr>\n",
       "  </thead>\n",
       "  <tbody>\n",
       "    <tr>\n",
       "      <td>role-playing</td>\n",
       "      <td>51.04</td>\n",
       "      <td>145.89</td>\n",
       "      <td>0.35</td>\n",
       "    </tr>\n",
       "    <tr>\n",
       "      <td>action</td>\n",
       "      <td>40.49</td>\n",
       "      <td>321.87</td>\n",
       "      <td>0.13</td>\n",
       "    </tr>\n",
       "    <tr>\n",
       "      <td>misc</td>\n",
       "      <td>9.20</td>\n",
       "      <td>62.82</td>\n",
       "      <td>0.15</td>\n",
       "    </tr>\n",
       "    <tr>\n",
       "      <td>fighting</td>\n",
       "      <td>7.65</td>\n",
       "      <td>35.31</td>\n",
       "      <td>0.22</td>\n",
       "    </tr>\n",
       "    <tr>\n",
       "      <td>shooter</td>\n",
       "      <td>6.61</td>\n",
       "      <td>232.98</td>\n",
       "      <td>0.03</td>\n",
       "    </tr>\n",
       "  </tbody>\n",
       "</table>\n",
       "</div>"
      ],
      "text/plain": [
       "              jp_sales  total_sales    %\n",
       "genre                                   \n",
       "role-playing     51.04       145.89 0.35\n",
       "action           40.49       321.87 0.13\n",
       "misc              9.20        62.82 0.15\n",
       "fighting          7.65        35.31 0.22\n",
       "shooter           6.61       232.98 0.03"
      ]
     },
     "execution_count": 42,
     "metadata": {},
     "output_type": "execute_result"
    },
    {
     "data": {
      "image/png": "[encoded data removed]",
      "text/plain": [
       "<Figure size 504x504 with 1 Axes>"
      ]
     },
     "metadata": {},
     "output_type": "display_data"
    }
   ],
   "source": [
    "# Определим для пользователей японского региона самые популярные жанры (топ -5)\n",
    "jp_genre = data.pivot_table(index = 'genre', values = ['jp_sales','total_sales'], aggfunc='sum').sort_values(by='jp_sales', ascending=False)\n",
    "jp_genre['%'] = (jp_genre['jp_sales']/jp_genre['total_sales'])\n",
    "jp_genre.head().plot(kind='pie',y='jp_sales', figsize=(7,7), title='График распределения топ-5 жанров на японском рынке',autopct='%1.2f%%');\n",
    "jp_genre.head()"
   ]
  },
  {
   "cell_type": "markdown",
   "metadata": {
    "id": "AhccHR9yaR-F"
   },
   "source": [
    "**Вывод**  \n",
    "Что касается жанров, то самыми популярными в анализируемом периоде на американском и японском рынке стали\n",
    "экшены и шутеры - суммарно они заняли более 50% рынка. А  в японском регионе лидируют ролевые игры на долю кототрых приходится 44% рынка.\n",
    "Американские, европейские и японские пользователи в жанровых предпочтениях не сильно отличаются.\n",
    "Топ - популярных жанров: action, shooter,\tsports,\trole-playing,\tracing,\tmisc."
   ]
  },
  {
   "cell_type": "markdown",
   "metadata": {},
   "source": [
    "<div class=\"alert alert-block alert-danger\">\n",
    "    \n",
    "\n",
    "### Комментарий от ревьюера v_1\n",
    "Критично\n",
    "\n",
    "Расчеты верны, но пироги ты не так строишь. На них должны быть отражены доли не от общих продаж, а внутри региона. Ниже код от меня, как надо, посмотри какое различие большое получилось\n",
    "    \n",
    "</div>"
   ]
  },
  {
   "cell_type": "markdown",
   "metadata": {},
   "source": [
    "<div class=\"alert alert-info\">\n",
    "<b>Комментарий студента: </b>\n",
    "<br>-Напекала новых пирогов. С масленницей :)\n",
    "</div>"
   ]
  },
  {
   "cell_type": "markdown",
   "metadata": {},
   "source": [
    "<div class=\"alert alert-block alert-success\">\n",
    "\n",
    "    \n",
    "### Комментарий от ревьюера v_2\n",
    "\n",
    "👍🏻\n",
    "    \n",
    "</div>"
   ]
  },
  {
   "cell_type": "code",
   "execution_count": 43,
   "metadata": {},
   "outputs": [
    {
     "data": {
      "text/html": [
       "<div>\n",
       "<style scoped>\n",
       "    .dataframe tbody tr th:only-of-type {\n",
       "        vertical-align: middle;\n",
       "    }\n",
       "\n",
       "    .dataframe tbody tr th {\n",
       "        vertical-align: top;\n",
       "    }\n",
       "\n",
       "    .dataframe thead th {\n",
       "        text-align: right;\n",
       "    }\n",
       "</style>\n",
       "<table border=\"1\" class=\"dataframe\">\n",
       "  <thead>\n",
       "    <tr style=\"text-align: right;\">\n",
       "      <th></th>\n",
       "      <th>jp_sales</th>\n",
       "      <th>total_sales</th>\n",
       "      <th>%</th>\n",
       "    </tr>\n",
       "    <tr>\n",
       "      <th>platform</th>\n",
       "      <th></th>\n",
       "      <th></th>\n",
       "      <th></th>\n",
       "    </tr>\n",
       "  </thead>\n",
       "  <tbody>\n",
       "    <tr>\n",
       "      <td>3ds</td>\n",
       "      <td>67.81</td>\n",
       "      <td>143.25</td>\n",
       "      <td>0.47</td>\n",
       "    </tr>\n",
       "    <tr>\n",
       "      <td>ps3</td>\n",
       "      <td>23.35</td>\n",
       "      <td>181.43</td>\n",
       "      <td>0.13</td>\n",
       "    </tr>\n",
       "    <tr>\n",
       "      <td>psv</td>\n",
       "      <td>18.59</td>\n",
       "      <td>32.99</td>\n",
       "      <td>0.56</td>\n",
       "    </tr>\n",
       "    <tr>\n",
       "      <td>ps4</td>\n",
       "      <td>15.96</td>\n",
       "      <td>314.14</td>\n",
       "      <td>0.05</td>\n",
       "    </tr>\n",
       "    <tr>\n",
       "      <td>wiiu</td>\n",
       "      <td>10.88</td>\n",
       "      <td>64.63</td>\n",
       "      <td>0.17</td>\n",
       "    </tr>\n",
       "  </tbody>\n",
       "</table>\n",
       "</div>"
      ],
      "text/plain": [
       "          jp_sales  total_sales    %\n",
       "platform                            \n",
       "3ds          67.81       143.25 0.47\n",
       "ps3          23.35       181.43 0.13\n",
       "psv          18.59        32.99 0.56\n",
       "ps4          15.96       314.14 0.05\n",
       "wiiu         10.88        64.63 0.17"
      ]
     },
     "execution_count": 43,
     "metadata": {},
     "output_type": "execute_result"
    },
    {
     "data": {
      "image/png": "[encoded data removed]",
      "text/plain": [
       "<Figure size 504x504 with 1 Axes>"
      ]
     },
     "metadata": {},
     "output_type": "display_data"
    }
   ],
   "source": [
    "# код ревьюера\n",
    "jp_rating = data.pivot_table(index = 'platform', values = ['jp_sales','total_sales'], aggfunc='sum').sort_values(by='jp_sales', ascending=False)\n",
    "jp_rating['%'] = (jp_rating['jp_sales']/jp_rating['total_sales'])\n",
    "jp_rating.head().plot(kind='pie',y='jp_sales', figsize=(7,7), title='График распределения топ-5 платформ на японском рынке',autopct='%1.2f%%');\n",
    "jp_rating.head()"
   ]
  },
  {
   "cell_type": "markdown",
   "metadata": {},
   "source": [
    "#### Определим влияние рейтинга ESRB на продажи в отдельном регионе.  "
   ]
  },
  {
   "cell_type": "code",
   "execution_count": 44,
   "metadata": {
    "colab": {
     "base_uri": "https://localhost:8080/",
     "height": 564
    },
    "id": "BhTpDJG7jj-0",
    "outputId": "11635fc8-dff8-41cf-b2cf-5e4e527db9ce"
   },
   "outputs": [
    {
     "data": {
      "text/html": [
       "<div>\n",
       "<style scoped>\n",
       "    .dataframe tbody tr th:only-of-type {\n",
       "        vertical-align: middle;\n",
       "    }\n",
       "\n",
       "    .dataframe tbody tr th {\n",
       "        vertical-align: top;\n",
       "    }\n",
       "\n",
       "    .dataframe thead th {\n",
       "        text-align: right;\n",
       "    }\n",
       "</style>\n",
       "<table border=\"1\" class=\"dataframe\">\n",
       "  <thead>\n",
       "    <tr style=\"text-align: right;\">\n",
       "      <th></th>\n",
       "      <th>na_sales</th>\n",
       "      <th>eu_sales</th>\n",
       "      <th>jp_sales</th>\n",
       "    </tr>\n",
       "    <tr>\n",
       "      <th>rating</th>\n",
       "      <th></th>\n",
       "      <th></th>\n",
       "      <th></th>\n",
       "    </tr>\n",
       "  </thead>\n",
       "  <tbody>\n",
       "    <tr>\n",
       "      <td>E</td>\n",
       "      <td>79.05</td>\n",
       "      <td>83.36</td>\n",
       "      <td>15.14</td>\n",
       "    </tr>\n",
       "    <tr>\n",
       "      <td>E10+</td>\n",
       "      <td>54.24</td>\n",
       "      <td>42.69</td>\n",
       "      <td>5.89</td>\n",
       "    </tr>\n",
       "    <tr>\n",
       "      <td>M</td>\n",
       "      <td>165.21</td>\n",
       "      <td>145.32</td>\n",
       "      <td>14.11</td>\n",
       "    </tr>\n",
       "    <tr>\n",
       "      <td>T</td>\n",
       "      <td>49.79</td>\n",
       "      <td>41.95</td>\n",
       "      <td>20.59</td>\n",
       "    </tr>\n",
       "    <tr>\n",
       "      <td>без рейтинга</td>\n",
       "      <td>89.42</td>\n",
       "      <td>78.91</td>\n",
       "      <td>85.05</td>\n",
       "    </tr>\n",
       "  </tbody>\n",
       "</table>\n",
       "</div>"
      ],
      "text/plain": [
       "              na_sales  eu_sales  jp_sales\n",
       "rating                                    \n",
       "E                79.05     83.36     15.14\n",
       "E10+             54.24     42.69      5.89\n",
       "M               165.21    145.32     14.11\n",
       "T                49.79     41.95     20.59\n",
       "без рейтинга     89.42     78.91     85.05"
      ]
     },
     "metadata": {},
     "output_type": "display_data"
    },
    {
     "data": {
      "image/png": "[encoded data removed]",
      "text/plain": [
       "<Figure size 720x360 with 1 Axes>"
      ]
     },
     "metadata": {},
     "output_type": "display_data"
    }
   ],
   "source": [
    "rating_esrb = data.groupby('rating')['na_sales','eu_sales', 'jp_sales'].sum()\n",
    "display(rating_esrb)\n",
    "rating_esrb.columns=['Северная Америка','Европа','Япония']\n",
    "rating_esrb.plot(kind='bar',figsize=(10,5),grid=True,title='График влияния рейтинга ESRB на продажи в разных странах')\n",
    "plt.xlabel('Рейтинг')\n",
    "plt.ylabel('Суммарные подажи в регионе, млн.копий')\n",
    "plt.show()"
   ]
  },
  {
   "cell_type": "markdown",
   "metadata": {
    "id": "wASOH4N8007q"
   },
   "source": [
    "<div class=\"alert alert-block alert-danger\">\n",
    "    \n",
    "\n",
    "### Комментарий от ревьюера v_1\n",
    "Критично\n",
    "\n",
    "В этой задаче необходимо также рассмотреть и пропущенные возрастные рейтинги. Чтобы они отображались на графике, пропуски стоит заменить на какое-то выбивающееся значение, например, на Нет рейтинга. Тогда мы сможешь сравнить продажи игр с рейтингами и без\n",
    "</div>"
   ]
  },
  {
   "cell_type": "markdown",
   "metadata": {},
   "source": [
    "<div class=\"alert alert-info\">\n",
    "<b>Комментарий студента: </b>\n",
    "<br>-Исправила\n",
    "</div>"
   ]
  },
  {
   "cell_type": "markdown",
   "metadata": {},
   "source": [
    "<div class=\"alert alert-block alert-warning\">\n",
    "\n",
    "\n",
    "### Комментарий от ревьюера v_2\n",
    "Рекомендация\n",
    "\n",
    "Вот тут бы следовало выдвинуть предположение, почему, на твой взгляд, в Японии настолько разительно отличается картина с возрастным рейтингом\n",
    "</div>"
   ]
  },
  {
   "cell_type": "markdown",
   "metadata": {
    "id": "Sg7zxwRAmigq"
   },
   "source": [
    "Рейтинг игр ESRB основан на их содержании аналогично рейтинговым системам кинофильмов:\n",
    "*   «E» («Everyone») — «Для всех»: Содержание вполне подходит для возрастной категории от 6 лет\n",
    "*   «E10+» («Everyone 10 and older») — «Для всех от 10 лет и старше».\n",
    "*   «T» («Teen») — «Подросткам»: Игра подходит для лиц от 13 лет.\n",
    "*   «M» («Mature») — «Для взрослых»: Материалы игры не подходят для подростков младше 17 лет. \n",
    "\n",
    "**Вывод. Шаг 4**  \n",
    "В Америке и Европе рейтинг влияет на продажи в большей степени, чем в Японии. \n",
    "В Америке и Европе максимальные продажи показывают игры с рейтингом \"М\" - игры для взрослых. В Америке продано 165 млн. копий, в Европе 145 млн. копий.  Второе место поделили игры без возрастного рейтинга и с рейтингом  «E» («Everyone») — «Для всех», их распределение по регионам практически одинаково: от 80 до 90 млн. проданных копий в Америке, Европе и Японии.   \n",
    "Третье место в Америке и Европе заняли игры с рейтингом  «E» («Everyone») — «Для всех». Их продано порядка 80 млн. копий. И это не сильно отличается от второго места. \n",
    "Меньше всего в Европе и Америке продают игр с рейтингом \"Т\".  \n",
    "В Японии влияение рейтинга минимально, так как максимальные продажи показывают игры без возрастного рейтинга (82 млн.проданных копий). Меньше всего в Японии продаются игры с рейтингом «E10+» («Everyone 10 and older») — «Для всех от 10 лет и старше»: около 4 млн.копий.  \n",
    " "
   ]
  },
  {
   "cell_type": "markdown",
   "metadata": {
    "id": "6qsleF4_09AE"
   },
   "source": [
    "## Шаг 5. Проверка гипотез"
   ]
  },
  {
   "cell_type": "markdown",
   "metadata": {},
   "source": [
    "#### Гипотеза 1.Средние пользовательские рейтинги платформ Xbox One и PC одинаковые.   "
   ]
  },
  {
   "cell_type": "markdown",
   "metadata": {
    "id": "8_It2pgw1gmY"
   },
   "source": [
    "H0 нулевая гипотеза: Средние пользовательские рейтинги платформ Xbox One и PC одинаковые  \n",
    "H1 альтернативная гипотеза: Средние пользовательские рейтинги платформ Xbox One и PC  различаются  \n",
    "Для доказательства нулевой теории используем t-test.  \n",
    "Если p-value меньше порогового значения alpha, то гипотезу отвергаем. Иначе - не отвергаем.  \n"
   ]
  },
  {
   "cell_type": "markdown",
   "metadata": {},
   "source": [
    "<div class=\"alert alert-block alert-success\">\n",
    "\n",
    "    \n",
    "### Комментарий от ревьюера v_1\n",
    "\n",
    "Отлично, гипотезы сформулированы верно\n",
    "    \n",
    "</div>"
   ]
  },
  {
   "cell_type": "code",
   "execution_count": 45,
   "metadata": {
    "colab": {
     "base_uri": "https://localhost:8080/",
     "height": 884
    },
    "id": "xRVrgK9-tol3",
    "outputId": "3dba5f02-34e6-450b-cfab-267e3fa53c0e"
   },
   "outputs": [
    {
     "data": {
      "text/plain": [
       "'Средний пользовательский рейтинг платформы'"
      ]
     },
     "metadata": {},
     "output_type": "display_data"
    },
    {
     "data": {
      "text/plain": [
       "'xone'"
      ]
     },
     "metadata": {},
     "output_type": "display_data"
    },
    {
     "data": {
      "text/plain": [
       "6.521428571428572"
      ]
     },
     "metadata": {},
     "output_type": "display_data"
    },
    {
     "data": {
      "text/html": [
       "<div>\n",
       "<style scoped>\n",
       "    .dataframe tbody tr th:only-of-type {\n",
       "        vertical-align: middle;\n",
       "    }\n",
       "\n",
       "    .dataframe tbody tr th {\n",
       "        vertical-align: top;\n",
       "    }\n",
       "\n",
       "    .dataframe thead th {\n",
       "        text-align: right;\n",
       "    }\n",
       "</style>\n",
       "<table border=\"1\" class=\"dataframe\">\n",
       "  <thead>\n",
       "    <tr style=\"text-align: right;\">\n",
       "      <th></th>\n",
       "      <th>count</th>\n",
       "      <th>mean</th>\n",
       "      <th>std</th>\n",
       "      <th>min</th>\n",
       "      <th>median</th>\n",
       "      <th>max</th>\n",
       "      <th>var</th>\n",
       "    </tr>\n",
       "    <tr>\n",
       "      <th>platform</th>\n",
       "      <th></th>\n",
       "      <th></th>\n",
       "      <th></th>\n",
       "      <th></th>\n",
       "      <th></th>\n",
       "      <th></th>\n",
       "      <th></th>\n",
       "    </tr>\n",
       "  </thead>\n",
       "  <tbody>\n",
       "    <tr>\n",
       "      <td>xone</td>\n",
       "      <td>182</td>\n",
       "      <td>6.52</td>\n",
       "      <td>1.38</td>\n",
       "      <td>1.60</td>\n",
       "      <td>6.80</td>\n",
       "      <td>9.20</td>\n",
       "      <td>1.91</td>\n",
       "    </tr>\n",
       "  </tbody>\n",
       "</table>\n",
       "</div>"
      ],
      "text/plain": [
       "          count  mean  std  min  median  max  var\n",
       "platform                                         \n",
       "xone        182  6.52 1.38 1.60    6.80 9.20 1.91"
      ]
     },
     "metadata": {},
     "output_type": "display_data"
    },
    {
     "data": {
      "text/plain": [
       "'Средний пользовательский рейтинг платформы'"
      ]
     },
     "metadata": {},
     "output_type": "display_data"
    },
    {
     "data": {
      "text/plain": [
       "'pc'"
      ]
     },
     "metadata": {},
     "output_type": "display_data"
    },
    {
     "data": {
      "text/plain": [
       "6.269677419354839"
      ]
     },
     "metadata": {},
     "output_type": "display_data"
    },
    {
     "data": {
      "text/html": [
       "<div>\n",
       "<style scoped>\n",
       "    .dataframe tbody tr th:only-of-type {\n",
       "        vertical-align: middle;\n",
       "    }\n",
       "\n",
       "    .dataframe tbody tr th {\n",
       "        vertical-align: top;\n",
       "    }\n",
       "\n",
       "    .dataframe thead th {\n",
       "        text-align: right;\n",
       "    }\n",
       "</style>\n",
       "<table border=\"1\" class=\"dataframe\">\n",
       "  <thead>\n",
       "    <tr style=\"text-align: right;\">\n",
       "      <th></th>\n",
       "      <th>count</th>\n",
       "      <th>mean</th>\n",
       "      <th>std</th>\n",
       "      <th>min</th>\n",
       "      <th>median</th>\n",
       "      <th>max</th>\n",
       "      <th>var</th>\n",
       "    </tr>\n",
       "    <tr>\n",
       "      <th>platform</th>\n",
       "      <th></th>\n",
       "      <th></th>\n",
       "      <th></th>\n",
       "      <th></th>\n",
       "      <th></th>\n",
       "      <th></th>\n",
       "      <th></th>\n",
       "    </tr>\n",
       "  </thead>\n",
       "  <tbody>\n",
       "    <tr>\n",
       "      <td>pc</td>\n",
       "      <td>155</td>\n",
       "      <td>6.27</td>\n",
       "      <td>1.74</td>\n",
       "      <td>1.40</td>\n",
       "      <td>6.80</td>\n",
       "      <td>9.30</td>\n",
       "      <td>3.04</td>\n",
       "    </tr>\n",
       "  </tbody>\n",
       "</table>\n",
       "</div>"
      ],
      "text/plain": [
       "          count  mean  std  min  median  max  var\n",
       "platform                                         \n",
       "pc          155  6.27 1.74 1.40    6.80 9.30 3.04"
      ]
     },
     "metadata": {},
     "output_type": "display_data"
    },
    {
     "data": {
      "image/png": "[encoded data removed]",
      "text/plain": [
       "<Figure size 504x288 with 1 Axes>"
      ]
     },
     "metadata": {},
     "output_type": "display_data"
    },
    {
     "data": {
      "image/png": "[encoded data removed]",
      "text/plain": [
       "<Figure size 504x288 with 1 Axes>"
      ]
     },
     "metadata": {},
     "output_type": "display_data"
    }
   ],
   "source": [
    "# Посчитаем и сравним среднее, дисперсию, стандартное отклонение пользовательского рейтинга платформ Xbox One и PC:\n",
    "# Построим графики \n",
    "# Для выборки будем использовать только те игры, у которых есть отзывы:\n",
    "\n",
    "platform_list_1 = ['xone','pc']\n",
    "for i in platform_list_1:\n",
    "    df_new = data.loc[data['platform']== i].dropna(subset=['user_score'])\n",
    "    display('Средний пользовательский рейтинг платформы', i, df_new['user_score'].mean())\n",
    "    display(df_new.groupby('platform')['user_score'].agg(['count', 'mean', 'std', 'min','median', 'max','var']))\n",
    "    df_new.plot(kind='hist',y ='user_score', grid=True, bins=15, figsize=(7,4))\n",
    "    plt.title(i)\n",
    "    plt.ylabel('Количество отзывов')\n",
    "    plt.xlabel('Рейтинг пользователей')  "
   ]
  },
  {
   "cell_type": "markdown",
   "metadata": {
    "id": "IdtIlNXL549M"
   },
   "source": [
    "Так как дисперсии выборок отличаются (var.xone = 1.91, а : var.pc= 3.04), используем метод scipy.stats.ttest_ind с параметром False.\n",
    "Критический уровень значимости установим 0.05."
   ]
  },
  {
   "cell_type": "code",
   "execution_count": 46,
   "metadata": {
    "colab": {
     "base_uri": "https://localhost:8080/"
    },
    "id": "3tVJeDuEN5SF",
    "outputId": "de787df5-dd71-4abe-9a86-86dfe9edcb3b"
   },
   "outputs": [
    {
     "name": "stdout",
     "output_type": "stream",
     "text": [
      "p-значение: 0.1475959401343032\n",
      "Не можем отвергнуть нулевую гипотезу. Средние пользовательские рейтинги платформ Xbox One и PC одинаковые\n"
     ]
    }
   ],
   "source": [
    "# Создадим 2 таблицы для платформ:\n",
    "xone = data.loc[data['platform']== \"xone\"].dropna(subset=['user_score'])\n",
    "pc = data.loc[data['platform']== \"pc\"].dropna(subset=['user_score'])\n",
    "\n",
    "alpha = 0.05 # критический уровень статистической значимости\n",
    "# если p-value окажется меньше alpha - отвергаем гипотезу\n",
    " \n",
    "results_score = st.ttest_ind(xone['user_score'], pc['user_score'], equal_var = False)\n",
    "print('p-значение:', results_score.pvalue)\n",
    "if results_score.pvalue < alpha:\n",
    "    print('Отвергаем нулевую гипотезу. Средние пользовательские рейтинги платформ Xbox One и PC  различается.')\n",
    "else:\n",
    "    print('Не можем отвергнуть нулевую гипотезу. Средние пользовательские рейтинги платформ Xbox One и PC одинаковые')"
   ]
  },
  {
   "cell_type": "markdown",
   "metadata": {
    "id": "2tHrQtiFAKCM"
   },
   "source": [
    "**Вывод Гипотеза 1:**  \n",
    "Полученное нами p-value равно 0.14, а значит есть 14 % вероятность того, что отличие средних значений наших выборок случайно и мы не можем отвергнуть нулевую гипотезу, в которой утверждается, что средние пользовательские рейтинги платформ Xbox One и PC одинаковые."
   ]
  },
  {
   "cell_type": "markdown",
   "metadata": {},
   "source": [
    "<div class=\"alert alert-block alert-warning\"> \n",
    "    \n",
    "### Комментарий от ревьюера v_1\n",
    "Рекомендация\n",
    "\n",
    "p-значение - это вероятность получить такие же или еще более значимые различия, при условии верности нулевой гипотезы\n",
    "    \n",
    "\n",
    "</div>"
   ]
  },
  {
   "cell_type": "markdown",
   "metadata": {
    "id": "Yb_Ern_HVBgT"
   },
   "source": [
    "#### Гипотеза 2. Средние пользовательские рейтинги жанров Action и Sports разные.   "
   ]
  },
  {
   "cell_type": "markdown",
   "metadata": {
    "id": "hpls5ocMVaAJ"
   },
   "source": [
    "*H0 нулевая гипотеза: средние пользовательские рейтинги жанров Action и Sports равны  \n",
    "*H1 альтернативная гипотеза: средние пользовательские рейтинги жанров Action и Sports отличаются  \n",
    "Если p-value меньше порогового значения alpha, то гипотезу отвергаем. Иначе - не отвергаем."
   ]
  },
  {
   "cell_type": "markdown",
   "metadata": {},
   "source": [
    "<div class=\"alert alert-block alert-success\">\n",
    "\n",
    "    \n",
    "### Комментарий от ревьюера v_1\n",
    "\n",
    "Отлично, гипотезы сформулированы верно\n",
    "    \n",
    "</div>"
   ]
  },
  {
   "cell_type": "code",
   "execution_count": 47,
   "metadata": {
    "colab": {
     "base_uri": "https://localhost:8080/",
     "height": 884
    },
    "id": "2sj6fDFRVtRJ",
    "outputId": "9c89a0db-b4d9-40df-b0e2-95c790e2daa9"
   },
   "outputs": [
    {
     "data": {
      "text/plain": [
       "'Средний пользовательский рейтинг жанра'"
      ]
     },
     "metadata": {},
     "output_type": "display_data"
    },
    {
     "data": {
      "text/plain": [
       "'action'"
      ]
     },
     "metadata": {},
     "output_type": "display_data"
    },
    {
     "data": {
      "text/plain": [
       "6.837532133676093"
      ]
     },
     "metadata": {},
     "output_type": "display_data"
    },
    {
     "data": {
      "text/html": [
       "<div>\n",
       "<style scoped>\n",
       "    .dataframe tbody tr th:only-of-type {\n",
       "        vertical-align: middle;\n",
       "    }\n",
       "\n",
       "    .dataframe tbody tr th {\n",
       "        vertical-align: top;\n",
       "    }\n",
       "\n",
       "    .dataframe thead th {\n",
       "        text-align: right;\n",
       "    }\n",
       "</style>\n",
       "<table border=\"1\" class=\"dataframe\">\n",
       "  <thead>\n",
       "    <tr style=\"text-align: right;\">\n",
       "      <th></th>\n",
       "      <th>count</th>\n",
       "      <th>mean</th>\n",
       "      <th>std</th>\n",
       "      <th>min</th>\n",
       "      <th>median</th>\n",
       "      <th>max</th>\n",
       "      <th>var</th>\n",
       "    </tr>\n",
       "    <tr>\n",
       "      <th>genre</th>\n",
       "      <th></th>\n",
       "      <th></th>\n",
       "      <th></th>\n",
       "      <th></th>\n",
       "      <th></th>\n",
       "      <th></th>\n",
       "      <th></th>\n",
       "    </tr>\n",
       "  </thead>\n",
       "  <tbody>\n",
       "    <tr>\n",
       "      <td>action</td>\n",
       "      <td>389</td>\n",
       "      <td>6.84</td>\n",
       "      <td>1.33</td>\n",
       "      <td>2.00</td>\n",
       "      <td>7.10</td>\n",
       "      <td>9.10</td>\n",
       "      <td>1.77</td>\n",
       "    </tr>\n",
       "  </tbody>\n",
       "</table>\n",
       "</div>"
      ],
      "text/plain": [
       "        count  mean  std  min  median  max  var\n",
       "genre                                          \n",
       "action    389  6.84 1.33 2.00    7.10 9.10 1.77"
      ]
     },
     "metadata": {},
     "output_type": "display_data"
    },
    {
     "data": {
      "text/plain": [
       "'Средний пользовательский рейтинг жанра'"
      ]
     },
     "metadata": {},
     "output_type": "display_data"
    },
    {
     "data": {
      "text/plain": [
       "'sports'"
      ]
     },
     "metadata": {},
     "output_type": "display_data"
    },
    {
     "data": {
      "text/plain": [
       "5.238125000000001"
      ]
     },
     "metadata": {},
     "output_type": "display_data"
    },
    {
     "data": {
      "text/html": [
       "<div>\n",
       "<style scoped>\n",
       "    .dataframe tbody tr th:only-of-type {\n",
       "        vertical-align: middle;\n",
       "    }\n",
       "\n",
       "    .dataframe tbody tr th {\n",
       "        vertical-align: top;\n",
       "    }\n",
       "\n",
       "    .dataframe thead th {\n",
       "        text-align: right;\n",
       "    }\n",
       "</style>\n",
       "<table border=\"1\" class=\"dataframe\">\n",
       "  <thead>\n",
       "    <tr style=\"text-align: right;\">\n",
       "      <th></th>\n",
       "      <th>count</th>\n",
       "      <th>mean</th>\n",
       "      <th>std</th>\n",
       "      <th>min</th>\n",
       "      <th>median</th>\n",
       "      <th>max</th>\n",
       "      <th>var</th>\n",
       "    </tr>\n",
       "    <tr>\n",
       "      <th>genre</th>\n",
       "      <th></th>\n",
       "      <th></th>\n",
       "      <th></th>\n",
       "      <th></th>\n",
       "      <th></th>\n",
       "      <th></th>\n",
       "      <th></th>\n",
       "    </tr>\n",
       "  </thead>\n",
       "  <tbody>\n",
       "    <tr>\n",
       "      <td>sports</td>\n",
       "      <td>160</td>\n",
       "      <td>5.24</td>\n",
       "      <td>1.78</td>\n",
       "      <td>0.20</td>\n",
       "      <td>5.50</td>\n",
       "      <td>8.80</td>\n",
       "      <td>3.18</td>\n",
       "    </tr>\n",
       "  </tbody>\n",
       "</table>\n",
       "</div>"
      ],
      "text/plain": [
       "        count  mean  std  min  median  max  var\n",
       "genre                                          \n",
       "sports    160  5.24 1.78 0.20    5.50 8.80 3.18"
      ]
     },
     "metadata": {},
     "output_type": "display_data"
    },
    {
     "data": {
      "image/png": "[encoded data removed]",
      "text/plain": [
       "<Figure size 504x288 with 1 Axes>"
      ]
     },
     "metadata": {},
     "output_type": "display_data"
    },
    {
     "data": {
      "image/png": "[encoded data removed]",
      "text/plain": [
       "<Figure size 504x288 with 1 Axes>"
      ]
     },
     "metadata": {},
     "output_type": "display_data"
    }
   ],
   "source": [
    "# Посчитаем и сравним среднее, дисперсию, стандартное отклонение пользовательского рейтинга для жанров Action и Sports\n",
    "# Построим графики \n",
    "# Для выборки будем использовать только те игры, у которых есть отзывы:\n",
    "\n",
    "genre_list = ['action','sports']\n",
    "for col in genre_list:\n",
    "    df_genre = data.loc[data['genre']== col].dropna(subset=['user_score'])\n",
    "    display('Средний пользовательский рейтинг жанра', col, df_genre['user_score'].mean())\n",
    "    display(df_genre.groupby('genre')['user_score'].agg(['count', 'mean', 'std', 'min','median', 'max','var']))\n",
    "    df_genre.plot(kind='hist',y ='user_score', grid=True, bins=15, figsize=(7,4))\n",
    "    plt.title(col)\n",
    "    plt.ylabel('Количество отзывов')\n",
    "    plt.xlabel('Рейтинг пользователей')  "
   ]
  },
  {
   "cell_type": "markdown",
   "metadata": {
    "id": "MuzAGoI07vyT"
   },
   "source": [
    "Так как дисперсии выборок отличаются:  \n",
    "var.action = 1.77  \n",
    "var.sports= 3.18   \n",
    "используем метод scipy.stats.ttest_ind с параметром False. Критический уровень значимости установим 0.05."
   ]
  },
  {
   "cell_type": "code",
   "execution_count": 48,
   "metadata": {
    "colab": {
     "base_uri": "https://localhost:8080/"
    },
    "id": "xnSr6hP97sd9",
    "outputId": "ce3c4172-6215-4049-b269-b70746f3fc9a"
   },
   "outputs": [
    {
     "name": "stdout",
     "output_type": "stream",
     "text": [
      "p-значение: 1.4460039700704938e-20\n",
      "Отвергаем нулевую гипотезу. Средние пользовательские рейтинги жанров Action и Sports  различаются.\n"
     ]
    }
   ],
   "source": [
    "# Создадим 2 таблицы для жанров, используем только те игры, в которых есть отзывы (по аналогии с предыдщей гипотезой)\n",
    "action = data.loc[data['genre']== \"action\"].dropna(subset=['user_score'])\n",
    "sports = data.loc[data['genre']== \"sports\"].dropna(subset=['user_score'])\n",
    "\n",
    "alpha = 0.05 # критический уровень статистической значимости\n",
    "# если p-value окажется меньше alpha - отвергаем гипотезу\n",
    " \n",
    "results_score = st.ttest_ind(action['user_score'], sports['user_score'], equal_var = False)\n",
    "print('p-значение:', results_score.pvalue)\n",
    "if results_score.pvalue < alpha:\n",
    "    print('Отвергаем нулевую гипотезу. Средние пользовательские рейтинги жанров Action и Sports  различаются.')\n",
    "else:\n",
    "    print('Не можем отвергнуть нулевую гипотезу. Средние пользовательские рейтинги платформ жанров Action и Sports одинаковые')"
   ]
  },
  {
   "cell_type": "markdown",
   "metadata": {},
   "source": [
    "<div class=\"alert alert-block alert-warning\"> \n",
    "    \n",
    "### Комментарий от ревьюера v_1\n",
    "Рекомендация\n",
    "\n",
    "Статистика не подтверждает или отвергает гипотезу, а дает основание предполагать, что гипотеза верна или не верна\n",
    "    \n",
    "\n",
    "</div>"
   ]
  },
  {
   "cell_type": "markdown",
   "metadata": {
    "id": "wnDL9CpLWK7T"
   },
   "source": [
    "# Вывод\n",
    "\n",
    "1.\tМы провели обработку данных для анализа.\n",
    "2.\tОпределили, что средний срок жизни платформы равен ~ 3.5 года,  и исходя из этого, выбрали период анализа с 2013 по  2016 годы. \n",
    "3.\tЗа исследуемый период в топ-10 платфором попали: 'ps4','ps3','xone','3ds','x360','wiiu','pc','psv','wii','psp'\n",
    "4.\tЗа последние 3 года самой продаваемой платформой стала 'ps4'.  \n",
    "5.\tПо количеству проданных копий с большим отрывом лидируют игры: 'ps4', 'ps3','x360', 'xone', '3ds'.\n",
    "6.\tОпределили, что отзывы критиков и пользователей не сильно влияют на продажи.\n",
    "7.\tСравнили игровые пристрастия пользователей каждого региона. И выявили лидирующие платформы и жанры.\n",
    "8.\tПроверили гипотезы: средние пользовательские рейтинги платформ Xbox One и PC одинаковые; средние пользовательские рейтинги жанров Action и Sports разные. При анализе использовались критерий Стьюдента для независимых выборок.\n",
    "\n",
    "   \n",
    "\n",
    "\n",
    "\n",
    "\n",
    "\n",
    "\n",
    "\n",
    "\n",
    "\n"
   ]
  },
  {
   "cell_type": "markdown",
   "metadata": {
    "id": "o-kUz00EfOZU"
   },
   "source": [
    "<div class=\"alert alert-block alert-success\">\n",
    "\n",
    "    \n",
    "### Комментарий от ревьюера v_1\n",
    "\n",
    "Отличный структурированный вывод 👍🏻\n",
    "    \n",
    "Но еще раз отмечу, что статистика не подтверждает или отвергает гипотезу, а дает основание предполагать, что гипотеза верна или не верна. Не нужно утверждать то, в чем нет 100% уверенности\n",
    "    \n",
    "</div>"
   ]
  }
 ],
 "metadata": {
  "ExecuteTimeLog": [
   {
    "duration": 1162,
    "start_time": "2022-02-21T20:49:50.418Z"
   },
   {
    "duration": 143,
    "start_time": "2022-02-21T20:49:51.581Z"
   },
   {
    "duration": 14,
    "start_time": "2022-02-21T20:49:51.726Z"
   },
   {
    "duration": 10,
    "start_time": "2022-02-21T20:49:51.742Z"
   },
   {
    "duration": 24,
    "start_time": "2022-02-21T20:49:51.754Z"
   },
   {
    "duration": 2,
    "start_time": "2022-02-21T20:49:51.779Z"
   },
   {
    "duration": 20,
    "start_time": "2022-02-21T20:49:51.783Z"
   },
   {
    "duration": 15,
    "start_time": "2022-02-21T20:49:51.805Z"
   },
   {
    "duration": 43,
    "start_time": "2022-02-21T20:49:51.822Z"
   },
   {
    "duration": 12,
    "start_time": "2022-02-21T20:49:51.867Z"
   },
   {
    "duration": 8,
    "start_time": "2022-02-21T20:49:51.880Z"
   },
   {
    "duration": 5,
    "start_time": "2022-02-21T20:49:51.889Z"
   },
   {
    "duration": 10,
    "start_time": "2022-02-21T20:49:51.895Z"
   },
   {
    "duration": 56,
    "start_time": "2022-02-21T20:49:51.907Z"
   },
   {
    "duration": 11,
    "start_time": "2022-02-21T20:49:51.965Z"
   },
   {
    "duration": 5,
    "start_time": "2022-02-21T20:49:51.978Z"
   },
   {
    "duration": 7,
    "start_time": "2022-02-21T20:49:51.984Z"
   },
   {
    "duration": 26,
    "start_time": "2022-02-21T20:49:51.993Z"
   },
   {
    "duration": 278,
    "start_time": "2022-02-21T20:49:52.021Z"
   },
   {
    "duration": 16,
    "start_time": "2022-02-21T20:49:52.301Z"
   },
   {
    "duration": 4,
    "start_time": "2022-02-21T20:49:52.318Z"
   },
   {
    "duration": 23,
    "start_time": "2022-02-21T20:49:52.323Z"
   },
   {
    "duration": 499,
    "start_time": "2022-02-21T20:49:52.349Z"
   },
   {
    "duration": 6,
    "start_time": "2022-02-21T20:49:52.850Z"
   },
   {
    "duration": 12,
    "start_time": "2022-02-21T20:49:52.857Z"
   },
   {
    "duration": 390,
    "start_time": "2022-02-21T20:49:52.871Z"
   },
   {
    "duration": 11,
    "start_time": "2022-02-21T20:49:53.263Z"
   },
   {
    "duration": 2934,
    "start_time": "2022-02-21T20:49:53.275Z"
   },
   {
    "duration": 4,
    "start_time": "2022-02-21T20:49:56.211Z"
   },
   {
    "duration": 7,
    "start_time": "2022-02-21T20:49:56.217Z"
   },
   {
    "duration": 36,
    "start_time": "2022-02-21T20:49:56.226Z"
   },
   {
    "duration": 8,
    "start_time": "2022-02-21T20:49:56.264Z"
   },
   {
    "duration": 289,
    "start_time": "2022-02-21T20:49:56.274Z"
   },
   {
    "duration": 160,
    "start_time": "2022-02-21T20:49:56.565Z"
   },
   {
    "duration": 160,
    "start_time": "2022-02-21T20:49:56.727Z"
   },
   {
    "duration": 160,
    "start_time": "2022-02-21T20:49:56.888Z"
   },
   {
    "duration": 154,
    "start_time": "2022-02-21T20:49:57.049Z"
   },
   {
    "duration": 157,
    "start_time": "2022-02-21T20:49:57.204Z"
   },
   {
    "duration": 164,
    "start_time": "2022-02-21T20:49:57.362Z"
   },
   {
    "duration": 301,
    "start_time": "2022-02-21T20:49:57.528Z"
   },
   {
    "duration": 616,
    "start_time": "2022-02-21T20:49:57.831Z"
   },
   {
    "duration": 11,
    "start_time": "2022-02-21T20:49:58.449Z"
   },
   {
    "duration": 603,
    "start_time": "2022-02-21T20:49:58.462Z"
   },
   {
    "duration": 12,
    "start_time": "2022-02-21T20:49:59.066Z"
   },
   {
    "duration": 148,
    "start_time": "2022-02-21T20:56:27.178Z"
   },
   {
    "duration": 150,
    "start_time": "2022-02-21T20:56:33.788Z"
   },
   {
    "duration": 148,
    "start_time": "2022-02-21T21:00:49.832Z"
   },
   {
    "duration": 143,
    "start_time": "2022-02-21T21:07:47.868Z"
   },
   {
    "duration": 1605,
    "start_time": "2022-03-07T08:25:53.036Z"
   },
   {
    "duration": 173,
    "start_time": "2022-03-07T08:25:54.644Z"
   },
   {
    "duration": 21,
    "start_time": "2022-03-07T08:25:54.820Z"
   },
   {
    "duration": 31,
    "start_time": "2022-03-07T08:25:54.843Z"
   },
   {
    "duration": 41,
    "start_time": "2022-03-07T08:25:54.876Z"
   },
   {
    "duration": 4,
    "start_time": "2022-03-07T08:25:54.919Z"
   },
   {
    "duration": 62,
    "start_time": "2022-03-07T08:25:54.925Z"
   },
   {
    "duration": 26,
    "start_time": "2022-03-07T08:25:54.990Z"
   },
   {
    "duration": 69,
    "start_time": "2022-03-07T08:25:55.019Z"
   },
   {
    "duration": 24,
    "start_time": "2022-03-07T08:25:55.090Z"
   },
   {
    "duration": 12,
    "start_time": "2022-03-07T08:25:55.117Z"
   },
   {
    "duration": 45,
    "start_time": "2022-03-07T08:25:55.132Z"
   },
   {
    "duration": 14,
    "start_time": "2022-03-07T08:25:55.179Z"
   },
   {
    "duration": 38,
    "start_time": "2022-03-07T08:25:55.195Z"
   },
   {
    "duration": 53,
    "start_time": "2022-03-07T08:25:55.235Z"
   },
   {
    "duration": 9,
    "start_time": "2022-03-07T08:25:55.290Z"
   },
   {
    "duration": 12,
    "start_time": "2022-03-07T08:25:55.301Z"
   },
   {
    "duration": 60,
    "start_time": "2022-03-07T08:25:55.315Z"
   },
   {
    "duration": 489,
    "start_time": "2022-03-07T08:25:55.378Z"
   },
   {
    "duration": 26,
    "start_time": "2022-03-07T08:25:55.869Z"
   },
   {
    "duration": 8,
    "start_time": "2022-03-07T08:25:55.897Z"
   },
   {
    "duration": 15,
    "start_time": "2022-03-07T08:25:55.907Z"
   },
   {
    "duration": 973,
    "start_time": "2022-03-07T08:25:55.927Z"
   },
   {
    "duration": 12,
    "start_time": "2022-03-07T08:25:56.904Z"
   },
   {
    "duration": 22,
    "start_time": "2022-03-07T08:25:56.919Z"
   },
   {
    "duration": 734,
    "start_time": "2022-03-07T08:25:56.943Z"
   },
   {
    "duration": 19,
    "start_time": "2022-03-07T08:25:57.680Z"
   },
   {
    "duration": 5697,
    "start_time": "2022-03-07T08:25:57.702Z"
   },
   {
    "duration": 8,
    "start_time": "2022-03-07T08:26:03.401Z"
   },
   {
    "duration": 18,
    "start_time": "2022-03-07T08:26:03.412Z"
   },
   {
    "duration": 64,
    "start_time": "2022-03-07T08:26:03.432Z"
   },
   {
    "duration": 24,
    "start_time": "2022-03-07T08:26:03.500Z"
   },
   {
    "duration": 829,
    "start_time": "2022-03-07T08:26:03.527Z"
   },
   {
    "duration": 322,
    "start_time": "2022-03-07T08:26:04.359Z"
   },
   {
    "duration": 278,
    "start_time": "2022-03-07T08:26:04.683Z"
   },
   {
    "duration": 282,
    "start_time": "2022-03-07T08:26:04.964Z"
   },
   {
    "duration": 296,
    "start_time": "2022-03-07T08:26:05.248Z"
   },
   {
    "duration": 296,
    "start_time": "2022-03-07T08:26:05.546Z"
   },
   {
    "duration": 286,
    "start_time": "2022-03-07T08:26:05.845Z"
   },
   {
    "duration": 394,
    "start_time": "2022-03-07T08:26:06.134Z"
   },
   {
    "duration": 437,
    "start_time": "2022-03-07T08:26:06.531Z"
   },
   {
    "duration": 1114,
    "start_time": "2022-03-07T08:26:06.973Z"
   },
   {
    "duration": 19,
    "start_time": "2022-03-07T08:26:08.090Z"
   },
   {
    "duration": 1090,
    "start_time": "2022-03-07T08:26:08.111Z"
   },
   {
    "duration": 20,
    "start_time": "2022-03-07T08:26:09.204Z"
   },
   {
    "duration": 3,
    "start_time": "2022-03-07T08:33:58.366Z"
   },
   {
    "duration": 440,
    "start_time": "2022-03-07T09:03:40.222Z"
   },
   {
    "duration": 596,
    "start_time": "2022-03-07T09:03:57.999Z"
   },
   {
    "duration": 27,
    "start_time": "2022-03-07T09:47:05.619Z"
   },
   {
    "duration": 11,
    "start_time": "2022-03-07T09:47:51.552Z"
   },
   {
    "duration": 17,
    "start_time": "2022-03-07T09:48:03.326Z"
   },
   {
    "duration": 317,
    "start_time": "2022-03-07T10:21:00.790Z"
   },
   {
    "duration": 270,
    "start_time": "2022-03-07T10:21:08.563Z"
   },
   {
    "duration": 313,
    "start_time": "2022-03-07T10:27:18.569Z"
   },
   {
    "duration": 299,
    "start_time": "2022-03-07T10:28:02.553Z"
   },
   {
    "duration": 325,
    "start_time": "2022-03-07T10:28:09.740Z"
   },
   {
    "duration": 538,
    "start_time": "2022-03-07T10:35:06.687Z"
   },
   {
    "duration": 94,
    "start_time": "2022-03-07T10:38:09.487Z"
   },
   {
    "duration": 104,
    "start_time": "2022-03-07T10:38:38.196Z"
   },
   {
    "duration": 110,
    "start_time": "2022-03-07T10:39:31.435Z"
   },
   {
    "duration": 96,
    "start_time": "2022-03-07T10:39:53.322Z"
   },
   {
    "duration": 89,
    "start_time": "2022-03-07T10:40:23.146Z"
   },
   {
    "duration": 96,
    "start_time": "2022-03-07T10:41:52.808Z"
   },
   {
    "duration": 1692,
    "start_time": "2022-03-07T10:42:44.254Z"
   },
   {
    "duration": 188,
    "start_time": "2022-03-07T10:42:45.949Z"
   },
   {
    "duration": 20,
    "start_time": "2022-03-07T10:42:46.140Z"
   },
   {
    "duration": 37,
    "start_time": "2022-03-07T10:42:46.163Z"
   },
   {
    "duration": 51,
    "start_time": "2022-03-07T10:42:46.203Z"
   },
   {
    "duration": 5,
    "start_time": "2022-03-07T10:42:46.257Z"
   },
   {
    "duration": 46,
    "start_time": "2022-03-07T10:42:46.281Z"
   },
   {
    "duration": 26,
    "start_time": "2022-03-07T10:42:46.331Z"
   },
   {
    "duration": 59,
    "start_time": "2022-03-07T10:42:46.360Z"
   },
   {
    "duration": 21,
    "start_time": "2022-03-07T10:42:46.421Z"
   },
   {
    "duration": 44,
    "start_time": "2022-03-07T10:42:46.445Z"
   },
   {
    "duration": 17,
    "start_time": "2022-03-07T10:42:46.493Z"
   },
   {
    "duration": 3,
    "start_time": "2022-03-07T10:42:46.512Z"
   },
   {
    "duration": 70,
    "start_time": "2022-03-07T10:42:46.517Z"
   },
   {
    "duration": 27,
    "start_time": "2022-03-07T10:42:46.592Z"
   },
   {
    "duration": 9,
    "start_time": "2022-03-07T10:42:46.622Z"
   },
   {
    "duration": 47,
    "start_time": "2022-03-07T10:42:46.633Z"
   },
   {
    "duration": 43,
    "start_time": "2022-03-07T10:42:46.684Z"
   },
   {
    "duration": 544,
    "start_time": "2022-03-07T10:42:46.729Z"
   },
   {
    "duration": 33,
    "start_time": "2022-03-07T10:42:47.276Z"
   },
   {
    "duration": 8,
    "start_time": "2022-03-07T10:42:47.313Z"
   },
   {
    "duration": 12,
    "start_time": "2022-03-07T10:42:47.324Z"
   },
   {
    "duration": 28,
    "start_time": "2022-03-07T10:42:47.377Z"
   },
   {
    "duration": 707,
    "start_time": "2022-03-07T10:42:47.409Z"
   },
   {
    "duration": 11,
    "start_time": "2022-03-07T10:42:48.118Z"
   },
   {
    "duration": 49,
    "start_time": "2022-03-07T10:42:48.132Z"
   },
   {
    "duration": 854,
    "start_time": "2022-03-07T10:42:48.184Z"
   },
   {
    "duration": 32,
    "start_time": "2022-03-07T10:42:49.041Z"
   },
   {
    "duration": 6153,
    "start_time": "2022-03-07T10:42:49.077Z"
   },
   {
    "duration": 9,
    "start_time": "2022-03-07T10:42:55.233Z"
   },
   {
    "duration": 40,
    "start_time": "2022-03-07T10:42:55.245Z"
   },
   {
    "duration": 35,
    "start_time": "2022-03-07T10:42:55.288Z"
   },
   {
    "duration": 17,
    "start_time": "2022-03-07T10:42:55.325Z"
   },
   {
    "duration": 610,
    "start_time": "2022-03-07T10:42:55.345Z"
   },
   {
    "duration": 98,
    "start_time": "2022-03-07T10:42:55.957Z"
   },
   {
    "duration": -1911,
    "start_time": "2022-03-07T10:42:57.969Z"
   },
   {
    "duration": -1917,
    "start_time": "2022-03-07T10:42:57.976Z"
   },
   {
    "duration": -1923,
    "start_time": "2022-03-07T10:42:57.983Z"
   },
   {
    "duration": -1937,
    "start_time": "2022-03-07T10:42:57.999Z"
   },
   {
    "duration": -1955,
    "start_time": "2022-03-07T10:42:58.018Z"
   },
   {
    "duration": -1980,
    "start_time": "2022-03-07T10:42:58.044Z"
   },
   {
    "duration": -1989,
    "start_time": "2022-03-07T10:42:58.055Z"
   },
   {
    "duration": -2011,
    "start_time": "2022-03-07T10:42:58.078Z"
   },
   {
    "duration": -2059,
    "start_time": "2022-03-07T10:42:58.127Z"
   },
   {
    "duration": -2077,
    "start_time": "2022-03-07T10:42:58.147Z"
   },
   {
    "duration": -2082,
    "start_time": "2022-03-07T10:42:58.154Z"
   },
   {
    "duration": -2093,
    "start_time": "2022-03-07T10:42:58.167Z"
   },
   {
    "duration": 93,
    "start_time": "2022-03-07T10:44:50.060Z"
   },
   {
    "duration": 123,
    "start_time": "2022-03-07T10:46:04.897Z"
   },
   {
    "duration": 114,
    "start_time": "2022-03-07T10:46:51.435Z"
   },
   {
    "duration": 1535,
    "start_time": "2022-03-07T10:48:41.103Z"
   },
   {
    "duration": 116,
    "start_time": "2022-03-07T10:48:42.640Z"
   },
   {
    "duration": 23,
    "start_time": "2022-03-07T10:48:42.760Z"
   },
   {
    "duration": 19,
    "start_time": "2022-03-07T10:48:42.786Z"
   },
   {
    "duration": 70,
    "start_time": "2022-03-07T10:48:42.808Z"
   },
   {
    "duration": 8,
    "start_time": "2022-03-07T10:48:42.881Z"
   },
   {
    "duration": 45,
    "start_time": "2022-03-07T10:48:42.893Z"
   },
   {
    "duration": 61,
    "start_time": "2022-03-07T10:48:42.941Z"
   },
   {
    "duration": 98,
    "start_time": "2022-03-07T10:48:43.007Z"
   },
   {
    "duration": 33,
    "start_time": "2022-03-07T10:48:43.109Z"
   },
   {
    "duration": 46,
    "start_time": "2022-03-07T10:48:43.145Z"
   },
   {
    "duration": 11,
    "start_time": "2022-03-07T10:48:43.195Z"
   },
   {
    "duration": 11,
    "start_time": "2022-03-07T10:48:43.209Z"
   },
   {
    "duration": 76,
    "start_time": "2022-03-07T10:48:43.223Z"
   },
   {
    "duration": 27,
    "start_time": "2022-03-07T10:48:43.302Z"
   },
   {
    "duration": 12,
    "start_time": "2022-03-07T10:48:43.332Z"
   },
   {
    "duration": 27,
    "start_time": "2022-03-07T10:48:43.346Z"
   },
   {
    "duration": 40,
    "start_time": "2022-03-07T10:48:43.376Z"
   },
   {
    "duration": 519,
    "start_time": "2022-03-07T10:48:43.419Z"
   },
   {
    "duration": 46,
    "start_time": "2022-03-07T10:48:43.941Z"
   },
   {
    "duration": 8,
    "start_time": "2022-03-07T10:48:43.989Z"
   },
   {
    "duration": 13,
    "start_time": "2022-03-07T10:48:44.000Z"
   },
   {
    "duration": 60,
    "start_time": "2022-03-07T10:48:44.016Z"
   },
   {
    "duration": 599,
    "start_time": "2022-03-07T10:48:44.078Z"
   },
   {
    "duration": 11,
    "start_time": "2022-03-07T10:48:44.680Z"
   },
   {
    "duration": 22,
    "start_time": "2022-03-07T10:48:44.694Z"
   },
   {
    "duration": 1063,
    "start_time": "2022-03-07T10:48:44.724Z"
   },
   {
    "duration": 22,
    "start_time": "2022-03-07T10:48:45.791Z"
   },
   {
    "duration": 5612,
    "start_time": "2022-03-07T10:48:45.816Z"
   },
   {
    "duration": 7,
    "start_time": "2022-03-07T10:48:51.431Z"
   },
   {
    "duration": 34,
    "start_time": "2022-03-07T10:48:51.441Z"
   },
   {
    "duration": 30,
    "start_time": "2022-03-07T10:48:51.478Z"
   },
   {
    "duration": 19,
    "start_time": "2022-03-07T10:48:51.511Z"
   },
   {
    "duration": 546,
    "start_time": "2022-03-07T10:48:51.533Z"
   },
   {
    "duration": 292,
    "start_time": "2022-03-07T10:48:52.081Z"
   },
   {
    "duration": 298,
    "start_time": "2022-03-07T10:48:52.375Z"
   },
   {
    "duration": 287,
    "start_time": "2022-03-07T10:48:52.676Z"
   },
   {
    "duration": 291,
    "start_time": "2022-03-07T10:48:52.973Z"
   },
   {
    "duration": 303,
    "start_time": "2022-03-07T10:48:53.267Z"
   },
   {
    "duration": 428,
    "start_time": "2022-03-07T10:48:53.574Z"
   },
   {
    "duration": 325,
    "start_time": "2022-03-07T10:48:54.005Z"
   },
   {
    "duration": 444,
    "start_time": "2022-03-07T10:48:54.332Z"
   },
   {
    "duration": 1406,
    "start_time": "2022-03-07T10:48:54.779Z"
   },
   {
    "duration": 19,
    "start_time": "2022-03-07T10:48:56.188Z"
   },
   {
    "duration": 1125,
    "start_time": "2022-03-07T10:48:56.210Z"
   },
   {
    "duration": 20,
    "start_time": "2022-03-07T10:48:57.338Z"
   },
   {
    "duration": 283,
    "start_time": "2022-03-07T10:58:58.049Z"
   },
   {
    "duration": 111,
    "start_time": "2022-03-07T11:00:11.840Z"
   },
   {
    "duration": 277,
    "start_time": "2022-03-07T11:00:44.986Z"
   },
   {
    "duration": 382,
    "start_time": "2022-03-07T11:01:39.038Z"
   },
   {
    "duration": 285,
    "start_time": "2022-03-07T11:02:33.885Z"
   },
   {
    "duration": 273,
    "start_time": "2022-03-07T11:03:21.870Z"
   },
   {
    "duration": 269,
    "start_time": "2022-03-07T11:03:49.899Z"
   },
   {
    "duration": 9,
    "start_time": "2022-03-07T11:17:15.497Z"
   },
   {
    "duration": 442,
    "start_time": "2022-03-07T11:17:40.511Z"
   },
   {
    "duration": 5,
    "start_time": "2022-03-07T11:18:25.144Z"
   },
   {
    "duration": 8,
    "start_time": "2022-03-07T11:23:05.268Z"
   },
   {
    "duration": 1598,
    "start_time": "2022-03-07T11:23:18.572Z"
   },
   {
    "duration": 212,
    "start_time": "2022-03-07T11:23:20.174Z"
   },
   {
    "duration": 20,
    "start_time": "2022-03-07T11:23:20.388Z"
   },
   {
    "duration": 16,
    "start_time": "2022-03-07T11:23:20.411Z"
   },
   {
    "duration": 72,
    "start_time": "2022-03-07T11:23:20.430Z"
   },
   {
    "duration": 4,
    "start_time": "2022-03-07T11:23:20.504Z"
   },
   {
    "duration": 33,
    "start_time": "2022-03-07T11:23:20.510Z"
   },
   {
    "duration": 49,
    "start_time": "2022-03-07T11:23:20.547Z"
   },
   {
    "duration": 46,
    "start_time": "2022-03-07T11:23:20.599Z"
   },
   {
    "duration": 44,
    "start_time": "2022-03-07T11:23:20.647Z"
   },
   {
    "duration": 12,
    "start_time": "2022-03-07T11:23:20.693Z"
   },
   {
    "duration": 11,
    "start_time": "2022-03-07T11:23:20.708Z"
   },
   {
    "duration": 12,
    "start_time": "2022-03-07T11:23:20.722Z"
   },
   {
    "duration": 3,
    "start_time": "2022-03-07T11:23:20.774Z"
   },
   {
    "duration": 41,
    "start_time": "2022-03-07T11:23:20.779Z"
   },
   {
    "duration": 18,
    "start_time": "2022-03-07T11:23:20.822Z"
   },
   {
    "duration": 38,
    "start_time": "2022-03-07T11:23:20.843Z"
   },
   {
    "duration": 9,
    "start_time": "2022-03-07T11:23:20.883Z"
   },
   {
    "duration": 42,
    "start_time": "2022-03-07T11:23:20.895Z"
   },
   {
    "duration": 514,
    "start_time": "2022-03-07T11:23:20.939Z"
   },
   {
    "duration": 31,
    "start_time": "2022-03-07T11:23:21.455Z"
   },
   {
    "duration": 7,
    "start_time": "2022-03-07T11:23:21.488Z"
   },
   {
    "duration": 12,
    "start_time": "2022-03-07T11:23:21.501Z"
   },
   {
    "duration": 62,
    "start_time": "2022-03-07T11:23:21.516Z"
   },
   {
    "duration": 599,
    "start_time": "2022-03-07T11:23:21.580Z"
   },
   {
    "duration": 10,
    "start_time": "2022-03-07T11:23:22.182Z"
   },
   {
    "duration": 20,
    "start_time": "2022-03-07T11:23:22.195Z"
   },
   {
    "duration": 746,
    "start_time": "2022-03-07T11:23:22.217Z"
   },
   {
    "duration": 23,
    "start_time": "2022-03-07T11:23:22.965Z"
   },
   {
    "duration": 5553,
    "start_time": "2022-03-07T11:23:22.991Z"
   },
   {
    "duration": 8,
    "start_time": "2022-03-07T11:23:28.548Z"
   },
   {
    "duration": 12,
    "start_time": "2022-03-07T11:23:28.574Z"
   },
   {
    "duration": 36,
    "start_time": "2022-03-07T11:23:28.589Z"
   },
   {
    "duration": 52,
    "start_time": "2022-03-07T11:23:28.628Z"
   },
   {
    "duration": 542,
    "start_time": "2022-03-07T11:23:28.683Z"
   },
   {
    "duration": 307,
    "start_time": "2022-03-07T11:23:29.228Z"
   },
   {
    "duration": 296,
    "start_time": "2022-03-07T11:23:29.538Z"
   },
   {
    "duration": 325,
    "start_time": "2022-03-07T11:23:29.836Z"
   },
   {
    "duration": 309,
    "start_time": "2022-03-07T11:23:30.164Z"
   },
   {
    "duration": 310,
    "start_time": "2022-03-07T11:23:30.476Z"
   },
   {
    "duration": 310,
    "start_time": "2022-03-07T11:23:30.790Z"
   },
   {
    "duration": 387,
    "start_time": "2022-03-07T11:23:31.102Z"
   },
   {
    "duration": 481,
    "start_time": "2022-03-07T11:23:31.492Z"
   },
   {
    "duration": 1345,
    "start_time": "2022-03-07T11:23:31.975Z"
   },
   {
    "duration": 20,
    "start_time": "2022-03-07T11:23:33.323Z"
   },
   {
    "duration": 1170,
    "start_time": "2022-03-07T11:23:33.346Z"
   },
   {
    "duration": 22,
    "start_time": "2022-03-07T11:23:34.520Z"
   },
   {
    "duration": 24,
    "start_time": "2022-03-07T11:27:51.770Z"
   },
   {
    "duration": 5,
    "start_time": "2022-03-07T11:28:13.637Z"
   },
   {
    "duration": 10,
    "start_time": "2022-03-07T11:28:36.993Z"
   },
   {
    "duration": 115,
    "start_time": "2022-03-07T11:36:47.169Z"
   },
   {
    "duration": 740,
    "start_time": "2022-03-07T11:37:54.065Z"
   },
   {
    "duration": 784,
    "start_time": "2022-03-07T11:45:47.638Z"
   },
   {
    "duration": 717,
    "start_time": "2022-03-07T11:51:10.252Z"
   },
   {
    "duration": 1152,
    "start_time": "2022-03-07T11:52:05.563Z"
   },
   {
    "duration": 731,
    "start_time": "2022-03-07T11:52:29.000Z"
   },
   {
    "duration": 1165,
    "start_time": "2022-03-07T11:52:46.368Z"
   },
   {
    "duration": 580,
    "start_time": "2022-03-07T11:53:07.822Z"
   },
   {
    "duration": 658,
    "start_time": "2022-03-07T11:53:17.934Z"
   },
   {
    "duration": 670,
    "start_time": "2022-03-07T11:53:29.994Z"
   },
   {
    "duration": 1010,
    "start_time": "2022-03-07T11:53:42.055Z"
   },
   {
    "duration": 655,
    "start_time": "2022-03-07T11:53:52.593Z"
   },
   {
    "duration": 654,
    "start_time": "2022-03-07T11:54:48.026Z"
   },
   {
    "duration": 778,
    "start_time": "2022-03-07T11:54:55.897Z"
   },
   {
    "duration": 654,
    "start_time": "2022-03-07T11:55:02.381Z"
   },
   {
    "duration": 802,
    "start_time": "2022-03-07T11:56:18.021Z"
   },
   {
    "duration": 32,
    "start_time": "2022-03-07T12:00:09.707Z"
   },
   {
    "duration": 31,
    "start_time": "2022-03-07T12:02:37.099Z"
   },
   {
    "duration": 18,
    "start_time": "2022-03-07T12:06:04.993Z"
   },
   {
    "duration": 17,
    "start_time": "2022-03-07T12:06:33.225Z"
   },
   {
    "duration": 24,
    "start_time": "2022-03-07T12:07:12.760Z"
   },
   {
    "duration": 681,
    "start_time": "2022-03-07T12:08:45.383Z"
   },
   {
    "duration": 800,
    "start_time": "2022-03-07T12:09:35.185Z"
   },
   {
    "duration": 35,
    "start_time": "2022-03-07T12:09:46.122Z"
   },
   {
    "duration": 329,
    "start_time": "2022-03-07T12:11:41.685Z"
   },
   {
    "duration": 331,
    "start_time": "2022-03-07T12:11:51.407Z"
   },
   {
    "duration": 341,
    "start_time": "2022-03-07T12:12:59.123Z"
   },
   {
    "duration": 105,
    "start_time": "2022-03-07T12:15:13.882Z"
   },
   {
    "duration": 320,
    "start_time": "2022-03-07T12:15:21.216Z"
   },
   {
    "duration": 309,
    "start_time": "2022-03-07T12:15:39.354Z"
   },
   {
    "duration": 100,
    "start_time": "2022-03-07T12:16:35.415Z"
   },
   {
    "duration": 24,
    "start_time": "2022-03-07T12:16:54.529Z"
   },
   {
    "duration": 1702,
    "start_time": "2022-03-07T12:20:22.751Z"
   },
   {
    "duration": 143,
    "start_time": "2022-03-07T12:20:24.456Z"
   },
   {
    "duration": 21,
    "start_time": "2022-03-07T12:20:24.602Z"
   },
   {
    "duration": 21,
    "start_time": "2022-03-07T12:20:24.626Z"
   },
   {
    "duration": 65,
    "start_time": "2022-03-07T12:20:24.649Z"
   },
   {
    "duration": 4,
    "start_time": "2022-03-07T12:20:24.717Z"
   },
   {
    "duration": 51,
    "start_time": "2022-03-07T12:20:24.723Z"
   },
   {
    "duration": 27,
    "start_time": "2022-03-07T12:20:24.778Z"
   },
   {
    "duration": 67,
    "start_time": "2022-03-07T12:20:24.809Z"
   },
   {
    "duration": 23,
    "start_time": "2022-03-07T12:20:24.878Z"
   },
   {
    "duration": 13,
    "start_time": "2022-03-07T12:20:24.903Z"
   },
   {
    "duration": 11,
    "start_time": "2022-03-07T12:20:24.918Z"
   },
   {
    "duration": 46,
    "start_time": "2022-03-07T12:20:24.931Z"
   },
   {
    "duration": 3,
    "start_time": "2022-03-07T12:20:24.980Z"
   },
   {
    "duration": 40,
    "start_time": "2022-03-07T12:20:24.986Z"
   },
   {
    "duration": 52,
    "start_time": "2022-03-07T12:20:25.029Z"
   },
   {
    "duration": 10,
    "start_time": "2022-03-07T12:20:25.083Z"
   },
   {
    "duration": 9,
    "start_time": "2022-03-07T12:20:25.095Z"
   },
   {
    "duration": 41,
    "start_time": "2022-03-07T12:20:25.106Z"
   },
   {
    "duration": 618,
    "start_time": "2022-03-07T12:20:25.173Z"
   },
   {
    "duration": 26,
    "start_time": "2022-03-07T12:20:25.794Z"
   },
   {
    "duration": 8,
    "start_time": "2022-03-07T12:20:25.823Z"
   },
   {
    "duration": 48,
    "start_time": "2022-03-07T12:20:25.836Z"
   },
   {
    "duration": 25,
    "start_time": "2022-03-07T12:20:25.888Z"
   },
   {
    "duration": 626,
    "start_time": "2022-03-07T12:20:25.915Z"
   },
   {
    "duration": 16,
    "start_time": "2022-03-07T12:20:26.543Z"
   },
   {
    "duration": 25,
    "start_time": "2022-03-07T12:20:26.562Z"
   },
   {
    "duration": 698,
    "start_time": "2022-03-07T12:20:26.590Z"
   },
   {
    "duration": 25,
    "start_time": "2022-03-07T12:20:27.291Z"
   },
   {
    "duration": 29,
    "start_time": "2022-03-07T12:20:27.319Z"
   },
   {
    "duration": 5904,
    "start_time": "2022-03-07T12:20:27.374Z"
   },
   {
    "duration": 8,
    "start_time": "2022-03-07T12:20:33.280Z"
   },
   {
    "duration": 10,
    "start_time": "2022-03-07T12:20:33.291Z"
   },
   {
    "duration": 72,
    "start_time": "2022-03-07T12:20:33.303Z"
   },
   {
    "duration": 17,
    "start_time": "2022-03-07T12:20:33.377Z"
   },
   {
    "duration": 555,
    "start_time": "2022-03-07T12:20:33.397Z"
   },
   {
    "duration": 311,
    "start_time": "2022-03-07T12:20:33.954Z"
   },
   {
    "duration": 295,
    "start_time": "2022-03-07T12:20:34.268Z"
   },
   {
    "duration": 296,
    "start_time": "2022-03-07T12:20:34.566Z"
   },
   {
    "duration": 298,
    "start_time": "2022-03-07T12:20:34.865Z"
   },
   {
    "duration": 292,
    "start_time": "2022-03-07T12:20:35.174Z"
   },
   {
    "duration": 303,
    "start_time": "2022-03-07T12:20:35.473Z"
   },
   {
    "duration": 295,
    "start_time": "2022-03-07T12:20:35.779Z"
   },
   {
    "duration": 472,
    "start_time": "2022-03-07T12:20:36.076Z"
   },
   {
    "duration": 1256,
    "start_time": "2022-03-07T12:20:36.551Z"
   },
   {
    "duration": 17,
    "start_time": "2022-03-07T12:20:37.810Z"
   },
   {
    "duration": 1142,
    "start_time": "2022-03-07T12:20:37.831Z"
   },
   {
    "duration": 22,
    "start_time": "2022-03-07T12:20:38.976Z"
   },
   {
    "duration": 1480,
    "start_time": "2022-03-07T12:26:46.777Z"
   },
   {
    "duration": 149,
    "start_time": "2022-03-07T12:26:48.259Z"
   },
   {
    "duration": 21,
    "start_time": "2022-03-07T12:26:48.411Z"
   },
   {
    "duration": 23,
    "start_time": "2022-03-07T12:26:48.435Z"
   },
   {
    "duration": 52,
    "start_time": "2022-03-07T12:26:48.460Z"
   },
   {
    "duration": 5,
    "start_time": "2022-03-07T12:26:48.514Z"
   },
   {
    "duration": 52,
    "start_time": "2022-03-07T12:26:48.521Z"
   },
   {
    "duration": 25,
    "start_time": "2022-03-07T12:26:48.577Z"
   },
   {
    "duration": 68,
    "start_time": "2022-03-07T12:26:48.605Z"
   },
   {
    "duration": 24,
    "start_time": "2022-03-07T12:26:48.676Z"
   },
   {
    "duration": 12,
    "start_time": "2022-03-07T12:26:48.702Z"
   },
   {
    "duration": 11,
    "start_time": "2022-03-07T12:26:48.717Z"
   },
   {
    "duration": 49,
    "start_time": "2022-03-07T12:26:48.730Z"
   },
   {
    "duration": 5,
    "start_time": "2022-03-07T12:26:48.782Z"
   },
   {
    "duration": 45,
    "start_time": "2022-03-07T12:26:48.790Z"
   },
   {
    "duration": 44,
    "start_time": "2022-03-07T12:26:48.837Z"
   },
   {
    "duration": 10,
    "start_time": "2022-03-07T12:26:48.883Z"
   },
   {
    "duration": 11,
    "start_time": "2022-03-07T12:26:48.895Z"
   },
   {
    "duration": 70,
    "start_time": "2022-03-07T12:26:48.909Z"
   },
   {
    "duration": 513,
    "start_time": "2022-03-07T12:26:48.981Z"
   },
   {
    "duration": 29,
    "start_time": "2022-03-07T12:26:49.496Z"
   },
   {
    "duration": 9,
    "start_time": "2022-03-07T12:26:49.528Z"
   },
   {
    "duration": 12,
    "start_time": "2022-03-07T12:26:49.573Z"
   },
   {
    "duration": 28,
    "start_time": "2022-03-07T12:26:49.588Z"
   },
   {
    "duration": 659,
    "start_time": "2022-03-07T12:26:49.618Z"
   },
   {
    "duration": 11,
    "start_time": "2022-03-07T12:26:50.279Z"
   },
   {
    "duration": 31,
    "start_time": "2022-03-07T12:26:50.293Z"
   },
   {
    "duration": 671,
    "start_time": "2022-03-07T12:26:50.327Z"
   },
   {
    "duration": 24,
    "start_time": "2022-03-07T12:26:51.001Z"
   },
   {
    "duration": 49,
    "start_time": "2022-03-07T12:26:51.028Z"
   },
   {
    "duration": 5072,
    "start_time": "2022-03-07T12:26:51.080Z"
   },
   {
    "duration": 20,
    "start_time": "2022-03-07T12:26:56.154Z"
   },
   {
    "duration": 8,
    "start_time": "2022-03-07T12:26:56.176Z"
   },
   {
    "duration": 30,
    "start_time": "2022-03-07T12:26:56.187Z"
   },
   {
    "duration": 60,
    "start_time": "2022-03-07T12:26:56.219Z"
   },
   {
    "duration": 676,
    "start_time": "2022-03-07T12:26:56.282Z"
   },
   {
    "duration": 457,
    "start_time": "2022-03-07T12:26:56.961Z"
   },
   {
    "duration": 287,
    "start_time": "2022-03-07T12:26:57.420Z"
   },
   {
    "duration": 296,
    "start_time": "2022-03-07T12:26:57.710Z"
   },
   {
    "duration": 313,
    "start_time": "2022-03-07T12:26:58.009Z"
   },
   {
    "duration": 301,
    "start_time": "2022-03-07T12:26:58.324Z"
   },
   {
    "duration": 298,
    "start_time": "2022-03-07T12:26:58.627Z"
   },
   {
    "duration": 284,
    "start_time": "2022-03-07T12:26:58.927Z"
   },
   {
    "duration": 452,
    "start_time": "2022-03-07T12:26:59.214Z"
   },
   {
    "duration": 1231,
    "start_time": "2022-03-07T12:26:59.673Z"
   },
   {
    "duration": 19,
    "start_time": "2022-03-07T12:27:00.906Z"
   },
   {
    "duration": 1115,
    "start_time": "2022-03-07T12:27:00.928Z"
   },
   {
    "duration": 29,
    "start_time": "2022-03-07T12:27:02.046Z"
   },
   {
    "duration": 24,
    "start_time": "2022-03-07T12:28:29.577Z"
   },
   {
    "duration": 101,
    "start_time": "2022-03-07T12:28:52.943Z"
   },
   {
    "duration": 16,
    "start_time": "2022-03-07T12:29:35.388Z"
   },
   {
    "duration": 14,
    "start_time": "2022-03-07T12:32:39.409Z"
   },
   {
    "duration": 13,
    "start_time": "2022-03-07T12:33:13.403Z"
   },
   {
    "duration": 26,
    "start_time": "2022-03-07T13:09:34.711Z"
   },
   {
    "duration": 6,
    "start_time": "2022-03-07T13:09:49.022Z"
   },
   {
    "duration": 1591,
    "start_time": "2022-03-07T13:14:02.082Z"
   },
   {
    "duration": 116,
    "start_time": "2022-03-07T13:14:03.676Z"
   },
   {
    "duration": 20,
    "start_time": "2022-03-07T13:14:03.795Z"
   },
   {
    "duration": 20,
    "start_time": "2022-03-07T13:14:03.818Z"
   },
   {
    "duration": 61,
    "start_time": "2022-03-07T13:14:03.840Z"
   },
   {
    "duration": 4,
    "start_time": "2022-03-07T13:14:03.903Z"
   },
   {
    "duration": 35,
    "start_time": "2022-03-07T13:14:03.909Z"
   },
   {
    "duration": 47,
    "start_time": "2022-03-07T13:14:03.946Z"
   },
   {
    "duration": 44,
    "start_time": "2022-03-07T13:14:03.998Z"
   },
   {
    "duration": 29,
    "start_time": "2022-03-07T13:14:04.045Z"
   },
   {
    "duration": 13,
    "start_time": "2022-03-07T13:14:04.076Z"
   },
   {
    "duration": 8283,
    "start_time": "2022-03-07T13:14:04.092Z"
   },
   {
    "duration": -1007,
    "start_time": "2022-03-07T13:14:13.386Z"
   },
   {
    "duration": -1018,
    "start_time": "2022-03-07T13:14:13.399Z"
   },
   {
    "duration": -1043,
    "start_time": "2022-03-07T13:14:13.425Z"
   },
   {
    "duration": -1066,
    "start_time": "2022-03-07T13:14:13.450Z"
   },
   {
    "duration": -1073,
    "start_time": "2022-03-07T13:14:13.459Z"
   },
   {
    "duration": -1275,
    "start_time": "2022-03-07T13:14:13.663Z"
   },
   {
    "duration": -1278,
    "start_time": "2022-03-07T13:14:13.668Z"
   },
   {
    "duration": -1284,
    "start_time": "2022-03-07T13:14:13.676Z"
   },
   {
    "duration": -1371,
    "start_time": "2022-03-07T13:14:13.765Z"
   },
   {
    "duration": -1377,
    "start_time": "2022-03-07T13:14:13.773Z"
   },
   {
    "duration": -1383,
    "start_time": "2022-03-07T13:14:13.780Z"
   },
   {
    "duration": -1388,
    "start_time": "2022-03-07T13:14:13.787Z"
   },
   {
    "duration": -1391,
    "start_time": "2022-03-07T13:14:13.792Z"
   },
   {
    "duration": -1395,
    "start_time": "2022-03-07T13:14:13.798Z"
   },
   {
    "duration": -1398,
    "start_time": "2022-03-07T13:14:13.804Z"
   },
   {
    "duration": -1405,
    "start_time": "2022-03-07T13:14:13.812Z"
   },
   {
    "duration": -1440,
    "start_time": "2022-03-07T13:14:13.849Z"
   },
   {
    "duration": -1444,
    "start_time": "2022-03-07T13:14:13.855Z"
   },
   {
    "duration": -1447,
    "start_time": "2022-03-07T13:14:13.860Z"
   },
   {
    "duration": -1461,
    "start_time": "2022-03-07T13:14:13.876Z"
   },
   {
    "duration": -1410,
    "start_time": "2022-03-07T13:14:13.883Z"
   },
   {
    "duration": -1436,
    "start_time": "2022-03-07T13:14:13.910Z"
   },
   {
    "duration": -1460,
    "start_time": "2022-03-07T13:14:13.936Z"
   },
   {
    "duration": -1466,
    "start_time": "2022-03-07T13:14:13.943Z"
   },
   {
    "duration": -1470,
    "start_time": "2022-03-07T13:14:13.949Z"
   },
   {
    "duration": -1475,
    "start_time": "2022-03-07T13:14:13.955Z"
   },
   {
    "duration": -1518,
    "start_time": "2022-03-07T13:14:14.000Z"
   },
   {
    "duration": -1539,
    "start_time": "2022-03-07T13:14:14.023Z"
   },
   {
    "duration": -1591,
    "start_time": "2022-03-07T13:14:14.076Z"
   },
   {
    "duration": -1615,
    "start_time": "2022-03-07T13:14:14.102Z"
   },
   {
    "duration": -1621,
    "start_time": "2022-03-07T13:14:14.109Z"
   },
   {
    "duration": -1627,
    "start_time": "2022-03-07T13:14:14.117Z"
   },
   {
    "duration": -1673,
    "start_time": "2022-03-07T13:14:14.164Z"
   },
   {
    "duration": -1677,
    "start_time": "2022-03-07T13:14:14.170Z"
   },
   {
    "duration": -1688,
    "start_time": "2022-03-07T13:14:14.182Z"
   },
   {
    "duration": -1693,
    "start_time": "2022-03-07T13:14:14.188Z"
   },
   {
    "duration": -1723,
    "start_time": "2022-03-07T13:14:14.219Z"
   },
   {
    "duration": 42,
    "start_time": "2022-03-07T13:15:05.085Z"
   },
   {
    "duration": 17,
    "start_time": "2022-03-07T13:15:51.294Z"
   },
   {
    "duration": 17,
    "start_time": "2022-03-07T13:16:52.879Z"
   },
   {
    "duration": 7,
    "start_time": "2022-03-07T13:17:38.338Z"
   },
   {
    "duration": 18,
    "start_time": "2022-03-07T13:18:21.559Z"
   },
   {
    "duration": 1488,
    "start_time": "2022-03-07T13:18:28.872Z"
   },
   {
    "duration": 182,
    "start_time": "2022-03-07T13:18:30.363Z"
   },
   {
    "duration": 22,
    "start_time": "2022-03-07T13:18:30.548Z"
   },
   {
    "duration": 18,
    "start_time": "2022-03-07T13:18:30.573Z"
   },
   {
    "duration": 41,
    "start_time": "2022-03-07T13:18:30.595Z"
   },
   {
    "duration": 5,
    "start_time": "2022-03-07T13:18:30.639Z"
   },
   {
    "duration": 56,
    "start_time": "2022-03-07T13:18:30.646Z"
   },
   {
    "duration": 36,
    "start_time": "2022-03-07T13:18:30.706Z"
   },
   {
    "duration": 54,
    "start_time": "2022-03-07T13:18:30.744Z"
   },
   {
    "duration": 18,
    "start_time": "2022-03-07T13:18:30.801Z"
   },
   {
    "duration": 30,
    "start_time": "2022-03-07T13:18:30.821Z"
   },
   {
    "duration": 13,
    "start_time": "2022-03-07T13:18:30.874Z"
   },
   {
    "duration": 28,
    "start_time": "2022-03-07T13:18:30.890Z"
   },
   {
    "duration": 15,
    "start_time": "2022-03-07T13:18:30.921Z"
   },
   {
    "duration": 50,
    "start_time": "2022-03-07T13:18:30.939Z"
   },
   {
    "duration": 18,
    "start_time": "2022-03-07T13:18:30.991Z"
   },
   {
    "duration": 15,
    "start_time": "2022-03-07T13:18:31.011Z"
   },
   {
    "duration": 28,
    "start_time": "2022-03-07T13:18:31.028Z"
   },
   {
    "duration": 51,
    "start_time": "2022-03-07T13:18:31.058Z"
   },
   {
    "duration": 505,
    "start_time": "2022-03-07T13:18:31.112Z"
   },
   {
    "duration": 28,
    "start_time": "2022-03-07T13:18:31.619Z"
   },
   {
    "duration": 26,
    "start_time": "2022-03-07T13:18:31.649Z"
   },
   {
    "duration": 17,
    "start_time": "2022-03-07T13:18:31.681Z"
   },
   {
    "duration": 46,
    "start_time": "2022-03-07T13:18:31.701Z"
   },
   {
    "duration": 598,
    "start_time": "2022-03-07T13:18:31.749Z"
   },
   {
    "duration": 12,
    "start_time": "2022-03-07T13:18:32.350Z"
   },
   {
    "duration": 21,
    "start_time": "2022-03-07T13:18:32.374Z"
   },
   {
    "duration": 1023,
    "start_time": "2022-03-07T13:18:32.397Z"
   },
   {
    "duration": 24,
    "start_time": "2022-03-07T13:18:33.423Z"
   },
   {
    "duration": 41,
    "start_time": "2022-03-07T13:18:33.449Z"
   },
   {
    "duration": 5075,
    "start_time": "2022-03-07T13:18:33.493Z"
   },
   {
    "duration": 8,
    "start_time": "2022-03-07T13:18:38.571Z"
   },
   {
    "duration": 13,
    "start_time": "2022-03-07T13:18:38.581Z"
   },
   {
    "duration": 31,
    "start_time": "2022-03-07T13:18:38.596Z"
   },
   {
    "duration": 57,
    "start_time": "2022-03-07T13:18:38.630Z"
   },
   {
    "duration": 533,
    "start_time": "2022-03-07T13:18:38.690Z"
   },
   {
    "duration": 287,
    "start_time": "2022-03-07T13:18:39.225Z"
   },
   {
    "duration": 289,
    "start_time": "2022-03-07T13:18:39.515Z"
   },
   {
    "duration": 289,
    "start_time": "2022-03-07T13:18:39.806Z"
   },
   {
    "duration": 289,
    "start_time": "2022-03-07T13:18:40.098Z"
   },
   {
    "duration": 296,
    "start_time": "2022-03-07T13:18:40.389Z"
   },
   {
    "duration": 293,
    "start_time": "2022-03-07T13:18:40.687Z"
   },
   {
    "duration": 279,
    "start_time": "2022-03-07T13:18:40.983Z"
   },
   {
    "duration": 458,
    "start_time": "2022-03-07T13:18:41.264Z"
   },
   {
    "duration": 1217,
    "start_time": "2022-03-07T13:18:41.724Z"
   },
   {
    "duration": 34,
    "start_time": "2022-03-07T13:18:42.944Z"
   },
   {
    "duration": 1121,
    "start_time": "2022-03-07T13:18:42.982Z"
   },
   {
    "duration": 18,
    "start_time": "2022-03-07T13:18:44.106Z"
   },
   {
    "duration": 1539,
    "start_time": "2022-03-07T13:19:37.719Z"
   },
   {
    "duration": 136,
    "start_time": "2022-03-07T13:19:39.261Z"
   },
   {
    "duration": 20,
    "start_time": "2022-03-07T13:19:39.400Z"
   },
   {
    "duration": 16,
    "start_time": "2022-03-07T13:19:39.423Z"
   },
   {
    "duration": 58,
    "start_time": "2022-03-07T13:19:39.442Z"
   },
   {
    "duration": 4,
    "start_time": "2022-03-07T13:19:39.502Z"
   },
   {
    "duration": 31,
    "start_time": "2022-03-07T13:19:39.509Z"
   },
   {
    "duration": 48,
    "start_time": "2022-03-07T13:19:39.544Z"
   },
   {
    "duration": 46,
    "start_time": "2022-03-07T13:19:39.595Z"
   },
   {
    "duration": 42,
    "start_time": "2022-03-07T13:19:39.643Z"
   },
   {
    "duration": 39,
    "start_time": "2022-03-07T13:19:39.688Z"
   },
   {
    "duration": 45,
    "start_time": "2022-03-07T13:19:39.730Z"
   },
   {
    "duration": 17,
    "start_time": "2022-03-07T13:19:39.778Z"
   },
   {
    "duration": 3,
    "start_time": "2022-03-07T13:19:39.798Z"
   },
   {
    "duration": 43,
    "start_time": "2022-03-07T13:19:39.804Z"
   },
   {
    "duration": 19,
    "start_time": "2022-03-07T13:19:39.874Z"
   },
   {
    "duration": 9,
    "start_time": "2022-03-07T13:19:39.895Z"
   },
   {
    "duration": 9,
    "start_time": "2022-03-07T13:19:39.906Z"
   },
   {
    "duration": 73,
    "start_time": "2022-03-07T13:19:39.918Z"
   },
   {
    "duration": 520,
    "start_time": "2022-03-07T13:19:39.994Z"
   },
   {
    "duration": 27,
    "start_time": "2022-03-07T13:19:40.517Z"
   },
   {
    "duration": 27,
    "start_time": "2022-03-07T13:19:40.546Z"
   },
   {
    "duration": 14,
    "start_time": "2022-03-07T13:19:40.579Z"
   },
   {
    "duration": 26,
    "start_time": "2022-03-07T13:19:40.597Z"
   },
   {
    "duration": 757,
    "start_time": "2022-03-07T13:19:40.625Z"
   },
   {
    "duration": 11,
    "start_time": "2022-03-07T13:19:41.384Z"
   },
   {
    "duration": 21,
    "start_time": "2022-03-07T13:19:41.398Z"
   },
   {
    "duration": 731,
    "start_time": "2022-03-07T13:19:41.422Z"
   },
   {
    "duration": 39,
    "start_time": "2022-03-07T13:19:42.156Z"
   },
   {
    "duration": 29,
    "start_time": "2022-03-07T13:19:42.198Z"
   },
   {
    "duration": 5361,
    "start_time": "2022-03-07T13:19:42.229Z"
   },
   {
    "duration": 7,
    "start_time": "2022-03-07T13:19:47.592Z"
   },
   {
    "duration": 7,
    "start_time": "2022-03-07T13:19:47.601Z"
   },
   {
    "duration": 77,
    "start_time": "2022-03-07T13:19:47.611Z"
   },
   {
    "duration": 19,
    "start_time": "2022-03-07T13:19:47.691Z"
   },
   {
    "duration": 546,
    "start_time": "2022-03-07T13:19:47.713Z"
   },
   {
    "duration": 302,
    "start_time": "2022-03-07T13:19:48.262Z"
   },
   {
    "duration": 298,
    "start_time": "2022-03-07T13:19:48.566Z"
   },
   {
    "duration": 297,
    "start_time": "2022-03-07T13:19:48.867Z"
   },
   {
    "duration": 294,
    "start_time": "2022-03-07T13:19:49.167Z"
   },
   {
    "duration": 312,
    "start_time": "2022-03-07T13:19:49.464Z"
   },
   {
    "duration": 303,
    "start_time": "2022-03-07T13:19:49.778Z"
   },
   {
    "duration": 290,
    "start_time": "2022-03-07T13:19:50.083Z"
   },
   {
    "duration": 480,
    "start_time": "2022-03-07T13:19:50.375Z"
   },
   {
    "duration": 1250,
    "start_time": "2022-03-07T13:19:50.857Z"
   },
   {
    "duration": 19,
    "start_time": "2022-03-07T13:19:52.110Z"
   },
   {
    "duration": 1328,
    "start_time": "2022-03-07T13:19:52.132Z"
   },
   {
    "duration": 24,
    "start_time": "2022-03-07T13:19:53.462Z"
   },
   {
    "duration": 16,
    "start_time": "2022-03-07T13:21:26.232Z"
   },
   {
    "duration": 2066,
    "start_time": "2022-03-07T13:21:33.498Z"
   },
   {
    "duration": 153,
    "start_time": "2022-03-07T13:21:35.567Z"
   },
   {
    "duration": 22,
    "start_time": "2022-03-07T13:21:35.723Z"
   },
   {
    "duration": 30,
    "start_time": "2022-03-07T13:21:35.749Z"
   },
   {
    "duration": 46,
    "start_time": "2022-03-07T13:21:35.782Z"
   },
   {
    "duration": 4,
    "start_time": "2022-03-07T13:21:35.830Z"
   },
   {
    "duration": 57,
    "start_time": "2022-03-07T13:21:35.837Z"
   },
   {
    "duration": 31,
    "start_time": "2022-03-07T13:21:35.898Z"
   },
   {
    "duration": 61,
    "start_time": "2022-03-07T13:21:35.932Z"
   },
   {
    "duration": 19,
    "start_time": "2022-03-07T13:21:35.995Z"
   },
   {
    "duration": 16,
    "start_time": "2022-03-07T13:21:36.017Z"
   },
   {
    "duration": 13,
    "start_time": "2022-03-07T13:21:36.072Z"
   },
   {
    "duration": 29,
    "start_time": "2022-03-07T13:21:36.088Z"
   },
   {
    "duration": 3,
    "start_time": "2022-03-07T13:21:36.120Z"
   },
   {
    "duration": 71,
    "start_time": "2022-03-07T13:21:36.126Z"
   },
   {
    "duration": 19,
    "start_time": "2022-03-07T13:21:36.200Z"
   },
   {
    "duration": 9,
    "start_time": "2022-03-07T13:21:36.221Z"
   },
   {
    "duration": 40,
    "start_time": "2022-03-07T13:21:36.233Z"
   },
   {
    "duration": 41,
    "start_time": "2022-03-07T13:21:36.276Z"
   },
   {
    "duration": 513,
    "start_time": "2022-03-07T13:21:36.321Z"
   },
   {
    "duration": 45,
    "start_time": "2022-03-07T13:21:36.836Z"
   },
   {
    "duration": 7,
    "start_time": "2022-03-07T13:21:36.883Z"
   },
   {
    "duration": 23,
    "start_time": "2022-03-07T13:21:36.896Z"
   },
   {
    "duration": 31,
    "start_time": "2022-03-07T13:21:36.922Z"
   },
   {
    "duration": 592,
    "start_time": "2022-03-07T13:21:36.973Z"
   },
   {
    "duration": 15,
    "start_time": "2022-03-07T13:21:37.567Z"
   },
   {
    "duration": 30,
    "start_time": "2022-03-07T13:21:37.584Z"
   },
   {
    "duration": 685,
    "start_time": "2022-03-07T13:21:37.617Z"
   },
   {
    "duration": 25,
    "start_time": "2022-03-07T13:21:38.304Z"
   },
   {
    "duration": 49,
    "start_time": "2022-03-07T13:21:38.331Z"
   },
   {
    "duration": 8044,
    "start_time": "2022-03-07T13:21:38.383Z"
   },
   {
    "duration": 8,
    "start_time": "2022-03-07T13:21:46.430Z"
   },
   {
    "duration": 38,
    "start_time": "2022-03-07T13:21:46.441Z"
   },
   {
    "duration": 37,
    "start_time": "2022-03-07T13:21:46.482Z"
   },
   {
    "duration": 51,
    "start_time": "2022-03-07T13:21:46.522Z"
   },
   {
    "duration": 544,
    "start_time": "2022-03-07T13:21:46.576Z"
   },
   {
    "duration": 294,
    "start_time": "2022-03-07T13:21:47.122Z"
   },
   {
    "duration": 294,
    "start_time": "2022-03-07T13:21:47.419Z"
   },
   {
    "duration": 294,
    "start_time": "2022-03-07T13:21:47.716Z"
   },
   {
    "duration": 315,
    "start_time": "2022-03-07T13:21:48.012Z"
   },
   {
    "duration": 309,
    "start_time": "2022-03-07T13:21:48.330Z"
   },
   {
    "duration": 301,
    "start_time": "2022-03-07T13:21:48.642Z"
   },
   {
    "duration": 288,
    "start_time": "2022-03-07T13:21:48.945Z"
   },
   {
    "duration": 484,
    "start_time": "2022-03-07T13:21:49.236Z"
   },
   {
    "duration": 1765,
    "start_time": "2022-03-07T13:21:49.722Z"
   },
   {
    "duration": 25,
    "start_time": "2022-03-07T13:21:51.491Z"
   },
   {
    "duration": 1893,
    "start_time": "2022-03-07T13:21:51.520Z"
   },
   {
    "duration": 21,
    "start_time": "2022-03-07T13:21:53.415Z"
   },
   {
    "duration": 5,
    "start_time": "2022-03-07T13:24:15.115Z"
   },
   {
    "duration": 13,
    "start_time": "2022-03-07T13:24:34.030Z"
   },
   {
    "duration": 18,
    "start_time": "2022-03-07T13:30:59.100Z"
   },
   {
    "duration": 281,
    "start_time": "2022-03-07T14:00:13.051Z"
   },
   {
    "duration": 107,
    "start_time": "2022-03-07T14:35:34.195Z"
   },
   {
    "duration": 152,
    "start_time": "2022-03-07T14:35:39.782Z"
   },
   {
    "duration": 728,
    "start_time": "2022-03-07T14:37:54.798Z"
   },
   {
    "duration": 645,
    "start_time": "2022-03-07T14:38:03.311Z"
   },
   {
    "duration": 665,
    "start_time": "2022-03-07T14:38:09.000Z"
   },
   {
    "duration": 762,
    "start_time": "2022-03-07T14:38:21.344Z"
   },
   {
    "duration": 647,
    "start_time": "2022-03-07T14:38:26.219Z"
   },
   {
    "duration": 686,
    "start_time": "2022-03-07T14:38:31.705Z"
   },
   {
    "duration": 637,
    "start_time": "2022-03-07T14:38:45.897Z"
   },
   {
    "duration": 637,
    "start_time": "2022-03-07T14:38:51.294Z"
   },
   {
    "duration": 772,
    "start_time": "2022-03-07T14:39:04.003Z"
   },
   {
    "duration": 659,
    "start_time": "2022-03-07T14:39:31.827Z"
   },
   {
    "duration": 649,
    "start_time": "2022-03-07T14:39:39.635Z"
   },
   {
    "duration": 653,
    "start_time": "2022-03-07T14:39:53.564Z"
   },
   {
    "duration": 653,
    "start_time": "2022-03-07T14:40:03.013Z"
   },
   {
    "duration": 769,
    "start_time": "2022-03-07T14:41:19.699Z"
   },
   {
    "duration": 1312,
    "start_time": "2022-03-07T14:41:47.297Z"
   },
   {
    "duration": 784,
    "start_time": "2022-03-07T14:46:12.762Z"
   },
   {
    "duration": 857,
    "start_time": "2022-03-07T14:46:45.960Z"
   },
   {
    "duration": 862,
    "start_time": "2022-03-07T14:46:50.649Z"
   },
   {
    "duration": 755,
    "start_time": "2022-03-07T14:47:03.125Z"
   },
   {
    "duration": 895,
    "start_time": "2022-03-07T14:47:26.227Z"
   },
   {
    "duration": 762,
    "start_time": "2022-03-07T14:47:41.047Z"
   },
   {
    "duration": 772,
    "start_time": "2022-03-07T14:47:53.938Z"
   },
   {
    "duration": 128,
    "start_time": "2022-03-07T14:58:41.119Z"
   },
   {
    "duration": 333,
    "start_time": "2022-03-07T14:58:50.688Z"
   },
   {
    "duration": 16,
    "start_time": "2022-03-07T14:58:59.312Z"
   },
   {
    "duration": 27,
    "start_time": "2022-03-07T14:59:07.206Z"
   },
   {
    "duration": 22,
    "start_time": "2022-03-07T15:00:24.489Z"
   },
   {
    "duration": 462,
    "start_time": "2022-03-07T15:01:04.811Z"
   },
   {
    "duration": 24,
    "start_time": "2022-03-07T15:02:53.363Z"
   },
   {
    "duration": 1547,
    "start_time": "2022-03-07T15:03:41.526Z"
   },
   {
    "duration": 197,
    "start_time": "2022-03-07T15:03:43.076Z"
   },
   {
    "duration": 23,
    "start_time": "2022-03-07T15:03:43.276Z"
   },
   {
    "duration": 16,
    "start_time": "2022-03-07T15:03:43.302Z"
   },
   {
    "duration": 72,
    "start_time": "2022-03-07T15:03:43.321Z"
   },
   {
    "duration": 4,
    "start_time": "2022-03-07T15:03:43.396Z"
   },
   {
    "duration": 53,
    "start_time": "2022-03-07T15:03:43.402Z"
   },
   {
    "duration": 32,
    "start_time": "2022-03-07T15:03:43.459Z"
   },
   {
    "duration": 49,
    "start_time": "2022-03-07T15:03:43.494Z"
   },
   {
    "duration": 39,
    "start_time": "2022-03-07T15:03:43.545Z"
   },
   {
    "duration": 10,
    "start_time": "2022-03-07T15:03:43.586Z"
   },
   {
    "duration": 29,
    "start_time": "2022-03-07T15:03:43.599Z"
   },
   {
    "duration": 22,
    "start_time": "2022-03-07T15:03:43.630Z"
   },
   {
    "duration": 11,
    "start_time": "2022-03-07T15:03:43.674Z"
   },
   {
    "duration": 34,
    "start_time": "2022-03-07T15:03:43.687Z"
   },
   {
    "duration": 56,
    "start_time": "2022-03-07T15:03:43.723Z"
   },
   {
    "duration": 19,
    "start_time": "2022-03-07T15:03:43.781Z"
   },
   {
    "duration": 22,
    "start_time": "2022-03-07T15:03:43.802Z"
   },
   {
    "duration": 51,
    "start_time": "2022-03-07T15:03:43.826Z"
   },
   {
    "duration": 482,
    "start_time": "2022-03-07T15:03:43.881Z"
   },
   {
    "duration": 29,
    "start_time": "2022-03-07T15:03:44.374Z"
   },
   {
    "duration": 7,
    "start_time": "2022-03-07T15:03:44.406Z"
   },
   {
    "duration": 11,
    "start_time": "2022-03-07T15:03:44.419Z"
   },
   {
    "duration": 61,
    "start_time": "2022-03-07T15:03:44.433Z"
   },
   {
    "duration": 587,
    "start_time": "2022-03-07T15:03:44.496Z"
   },
   {
    "duration": 10,
    "start_time": "2022-03-07T15:03:45.085Z"
   },
   {
    "duration": 27,
    "start_time": "2022-03-07T15:03:45.098Z"
   },
   {
    "duration": 1203,
    "start_time": "2022-03-07T15:03:45.127Z"
   },
   {
    "duration": -963,
    "start_time": "2022-03-07T15:03:47.296Z"
   },
   {
    "duration": -975,
    "start_time": "2022-03-07T15:03:47.310Z"
   },
   {
    "duration": -991,
    "start_time": "2022-03-07T15:03:47.328Z"
   },
   {
    "duration": -1012,
    "start_time": "2022-03-07T15:03:47.351Z"
   },
   {
    "duration": -1028,
    "start_time": "2022-03-07T15:03:47.369Z"
   },
   {
    "duration": -1066,
    "start_time": "2022-03-07T15:03:47.409Z"
   },
   {
    "duration": -1100,
    "start_time": "2022-03-07T15:03:47.446Z"
   },
   {
    "duration": -1145,
    "start_time": "2022-03-07T15:03:47.493Z"
   },
   {
    "duration": -1149,
    "start_time": "2022-03-07T15:03:47.499Z"
   },
   {
    "duration": -1195,
    "start_time": "2022-03-07T15:03:47.546Z"
   },
   {
    "duration": -1179,
    "start_time": "2022-03-07T15:03:47.553Z"
   },
   {
    "duration": -1184,
    "start_time": "2022-03-07T15:03:47.560Z"
   },
   {
    "duration": -1189,
    "start_time": "2022-03-07T15:03:47.567Z"
   },
   {
    "duration": -1203,
    "start_time": "2022-03-07T15:03:47.583Z"
   },
   {
    "duration": -1207,
    "start_time": "2022-03-07T15:03:47.589Z"
   },
   {
    "duration": -1219,
    "start_time": "2022-03-07T15:03:47.603Z"
   },
   {
    "duration": -1231,
    "start_time": "2022-03-07T15:03:47.617Z"
   },
   {
    "duration": -1237,
    "start_time": "2022-03-07T15:03:47.624Z"
   },
   {
    "duration": -1248,
    "start_time": "2022-03-07T15:03:47.638Z"
   },
   {
    "duration": -1251,
    "start_time": "2022-03-07T15:03:47.643Z"
   },
   {
    "duration": 764,
    "start_time": "2022-03-07T15:04:38.923Z"
   },
   {
    "duration": 32,
    "start_time": "2022-03-07T15:10:19.409Z"
   },
   {
    "duration": 26,
    "start_time": "2022-03-07T15:20:12.199Z"
   },
   {
    "duration": 845,
    "start_time": "2022-03-07T15:21:53.040Z"
   },
   {
    "duration": 104,
    "start_time": "2022-03-07T15:24:12.638Z"
   },
   {
    "duration": 725,
    "start_time": "2022-03-07T15:24:34.661Z"
   },
   {
    "duration": 23,
    "start_time": "2022-03-07T15:26:27.073Z"
   },
   {
    "duration": 304,
    "start_time": "2022-03-07T15:29:23.786Z"
   },
   {
    "duration": 27,
    "start_time": "2022-03-07T15:29:36.648Z"
   },
   {
    "duration": 1527,
    "start_time": "2022-03-07T15:33:28.432Z"
   },
   {
    "duration": 170,
    "start_time": "2022-03-07T15:33:29.962Z"
   },
   {
    "duration": 21,
    "start_time": "2022-03-07T15:33:30.135Z"
   },
   {
    "duration": 30,
    "start_time": "2022-03-07T15:33:30.159Z"
   },
   {
    "duration": 64,
    "start_time": "2022-03-07T15:33:30.191Z"
   },
   {
    "duration": 5,
    "start_time": "2022-03-07T15:33:30.257Z"
   },
   {
    "duration": 61,
    "start_time": "2022-03-07T15:33:30.264Z"
   },
   {
    "duration": 44,
    "start_time": "2022-03-07T15:33:30.329Z"
   },
   {
    "duration": 60,
    "start_time": "2022-03-07T15:33:30.376Z"
   },
   {
    "duration": 19,
    "start_time": "2022-03-07T15:33:30.439Z"
   },
   {
    "duration": 18,
    "start_time": "2022-03-07T15:33:30.473Z"
   },
   {
    "duration": 33,
    "start_time": "2022-03-07T15:33:30.493Z"
   },
   {
    "duration": 42,
    "start_time": "2022-03-07T15:33:30.529Z"
   },
   {
    "duration": 26,
    "start_time": "2022-03-07T15:33:30.574Z"
   },
   {
    "duration": 15,
    "start_time": "2022-03-07T15:33:30.602Z"
   },
   {
    "duration": 43,
    "start_time": "2022-03-07T15:33:30.619Z"
   },
   {
    "duration": 12,
    "start_time": "2022-03-07T15:33:30.665Z"
   },
   {
    "duration": 21,
    "start_time": "2022-03-07T15:33:30.680Z"
   },
   {
    "duration": 50,
    "start_time": "2022-03-07T15:33:30.703Z"
   },
   {
    "duration": 486,
    "start_time": "2022-03-07T15:33:30.756Z"
   },
   {
    "duration": 45,
    "start_time": "2022-03-07T15:33:31.244Z"
   },
   {
    "duration": 8,
    "start_time": "2022-03-07T15:33:31.291Z"
   },
   {
    "duration": 22,
    "start_time": "2022-03-07T15:33:31.304Z"
   },
   {
    "duration": 46,
    "start_time": "2022-03-07T15:33:31.329Z"
   },
   {
    "duration": 600,
    "start_time": "2022-03-07T15:33:31.377Z"
   },
   {
    "duration": 10,
    "start_time": "2022-03-07T15:33:31.979Z"
   },
   {
    "duration": 37,
    "start_time": "2022-03-07T15:33:31.992Z"
   },
   {
    "duration": 768,
    "start_time": "2022-03-07T15:33:32.031Z"
   },
   {
    "duration": 25,
    "start_time": "2022-03-07T15:33:32.803Z"
   },
   {
    "duration": 46,
    "start_time": "2022-03-07T15:33:32.831Z"
   },
   {
    "duration": 5502,
    "start_time": "2022-03-07T15:33:32.881Z"
   },
   {
    "duration": 8,
    "start_time": "2022-03-07T15:33:38.385Z"
   },
   {
    "duration": 13,
    "start_time": "2022-03-07T15:33:38.396Z"
   },
   {
    "duration": 72,
    "start_time": "2022-03-07T15:33:38.412Z"
   },
   {
    "duration": 17,
    "start_time": "2022-03-07T15:33:38.486Z"
   },
   {
    "duration": 537,
    "start_time": "2022-03-07T15:33:38.505Z"
   },
   {
    "duration": 293,
    "start_time": "2022-03-07T15:33:39.045Z"
   },
   {
    "duration": 285,
    "start_time": "2022-03-07T15:33:39.340Z"
   },
   {
    "duration": 285,
    "start_time": "2022-03-07T15:33:39.627Z"
   },
   {
    "duration": 294,
    "start_time": "2022-03-07T15:33:39.914Z"
   },
   {
    "duration": 288,
    "start_time": "2022-03-07T15:33:40.211Z"
   },
   {
    "duration": 297,
    "start_time": "2022-03-07T15:33:40.502Z"
   },
   {
    "duration": 282,
    "start_time": "2022-03-07T15:33:40.802Z"
   },
   {
    "duration": 516,
    "start_time": "2022-03-07T15:33:41.086Z"
   },
   {
    "duration": 1216,
    "start_time": "2022-03-07T15:33:41.605Z"
   },
   {
    "duration": 18,
    "start_time": "2022-03-07T15:33:42.823Z"
   },
   {
    "duration": 1188,
    "start_time": "2022-03-07T15:33:42.844Z"
   },
   {
    "duration": 19,
    "start_time": "2022-03-07T15:33:44.034Z"
   },
   {
    "duration": 21,
    "start_time": "2022-03-07T15:38:19.009Z"
   },
   {
    "duration": 27,
    "start_time": "2022-03-07T15:39:30.216Z"
   },
   {
    "duration": 21,
    "start_time": "2022-03-07T15:40:02.482Z"
   },
   {
    "duration": 429,
    "start_time": "2022-03-07T15:40:42.140Z"
   },
   {
    "duration": 17,
    "start_time": "2022-03-07T15:41:17.502Z"
   },
   {
    "duration": 7573,
    "start_time": "2022-03-07T15:41:40.182Z"
   },
   {
    "duration": 7529,
    "start_time": "2022-03-07T15:43:30.990Z"
   },
   {
    "duration": 7192,
    "start_time": "2022-03-07T15:43:50.551Z"
   },
   {
    "duration": 1591,
    "start_time": "2022-03-07T15:44:06.354Z"
   },
   {
    "duration": 174,
    "start_time": "2022-03-07T15:44:07.949Z"
   },
   {
    "duration": 22,
    "start_time": "2022-03-07T15:44:08.126Z"
   },
   {
    "duration": 29,
    "start_time": "2022-03-07T15:44:08.151Z"
   },
   {
    "duration": 42,
    "start_time": "2022-03-07T15:44:08.182Z"
   },
   {
    "duration": 5,
    "start_time": "2022-03-07T15:44:08.226Z"
   },
   {
    "duration": 56,
    "start_time": "2022-03-07T15:44:08.233Z"
   },
   {
    "duration": 25,
    "start_time": "2022-03-07T15:44:08.293Z"
   },
   {
    "duration": 68,
    "start_time": "2022-03-07T15:44:08.321Z"
   },
   {
    "duration": 445,
    "start_time": "2022-03-07T15:44:08.392Z"
   },
   {
    "duration": -930,
    "start_time": "2022-03-07T15:44:09.773Z"
   },
   {
    "duration": -946,
    "start_time": "2022-03-07T15:44:09.792Z"
   },
   {
    "duration": -952,
    "start_time": "2022-03-07T15:44:09.800Z"
   },
   {
    "duration": -964,
    "start_time": "2022-03-07T15:44:09.814Z"
   },
   {
    "duration": -980,
    "start_time": "2022-03-07T15:44:09.832Z"
   },
   {
    "duration": -992,
    "start_time": "2022-03-07T15:44:09.847Z"
   },
   {
    "duration": -1007,
    "start_time": "2022-03-07T15:44:09.864Z"
   },
   {
    "duration": -1065,
    "start_time": "2022-03-07T15:44:09.924Z"
   },
   {
    "duration": -1223,
    "start_time": "2022-03-07T15:44:10.085Z"
   },
   {
    "duration": -1227,
    "start_time": "2022-03-07T15:44:10.091Z"
   },
   {
    "duration": -1232,
    "start_time": "2022-03-07T15:44:10.098Z"
   },
   {
    "duration": -1379,
    "start_time": "2022-03-07T15:44:10.248Z"
   },
   {
    "duration": -1385,
    "start_time": "2022-03-07T15:44:10.256Z"
   },
   {
    "duration": -1390,
    "start_time": "2022-03-07T15:44:10.263Z"
   },
   {
    "duration": -1396,
    "start_time": "2022-03-07T15:44:10.271Z"
   },
   {
    "duration": -1402,
    "start_time": "2022-03-07T15:44:10.279Z"
   },
   {
    "duration": -1405,
    "start_time": "2022-03-07T15:44:10.285Z"
   },
   {
    "duration": -1409,
    "start_time": "2022-03-07T15:44:10.291Z"
   },
   {
    "duration": -1413,
    "start_time": "2022-03-07T15:44:10.297Z"
   },
   {
    "duration": -1415,
    "start_time": "2022-03-07T15:44:10.302Z"
   },
   {
    "duration": -1420,
    "start_time": "2022-03-07T15:44:10.309Z"
   },
   {
    "duration": -1507,
    "start_time": "2022-03-07T15:44:10.398Z"
   },
   {
    "duration": -1511,
    "start_time": "2022-03-07T15:44:10.404Z"
   },
   {
    "duration": -1515,
    "start_time": "2022-03-07T15:44:10.411Z"
   },
   {
    "duration": -1521,
    "start_time": "2022-03-07T15:44:10.419Z"
   },
   {
    "duration": -1534,
    "start_time": "2022-03-07T15:44:10.434Z"
   },
   {
    "duration": -1538,
    "start_time": "2022-03-07T15:44:10.440Z"
   },
   {
    "duration": -1543,
    "start_time": "2022-03-07T15:44:10.448Z"
   },
   {
    "duration": -1549,
    "start_time": "2022-03-07T15:44:10.456Z"
   },
   {
    "duration": -1555,
    "start_time": "2022-03-07T15:44:10.463Z"
   },
   {
    "duration": -1560,
    "start_time": "2022-03-07T15:44:10.470Z"
   },
   {
    "duration": -1566,
    "start_time": "2022-03-07T15:44:10.477Z"
   },
   {
    "duration": -1511,
    "start_time": "2022-03-07T15:44:10.484Z"
   },
   {
    "duration": -1515,
    "start_time": "2022-03-07T15:44:10.489Z"
   },
   {
    "duration": -1591,
    "start_time": "2022-03-07T15:44:10.567Z"
   },
   {
    "duration": -1594,
    "start_time": "2022-03-07T15:44:10.572Z"
   },
   {
    "duration": -1600,
    "start_time": "2022-03-07T15:44:10.579Z"
   },
   {
    "duration": -1604,
    "start_time": "2022-03-07T15:44:10.585Z"
   },
   {
    "duration": 1585,
    "start_time": "2022-03-07T15:45:16.174Z"
   },
   {
    "duration": 141,
    "start_time": "2022-03-07T15:45:17.761Z"
   },
   {
    "duration": 19,
    "start_time": "2022-03-07T15:45:17.905Z"
   },
   {
    "duration": 16,
    "start_time": "2022-03-07T15:45:17.927Z"
   },
   {
    "duration": 65,
    "start_time": "2022-03-07T15:45:17.945Z"
   },
   {
    "duration": 5,
    "start_time": "2022-03-07T15:45:18.013Z"
   },
   {
    "duration": 55,
    "start_time": "2022-03-07T15:45:18.021Z"
   },
   {
    "duration": 27,
    "start_time": "2022-03-07T15:45:18.082Z"
   },
   {
    "duration": 75,
    "start_time": "2022-03-07T15:45:18.113Z"
   },
   {
    "duration": 18,
    "start_time": "2022-03-07T15:45:18.192Z"
   },
   {
    "duration": 6,
    "start_time": "2022-03-07T15:45:18.213Z"
   },
   {
    "duration": 52,
    "start_time": "2022-03-07T15:45:18.221Z"
   },
   {
    "duration": 23,
    "start_time": "2022-03-07T15:45:18.276Z"
   },
   {
    "duration": 11,
    "start_time": "2022-03-07T15:45:18.301Z"
   },
   {
    "duration": 7,
    "start_time": "2022-03-07T15:45:18.314Z"
   },
   {
    "duration": 59,
    "start_time": "2022-03-07T15:45:18.324Z"
   },
   {
    "duration": 8,
    "start_time": "2022-03-07T15:45:18.385Z"
   },
   {
    "duration": 9,
    "start_time": "2022-03-07T15:45:18.396Z"
   },
   {
    "duration": 44,
    "start_time": "2022-03-07T15:45:18.407Z"
   },
   {
    "duration": 515,
    "start_time": "2022-03-07T15:45:18.474Z"
   },
   {
    "duration": 32,
    "start_time": "2022-03-07T15:45:18.992Z"
   },
   {
    "duration": 8,
    "start_time": "2022-03-07T15:45:19.027Z"
   },
   {
    "duration": 43,
    "start_time": "2022-03-07T15:45:19.040Z"
   },
   {
    "duration": 27,
    "start_time": "2022-03-07T15:45:19.086Z"
   },
   {
    "duration": 630,
    "start_time": "2022-03-07T15:45:19.115Z"
   },
   {
    "duration": 26,
    "start_time": "2022-03-07T15:45:19.747Z"
   },
   {
    "duration": 29,
    "start_time": "2022-03-07T15:45:19.776Z"
   },
   {
    "duration": 852,
    "start_time": "2022-03-07T15:45:19.807Z"
   },
   {
    "duration": 7407,
    "start_time": "2022-03-07T15:45:20.662Z"
   },
   {
    "duration": -1122,
    "start_time": "2022-03-07T15:45:29.194Z"
   },
   {
    "duration": -1193,
    "start_time": "2022-03-07T15:45:29.267Z"
   },
   {
    "duration": -1202,
    "start_time": "2022-03-07T15:45:29.277Z"
   },
   {
    "duration": -1210,
    "start_time": "2022-03-07T15:45:29.287Z"
   },
   {
    "duration": -1230,
    "start_time": "2022-03-07T15:45:29.308Z"
   },
   {
    "duration": -1238,
    "start_time": "2022-03-07T15:45:29.318Z"
   },
   {
    "duration": -1249,
    "start_time": "2022-03-07T15:45:29.330Z"
   },
   {
    "duration": -1281,
    "start_time": "2022-03-07T15:45:29.364Z"
   },
   {
    "duration": -1289,
    "start_time": "2022-03-07T15:45:29.373Z"
   },
   {
    "duration": -1326,
    "start_time": "2022-03-07T15:45:29.412Z"
   },
   {
    "duration": -1332,
    "start_time": "2022-03-07T15:45:29.420Z"
   },
   {
    "duration": -1378,
    "start_time": "2022-03-07T15:45:29.467Z"
   },
   {
    "duration": -1399,
    "start_time": "2022-03-07T15:45:29.490Z"
   },
   {
    "duration": -1409,
    "start_time": "2022-03-07T15:45:29.503Z"
   },
   {
    "duration": -1488,
    "start_time": "2022-03-07T15:45:29.584Z"
   },
   {
    "duration": -1495,
    "start_time": "2022-03-07T15:45:29.592Z"
   },
   {
    "duration": -1499,
    "start_time": "2022-03-07T15:45:29.597Z"
   },
   {
    "duration": -1508,
    "start_time": "2022-03-07T15:45:29.608Z"
   },
   {
    "duration": -1523,
    "start_time": "2022-03-07T15:45:29.625Z"
   },
   {
    "duration": 24,
    "start_time": "2022-03-07T15:47:54.718Z"
   },
   {
    "duration": 21,
    "start_time": "2022-03-07T15:52:12.605Z"
   },
   {
    "duration": 21,
    "start_time": "2022-03-07T15:52:33.231Z"
   },
   {
    "duration": 25,
    "start_time": "2022-03-07T15:53:20.598Z"
   },
   {
    "duration": 304,
    "start_time": "2022-03-07T15:53:37.319Z"
   },
   {
    "duration": 347,
    "start_time": "2022-03-07T15:54:07.369Z"
   },
   {
    "duration": 325,
    "start_time": "2022-03-07T15:54:18.790Z"
   },
   {
    "duration": 20,
    "start_time": "2022-03-07T15:54:25.182Z"
   },
   {
    "duration": 20,
    "start_time": "2022-03-07T15:55:02.252Z"
   },
   {
    "duration": 19,
    "start_time": "2022-03-07T15:55:12.799Z"
   },
   {
    "duration": 21,
    "start_time": "2022-03-07T15:55:29.761Z"
   },
   {
    "duration": 7510,
    "start_time": "2022-03-07T15:56:37.389Z"
   },
   {
    "duration": 20,
    "start_time": "2022-03-07T15:57:15.477Z"
   },
   {
    "duration": 1561,
    "start_time": "2022-03-07T15:59:56.210Z"
   },
   {
    "duration": 127,
    "start_time": "2022-03-07T15:59:57.774Z"
   },
   {
    "duration": 21,
    "start_time": "2022-03-07T15:59:57.904Z"
   },
   {
    "duration": 16,
    "start_time": "2022-03-07T15:59:57.928Z"
   },
   {
    "duration": 72,
    "start_time": "2022-03-07T15:59:57.947Z"
   },
   {
    "duration": 5,
    "start_time": "2022-03-07T15:59:58.021Z"
   },
   {
    "duration": 59,
    "start_time": "2022-03-07T15:59:58.030Z"
   },
   {
    "duration": 28,
    "start_time": "2022-03-07T15:59:58.094Z"
   },
   {
    "duration": 88,
    "start_time": "2022-03-07T15:59:58.126Z"
   },
   {
    "duration": 23,
    "start_time": "2022-03-07T15:59:58.217Z"
   },
   {
    "duration": 31,
    "start_time": "2022-03-07T15:59:58.243Z"
   },
   {
    "duration": 19,
    "start_time": "2022-03-07T15:59:58.277Z"
   },
   {
    "duration": 26,
    "start_time": "2022-03-07T15:59:58.302Z"
   },
   {
    "duration": 48,
    "start_time": "2022-03-07T15:59:58.331Z"
   },
   {
    "duration": 8,
    "start_time": "2022-03-07T15:59:58.382Z"
   },
   {
    "duration": 19,
    "start_time": "2022-03-07T15:59:58.392Z"
   },
   {
    "duration": 9,
    "start_time": "2022-03-07T15:59:58.414Z"
   },
   {
    "duration": 8,
    "start_time": "2022-03-07T15:59:58.425Z"
   },
   {
    "duration": 77,
    "start_time": "2022-03-07T15:59:58.436Z"
   },
   {
    "duration": 540,
    "start_time": "2022-03-07T15:59:58.516Z"
   },
   {
    "duration": 34,
    "start_time": "2022-03-07T15:59:59.058Z"
   },
   {
    "duration": 7,
    "start_time": "2022-03-07T15:59:59.094Z"
   },
   {
    "duration": 14,
    "start_time": "2022-03-07T15:59:59.106Z"
   },
   {
    "duration": 61,
    "start_time": "2022-03-07T15:59:59.123Z"
   },
   {
    "duration": 636,
    "start_time": "2022-03-07T15:59:59.186Z"
   },
   {
    "duration": 12,
    "start_time": "2022-03-07T15:59:59.825Z"
   },
   {
    "duration": 52,
    "start_time": "2022-03-07T15:59:59.840Z"
   },
   {
    "duration": 763,
    "start_time": "2022-03-07T15:59:59.895Z"
   },
   {
    "duration": 27,
    "start_time": "2022-03-07T16:00:00.661Z"
   },
   {
    "duration": 49,
    "start_time": "2022-03-07T16:00:00.690Z"
   },
   {
    "duration": 6173,
    "start_time": "2022-03-07T16:00:00.742Z"
   },
   {
    "duration": 9,
    "start_time": "2022-03-07T16:00:06.918Z"
   },
   {
    "duration": 21,
    "start_time": "2022-03-07T16:00:06.929Z"
   },
   {
    "duration": 64,
    "start_time": "2022-03-07T16:00:06.953Z"
   },
   {
    "duration": 19,
    "start_time": "2022-03-07T16:00:07.020Z"
   },
   {
    "duration": 581,
    "start_time": "2022-03-07T16:00:07.042Z"
   },
   {
    "duration": 313,
    "start_time": "2022-03-07T16:00:07.626Z"
   },
   {
    "duration": 309,
    "start_time": "2022-03-07T16:00:07.941Z"
   },
   {
    "duration": 333,
    "start_time": "2022-03-07T16:00:08.252Z"
   },
   {
    "duration": 291,
    "start_time": "2022-03-07T16:00:08.588Z"
   },
   {
    "duration": 354,
    "start_time": "2022-03-07T16:00:08.883Z"
   },
   {
    "duration": 333,
    "start_time": "2022-03-07T16:00:09.240Z"
   },
   {
    "duration": 292,
    "start_time": "2022-03-07T16:00:09.576Z"
   },
   {
    "duration": 465,
    "start_time": "2022-03-07T16:00:09.873Z"
   },
   {
    "duration": 1300,
    "start_time": "2022-03-07T16:00:10.341Z"
   },
   {
    "duration": 30,
    "start_time": "2022-03-07T16:00:11.644Z"
   },
   {
    "duration": 1335,
    "start_time": "2022-03-07T16:00:11.677Z"
   },
   {
    "duration": 25,
    "start_time": "2022-03-07T16:00:13.015Z"
   },
   {
    "duration": 1570,
    "start_time": "2022-03-07T16:01:14.575Z"
   },
   {
    "duration": 211,
    "start_time": "2022-03-07T16:01:16.148Z"
   },
   {
    "duration": 20,
    "start_time": "2022-03-07T16:01:16.361Z"
   },
   {
    "duration": 19,
    "start_time": "2022-03-07T16:01:16.384Z"
   },
   {
    "duration": 70,
    "start_time": "2022-03-07T16:01:16.405Z"
   },
   {
    "duration": 3,
    "start_time": "2022-03-07T16:01:16.478Z"
   },
   {
    "duration": 36,
    "start_time": "2022-03-07T16:01:16.484Z"
   },
   {
    "duration": 50,
    "start_time": "2022-03-07T16:01:16.525Z"
   },
   {
    "duration": 44,
    "start_time": "2022-03-07T16:01:16.578Z"
   },
   {
    "duration": 17,
    "start_time": "2022-03-07T16:01:16.625Z"
   },
   {
    "duration": 33,
    "start_time": "2022-03-07T16:01:16.644Z"
   },
   {
    "duration": 20,
    "start_time": "2022-03-07T16:01:16.679Z"
   },
   {
    "duration": 22,
    "start_time": "2022-03-07T16:01:16.701Z"
   },
   {
    "duration": 12,
    "start_time": "2022-03-07T16:01:16.726Z"
   },
   {
    "duration": 3,
    "start_time": "2022-03-07T16:01:16.774Z"
   },
   {
    "duration": 27,
    "start_time": "2022-03-07T16:01:16.779Z"
   },
   {
    "duration": 10,
    "start_time": "2022-03-07T16:01:16.809Z"
   },
   {
    "duration": 23,
    "start_time": "2022-03-07T16:01:16.822Z"
   },
   {
    "duration": 62,
    "start_time": "2022-03-07T16:01:16.848Z"
   },
   {
    "duration": 515,
    "start_time": "2022-03-07T16:01:16.912Z"
   },
   {
    "duration": 45,
    "start_time": "2022-03-07T16:01:17.430Z"
   },
   {
    "duration": 7,
    "start_time": "2022-03-07T16:01:17.477Z"
   },
   {
    "duration": 19,
    "start_time": "2022-03-07T16:01:17.490Z"
   },
   {
    "duration": 27,
    "start_time": "2022-03-07T16:01:17.512Z"
   },
   {
    "duration": 739,
    "start_time": "2022-03-07T16:01:17.542Z"
   },
   {
    "duration": 12,
    "start_time": "2022-03-07T16:01:18.284Z"
   },
   {
    "duration": 28,
    "start_time": "2022-03-07T16:01:18.299Z"
   },
   {
    "duration": 835,
    "start_time": "2022-03-07T16:01:18.329Z"
   },
   {
    "duration": 2149,
    "start_time": "2022-03-07T16:01:19.173Z"
   },
   {
    "duration": -1155,
    "start_time": "2022-03-07T16:01:22.479Z"
   },
   {
    "duration": -1176,
    "start_time": "2022-03-07T16:01:22.502Z"
   },
   {
    "duration": -1190,
    "start_time": "2022-03-07T16:01:22.517Z"
   },
   {
    "duration": -1206,
    "start_time": "2022-03-07T16:01:22.535Z"
   },
   {
    "duration": -1222,
    "start_time": "2022-03-07T16:01:22.552Z"
   },
   {
    "duration": -1287,
    "start_time": "2022-03-07T16:01:22.619Z"
   },
   {
    "duration": -1293,
    "start_time": "2022-03-07T16:01:22.626Z"
   },
   {
    "duration": -1343,
    "start_time": "2022-03-07T16:01:22.678Z"
   },
   {
    "duration": -1349,
    "start_time": "2022-03-07T16:01:22.685Z"
   },
   {
    "duration": -1398,
    "start_time": "2022-03-07T16:01:22.736Z"
   },
   {
    "duration": -1405,
    "start_time": "2022-03-07T16:01:22.744Z"
   },
   {
    "duration": -1410,
    "start_time": "2022-03-07T16:01:22.751Z"
   },
   {
    "duration": -1415,
    "start_time": "2022-03-07T16:01:22.757Z"
   },
   {
    "duration": -1453,
    "start_time": "2022-03-07T16:01:22.796Z"
   },
   {
    "duration": -1458,
    "start_time": "2022-03-07T16:01:22.803Z"
   },
   {
    "duration": -1463,
    "start_time": "2022-03-07T16:01:22.809Z"
   },
   {
    "duration": -1492,
    "start_time": "2022-03-07T16:01:22.840Z"
   },
   {
    "duration": -1497,
    "start_time": "2022-03-07T16:01:22.846Z"
   },
   {
    "duration": -1502,
    "start_time": "2022-03-07T16:01:22.853Z"
   },
   {
    "duration": -1509,
    "start_time": "2022-03-07T16:01:22.861Z"
   },
   {
    "duration": 26,
    "start_time": "2022-03-07T16:01:57.158Z"
   },
   {
    "duration": 19,
    "start_time": "2022-03-07T16:03:55.379Z"
   },
   {
    "duration": 26,
    "start_time": "2022-03-07T16:19:35.055Z"
   },
   {
    "duration": 9,
    "start_time": "2022-03-07T16:20:25.752Z"
   },
   {
    "duration": 10,
    "start_time": "2022-03-07T16:20:41.302Z"
   },
   {
    "duration": 8,
    "start_time": "2022-03-07T16:20:59.852Z"
   },
   {
    "duration": 20,
    "start_time": "2022-03-07T16:21:52.153Z"
   },
   {
    "duration": 17,
    "start_time": "2022-03-07T16:27:01.816Z"
   },
   {
    "duration": 16,
    "start_time": "2022-03-07T16:27:10.458Z"
   },
   {
    "duration": 20,
    "start_time": "2022-03-07T16:28:50.382Z"
   },
   {
    "duration": 20,
    "start_time": "2022-03-07T16:29:43.464Z"
   },
   {
    "duration": 1164,
    "start_time": "2022-03-07T16:30:44.874Z"
   },
   {
    "duration": 19,
    "start_time": "2022-03-07T16:30:52.407Z"
   },
   {
    "duration": 7371,
    "start_time": "2022-03-07T16:31:23.873Z"
   },
   {
    "duration": 20,
    "start_time": "2022-03-07T16:31:56.207Z"
   },
   {
    "duration": 23,
    "start_time": "2022-03-07T16:32:30.576Z"
   },
   {
    "duration": 22,
    "start_time": "2022-03-07T16:32:47.886Z"
   },
   {
    "duration": 109,
    "start_time": "2022-03-07T16:38:07.975Z"
   },
   {
    "duration": 655,
    "start_time": "2022-03-07T16:38:20.884Z"
   },
   {
    "duration": 671,
    "start_time": "2022-03-07T16:38:42.210Z"
   },
   {
    "duration": 1027,
    "start_time": "2022-03-07T16:38:57.909Z"
   },
   {
    "duration": 847,
    "start_time": "2022-03-07T16:39:11.409Z"
   },
   {
    "duration": 847,
    "start_time": "2022-03-07T16:39:38.176Z"
   },
   {
    "duration": 809,
    "start_time": "2022-03-07T16:39:56.048Z"
   },
   {
    "duration": 109,
    "start_time": "2022-03-07T16:40:23.372Z"
   },
   {
    "duration": 99,
    "start_time": "2022-03-07T16:40:48.062Z"
   },
   {
    "duration": 112,
    "start_time": "2022-03-07T16:40:53.006Z"
   },
   {
    "duration": 113,
    "start_time": "2022-03-07T16:42:18.022Z"
   },
   {
    "duration": 98,
    "start_time": "2022-03-07T16:42:24.575Z"
   },
   {
    "duration": 89,
    "start_time": "2022-03-07T16:45:05.182Z"
   },
   {
    "duration": 833,
    "start_time": "2022-03-07T16:45:35.964Z"
   },
   {
    "duration": 697,
    "start_time": "2022-03-07T16:46:01.589Z"
   },
   {
    "duration": 716,
    "start_time": "2022-03-07T16:47:30.778Z"
   },
   {
    "duration": 1176,
    "start_time": "2022-03-07T16:47:51.952Z"
   },
   {
    "duration": 697,
    "start_time": "2022-03-07T16:48:06.886Z"
   },
   {
    "duration": 1120,
    "start_time": "2022-03-07T16:48:17.649Z"
   },
   {
    "duration": 1096,
    "start_time": "2022-03-07T16:48:34.102Z"
   },
   {
    "duration": 1057,
    "start_time": "2022-03-07T16:49:04.516Z"
   },
   {
    "duration": 706,
    "start_time": "2022-03-07T16:49:26.367Z"
   },
   {
    "duration": 812,
    "start_time": "2022-03-07T16:49:35.849Z"
   },
   {
    "duration": 729,
    "start_time": "2022-03-07T16:49:44.021Z"
   },
   {
    "duration": 755,
    "start_time": "2022-03-07T16:49:58.011Z"
   },
   {
    "duration": 1587,
    "start_time": "2022-03-07T17:00:20.479Z"
   },
   {
    "duration": 155,
    "start_time": "2022-03-07T17:00:22.069Z"
   },
   {
    "duration": 21,
    "start_time": "2022-03-07T17:00:22.227Z"
   },
   {
    "duration": 33,
    "start_time": "2022-03-07T17:00:22.251Z"
   },
   {
    "duration": 46,
    "start_time": "2022-03-07T17:00:22.287Z"
   },
   {
    "duration": 6,
    "start_time": "2022-03-07T17:00:22.336Z"
   },
   {
    "duration": 32,
    "start_time": "2022-03-07T17:00:22.372Z"
   },
   {
    "duration": 30,
    "start_time": "2022-03-07T17:00:22.410Z"
   },
   {
    "duration": 47,
    "start_time": "2022-03-07T17:00:22.472Z"
   },
   {
    "duration": 18,
    "start_time": "2022-03-07T17:00:22.522Z"
   },
   {
    "duration": 7,
    "start_time": "2022-03-07T17:00:22.572Z"
   },
   {
    "duration": 15,
    "start_time": "2022-03-07T17:00:22.582Z"
   },
   {
    "duration": 25,
    "start_time": "2022-03-07T17:00:22.601Z"
   },
   {
    "duration": 52,
    "start_time": "2022-03-07T17:00:22.629Z"
   },
   {
    "duration": 4,
    "start_time": "2022-03-07T17:00:22.683Z"
   },
   {
    "duration": 20,
    "start_time": "2022-03-07T17:00:22.690Z"
   },
   {
    "duration": 10,
    "start_time": "2022-03-07T17:00:22.712Z"
   },
   {
    "duration": 51,
    "start_time": "2022-03-07T17:00:22.725Z"
   },
   {
    "duration": 50,
    "start_time": "2022-03-07T17:00:22.779Z"
   },
   {
    "duration": 571,
    "start_time": "2022-03-07T17:00:22.831Z"
   },
   {
    "duration": 28,
    "start_time": "2022-03-07T17:00:23.404Z"
   },
   {
    "duration": 6,
    "start_time": "2022-03-07T17:00:23.434Z"
   },
   {
    "duration": 36,
    "start_time": "2022-03-07T17:00:23.446Z"
   },
   {
    "duration": 25,
    "start_time": "2022-03-07T17:00:23.485Z"
   },
   {
    "duration": 739,
    "start_time": "2022-03-07T17:00:23.513Z"
   },
   {
    "duration": 24,
    "start_time": "2022-03-07T17:00:24.255Z"
   },
   {
    "duration": 26,
    "start_time": "2022-03-07T17:00:24.281Z"
   },
   {
    "duration": 769,
    "start_time": "2022-03-07T17:00:24.310Z"
   },
   {
    "duration": 24,
    "start_time": "2022-03-07T17:00:25.081Z"
   },
   {
    "duration": 20,
    "start_time": "2022-03-07T17:00:25.108Z"
   },
   {
    "duration": 5784,
    "start_time": "2022-03-07T17:00:25.131Z"
   },
   {
    "duration": 9,
    "start_time": "2022-03-07T17:00:30.918Z"
   },
   {
    "duration": 12,
    "start_time": "2022-03-07T17:00:30.929Z"
   },
   {
    "duration": 59,
    "start_time": "2022-03-07T17:00:30.943Z"
   },
   {
    "duration": 17,
    "start_time": "2022-03-07T17:00:31.004Z"
   },
   {
    "duration": 593,
    "start_time": "2022-03-07T17:00:31.023Z"
   },
   {
    "duration": 355,
    "start_time": "2022-03-07T17:00:31.618Z"
   },
   {
    "duration": 289,
    "start_time": "2022-03-07T17:00:31.976Z"
   },
   {
    "duration": 275,
    "start_time": "2022-03-07T17:00:32.268Z"
   },
   {
    "duration": 295,
    "start_time": "2022-03-07T17:00:32.546Z"
   },
   {
    "duration": 371,
    "start_time": "2022-03-07T17:00:32.844Z"
   },
   {
    "duration": 360,
    "start_time": "2022-03-07T17:00:33.274Z"
   },
   {
    "duration": 438,
    "start_time": "2022-03-07T17:00:33.674Z"
   },
   {
    "duration": 465,
    "start_time": "2022-03-07T17:00:34.115Z"
   },
   {
    "duration": 1105,
    "start_time": "2022-03-07T17:00:34.582Z"
   },
   {
    "duration": 19,
    "start_time": "2022-03-07T17:00:35.689Z"
   },
   {
    "duration": 1187,
    "start_time": "2022-03-07T17:00:35.711Z"
   },
   {
    "duration": 20,
    "start_time": "2022-03-07T17:00:36.900Z"
   },
   {
    "duration": 1568,
    "start_time": "2022-03-07T17:03:02.799Z"
   },
   {
    "duration": 126,
    "start_time": "2022-03-07T17:03:04.370Z"
   },
   {
    "duration": 21,
    "start_time": "2022-03-07T17:03:04.500Z"
   },
   {
    "duration": 23,
    "start_time": "2022-03-07T17:03:04.524Z"
   },
   {
    "duration": 61,
    "start_time": "2022-03-07T17:03:04.550Z"
   },
   {
    "duration": 4,
    "start_time": "2022-03-07T17:03:04.614Z"
   },
   {
    "duration": 61,
    "start_time": "2022-03-07T17:03:04.621Z"
   },
   {
    "duration": 32,
    "start_time": "2022-03-07T17:03:04.686Z"
   },
   {
    "duration": 66,
    "start_time": "2022-03-07T17:03:04.721Z"
   },
   {
    "duration": 17,
    "start_time": "2022-03-07T17:03:04.790Z"
   },
   {
    "duration": 10,
    "start_time": "2022-03-07T17:03:04.810Z"
   },
   {
    "duration": 48,
    "start_time": "2022-03-07T17:03:04.825Z"
   },
   {
    "duration": 22,
    "start_time": "2022-03-07T17:03:04.876Z"
   },
   {
    "duration": 12,
    "start_time": "2022-03-07T17:03:04.900Z"
   },
   {
    "duration": 14,
    "start_time": "2022-03-07T17:03:04.915Z"
   },
   {
    "duration": 52,
    "start_time": "2022-03-07T17:03:04.932Z"
   },
   {
    "duration": 9,
    "start_time": "2022-03-07T17:03:04.987Z"
   },
   {
    "duration": 12,
    "start_time": "2022-03-07T17:03:04.999Z"
   },
   {
    "duration": 60,
    "start_time": "2022-03-07T17:03:05.014Z"
   },
   {
    "duration": 613,
    "start_time": "2022-03-07T17:03:05.077Z"
   },
   {
    "duration": 29,
    "start_time": "2022-03-07T17:03:05.693Z"
   },
   {
    "duration": 7,
    "start_time": "2022-03-07T17:03:05.725Z"
   },
   {
    "duration": 44,
    "start_time": "2022-03-07T17:03:05.737Z"
   },
   {
    "duration": 27,
    "start_time": "2022-03-07T17:03:05.784Z"
   },
   {
    "duration": 714,
    "start_time": "2022-03-07T17:03:05.814Z"
   },
   {
    "duration": 10,
    "start_time": "2022-03-07T17:03:06.530Z"
   },
   {
    "duration": 41,
    "start_time": "2022-03-07T17:03:06.543Z"
   },
   {
    "duration": 763,
    "start_time": "2022-03-07T17:03:06.588Z"
   },
   {
    "duration": 34,
    "start_time": "2022-03-07T17:03:07.355Z"
   },
   {
    "duration": 28,
    "start_time": "2022-03-07T17:03:07.393Z"
   },
   {
    "duration": 5739,
    "start_time": "2022-03-07T17:03:07.424Z"
   },
   {
    "duration": 14,
    "start_time": "2022-03-07T17:03:13.165Z"
   },
   {
    "duration": 11,
    "start_time": "2022-03-07T17:03:13.181Z"
   },
   {
    "duration": 37,
    "start_time": "2022-03-07T17:03:13.195Z"
   },
   {
    "duration": 16,
    "start_time": "2022-03-07T17:03:13.274Z"
   },
   {
    "duration": 784,
    "start_time": "2022-03-07T17:03:13.293Z"
   },
   {
    "duration": 413,
    "start_time": "2022-03-07T17:03:14.080Z"
   },
   {
    "duration": 287,
    "start_time": "2022-03-07T17:03:14.496Z"
   },
   {
    "duration": 293,
    "start_time": "2022-03-07T17:03:14.786Z"
   },
   {
    "duration": 304,
    "start_time": "2022-03-07T17:03:15.082Z"
   },
   {
    "duration": 297,
    "start_time": "2022-03-07T17:03:15.389Z"
   },
   {
    "duration": 416,
    "start_time": "2022-03-07T17:03:15.690Z"
   },
   {
    "duration": 469,
    "start_time": "2022-03-07T17:03:16.110Z"
   },
   {
    "duration": 683,
    "start_time": "2022-03-07T17:03:16.582Z"
   },
   {
    "duration": 1243,
    "start_time": "2022-03-07T17:03:17.273Z"
   },
   {
    "duration": 18,
    "start_time": "2022-03-07T17:03:18.518Z"
   },
   {
    "duration": 1115,
    "start_time": "2022-03-07T17:03:18.538Z"
   },
   {
    "duration": 30,
    "start_time": "2022-03-07T17:03:19.656Z"
   },
   {
    "duration": 465,
    "start_time": "2022-03-07T17:09:46.130Z"
   },
   {
    "duration": 468,
    "start_time": "2022-03-07T17:10:37.065Z"
   },
   {
    "duration": 1706,
    "start_time": "2022-03-07T17:11:17.575Z"
   },
   {
    "duration": 138,
    "start_time": "2022-03-07T17:11:19.284Z"
   },
   {
    "duration": 28,
    "start_time": "2022-03-07T17:11:19.426Z"
   },
   {
    "duration": 27,
    "start_time": "2022-03-07T17:11:19.458Z"
   },
   {
    "duration": 42,
    "start_time": "2022-03-07T17:11:19.488Z"
   },
   {
    "duration": 4,
    "start_time": "2022-03-07T17:11:19.533Z"
   },
   {
    "duration": 79,
    "start_time": "2022-03-07T17:11:19.539Z"
   },
   {
    "duration": 58,
    "start_time": "2022-03-07T17:11:19.624Z"
   },
   {
    "duration": 49,
    "start_time": "2022-03-07T17:11:19.685Z"
   },
   {
    "duration": 42,
    "start_time": "2022-03-07T17:11:19.736Z"
   },
   {
    "duration": 7,
    "start_time": "2022-03-07T17:11:19.781Z"
   },
   {
    "duration": 18,
    "start_time": "2022-03-07T17:11:19.791Z"
   },
   {
    "duration": 63,
    "start_time": "2022-03-07T17:11:19.812Z"
   },
   {
    "duration": 12,
    "start_time": "2022-03-07T17:11:19.878Z"
   },
   {
    "duration": 9,
    "start_time": "2022-03-07T17:11:19.892Z"
   },
   {
    "duration": 22,
    "start_time": "2022-03-07T17:11:19.904Z"
   },
   {
    "duration": 45,
    "start_time": "2022-03-07T17:11:19.929Z"
   },
   {
    "duration": 16,
    "start_time": "2022-03-07T17:11:19.976Z"
   },
   {
    "duration": 52,
    "start_time": "2022-03-07T17:11:19.995Z"
   },
   {
    "duration": 527,
    "start_time": "2022-03-07T17:11:20.050Z"
   },
   {
    "duration": 39,
    "start_time": "2022-03-07T17:11:20.581Z"
   },
   {
    "duration": 11,
    "start_time": "2022-03-07T17:11:20.624Z"
   },
   {
    "duration": 43,
    "start_time": "2022-03-07T17:11:20.643Z"
   },
   {
    "duration": 41,
    "start_time": "2022-03-07T17:11:20.690Z"
   },
   {
    "duration": 721,
    "start_time": "2022-03-07T17:11:20.734Z"
   },
   {
    "duration": 21,
    "start_time": "2022-03-07T17:11:21.457Z"
   },
   {
    "duration": 25,
    "start_time": "2022-03-07T17:11:21.480Z"
   },
   {
    "duration": 761,
    "start_time": "2022-03-07T17:11:21.507Z"
   },
   {
    "duration": 23,
    "start_time": "2022-03-07T17:11:22.273Z"
   },
   {
    "duration": 18,
    "start_time": "2022-03-07T17:11:22.299Z"
   },
   {
    "duration": 5883,
    "start_time": "2022-03-07T17:11:22.320Z"
   },
   {
    "duration": 10,
    "start_time": "2022-03-07T17:11:28.206Z"
   },
   {
    "duration": 13,
    "start_time": "2022-03-07T17:11:28.219Z"
   },
   {
    "duration": 69,
    "start_time": "2022-03-07T17:11:28.235Z"
   },
   {
    "duration": 17,
    "start_time": "2022-03-07T17:11:28.307Z"
   },
   {
    "duration": 541,
    "start_time": "2022-03-07T17:11:28.326Z"
   },
   {
    "duration": 287,
    "start_time": "2022-03-07T17:11:28.874Z"
   },
   {
    "duration": 290,
    "start_time": "2022-03-07T17:11:29.164Z"
   },
   {
    "duration": 398,
    "start_time": "2022-03-07T17:11:29.458Z"
   },
   {
    "duration": 409,
    "start_time": "2022-03-07T17:11:29.859Z"
   },
   {
    "duration": 422,
    "start_time": "2022-03-07T17:11:30.274Z"
   },
   {
    "duration": 414,
    "start_time": "2022-03-07T17:11:30.700Z"
   },
   {
    "duration": 519,
    "start_time": "2022-03-07T17:11:31.117Z"
   },
   {
    "duration": 679,
    "start_time": "2022-03-07T17:11:31.639Z"
   },
   {
    "duration": 1152,
    "start_time": "2022-03-07T17:11:32.321Z"
   },
   {
    "duration": 21,
    "start_time": "2022-03-07T17:11:33.475Z"
   },
   {
    "duration": 1133,
    "start_time": "2022-03-07T17:11:33.499Z"
   },
   {
    "duration": 38,
    "start_time": "2022-03-07T17:11:34.635Z"
   },
   {
    "duration": 38,
    "start_time": "2022-03-07T17:14:48.821Z"
   },
   {
    "duration": 25,
    "start_time": "2022-03-07T17:15:00.533Z"
   },
   {
    "duration": 22,
    "start_time": "2022-03-07T17:15:11.857Z"
   },
   {
    "duration": 1550,
    "start_time": "2022-03-07T17:15:31.553Z"
   },
   {
    "duration": 157,
    "start_time": "2022-03-07T17:15:33.106Z"
   },
   {
    "duration": 26,
    "start_time": "2022-03-07T17:15:33.267Z"
   },
   {
    "duration": 31,
    "start_time": "2022-03-07T17:15:33.297Z"
   },
   {
    "duration": 72,
    "start_time": "2022-03-07T17:15:33.331Z"
   },
   {
    "duration": 4,
    "start_time": "2022-03-07T17:15:33.406Z"
   },
   {
    "duration": 34,
    "start_time": "2022-03-07T17:15:33.413Z"
   },
   {
    "duration": 48,
    "start_time": "2022-03-07T17:15:33.451Z"
   },
   {
    "duration": 45,
    "start_time": "2022-03-07T17:15:33.502Z"
   },
   {
    "duration": 17,
    "start_time": "2022-03-07T17:15:33.574Z"
   },
   {
    "duration": 13,
    "start_time": "2022-03-07T17:15:33.594Z"
   },
   {
    "duration": 19,
    "start_time": "2022-03-07T17:15:33.609Z"
   },
   {
    "duration": 65,
    "start_time": "2022-03-07T17:15:33.632Z"
   },
   {
    "duration": 15,
    "start_time": "2022-03-07T17:15:33.700Z"
   },
   {
    "duration": 5,
    "start_time": "2022-03-07T17:15:33.718Z"
   },
   {
    "duration": 58,
    "start_time": "2022-03-07T17:15:33.726Z"
   },
   {
    "duration": 11,
    "start_time": "2022-03-07T17:15:33.787Z"
   },
   {
    "duration": 17,
    "start_time": "2022-03-07T17:15:33.800Z"
   },
   {
    "duration": 59,
    "start_time": "2022-03-07T17:15:33.820Z"
   },
   {
    "duration": 494,
    "start_time": "2022-03-07T17:15:33.882Z"
   },
   {
    "duration": 27,
    "start_time": "2022-03-07T17:15:34.379Z"
   },
   {
    "duration": 7,
    "start_time": "2022-03-07T17:15:34.409Z"
   },
   {
    "duration": 12,
    "start_time": "2022-03-07T17:15:34.422Z"
   },
   {
    "duration": 62,
    "start_time": "2022-03-07T17:15:34.436Z"
   },
   {
    "duration": 712,
    "start_time": "2022-03-07T17:15:34.501Z"
   },
   {
    "duration": 12,
    "start_time": "2022-03-07T17:15:35.216Z"
   },
   {
    "duration": 45,
    "start_time": "2022-03-07T17:15:35.230Z"
   },
   {
    "duration": 758,
    "start_time": "2022-03-07T17:15:35.277Z"
   },
   {
    "duration": 37,
    "start_time": "2022-03-07T17:15:36.038Z"
   },
   {
    "duration": 19,
    "start_time": "2022-03-07T17:15:36.078Z"
   },
   {
    "duration": 5377,
    "start_time": "2022-03-07T17:15:36.099Z"
   },
   {
    "duration": 8,
    "start_time": "2022-03-07T17:15:41.478Z"
   },
   {
    "duration": 8,
    "start_time": "2022-03-07T17:15:41.488Z"
   },
   {
    "duration": 81,
    "start_time": "2022-03-07T17:15:41.498Z"
   },
   {
    "duration": 17,
    "start_time": "2022-03-07T17:15:41.581Z"
   },
   {
    "duration": 565,
    "start_time": "2022-03-07T17:15:41.601Z"
   },
   {
    "duration": 294,
    "start_time": "2022-03-07T17:15:42.169Z"
   },
   {
    "duration": 284,
    "start_time": "2022-03-07T17:15:42.473Z"
   },
   {
    "duration": 303,
    "start_time": "2022-03-07T17:15:42.759Z"
   },
   {
    "duration": 293,
    "start_time": "2022-03-07T17:15:43.065Z"
   },
   {
    "duration": 300,
    "start_time": "2022-03-07T17:15:43.361Z"
   },
   {
    "duration": 292,
    "start_time": "2022-03-07T17:15:43.663Z"
   },
   {
    "duration": 380,
    "start_time": "2022-03-07T17:15:43.958Z"
   },
   {
    "duration": 457,
    "start_time": "2022-03-07T17:15:44.341Z"
   },
   {
    "duration": 1113,
    "start_time": "2022-03-07T17:15:44.801Z"
   },
   {
    "duration": 19,
    "start_time": "2022-03-07T17:15:45.916Z"
   },
   {
    "duration": 1102,
    "start_time": "2022-03-07T17:15:45.938Z"
   },
   {
    "duration": 32,
    "start_time": "2022-03-07T17:15:47.043Z"
   },
   {
    "duration": 21,
    "start_time": "2022-03-07T17:16:30.314Z"
   },
   {
    "duration": 39,
    "start_time": "2022-03-07T17:21:33.574Z"
   },
   {
    "duration": 711,
    "start_time": "2022-03-07T17:23:02.713Z"
   },
   {
    "duration": 3,
    "start_time": "2022-03-07T17:23:40.970Z"
   },
   {
    "duration": 702,
    "start_time": "2022-03-07T17:24:57.227Z"
   },
   {
    "duration": 1606,
    "start_time": "2022-03-07T17:25:19.960Z"
   },
   {
    "duration": 186,
    "start_time": "2022-03-07T17:25:21.569Z"
   },
   {
    "duration": 23,
    "start_time": "2022-03-07T17:25:21.758Z"
   },
   {
    "duration": 19,
    "start_time": "2022-03-07T17:25:21.784Z"
   },
   {
    "duration": 74,
    "start_time": "2022-03-07T17:25:21.806Z"
   },
   {
    "duration": 5,
    "start_time": "2022-03-07T17:25:21.883Z"
   },
   {
    "duration": 37,
    "start_time": "2022-03-07T17:25:21.890Z"
   },
   {
    "duration": 48,
    "start_time": "2022-03-07T17:25:21.931Z"
   },
   {
    "duration": 45,
    "start_time": "2022-03-07T17:25:21.982Z"
   },
   {
    "duration": 17,
    "start_time": "2022-03-07T17:25:22.030Z"
   },
   {
    "duration": 5,
    "start_time": "2022-03-07T17:25:22.075Z"
   },
   {
    "duration": 17,
    "start_time": "2022-03-07T17:25:22.082Z"
   },
   {
    "duration": 22,
    "start_time": "2022-03-07T17:25:22.102Z"
   },
   {
    "duration": 50,
    "start_time": "2022-03-07T17:25:22.127Z"
   },
   {
    "duration": 12,
    "start_time": "2022-03-07T17:25:22.180Z"
   },
   {
    "duration": 24,
    "start_time": "2022-03-07T17:25:22.195Z"
   },
   {
    "duration": 9,
    "start_time": "2022-03-07T17:25:22.222Z"
   },
   {
    "duration": 12,
    "start_time": "2022-03-07T17:25:22.234Z"
   },
   {
    "duration": 66,
    "start_time": "2022-03-07T17:25:22.248Z"
   },
   {
    "duration": 507,
    "start_time": "2022-03-07T17:25:22.317Z"
   },
   {
    "duration": 26,
    "start_time": "2022-03-07T17:25:22.827Z"
   },
   {
    "duration": 24,
    "start_time": "2022-03-07T17:25:22.855Z"
   },
   {
    "duration": 12,
    "start_time": "2022-03-07T17:25:22.885Z"
   },
   {
    "duration": 4,
    "start_time": "2022-03-07T17:25:22.900Z"
   },
   {
    "duration": 1246,
    "start_time": "2022-03-07T17:25:22.906Z"
   },
   {
    "duration": -1093,
    "start_time": "2022-03-07T17:25:25.248Z"
   },
   {
    "duration": -1121,
    "start_time": "2022-03-07T17:25:25.279Z"
   },
   {
    "duration": -1140,
    "start_time": "2022-03-07T17:25:25.299Z"
   },
   {
    "duration": -1203,
    "start_time": "2022-03-07T17:25:25.363Z"
   },
   {
    "duration": -1243,
    "start_time": "2022-03-07T17:25:25.416Z"
   },
   {
    "duration": -1250,
    "start_time": "2022-03-07T17:25:25.424Z"
   },
   {
    "duration": -1330,
    "start_time": "2022-03-07T17:25:25.505Z"
   },
   {
    "duration": -1336,
    "start_time": "2022-03-07T17:25:25.513Z"
   },
   {
    "duration": -1376,
    "start_time": "2022-03-07T17:25:25.555Z"
   },
   {
    "duration": -1385,
    "start_time": "2022-03-07T17:25:25.565Z"
   },
   {
    "duration": -1391,
    "start_time": "2022-03-07T17:25:25.573Z"
   },
   {
    "duration": -1407,
    "start_time": "2022-03-07T17:25:25.590Z"
   },
   {
    "duration": -1455,
    "start_time": "2022-03-07T17:25:25.640Z"
   },
   {
    "duration": -1462,
    "start_time": "2022-03-07T17:25:25.649Z"
   },
   {
    "duration": -1469,
    "start_time": "2022-03-07T17:25:25.657Z"
   },
   {
    "duration": -1521,
    "start_time": "2022-03-07T17:25:25.711Z"
   },
   {
    "duration": -1529,
    "start_time": "2022-03-07T17:25:25.720Z"
   },
   {
    "duration": -1596,
    "start_time": "2022-03-07T17:25:25.788Z"
   },
   {
    "duration": -1602,
    "start_time": "2022-03-07T17:25:25.796Z"
   },
   {
    "duration": -1610,
    "start_time": "2022-03-07T17:25:25.805Z"
   },
   {
    "duration": -1646,
    "start_time": "2022-03-07T17:25:25.843Z"
   },
   {
    "duration": -1654,
    "start_time": "2022-03-07T17:25:25.852Z"
   },
   {
    "duration": -1661,
    "start_time": "2022-03-07T17:25:25.860Z"
   },
   {
    "duration": 694,
    "start_time": "2022-03-07T17:25:59.117Z"
   },
   {
    "duration": 701,
    "start_time": "2022-03-07T17:26:19.735Z"
   },
   {
    "duration": 1565,
    "start_time": "2022-03-07T17:26:44.511Z"
   },
   {
    "duration": 159,
    "start_time": "2022-03-07T17:26:46.079Z"
   },
   {
    "duration": 21,
    "start_time": "2022-03-07T17:26:46.240Z"
   },
   {
    "duration": 16,
    "start_time": "2022-03-07T17:26:46.264Z"
   },
   {
    "duration": 43,
    "start_time": "2022-03-07T17:26:46.282Z"
   },
   {
    "duration": 5,
    "start_time": "2022-03-07T17:26:46.329Z"
   },
   {
    "duration": 63,
    "start_time": "2022-03-07T17:26:46.337Z"
   },
   {
    "duration": 28,
    "start_time": "2022-03-07T17:26:46.405Z"
   },
   {
    "duration": 70,
    "start_time": "2022-03-07T17:26:46.437Z"
   },
   {
    "duration": 16,
    "start_time": "2022-03-07T17:26:46.509Z"
   },
   {
    "duration": 6,
    "start_time": "2022-03-07T17:26:46.528Z"
   },
   {
    "duration": 50,
    "start_time": "2022-03-07T17:26:46.538Z"
   },
   {
    "duration": 25,
    "start_time": "2022-03-07T17:26:46.591Z"
   },
   {
    "duration": 11,
    "start_time": "2022-03-07T17:26:46.619Z"
   },
   {
    "duration": 45,
    "start_time": "2022-03-07T17:26:46.633Z"
   },
   {
    "duration": 20,
    "start_time": "2022-03-07T17:26:46.680Z"
   },
   {
    "duration": 9,
    "start_time": "2022-03-07T17:26:46.702Z"
   },
   {
    "duration": 9,
    "start_time": "2022-03-07T17:26:46.713Z"
   },
   {
    "duration": 71,
    "start_time": "2022-03-07T17:26:46.724Z"
   },
   {
    "duration": 515,
    "start_time": "2022-03-07T17:26:46.797Z"
   },
   {
    "duration": 27,
    "start_time": "2022-03-07T17:26:47.314Z"
   },
   {
    "duration": 7,
    "start_time": "2022-03-07T17:26:47.343Z"
   },
   {
    "duration": 12,
    "start_time": "2022-03-07T17:26:47.372Z"
   },
   {
    "duration": 3,
    "start_time": "2022-03-07T17:26:47.387Z"
   },
   {
    "duration": 750,
    "start_time": "2022-03-07T17:26:47.394Z"
   },
   {
    "duration": 438,
    "start_time": "2022-03-07T17:26:48.147Z"
   },
   {
    "duration": -897,
    "start_time": "2022-03-07T17:26:49.486Z"
   },
   {
    "duration": -919,
    "start_time": "2022-03-07T17:26:49.510Z"
   },
   {
    "duration": -941,
    "start_time": "2022-03-07T17:26:49.534Z"
   },
   {
    "duration": -956,
    "start_time": "2022-03-07T17:26:49.551Z"
   },
   {
    "duration": -1029,
    "start_time": "2022-03-07T17:26:49.626Z"
   },
   {
    "duration": -1068,
    "start_time": "2022-03-07T17:26:49.667Z"
   },
   {
    "duration": -1073,
    "start_time": "2022-03-07T17:26:49.675Z"
   },
   {
    "duration": -1078,
    "start_time": "2022-03-07T17:26:49.682Z"
   },
   {
    "duration": -1129,
    "start_time": "2022-03-07T17:26:49.736Z"
   },
   {
    "duration": -1134,
    "start_time": "2022-03-07T17:26:49.743Z"
   },
   {
    "duration": -1138,
    "start_time": "2022-03-07T17:26:49.749Z"
   },
   {
    "duration": -1169,
    "start_time": "2022-03-07T17:26:49.781Z"
   },
   {
    "duration": -1173,
    "start_time": "2022-03-07T17:26:49.787Z"
   },
   {
    "duration": -1180,
    "start_time": "2022-03-07T17:26:49.795Z"
   },
   {
    "duration": -1185,
    "start_time": "2022-03-07T17:26:49.801Z"
   },
   {
    "duration": -1218,
    "start_time": "2022-03-07T17:26:49.836Z"
   },
   {
    "duration": -1222,
    "start_time": "2022-03-07T17:26:49.841Z"
   },
   {
    "duration": -1232,
    "start_time": "2022-03-07T17:26:49.852Z"
   },
   {
    "duration": -1279,
    "start_time": "2022-03-07T17:26:49.901Z"
   },
   {
    "duration": -1310,
    "start_time": "2022-03-07T17:26:49.933Z"
   },
   {
    "duration": -1316,
    "start_time": "2022-03-07T17:26:49.940Z"
   },
   {
    "duration": -1285,
    "start_time": "2022-03-07T17:26:49.958Z"
   },
   {
    "duration": 11,
    "start_time": "2022-03-07T17:27:51.253Z"
   },
   {
    "duration": 24,
    "start_time": "2022-03-07T17:28:10.517Z"
   },
   {
    "duration": 750,
    "start_time": "2022-03-07T17:28:40.625Z"
   },
   {
    "duration": 24,
    "start_time": "2022-03-07T17:28:46.988Z"
   },
   {
    "duration": 1662,
    "start_time": "2022-03-07T17:29:59.208Z"
   },
   {
    "duration": 217,
    "start_time": "2022-03-07T17:30:00.873Z"
   },
   {
    "duration": 22,
    "start_time": "2022-03-07T17:30:01.093Z"
   },
   {
    "duration": 25,
    "start_time": "2022-03-07T17:30:01.118Z"
   },
   {
    "duration": 68,
    "start_time": "2022-03-07T17:30:01.146Z"
   },
   {
    "duration": 4,
    "start_time": "2022-03-07T17:30:01.217Z"
   },
   {
    "duration": 56,
    "start_time": "2022-03-07T17:30:01.224Z"
   },
   {
    "duration": 34,
    "start_time": "2022-03-07T17:30:01.284Z"
   },
   {
    "duration": 62,
    "start_time": "2022-03-07T17:30:01.321Z"
   },
   {
    "duration": 16,
    "start_time": "2022-03-07T17:30:01.386Z"
   },
   {
    "duration": 19,
    "start_time": "2022-03-07T17:30:01.404Z"
   },
   {
    "duration": 45,
    "start_time": "2022-03-07T17:30:01.426Z"
   },
   {
    "duration": 31,
    "start_time": "2022-03-07T17:30:01.474Z"
   },
   {
    "duration": 11,
    "start_time": "2022-03-07T17:30:01.507Z"
   },
   {
    "duration": 30,
    "start_time": "2022-03-07T17:30:01.522Z"
   },
   {
    "duration": 40,
    "start_time": "2022-03-07T17:30:01.555Z"
   },
   {
    "duration": 9,
    "start_time": "2022-03-07T17:30:01.597Z"
   },
   {
    "duration": 26,
    "start_time": "2022-03-07T17:30:01.609Z"
   },
   {
    "duration": 54,
    "start_time": "2022-03-07T17:30:01.637Z"
   },
   {
    "duration": 521,
    "start_time": "2022-03-07T17:30:01.694Z"
   },
   {
    "duration": 35,
    "start_time": "2022-03-07T17:30:02.217Z"
   },
   {
    "duration": 25,
    "start_time": "2022-03-07T17:30:02.256Z"
   },
   {
    "duration": 40,
    "start_time": "2022-03-07T17:30:02.290Z"
   },
   {
    "duration": 31,
    "start_time": "2022-03-07T17:30:02.333Z"
   },
   {
    "duration": 782,
    "start_time": "2022-03-07T17:30:02.366Z"
   },
   {
    "duration": 25,
    "start_time": "2022-03-07T17:30:03.150Z"
   },
   {
    "duration": 34,
    "start_time": "2022-03-07T17:30:03.178Z"
   },
   {
    "duration": 1214,
    "start_time": "2022-03-07T17:30:03.216Z"
   },
   {
    "duration": 47,
    "start_time": "2022-03-07T17:30:04.433Z"
   },
   {
    "duration": 26,
    "start_time": "2022-03-07T17:30:04.483Z"
   },
   {
    "duration": 8349,
    "start_time": "2022-03-07T17:30:04.513Z"
   },
   {
    "duration": 14,
    "start_time": "2022-03-07T17:30:12.865Z"
   },
   {
    "duration": 20,
    "start_time": "2022-03-07T17:30:12.882Z"
   },
   {
    "duration": 68,
    "start_time": "2022-03-07T17:30:12.905Z"
   },
   {
    "duration": 19,
    "start_time": "2022-03-07T17:30:12.976Z"
   },
   {
    "duration": 563,
    "start_time": "2022-03-07T17:30:12.997Z"
   },
   {
    "duration": 296,
    "start_time": "2022-03-07T17:30:13.563Z"
   },
   {
    "duration": 285,
    "start_time": "2022-03-07T17:30:13.861Z"
   },
   {
    "duration": 297,
    "start_time": "2022-03-07T17:30:14.148Z"
   },
   {
    "duration": 289,
    "start_time": "2022-03-07T17:30:14.448Z"
   },
   {
    "duration": 300,
    "start_time": "2022-03-07T17:30:14.740Z"
   },
   {
    "duration": 295,
    "start_time": "2022-03-07T17:30:15.043Z"
   },
   {
    "duration": 371,
    "start_time": "2022-03-07T17:30:15.340Z"
   },
   {
    "duration": 459,
    "start_time": "2022-03-07T17:30:15.714Z"
   },
   {
    "duration": 1125,
    "start_time": "2022-03-07T17:30:16.176Z"
   },
   {
    "duration": 22,
    "start_time": "2022-03-07T17:30:17.304Z"
   },
   {
    "duration": 1123,
    "start_time": "2022-03-07T17:30:17.329Z"
   },
   {
    "duration": 32,
    "start_time": "2022-03-07T17:30:18.454Z"
   },
   {
    "duration": 1295,
    "start_time": "2022-03-07T17:32:14.515Z"
   },
   {
    "duration": 798,
    "start_time": "2022-03-07T17:34:28.547Z"
   },
   {
    "duration": 1569,
    "start_time": "2022-03-07T17:34:50.579Z"
   },
   {
    "duration": 442,
    "start_time": "2022-03-07T17:35:51.223Z"
   },
   {
    "duration": 105,
    "start_time": "2022-03-07T17:45:24.049Z"
   },
   {
    "duration": 1629,
    "start_time": "2022-03-07T17:50:36.763Z"
   },
   {
    "duration": 135,
    "start_time": "2022-03-07T17:50:38.395Z"
   },
   {
    "duration": 23,
    "start_time": "2022-03-07T17:50:38.534Z"
   },
   {
    "duration": 24,
    "start_time": "2022-03-07T17:50:38.560Z"
   },
   {
    "duration": 43,
    "start_time": "2022-03-07T17:50:38.587Z"
   },
   {
    "duration": 5,
    "start_time": "2022-03-07T17:50:38.633Z"
   },
   {
    "duration": 53,
    "start_time": "2022-03-07T17:50:38.641Z"
   },
   {
    "duration": 34,
    "start_time": "2022-03-07T17:50:38.698Z"
   },
   {
    "duration": 60,
    "start_time": "2022-03-07T17:50:38.735Z"
   },
   {
    "duration": 16,
    "start_time": "2022-03-07T17:50:38.797Z"
   },
   {
    "duration": 27,
    "start_time": "2022-03-07T17:50:38.816Z"
   },
   {
    "duration": 28,
    "start_time": "2022-03-07T17:50:38.845Z"
   },
   {
    "duration": 33,
    "start_time": "2022-03-07T17:50:38.876Z"
   },
   {
    "duration": 11,
    "start_time": "2022-03-07T17:50:38.911Z"
   },
   {
    "duration": 19,
    "start_time": "2022-03-07T17:50:38.924Z"
   },
   {
    "duration": 35,
    "start_time": "2022-03-07T17:50:38.946Z"
   },
   {
    "duration": 21,
    "start_time": "2022-03-07T17:50:38.983Z"
   },
   {
    "duration": 17,
    "start_time": "2022-03-07T17:50:39.006Z"
   },
   {
    "duration": 53,
    "start_time": "2022-03-07T17:50:39.025Z"
   },
   {
    "duration": 496,
    "start_time": "2022-03-07T17:50:39.081Z"
   },
   {
    "duration": 26,
    "start_time": "2022-03-07T17:50:39.580Z"
   },
   {
    "duration": 11,
    "start_time": "2022-03-07T17:50:39.608Z"
   },
   {
    "duration": 13,
    "start_time": "2022-03-07T17:50:39.625Z"
   },
   {
    "duration": 33,
    "start_time": "2022-03-07T17:50:39.641Z"
   },
   {
    "duration": 734,
    "start_time": "2022-03-07T17:50:39.676Z"
   },
   {
    "duration": 11,
    "start_time": "2022-03-07T17:50:40.412Z"
   },
   {
    "duration": 8,
    "start_time": "2022-03-07T17:50:40.426Z"
   },
   {
    "duration": 781,
    "start_time": "2022-03-07T17:50:40.437Z"
   },
   {
    "duration": 22,
    "start_time": "2022-03-07T17:50:41.222Z"
   },
   {
    "duration": 36,
    "start_time": "2022-03-07T17:50:41.247Z"
   },
   {
    "duration": 5208,
    "start_time": "2022-03-07T17:50:41.285Z"
   },
   {
    "duration": 8,
    "start_time": "2022-03-07T17:50:46.496Z"
   },
   {
    "duration": 8,
    "start_time": "2022-03-07T17:50:46.507Z"
   },
   {
    "duration": 73,
    "start_time": "2022-03-07T17:50:46.518Z"
   },
   {
    "duration": 16,
    "start_time": "2022-03-07T17:50:46.594Z"
   },
   {
    "duration": 555,
    "start_time": "2022-03-07T17:50:46.613Z"
   },
   {
    "duration": 294,
    "start_time": "2022-03-07T17:50:47.173Z"
   },
   {
    "duration": 282,
    "start_time": "2022-03-07T17:50:47.473Z"
   },
   {
    "duration": 289,
    "start_time": "2022-03-07T17:50:47.757Z"
   },
   {
    "duration": 298,
    "start_time": "2022-03-07T17:50:48.049Z"
   },
   {
    "duration": 308,
    "start_time": "2022-03-07T17:50:48.350Z"
   },
   {
    "duration": 304,
    "start_time": "2022-03-07T17:50:48.660Z"
   },
   {
    "duration": 380,
    "start_time": "2022-03-07T17:50:48.967Z"
   },
   {
    "duration": 484,
    "start_time": "2022-03-07T17:50:49.349Z"
   },
   {
    "duration": 1125,
    "start_time": "2022-03-07T17:50:49.835Z"
   },
   {
    "duration": 23,
    "start_time": "2022-03-07T17:50:50.963Z"
   },
   {
    "duration": 1069,
    "start_time": "2022-03-07T17:50:50.989Z"
   },
   {
    "duration": 26,
    "start_time": "2022-03-07T17:50:52.060Z"
   },
   {
    "duration": 101,
    "start_time": "2022-03-07T18:39:38.563Z"
   },
   {
    "duration": 907,
    "start_time": "2022-03-07T18:39:58.138Z"
   },
   {
    "duration": 839,
    "start_time": "2022-03-07T18:40:05.309Z"
   },
   {
    "duration": 6,
    "start_time": "2022-03-07T18:42:19.763Z"
   },
   {
    "duration": 1552,
    "start_time": "2022-03-07T19:15:00.232Z"
   },
   {
    "duration": 141,
    "start_time": "2022-03-07T19:15:01.787Z"
   },
   {
    "duration": 42,
    "start_time": "2022-03-07T19:15:01.932Z"
   },
   {
    "duration": 17,
    "start_time": "2022-03-07T19:15:01.978Z"
   },
   {
    "duration": 88,
    "start_time": "2022-03-07T19:15:01.998Z"
   },
   {
    "duration": 4,
    "start_time": "2022-03-07T19:15:02.089Z"
   },
   {
    "duration": 33,
    "start_time": "2022-03-07T19:15:02.096Z"
   },
   {
    "duration": 61,
    "start_time": "2022-03-07T19:15:02.133Z"
   },
   {
    "duration": 108,
    "start_time": "2022-03-07T19:15:02.199Z"
   },
   {
    "duration": 22,
    "start_time": "2022-03-07T19:15:02.310Z"
   },
   {
    "duration": 36,
    "start_time": "2022-03-07T19:15:02.337Z"
   },
   {
    "duration": 21,
    "start_time": "2022-03-07T19:15:02.377Z"
   },
   {
    "duration": 24,
    "start_time": "2022-03-07T19:15:02.400Z"
   },
   {
    "duration": 519,
    "start_time": "2022-03-07T19:15:02.427Z"
   },
   {
    "duration": -1381,
    "start_time": "2022-03-07T19:15:04.331Z"
   },
   {
    "duration": -1391,
    "start_time": "2022-03-07T19:15:04.343Z"
   },
   {
    "duration": -1397,
    "start_time": "2022-03-07T19:15:04.351Z"
   },
   {
    "duration": -1406,
    "start_time": "2022-03-07T19:15:04.361Z"
   },
   {
    "duration": -1411,
    "start_time": "2022-03-07T19:15:04.368Z"
   },
   {
    "duration": -1419,
    "start_time": "2022-03-07T19:15:04.377Z"
   },
   {
    "duration": -1427,
    "start_time": "2022-03-07T19:15:04.386Z"
   },
   {
    "duration": -1434,
    "start_time": "2022-03-07T19:15:04.394Z"
   },
   {
    "duration": -1441,
    "start_time": "2022-03-07T19:15:04.403Z"
   },
   {
    "duration": -1449,
    "start_time": "2022-03-07T19:15:04.412Z"
   },
   {
    "duration": -1470,
    "start_time": "2022-03-07T19:15:04.435Z"
   },
   {
    "duration": -1479,
    "start_time": "2022-03-07T19:15:04.445Z"
   },
   {
    "duration": -1491,
    "start_time": "2022-03-07T19:15:04.458Z"
   },
   {
    "duration": -1499,
    "start_time": "2022-03-07T19:15:04.467Z"
   },
   {
    "duration": -1507,
    "start_time": "2022-03-07T19:15:04.477Z"
   },
   {
    "duration": -1513,
    "start_time": "2022-03-07T19:15:04.484Z"
   },
   {
    "duration": -1519,
    "start_time": "2022-03-07T19:15:04.491Z"
   },
   {
    "duration": -1526,
    "start_time": "2022-03-07T19:15:04.500Z"
   },
   {
    "duration": -1533,
    "start_time": "2022-03-07T19:15:04.508Z"
   },
   {
    "duration": -1545,
    "start_time": "2022-03-07T19:15:04.521Z"
   },
   {
    "duration": -1552,
    "start_time": "2022-03-07T19:15:04.529Z"
   },
   {
    "duration": -1566,
    "start_time": "2022-03-07T19:15:04.544Z"
   },
   {
    "duration": -1571,
    "start_time": "2022-03-07T19:15:04.551Z"
   },
   {
    "duration": -1578,
    "start_time": "2022-03-07T19:15:04.559Z"
   },
   {
    "duration": -1585,
    "start_time": "2022-03-07T19:15:04.567Z"
   },
   {
    "duration": -1593,
    "start_time": "2022-03-07T19:15:04.577Z"
   },
   {
    "duration": -1603,
    "start_time": "2022-03-07T19:15:04.588Z"
   },
   {
    "duration": -1609,
    "start_time": "2022-03-07T19:15:04.595Z"
   },
   {
    "duration": -1645,
    "start_time": "2022-03-07T19:15:04.633Z"
   },
   {
    "duration": -1675,
    "start_time": "2022-03-07T19:15:04.664Z"
   },
   {
    "duration": -1710,
    "start_time": "2022-03-07T19:15:04.700Z"
   },
   {
    "duration": -1752,
    "start_time": "2022-03-07T19:15:04.743Z"
   },
   {
    "duration": -1804,
    "start_time": "2022-03-07T19:15:04.797Z"
   },
   {
    "duration": -1811,
    "start_time": "2022-03-07T19:15:04.805Z"
   },
   {
    "duration": -1840,
    "start_time": "2022-03-07T19:15:04.835Z"
   },
   {
    "duration": -1860,
    "start_time": "2022-03-07T19:15:04.856Z"
   },
   {
    "duration": -1878,
    "start_time": "2022-03-07T19:15:04.876Z"
   },
   {
    "duration": -1896,
    "start_time": "2022-03-07T19:15:04.895Z"
   },
   {
    "duration": 1748,
    "start_time": "2022-03-07T19:17:13.014Z"
   },
   {
    "duration": 121,
    "start_time": "2022-03-07T19:17:14.765Z"
   },
   {
    "duration": 21,
    "start_time": "2022-03-07T19:17:14.889Z"
   },
   {
    "duration": 14,
    "start_time": "2022-03-07T19:17:14.913Z"
   },
   {
    "duration": 71,
    "start_time": "2022-03-07T19:17:14.930Z"
   },
   {
    "duration": 6,
    "start_time": "2022-03-07T19:17:15.004Z"
   },
   {
    "duration": 74,
    "start_time": "2022-03-07T19:17:15.013Z"
   },
   {
    "duration": 28,
    "start_time": "2022-03-07T19:17:15.092Z"
   },
   {
    "duration": 75,
    "start_time": "2022-03-07T19:17:15.124Z"
   },
   {
    "duration": 20,
    "start_time": "2022-03-07T19:17:15.202Z"
   },
   {
    "duration": 47,
    "start_time": "2022-03-07T19:17:15.226Z"
   },
   {
    "duration": 19,
    "start_time": "2022-03-07T19:17:15.277Z"
   },
   {
    "duration": 13,
    "start_time": "2022-03-07T19:17:15.299Z"
   },
   {
    "duration": 78,
    "start_time": "2022-03-07T19:17:15.315Z"
   },
   {
    "duration": 3,
    "start_time": "2022-03-07T19:17:15.396Z"
   },
   {
    "duration": 20,
    "start_time": "2022-03-07T19:17:15.401Z"
   },
   {
    "duration": 8,
    "start_time": "2022-03-07T19:17:15.423Z"
   },
   {
    "duration": 7,
    "start_time": "2022-03-07T19:17:15.474Z"
   },
   {
    "duration": 41,
    "start_time": "2022-03-07T19:17:15.484Z"
   },
   {
    "duration": 548,
    "start_time": "2022-03-07T19:17:15.528Z"
   },
   {
    "duration": 32,
    "start_time": "2022-03-07T19:17:16.079Z"
   },
   {
    "duration": 9,
    "start_time": "2022-03-07T19:17:16.115Z"
   },
   {
    "duration": 50,
    "start_time": "2022-03-07T19:17:16.133Z"
   },
   {
    "duration": 4,
    "start_time": "2022-03-07T19:17:16.186Z"
   },
   {
    "duration": 8,
    "start_time": "2022-03-07T19:17:16.193Z"
   },
   {
    "duration": 805,
    "start_time": "2022-03-07T19:17:16.203Z"
   },
   {
    "duration": 13,
    "start_time": "2022-03-07T19:17:17.011Z"
   },
   {
    "duration": 12,
    "start_time": "2022-03-07T19:17:17.027Z"
   },
   {
    "duration": 37,
    "start_time": "2022-03-07T19:17:17.044Z"
   },
   {
    "duration": 792,
    "start_time": "2022-03-07T19:17:17.083Z"
   },
   {
    "duration": 25,
    "start_time": "2022-03-07T19:17:17.878Z"
   },
   {
    "duration": 47,
    "start_time": "2022-03-07T19:17:17.906Z"
   },
   {
    "duration": 6001,
    "start_time": "2022-03-07T19:17:17.955Z"
   },
   {
    "duration": 19,
    "start_time": "2022-03-07T19:17:23.959Z"
   },
   {
    "duration": 19,
    "start_time": "2022-03-07T19:17:23.980Z"
   },
   {
    "duration": 76,
    "start_time": "2022-03-07T19:17:24.002Z"
   },
   {
    "duration": 17,
    "start_time": "2022-03-07T19:17:24.081Z"
   },
   {
    "duration": 551,
    "start_time": "2022-03-07T19:17:24.100Z"
   },
   {
    "duration": 307,
    "start_time": "2022-03-07T19:17:24.654Z"
   },
   {
    "duration": 297,
    "start_time": "2022-03-07T19:17:24.972Z"
   },
   {
    "duration": 288,
    "start_time": "2022-03-07T19:17:25.273Z"
   },
   {
    "duration": 3,
    "start_time": "2022-03-07T19:17:25.564Z"
   },
   {
    "duration": 305,
    "start_time": "2022-03-07T19:17:25.573Z"
   },
   {
    "duration": 299,
    "start_time": "2022-03-07T19:17:25.880Z"
   },
   {
    "duration": 301,
    "start_time": "2022-03-07T19:17:26.181Z"
   },
   {
    "duration": 376,
    "start_time": "2022-03-07T19:17:26.485Z"
   },
   {
    "duration": 3,
    "start_time": "2022-03-07T19:17:26.864Z"
   },
   {
    "duration": 478,
    "start_time": "2022-03-07T19:17:26.874Z"
   },
   {
    "duration": 1224,
    "start_time": "2022-03-07T19:17:27.355Z"
   },
   {
    "duration": 18,
    "start_time": "2022-03-07T19:17:28.581Z"
   },
   {
    "duration": 1079,
    "start_time": "2022-03-07T19:17:28.601Z"
   },
   {
    "duration": 17,
    "start_time": "2022-03-07T19:17:29.683Z"
   },
   {
    "duration": 1625,
    "start_time": "2022-03-07T19:27:02.562Z"
   },
   {
    "duration": 175,
    "start_time": "2022-03-07T19:27:04.190Z"
   },
   {
    "duration": 22,
    "start_time": "2022-03-07T19:27:04.368Z"
   },
   {
    "duration": 21,
    "start_time": "2022-03-07T19:27:04.392Z"
   },
   {
    "duration": 81,
    "start_time": "2022-03-07T19:27:04.415Z"
   },
   {
    "duration": 5,
    "start_time": "2022-03-07T19:27:04.498Z"
   },
   {
    "duration": 35,
    "start_time": "2022-03-07T19:27:04.505Z"
   },
   {
    "duration": 53,
    "start_time": "2022-03-07T19:27:04.544Z"
   },
   {
    "duration": 43,
    "start_time": "2022-03-07T19:27:04.600Z"
   },
   {
    "duration": 40,
    "start_time": "2022-03-07T19:27:04.645Z"
   },
   {
    "duration": 8,
    "start_time": "2022-03-07T19:27:04.687Z"
   },
   {
    "duration": 20,
    "start_time": "2022-03-07T19:27:04.698Z"
   },
   {
    "duration": 13,
    "start_time": "2022-03-07T19:27:04.721Z"
   },
   {
    "duration": 22,
    "start_time": "2022-03-07T19:27:04.775Z"
   },
   {
    "duration": 6,
    "start_time": "2022-03-07T19:27:04.800Z"
   },
   {
    "duration": 33,
    "start_time": "2022-03-07T19:27:04.808Z"
   },
   {
    "duration": 9,
    "start_time": "2022-03-07T19:27:04.873Z"
   },
   {
    "duration": 13,
    "start_time": "2022-03-07T19:27:04.884Z"
   },
   {
    "duration": 55,
    "start_time": "2022-03-07T19:27:04.900Z"
   },
   {
    "duration": 493,
    "start_time": "2022-03-07T19:27:04.973Z"
   },
   {
    "duration": 27,
    "start_time": "2022-03-07T19:27:05.469Z"
   },
   {
    "duration": 6,
    "start_time": "2022-03-07T19:27:05.499Z"
   },
   {
    "duration": 23,
    "start_time": "2022-03-07T19:27:05.510Z"
   },
   {
    "duration": 4,
    "start_time": "2022-03-07T19:27:05.572Z"
   },
   {
    "duration": 728,
    "start_time": "2022-03-07T19:27:05.578Z"
   },
   {
    "duration": 11,
    "start_time": "2022-03-07T19:27:06.309Z"
   },
   {
    "duration": 9,
    "start_time": "2022-03-07T19:27:06.322Z"
   },
   {
    "duration": 781,
    "start_time": "2022-03-07T19:27:06.334Z"
   },
   {
    "duration": 24,
    "start_time": "2022-03-07T19:27:07.118Z"
   },
   {
    "duration": 46,
    "start_time": "2022-03-07T19:27:07.145Z"
   },
   {
    "duration": 5497,
    "start_time": "2022-03-07T19:27:07.194Z"
   },
   {
    "duration": 10,
    "start_time": "2022-03-07T19:27:12.693Z"
   },
   {
    "duration": 9,
    "start_time": "2022-03-07T19:27:12.706Z"
   },
   {
    "duration": 81,
    "start_time": "2022-03-07T19:27:12.717Z"
   },
   {
    "duration": 17,
    "start_time": "2022-03-07T19:27:12.800Z"
   },
   {
    "duration": 579,
    "start_time": "2022-03-07T19:27:12.820Z"
   },
   {
    "duration": 306,
    "start_time": "2022-03-07T19:27:13.401Z"
   },
   {
    "duration": 311,
    "start_time": "2022-03-07T19:27:13.709Z"
   },
   {
    "duration": 305,
    "start_time": "2022-03-07T19:27:14.024Z"
   },
   {
    "duration": 297,
    "start_time": "2022-03-07T19:27:14.332Z"
   },
   {
    "duration": 305,
    "start_time": "2022-03-07T19:27:14.632Z"
   },
   {
    "duration": 305,
    "start_time": "2022-03-07T19:27:14.940Z"
   },
   {
    "duration": 397,
    "start_time": "2022-03-07T19:27:15.247Z"
   },
   {
    "duration": 469,
    "start_time": "2022-03-07T19:27:15.646Z"
   },
   {
    "duration": 1136,
    "start_time": "2022-03-07T19:27:16.117Z"
   },
   {
    "duration": 32,
    "start_time": "2022-03-07T19:27:17.257Z"
   },
   {
    "duration": 1090,
    "start_time": "2022-03-07T19:27:17.291Z"
   },
   {
    "duration": 21,
    "start_time": "2022-03-07T19:27:18.383Z"
   },
   {
    "duration": 1516,
    "start_time": "2022-03-07T19:34:48.455Z"
   },
   {
    "duration": 152,
    "start_time": "2022-03-07T19:34:49.974Z"
   },
   {
    "duration": 22,
    "start_time": "2022-03-07T19:34:50.129Z"
   },
   {
    "duration": 26,
    "start_time": "2022-03-07T19:34:50.154Z"
   },
   {
    "duration": 41,
    "start_time": "2022-03-07T19:34:50.183Z"
   },
   {
    "duration": 3,
    "start_time": "2022-03-07T19:34:50.227Z"
   },
   {
    "duration": 64,
    "start_time": "2022-03-07T19:34:50.233Z"
   },
   {
    "duration": 25,
    "start_time": "2022-03-07T19:34:50.301Z"
   },
   {
    "duration": 74,
    "start_time": "2022-03-07T19:34:50.329Z"
   },
   {
    "duration": 15,
    "start_time": "2022-03-07T19:34:50.406Z"
   },
   {
    "duration": 5,
    "start_time": "2022-03-07T19:34:50.423Z"
   },
   {
    "duration": 55,
    "start_time": "2022-03-07T19:34:50.431Z"
   },
   {
    "duration": 10,
    "start_time": "2022-03-07T19:34:50.489Z"
   },
   {
    "duration": 32,
    "start_time": "2022-03-07T19:34:50.501Z"
   },
   {
    "duration": 38,
    "start_time": "2022-03-07T19:34:50.535Z"
   },
   {
    "duration": 20,
    "start_time": "2022-03-07T19:34:50.576Z"
   },
   {
    "duration": 9,
    "start_time": "2022-03-07T19:34:50.598Z"
   },
   {
    "duration": 11,
    "start_time": "2022-03-07T19:34:50.609Z"
   },
   {
    "duration": 85,
    "start_time": "2022-03-07T19:34:50.622Z"
   },
   {
    "duration": 506,
    "start_time": "2022-03-07T19:34:50.709Z"
   },
   {
    "duration": 27,
    "start_time": "2022-03-07T19:34:51.217Z"
   },
   {
    "duration": 29,
    "start_time": "2022-03-07T19:34:51.246Z"
   },
   {
    "duration": 14,
    "start_time": "2022-03-07T19:34:51.280Z"
   },
   {
    "duration": 3,
    "start_time": "2022-03-07T19:34:51.297Z"
   },
   {
    "duration": 743,
    "start_time": "2022-03-07T19:34:51.303Z"
   },
   {
    "duration": 26,
    "start_time": "2022-03-07T19:34:52.049Z"
   },
   {
    "duration": 12,
    "start_time": "2022-03-07T19:34:52.077Z"
   },
   {
    "duration": 764,
    "start_time": "2022-03-07T19:34:52.091Z"
   },
   {
    "duration": 35,
    "start_time": "2022-03-07T19:34:52.858Z"
   },
   {
    "duration": 33,
    "start_time": "2022-03-07T19:34:52.896Z"
   },
   {
    "duration": 5445,
    "start_time": "2022-03-07T19:34:52.932Z"
   },
   {
    "duration": 8,
    "start_time": "2022-03-07T19:34:58.380Z"
   },
   {
    "duration": 11,
    "start_time": "2022-03-07T19:34:58.390Z"
   },
   {
    "duration": 78,
    "start_time": "2022-03-07T19:34:58.403Z"
   },
   {
    "duration": 16,
    "start_time": "2022-03-07T19:34:58.483Z"
   },
   {
    "duration": 540,
    "start_time": "2022-03-07T19:34:58.502Z"
   },
   {
    "duration": 299,
    "start_time": "2022-03-07T19:34:59.045Z"
   },
   {
    "duration": 285,
    "start_time": "2022-03-07T19:34:59.347Z"
   },
   {
    "duration": 287,
    "start_time": "2022-03-07T19:34:59.635Z"
   },
   {
    "duration": 297,
    "start_time": "2022-03-07T19:34:59.924Z"
   },
   {
    "duration": 298,
    "start_time": "2022-03-07T19:35:00.223Z"
   },
   {
    "duration": 291,
    "start_time": "2022-03-07T19:35:00.524Z"
   },
   {
    "duration": 384,
    "start_time": "2022-03-07T19:35:00.817Z"
   },
   {
    "duration": 459,
    "start_time": "2022-03-07T19:35:01.204Z"
   },
   {
    "duration": 1133,
    "start_time": "2022-03-07T19:35:01.665Z"
   },
   {
    "duration": 17,
    "start_time": "2022-03-07T19:35:02.801Z"
   },
   {
    "duration": 1119,
    "start_time": "2022-03-07T19:35:02.821Z"
   },
   {
    "duration": 37,
    "start_time": "2022-03-07T19:35:03.943Z"
   }
  ],
  "colab": {
   "collapsed_sections": [
    "8RsqbHUeHEmu"
   ],
   "name": "1_Сборный_проект.ipynb",
   "provenance": [],
   "toc_visible": true
  },
  "kernelspec": {
   "display_name": "Python 3 (ipykernel)",
   "language": "python",
   "name": "python3"
  },
  "language_info": {
   "codemirror_mode": {
    "name": "ipython",
    "version": 3
   },
   "file_extension": ".py",
   "mimetype": "text/x-python",
   "name": "python",
   "nbconvert_exporter": "python",
   "pygments_lexer": "ipython3",
   "version": "3.9.7"
  },
  "toc": {
   "base_numbering": 1,
   "nav_menu": {},
   "number_sections": false,
   "sideBar": false,
   "skip_h1_title": true,
   "title_cell": "Table of Contents",
   "title_sidebar": "Contents",
   "toc_cell": false,
   "toc_position": {
    "height": "48.6562px",
    "left": "1692.78px",
    "top": "68.9531px",
    "width": "159.984px"
   },
   "toc_section_display": false,
   "toc_window_display": true
  }
 },
 "nbformat": 4,
 "nbformat_minor": 1
}
